{
 "cells": [
  {
   "cell_type": "markdown",
   "metadata": {},
   "source": [
    "# Проект для «Викишоп»"
   ]
  },
  {
   "cell_type": "markdown",
   "metadata": {},
   "source": [
    "Интернет-магазин «Викишоп» запускает новый сервис. Теперь пользователи могут редактировать и дополнять описания товаров, как в вики-сообществах. То есть клиенты предлагают свои правки и комментируют изменения других. Магазину нужен инструмент, который будет искать токсичные комментарии и отправлять их на модерацию. \n",
    "\n",
    "Обучите модель классифицировать комментарии на позитивные и негативные. В вашем распоряжении набор данных с разметкой о токсичности правок.\n",
    "\n",
    "Постройте модель со значением метрики качества *F1* не меньше 0.75. \n",
    "\n",
    "**Инструкция по выполнению проекта**\n",
    "\n",
    "1. Загрузите и подготовьте данные.\n",
    "2. Обучите разные модели. \n",
    "3. Сделайте выводы.\n",
    "\n",
    "Для выполнения проекта применять *BERT* необязательно, но вы можете попробовать.\n",
    "\n",
    "**Описание данных**\n",
    "\n",
    "Данные находятся в файле `toxic_comments.csv`. Столбец *text* в нём содержит текст комментария, а *toxic* — целевой признак."
   ]
  },
  {
   "cell_type": "markdown",
   "metadata": {},
   "source": [
    "## Подготовка"
   ]
  },
  {
   "cell_type": "code",
   "execution_count": 1,
   "metadata": {},
   "outputs": [],
   "source": [
    "#импорт библиотек и настройка отображения \n",
    "!pip install optuna -q"
   ]
  },
  {
   "cell_type": "code",
   "execution_count": 2,
   "metadata": {},
   "outputs": [
    {
     "name": "stderr",
     "output_type": "stream",
     "text": [
      "[nltk_data] Downloading package punkt to\n",
      "[nltk_data]     C:\\Users\\Ksenchik\\AppData\\Roaming\\nltk_data...\n",
      "[nltk_data]   Package punkt is already up-to-date!\n",
      "[nltk_data] Downloading package averaged_perceptron_tagger to\n",
      "[nltk_data]     C:\\Users\\Ksenchik\\AppData\\Roaming\\nltk_data...\n",
      "[nltk_data]   Package averaged_perceptron_tagger is already up-to-\n",
      "[nltk_data]       date!\n"
     ]
    }
   ],
   "source": [
    "#импорт библиотек и настройка отображения \n",
    "import warnings\n",
    "warnings.filterwarnings('ignore')\n",
    "import pandas as pd\n",
    "import numpy as np\n",
    "import matplotlib.pyplot as plt\n",
    "import seaborn as sns\n",
    "\n",
    "from sklearn.linear_model import LogisticRegression, LinearRegression\n",
    "from sklearn.tree import DecisionTreeClassifier\n",
    "from catboost import CatBoostClassifier\n",
    "\n",
    "from sklearn.model_selection import cross_val_score\n",
    "from sklearn.model_selection import train_test_split\n",
    "from sklearn.model_selection import RandomizedSearchCV\n",
    "\n",
    "from optuna.integration import OptunaSearchCV\n",
    "from optuna import distributions\n",
    "\n",
    "from pymystem3 import Mystem\n",
    "\n",
    "from sklearn.feature_extraction.text import CountVectorizer\n",
    "from sklearn.feature_extraction.text import TfidfVectorizer\n",
    "\n",
    "from sklearn.neighbors import KNeighborsClassifier\n",
    "\n",
    "from sklearn import svm\n",
    "from sklearn.svm import SVC \n",
    "\n",
    "from sklearn.pipeline import Pipeline\n",
    "\n",
    "from nltk.corpus import stopwords as nltk_stopwords\n",
    "import nltk\n",
    "\n",
    "import re\n",
    "\n",
    "from nltk.stem import WordNetLemmatizer\n",
    "from nltk.tokenize import word_tokenize\n",
    "from nltk.corpus import wordnet\n",
    "\n",
    "nltk.download('punkt')\n",
    "nltk.download('averaged_perceptron_tagger')\n",
    "\n",
    "from sklearn.metrics import f1_score\n",
    "\n",
    "pd.set_option('display.max_columns', None)\n",
    "pd.set_option('display.max_colwidth', None)\n",
    "\n",
    "pd.options.display.float_format = '{:.2f}'.format\n",
    "\n",
    "RANDOM_STATE = 42\n",
    "TEST_SIZE = 0.25"
   ]
  },
  {
   "cell_type": "code",
   "execution_count": 3,
   "metadata": {},
   "outputs": [],
   "source": [
    "# загрузка данных\n",
    "try:\n",
    "    comment = pd.read_csv('/datasets/toxic_comments.csv')\n",
    "except:\n",
    "    comment = pd.read_csv('toxic_comments.csv')"
   ]
  },
  {
   "cell_type": "code",
   "execution_count": 4,
   "metadata": {},
   "outputs": [
    {
     "data": {
      "text/html": [
       "<div>\n",
       "<style scoped>\n",
       "    .dataframe tbody tr th:only-of-type {\n",
       "        vertical-align: middle;\n",
       "    }\n",
       "\n",
       "    .dataframe tbody tr th {\n",
       "        vertical-align: top;\n",
       "    }\n",
       "\n",
       "    .dataframe thead th {\n",
       "        text-align: right;\n",
       "    }\n",
       "</style>\n",
       "<table border=\"1\" class=\"dataframe\">\n",
       "  <thead>\n",
       "    <tr style=\"text-align: right;\">\n",
       "      <th></th>\n",
       "      <th>Unnamed: 0</th>\n",
       "      <th>text</th>\n",
       "      <th>toxic</th>\n",
       "    </tr>\n",
       "  </thead>\n",
       "  <tbody>\n",
       "    <tr>\n",
       "      <th>0</th>\n",
       "      <td>0</td>\n",
       "      <td>Explanation\\nWhy the edits made under my username Hardcore Metallica Fan were reverted? They weren't vandalisms, just closure on some GAs after I voted at New York Dolls FAC. And please don't remove the template from the talk page since I'm retired now.89.205.38.27</td>\n",
       "      <td>0</td>\n",
       "    </tr>\n",
       "    <tr>\n",
       "      <th>1</th>\n",
       "      <td>1</td>\n",
       "      <td>D'aww! He matches this background colour I'm seemingly stuck with. Thanks.  (talk) 21:51, January 11, 2016 (UTC)</td>\n",
       "      <td>0</td>\n",
       "    </tr>\n",
       "    <tr>\n",
       "      <th>2</th>\n",
       "      <td>2</td>\n",
       "      <td>Hey man, I'm really not trying to edit war. It's just that this guy is constantly removing relevant information and talking to me through edits instead of my talk page. He seems to care more about the formatting than the actual info.</td>\n",
       "      <td>0</td>\n",
       "    </tr>\n",
       "    <tr>\n",
       "      <th>3</th>\n",
       "      <td>3</td>\n",
       "      <td>\"\\nMore\\nI can't make any real suggestions on improvement - I wondered if the section statistics should be later on, or a subsection of \"\"types of accidents\"\"  -I think the references may need tidying so that they are all in the exact same format ie date format etc. I can do that later on, if no-one else does first - if you have any preferences for formatting style on references or want to do it yourself please let me know.\\n\\nThere appears to be a backlog on articles for review so I guess there may be a delay until a reviewer turns up. It's listed in the relevant form eg Wikipedia:Good_article_nominations#Transport  \"</td>\n",
       "      <td>0</td>\n",
       "    </tr>\n",
       "    <tr>\n",
       "      <th>4</th>\n",
       "      <td>4</td>\n",
       "      <td>You, sir, are my hero. Any chance you remember what page that's on?</td>\n",
       "      <td>0</td>\n",
       "    </tr>\n",
       "  </tbody>\n",
       "</table>\n",
       "</div>"
      ],
      "text/plain": [
       "   Unnamed: 0  \\\n",
       "0           0   \n",
       "1           1   \n",
       "2           2   \n",
       "3           3   \n",
       "4           4   \n",
       "\n",
       "                                                                                                                                                                                                                                                                                                                                                                                                                                                                                                                                                                                                                                                 text  \\\n",
       "0                                                                                                                                                                                                                                                                                                                                                                           Explanation\\nWhy the edits made under my username Hardcore Metallica Fan were reverted? They weren't vandalisms, just closure on some GAs after I voted at New York Dolls FAC. And please don't remove the template from the talk page since I'm retired now.89.205.38.27   \n",
       "1                                                                                                                                                                                                                                                                                                                                                                                                                                                                                                                                    D'aww! He matches this background colour I'm seemingly stuck with. Thanks.  (talk) 21:51, January 11, 2016 (UTC)   \n",
       "2                                                                                                                                                                                                                                                                                                                                                                                                           Hey man, I'm really not trying to edit war. It's just that this guy is constantly removing relevant information and talking to me through edits instead of my talk page. He seems to care more about the formatting than the actual info.   \n",
       "3  \"\\nMore\\nI can't make any real suggestions on improvement - I wondered if the section statistics should be later on, or a subsection of \"\"types of accidents\"\"  -I think the references may need tidying so that they are all in the exact same format ie date format etc. I can do that later on, if no-one else does first - if you have any preferences for formatting style on references or want to do it yourself please let me know.\\n\\nThere appears to be a backlog on articles for review so I guess there may be a delay until a reviewer turns up. It's listed in the relevant form eg Wikipedia:Good_article_nominations#Transport  \"   \n",
       "4                                                                                                                                                                                                                                                                                                                                                                                                                                                                                                                                                                                 You, sir, are my hero. Any chance you remember what page that's on?   \n",
       "\n",
       "   toxic  \n",
       "0      0  \n",
       "1      0  \n",
       "2      0  \n",
       "3      0  \n",
       "4      0  "
      ]
     },
     "execution_count": 4,
     "metadata": {},
     "output_type": "execute_result"
    }
   ],
   "source": [
    "# посмотрим на содержание\n",
    "comment.head()"
   ]
  },
  {
   "cell_type": "code",
   "execution_count": 5,
   "metadata": {},
   "outputs": [
    {
     "name": "stdout",
     "output_type": "stream",
     "text": [
      "<class 'pandas.core.frame.DataFrame'>\n",
      "RangeIndex: 159292 entries, 0 to 159291\n",
      "Data columns (total 3 columns):\n",
      " #   Column      Non-Null Count   Dtype \n",
      "---  ------      --------------   ----- \n",
      " 0   Unnamed: 0  159292 non-null  int64 \n",
      " 1   text        159292 non-null  object\n",
      " 2   toxic       159292 non-null  int64 \n",
      "dtypes: int64(2), object(1)\n",
      "memory usage: 3.6+ MB\n",
      "None\n",
      "Дублей: \n",
      " 0\n",
      "Пустых: \n",
      " Unnamed: 0    0\n",
      "text          0\n",
      "toxic         0\n",
      "dtype: int64\n",
      "Размер: \n",
      " (159292, 3)\n"
     ]
    }
   ],
   "source": [
    "print(comment.info())\n",
    "print('Дублей: \\n', comment.duplicated().sum())\n",
    "print('Пустых: \\n', comment.isna().sum())\n",
    "print('Размер: \\n', comment.shape)"
   ]
  },
  {
   "cell_type": "code",
   "execution_count": 6,
   "metadata": {},
   "outputs": [],
   "source": [
    "#столбец Unnamed не может быть индексом - отсутствуют значения 6080-6083. Удалим его\n",
    "comment = comment[['text', 'toxic']]"
   ]
  },
  {
   "cell_type": "markdown",
   "metadata": {},
   "source": [
    "Итак, в нашем файле 2 столбца - целевой признак и сам текст комментария. Пропуски и дубли отсутствуют. Комментарии даны на английском языке. "
   ]
  },
  {
   "cell_type": "markdown",
   "metadata": {},
   "source": [
    "Посмотрим, как распределен целевой признак."
   ]
  },
  {
   "cell_type": "code",
   "execution_count": 7,
   "metadata": {
    "scrolled": true
   },
   "outputs": [
    {
     "data": {
      "text/plain": [
       "0    143106\n",
       "1     16186\n",
       "Name: toxic, dtype: int64"
      ]
     },
     "execution_count": 7,
     "metadata": {},
     "output_type": "execute_result"
    }
   ],
   "source": [
    "comment['toxic'].value_counts()"
   ]
  },
  {
   "cell_type": "code",
   "execution_count": 8,
   "metadata": {},
   "outputs": [
    {
     "data": {
      "text/plain": [
       "0.10161213369158527"
      ]
     },
     "execution_count": 8,
     "metadata": {},
     "output_type": "execute_result"
    }
   ],
   "source": [
    "# доля токсичных комментариев\n",
    "len(comment[comment['toxic'] == 1]) / comment.shape[0]"
   ]
  },
  {
   "cell_type": "markdown",
   "metadata": {},
   "source": [
    "Нужно будет учесть дисбаланс классов при обучении.\n"
   ]
  },
  {
   "cell_type": "markdown",
   "metadata": {},
   "source": [
    "Подготовим данные для работы с моделью логистической регрессии."
   ]
  },
  {
   "cell_type": "code",
   "execution_count": 9,
   "metadata": {
    "tags": []
   },
   "outputs": [],
   "source": [
    "#создадим функцию для очистки текста от цифр и символов\n",
    "def clear_text(text):\n",
    "    clear_text = re.sub(r'[^a-zA-Z]', ' ', text)\n",
    "    clear_text = clear_text.split()\n",
    "    clear_text = ' '.join(clear_text).lower()\n",
    "    return clear_text"
   ]
  },
  {
   "cell_type": "code",
   "execution_count": 10,
   "metadata": {
    "scrolled": true
   },
   "outputs": [
    {
     "data": {
      "text/html": [
       "<div>\n",
       "<style scoped>\n",
       "    .dataframe tbody tr th:only-of-type {\n",
       "        vertical-align: middle;\n",
       "    }\n",
       "\n",
       "    .dataframe tbody tr th {\n",
       "        vertical-align: top;\n",
       "    }\n",
       "\n",
       "    .dataframe thead th {\n",
       "        text-align: right;\n",
       "    }\n",
       "</style>\n",
       "<table border=\"1\" class=\"dataframe\">\n",
       "  <thead>\n",
       "    <tr style=\"text-align: right;\">\n",
       "      <th></th>\n",
       "      <th>text</th>\n",
       "      <th>toxic</th>\n",
       "    </tr>\n",
       "  </thead>\n",
       "  <tbody>\n",
       "    <tr>\n",
       "      <th>0</th>\n",
       "      <td>explanation why the edits made under my username hardcore metallica fan were reverted they weren t vandalisms just closure on some gas after i voted at new york dolls fac and please don t remove the template from the talk page since i m retired now</td>\n",
       "      <td>0</td>\n",
       "    </tr>\n",
       "    <tr>\n",
       "      <th>1</th>\n",
       "      <td>d aww he matches this background colour i m seemingly stuck with thanks talk january utc</td>\n",
       "      <td>0</td>\n",
       "    </tr>\n",
       "    <tr>\n",
       "      <th>2</th>\n",
       "      <td>hey man i m really not trying to edit war it s just that this guy is constantly removing relevant information and talking to me through edits instead of my talk page he seems to care more about the formatting than the actual info</td>\n",
       "      <td>0</td>\n",
       "    </tr>\n",
       "    <tr>\n",
       "      <th>3</th>\n",
       "      <td>more i can t make any real suggestions on improvement i wondered if the section statistics should be later on or a subsection of types of accidents i think the references may need tidying so that they are all in the exact same format ie date format etc i can do that later on if no one else does first if you have any preferences for formatting style on references or want to do it yourself please let me know there appears to be a backlog on articles for review so i guess there may be a delay until a reviewer turns up it s listed in the relevant form eg wikipedia good article nominations transport</td>\n",
       "      <td>0</td>\n",
       "    </tr>\n",
       "    <tr>\n",
       "      <th>4</th>\n",
       "      <td>you sir are my hero any chance you remember what page that s on</td>\n",
       "      <td>0</td>\n",
       "    </tr>\n",
       "  </tbody>\n",
       "</table>\n",
       "</div>"
      ],
      "text/plain": [
       "                                                                                                                                                                                                                                                                                                                                                                                                                                                                                                                                                                                                                        text  \\\n",
       "0                                                                                                                                                                                                                                                                                                                                                                   explanation why the edits made under my username hardcore metallica fan were reverted they weren t vandalisms just closure on some gas after i voted at new york dolls fac and please don t remove the template from the talk page since i m retired now   \n",
       "1                                                                                                                                                                                                                                                                                                                                                                                                                                                                                                                                   d aww he matches this background colour i m seemingly stuck with thanks talk january utc   \n",
       "2                                                                                                                                                                                                                                                                                                                                                                                      hey man i m really not trying to edit war it s just that this guy is constantly removing relevant information and talking to me through edits instead of my talk page he seems to care more about the formatting than the actual info   \n",
       "3  more i can t make any real suggestions on improvement i wondered if the section statistics should be later on or a subsection of types of accidents i think the references may need tidying so that they are all in the exact same format ie date format etc i can do that later on if no one else does first if you have any preferences for formatting style on references or want to do it yourself please let me know there appears to be a backlog on articles for review so i guess there may be a delay until a reviewer turns up it s listed in the relevant form eg wikipedia good article nominations transport   \n",
       "4                                                                                                                                                                                                                                                                                                                                                                                                                                                                                                                                                            you sir are my hero any chance you remember what page that s on   \n",
       "\n",
       "   toxic  \n",
       "0      0  \n",
       "1      0  \n",
       "2      0  \n",
       "3      0  \n",
       "4      0  "
      ]
     },
     "execution_count": 10,
     "metadata": {},
     "output_type": "execute_result"
    }
   ],
   "source": [
    "#преобразуем текст в текст без лишних символов\n",
    "lemm_text = []\n",
    "\n",
    "for row in range(comment.shape[0]):\n",
    "    lemm_text.append(clear_text(comment.iloc[row]['text']))\n",
    "\n",
    "# перезапишем столбец\n",
    "comment['text'] = lemm_text\n",
    "\n",
    "# проверим, как сработало\n",
    "comment.head()"
   ]
  },
  {
   "cell_type": "code",
   "execution_count": 11,
   "metadata": {},
   "outputs": [],
   "source": [
    "def lemmatize(text, m):\n",
    "    return \"\".join(m.lemmatize(text))"
   ]
  },
  {
   "cell_type": "code",
   "execution_count": 12,
   "metadata": {
    "tags": []
   },
   "outputs": [],
   "source": [
    "lemmatizer = WordNetLemmatizer()\n",
    "\n",
    "def get_wordnet_pos(treebank_tag):\n",
    "    if treebank_tag.startswith('J'):\n",
    "        return wordnet.ADJ\n",
    "    elif treebank_tag.startswith('V'):\n",
    "        return wordnet.VERB\n",
    "    elif treebank_tag.startswith('N'):\n",
    "        return wordnet.NOUN\n",
    "    elif treebank_tag.startswith('R'):\n",
    "        return wordnet.ADV\n",
    "    else:\n",
    "        return None\n",
    "\n",
    "comment['text'] = comment['text'].apply(lambda v: nltk.pos_tag(nltk.word_tokenize(v)))\n"
   ]
  },
  {
   "cell_type": "code",
   "execution_count": 13,
   "metadata": {},
   "outputs": [],
   "source": [
    "comment['text'] = comment['text'].transform(lambda value: ' '\n",
    "                                            .join([lemmatizer\n",
    "                                                   .lemmatize(a[0],pos=get_wordnet_pos(a[1])) \n",
    "                                                   if get_wordnet_pos(a[1]) else a[0] for a in  value]))"
   ]
  },
  {
   "cell_type": "code",
   "execution_count": 14,
   "metadata": {},
   "outputs": [
    {
     "data": {
      "text/html": [
       "<div>\n",
       "<style scoped>\n",
       "    .dataframe tbody tr th:only-of-type {\n",
       "        vertical-align: middle;\n",
       "    }\n",
       "\n",
       "    .dataframe tbody tr th {\n",
       "        vertical-align: top;\n",
       "    }\n",
       "\n",
       "    .dataframe thead th {\n",
       "        text-align: right;\n",
       "    }\n",
       "</style>\n",
       "<table border=\"1\" class=\"dataframe\">\n",
       "  <thead>\n",
       "    <tr style=\"text-align: right;\">\n",
       "      <th></th>\n",
       "      <th>text</th>\n",
       "      <th>toxic</th>\n",
       "    </tr>\n",
       "  </thead>\n",
       "  <tbody>\n",
       "    <tr>\n",
       "      <th>0</th>\n",
       "      <td>explanation why the edits make under my username hardcore metallica fan be revert they weren t vandalism just closure on some gas after i vote at new york doll fac and please don t remove the template from the talk page since i m retire now</td>\n",
       "      <td>0</td>\n",
       "    </tr>\n",
       "    <tr>\n",
       "      <th>1</th>\n",
       "      <td>d aww he match this background colour i m seemingly stick with thanks talk january utc</td>\n",
       "      <td>0</td>\n",
       "    </tr>\n",
       "    <tr>\n",
       "      <th>2</th>\n",
       "      <td>hey man i m really not try to edit war it s just that this guy be constantly remove relevant information and talk to me through edits instead of my talk page he seem to care more about the formatting than the actual info</td>\n",
       "      <td>0</td>\n",
       "    </tr>\n",
       "    <tr>\n",
       "      <th>3</th>\n",
       "      <td>more i can t make any real suggestion on improvement i wonder if the section statistic should be later on or a subsection of type of accident i think the reference may need tidy so that they be all in the exact same format ie date format etc i can do that later on if no one else do first if you have any preference for format style on reference or want to do it yourself please let me know there appear to be a backlog on article for review so i guess there may be a delay until a reviewer turn up it s list in the relevant form eg wikipedia good article nomination transport</td>\n",
       "      <td>0</td>\n",
       "    </tr>\n",
       "    <tr>\n",
       "      <th>4</th>\n",
       "      <td>you sir be my hero any chance you remember what page that s on</td>\n",
       "      <td>0</td>\n",
       "    </tr>\n",
       "  </tbody>\n",
       "</table>\n",
       "</div>"
      ],
      "text/plain": [
       "                                                                                                                                                                                                                                                                                                                                                                                                                                                                                                                                                                                               text  \\\n",
       "0                                                                                                                                                                                                                                                                                                                                                  explanation why the edits make under my username hardcore metallica fan be revert they weren t vandalism just closure on some gas after i vote at new york doll fac and please don t remove the template from the talk page since i m retire now   \n",
       "1                                                                                                                                                                                                                                                                                                                                                                                                                                                                                                            d aww he match this background colour i m seemingly stick with thanks talk january utc   \n",
       "2                                                                                                                                                                                                                                                                                                                                                                      hey man i m really not try to edit war it s just that this guy be constantly remove relevant information and talk to me through edits instead of my talk page he seem to care more about the formatting than the actual info   \n",
       "3  more i can t make any real suggestion on improvement i wonder if the section statistic should be later on or a subsection of type of accident i think the reference may need tidy so that they be all in the exact same format ie date format etc i can do that later on if no one else do first if you have any preference for format style on reference or want to do it yourself please let me know there appear to be a backlog on article for review so i guess there may be a delay until a reviewer turn up it s list in the relevant form eg wikipedia good article nomination transport   \n",
       "4                                                                                                                                                                                                                                                                                                                                                                                                                                                                                                                                    you sir be my hero any chance you remember what page that s on   \n",
       "\n",
       "   toxic  \n",
       "0      0  \n",
       "1      0  \n",
       "2      0  \n",
       "3      0  \n",
       "4      0  "
      ]
     },
     "execution_count": 14,
     "metadata": {},
     "output_type": "execute_result"
    }
   ],
   "source": [
    "comment.head()"
   ]
  },
  {
   "cell_type": "markdown",
   "metadata": {},
   "source": [
    "Получилось!\n",
    "\n",
    "Теперь данные готовы для обучения. "
   ]
  },
  {
   "cell_type": "markdown",
   "metadata": {},
   "source": [
    "## Обучение"
   ]
  },
  {
   "cell_type": "code",
   "execution_count": 15,
   "metadata": {},
   "outputs": [],
   "source": [
    "X = comment['text']\n",
    "y = comment['toxic']"
   ]
  },
  {
   "cell_type": "code",
   "execution_count": 16,
   "metadata": {},
   "outputs": [
    {
     "name": "stdout",
     "output_type": "stream",
     "text": [
      "X_train.shape (87610,)\n",
      "y_train.shape (87610,)\n",
      "X_test.shape (71682,)\n",
      "y_test.shape (71682,)\n"
     ]
    }
   ],
   "source": [
    "#разделим на выборки \n",
    "X_train, X_test, y_train, y_test = train_test_split(X, y, test_size=0.45, random_state=73, stratify=y)\n",
    "\n",
    "print(\"X_train.shape\", X_train.shape)\n",
    "print(\"y_train.shape\", y_train.shape)\n",
    "print(\"X_test.shape\", X_test.shape)\n",
    "print(\"y_test.shape\", y_test.shape)"
   ]
  },
  {
   "cell_type": "markdown",
   "metadata": {},
   "source": [
    "Избавимся от стоп-слов"
   ]
  },
  {
   "cell_type": "code",
   "execution_count": 17,
   "metadata": {},
   "outputs": [
    {
     "name": "stderr",
     "output_type": "stream",
     "text": [
      "[nltk_data] Downloading package stopwords to\n",
      "[nltk_data]     C:\\Users\\Ksenchik\\AppData\\Roaming\\nltk_data...\n",
      "[nltk_data]   Package stopwords is already up-to-date!\n"
     ]
    },
    {
     "name": "stdout",
     "output_type": "stream",
     "text": [
      "Размер матрицы: (87610, 109429)\n",
      "Размер матрицы: (71682, 109429)\n"
     ]
    }
   ],
   "source": [
    "nltk.download('stopwords')\n",
    "stopwords = set(nltk_stopwords.words('english'))\n",
    "\n",
    "count_tf_idf = TfidfVectorizer(stop_words=list(stopwords))\n",
    "#count_tf_idf_train = TfidfVectorizer(stop_words=list(stopwords))\n",
    "X_train_tf_idf = count_tf_idf.fit_transform(X_train)\n",
    "\n",
    "print(\"Размер матрицы:\", X_train_tf_idf.shape)\n",
    "\n",
    "X_test_tf_idf = count_tf_idf.transform(X_test.values)\n",
    "print(\"Размер матрицы:\", X_test_tf_idf.shape)"
   ]
  },
  {
   "cell_type": "code",
   "execution_count": 18,
   "metadata": {},
   "outputs": [],
   "source": [
    "pipe_tfidf = Pipeline([('tfidf', TfidfVectorizer(stop_words=list(stopwords))),\n",
    "                       ('logreg', LogisticRegression(class_weight = 'balanced', random_state=RANDOM_STATE))])"
   ]
  },
  {
   "cell_type": "code",
   "execution_count": 19,
   "metadata": {},
   "outputs": [
    {
     "data": {
      "text/html": [
       "<style>#sk-container-id-1 {\n",
       "  /* Definition of color scheme common for light and dark mode */\n",
       "  --sklearn-color-text: black;\n",
       "  --sklearn-color-line: gray;\n",
       "  /* Definition of color scheme for unfitted estimators */\n",
       "  --sklearn-color-unfitted-level-0: #fff5e6;\n",
       "  --sklearn-color-unfitted-level-1: #f6e4d2;\n",
       "  --sklearn-color-unfitted-level-2: #ffe0b3;\n",
       "  --sklearn-color-unfitted-level-3: chocolate;\n",
       "  /* Definition of color scheme for fitted estimators */\n",
       "  --sklearn-color-fitted-level-0: #f0f8ff;\n",
       "  --sklearn-color-fitted-level-1: #d4ebff;\n",
       "  --sklearn-color-fitted-level-2: #b3dbfd;\n",
       "  --sklearn-color-fitted-level-3: cornflowerblue;\n",
       "\n",
       "  /* Specific color for light theme */\n",
       "  --sklearn-color-text-on-default-background: var(--sg-text-color, var(--theme-code-foreground, var(--jp-content-font-color1, black)));\n",
       "  --sklearn-color-background: var(--sg-background-color, var(--theme-background, var(--jp-layout-color0, white)));\n",
       "  --sklearn-color-border-box: var(--sg-text-color, var(--theme-code-foreground, var(--jp-content-font-color1, black)));\n",
       "  --sklearn-color-icon: #696969;\n",
       "\n",
       "  @media (prefers-color-scheme: dark) {\n",
       "    /* Redefinition of color scheme for dark theme */\n",
       "    --sklearn-color-text-on-default-background: var(--sg-text-color, var(--theme-code-foreground, var(--jp-content-font-color1, white)));\n",
       "    --sklearn-color-background: var(--sg-background-color, var(--theme-background, var(--jp-layout-color0, #111)));\n",
       "    --sklearn-color-border-box: var(--sg-text-color, var(--theme-code-foreground, var(--jp-content-font-color1, white)));\n",
       "    --sklearn-color-icon: #878787;\n",
       "  }\n",
       "}\n",
       "\n",
       "#sk-container-id-1 {\n",
       "  color: var(--sklearn-color-text);\n",
       "}\n",
       "\n",
       "#sk-container-id-1 pre {\n",
       "  padding: 0;\n",
       "}\n",
       "\n",
       "#sk-container-id-1 input.sk-hidden--visually {\n",
       "  border: 0;\n",
       "  clip: rect(1px 1px 1px 1px);\n",
       "  clip: rect(1px, 1px, 1px, 1px);\n",
       "  height: 1px;\n",
       "  margin: -1px;\n",
       "  overflow: hidden;\n",
       "  padding: 0;\n",
       "  position: absolute;\n",
       "  width: 1px;\n",
       "}\n",
       "\n",
       "#sk-container-id-1 div.sk-dashed-wrapped {\n",
       "  border: 1px dashed var(--sklearn-color-line);\n",
       "  margin: 0 0.4em 0.5em 0.4em;\n",
       "  box-sizing: border-box;\n",
       "  padding-bottom: 0.4em;\n",
       "  background-color: var(--sklearn-color-background);\n",
       "}\n",
       "\n",
       "#sk-container-id-1 div.sk-container {\n",
       "  /* jupyter's `normalize.less` sets `[hidden] { display: none; }`\n",
       "     but bootstrap.min.css set `[hidden] { display: none !important; }`\n",
       "     so we also need the `!important` here to be able to override the\n",
       "     default hidden behavior on the sphinx rendered scikit-learn.org.\n",
       "     See: https://github.com/scikit-learn/scikit-learn/issues/21755 */\n",
       "  display: inline-block !important;\n",
       "  position: relative;\n",
       "}\n",
       "\n",
       "#sk-container-id-1 div.sk-text-repr-fallback {\n",
       "  display: none;\n",
       "}\n",
       "\n",
       "div.sk-parallel-item,\n",
       "div.sk-serial,\n",
       "div.sk-item {\n",
       "  /* draw centered vertical line to link estimators */\n",
       "  background-image: linear-gradient(var(--sklearn-color-text-on-default-background), var(--sklearn-color-text-on-default-background));\n",
       "  background-size: 2px 100%;\n",
       "  background-repeat: no-repeat;\n",
       "  background-position: center center;\n",
       "}\n",
       "\n",
       "/* Parallel-specific style estimator block */\n",
       "\n",
       "#sk-container-id-1 div.sk-parallel-item::after {\n",
       "  content: \"\";\n",
       "  width: 100%;\n",
       "  border-bottom: 2px solid var(--sklearn-color-text-on-default-background);\n",
       "  flex-grow: 1;\n",
       "}\n",
       "\n",
       "#sk-container-id-1 div.sk-parallel {\n",
       "  display: flex;\n",
       "  align-items: stretch;\n",
       "  justify-content: center;\n",
       "  background-color: var(--sklearn-color-background);\n",
       "  position: relative;\n",
       "}\n",
       "\n",
       "#sk-container-id-1 div.sk-parallel-item {\n",
       "  display: flex;\n",
       "  flex-direction: column;\n",
       "}\n",
       "\n",
       "#sk-container-id-1 div.sk-parallel-item:first-child::after {\n",
       "  align-self: flex-end;\n",
       "  width: 50%;\n",
       "}\n",
       "\n",
       "#sk-container-id-1 div.sk-parallel-item:last-child::after {\n",
       "  align-self: flex-start;\n",
       "  width: 50%;\n",
       "}\n",
       "\n",
       "#sk-container-id-1 div.sk-parallel-item:only-child::after {\n",
       "  width: 0;\n",
       "}\n",
       "\n",
       "/* Serial-specific style estimator block */\n",
       "\n",
       "#sk-container-id-1 div.sk-serial {\n",
       "  display: flex;\n",
       "  flex-direction: column;\n",
       "  align-items: center;\n",
       "  background-color: var(--sklearn-color-background);\n",
       "  padding-right: 1em;\n",
       "  padding-left: 1em;\n",
       "}\n",
       "\n",
       "\n",
       "/* Toggleable style: style used for estimator/Pipeline/ColumnTransformer box that is\n",
       "clickable and can be expanded/collapsed.\n",
       "- Pipeline and ColumnTransformer use this feature and define the default style\n",
       "- Estimators will overwrite some part of the style using the `sk-estimator` class\n",
       "*/\n",
       "\n",
       "/* Pipeline and ColumnTransformer style (default) */\n",
       "\n",
       "#sk-container-id-1 div.sk-toggleable {\n",
       "  /* Default theme specific background. It is overwritten whether we have a\n",
       "  specific estimator or a Pipeline/ColumnTransformer */\n",
       "  background-color: var(--sklearn-color-background);\n",
       "}\n",
       "\n",
       "/* Toggleable label */\n",
       "#sk-container-id-1 label.sk-toggleable__label {\n",
       "  cursor: pointer;\n",
       "  display: block;\n",
       "  width: 100%;\n",
       "  margin-bottom: 0;\n",
       "  padding: 0.5em;\n",
       "  box-sizing: border-box;\n",
       "  text-align: center;\n",
       "}\n",
       "\n",
       "#sk-container-id-1 label.sk-toggleable__label-arrow:before {\n",
       "  /* Arrow on the left of the label */\n",
       "  content: \"▸\";\n",
       "  float: left;\n",
       "  margin-right: 0.25em;\n",
       "  color: var(--sklearn-color-icon);\n",
       "}\n",
       "\n",
       "#sk-container-id-1 label.sk-toggleable__label-arrow:hover:before {\n",
       "  color: var(--sklearn-color-text);\n",
       "}\n",
       "\n",
       "/* Toggleable content - dropdown */\n",
       "\n",
       "#sk-container-id-1 div.sk-toggleable__content {\n",
       "  max-height: 0;\n",
       "  max-width: 0;\n",
       "  overflow: hidden;\n",
       "  text-align: left;\n",
       "  /* unfitted */\n",
       "  background-color: var(--sklearn-color-unfitted-level-0);\n",
       "}\n",
       "\n",
       "#sk-container-id-1 div.sk-toggleable__content.fitted {\n",
       "  /* fitted */\n",
       "  background-color: var(--sklearn-color-fitted-level-0);\n",
       "}\n",
       "\n",
       "#sk-container-id-1 div.sk-toggleable__content pre {\n",
       "  margin: 0.2em;\n",
       "  border-radius: 0.25em;\n",
       "  color: var(--sklearn-color-text);\n",
       "  /* unfitted */\n",
       "  background-color: var(--sklearn-color-unfitted-level-0);\n",
       "}\n",
       "\n",
       "#sk-container-id-1 div.sk-toggleable__content.fitted pre {\n",
       "  /* unfitted */\n",
       "  background-color: var(--sklearn-color-fitted-level-0);\n",
       "}\n",
       "\n",
       "#sk-container-id-1 input.sk-toggleable__control:checked~div.sk-toggleable__content {\n",
       "  /* Expand drop-down */\n",
       "  max-height: 200px;\n",
       "  max-width: 100%;\n",
       "  overflow: auto;\n",
       "}\n",
       "\n",
       "#sk-container-id-1 input.sk-toggleable__control:checked~label.sk-toggleable__label-arrow:before {\n",
       "  content: \"▾\";\n",
       "}\n",
       "\n",
       "/* Pipeline/ColumnTransformer-specific style */\n",
       "\n",
       "#sk-container-id-1 div.sk-label input.sk-toggleable__control:checked~label.sk-toggleable__label {\n",
       "  color: var(--sklearn-color-text);\n",
       "  background-color: var(--sklearn-color-unfitted-level-2);\n",
       "}\n",
       "\n",
       "#sk-container-id-1 div.sk-label.fitted input.sk-toggleable__control:checked~label.sk-toggleable__label {\n",
       "  background-color: var(--sklearn-color-fitted-level-2);\n",
       "}\n",
       "\n",
       "/* Estimator-specific style */\n",
       "\n",
       "/* Colorize estimator box */\n",
       "#sk-container-id-1 div.sk-estimator input.sk-toggleable__control:checked~label.sk-toggleable__label {\n",
       "  /* unfitted */\n",
       "  background-color: var(--sklearn-color-unfitted-level-2);\n",
       "}\n",
       "\n",
       "#sk-container-id-1 div.sk-estimator.fitted input.sk-toggleable__control:checked~label.sk-toggleable__label {\n",
       "  /* fitted */\n",
       "  background-color: var(--sklearn-color-fitted-level-2);\n",
       "}\n",
       "\n",
       "#sk-container-id-1 div.sk-label label.sk-toggleable__label,\n",
       "#sk-container-id-1 div.sk-label label {\n",
       "  /* The background is the default theme color */\n",
       "  color: var(--sklearn-color-text-on-default-background);\n",
       "}\n",
       "\n",
       "/* On hover, darken the color of the background */\n",
       "#sk-container-id-1 div.sk-label:hover label.sk-toggleable__label {\n",
       "  color: var(--sklearn-color-text);\n",
       "  background-color: var(--sklearn-color-unfitted-level-2);\n",
       "}\n",
       "\n",
       "/* Label box, darken color on hover, fitted */\n",
       "#sk-container-id-1 div.sk-label.fitted:hover label.sk-toggleable__label.fitted {\n",
       "  color: var(--sklearn-color-text);\n",
       "  background-color: var(--sklearn-color-fitted-level-2);\n",
       "}\n",
       "\n",
       "/* Estimator label */\n",
       "\n",
       "#sk-container-id-1 div.sk-label label {\n",
       "  font-family: monospace;\n",
       "  font-weight: bold;\n",
       "  display: inline-block;\n",
       "  line-height: 1.2em;\n",
       "}\n",
       "\n",
       "#sk-container-id-1 div.sk-label-container {\n",
       "  text-align: center;\n",
       "}\n",
       "\n",
       "/* Estimator-specific */\n",
       "#sk-container-id-1 div.sk-estimator {\n",
       "  font-family: monospace;\n",
       "  border: 1px dotted var(--sklearn-color-border-box);\n",
       "  border-radius: 0.25em;\n",
       "  box-sizing: border-box;\n",
       "  margin-bottom: 0.5em;\n",
       "  /* unfitted */\n",
       "  background-color: var(--sklearn-color-unfitted-level-0);\n",
       "}\n",
       "\n",
       "#sk-container-id-1 div.sk-estimator.fitted {\n",
       "  /* fitted */\n",
       "  background-color: var(--sklearn-color-fitted-level-0);\n",
       "}\n",
       "\n",
       "/* on hover */\n",
       "#sk-container-id-1 div.sk-estimator:hover {\n",
       "  /* unfitted */\n",
       "  background-color: var(--sklearn-color-unfitted-level-2);\n",
       "}\n",
       "\n",
       "#sk-container-id-1 div.sk-estimator.fitted:hover {\n",
       "  /* fitted */\n",
       "  background-color: var(--sklearn-color-fitted-level-2);\n",
       "}\n",
       "\n",
       "/* Specification for estimator info (e.g. \"i\" and \"?\") */\n",
       "\n",
       "/* Common style for \"i\" and \"?\" */\n",
       "\n",
       ".sk-estimator-doc-link,\n",
       "a:link.sk-estimator-doc-link,\n",
       "a:visited.sk-estimator-doc-link {\n",
       "  float: right;\n",
       "  font-size: smaller;\n",
       "  line-height: 1em;\n",
       "  font-family: monospace;\n",
       "  background-color: var(--sklearn-color-background);\n",
       "  border-radius: 1em;\n",
       "  height: 1em;\n",
       "  width: 1em;\n",
       "  text-decoration: none !important;\n",
       "  margin-left: 1ex;\n",
       "  /* unfitted */\n",
       "  border: var(--sklearn-color-unfitted-level-1) 1pt solid;\n",
       "  color: var(--sklearn-color-unfitted-level-1);\n",
       "}\n",
       "\n",
       ".sk-estimator-doc-link.fitted,\n",
       "a:link.sk-estimator-doc-link.fitted,\n",
       "a:visited.sk-estimator-doc-link.fitted {\n",
       "  /* fitted */\n",
       "  border: var(--sklearn-color-fitted-level-1) 1pt solid;\n",
       "  color: var(--sklearn-color-fitted-level-1);\n",
       "}\n",
       "\n",
       "/* On hover */\n",
       "div.sk-estimator:hover .sk-estimator-doc-link:hover,\n",
       ".sk-estimator-doc-link:hover,\n",
       "div.sk-label-container:hover .sk-estimator-doc-link:hover,\n",
       ".sk-estimator-doc-link:hover {\n",
       "  /* unfitted */\n",
       "  background-color: var(--sklearn-color-unfitted-level-3);\n",
       "  color: var(--sklearn-color-background);\n",
       "  text-decoration: none;\n",
       "}\n",
       "\n",
       "div.sk-estimator.fitted:hover .sk-estimator-doc-link.fitted:hover,\n",
       ".sk-estimator-doc-link.fitted:hover,\n",
       "div.sk-label-container:hover .sk-estimator-doc-link.fitted:hover,\n",
       ".sk-estimator-doc-link.fitted:hover {\n",
       "  /* fitted */\n",
       "  background-color: var(--sklearn-color-fitted-level-3);\n",
       "  color: var(--sklearn-color-background);\n",
       "  text-decoration: none;\n",
       "}\n",
       "\n",
       "/* Span, style for the box shown on hovering the info icon */\n",
       ".sk-estimator-doc-link span {\n",
       "  display: none;\n",
       "  z-index: 9999;\n",
       "  position: relative;\n",
       "  font-weight: normal;\n",
       "  right: .2ex;\n",
       "  padding: .5ex;\n",
       "  margin: .5ex;\n",
       "  width: min-content;\n",
       "  min-width: 20ex;\n",
       "  max-width: 50ex;\n",
       "  color: var(--sklearn-color-text);\n",
       "  box-shadow: 2pt 2pt 4pt #999;\n",
       "  /* unfitted */\n",
       "  background: var(--sklearn-color-unfitted-level-0);\n",
       "  border: .5pt solid var(--sklearn-color-unfitted-level-3);\n",
       "}\n",
       "\n",
       ".sk-estimator-doc-link.fitted span {\n",
       "  /* fitted */\n",
       "  background: var(--sklearn-color-fitted-level-0);\n",
       "  border: var(--sklearn-color-fitted-level-3);\n",
       "}\n",
       "\n",
       ".sk-estimator-doc-link:hover span {\n",
       "  display: block;\n",
       "}\n",
       "\n",
       "/* \"?\"-specific style due to the `<a>` HTML tag */\n",
       "\n",
       "#sk-container-id-1 a.estimator_doc_link {\n",
       "  float: right;\n",
       "  font-size: 1rem;\n",
       "  line-height: 1em;\n",
       "  font-family: monospace;\n",
       "  background-color: var(--sklearn-color-background);\n",
       "  border-radius: 1rem;\n",
       "  height: 1rem;\n",
       "  width: 1rem;\n",
       "  text-decoration: none;\n",
       "  /* unfitted */\n",
       "  color: var(--sklearn-color-unfitted-level-1);\n",
       "  border: var(--sklearn-color-unfitted-level-1) 1pt solid;\n",
       "}\n",
       "\n",
       "#sk-container-id-1 a.estimator_doc_link.fitted {\n",
       "  /* fitted */\n",
       "  border: var(--sklearn-color-fitted-level-1) 1pt solid;\n",
       "  color: var(--sklearn-color-fitted-level-1);\n",
       "}\n",
       "\n",
       "/* On hover */\n",
       "#sk-container-id-1 a.estimator_doc_link:hover {\n",
       "  /* unfitted */\n",
       "  background-color: var(--sklearn-color-unfitted-level-3);\n",
       "  color: var(--sklearn-color-background);\n",
       "  text-decoration: none;\n",
       "}\n",
       "\n",
       "#sk-container-id-1 a.estimator_doc_link.fitted:hover {\n",
       "  /* fitted */\n",
       "  background-color: var(--sklearn-color-fitted-level-3);\n",
       "}\n",
       "</style><div id=\"sk-container-id-1\" class=\"sk-top-container\"><div class=\"sk-text-repr-fallback\"><pre>Pipeline(steps=[(&#x27;tfidf&#x27;,\n",
       "                 TfidfVectorizer(stop_words=[&#x27;doing&#x27;, &#x27;out&#x27;, &#x27;own&#x27;, &#x27;it&#x27;,\n",
       "                                             &#x27;each&#x27;, &#x27;so&#x27;, &#x27;himself&#x27;, &#x27;mustn&#x27;,\n",
       "                                             &#x27;its&#x27;, &quot;she&#x27;s&quot;, &#x27;under&#x27;, &#x27;or&#x27;,\n",
       "                                             &quot;couldn&#x27;t&quot;, &#x27;he&#x27;, &#x27;again&#x27;, &#x27;by&#x27;,\n",
       "                                             &quot;hadn&#x27;t&quot;, &#x27;off&#x27;, &#x27;couldn&#x27;,\n",
       "                                             &#x27;shouldn&#x27;, &#x27;when&#x27;, &#x27;didn&#x27;, &#x27;were&#x27;,\n",
       "                                             &#x27;during&#x27;, &#x27;hadn&#x27;, &#x27;yourselves&#x27;,\n",
       "                                             &#x27;their&#x27;, &#x27;will&#x27;, &#x27;ourselves&#x27;,\n",
       "                                             &#x27;after&#x27;, ...])),\n",
       "                (&#x27;logreg&#x27;,\n",
       "                 LogisticRegression(class_weight=&#x27;balanced&#x27;, random_state=42))])</pre><b>In a Jupyter environment, please rerun this cell to show the HTML representation or trust the notebook. <br />On GitHub, the HTML representation is unable to render, please try loading this page with nbviewer.org.</b></div><div class=\"sk-container\" hidden><div class=\"sk-item sk-dashed-wrapped\"><div class=\"sk-label-container\"><div class=\"sk-label fitted sk-toggleable\"><input class=\"sk-toggleable__control sk-hidden--visually\" id=\"sk-estimator-id-1\" type=\"checkbox\" ><label for=\"sk-estimator-id-1\" class=\"sk-toggleable__label fitted sk-toggleable__label-arrow fitted\">&nbsp;&nbsp;Pipeline<a class=\"sk-estimator-doc-link fitted\" rel=\"noreferrer\" target=\"_blank\" href=\"https://scikit-learn.org/1.4/modules/generated/sklearn.pipeline.Pipeline.html\">?<span>Documentation for Pipeline</span></a><span class=\"sk-estimator-doc-link fitted\">i<span>Fitted</span></span></label><div class=\"sk-toggleable__content fitted\"><pre>Pipeline(steps=[(&#x27;tfidf&#x27;,\n",
       "                 TfidfVectorizer(stop_words=[&#x27;doing&#x27;, &#x27;out&#x27;, &#x27;own&#x27;, &#x27;it&#x27;,\n",
       "                                             &#x27;each&#x27;, &#x27;so&#x27;, &#x27;himself&#x27;, &#x27;mustn&#x27;,\n",
       "                                             &#x27;its&#x27;, &quot;she&#x27;s&quot;, &#x27;under&#x27;, &#x27;or&#x27;,\n",
       "                                             &quot;couldn&#x27;t&quot;, &#x27;he&#x27;, &#x27;again&#x27;, &#x27;by&#x27;,\n",
       "                                             &quot;hadn&#x27;t&quot;, &#x27;off&#x27;, &#x27;couldn&#x27;,\n",
       "                                             &#x27;shouldn&#x27;, &#x27;when&#x27;, &#x27;didn&#x27;, &#x27;were&#x27;,\n",
       "                                             &#x27;during&#x27;, &#x27;hadn&#x27;, &#x27;yourselves&#x27;,\n",
       "                                             &#x27;their&#x27;, &#x27;will&#x27;, &#x27;ourselves&#x27;,\n",
       "                                             &#x27;after&#x27;, ...])),\n",
       "                (&#x27;logreg&#x27;,\n",
       "                 LogisticRegression(class_weight=&#x27;balanced&#x27;, random_state=42))])</pre></div> </div></div><div class=\"sk-serial\"><div class=\"sk-item\"><div class=\"sk-estimator fitted sk-toggleable\"><input class=\"sk-toggleable__control sk-hidden--visually\" id=\"sk-estimator-id-2\" type=\"checkbox\" ><label for=\"sk-estimator-id-2\" class=\"sk-toggleable__label fitted sk-toggleable__label-arrow fitted\">&nbsp;TfidfVectorizer<a class=\"sk-estimator-doc-link fitted\" rel=\"noreferrer\" target=\"_blank\" href=\"https://scikit-learn.org/1.4/modules/generated/sklearn.feature_extraction.text.TfidfVectorizer.html\">?<span>Documentation for TfidfVectorizer</span></a></label><div class=\"sk-toggleable__content fitted\"><pre>TfidfVectorizer(stop_words=[&#x27;doing&#x27;, &#x27;out&#x27;, &#x27;own&#x27;, &#x27;it&#x27;, &#x27;each&#x27;, &#x27;so&#x27;,\n",
       "                            &#x27;himself&#x27;, &#x27;mustn&#x27;, &#x27;its&#x27;, &quot;she&#x27;s&quot;, &#x27;under&#x27;, &#x27;or&#x27;,\n",
       "                            &quot;couldn&#x27;t&quot;, &#x27;he&#x27;, &#x27;again&#x27;, &#x27;by&#x27;, &quot;hadn&#x27;t&quot;, &#x27;off&#x27;,\n",
       "                            &#x27;couldn&#x27;, &#x27;shouldn&#x27;, &#x27;when&#x27;, &#x27;didn&#x27;, &#x27;were&#x27;,\n",
       "                            &#x27;during&#x27;, &#x27;hadn&#x27;, &#x27;yourselves&#x27;, &#x27;their&#x27;, &#x27;will&#x27;,\n",
       "                            &#x27;ourselves&#x27;, &#x27;after&#x27;, ...])</pre></div> </div></div><div class=\"sk-item\"><div class=\"sk-estimator fitted sk-toggleable\"><input class=\"sk-toggleable__control sk-hidden--visually\" id=\"sk-estimator-id-3\" type=\"checkbox\" ><label for=\"sk-estimator-id-3\" class=\"sk-toggleable__label fitted sk-toggleable__label-arrow fitted\">&nbsp;LogisticRegression<a class=\"sk-estimator-doc-link fitted\" rel=\"noreferrer\" target=\"_blank\" href=\"https://scikit-learn.org/1.4/modules/generated/sklearn.linear_model.LogisticRegression.html\">?<span>Documentation for LogisticRegression</span></a></label><div class=\"sk-toggleable__content fitted\"><pre>LogisticRegression(class_weight=&#x27;balanced&#x27;, random_state=42)</pre></div> </div></div></div></div></div></div>"
      ],
      "text/plain": [
       "Pipeline(steps=[('tfidf',\n",
       "                 TfidfVectorizer(stop_words=['doing', 'out', 'own', 'it',\n",
       "                                             'each', 'so', 'himself', 'mustn',\n",
       "                                             'its', \"she's\", 'under', 'or',\n",
       "                                             \"couldn't\", 'he', 'again', 'by',\n",
       "                                             \"hadn't\", 'off', 'couldn',\n",
       "                                             'shouldn', 'when', 'didn', 'were',\n",
       "                                             'during', 'hadn', 'yourselves',\n",
       "                                             'their', 'will', 'ourselves',\n",
       "                                             'after', ...])),\n",
       "                ('logreg',\n",
       "                 LogisticRegression(class_weight='balanced', random_state=42))])"
      ]
     },
     "execution_count": 19,
     "metadata": {},
     "output_type": "execute_result"
    }
   ],
   "source": [
    "pipe_tfidf.fit(X_train, y_train)"
   ]
  },
  {
   "cell_type": "code",
   "execution_count": 20,
   "metadata": {},
   "outputs": [
    {
     "name": "stdout",
     "output_type": "stream",
     "text": [
      "Метрика f1 на тренировочной выборке: 0.7289524664072075\n"
     ]
    }
   ],
   "source": [
    "scores_list = cross_val_score(estimator=pipe_tfidf, \n",
    "                              X=X_train, \n",
    "                              y=y_train, \n",
    "                              cv=5,  \n",
    "                              scoring='f1')\n",
    "\n",
    "val_score = scores_list.mean()\n",
    "print(f'Метрика f1 на тренировочной выборке: {val_score}')"
   ]
  },
  {
   "cell_type": "markdown",
   "metadata": {},
   "source": [
    "Добавим регуляризацию"
   ]
  },
  {
   "cell_type": "code",
   "execution_count": 21,
   "metadata": {},
   "outputs": [
    {
     "data": {
      "text/html": [
       "<style>#sk-container-id-2 {\n",
       "  /* Definition of color scheme common for light and dark mode */\n",
       "  --sklearn-color-text: black;\n",
       "  --sklearn-color-line: gray;\n",
       "  /* Definition of color scheme for unfitted estimators */\n",
       "  --sklearn-color-unfitted-level-0: #fff5e6;\n",
       "  --sklearn-color-unfitted-level-1: #f6e4d2;\n",
       "  --sklearn-color-unfitted-level-2: #ffe0b3;\n",
       "  --sklearn-color-unfitted-level-3: chocolate;\n",
       "  /* Definition of color scheme for fitted estimators */\n",
       "  --sklearn-color-fitted-level-0: #f0f8ff;\n",
       "  --sklearn-color-fitted-level-1: #d4ebff;\n",
       "  --sklearn-color-fitted-level-2: #b3dbfd;\n",
       "  --sklearn-color-fitted-level-3: cornflowerblue;\n",
       "\n",
       "  /* Specific color for light theme */\n",
       "  --sklearn-color-text-on-default-background: var(--sg-text-color, var(--theme-code-foreground, var(--jp-content-font-color1, black)));\n",
       "  --sklearn-color-background: var(--sg-background-color, var(--theme-background, var(--jp-layout-color0, white)));\n",
       "  --sklearn-color-border-box: var(--sg-text-color, var(--theme-code-foreground, var(--jp-content-font-color1, black)));\n",
       "  --sklearn-color-icon: #696969;\n",
       "\n",
       "  @media (prefers-color-scheme: dark) {\n",
       "    /* Redefinition of color scheme for dark theme */\n",
       "    --sklearn-color-text-on-default-background: var(--sg-text-color, var(--theme-code-foreground, var(--jp-content-font-color1, white)));\n",
       "    --sklearn-color-background: var(--sg-background-color, var(--theme-background, var(--jp-layout-color0, #111)));\n",
       "    --sklearn-color-border-box: var(--sg-text-color, var(--theme-code-foreground, var(--jp-content-font-color1, white)));\n",
       "    --sklearn-color-icon: #878787;\n",
       "  }\n",
       "}\n",
       "\n",
       "#sk-container-id-2 {\n",
       "  color: var(--sklearn-color-text);\n",
       "}\n",
       "\n",
       "#sk-container-id-2 pre {\n",
       "  padding: 0;\n",
       "}\n",
       "\n",
       "#sk-container-id-2 input.sk-hidden--visually {\n",
       "  border: 0;\n",
       "  clip: rect(1px 1px 1px 1px);\n",
       "  clip: rect(1px, 1px, 1px, 1px);\n",
       "  height: 1px;\n",
       "  margin: -1px;\n",
       "  overflow: hidden;\n",
       "  padding: 0;\n",
       "  position: absolute;\n",
       "  width: 1px;\n",
       "}\n",
       "\n",
       "#sk-container-id-2 div.sk-dashed-wrapped {\n",
       "  border: 1px dashed var(--sklearn-color-line);\n",
       "  margin: 0 0.4em 0.5em 0.4em;\n",
       "  box-sizing: border-box;\n",
       "  padding-bottom: 0.4em;\n",
       "  background-color: var(--sklearn-color-background);\n",
       "}\n",
       "\n",
       "#sk-container-id-2 div.sk-container {\n",
       "  /* jupyter's `normalize.less` sets `[hidden] { display: none; }`\n",
       "     but bootstrap.min.css set `[hidden] { display: none !important; }`\n",
       "     so we also need the `!important` here to be able to override the\n",
       "     default hidden behavior on the sphinx rendered scikit-learn.org.\n",
       "     See: https://github.com/scikit-learn/scikit-learn/issues/21755 */\n",
       "  display: inline-block !important;\n",
       "  position: relative;\n",
       "}\n",
       "\n",
       "#sk-container-id-2 div.sk-text-repr-fallback {\n",
       "  display: none;\n",
       "}\n",
       "\n",
       "div.sk-parallel-item,\n",
       "div.sk-serial,\n",
       "div.sk-item {\n",
       "  /* draw centered vertical line to link estimators */\n",
       "  background-image: linear-gradient(var(--sklearn-color-text-on-default-background), var(--sklearn-color-text-on-default-background));\n",
       "  background-size: 2px 100%;\n",
       "  background-repeat: no-repeat;\n",
       "  background-position: center center;\n",
       "}\n",
       "\n",
       "/* Parallel-specific style estimator block */\n",
       "\n",
       "#sk-container-id-2 div.sk-parallel-item::after {\n",
       "  content: \"\";\n",
       "  width: 100%;\n",
       "  border-bottom: 2px solid var(--sklearn-color-text-on-default-background);\n",
       "  flex-grow: 1;\n",
       "}\n",
       "\n",
       "#sk-container-id-2 div.sk-parallel {\n",
       "  display: flex;\n",
       "  align-items: stretch;\n",
       "  justify-content: center;\n",
       "  background-color: var(--sklearn-color-background);\n",
       "  position: relative;\n",
       "}\n",
       "\n",
       "#sk-container-id-2 div.sk-parallel-item {\n",
       "  display: flex;\n",
       "  flex-direction: column;\n",
       "}\n",
       "\n",
       "#sk-container-id-2 div.sk-parallel-item:first-child::after {\n",
       "  align-self: flex-end;\n",
       "  width: 50%;\n",
       "}\n",
       "\n",
       "#sk-container-id-2 div.sk-parallel-item:last-child::after {\n",
       "  align-self: flex-start;\n",
       "  width: 50%;\n",
       "}\n",
       "\n",
       "#sk-container-id-2 div.sk-parallel-item:only-child::after {\n",
       "  width: 0;\n",
       "}\n",
       "\n",
       "/* Serial-specific style estimator block */\n",
       "\n",
       "#sk-container-id-2 div.sk-serial {\n",
       "  display: flex;\n",
       "  flex-direction: column;\n",
       "  align-items: center;\n",
       "  background-color: var(--sklearn-color-background);\n",
       "  padding-right: 1em;\n",
       "  padding-left: 1em;\n",
       "}\n",
       "\n",
       "\n",
       "/* Toggleable style: style used for estimator/Pipeline/ColumnTransformer box that is\n",
       "clickable and can be expanded/collapsed.\n",
       "- Pipeline and ColumnTransformer use this feature and define the default style\n",
       "- Estimators will overwrite some part of the style using the `sk-estimator` class\n",
       "*/\n",
       "\n",
       "/* Pipeline and ColumnTransformer style (default) */\n",
       "\n",
       "#sk-container-id-2 div.sk-toggleable {\n",
       "  /* Default theme specific background. It is overwritten whether we have a\n",
       "  specific estimator or a Pipeline/ColumnTransformer */\n",
       "  background-color: var(--sklearn-color-background);\n",
       "}\n",
       "\n",
       "/* Toggleable label */\n",
       "#sk-container-id-2 label.sk-toggleable__label {\n",
       "  cursor: pointer;\n",
       "  display: block;\n",
       "  width: 100%;\n",
       "  margin-bottom: 0;\n",
       "  padding: 0.5em;\n",
       "  box-sizing: border-box;\n",
       "  text-align: center;\n",
       "}\n",
       "\n",
       "#sk-container-id-2 label.sk-toggleable__label-arrow:before {\n",
       "  /* Arrow on the left of the label */\n",
       "  content: \"▸\";\n",
       "  float: left;\n",
       "  margin-right: 0.25em;\n",
       "  color: var(--sklearn-color-icon);\n",
       "}\n",
       "\n",
       "#sk-container-id-2 label.sk-toggleable__label-arrow:hover:before {\n",
       "  color: var(--sklearn-color-text);\n",
       "}\n",
       "\n",
       "/* Toggleable content - dropdown */\n",
       "\n",
       "#sk-container-id-2 div.sk-toggleable__content {\n",
       "  max-height: 0;\n",
       "  max-width: 0;\n",
       "  overflow: hidden;\n",
       "  text-align: left;\n",
       "  /* unfitted */\n",
       "  background-color: var(--sklearn-color-unfitted-level-0);\n",
       "}\n",
       "\n",
       "#sk-container-id-2 div.sk-toggleable__content.fitted {\n",
       "  /* fitted */\n",
       "  background-color: var(--sklearn-color-fitted-level-0);\n",
       "}\n",
       "\n",
       "#sk-container-id-2 div.sk-toggleable__content pre {\n",
       "  margin: 0.2em;\n",
       "  border-radius: 0.25em;\n",
       "  color: var(--sklearn-color-text);\n",
       "  /* unfitted */\n",
       "  background-color: var(--sklearn-color-unfitted-level-0);\n",
       "}\n",
       "\n",
       "#sk-container-id-2 div.sk-toggleable__content.fitted pre {\n",
       "  /* unfitted */\n",
       "  background-color: var(--sklearn-color-fitted-level-0);\n",
       "}\n",
       "\n",
       "#sk-container-id-2 input.sk-toggleable__control:checked~div.sk-toggleable__content {\n",
       "  /* Expand drop-down */\n",
       "  max-height: 200px;\n",
       "  max-width: 100%;\n",
       "  overflow: auto;\n",
       "}\n",
       "\n",
       "#sk-container-id-2 input.sk-toggleable__control:checked~label.sk-toggleable__label-arrow:before {\n",
       "  content: \"▾\";\n",
       "}\n",
       "\n",
       "/* Pipeline/ColumnTransformer-specific style */\n",
       "\n",
       "#sk-container-id-2 div.sk-label input.sk-toggleable__control:checked~label.sk-toggleable__label {\n",
       "  color: var(--sklearn-color-text);\n",
       "  background-color: var(--sklearn-color-unfitted-level-2);\n",
       "}\n",
       "\n",
       "#sk-container-id-2 div.sk-label.fitted input.sk-toggleable__control:checked~label.sk-toggleable__label {\n",
       "  background-color: var(--sklearn-color-fitted-level-2);\n",
       "}\n",
       "\n",
       "/* Estimator-specific style */\n",
       "\n",
       "/* Colorize estimator box */\n",
       "#sk-container-id-2 div.sk-estimator input.sk-toggleable__control:checked~label.sk-toggleable__label {\n",
       "  /* unfitted */\n",
       "  background-color: var(--sklearn-color-unfitted-level-2);\n",
       "}\n",
       "\n",
       "#sk-container-id-2 div.sk-estimator.fitted input.sk-toggleable__control:checked~label.sk-toggleable__label {\n",
       "  /* fitted */\n",
       "  background-color: var(--sklearn-color-fitted-level-2);\n",
       "}\n",
       "\n",
       "#sk-container-id-2 div.sk-label label.sk-toggleable__label,\n",
       "#sk-container-id-2 div.sk-label label {\n",
       "  /* The background is the default theme color */\n",
       "  color: var(--sklearn-color-text-on-default-background);\n",
       "}\n",
       "\n",
       "/* On hover, darken the color of the background */\n",
       "#sk-container-id-2 div.sk-label:hover label.sk-toggleable__label {\n",
       "  color: var(--sklearn-color-text);\n",
       "  background-color: var(--sklearn-color-unfitted-level-2);\n",
       "}\n",
       "\n",
       "/* Label box, darken color on hover, fitted */\n",
       "#sk-container-id-2 div.sk-label.fitted:hover label.sk-toggleable__label.fitted {\n",
       "  color: var(--sklearn-color-text);\n",
       "  background-color: var(--sklearn-color-fitted-level-2);\n",
       "}\n",
       "\n",
       "/* Estimator label */\n",
       "\n",
       "#sk-container-id-2 div.sk-label label {\n",
       "  font-family: monospace;\n",
       "  font-weight: bold;\n",
       "  display: inline-block;\n",
       "  line-height: 1.2em;\n",
       "}\n",
       "\n",
       "#sk-container-id-2 div.sk-label-container {\n",
       "  text-align: center;\n",
       "}\n",
       "\n",
       "/* Estimator-specific */\n",
       "#sk-container-id-2 div.sk-estimator {\n",
       "  font-family: monospace;\n",
       "  border: 1px dotted var(--sklearn-color-border-box);\n",
       "  border-radius: 0.25em;\n",
       "  box-sizing: border-box;\n",
       "  margin-bottom: 0.5em;\n",
       "  /* unfitted */\n",
       "  background-color: var(--sklearn-color-unfitted-level-0);\n",
       "}\n",
       "\n",
       "#sk-container-id-2 div.sk-estimator.fitted {\n",
       "  /* fitted */\n",
       "  background-color: var(--sklearn-color-fitted-level-0);\n",
       "}\n",
       "\n",
       "/* on hover */\n",
       "#sk-container-id-2 div.sk-estimator:hover {\n",
       "  /* unfitted */\n",
       "  background-color: var(--sklearn-color-unfitted-level-2);\n",
       "}\n",
       "\n",
       "#sk-container-id-2 div.sk-estimator.fitted:hover {\n",
       "  /* fitted */\n",
       "  background-color: var(--sklearn-color-fitted-level-2);\n",
       "}\n",
       "\n",
       "/* Specification for estimator info (e.g. \"i\" and \"?\") */\n",
       "\n",
       "/* Common style for \"i\" and \"?\" */\n",
       "\n",
       ".sk-estimator-doc-link,\n",
       "a:link.sk-estimator-doc-link,\n",
       "a:visited.sk-estimator-doc-link {\n",
       "  float: right;\n",
       "  font-size: smaller;\n",
       "  line-height: 1em;\n",
       "  font-family: monospace;\n",
       "  background-color: var(--sklearn-color-background);\n",
       "  border-radius: 1em;\n",
       "  height: 1em;\n",
       "  width: 1em;\n",
       "  text-decoration: none !important;\n",
       "  margin-left: 1ex;\n",
       "  /* unfitted */\n",
       "  border: var(--sklearn-color-unfitted-level-1) 1pt solid;\n",
       "  color: var(--sklearn-color-unfitted-level-1);\n",
       "}\n",
       "\n",
       ".sk-estimator-doc-link.fitted,\n",
       "a:link.sk-estimator-doc-link.fitted,\n",
       "a:visited.sk-estimator-doc-link.fitted {\n",
       "  /* fitted */\n",
       "  border: var(--sklearn-color-fitted-level-1) 1pt solid;\n",
       "  color: var(--sklearn-color-fitted-level-1);\n",
       "}\n",
       "\n",
       "/* On hover */\n",
       "div.sk-estimator:hover .sk-estimator-doc-link:hover,\n",
       ".sk-estimator-doc-link:hover,\n",
       "div.sk-label-container:hover .sk-estimator-doc-link:hover,\n",
       ".sk-estimator-doc-link:hover {\n",
       "  /* unfitted */\n",
       "  background-color: var(--sklearn-color-unfitted-level-3);\n",
       "  color: var(--sklearn-color-background);\n",
       "  text-decoration: none;\n",
       "}\n",
       "\n",
       "div.sk-estimator.fitted:hover .sk-estimator-doc-link.fitted:hover,\n",
       ".sk-estimator-doc-link.fitted:hover,\n",
       "div.sk-label-container:hover .sk-estimator-doc-link.fitted:hover,\n",
       ".sk-estimator-doc-link.fitted:hover {\n",
       "  /* fitted */\n",
       "  background-color: var(--sklearn-color-fitted-level-3);\n",
       "  color: var(--sklearn-color-background);\n",
       "  text-decoration: none;\n",
       "}\n",
       "\n",
       "/* Span, style for the box shown on hovering the info icon */\n",
       ".sk-estimator-doc-link span {\n",
       "  display: none;\n",
       "  z-index: 9999;\n",
       "  position: relative;\n",
       "  font-weight: normal;\n",
       "  right: .2ex;\n",
       "  padding: .5ex;\n",
       "  margin: .5ex;\n",
       "  width: min-content;\n",
       "  min-width: 20ex;\n",
       "  max-width: 50ex;\n",
       "  color: var(--sklearn-color-text);\n",
       "  box-shadow: 2pt 2pt 4pt #999;\n",
       "  /* unfitted */\n",
       "  background: var(--sklearn-color-unfitted-level-0);\n",
       "  border: .5pt solid var(--sklearn-color-unfitted-level-3);\n",
       "}\n",
       "\n",
       ".sk-estimator-doc-link.fitted span {\n",
       "  /* fitted */\n",
       "  background: var(--sklearn-color-fitted-level-0);\n",
       "  border: var(--sklearn-color-fitted-level-3);\n",
       "}\n",
       "\n",
       ".sk-estimator-doc-link:hover span {\n",
       "  display: block;\n",
       "}\n",
       "\n",
       "/* \"?\"-specific style due to the `<a>` HTML tag */\n",
       "\n",
       "#sk-container-id-2 a.estimator_doc_link {\n",
       "  float: right;\n",
       "  font-size: 1rem;\n",
       "  line-height: 1em;\n",
       "  font-family: monospace;\n",
       "  background-color: var(--sklearn-color-background);\n",
       "  border-radius: 1rem;\n",
       "  height: 1rem;\n",
       "  width: 1rem;\n",
       "  text-decoration: none;\n",
       "  /* unfitted */\n",
       "  color: var(--sklearn-color-unfitted-level-1);\n",
       "  border: var(--sklearn-color-unfitted-level-1) 1pt solid;\n",
       "}\n",
       "\n",
       "#sk-container-id-2 a.estimator_doc_link.fitted {\n",
       "  /* fitted */\n",
       "  border: var(--sklearn-color-fitted-level-1) 1pt solid;\n",
       "  color: var(--sklearn-color-fitted-level-1);\n",
       "}\n",
       "\n",
       "/* On hover */\n",
       "#sk-container-id-2 a.estimator_doc_link:hover {\n",
       "  /* unfitted */\n",
       "  background-color: var(--sklearn-color-unfitted-level-3);\n",
       "  color: var(--sklearn-color-background);\n",
       "  text-decoration: none;\n",
       "}\n",
       "\n",
       "#sk-container-id-2 a.estimator_doc_link.fitted:hover {\n",
       "  /* fitted */\n",
       "  background-color: var(--sklearn-color-fitted-level-3);\n",
       "}\n",
       "</style><div id=\"sk-container-id-2\" class=\"sk-top-container\"><div class=\"sk-text-repr-fallback\"><pre>Pipeline(steps=[(&#x27;tfidf&#x27;,\n",
       "                 TfidfVectorizer(stop_words=[&#x27;doing&#x27;, &#x27;out&#x27;, &#x27;own&#x27;, &#x27;it&#x27;,\n",
       "                                             &#x27;each&#x27;, &#x27;so&#x27;, &#x27;himself&#x27;, &#x27;mustn&#x27;,\n",
       "                                             &#x27;its&#x27;, &quot;she&#x27;s&quot;, &#x27;under&#x27;, &#x27;or&#x27;,\n",
       "                                             &quot;couldn&#x27;t&quot;, &#x27;he&#x27;, &#x27;again&#x27;, &#x27;by&#x27;,\n",
       "                                             &quot;hadn&#x27;t&quot;, &#x27;off&#x27;, &#x27;couldn&#x27;,\n",
       "                                             &#x27;shouldn&#x27;, &#x27;when&#x27;, &#x27;didn&#x27;, &#x27;were&#x27;,\n",
       "                                             &#x27;during&#x27;, &#x27;hadn&#x27;, &#x27;yourselves&#x27;,\n",
       "                                             &#x27;their&#x27;, &#x27;will&#x27;, &#x27;ourselves&#x27;,\n",
       "                                             &#x27;after&#x27;, ...])),\n",
       "                (&#x27;logreg&#x27;,\n",
       "                 LogisticRegression(C=4, class_weight=&#x27;balanced&#x27;, penalty=&#x27;l1&#x27;,\n",
       "                                    random_state=42, solver=&#x27;liblinear&#x27;))])</pre><b>In a Jupyter environment, please rerun this cell to show the HTML representation or trust the notebook. <br />On GitHub, the HTML representation is unable to render, please try loading this page with nbviewer.org.</b></div><div class=\"sk-container\" hidden><div class=\"sk-item sk-dashed-wrapped\"><div class=\"sk-label-container\"><div class=\"sk-label fitted sk-toggleable\"><input class=\"sk-toggleable__control sk-hidden--visually\" id=\"sk-estimator-id-4\" type=\"checkbox\" ><label for=\"sk-estimator-id-4\" class=\"sk-toggleable__label fitted sk-toggleable__label-arrow fitted\">&nbsp;&nbsp;Pipeline<a class=\"sk-estimator-doc-link fitted\" rel=\"noreferrer\" target=\"_blank\" href=\"https://scikit-learn.org/1.4/modules/generated/sklearn.pipeline.Pipeline.html\">?<span>Documentation for Pipeline</span></a><span class=\"sk-estimator-doc-link fitted\">i<span>Fitted</span></span></label><div class=\"sk-toggleable__content fitted\"><pre>Pipeline(steps=[(&#x27;tfidf&#x27;,\n",
       "                 TfidfVectorizer(stop_words=[&#x27;doing&#x27;, &#x27;out&#x27;, &#x27;own&#x27;, &#x27;it&#x27;,\n",
       "                                             &#x27;each&#x27;, &#x27;so&#x27;, &#x27;himself&#x27;, &#x27;mustn&#x27;,\n",
       "                                             &#x27;its&#x27;, &quot;she&#x27;s&quot;, &#x27;under&#x27;, &#x27;or&#x27;,\n",
       "                                             &quot;couldn&#x27;t&quot;, &#x27;he&#x27;, &#x27;again&#x27;, &#x27;by&#x27;,\n",
       "                                             &quot;hadn&#x27;t&quot;, &#x27;off&#x27;, &#x27;couldn&#x27;,\n",
       "                                             &#x27;shouldn&#x27;, &#x27;when&#x27;, &#x27;didn&#x27;, &#x27;were&#x27;,\n",
       "                                             &#x27;during&#x27;, &#x27;hadn&#x27;, &#x27;yourselves&#x27;,\n",
       "                                             &#x27;their&#x27;, &#x27;will&#x27;, &#x27;ourselves&#x27;,\n",
       "                                             &#x27;after&#x27;, ...])),\n",
       "                (&#x27;logreg&#x27;,\n",
       "                 LogisticRegression(C=4, class_weight=&#x27;balanced&#x27;, penalty=&#x27;l1&#x27;,\n",
       "                                    random_state=42, solver=&#x27;liblinear&#x27;))])</pre></div> </div></div><div class=\"sk-serial\"><div class=\"sk-item\"><div class=\"sk-estimator fitted sk-toggleable\"><input class=\"sk-toggleable__control sk-hidden--visually\" id=\"sk-estimator-id-5\" type=\"checkbox\" ><label for=\"sk-estimator-id-5\" class=\"sk-toggleable__label fitted sk-toggleable__label-arrow fitted\">&nbsp;TfidfVectorizer<a class=\"sk-estimator-doc-link fitted\" rel=\"noreferrer\" target=\"_blank\" href=\"https://scikit-learn.org/1.4/modules/generated/sklearn.feature_extraction.text.TfidfVectorizer.html\">?<span>Documentation for TfidfVectorizer</span></a></label><div class=\"sk-toggleable__content fitted\"><pre>TfidfVectorizer(stop_words=[&#x27;doing&#x27;, &#x27;out&#x27;, &#x27;own&#x27;, &#x27;it&#x27;, &#x27;each&#x27;, &#x27;so&#x27;,\n",
       "                            &#x27;himself&#x27;, &#x27;mustn&#x27;, &#x27;its&#x27;, &quot;she&#x27;s&quot;, &#x27;under&#x27;, &#x27;or&#x27;,\n",
       "                            &quot;couldn&#x27;t&quot;, &#x27;he&#x27;, &#x27;again&#x27;, &#x27;by&#x27;, &quot;hadn&#x27;t&quot;, &#x27;off&#x27;,\n",
       "                            &#x27;couldn&#x27;, &#x27;shouldn&#x27;, &#x27;when&#x27;, &#x27;didn&#x27;, &#x27;were&#x27;,\n",
       "                            &#x27;during&#x27;, &#x27;hadn&#x27;, &#x27;yourselves&#x27;, &#x27;their&#x27;, &#x27;will&#x27;,\n",
       "                            &#x27;ourselves&#x27;, &#x27;after&#x27;, ...])</pre></div> </div></div><div class=\"sk-item\"><div class=\"sk-estimator fitted sk-toggleable\"><input class=\"sk-toggleable__control sk-hidden--visually\" id=\"sk-estimator-id-6\" type=\"checkbox\" ><label for=\"sk-estimator-id-6\" class=\"sk-toggleable__label fitted sk-toggleable__label-arrow fitted\">&nbsp;LogisticRegression<a class=\"sk-estimator-doc-link fitted\" rel=\"noreferrer\" target=\"_blank\" href=\"https://scikit-learn.org/1.4/modules/generated/sklearn.linear_model.LogisticRegression.html\">?<span>Documentation for LogisticRegression</span></a></label><div class=\"sk-toggleable__content fitted\"><pre>LogisticRegression(C=4, class_weight=&#x27;balanced&#x27;, penalty=&#x27;l1&#x27;, random_state=42,\n",
       "                   solver=&#x27;liblinear&#x27;)</pre></div> </div></div></div></div></div></div>"
      ],
      "text/plain": [
       "Pipeline(steps=[('tfidf',\n",
       "                 TfidfVectorizer(stop_words=['doing', 'out', 'own', 'it',\n",
       "                                             'each', 'so', 'himself', 'mustn',\n",
       "                                             'its', \"she's\", 'under', 'or',\n",
       "                                             \"couldn't\", 'he', 'again', 'by',\n",
       "                                             \"hadn't\", 'off', 'couldn',\n",
       "                                             'shouldn', 'when', 'didn', 'were',\n",
       "                                             'during', 'hadn', 'yourselves',\n",
       "                                             'their', 'will', 'ourselves',\n",
       "                                             'after', ...])),\n",
       "                ('logreg',\n",
       "                 LogisticRegression(C=4, class_weight='balanced', penalty='l1',\n",
       "                                    random_state=42, solver='liblinear'))])"
      ]
     },
     "execution_count": 21,
     "metadata": {},
     "output_type": "execute_result"
    }
   ],
   "source": [
    "pipe_tfidf2 = Pipeline([('tfidf', TfidfVectorizer(stop_words=list(stopwords))),\n",
    "                       ('logreg', LogisticRegression(penalty='l1', class_weight = 'balanced', random_state=RANDOM_STATE, \n",
    "                                                     solver='liblinear', C = 4))])\n",
    "\n",
    "pipe_tfidf2.fit(X_train, y_train)"
   ]
  },
  {
   "cell_type": "code",
   "execution_count": 22,
   "metadata": {},
   "outputs": [
    {
     "name": "stdout",
     "output_type": "stream",
     "text": [
      "Метрика f1 на тренировочной выборке: 0.7480188390306297\n"
     ]
    }
   ],
   "source": [
    "scores_list_C = cross_val_score(estimator=pipe_tfidf2, \n",
    "                              X=X_train, \n",
    "                              y=y_train, \n",
    "                              cv=5,  \n",
    "                              scoring='f1')\n",
    "\n",
    "val_score_C = scores_list_C.mean()\n",
    "print(f'Метрика f1 на тренировочной выборке: {val_score_C}')"
   ]
  },
  {
   "cell_type": "markdown",
   "metadata": {},
   "source": [
    "Начнем.\n",
    "\n",
    "Попробуем обучение нескольких моделей: LogisticRegression, CatBoostClassifier."
   ]
  },
  {
   "cell_type": "code",
   "execution_count": 23,
   "metadata": {},
   "outputs": [
    {
     "name": "stdout",
     "output_type": "stream",
     "text": [
      "Learning rate set to 0.161182\n",
      "0:\tlearn: 0.6277789\ttotal: 558ms\tremaining: 3m 42s\n",
      "100:\tlearn: 0.3241445\ttotal: 41.3s\tremaining: 2m 2s\n",
      "200:\tlearn: 0.2636211\ttotal: 1m 21s\tremaining: 1m 20s\n",
      "300:\tlearn: 0.2300850\ttotal: 2m 1s\tremaining: 39.8s\n",
      "399:\tlearn: 0.2073125\ttotal: 2m 40s\tremaining: 0us\n",
      "Wall time: 2min 43s\n"
     ]
    },
    {
     "data": {
      "text/plain": [
       "<catboost.core.CatBoostClassifier at 0x22c7f13b280>"
      ]
     },
     "execution_count": 23,
     "metadata": {},
     "output_type": "execute_result"
    }
   ],
   "source": [
    "%%time\n",
    "cat = CatBoostClassifier(\n",
    "            loss_function=\"Logloss\",\n",
    "            n_estimators=400, \n",
    "            class_weights=[1, 9],\n",
    "            max_depth=6,\n",
    "            verbose=100)\n",
    "cat.fit(X_train_tf_idf, y_train)\n",
    "\n"
   ]
  },
  {
   "cell_type": "code",
   "execution_count": 24,
   "metadata": {
    "tags": []
   },
   "outputs": [
    {
     "name": "stdout",
     "output_type": "stream",
     "text": [
      "Learning rate set to 0.135557\n",
      "0:\tlearn: 0.6390977\ttotal: 352ms\tremaining: 2m 20s\n",
      "100:\tlearn: 0.3382736\ttotal: 32.2s\tremaining: 1m 35s\n",
      "200:\tlearn: 0.2698410\ttotal: 1m 3s\tremaining: 1m 2s\n",
      "300:\tlearn: 0.2321154\ttotal: 1m 34s\tremaining: 31.2s\n",
      "399:\tlearn: 0.2072812\ttotal: 2m 5s\tremaining: 0us\n",
      "Learning rate set to 0.135558\n",
      "0:\tlearn: 0.6372370\ttotal: 331ms\tremaining: 2m 12s\n",
      "100:\tlearn: 0.3376575\ttotal: 32.9s\tremaining: 1m 37s\n",
      "200:\tlearn: 0.2695483\ttotal: 1m 4s\tremaining: 1m 4s\n",
      "300:\tlearn: 0.2324316\ttotal: 1m 36s\tremaining: 31.8s\n",
      "399:\tlearn: 0.2065437\ttotal: 2m 7s\tremaining: 0us\n",
      "Learning rate set to 0.135558\n",
      "0:\tlearn: 0.6355095\ttotal: 327ms\tremaining: 2m 10s\n",
      "100:\tlearn: 0.3403007\ttotal: 32.4s\tremaining: 1m 36s\n",
      "200:\tlearn: 0.2727446\ttotal: 1m 3s\tremaining: 1m 2s\n",
      "300:\tlearn: 0.2364670\ttotal: 1m 34s\tremaining: 31.2s\n",
      "399:\tlearn: 0.2101853\ttotal: 2m 5s\tremaining: 0us\n",
      "Метрика f1 на тренировочной выборке: 0.7381088652686932\n",
      "Wall time: 6min 26s\n"
     ]
    }
   ],
   "source": [
    "%%time\n",
    "scores_list2 = cross_val_score(estimator=cat, \n",
    "                              X=X_train_tf_idf, \n",
    "                              y=y_train, \n",
    "                              cv=3,  \n",
    "                              scoring='f1')\n",
    "\n",
    "val_score2 = scores_list2.mean()\n",
    "print(f'Метрика f1 на тренировочной выборке: {val_score2}')"
   ]
  },
  {
   "cell_type": "markdown",
   "metadata": {},
   "source": [
    "Попробуем подобрать параметры для CatBoostClassifier с целью улучшения метрики "
   ]
  },
  {
   "cell_type": "code",
   "execution_count": 25,
   "metadata": {
    "tags": []
   },
   "outputs": [
    {
     "name": "stderr",
     "output_type": "stream",
     "text": [
      "[I 2024-03-06 20:59:42,519] A new study created in memory with name: no-name-4e17fa9f-85b9-408e-a205-f98c8493d845\n"
     ]
    },
    {
     "name": "stdout",
     "output_type": "stream",
     "text": [
      "Wall time: 0 ns\n",
      "Learning rate set to 0.06791\n",
      "0:\tlearn: 0.6671122\ttotal: 124ms\tremaining: 1m 44s\n",
      "100:\tlearn: 0.4449378\ttotal: 10.6s\tremaining: 1m 18s\n",
      "200:\tlearn: 0.3899090\ttotal: 21.1s\tremaining: 1m 8s\n",
      "300:\tlearn: 0.3536864\ttotal: 31.4s\tremaining: 57.3s\n",
      "400:\tlearn: 0.3289825\ttotal: 41.9s\tremaining: 46.9s\n",
      "500:\tlearn: 0.3102191\ttotal: 52.2s\tremaining: 36.3s\n",
      "600:\tlearn: 0.2948995\ttotal: 1m 2s\tremaining: 25.9s\n",
      "700:\tlearn: 0.2818259\ttotal: 1m 12s\tremaining: 15.5s\n",
      "800:\tlearn: 0.2700054\ttotal: 1m 23s\tremaining: 5.09s\n",
      "849:\tlearn: 0.2651012\ttotal: 1m 28s\tremaining: 0us\n",
      "Learning rate set to 0.067911\n",
      "0:\tlearn: 0.6681078\ttotal: 135ms\tremaining: 1m 55s\n",
      "100:\tlearn: 0.4456358\ttotal: 10.9s\tremaining: 1m 20s\n",
      "200:\tlearn: 0.3906247\ttotal: 21.5s\tremaining: 1m 9s\n",
      "300:\tlearn: 0.3544225\ttotal: 31.9s\tremaining: 58.2s\n",
      "400:\tlearn: 0.3298151\ttotal: 42.2s\tremaining: 47.3s\n",
      "500:\tlearn: 0.3102812\ttotal: 52.6s\tremaining: 36.6s\n",
      "600:\tlearn: 0.2952997\ttotal: 1m 2s\tremaining: 26.1s\n",
      "700:\tlearn: 0.2819947\ttotal: 1m 13s\tremaining: 15.6s\n",
      "800:\tlearn: 0.2702934\ttotal: 1m 23s\tremaining: 5.11s\n",
      "849:\tlearn: 0.2651713\ttotal: 1m 28s\tremaining: 0us\n",
      "Learning rate set to 0.067911\n",
      "0:\tlearn: 0.6686255\ttotal: 134ms\tremaining: 1m 54s\n",
      "100:\tlearn: 0.4474068\ttotal: 10.8s\tremaining: 1m 19s\n",
      "200:\tlearn: 0.3930442\ttotal: 21.2s\tremaining: 1m 8s\n",
      "300:\tlearn: 0.3578712\ttotal: 31.6s\tremaining: 57.6s\n",
      "400:\tlearn: 0.3337936\ttotal: 41.9s\tremaining: 46.9s\n",
      "500:\tlearn: 0.3153662\ttotal: 52.3s\tremaining: 36.5s\n",
      "600:\tlearn: 0.3001314\ttotal: 1m 2s\tremaining: 26s\n",
      "700:\tlearn: 0.2867499\ttotal: 1m 13s\tremaining: 15.5s\n",
      "800:\tlearn: 0.2761138\ttotal: 1m 23s\tremaining: 5.09s\n",
      "849:\tlearn: 0.2714643\ttotal: 1m 28s\tremaining: 0us\n"
     ]
    },
    {
     "name": "stderr",
     "output_type": "stream",
     "text": [
      "[I 2024-03-06 21:04:15,608] Trial 0 finished with value: 0.7283090721645191 and parameters: {'max_depth': 3, 'n_estimators': 850}. Best is trial 0 with value: 0.7283090721645191.\n"
     ]
    },
    {
     "name": "stdout",
     "output_type": "stream",
     "text": [
      "Learning rate set to 0.139727\n",
      "0:\tlearn: 0.6577563\ttotal: 66.1ms\tremaining: 25.5s\n",
      "100:\tlearn: 0.4653671\ttotal: 4.24s\tremaining: 12s\n",
      "200:\tlearn: 0.4118960\ttotal: 8.36s\tremaining: 7.74s\n",
      "300:\tlearn: 0.3811489\ttotal: 12.5s\tremaining: 3.57s\n",
      "386:\tlearn: 0.3614351\ttotal: 16s\tremaining: 0us\n",
      "Learning rate set to 0.139728\n",
      "0:\tlearn: 0.6582645\ttotal: 68.7ms\tremaining: 26.5s\n",
      "100:\tlearn: 0.4662898\ttotal: 4.23s\tremaining: 12s\n",
      "200:\tlearn: 0.4143290\ttotal: 8.33s\tremaining: 7.71s\n",
      "300:\tlearn: 0.3816574\ttotal: 12.4s\tremaining: 3.55s\n",
      "386:\tlearn: 0.3625988\ttotal: 16s\tremaining: 0us\n",
      "Learning rate set to 0.139728\n",
      "0:\tlearn: 0.6594654\ttotal: 48.6ms\tremaining: 18.7s\n",
      "100:\tlearn: 0.4669864\ttotal: 4.25s\tremaining: 12s\n",
      "200:\tlearn: 0.4141341\ttotal: 8.5s\tremaining: 7.87s\n",
      "300:\tlearn: 0.3832783\ttotal: 12.7s\tremaining: 3.63s\n",
      "386:\tlearn: 0.3644857\ttotal: 16.3s\tremaining: 0us\n"
     ]
    },
    {
     "name": "stderr",
     "output_type": "stream",
     "text": [
      "[I 2024-03-06 21:05:11,708] Trial 1 finished with value: 0.7146176739431805 and parameters: {'max_depth': 1, 'n_estimators': 387}. Best is trial 0 with value: 0.7283090721645191.\n"
     ]
    },
    {
     "name": "stdout",
     "output_type": "stream",
     "text": [
      "Learning rate set to 0.146328\n",
      "0:\tlearn: 0.6433326\ttotal: 133ms\tremaining: 48.6s\n",
      "100:\tlearn: 0.3794855\ttotal: 10.7s\tremaining: 28.2s\n",
      "200:\tlearn: 0.3201171\ttotal: 21s\tremaining: 17.4s\n",
      "300:\tlearn: 0.2864293\ttotal: 31.3s\tremaining: 6.97s\n",
      "367:\tlearn: 0.2691168\ttotal: 38.2s\tremaining: 0us\n",
      "Learning rate set to 0.14633\n",
      "0:\tlearn: 0.6455771\ttotal: 142ms\tremaining: 52.2s\n",
      "100:\tlearn: 0.3816290\ttotal: 10.8s\tremaining: 28.4s\n",
      "200:\tlearn: 0.3217965\ttotal: 21.1s\tremaining: 17.5s\n",
      "300:\tlearn: 0.2863022\ttotal: 31.4s\tremaining: 6.99s\n",
      "367:\tlearn: 0.2696647\ttotal: 38.4s\tremaining: 0us\n",
      "Learning rate set to 0.14633\n",
      "0:\tlearn: 0.6457544\ttotal: 123ms\tremaining: 45.1s\n",
      "100:\tlearn: 0.3812695\ttotal: 10.6s\tremaining: 28.1s\n",
      "200:\tlearn: 0.3234858\ttotal: 21s\tremaining: 17.5s\n",
      "300:\tlearn: 0.2908058\ttotal: 31.3s\tremaining: 6.97s\n",
      "367:\tlearn: 0.2743353\ttotal: 38.2s\tremaining: 0us\n"
     ]
    },
    {
     "name": "stderr",
     "output_type": "stream",
     "text": [
      "[I 2024-03-06 21:07:14,388] Trial 2 finished with value: 0.726431332950329 and parameters: {'max_depth': 3, 'n_estimators': 368}. Best is trial 0 with value: 0.7283090721645191.\n"
     ]
    },
    {
     "name": "stdout",
     "output_type": "stream",
     "text": [
      "Learning rate set to 0.208593\n",
      "0:\tlearn: 0.6373040\ttotal: 99.8ms\tremaining: 24.8s\n",
      "100:\tlearn: 0.3765813\ttotal: 7.29s\tremaining: 10.7s\n",
      "200:\tlearn: 0.3211764\ttotal: 14.3s\tremaining: 3.49s\n",
      "249:\tlearn: 0.3048930\ttotal: 17.8s\tremaining: 0us\n",
      "Learning rate set to 0.208595\n",
      "0:\tlearn: 0.6414722\ttotal: 100ms\tremaining: 24.9s\n",
      "100:\tlearn: 0.3776884\ttotal: 7.29s\tremaining: 10.8s\n",
      "200:\tlearn: 0.3242259\ttotal: 14.4s\tremaining: 3.52s\n",
      "249:\tlearn: 0.3067547\ttotal: 17.9s\tremaining: 0us\n",
      "Learning rate set to 0.208595\n",
      "0:\tlearn: 0.6399539\ttotal: 92.6ms\tremaining: 23.1s\n",
      "100:\tlearn: 0.3821822\ttotal: 7.21s\tremaining: 10.6s\n",
      "200:\tlearn: 0.3268480\ttotal: 14.2s\tremaining: 3.46s\n",
      "249:\tlearn: 0.3097806\ttotal: 17.6s\tremaining: 0us\n"
     ]
    },
    {
     "name": "stderr",
     "output_type": "stream",
     "text": [
      "[I 2024-03-06 21:08:15,553] Trial 3 finished with value: 0.7232120902408349 and parameters: {'max_depth': 2, 'n_estimators': 250}. Best is trial 0 with value: 0.7283090721645191.\n"
     ]
    },
    {
     "name": "stdout",
     "output_type": "stream",
     "text": [
      "Learning rate set to 0.139727\n",
      "0:\tlearn: 0.6514102\ttotal: 107ms\tremaining: 41.5s\n",
      "100:\tlearn: 0.4141940\ttotal: 7.26s\tremaining: 20.6s\n",
      "200:\tlearn: 0.3561478\ttotal: 14.3s\tremaining: 13.2s\n",
      "300:\tlearn: 0.3248494\ttotal: 21.3s\tremaining: 6.09s\n",
      "386:\tlearn: 0.3049504\ttotal: 27.3s\tremaining: 0us\n",
      "Learning rate set to 0.139728\n",
      "0:\tlearn: 0.6541247\ttotal: 107ms\tremaining: 41.4s\n",
      "100:\tlearn: 0.4151244\ttotal: 7.31s\tremaining: 20.7s\n",
      "200:\tlearn: 0.3580300\ttotal: 14.4s\tremaining: 13.3s\n",
      "300:\tlearn: 0.3262483\ttotal: 21.4s\tremaining: 6.12s\n",
      "386:\tlearn: 0.3053047\ttotal: 27.5s\tremaining: 0us\n",
      "Learning rate set to 0.139728\n",
      "0:\tlearn: 0.6536900\ttotal: 90.6ms\tremaining: 35s\n",
      "100:\tlearn: 0.4163100\ttotal: 7.27s\tremaining: 20.6s\n",
      "200:\tlearn: 0.3603230\ttotal: 14.3s\tremaining: 13.2s\n",
      "300:\tlearn: 0.3271958\ttotal: 21.3s\tremaining: 6.09s\n",
      "386:\tlearn: 0.3082927\ttotal: 27.3s\tremaining: 0us\n"
     ]
    },
    {
     "name": "stderr",
     "output_type": "stream",
     "text": [
      "[I 2024-03-06 21:09:45,539] Trial 4 finished with value: 0.720853087158603 and parameters: {'max_depth': 2, 'n_estimators': 387}. Best is trial 0 with value: 0.7283090721645191.\n"
     ]
    },
    {
     "name": "stdout",
     "output_type": "stream",
     "text": [
      "Learning rate set to 0.080747\n",
      "0:\tlearn: 0.6648086\ttotal: 164ms\tremaining: 2m 19s\n",
      "100:\tlearn: 0.4312831\ttotal: 13.9s\tremaining: 1m 43s\n",
      "200:\tlearn: 0.3774283\ttotal: 27.6s\tremaining: 1m 29s\n",
      "300:\tlearn: 0.3437616\ttotal: 41s\tremaining: 1m 14s\n",
      "400:\tlearn: 0.3204870\ttotal: 54.5s\tremaining: 1m 1s\n",
      "500:\tlearn: 0.3035106\ttotal: 1m 7s\tremaining: 47.2s\n",
      "600:\tlearn: 0.2894230\ttotal: 1m 21s\tremaining: 33.6s\n",
      "700:\tlearn: 0.2772495\ttotal: 1m 34s\tremaining: 20.1s\n",
      "800:\tlearn: 0.2671610\ttotal: 1m 47s\tremaining: 6.58s\n",
      "849:\tlearn: 0.2626301\ttotal: 1m 54s\tremaining: 0us\n",
      "Лучшая модель и её параметры:\n",
      "\n",
      " <catboost.core.CatBoostClassifier object at 0x0000022C86687FD0>\n",
      "Метрика лучшей модели на тренировочной выборке: 0.7283090721645191\n"
     ]
    }
   ],
   "source": [
    "%time\n",
    "\n",
    "#попробуем подобрать иные параметры \n",
    "cat_model = CatBoostClassifier(loss_function=\"Logloss\", class_weights=[1, 9], verbose=100)\n",
    "\n",
    "cat_params =  {\n",
    "    'max_depth': distributions.IntDistribution(1, 6),\n",
    "    'n_estimators': distributions.IntDistribution(100, 1000)\n",
    "} \n",
    "\n",
    "oscv_all_add = OptunaSearchCV(\n",
    "    cat_model, \n",
    "    cat_params, \n",
    "    cv=3,\n",
    "    n_trials=5,\n",
    "    error_score='raise',\n",
    "    scoring='f1',\n",
    "    random_state=RANDOM_STATE\n",
    ") \n",
    "\n",
    "oscv_all_add.fit(X_train_tf_idf, y_train)\n",
    "\n",
    "print('Лучшая модель и её параметры:\\n\\n', oscv_all_add.best_estimator_)\n",
    "print ('Метрика лучшей модели на тренировочной выборке:', oscv_all_add.best_score_)"
   ]
  },
  {
   "cell_type": "markdown",
   "metadata": {},
   "source": [
    "Попробуем еще несколько моделей, уже в пайплайне"
   ]
  },
  {
   "cell_type": "code",
   "execution_count": 26,
   "metadata": {},
   "outputs": [],
   "source": [
    "pipe_tfidf3 = Pipeline([('tfidf', TfidfVectorizer(stop_words=list(stopwords))),\n",
    "                       ('models', LogisticRegression(class_weight = 'balanced', random_state=RANDOM_STATE))])\n",
    "\n",
    "param_grid = [\n",
    "    # словарь для модели DecisionTreeClassifier()\n",
    "    {\n",
    "        'models': [DecisionTreeClassifier(class_weight = 'balanced', random_state=RANDOM_STATE)],\n",
    "        \"models__max_depth\": range(2, 5),\n",
    "        \"models__max_features\": range(2, 5)\n",
    "    },\n",
    "    \n",
    "    # словарь для модели KNeighborsClassifier() \n",
    "    {\n",
    "        'models': [KNeighborsClassifier()],\n",
    "        'models__n_neighbors': range(2, 5)\n",
    "    }\n",
    "]"
   ]
  },
  {
   "cell_type": "code",
   "execution_count": 27,
   "metadata": {},
   "outputs": [],
   "source": [
    "randomized_search = RandomizedSearchCV(\n",
    "    pipe_tfidf3, \n",
    "    param_grid, \n",
    "    cv=5,\n",
    "    scoring='f1',\n",
    "    random_state=RANDOM_STATE,\n",
    "    n_jobs=-1\n",
    ")"
   ]
  },
  {
   "cell_type": "code",
   "execution_count": 28,
   "metadata": {},
   "outputs": [
    {
     "name": "stdout",
     "output_type": "stream",
     "text": [
      "Wall time: 0 ns\n",
      "Лучшая модель и её параметры:\n",
      "\n",
      " Pipeline(steps=[('tfidf',\n",
      "                 TfidfVectorizer(stop_words=['doing', 'out', 'own', 'it',\n",
      "                                             'each', 'so', 'himself', 'mustn',\n",
      "                                             'its', \"she's\", 'under', 'or',\n",
      "                                             \"couldn't\", 'he', 'again', 'by',\n",
      "                                             \"hadn't\", 'off', 'couldn',\n",
      "                                             'shouldn', 'when', 'didn', 'were',\n",
      "                                             'during', 'hadn', 'yourselves',\n",
      "                                             'their', 'will', 'ourselves',\n",
      "                                             'after', ...])),\n",
      "                ('models', KNeighborsClassifier(n_neighbors=3))])\n",
      "Метрика лучшей модели на тренировочной выборке: 0.30314958671665887\n"
     ]
    }
   ],
   "source": [
    "%time\n",
    "randomized_search.fit(X_train, y_train)\n",
    "\n",
    "print('Лучшая модель и её параметры:\\n\\n', randomized_search.best_estimator_)\n",
    "print ('Метрика лучшей модели на тренировочной выборке:', randomized_search.best_score_)"
   ]
  },
  {
   "cell_type": "markdown",
   "metadata": {},
   "source": [
    "Что ж. \n",
    "\n",
    "Соберем все имеющиеся данные. "
   ]
  },
  {
   "cell_type": "code",
   "execution_count": 31,
   "metadata": {},
   "outputs": [
    {
     "data": {
      "text/html": [
       "<div>\n",
       "<style scoped>\n",
       "    .dataframe tbody tr th:only-of-type {\n",
       "        vertical-align: middle;\n",
       "    }\n",
       "\n",
       "    .dataframe tbody tr th {\n",
       "        vertical-align: top;\n",
       "    }\n",
       "\n",
       "    .dataframe thead th {\n",
       "        text-align: right;\n",
       "    }\n",
       "</style>\n",
       "<table border=\"1\" class=\"dataframe\">\n",
       "  <thead>\n",
       "    <tr style=\"text-align: right;\">\n",
       "      <th></th>\n",
       "      <th>Модель</th>\n",
       "      <th>f1 на обучении</th>\n",
       "    </tr>\n",
       "  </thead>\n",
       "  <tbody>\n",
       "    <tr>\n",
       "      <th>0</th>\n",
       "      <td>LogisticRegression</td>\n",
       "      <td>73</td>\n",
       "    </tr>\n",
       "    <tr>\n",
       "      <th>1</th>\n",
       "      <td>LogisticRegression с регуляризацией</td>\n",
       "      <td>75</td>\n",
       "    </tr>\n",
       "    <tr>\n",
       "      <th>2</th>\n",
       "      <td>CatBoostClassifier</td>\n",
       "      <td>74</td>\n",
       "    </tr>\n",
       "    <tr>\n",
       "      <th>3</th>\n",
       "      <td>CatBoostClassifier с подбором параметров</td>\n",
       "      <td>73</td>\n",
       "    </tr>\n",
       "    <tr>\n",
       "      <th>4</th>\n",
       "      <td>KNeighborsClassifier</td>\n",
       "      <td>30</td>\n",
       "    </tr>\n",
       "  </tbody>\n",
       "</table>\n",
       "</div>"
      ],
      "text/plain": [
       "                                     Модель  f1 на обучении\n",
       "0                        LogisticRegression              73\n",
       "1       LogisticRegression с регуляризацией              75\n",
       "2                        CatBoostClassifier              74\n",
       "3  CatBoostClassifier с подбором параметров              73\n",
       "4                      KNeighborsClassifier              30"
      ]
     },
     "execution_count": 31,
     "metadata": {},
     "output_type": "execute_result"
    }
   ],
   "source": [
    "df = pd.DataFrame({'Модель': ['LogisticRegression', 'LogisticRegression с регуляризацией', 'CatBoostClassifier', \n",
    "                              'CatBoostClassifier с подбором параметров', 'KNeighborsClassifier'],\n",
    "                   'f1 на обучении': [73, 75, 74, 73, 30]                \n",
    "                  })\n",
    "\n",
    "df"
   ]
  },
  {
   "cell_type": "markdown",
   "metadata": {},
   "source": [
    "Ни одна из представленных моделей не достигла порога в 0,75, хотя LogisticRegression и CatBoostClassifier приблизились к нему. Попробуем посчитать f1 на тестовых данных с помощью CatBoostClassifier"
   ]
  },
  {
   "cell_type": "code",
   "execution_count": 33,
   "metadata": {},
   "outputs": [
    {
     "name": "stdout",
     "output_type": "stream",
     "text": [
      "Метрика f1 на тестовой выборке: 0.75\n"
     ]
    }
   ],
   "source": [
    "x_test_pred = pipe_tfidf2.predict(X_test)\n",
    "print(f'Метрика f1 на тестовой выборке: {round(f1_score(y_test, x_test_pred), 2)}')"
   ]
  },
  {
   "cell_type": "markdown",
   "metadata": {},
   "source": [
    "## Выводы"
   ]
  },
  {
   "cell_type": "markdown",
   "metadata": {},
   "source": [
    "1. На этапе подготовки выявлено, что пропуски и дубли отсутствуют, а сами твиты даны на английском языке.\n",
    "2. Присутствует дисбаланс классов: доля токсичных комментариев составляет всего 10%;\n",
    "3. Проведена предварительная обработка данных:\n",
    "* данные очищены от цифр и символов;\n",
    "* лемматизированы;\n",
    "* очищены от стоп-слов;\n",
    "* переведены в векторный вид. \n",
    "4. Протестированы 4 модели:\n",
    "* LogisticRegression\n",
    "* CatBoostClassifier\n",
    "* CatBoostClassifier с подбором параметров\n",
    "* SVC.\n",
    "\n",
    "Самые высокие результаты показали LogisticRegression и CatBoostClassifier. CatBoostClassifier показал максимальный результат на тестовых данных - 0,74.\n",
    "\n",
    "Можно улучшить результат, освоив BERT. "
   ]
  },
  {
   "cell_type": "code",
   "execution_count": null,
   "metadata": {},
   "outputs": [],
   "source": []
  }
 ],
 "metadata": {
  "ExecuteTimeLog": [
   {
    "duration": 2604,
    "start_time": "2024-03-05T11:47:51.984Z"
   },
   {
    "duration": 0,
    "start_time": "2024-03-05T11:47:54.590Z"
   },
   {
    "duration": 0,
    "start_time": "2024-03-05T11:47:54.591Z"
   },
   {
    "duration": 0,
    "start_time": "2024-03-05T11:47:54.592Z"
   },
   {
    "duration": 8,
    "start_time": "2024-03-05T11:47:56.135Z"
   },
   {
    "duration": 3524,
    "start_time": "2024-03-05T11:48:12.235Z"
   },
   {
    "duration": 943,
    "start_time": "2024-03-05T11:48:15.761Z"
   },
   {
    "duration": 2123,
    "start_time": "2024-03-05T11:48:19.665Z"
   },
   {
    "duration": 10,
    "start_time": "2024-03-05T11:48:21.790Z"
   },
   {
    "duration": 239,
    "start_time": "2024-03-05T11:48:21.801Z"
   },
   {
    "duration": 8,
    "start_time": "2024-03-05T11:48:22.045Z"
   },
   {
    "duration": 6,
    "start_time": "2024-03-05T11:48:24.495Z"
   },
   {
    "duration": 8,
    "start_time": "2024-03-05T11:48:25.452Z"
   },
   {
    "duration": 3,
    "start_time": "2024-03-05T11:48:28.099Z"
   },
   {
    "duration": 19201,
    "start_time": "2024-03-05T11:48:31.444Z"
   },
   {
    "duration": 2,
    "start_time": "2024-03-05T11:48:50.646Z"
   },
   {
    "duration": 114,
    "start_time": "2024-03-05T11:49:30.437Z"
   },
   {
    "duration": 38,
    "start_time": "2024-03-05T11:49:38.486Z"
   },
   {
    "duration": 1092,
    "start_time": "2024-03-05T11:49:52.785Z"
   },
   {
    "duration": 7,
    "start_time": "2024-03-05T11:49:56.235Z"
   },
   {
    "duration": 2236,
    "start_time": "2024-03-05T11:59:48.929Z"
   },
   {
    "duration": 2991,
    "start_time": "2024-03-05T11:59:51.168Z"
   },
   {
    "duration": 754,
    "start_time": "2024-03-05T11:59:54.160Z"
   },
   {
    "duration": 9,
    "start_time": "2024-03-05T11:59:54.916Z"
   },
   {
    "duration": 247,
    "start_time": "2024-03-05T11:59:54.926Z"
   },
   {
    "duration": 8,
    "start_time": "2024-03-05T11:59:55.174Z"
   },
   {
    "duration": 23,
    "start_time": "2024-03-05T11:59:55.183Z"
   },
   {
    "duration": 47,
    "start_time": "2024-03-05T11:59:55.207Z"
   },
   {
    "duration": 10,
    "start_time": "2024-03-05T11:59:55.255Z"
   },
   {
    "duration": 19473,
    "start_time": "2024-03-05T11:59:55.267Z"
   },
   {
    "duration": 536,
    "start_time": "2024-03-05T12:00:29.568Z"
   },
   {
    "duration": 1090,
    "start_time": "2024-03-05T12:00:54.542Z"
   },
   {
    "duration": 6,
    "start_time": "2024-03-05T12:01:03.003Z"
   },
   {
    "duration": 3,
    "start_time": "2024-03-05T12:09:43.587Z"
   },
   {
    "duration": 6,
    "start_time": "2024-03-05T12:09:45.647Z"
   },
   {
    "duration": 8,
    "start_time": "2024-03-05T12:10:23.578Z"
   },
   {
    "duration": 4,
    "start_time": "2024-03-05T12:10:28.557Z"
   },
   {
    "duration": 3,
    "start_time": "2024-03-05T12:10:39.449Z"
   }
  ],
  "kernelspec": {
   "display_name": "Python 3 (ipykernel)",
   "language": "python",
   "name": "python3"
  },
  "language_info": {
   "codemirror_mode": {
    "name": "ipython",
    "version": 3
   },
   "file_extension": ".py",
   "mimetype": "text/x-python",
   "name": "python",
   "nbconvert_exporter": "python",
   "pygments_lexer": "ipython3",
   "version": "3.9.5"
  },
  "toc": {
   "base_numbering": 1,
   "nav_menu": {},
   "number_sections": true,
   "sideBar": true,
   "skip_h1_title": true,
   "title_cell": "Содержание",
   "title_sidebar": "Contents",
   "toc_cell": true,
   "toc_position": {
    "height": "calc(100% - 180px)",
    "left": "10px",
    "top": "150px",
    "width": "302.391px"
   },
   "toc_section_display": true,
   "toc_window_display": false
  }
 },
 "nbformat": 4,
 "nbformat_minor": 4
}
