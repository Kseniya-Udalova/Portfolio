{
 "cells": [
  {
   "cell_type": "markdown",
   "metadata": {},
   "source": [
    "# Исследование игровых продуктов"
   ]
  },
  {
   "cell_type": "markdown",
   "metadata": {},
   "source": [
    "# Цель проекта:\n",
    "1. описание закономерностей, определяющих успешность игр;\n",
    "2. выявление популярных продуктов для планирования рекламных кампаний.\n",
    "\n",
    "<b>Этапы выполнения:</b> \n",
    "1. Загрузка данных, анализ общей информации;\n",
    "2. Предобработка данных: \n",
    "* замена названий столбцов;\n",
    "* преобразование типов данных;\n",
    "* удаление и замена пропусков и дубликатов;\n",
    "* подсчет суммарных продаж во всех регионах.\n",
    "3. Исследовательский анализ данных - описание и визуализация общей информации:\n",
    "* количество игр по годам;\n",
    "* анализ платформ по продажам;\n",
    "* анализ зависимости продаж от отзывов;\n",
    "* анализ жанров.\n",
    "4. Составление портрета пользователя по регионам;\n",
    "4. Формирование общего вывода.\n",
    "\n",
    "<b>Описание данных:</b> \n",
    "* Name — название игры\n",
    "* Platform — платформа\n",
    "* Year_of_Release — год выпуска\n",
    "* Genre — жанр игры\n",
    "* NA_sales — продажи в Северной Америке (миллионы проданных копий)\n",
    "* EU_sales — продажи в Европе (миллионы проданных копий)\n",
    "* JP_sales — продажи в Японии (миллионы проданных копий)\n",
    "* Other_sales — продажи в других странах (миллионы проданных копий)\n",
    "* Critic_Score — оценка критиков (максимум 100)\n",
    "* User_Score — оценка пользователей (максимум 10)\n",
    "* Rating — рейтинг от организации ESRB (англ. Entertainment Software Rating Board). Эта ассоциация определяет рейтинг компьютерных игр и присваивает им подходящую возрастную категорию."
   ]
  },
  {
   "cell_type": "markdown",
   "metadata": {},
   "source": [
    "## Загрузка данных"
   ]
  },
  {
   "cell_type": "code",
   "execution_count": 1,
   "metadata": {},
   "outputs": [],
   "source": [
    "#импорт требуемых библиотек\n",
    "import pandas as pd\n",
    "import seaborn as sns\n",
    "import matplotlib.pyplot as plt\n",
    "import numpy as np\n",
    "from math import factorial\n",
    "from scipy import stats as st\n",
    "import warnings\n",
    "warnings.simplefilter(\"ignore\")"
   ]
  },
  {
   "cell_type": "code",
   "execution_count": 2,
   "metadata": {},
   "outputs": [],
   "source": [
    "#записываем в data данные файла\n"
   ]
  },
  {
   "cell_type": "code",
   "execution_count": 3,
   "metadata": {
    "scrolled": true
   },
   "outputs": [
    {
     "data": {
      "text/html": [
       "<div>\n",
       "<style scoped>\n",
       "    .dataframe tbody tr th:only-of-type {\n",
       "        vertical-align: middle;\n",
       "    }\n",
       "\n",
       "    .dataframe tbody tr th {\n",
       "        vertical-align: top;\n",
       "    }\n",
       "\n",
       "    .dataframe thead th {\n",
       "        text-align: right;\n",
       "    }\n",
       "</style>\n",
       "<table border=\"1\" class=\"dataframe\">\n",
       "  <thead>\n",
       "    <tr style=\"text-align: right;\">\n",
       "      <th></th>\n",
       "      <th>Name</th>\n",
       "      <th>Platform</th>\n",
       "      <th>Year_of_Release</th>\n",
       "      <th>Genre</th>\n",
       "      <th>NA_sales</th>\n",
       "      <th>EU_sales</th>\n",
       "      <th>JP_sales</th>\n",
       "      <th>Other_sales</th>\n",
       "      <th>Critic_Score</th>\n",
       "      <th>User_Score</th>\n",
       "      <th>Rating</th>\n",
       "    </tr>\n",
       "  </thead>\n",
       "  <tbody>\n",
       "    <tr>\n",
       "      <th>0</th>\n",
       "      <td>Wii Sports</td>\n",
       "      <td>Wii</td>\n",
       "      <td>2006.0</td>\n",
       "      <td>Sports</td>\n",
       "      <td>41.36</td>\n",
       "      <td>28.96</td>\n",
       "      <td>3.77</td>\n",
       "      <td>8.45</td>\n",
       "      <td>76.0</td>\n",
       "      <td>8</td>\n",
       "      <td>E</td>\n",
       "    </tr>\n",
       "    <tr>\n",
       "      <th>1</th>\n",
       "      <td>Super Mario Bros.</td>\n",
       "      <td>NES</td>\n",
       "      <td>1985.0</td>\n",
       "      <td>Platform</td>\n",
       "      <td>29.08</td>\n",
       "      <td>3.58</td>\n",
       "      <td>6.81</td>\n",
       "      <td>0.77</td>\n",
       "      <td>NaN</td>\n",
       "      <td>NaN</td>\n",
       "      <td>NaN</td>\n",
       "    </tr>\n",
       "    <tr>\n",
       "      <th>2</th>\n",
       "      <td>Mario Kart Wii</td>\n",
       "      <td>Wii</td>\n",
       "      <td>2008.0</td>\n",
       "      <td>Racing</td>\n",
       "      <td>15.68</td>\n",
       "      <td>12.76</td>\n",
       "      <td>3.79</td>\n",
       "      <td>3.29</td>\n",
       "      <td>82.0</td>\n",
       "      <td>8.3</td>\n",
       "      <td>E</td>\n",
       "    </tr>\n",
       "    <tr>\n",
       "      <th>3</th>\n",
       "      <td>Wii Sports Resort</td>\n",
       "      <td>Wii</td>\n",
       "      <td>2009.0</td>\n",
       "      <td>Sports</td>\n",
       "      <td>15.61</td>\n",
       "      <td>10.93</td>\n",
       "      <td>3.28</td>\n",
       "      <td>2.95</td>\n",
       "      <td>80.0</td>\n",
       "      <td>8</td>\n",
       "      <td>E</td>\n",
       "    </tr>\n",
       "    <tr>\n",
       "      <th>4</th>\n",
       "      <td>Pokemon Red/Pokemon Blue</td>\n",
       "      <td>GB</td>\n",
       "      <td>1996.0</td>\n",
       "      <td>Role-Playing</td>\n",
       "      <td>11.27</td>\n",
       "      <td>8.89</td>\n",
       "      <td>10.22</td>\n",
       "      <td>1.00</td>\n",
       "      <td>NaN</td>\n",
       "      <td>NaN</td>\n",
       "      <td>NaN</td>\n",
       "    </tr>\n",
       "    <tr>\n",
       "      <th>5</th>\n",
       "      <td>Tetris</td>\n",
       "      <td>GB</td>\n",
       "      <td>1989.0</td>\n",
       "      <td>Puzzle</td>\n",
       "      <td>23.20</td>\n",
       "      <td>2.26</td>\n",
       "      <td>4.22</td>\n",
       "      <td>0.58</td>\n",
       "      <td>NaN</td>\n",
       "      <td>NaN</td>\n",
       "      <td>NaN</td>\n",
       "    </tr>\n",
       "    <tr>\n",
       "      <th>6</th>\n",
       "      <td>New Super Mario Bros.</td>\n",
       "      <td>DS</td>\n",
       "      <td>2006.0</td>\n",
       "      <td>Platform</td>\n",
       "      <td>11.28</td>\n",
       "      <td>9.14</td>\n",
       "      <td>6.50</td>\n",
       "      <td>2.88</td>\n",
       "      <td>89.0</td>\n",
       "      <td>8.5</td>\n",
       "      <td>E</td>\n",
       "    </tr>\n",
       "    <tr>\n",
       "      <th>7</th>\n",
       "      <td>Wii Play</td>\n",
       "      <td>Wii</td>\n",
       "      <td>2006.0</td>\n",
       "      <td>Misc</td>\n",
       "      <td>13.96</td>\n",
       "      <td>9.18</td>\n",
       "      <td>2.93</td>\n",
       "      <td>2.84</td>\n",
       "      <td>58.0</td>\n",
       "      <td>6.6</td>\n",
       "      <td>E</td>\n",
       "    </tr>\n",
       "    <tr>\n",
       "      <th>8</th>\n",
       "      <td>New Super Mario Bros. Wii</td>\n",
       "      <td>Wii</td>\n",
       "      <td>2009.0</td>\n",
       "      <td>Platform</td>\n",
       "      <td>14.44</td>\n",
       "      <td>6.94</td>\n",
       "      <td>4.70</td>\n",
       "      <td>2.24</td>\n",
       "      <td>87.0</td>\n",
       "      <td>8.4</td>\n",
       "      <td>E</td>\n",
       "    </tr>\n",
       "    <tr>\n",
       "      <th>9</th>\n",
       "      <td>Duck Hunt</td>\n",
       "      <td>NES</td>\n",
       "      <td>1984.0</td>\n",
       "      <td>Shooter</td>\n",
       "      <td>26.93</td>\n",
       "      <td>0.63</td>\n",
       "      <td>0.28</td>\n",
       "      <td>0.47</td>\n",
       "      <td>NaN</td>\n",
       "      <td>NaN</td>\n",
       "      <td>NaN</td>\n",
       "    </tr>\n",
       "  </tbody>\n",
       "</table>\n",
       "</div>"
      ],
      "text/plain": [
       "                        Name Platform  Year_of_Release         Genre  \\\n",
       "0                 Wii Sports      Wii           2006.0        Sports   \n",
       "1          Super Mario Bros.      NES           1985.0      Platform   \n",
       "2             Mario Kart Wii      Wii           2008.0        Racing   \n",
       "3          Wii Sports Resort      Wii           2009.0        Sports   \n",
       "4   Pokemon Red/Pokemon Blue       GB           1996.0  Role-Playing   \n",
       "5                     Tetris       GB           1989.0        Puzzle   \n",
       "6      New Super Mario Bros.       DS           2006.0      Platform   \n",
       "7                   Wii Play      Wii           2006.0          Misc   \n",
       "8  New Super Mario Bros. Wii      Wii           2009.0      Platform   \n",
       "9                  Duck Hunt      NES           1984.0       Shooter   \n",
       "\n",
       "   NA_sales  EU_sales  JP_sales  Other_sales  Critic_Score User_Score Rating  \n",
       "0     41.36     28.96      3.77         8.45          76.0          8      E  \n",
       "1     29.08      3.58      6.81         0.77           NaN        NaN    NaN  \n",
       "2     15.68     12.76      3.79         3.29          82.0        8.3      E  \n",
       "3     15.61     10.93      3.28         2.95          80.0          8      E  \n",
       "4     11.27      8.89     10.22         1.00           NaN        NaN    NaN  \n",
       "5     23.20      2.26      4.22         0.58           NaN        NaN    NaN  \n",
       "6     11.28      9.14      6.50         2.88          89.0        8.5      E  \n",
       "7     13.96      9.18      2.93         2.84          58.0        6.6      E  \n",
       "8     14.44      6.94      4.70         2.24          87.0        8.4      E  \n",
       "9     26.93      0.63      0.28         0.47           NaN        NaN    NaN  "
      ]
     },
     "execution_count": 3,
     "metadata": {},
     "output_type": "execute_result"
    }
   ],
   "source": [
    "#смотрим первые 10 строк таблицы\n",
    "data.head(10)"
   ]
  },
  {
   "cell_type": "code",
   "execution_count": 4,
   "metadata": {},
   "outputs": [],
   "source": [
    "#функция для расчета количесства строк в столбце, количество заполненных и доли пропусков\n",
    "def df_info(df, str1 = \"-------\\n\", str2 = \"\\n\\n\") :\n",
    "    print(str1)\n",
    "    df_size = df.size\n",
    "    not_na_count = df.notna().sum()\n",
    "    na_count = df.isna().sum()\n",
    "    dublicated = df.duplicated().sum()\n",
    "    \n",
    "    if df_size == na_count:\n",
    "        print('Данные отсутствуют')\n",
    "    elif df_size == 0 :\n",
    "        print('Данные отсутствуют')\n",
    "    else:\n",
    "        print(f\"size: {df_size}\")\n",
    "        print(f\"na_count: {na_count}\")\n",
    "        print(f\"not_na_count: {not_na_count}\")\n",
    "        print(f\"na_ratio: {(na_count / df_size):.2f}\") \n",
    "        print(f\"duplicated: {dublicated}\") \n",
    "        print(f\"duplicated_ratio: {(dublicated / df_size):.2f}\") \n",
    "    print(str2)"
   ]
  },
  {
   "cell_type": "code",
   "execution_count": 5,
   "metadata": {},
   "outputs": [],
   "source": [
    "#создаем функцию для применения предыдущей функции к каждому столбцу \n",
    "def data_info (data, col_name):\n",
    "    print(col_name)\n",
    "    df_info(data[col_name])"
   ]
  },
  {
   "cell_type": "code",
   "execution_count": 6,
   "metadata": {},
   "outputs": [
    {
     "name": "stdout",
     "output_type": "stream",
     "text": [
      "Name\n",
      "-------\n",
      "\n",
      "size: 16715\n",
      "na_count: 2\n",
      "not_na_count: 16713\n",
      "na_ratio: 0.00\n",
      "duplicated: 5155\n",
      "duplicated_ratio: 0.31\n",
      "\n",
      "\n",
      "\n",
      "Platform\n",
      "-------\n",
      "\n",
      "size: 16715\n",
      "na_count: 0\n",
      "not_na_count: 16715\n",
      "na_ratio: 0.00\n",
      "duplicated: 16684\n",
      "duplicated_ratio: 1.00\n",
      "\n",
      "\n",
      "\n",
      "Year_of_Release\n",
      "-------\n",
      "\n",
      "size: 16715\n",
      "na_count: 269\n",
      "not_na_count: 16446\n",
      "na_ratio: 0.02\n",
      "duplicated: 16677\n",
      "duplicated_ratio: 1.00\n",
      "\n",
      "\n",
      "\n",
      "Genre\n",
      "-------\n",
      "\n",
      "size: 16715\n",
      "na_count: 2\n",
      "not_na_count: 16713\n",
      "na_ratio: 0.00\n",
      "duplicated: 16702\n",
      "duplicated_ratio: 1.00\n",
      "\n",
      "\n",
      "\n",
      "NA_sales\n",
      "-------\n",
      "\n",
      "size: 16715\n",
      "na_count: 0\n",
      "not_na_count: 16715\n",
      "na_ratio: 0.00\n",
      "duplicated: 16313\n",
      "duplicated_ratio: 0.98\n",
      "\n",
      "\n",
      "\n",
      "EU_sales\n",
      "-------\n",
      "\n",
      "size: 16715\n",
      "na_count: 0\n",
      "not_na_count: 16715\n",
      "na_ratio: 0.00\n",
      "duplicated: 16408\n",
      "duplicated_ratio: 0.98\n",
      "\n",
      "\n",
      "\n",
      "JP_sales\n",
      "-------\n",
      "\n",
      "size: 16715\n",
      "na_count: 0\n",
      "not_na_count: 16715\n",
      "na_ratio: 0.00\n",
      "duplicated: 16471\n",
      "duplicated_ratio: 0.99\n",
      "\n",
      "\n",
      "\n",
      "Other_sales\n",
      "-------\n",
      "\n",
      "size: 16715\n",
      "na_count: 0\n",
      "not_na_count: 16715\n",
      "na_ratio: 0.00\n",
      "duplicated: 16560\n",
      "duplicated_ratio: 0.99\n",
      "\n",
      "\n",
      "\n",
      "Critic_Score\n",
      "-------\n",
      "\n",
      "size: 16715\n",
      "na_count: 8578\n",
      "not_na_count: 8137\n",
      "na_ratio: 0.51\n",
      "duplicated: 16632\n",
      "duplicated_ratio: 1.00\n",
      "\n",
      "\n",
      "\n",
      "User_Score\n",
      "-------\n",
      "\n",
      "size: 16715\n",
      "na_count: 6701\n",
      "not_na_count: 10014\n",
      "na_ratio: 0.40\n",
      "duplicated: 16618\n",
      "duplicated_ratio: 0.99\n",
      "\n",
      "\n",
      "\n",
      "Rating\n",
      "-------\n",
      "\n",
      "size: 16715\n",
      "na_count: 6766\n",
      "not_na_count: 9949\n",
      "na_ratio: 0.40\n",
      "duplicated: 16706\n",
      "duplicated_ratio: 1.00\n",
      "\n",
      "\n",
      "\n",
      "<class 'pandas.core.frame.DataFrame'>\n",
      "RangeIndex: 16715 entries, 0 to 16714\n",
      "Data columns (total 11 columns):\n",
      " #   Column           Non-Null Count  Dtype  \n",
      "---  ------           --------------  -----  \n",
      " 0   Name             16713 non-null  object \n",
      " 1   Platform         16715 non-null  object \n",
      " 2   Year_of_Release  16446 non-null  float64\n",
      " 3   Genre            16713 non-null  object \n",
      " 4   NA_sales         16715 non-null  float64\n",
      " 5   EU_sales         16715 non-null  float64\n",
      " 6   JP_sales         16715 non-null  float64\n",
      " 7   Other_sales      16715 non-null  float64\n",
      " 8   Critic_Score     8137 non-null   float64\n",
      " 9   User_Score       10014 non-null  object \n",
      " 10  Rating           9949 non-null   object \n",
      "dtypes: float64(6), object(5)\n",
      "memory usage: 1.4+ MB\n",
      "None\n"
     ]
    }
   ],
   "source": [
    "#смотрим результат\n",
    "for el in data.columns:\n",
    "    data_info(data, el)\n",
    "print(data.info())"
   ]
  },
  {
   "cell_type": "markdown",
   "metadata": {},
   "source": [
    "Таблица содержит 16715 строк и 11 столбцов. \\\n",
    "В столбцах с именем, годом выпуска, жанром, продажами в других странах, оценкой пользователей и рейтингом есть пропуски. \\\n",
    "В следующем шаге проведем обработку данных."
   ]
  },
  {
   "cell_type": "markdown",
   "metadata": {},
   "source": [
    "## Предобработка данных"
   ]
  },
  {
   "cell_type": "code",
   "execution_count": 7,
   "metadata": {},
   "outputs": [],
   "source": [
    "#заменим названия столбцов на более удобные - в нижнем регистре\n",
    "data = data.rename(columns=lambda x: x.lower())"
   ]
  },
  {
   "cell_type": "code",
   "execution_count": 8,
   "metadata": {},
   "outputs": [
    {
     "data": {
      "text/plain": [
       "Index(['name', 'platform', 'year_of_release', 'genre', 'na_sales', 'eu_sales',\n",
       "       'jp_sales', 'other_sales', 'critic_score', 'user_score', 'rating'],\n",
       "      dtype='object')"
      ]
     },
     "execution_count": 8,
     "metadata": {},
     "output_type": "execute_result"
    }
   ],
   "source": [
    "data.columns"
   ]
  },
  {
   "cell_type": "markdown",
   "metadata": {},
   "source": [
    "Столбцы с данными по году выпуска и оценкой критиков имеют тип float, хотя логичней было бы использовать int.\n",
    "При наличии пропусков int из float не получится. Для столбца с данными по годам выпуска мы удалим строки с пропущенными значениями - это один из важных пунктов, которые понадобтся  в дальнейшем и которые мы не сможем обработать (заменить медианой по году, например, не получится). "
   ]
  },
  {
   "cell_type": "code",
   "execution_count": 9,
   "metadata": {},
   "outputs": [],
   "source": [
    "#удалим строки с пропущенным годом выпуска\n",
    "data = data[data['year_of_release'] > 0]"
   ]
  },
  {
   "cell_type": "code",
   "execution_count": 10,
   "metadata": {},
   "outputs": [],
   "source": [
    "#приведем в порядок типы данных в столбце с годом выпуска\n",
    "data['year_of_release'] = data['year_of_release'].astype(int)"
   ]
  },
  {
   "cell_type": "code",
   "execution_count": 11,
   "metadata": {},
   "outputs": [
    {
     "name": "stdout",
     "output_type": "stream",
     "text": [
      "<class 'pandas.core.frame.DataFrame'>\n",
      "Int64Index: 16446 entries, 0 to 16714\n",
      "Data columns (total 11 columns):\n",
      " #   Column           Non-Null Count  Dtype  \n",
      "---  ------           --------------  -----  \n",
      " 0   name             16444 non-null  object \n",
      " 1   platform         16446 non-null  object \n",
      " 2   year_of_release  16446 non-null  int64  \n",
      " 3   genre            16444 non-null  object \n",
      " 4   na_sales         16446 non-null  float64\n",
      " 5   eu_sales         16446 non-null  float64\n",
      " 6   jp_sales         16446 non-null  float64\n",
      " 7   other_sales      16446 non-null  float64\n",
      " 8   critic_score     7983 non-null   float64\n",
      " 9   user_score       9839 non-null   object \n",
      " 10  rating           9768 non-null   object \n",
      "dtypes: float64(5), int64(1), object(5)\n",
      "memory usage: 1.5+ MB\n"
     ]
    }
   ],
   "source": [
    "data.info()"
   ]
  },
  {
   "cell_type": "markdown",
   "metadata": {},
   "source": [
    "С данными по оценке критиков так сделать не получится - оценка 0 не тоже самое, что оценки нет вообще. Данные в этом столбце оставим, как есть. "
   ]
  },
  {
   "cell_type": "markdown",
   "metadata": {},
   "source": [
    "Столбец с оценкой пользователей имеет тип данных object, хотя логичней было бы использовать float, т.к. оценка имеет дробную часть. Сразу привести к типу float мы не сможем, т.к. в столбе имеются значениия 'tbd'. "
   ]
  },
  {
   "cell_type": "code",
   "execution_count": 12,
   "metadata": {},
   "outputs": [
    {
     "data": {
      "text/plain": [
       "2376"
      ]
     },
     "execution_count": 12,
     "metadata": {},
     "output_type": "execute_result"
    }
   ],
   "source": [
    "#посмотрим, сколько таких значений\n",
    "data[data['user_score'] == 'tbd']['name'].count()"
   ]
  },
  {
   "cell_type": "markdown",
   "metadata": {},
   "source": [
    "Интернет-ресурсы подсказывают, что есть два варианта обрзначения tbd:\n",
    "* издатель не захотел получать рейтинговую оценку ESRB;\n",
    "* игра не планировалась выпускаться для региона NA.\n",
    "\n",
    "Проверим, действительно ли игра не планировалась для Северной Америки - посчитаем, сколько заполненных игр с рейтингом tbd не имеют продаж в регионе NA"
   ]
  },
  {
   "cell_type": "code",
   "execution_count": 13,
   "metadata": {
    "scrolled": true
   },
   "outputs": [
    {
     "data": {
      "text/plain": [
       "0"
      ]
     },
     "execution_count": 13,
     "metadata": {},
     "output_type": "execute_result"
    }
   ],
   "source": [
    "data[data['user_score'] == 'tbd']['na_sales'].isna().sum()"
   ]
  },
  {
   "cell_type": "markdown",
   "metadata": {},
   "source": [
    "Получается, что все игры с рейтингом 'tbd' продавались в Северной Америке. Вывод: издатель не захотел получать оценку ESRB, поэтому пользовательская оценка может быть заменена на ее отсутствие -  пустые значения. "
   ]
  },
  {
   "cell_type": "code",
   "execution_count": 14,
   "metadata": {},
   "outputs": [],
   "source": [
    "#заменяем tbd на отсутствие данных\n",
    "data = data.replace(['tbd'], \"NaN\")"
   ]
  },
  {
   "cell_type": "code",
   "execution_count": 15,
   "metadata": {},
   "outputs": [],
   "source": [
    "#теперь можно поменять тип данных на нужный\n",
    "data['user_score'] = data['user_score'].astype(float)"
   ]
  },
  {
   "cell_type": "code",
   "execution_count": 16,
   "metadata": {},
   "outputs": [
    {
     "name": "stdout",
     "output_type": "stream",
     "text": [
      "<class 'pandas.core.frame.DataFrame'>\n",
      "Int64Index: 16446 entries, 0 to 16714\n",
      "Data columns (total 11 columns):\n",
      " #   Column           Non-Null Count  Dtype  \n",
      "---  ------           --------------  -----  \n",
      " 0   name             16444 non-null  object \n",
      " 1   platform         16446 non-null  object \n",
      " 2   year_of_release  16446 non-null  int64  \n",
      " 3   genre            16444 non-null  object \n",
      " 4   na_sales         16446 non-null  float64\n",
      " 5   eu_sales         16446 non-null  float64\n",
      " 6   jp_sales         16446 non-null  float64\n",
      " 7   other_sales      16446 non-null  float64\n",
      " 8   critic_score     7983 non-null   float64\n",
      " 9   user_score       7463 non-null   float64\n",
      " 10  rating           9768 non-null   object \n",
      "dtypes: float64(6), int64(1), object(4)\n",
      "memory usage: 1.5+ MB\n"
     ]
    }
   ],
   "source": [
    "#проверяем\n",
    "data.info()"
   ]
  },
  {
   "cell_type": "markdown",
   "metadata": {},
   "source": [
    "Теперь с типами данных все в порядке. Посмотрим ситуацию с пропусками "
   ]
  },
  {
   "cell_type": "code",
   "execution_count": 17,
   "metadata": {
    "scrolled": true
   },
   "outputs": [
    {
     "data": {
      "text/plain": [
       "name                  2\n",
       "platform              0\n",
       "year_of_release       0\n",
       "genre                 2\n",
       "na_sales              0\n",
       "eu_sales              0\n",
       "jp_sales              0\n",
       "other_sales           0\n",
       "critic_score       8463\n",
       "user_score         8983\n",
       "rating             6678\n",
       "dtype: int64"
      ]
     },
     "execution_count": 17,
     "metadata": {},
     "output_type": "execute_result"
    }
   ],
   "source": [
    "#посмотрим, сколько пропусков встечается в таблице и в каких данных\n",
    "data.isna().sum()"
   ]
  },
  {
   "cell_type": "markdown",
   "metadata": {},
   "source": [
    "Пропуски в столбцах с названием игры мы удалим, т.к. в дальнейшем будем проводить анализ по этому параметру и он нам понадобится. Пропуски в рейтиинге пользователей не заполняем - вероятно, пользователи не оставили оценок. Аналогично с оценками критиков: отзывы будут зависеть в том числе от скорости платформы и могут отличаться на разных площадках. \\\n",
    "А вот с оценкой ESRB нужно рассмотреть подробнее, ведь оценка не зависит от платформы. Возможно, для каких-то игр мы сможем найти значение, которое есть на какой-либо из платформ. например, Супер-Марио на платформе NES\tимеет оценку ESRB, а на платформе Wii нет. Тогда для платформы Wii мы сможем указать оценку с платформы NES."
   ]
  },
  {
   "cell_type": "code",
   "execution_count": 18,
   "metadata": {},
   "outputs": [],
   "source": [
    "#удаляем пропуски в названии игры\n",
    "data = data[data['name'].notna()]"
   ]
  },
  {
   "cell_type": "code",
   "execution_count": 19,
   "metadata": {},
   "outputs": [
    {
     "data": {
      "text/html": [
       "<div>\n",
       "<style scoped>\n",
       "    .dataframe tbody tr th:only-of-type {\n",
       "        vertical-align: middle;\n",
       "    }\n",
       "\n",
       "    .dataframe tbody tr th {\n",
       "        vertical-align: top;\n",
       "    }\n",
       "\n",
       "    .dataframe thead th {\n",
       "        text-align: right;\n",
       "    }\n",
       "</style>\n",
       "<table border=\"1\" class=\"dataframe\">\n",
       "  <thead>\n",
       "    <tr style=\"text-align: right;\">\n",
       "      <th></th>\n",
       "      <th>name</th>\n",
       "      <th>rating</th>\n",
       "      <th>genre</th>\n",
       "    </tr>\n",
       "  </thead>\n",
       "  <tbody>\n",
       "    <tr>\n",
       "      <th>5</th>\n",
       "      <td>007: Quantum of Solace</td>\n",
       "      <td>T</td>\n",
       "      <td>5</td>\n",
       "    </tr>\n",
       "    <tr>\n",
       "      <th>15</th>\n",
       "      <td>18 Wheeler: American Pro Trucker</td>\n",
       "      <td>E</td>\n",
       "      <td>2</td>\n",
       "    </tr>\n",
       "    <tr>\n",
       "      <th>17</th>\n",
       "      <td>187: Ride or Die</td>\n",
       "      <td>M</td>\n",
       "      <td>2</td>\n",
       "    </tr>\n",
       "    <tr>\n",
       "      <th>18</th>\n",
       "      <td>2002 FIFA World Cup</td>\n",
       "      <td>E</td>\n",
       "      <td>3</td>\n",
       "    </tr>\n",
       "    <tr>\n",
       "      <th>19</th>\n",
       "      <td>2010 FIFA World Cup South Africa</td>\n",
       "      <td>E</td>\n",
       "      <td>4</td>\n",
       "    </tr>\n",
       "    <tr>\n",
       "      <th>...</th>\n",
       "      <td>...</td>\n",
       "      <td>...</td>\n",
       "      <td>...</td>\n",
       "    </tr>\n",
       "    <tr>\n",
       "      <th>6158</th>\n",
       "      <td>iCarly</td>\n",
       "      <td>E</td>\n",
       "      <td>2</td>\n",
       "    </tr>\n",
       "    <tr>\n",
       "      <th>6159</th>\n",
       "      <td>iCarly 2: iJoin The Click!</td>\n",
       "      <td>E</td>\n",
       "      <td>2</td>\n",
       "    </tr>\n",
       "    <tr>\n",
       "      <th>6163</th>\n",
       "      <td>nail'd</td>\n",
       "      <td>E10+</td>\n",
       "      <td>2</td>\n",
       "    </tr>\n",
       "    <tr>\n",
       "      <th>6164</th>\n",
       "      <td>pro evolution soccer 2011</td>\n",
       "      <td>E</td>\n",
       "      <td>5</td>\n",
       "    </tr>\n",
       "    <tr>\n",
       "      <th>6169</th>\n",
       "      <td>uDraw Studio: Instant Artist</td>\n",
       "      <td>E</td>\n",
       "      <td>2</td>\n",
       "    </tr>\n",
       "  </tbody>\n",
       "</table>\n",
       "<p>1965 rows × 3 columns</p>\n",
       "</div>"
      ],
      "text/plain": [
       "                                  name rating  genre\n",
       "5               007: Quantum of Solace      T      5\n",
       "15    18 Wheeler: American Pro Trucker      E      2\n",
       "17                    187: Ride or Die      M      2\n",
       "18                 2002 FIFA World Cup      E      3\n",
       "19    2010 FIFA World Cup South Africa      E      4\n",
       "...                                ...    ...    ...\n",
       "6158                            iCarly      E      2\n",
       "6159        iCarly 2: iJoin The Click!      E      2\n",
       "6163                            nail'd   E10+      2\n",
       "6164         pro evolution soccer 2011      E      5\n",
       "6169      uDraw Studio: Instant Artist      E      2\n",
       "\n",
       "[1965 rows x 3 columns]"
      ]
     },
     "execution_count": 19,
     "metadata": {},
     "output_type": "execute_result"
    }
   ],
   "source": [
    "#посмотрим, есть ли игры, у которых на разных платформах разные рейтинги\n",
    "data_gr = data.groupby(['name', 'rating'])['genre'].count().reset_index()\n",
    "data_gr[data_gr['genre'] >1]"
   ]
  },
  {
   "cell_type": "markdown",
   "metadata": {},
   "source": [
    "Действительно, есть, причем достаточно много. Поработаем с ними: добавим для каждой игры инфо из сводной - количество рейтингов, сам ретйинг "
   ]
  },
  {
   "cell_type": "code",
   "execution_count": 20,
   "metadata": {},
   "outputs": [],
   "source": [
    "#добавляем \n",
    "data = data.merge(data_gr, on='name', how='left')"
   ]
  },
  {
   "cell_type": "code",
   "execution_count": 21,
   "metadata": {},
   "outputs": [
    {
     "data": {
      "text/plain": [
       "436"
      ]
     },
     "execution_count": 21,
     "metadata": {},
     "output_type": "execute_result"
    }
   ],
   "source": [
    "#посмотрим, сколько рейтингов можно обновитть \n",
    "data[(data['rating_x'].isna()) & (data['rating_y'].notna())]['rating_y'].count()"
   ]
  },
  {
   "cell_type": "code",
   "execution_count": 22,
   "metadata": {},
   "outputs": [],
   "source": [
    "#для всех игр, у которых в изначальном рейтинге есть пропуск, при этом мы знаем рейтинг (по данным других платформ) обновим его\n",
    "for row in data['name'].unique():\n",
    "    data.loc[(data['name'] == row) & data['rating_x'].isna(), 'rating_x'] = \\\n",
    "    data.loc[(data['name'] == row) & data['rating_x'].isna(), 'rating_y']"
   ]
  },
  {
   "cell_type": "code",
   "execution_count": 23,
   "metadata": {},
   "outputs": [
    {
     "data": {
      "text/plain": [
       "0"
      ]
     },
     "execution_count": 23,
     "metadata": {},
     "output_type": "execute_result"
    }
   ],
   "source": [
    "#проверим, что действие сработало\n",
    "data[(data['rating_x'].isna()) & (data['rating_y'].notna())]['rating_y'].count()"
   ]
  },
  {
   "cell_type": "markdown",
   "metadata": {},
   "source": [
    "Почти для 500 игр мы заменили пропуски в оценке ESRB, т.к. данные по этому рейтингу были указаны на других платформах. \\\n",
    "Остальные пропуски оставим без изменений - рейтинга действительно могло не быть. \n",
    "\n",
    "При замене пропусков мы изменили первоначальный вид таблицы данных, добавили туда пару лишних столбцов. Приведем таблицу в первоначальный вид."
   ]
  },
  {
   "cell_type": "code",
   "execution_count": 24,
   "metadata": {},
   "outputs": [
    {
     "data": {
      "text/html": [
       "<div>\n",
       "<style scoped>\n",
       "    .dataframe tbody tr th:only-of-type {\n",
       "        vertical-align: middle;\n",
       "    }\n",
       "\n",
       "    .dataframe tbody tr th {\n",
       "        vertical-align: top;\n",
       "    }\n",
       "\n",
       "    .dataframe thead th {\n",
       "        text-align: right;\n",
       "    }\n",
       "</style>\n",
       "<table border=\"1\" class=\"dataframe\">\n",
       "  <thead>\n",
       "    <tr style=\"text-align: right;\">\n",
       "      <th></th>\n",
       "      <th>name</th>\n",
       "      <th>platform</th>\n",
       "      <th>year_of_release</th>\n",
       "      <th>genre_x</th>\n",
       "      <th>na_sales</th>\n",
       "      <th>eu_sales</th>\n",
       "      <th>jp_sales</th>\n",
       "      <th>other_sales</th>\n",
       "      <th>critic_score</th>\n",
       "      <th>user_score</th>\n",
       "      <th>rating_x</th>\n",
       "      <th>rating_y</th>\n",
       "      <th>genre_y</th>\n",
       "    </tr>\n",
       "  </thead>\n",
       "  <tbody>\n",
       "    <tr>\n",
       "      <th>0</th>\n",
       "      <td>Wii Sports</td>\n",
       "      <td>Wii</td>\n",
       "      <td>2006</td>\n",
       "      <td>Sports</td>\n",
       "      <td>41.36</td>\n",
       "      <td>28.96</td>\n",
       "      <td>3.77</td>\n",
       "      <td>8.45</td>\n",
       "      <td>76.0</td>\n",
       "      <td>8.0</td>\n",
       "      <td>E</td>\n",
       "      <td>E</td>\n",
       "      <td>1.0</td>\n",
       "    </tr>\n",
       "    <tr>\n",
       "      <th>1</th>\n",
       "      <td>Super Mario Bros.</td>\n",
       "      <td>NES</td>\n",
       "      <td>1985</td>\n",
       "      <td>Platform</td>\n",
       "      <td>29.08</td>\n",
       "      <td>3.58</td>\n",
       "      <td>6.81</td>\n",
       "      <td>0.77</td>\n",
       "      <td>NaN</td>\n",
       "      <td>NaN</td>\n",
       "      <td>NaN</td>\n",
       "      <td>NaN</td>\n",
       "      <td>NaN</td>\n",
       "    </tr>\n",
       "    <tr>\n",
       "      <th>2</th>\n",
       "      <td>Mario Kart Wii</td>\n",
       "      <td>Wii</td>\n",
       "      <td>2008</td>\n",
       "      <td>Racing</td>\n",
       "      <td>15.68</td>\n",
       "      <td>12.76</td>\n",
       "      <td>3.79</td>\n",
       "      <td>3.29</td>\n",
       "      <td>82.0</td>\n",
       "      <td>8.3</td>\n",
       "      <td>E</td>\n",
       "      <td>E</td>\n",
       "      <td>1.0</td>\n",
       "    </tr>\n",
       "    <tr>\n",
       "      <th>3</th>\n",
       "      <td>Wii Sports Resort</td>\n",
       "      <td>Wii</td>\n",
       "      <td>2009</td>\n",
       "      <td>Sports</td>\n",
       "      <td>15.61</td>\n",
       "      <td>10.93</td>\n",
       "      <td>3.28</td>\n",
       "      <td>2.95</td>\n",
       "      <td>80.0</td>\n",
       "      <td>8.0</td>\n",
       "      <td>E</td>\n",
       "      <td>E</td>\n",
       "      <td>1.0</td>\n",
       "    </tr>\n",
       "    <tr>\n",
       "      <th>4</th>\n",
       "      <td>Pokemon Red/Pokemon Blue</td>\n",
       "      <td>GB</td>\n",
       "      <td>1996</td>\n",
       "      <td>Role-Playing</td>\n",
       "      <td>11.27</td>\n",
       "      <td>8.89</td>\n",
       "      <td>10.22</td>\n",
       "      <td>1.00</td>\n",
       "      <td>NaN</td>\n",
       "      <td>NaN</td>\n",
       "      <td>NaN</td>\n",
       "      <td>NaN</td>\n",
       "      <td>NaN</td>\n",
       "    </tr>\n",
       "  </tbody>\n",
       "</table>\n",
       "</div>"
      ],
      "text/plain": [
       "                       name platform  year_of_release       genre_x  na_sales  \\\n",
       "0                Wii Sports      Wii             2006        Sports     41.36   \n",
       "1         Super Mario Bros.      NES             1985      Platform     29.08   \n",
       "2            Mario Kart Wii      Wii             2008        Racing     15.68   \n",
       "3         Wii Sports Resort      Wii             2009        Sports     15.61   \n",
       "4  Pokemon Red/Pokemon Blue       GB             1996  Role-Playing     11.27   \n",
       "\n",
       "   eu_sales  jp_sales  other_sales  critic_score  user_score rating_x  \\\n",
       "0     28.96      3.77         8.45          76.0         8.0        E   \n",
       "1      3.58      6.81         0.77           NaN         NaN      NaN   \n",
       "2     12.76      3.79         3.29          82.0         8.3        E   \n",
       "3     10.93      3.28         2.95          80.0         8.0        E   \n",
       "4      8.89     10.22         1.00           NaN         NaN      NaN   \n",
       "\n",
       "  rating_y  genre_y  \n",
       "0        E      1.0  \n",
       "1      NaN      NaN  \n",
       "2        E      1.0  \n",
       "3        E      1.0  \n",
       "4      NaN      NaN  "
      ]
     },
     "execution_count": 24,
     "metadata": {},
     "output_type": "execute_result"
    }
   ],
   "source": [
    "data.head()"
   ]
  },
  {
   "cell_type": "code",
   "execution_count": 25,
   "metadata": {},
   "outputs": [],
   "source": [
    "#удалим лишние столбцы \n",
    "del data['rating_y']\n",
    "del data['genre_y']\n",
    "\n",
    "#поменяем названия у столбцов на начальные \n",
    "data = data.rename(columns = {'rating_x' : 'rating', 'genre_x' : 'genre'})"
   ]
  },
  {
   "cell_type": "code",
   "execution_count": 26,
   "metadata": {},
   "outputs": [
    {
     "data": {
      "text/html": [
       "<div>\n",
       "<style scoped>\n",
       "    .dataframe tbody tr th:only-of-type {\n",
       "        vertical-align: middle;\n",
       "    }\n",
       "\n",
       "    .dataframe tbody tr th {\n",
       "        vertical-align: top;\n",
       "    }\n",
       "\n",
       "    .dataframe thead th {\n",
       "        text-align: right;\n",
       "    }\n",
       "</style>\n",
       "<table border=\"1\" class=\"dataframe\">\n",
       "  <thead>\n",
       "    <tr style=\"text-align: right;\">\n",
       "      <th></th>\n",
       "      <th>name</th>\n",
       "      <th>platform</th>\n",
       "      <th>year_of_release</th>\n",
       "      <th>genre</th>\n",
       "      <th>na_sales</th>\n",
       "      <th>eu_sales</th>\n",
       "      <th>jp_sales</th>\n",
       "      <th>other_sales</th>\n",
       "      <th>critic_score</th>\n",
       "      <th>user_score</th>\n",
       "      <th>rating</th>\n",
       "    </tr>\n",
       "  </thead>\n",
       "  <tbody>\n",
       "    <tr>\n",
       "      <th>0</th>\n",
       "      <td>Wii Sports</td>\n",
       "      <td>Wii</td>\n",
       "      <td>2006</td>\n",
       "      <td>Sports</td>\n",
       "      <td>41.36</td>\n",
       "      <td>28.96</td>\n",
       "      <td>3.77</td>\n",
       "      <td>8.45</td>\n",
       "      <td>76.0</td>\n",
       "      <td>8.0</td>\n",
       "      <td>E</td>\n",
       "    </tr>\n",
       "    <tr>\n",
       "      <th>1</th>\n",
       "      <td>Super Mario Bros.</td>\n",
       "      <td>NES</td>\n",
       "      <td>1985</td>\n",
       "      <td>Platform</td>\n",
       "      <td>29.08</td>\n",
       "      <td>3.58</td>\n",
       "      <td>6.81</td>\n",
       "      <td>0.77</td>\n",
       "      <td>NaN</td>\n",
       "      <td>NaN</td>\n",
       "      <td>NaN</td>\n",
       "    </tr>\n",
       "    <tr>\n",
       "      <th>2</th>\n",
       "      <td>Mario Kart Wii</td>\n",
       "      <td>Wii</td>\n",
       "      <td>2008</td>\n",
       "      <td>Racing</td>\n",
       "      <td>15.68</td>\n",
       "      <td>12.76</td>\n",
       "      <td>3.79</td>\n",
       "      <td>3.29</td>\n",
       "      <td>82.0</td>\n",
       "      <td>8.3</td>\n",
       "      <td>E</td>\n",
       "    </tr>\n",
       "    <tr>\n",
       "      <th>3</th>\n",
       "      <td>Wii Sports Resort</td>\n",
       "      <td>Wii</td>\n",
       "      <td>2009</td>\n",
       "      <td>Sports</td>\n",
       "      <td>15.61</td>\n",
       "      <td>10.93</td>\n",
       "      <td>3.28</td>\n",
       "      <td>2.95</td>\n",
       "      <td>80.0</td>\n",
       "      <td>8.0</td>\n",
       "      <td>E</td>\n",
       "    </tr>\n",
       "    <tr>\n",
       "      <th>4</th>\n",
       "      <td>Pokemon Red/Pokemon Blue</td>\n",
       "      <td>GB</td>\n",
       "      <td>1996</td>\n",
       "      <td>Role-Playing</td>\n",
       "      <td>11.27</td>\n",
       "      <td>8.89</td>\n",
       "      <td>10.22</td>\n",
       "      <td>1.00</td>\n",
       "      <td>NaN</td>\n",
       "      <td>NaN</td>\n",
       "      <td>NaN</td>\n",
       "    </tr>\n",
       "  </tbody>\n",
       "</table>\n",
       "</div>"
      ],
      "text/plain": [
       "                       name platform  year_of_release         genre  na_sales  \\\n",
       "0                Wii Sports      Wii             2006        Sports     41.36   \n",
       "1         Super Mario Bros.      NES             1985      Platform     29.08   \n",
       "2            Mario Kart Wii      Wii             2008        Racing     15.68   \n",
       "3         Wii Sports Resort      Wii             2009        Sports     15.61   \n",
       "4  Pokemon Red/Pokemon Blue       GB             1996  Role-Playing     11.27   \n",
       "\n",
       "   eu_sales  jp_sales  other_sales  critic_score  user_score rating  \n",
       "0     28.96      3.77         8.45          76.0         8.0      E  \n",
       "1      3.58      6.81         0.77           NaN         NaN    NaN  \n",
       "2     12.76      3.79         3.29          82.0         8.3      E  \n",
       "3     10.93      3.28         2.95          80.0         8.0      E  \n",
       "4      8.89     10.22         1.00           NaN         NaN    NaN  "
      ]
     },
     "execution_count": 26,
     "metadata": {},
     "output_type": "execute_result"
    }
   ],
   "source": [
    "#проверим, что со столбцами все в порядке\n",
    "data.head()"
   ]
  },
  {
   "cell_type": "markdown",
   "metadata": {},
   "source": [
    "Посчитаем суммарные продажи игр во всех регионах"
   ]
  },
  {
   "cell_type": "code",
   "execution_count": 27,
   "metadata": {},
   "outputs": [],
   "source": [
    "#добавим столбец all_sales\n",
    "data['all_sales'] = data[['na_sales','eu_sales','jp_sales', 'other_sales']].sum(axis = 1)"
   ]
  },
  {
   "cell_type": "code",
   "execution_count": 28,
   "metadata": {},
   "outputs": [
    {
     "data": {
      "text/html": [
       "<div>\n",
       "<style scoped>\n",
       "    .dataframe tbody tr th:only-of-type {\n",
       "        vertical-align: middle;\n",
       "    }\n",
       "\n",
       "    .dataframe tbody tr th {\n",
       "        vertical-align: top;\n",
       "    }\n",
       "\n",
       "    .dataframe thead th {\n",
       "        text-align: right;\n",
       "    }\n",
       "</style>\n",
       "<table border=\"1\" class=\"dataframe\">\n",
       "  <thead>\n",
       "    <tr style=\"text-align: right;\">\n",
       "      <th></th>\n",
       "      <th>name</th>\n",
       "      <th>platform</th>\n",
       "      <th>year_of_release</th>\n",
       "      <th>genre</th>\n",
       "      <th>na_sales</th>\n",
       "      <th>eu_sales</th>\n",
       "      <th>jp_sales</th>\n",
       "      <th>other_sales</th>\n",
       "      <th>critic_score</th>\n",
       "      <th>user_score</th>\n",
       "      <th>rating</th>\n",
       "      <th>all_sales</th>\n",
       "    </tr>\n",
       "  </thead>\n",
       "  <tbody>\n",
       "    <tr>\n",
       "      <th>0</th>\n",
       "      <td>Wii Sports</td>\n",
       "      <td>Wii</td>\n",
       "      <td>2006</td>\n",
       "      <td>Sports</td>\n",
       "      <td>41.36</td>\n",
       "      <td>28.96</td>\n",
       "      <td>3.77</td>\n",
       "      <td>8.45</td>\n",
       "      <td>76.0</td>\n",
       "      <td>8.0</td>\n",
       "      <td>E</td>\n",
       "      <td>82.54</td>\n",
       "    </tr>\n",
       "    <tr>\n",
       "      <th>1</th>\n",
       "      <td>Super Mario Bros.</td>\n",
       "      <td>NES</td>\n",
       "      <td>1985</td>\n",
       "      <td>Platform</td>\n",
       "      <td>29.08</td>\n",
       "      <td>3.58</td>\n",
       "      <td>6.81</td>\n",
       "      <td>0.77</td>\n",
       "      <td>NaN</td>\n",
       "      <td>NaN</td>\n",
       "      <td>NaN</td>\n",
       "      <td>40.24</td>\n",
       "    </tr>\n",
       "    <tr>\n",
       "      <th>2</th>\n",
       "      <td>Mario Kart Wii</td>\n",
       "      <td>Wii</td>\n",
       "      <td>2008</td>\n",
       "      <td>Racing</td>\n",
       "      <td>15.68</td>\n",
       "      <td>12.76</td>\n",
       "      <td>3.79</td>\n",
       "      <td>3.29</td>\n",
       "      <td>82.0</td>\n",
       "      <td>8.3</td>\n",
       "      <td>E</td>\n",
       "      <td>35.52</td>\n",
       "    </tr>\n",
       "    <tr>\n",
       "      <th>3</th>\n",
       "      <td>Wii Sports Resort</td>\n",
       "      <td>Wii</td>\n",
       "      <td>2009</td>\n",
       "      <td>Sports</td>\n",
       "      <td>15.61</td>\n",
       "      <td>10.93</td>\n",
       "      <td>3.28</td>\n",
       "      <td>2.95</td>\n",
       "      <td>80.0</td>\n",
       "      <td>8.0</td>\n",
       "      <td>E</td>\n",
       "      <td>32.77</td>\n",
       "    </tr>\n",
       "    <tr>\n",
       "      <th>4</th>\n",
       "      <td>Pokemon Red/Pokemon Blue</td>\n",
       "      <td>GB</td>\n",
       "      <td>1996</td>\n",
       "      <td>Role-Playing</td>\n",
       "      <td>11.27</td>\n",
       "      <td>8.89</td>\n",
       "      <td>10.22</td>\n",
       "      <td>1.00</td>\n",
       "      <td>NaN</td>\n",
       "      <td>NaN</td>\n",
       "      <td>NaN</td>\n",
       "      <td>31.38</td>\n",
       "    </tr>\n",
       "  </tbody>\n",
       "</table>\n",
       "</div>"
      ],
      "text/plain": [
       "                       name platform  year_of_release         genre  na_sales  \\\n",
       "0                Wii Sports      Wii             2006        Sports     41.36   \n",
       "1         Super Mario Bros.      NES             1985      Platform     29.08   \n",
       "2            Mario Kart Wii      Wii             2008        Racing     15.68   \n",
       "3         Wii Sports Resort      Wii             2009        Sports     15.61   \n",
       "4  Pokemon Red/Pokemon Blue       GB             1996  Role-Playing     11.27   \n",
       "\n",
       "   eu_sales  jp_sales  other_sales  critic_score  user_score rating  all_sales  \n",
       "0     28.96      3.77         8.45          76.0         8.0      E      82.54  \n",
       "1      3.58      6.81         0.77           NaN         NaN    NaN      40.24  \n",
       "2     12.76      3.79         3.29          82.0         8.3      E      35.52  \n",
       "3     10.93      3.28         2.95          80.0         8.0      E      32.77  \n",
       "4      8.89     10.22         1.00           NaN         NaN    NaN      31.38  "
      ]
     },
     "execution_count": 28,
     "metadata": {},
     "output_type": "execute_result"
    }
   ],
   "source": [
    "#\n",
    "data.head()"
   ]
  },
  {
   "cell_type": "markdown",
   "metadata": {},
   "source": [
    "Вывод:\n",
    "1. заменены типы данных в столбцах: \n",
    "* год выпуска;\n",
    "* оценка пользователей. В этом столбце значения 'tbd' заменены на пустые, исходя из предположения, что издатель не захотел получать оценку. \n",
    "2. обработы пропуски в столбцах:\n",
    "* название игры - пропуски удалены;\n",
    "* оценка ESRB - чать пропусков заменена на соответствующие значения рейтинга для игры, указанные на друой платформе. \n",
    "3. Посчитаны суммарные продажи игр во всех регионах."
   ]
  },
  {
   "cell_type": "markdown",
   "metadata": {},
   "source": [
    "## Исследовательский анализ"
   ]
  },
  {
   "cell_type": "code",
   "execution_count": 29,
   "metadata": {},
   "outputs": [
    {
     "data": {
      "image/png": "[encoded data removed]",
      "text/plain": [
       "<Figure size 432x288 with 1 Axes>"
      ]
     },
     "metadata": {
      "needs_background": "light"
     },
     "output_type": "display_data"
    }
   ],
   "source": [
    "#Посмотрим, сколько игр выпускалось в разные годы\n",
    "data['year_of_release'].plot(\n",
    "    kind='hist',\n",
    "    bins=30,\n",
    "    title='Количество выпущенных игр за год',\n",
    "    color='lightseagreen',\n",
    "    grid=True,\n",
    "    ylim=(0, data['year_of_release'].max()+1)\n",
    ")\n",
    "plt.ylabel('Количество игр'),\n",
    "plt.xlabel('год');"
   ]
  },
  {
   "cell_type": "code",
   "execution_count": 30,
   "metadata": {},
   "outputs": [
    {
     "data": {
      "image/png": "[encoded data removed]",
      "text/plain": [
       "<Figure size 432x288 with 1 Axes>"
      ]
     },
     "metadata": {
      "needs_background": "light"
     },
     "output_type": "display_data"
    }
   ],
   "source": [
    "#Выберем данные с 1992 г - с начала роста выпуска игр\n",
    "data['year_of_release'].plot(\n",
    "    kind='hist',\n",
    "    bins=30,\n",
    "    title='Количество выпущенных игр за год',\n",
    "    color='lightseagreen',\n",
    "    grid=True,\n",
    "    xlim=(1992, 2016)\n",
    ")\n",
    "plt.ylabel('Количество игр'),\n",
    "plt.xlabel('год');"
   ]
  },
  {
   "cell_type": "markdown",
   "metadata": {},
   "source": [
    "Данные представлены за 36 лет. Для составления актуального прогноза на следующий год нам не понядобятся все данные. \\\n",
    "Для определения актуального периода посмотрим, сколько зарабатала каждая платформа за каждый год. \\\n",
    "Затем определим, сколько в среднем работают платформы.\\\n",
    "На основании этих данных выберем период для анализа. "
   ]
  },
  {
   "cell_type": "code",
   "execution_count": 31,
   "metadata": {
    "scrolled": true
   },
   "outputs": [
    {
     "data": {
      "text/html": [
       "<div>\n",
       "<style scoped>\n",
       "    .dataframe tbody tr th:only-of-type {\n",
       "        vertical-align: middle;\n",
       "    }\n",
       "\n",
       "    .dataframe tbody tr th {\n",
       "        vertical-align: top;\n",
       "    }\n",
       "\n",
       "    .dataframe thead th {\n",
       "        text-align: right;\n",
       "    }\n",
       "</style>\n",
       "<table border=\"1\" class=\"dataframe\">\n",
       "  <thead>\n",
       "    <tr style=\"text-align: right;\">\n",
       "      <th>year_of_release</th>\n",
       "      <th>1980</th>\n",
       "      <th>1981</th>\n",
       "      <th>1982</th>\n",
       "      <th>1983</th>\n",
       "      <th>1984</th>\n",
       "      <th>1985</th>\n",
       "      <th>1986</th>\n",
       "      <th>1987</th>\n",
       "      <th>1988</th>\n",
       "      <th>1989</th>\n",
       "      <th>...</th>\n",
       "      <th>2007</th>\n",
       "      <th>2008</th>\n",
       "      <th>2009</th>\n",
       "      <th>2010</th>\n",
       "      <th>2011</th>\n",
       "      <th>2012</th>\n",
       "      <th>2013</th>\n",
       "      <th>2014</th>\n",
       "      <th>2015</th>\n",
       "      <th>2016</th>\n",
       "    </tr>\n",
       "    <tr>\n",
       "      <th>platform</th>\n",
       "      <th></th>\n",
       "      <th></th>\n",
       "      <th></th>\n",
       "      <th></th>\n",
       "      <th></th>\n",
       "      <th></th>\n",
       "      <th></th>\n",
       "      <th></th>\n",
       "      <th></th>\n",
       "      <th></th>\n",
       "      <th></th>\n",
       "      <th></th>\n",
       "      <th></th>\n",
       "      <th></th>\n",
       "      <th></th>\n",
       "      <th></th>\n",
       "      <th></th>\n",
       "      <th></th>\n",
       "      <th></th>\n",
       "      <th></th>\n",
       "      <th></th>\n",
       "    </tr>\n",
       "  </thead>\n",
       "  <tbody>\n",
       "    <tr>\n",
       "      <th>2600</th>\n",
       "      <td>11.38</td>\n",
       "      <td>35.68</td>\n",
       "      <td>29.5</td>\n",
       "      <td>5.84</td>\n",
       "      <td>0.27</td>\n",
       "      <td>0.45</td>\n",
       "      <td>0.67</td>\n",
       "      <td>1.94</td>\n",
       "      <td>0.74</td>\n",
       "      <td>0.63</td>\n",
       "      <td>...</td>\n",
       "      <td>NaN</td>\n",
       "      <td>NaN</td>\n",
       "      <td>NaN</td>\n",
       "      <td>NaN</td>\n",
       "      <td>NaN</td>\n",
       "      <td>NaN</td>\n",
       "      <td>NaN</td>\n",
       "      <td>NaN</td>\n",
       "      <td>NaN</td>\n",
       "      <td>NaN</td>\n",
       "    </tr>\n",
       "    <tr>\n",
       "      <th>3DO</th>\n",
       "      <td>NaN</td>\n",
       "      <td>NaN</td>\n",
       "      <td>NaN</td>\n",
       "      <td>NaN</td>\n",
       "      <td>NaN</td>\n",
       "      <td>NaN</td>\n",
       "      <td>NaN</td>\n",
       "      <td>NaN</td>\n",
       "      <td>NaN</td>\n",
       "      <td>NaN</td>\n",
       "      <td>...</td>\n",
       "      <td>NaN</td>\n",
       "      <td>NaN</td>\n",
       "      <td>NaN</td>\n",
       "      <td>NaN</td>\n",
       "      <td>NaN</td>\n",
       "      <td>NaN</td>\n",
       "      <td>NaN</td>\n",
       "      <td>NaN</td>\n",
       "      <td>NaN</td>\n",
       "      <td>NaN</td>\n",
       "    </tr>\n",
       "    <tr>\n",
       "      <th>3DS</th>\n",
       "      <td>NaN</td>\n",
       "      <td>NaN</td>\n",
       "      <td>NaN</td>\n",
       "      <td>NaN</td>\n",
       "      <td>NaN</td>\n",
       "      <td>NaN</td>\n",
       "      <td>NaN</td>\n",
       "      <td>NaN</td>\n",
       "      <td>NaN</td>\n",
       "      <td>NaN</td>\n",
       "      <td>...</td>\n",
       "      <td>NaN</td>\n",
       "      <td>NaN</td>\n",
       "      <td>NaN</td>\n",
       "      <td>NaN</td>\n",
       "      <td>66.23</td>\n",
       "      <td>51.36</td>\n",
       "      <td>56.60</td>\n",
       "      <td>43.76</td>\n",
       "      <td>27.78</td>\n",
       "      <td>15.14</td>\n",
       "    </tr>\n",
       "    <tr>\n",
       "      <th>DC</th>\n",
       "      <td>NaN</td>\n",
       "      <td>NaN</td>\n",
       "      <td>NaN</td>\n",
       "      <td>NaN</td>\n",
       "      <td>NaN</td>\n",
       "      <td>NaN</td>\n",
       "      <td>NaN</td>\n",
       "      <td>NaN</td>\n",
       "      <td>NaN</td>\n",
       "      <td>NaN</td>\n",
       "      <td>...</td>\n",
       "      <td>0.02</td>\n",
       "      <td>0.04</td>\n",
       "      <td>NaN</td>\n",
       "      <td>NaN</td>\n",
       "      <td>NaN</td>\n",
       "      <td>NaN</td>\n",
       "      <td>NaN</td>\n",
       "      <td>NaN</td>\n",
       "      <td>NaN</td>\n",
       "      <td>NaN</td>\n",
       "    </tr>\n",
       "    <tr>\n",
       "      <th>DS</th>\n",
       "      <td>NaN</td>\n",
       "      <td>NaN</td>\n",
       "      <td>NaN</td>\n",
       "      <td>NaN</td>\n",
       "      <td>NaN</td>\n",
       "      <td>0.02</td>\n",
       "      <td>NaN</td>\n",
       "      <td>NaN</td>\n",
       "      <td>NaN</td>\n",
       "      <td>NaN</td>\n",
       "      <td>...</td>\n",
       "      <td>157.47</td>\n",
       "      <td>154.61</td>\n",
       "      <td>128.15</td>\n",
       "      <td>87.96</td>\n",
       "      <td>29.17</td>\n",
       "      <td>11.01</td>\n",
       "      <td>1.54</td>\n",
       "      <td>NaN</td>\n",
       "      <td>NaN</td>\n",
       "      <td>NaN</td>\n",
       "    </tr>\n",
       "    <tr>\n",
       "      <th>GB</th>\n",
       "      <td>NaN</td>\n",
       "      <td>NaN</td>\n",
       "      <td>NaN</td>\n",
       "      <td>NaN</td>\n",
       "      <td>NaN</td>\n",
       "      <td>NaN</td>\n",
       "      <td>NaN</td>\n",
       "      <td>NaN</td>\n",
       "      <td>1.43</td>\n",
       "      <td>64.97</td>\n",
       "      <td>...</td>\n",
       "      <td>NaN</td>\n",
       "      <td>NaN</td>\n",
       "      <td>NaN</td>\n",
       "      <td>NaN</td>\n",
       "      <td>NaN</td>\n",
       "      <td>NaN</td>\n",
       "      <td>NaN</td>\n",
       "      <td>NaN</td>\n",
       "      <td>NaN</td>\n",
       "      <td>NaN</td>\n",
       "    </tr>\n",
       "    <tr>\n",
       "      <th>GBA</th>\n",
       "      <td>NaN</td>\n",
       "      <td>NaN</td>\n",
       "      <td>NaN</td>\n",
       "      <td>NaN</td>\n",
       "      <td>NaN</td>\n",
       "      <td>NaN</td>\n",
       "      <td>NaN</td>\n",
       "      <td>NaN</td>\n",
       "      <td>NaN</td>\n",
       "      <td>NaN</td>\n",
       "      <td>...</td>\n",
       "      <td>3.40</td>\n",
       "      <td>NaN</td>\n",
       "      <td>NaN</td>\n",
       "      <td>NaN</td>\n",
       "      <td>NaN</td>\n",
       "      <td>NaN</td>\n",
       "      <td>NaN</td>\n",
       "      <td>NaN</td>\n",
       "      <td>NaN</td>\n",
       "      <td>NaN</td>\n",
       "    </tr>\n",
       "    <tr>\n",
       "      <th>GC</th>\n",
       "      <td>NaN</td>\n",
       "      <td>NaN</td>\n",
       "      <td>NaN</td>\n",
       "      <td>NaN</td>\n",
       "      <td>NaN</td>\n",
       "      <td>NaN</td>\n",
       "      <td>NaN</td>\n",
       "      <td>NaN</td>\n",
       "      <td>NaN</td>\n",
       "      <td>NaN</td>\n",
       "      <td>...</td>\n",
       "      <td>0.28</td>\n",
       "      <td>NaN</td>\n",
       "      <td>NaN</td>\n",
       "      <td>NaN</td>\n",
       "      <td>NaN</td>\n",
       "      <td>NaN</td>\n",
       "      <td>NaN</td>\n",
       "      <td>NaN</td>\n",
       "      <td>NaN</td>\n",
       "      <td>NaN</td>\n",
       "    </tr>\n",
       "    <tr>\n",
       "      <th>GEN</th>\n",
       "      <td>NaN</td>\n",
       "      <td>NaN</td>\n",
       "      <td>NaN</td>\n",
       "      <td>NaN</td>\n",
       "      <td>NaN</td>\n",
       "      <td>NaN</td>\n",
       "      <td>NaN</td>\n",
       "      <td>NaN</td>\n",
       "      <td>NaN</td>\n",
       "      <td>NaN</td>\n",
       "      <td>...</td>\n",
       "      <td>NaN</td>\n",
       "      <td>NaN</td>\n",
       "      <td>NaN</td>\n",
       "      <td>NaN</td>\n",
       "      <td>NaN</td>\n",
       "      <td>NaN</td>\n",
       "      <td>NaN</td>\n",
       "      <td>NaN</td>\n",
       "      <td>NaN</td>\n",
       "      <td>NaN</td>\n",
       "    </tr>\n",
       "    <tr>\n",
       "      <th>GG</th>\n",
       "      <td>NaN</td>\n",
       "      <td>NaN</td>\n",
       "      <td>NaN</td>\n",
       "      <td>NaN</td>\n",
       "      <td>NaN</td>\n",
       "      <td>NaN</td>\n",
       "      <td>NaN</td>\n",
       "      <td>NaN</td>\n",
       "      <td>NaN</td>\n",
       "      <td>NaN</td>\n",
       "      <td>...</td>\n",
       "      <td>NaN</td>\n",
       "      <td>NaN</td>\n",
       "      <td>NaN</td>\n",
       "      <td>NaN</td>\n",
       "      <td>NaN</td>\n",
       "      <td>NaN</td>\n",
       "      <td>NaN</td>\n",
       "      <td>NaN</td>\n",
       "      <td>NaN</td>\n",
       "      <td>NaN</td>\n",
       "    </tr>\n",
       "    <tr>\n",
       "      <th>N64</th>\n",
       "      <td>NaN</td>\n",
       "      <td>NaN</td>\n",
       "      <td>NaN</td>\n",
       "      <td>NaN</td>\n",
       "      <td>NaN</td>\n",
       "      <td>NaN</td>\n",
       "      <td>NaN</td>\n",
       "      <td>NaN</td>\n",
       "      <td>NaN</td>\n",
       "      <td>NaN</td>\n",
       "      <td>...</td>\n",
       "      <td>NaN</td>\n",
       "      <td>NaN</td>\n",
       "      <td>NaN</td>\n",
       "      <td>NaN</td>\n",
       "      <td>NaN</td>\n",
       "      <td>NaN</td>\n",
       "      <td>NaN</td>\n",
       "      <td>NaN</td>\n",
       "      <td>NaN</td>\n",
       "      <td>NaN</td>\n",
       "    </tr>\n",
       "    <tr>\n",
       "      <th>NES</th>\n",
       "      <td>NaN</td>\n",
       "      <td>NaN</td>\n",
       "      <td>NaN</td>\n",
       "      <td>10.96</td>\n",
       "      <td>50.08</td>\n",
       "      <td>53.44</td>\n",
       "      <td>36.41</td>\n",
       "      <td>19.76</td>\n",
       "      <td>45.01</td>\n",
       "      <td>7.85</td>\n",
       "      <td>...</td>\n",
       "      <td>NaN</td>\n",
       "      <td>NaN</td>\n",
       "      <td>NaN</td>\n",
       "      <td>NaN</td>\n",
       "      <td>NaN</td>\n",
       "      <td>NaN</td>\n",
       "      <td>NaN</td>\n",
       "      <td>NaN</td>\n",
       "      <td>NaN</td>\n",
       "      <td>NaN</td>\n",
       "    </tr>\n",
       "    <tr>\n",
       "      <th>NG</th>\n",
       "      <td>NaN</td>\n",
       "      <td>NaN</td>\n",
       "      <td>NaN</td>\n",
       "      <td>NaN</td>\n",
       "      <td>NaN</td>\n",
       "      <td>NaN</td>\n",
       "      <td>NaN</td>\n",
       "      <td>NaN</td>\n",
       "      <td>NaN</td>\n",
       "      <td>NaN</td>\n",
       "      <td>...</td>\n",
       "      <td>NaN</td>\n",
       "      <td>NaN</td>\n",
       "      <td>NaN</td>\n",
       "      <td>NaN</td>\n",
       "      <td>NaN</td>\n",
       "      <td>NaN</td>\n",
       "      <td>NaN</td>\n",
       "      <td>NaN</td>\n",
       "      <td>NaN</td>\n",
       "      <td>NaN</td>\n",
       "    </tr>\n",
       "    <tr>\n",
       "      <th>PC</th>\n",
       "      <td>NaN</td>\n",
       "      <td>NaN</td>\n",
       "      <td>NaN</td>\n",
       "      <td>NaN</td>\n",
       "      <td>NaN</td>\n",
       "      <td>0.04</td>\n",
       "      <td>NaN</td>\n",
       "      <td>NaN</td>\n",
       "      <td>0.03</td>\n",
       "      <td>NaN</td>\n",
       "      <td>...</td>\n",
       "      <td>10.55</td>\n",
       "      <td>12.76</td>\n",
       "      <td>25.95</td>\n",
       "      <td>25.01</td>\n",
       "      <td>35.76</td>\n",
       "      <td>23.30</td>\n",
       "      <td>12.38</td>\n",
       "      <td>13.28</td>\n",
       "      <td>8.62</td>\n",
       "      <td>5.25</td>\n",
       "    </tr>\n",
       "    <tr>\n",
       "      <th>PCFX</th>\n",
       "      <td>NaN</td>\n",
       "      <td>NaN</td>\n",
       "      <td>NaN</td>\n",
       "      <td>NaN</td>\n",
       "      <td>NaN</td>\n",
       "      <td>NaN</td>\n",
       "      <td>NaN</td>\n",
       "      <td>NaN</td>\n",
       "      <td>NaN</td>\n",
       "      <td>NaN</td>\n",
       "      <td>...</td>\n",
       "      <td>NaN</td>\n",
       "      <td>NaN</td>\n",
       "      <td>NaN</td>\n",
       "      <td>NaN</td>\n",
       "      <td>NaN</td>\n",
       "      <td>NaN</td>\n",
       "      <td>NaN</td>\n",
       "      <td>NaN</td>\n",
       "      <td>NaN</td>\n",
       "      <td>NaN</td>\n",
       "    </tr>\n",
       "    <tr>\n",
       "      <th>PS</th>\n",
       "      <td>NaN</td>\n",
       "      <td>NaN</td>\n",
       "      <td>NaN</td>\n",
       "      <td>NaN</td>\n",
       "      <td>NaN</td>\n",
       "      <td>NaN</td>\n",
       "      <td>NaN</td>\n",
       "      <td>NaN</td>\n",
       "      <td>NaN</td>\n",
       "      <td>NaN</td>\n",
       "      <td>...</td>\n",
       "      <td>NaN</td>\n",
       "      <td>NaN</td>\n",
       "      <td>NaN</td>\n",
       "      <td>NaN</td>\n",
       "      <td>NaN</td>\n",
       "      <td>NaN</td>\n",
       "      <td>NaN</td>\n",
       "      <td>NaN</td>\n",
       "      <td>NaN</td>\n",
       "      <td>NaN</td>\n",
       "    </tr>\n",
       "    <tr>\n",
       "      <th>PS2</th>\n",
       "      <td>NaN</td>\n",
       "      <td>NaN</td>\n",
       "      <td>NaN</td>\n",
       "      <td>NaN</td>\n",
       "      <td>NaN</td>\n",
       "      <td>NaN</td>\n",
       "      <td>NaN</td>\n",
       "      <td>NaN</td>\n",
       "      <td>NaN</td>\n",
       "      <td>NaN</td>\n",
       "      <td>...</td>\n",
       "      <td>83.56</td>\n",
       "      <td>61.55</td>\n",
       "      <td>30.44</td>\n",
       "      <td>5.70</td>\n",
       "      <td>0.45</td>\n",
       "      <td>NaN</td>\n",
       "      <td>NaN</td>\n",
       "      <td>NaN</td>\n",
       "      <td>NaN</td>\n",
       "      <td>NaN</td>\n",
       "    </tr>\n",
       "    <tr>\n",
       "      <th>PS3</th>\n",
       "      <td>NaN</td>\n",
       "      <td>NaN</td>\n",
       "      <td>NaN</td>\n",
       "      <td>NaN</td>\n",
       "      <td>NaN</td>\n",
       "      <td>NaN</td>\n",
       "      <td>NaN</td>\n",
       "      <td>NaN</td>\n",
       "      <td>NaN</td>\n",
       "      <td>NaN</td>\n",
       "      <td>...</td>\n",
       "      <td>87.72</td>\n",
       "      <td>136.56</td>\n",
       "      <td>140.07</td>\n",
       "      <td>162.96</td>\n",
       "      <td>162.17</td>\n",
       "      <td>110.17</td>\n",
       "      <td>113.34</td>\n",
       "      <td>47.76</td>\n",
       "      <td>17.55</td>\n",
       "      <td>3.60</td>\n",
       "    </tr>\n",
       "    <tr>\n",
       "      <th>PS4</th>\n",
       "      <td>NaN</td>\n",
       "      <td>NaN</td>\n",
       "      <td>NaN</td>\n",
       "      <td>NaN</td>\n",
       "      <td>NaN</td>\n",
       "      <td>NaN</td>\n",
       "      <td>NaN</td>\n",
       "      <td>NaN</td>\n",
       "      <td>NaN</td>\n",
       "      <td>NaN</td>\n",
       "      <td>...</td>\n",
       "      <td>NaN</td>\n",
       "      <td>NaN</td>\n",
       "      <td>NaN</td>\n",
       "      <td>NaN</td>\n",
       "      <td>NaN</td>\n",
       "      <td>NaN</td>\n",
       "      <td>25.99</td>\n",
       "      <td>100.00</td>\n",
       "      <td>122.83</td>\n",
       "      <td>69.30</td>\n",
       "    </tr>\n",
       "    <tr>\n",
       "      <th>PSP</th>\n",
       "      <td>NaN</td>\n",
       "      <td>NaN</td>\n",
       "      <td>NaN</td>\n",
       "      <td>NaN</td>\n",
       "      <td>NaN</td>\n",
       "      <td>NaN</td>\n",
       "      <td>NaN</td>\n",
       "      <td>NaN</td>\n",
       "      <td>NaN</td>\n",
       "      <td>NaN</td>\n",
       "      <td>...</td>\n",
       "      <td>51.68</td>\n",
       "      <td>39.53</td>\n",
       "      <td>45.33</td>\n",
       "      <td>36.04</td>\n",
       "      <td>18.19</td>\n",
       "      <td>7.80</td>\n",
       "      <td>3.14</td>\n",
       "      <td>0.24</td>\n",
       "      <td>0.12</td>\n",
       "      <td>NaN</td>\n",
       "    </tr>\n",
       "    <tr>\n",
       "      <th>PSV</th>\n",
       "      <td>NaN</td>\n",
       "      <td>NaN</td>\n",
       "      <td>NaN</td>\n",
       "      <td>NaN</td>\n",
       "      <td>NaN</td>\n",
       "      <td>NaN</td>\n",
       "      <td>NaN</td>\n",
       "      <td>NaN</td>\n",
       "      <td>NaN</td>\n",
       "      <td>NaN</td>\n",
       "      <td>...</td>\n",
       "      <td>NaN</td>\n",
       "      <td>NaN</td>\n",
       "      <td>NaN</td>\n",
       "      <td>NaN</td>\n",
       "      <td>4.80</td>\n",
       "      <td>17.20</td>\n",
       "      <td>10.59</td>\n",
       "      <td>11.90</td>\n",
       "      <td>6.25</td>\n",
       "      <td>4.25</td>\n",
       "    </tr>\n",
       "    <tr>\n",
       "      <th>SAT</th>\n",
       "      <td>NaN</td>\n",
       "      <td>NaN</td>\n",
       "      <td>NaN</td>\n",
       "      <td>NaN</td>\n",
       "      <td>NaN</td>\n",
       "      <td>NaN</td>\n",
       "      <td>NaN</td>\n",
       "      <td>NaN</td>\n",
       "      <td>NaN</td>\n",
       "      <td>NaN</td>\n",
       "      <td>...</td>\n",
       "      <td>NaN</td>\n",
       "      <td>NaN</td>\n",
       "      <td>NaN</td>\n",
       "      <td>NaN</td>\n",
       "      <td>NaN</td>\n",
       "      <td>NaN</td>\n",
       "      <td>NaN</td>\n",
       "      <td>NaN</td>\n",
       "      <td>NaN</td>\n",
       "      <td>NaN</td>\n",
       "    </tr>\n",
       "    <tr>\n",
       "      <th>SCD</th>\n",
       "      <td>NaN</td>\n",
       "      <td>NaN</td>\n",
       "      <td>NaN</td>\n",
       "      <td>NaN</td>\n",
       "      <td>NaN</td>\n",
       "      <td>NaN</td>\n",
       "      <td>NaN</td>\n",
       "      <td>NaN</td>\n",
       "      <td>NaN</td>\n",
       "      <td>NaN</td>\n",
       "      <td>...</td>\n",
       "      <td>NaN</td>\n",
       "      <td>NaN</td>\n",
       "      <td>NaN</td>\n",
       "      <td>NaN</td>\n",
       "      <td>NaN</td>\n",
       "      <td>NaN</td>\n",
       "      <td>NaN</td>\n",
       "      <td>NaN</td>\n",
       "      <td>NaN</td>\n",
       "      <td>NaN</td>\n",
       "    </tr>\n",
       "    <tr>\n",
       "      <th>SNES</th>\n",
       "      <td>NaN</td>\n",
       "      <td>NaN</td>\n",
       "      <td>NaN</td>\n",
       "      <td>NaN</td>\n",
       "      <td>NaN</td>\n",
       "      <td>NaN</td>\n",
       "      <td>NaN</td>\n",
       "      <td>NaN</td>\n",
       "      <td>NaN</td>\n",
       "      <td>NaN</td>\n",
       "      <td>...</td>\n",
       "      <td>NaN</td>\n",
       "      <td>NaN</td>\n",
       "      <td>NaN</td>\n",
       "      <td>NaN</td>\n",
       "      <td>NaN</td>\n",
       "      <td>NaN</td>\n",
       "      <td>NaN</td>\n",
       "      <td>NaN</td>\n",
       "      <td>NaN</td>\n",
       "      <td>NaN</td>\n",
       "    </tr>\n",
       "    <tr>\n",
       "      <th>TG16</th>\n",
       "      <td>NaN</td>\n",
       "      <td>NaN</td>\n",
       "      <td>NaN</td>\n",
       "      <td>NaN</td>\n",
       "      <td>NaN</td>\n",
       "      <td>NaN</td>\n",
       "      <td>NaN</td>\n",
       "      <td>NaN</td>\n",
       "      <td>NaN</td>\n",
       "      <td>NaN</td>\n",
       "      <td>...</td>\n",
       "      <td>NaN</td>\n",
       "      <td>NaN</td>\n",
       "      <td>NaN</td>\n",
       "      <td>NaN</td>\n",
       "      <td>NaN</td>\n",
       "      <td>NaN</td>\n",
       "      <td>NaN</td>\n",
       "      <td>NaN</td>\n",
       "      <td>NaN</td>\n",
       "      <td>NaN</td>\n",
       "    </tr>\n",
       "    <tr>\n",
       "      <th>WS</th>\n",
       "      <td>NaN</td>\n",
       "      <td>NaN</td>\n",
       "      <td>NaN</td>\n",
       "      <td>NaN</td>\n",
       "      <td>NaN</td>\n",
       "      <td>NaN</td>\n",
       "      <td>NaN</td>\n",
       "      <td>NaN</td>\n",
       "      <td>NaN</td>\n",
       "      <td>NaN</td>\n",
       "      <td>...</td>\n",
       "      <td>NaN</td>\n",
       "      <td>NaN</td>\n",
       "      <td>NaN</td>\n",
       "      <td>NaN</td>\n",
       "      <td>NaN</td>\n",
       "      <td>NaN</td>\n",
       "      <td>NaN</td>\n",
       "      <td>NaN</td>\n",
       "      <td>NaN</td>\n",
       "      <td>NaN</td>\n",
       "    </tr>\n",
       "    <tr>\n",
       "      <th>Wii</th>\n",
       "      <td>NaN</td>\n",
       "      <td>NaN</td>\n",
       "      <td>NaN</td>\n",
       "      <td>NaN</td>\n",
       "      <td>NaN</td>\n",
       "      <td>NaN</td>\n",
       "      <td>NaN</td>\n",
       "      <td>NaN</td>\n",
       "      <td>NaN</td>\n",
       "      <td>NaN</td>\n",
       "      <td>...</td>\n",
       "      <td>165.38</td>\n",
       "      <td>180.19</td>\n",
       "      <td>219.07</td>\n",
       "      <td>133.76</td>\n",
       "      <td>64.12</td>\n",
       "      <td>21.71</td>\n",
       "      <td>8.62</td>\n",
       "      <td>3.75</td>\n",
       "      <td>1.14</td>\n",
       "      <td>0.18</td>\n",
       "    </tr>\n",
       "    <tr>\n",
       "      <th>WiiU</th>\n",
       "      <td>NaN</td>\n",
       "      <td>NaN</td>\n",
       "      <td>NaN</td>\n",
       "      <td>NaN</td>\n",
       "      <td>NaN</td>\n",
       "      <td>NaN</td>\n",
       "      <td>NaN</td>\n",
       "      <td>NaN</td>\n",
       "      <td>NaN</td>\n",
       "      <td>NaN</td>\n",
       "      <td>...</td>\n",
       "      <td>NaN</td>\n",
       "      <td>NaN</td>\n",
       "      <td>NaN</td>\n",
       "      <td>NaN</td>\n",
       "      <td>NaN</td>\n",
       "      <td>17.56</td>\n",
       "      <td>21.92</td>\n",
       "      <td>22.03</td>\n",
       "      <td>16.40</td>\n",
       "      <td>4.60</td>\n",
       "    </tr>\n",
       "    <tr>\n",
       "      <th>X360</th>\n",
       "      <td>NaN</td>\n",
       "      <td>NaN</td>\n",
       "      <td>NaN</td>\n",
       "      <td>NaN</td>\n",
       "      <td>NaN</td>\n",
       "      <td>NaN</td>\n",
       "      <td>NaN</td>\n",
       "      <td>NaN</td>\n",
       "      <td>NaN</td>\n",
       "      <td>NaN</td>\n",
       "      <td>...</td>\n",
       "      <td>111.80</td>\n",
       "      <td>153.92</td>\n",
       "      <td>129.09</td>\n",
       "      <td>192.58</td>\n",
       "      <td>148.72</td>\n",
       "      <td>101.30</td>\n",
       "      <td>88.59</td>\n",
       "      <td>34.74</td>\n",
       "      <td>12.90</td>\n",
       "      <td>1.52</td>\n",
       "    </tr>\n",
       "    <tr>\n",
       "      <th>XB</th>\n",
       "      <td>NaN</td>\n",
       "      <td>NaN</td>\n",
       "      <td>NaN</td>\n",
       "      <td>NaN</td>\n",
       "      <td>NaN</td>\n",
       "      <td>NaN</td>\n",
       "      <td>NaN</td>\n",
       "      <td>NaN</td>\n",
       "      <td>NaN</td>\n",
       "      <td>NaN</td>\n",
       "      <td>...</td>\n",
       "      <td>0.55</td>\n",
       "      <td>0.18</td>\n",
       "      <td>NaN</td>\n",
       "      <td>NaN</td>\n",
       "      <td>NaN</td>\n",
       "      <td>NaN</td>\n",
       "      <td>NaN</td>\n",
       "      <td>NaN</td>\n",
       "      <td>NaN</td>\n",
       "      <td>NaN</td>\n",
       "    </tr>\n",
       "    <tr>\n",
       "      <th>XOne</th>\n",
       "      <td>NaN</td>\n",
       "      <td>NaN</td>\n",
       "      <td>NaN</td>\n",
       "      <td>NaN</td>\n",
       "      <td>NaN</td>\n",
       "      <td>NaN</td>\n",
       "      <td>NaN</td>\n",
       "      <td>NaN</td>\n",
       "      <td>NaN</td>\n",
       "      <td>NaN</td>\n",
       "      <td>...</td>\n",
       "      <td>NaN</td>\n",
       "      <td>NaN</td>\n",
       "      <td>NaN</td>\n",
       "      <td>NaN</td>\n",
       "      <td>NaN</td>\n",
       "      <td>NaN</td>\n",
       "      <td>18.96</td>\n",
       "      <td>54.07</td>\n",
       "      <td>62.48</td>\n",
       "      <td>26.15</td>\n",
       "    </tr>\n",
       "  </tbody>\n",
       "</table>\n",
       "<p>31 rows × 37 columns</p>\n",
       "</div>"
      ],
      "text/plain": [
       "year_of_release   1980   1981  1982   1983   1984   1985   1986   1987   1988  \\\n",
       "platform                                                                        \n",
       "2600             11.38  35.68  29.5   5.84   0.27   0.45   0.67   1.94   0.74   \n",
       "3DO                NaN    NaN   NaN    NaN    NaN    NaN    NaN    NaN    NaN   \n",
       "3DS                NaN    NaN   NaN    NaN    NaN    NaN    NaN    NaN    NaN   \n",
       "DC                 NaN    NaN   NaN    NaN    NaN    NaN    NaN    NaN    NaN   \n",
       "DS                 NaN    NaN   NaN    NaN    NaN   0.02    NaN    NaN    NaN   \n",
       "GB                 NaN    NaN   NaN    NaN    NaN    NaN    NaN    NaN   1.43   \n",
       "GBA                NaN    NaN   NaN    NaN    NaN    NaN    NaN    NaN    NaN   \n",
       "GC                 NaN    NaN   NaN    NaN    NaN    NaN    NaN    NaN    NaN   \n",
       "GEN                NaN    NaN   NaN    NaN    NaN    NaN    NaN    NaN    NaN   \n",
       "GG                 NaN    NaN   NaN    NaN    NaN    NaN    NaN    NaN    NaN   \n",
       "N64                NaN    NaN   NaN    NaN    NaN    NaN    NaN    NaN    NaN   \n",
       "NES                NaN    NaN   NaN  10.96  50.08  53.44  36.41  19.76  45.01   \n",
       "NG                 NaN    NaN   NaN    NaN    NaN    NaN    NaN    NaN    NaN   \n",
       "PC                 NaN    NaN   NaN    NaN    NaN   0.04    NaN    NaN   0.03   \n",
       "PCFX               NaN    NaN   NaN    NaN    NaN    NaN    NaN    NaN    NaN   \n",
       "PS                 NaN    NaN   NaN    NaN    NaN    NaN    NaN    NaN    NaN   \n",
       "PS2                NaN    NaN   NaN    NaN    NaN    NaN    NaN    NaN    NaN   \n",
       "PS3                NaN    NaN   NaN    NaN    NaN    NaN    NaN    NaN    NaN   \n",
       "PS4                NaN    NaN   NaN    NaN    NaN    NaN    NaN    NaN    NaN   \n",
       "PSP                NaN    NaN   NaN    NaN    NaN    NaN    NaN    NaN    NaN   \n",
       "PSV                NaN    NaN   NaN    NaN    NaN    NaN    NaN    NaN    NaN   \n",
       "SAT                NaN    NaN   NaN    NaN    NaN    NaN    NaN    NaN    NaN   \n",
       "SCD                NaN    NaN   NaN    NaN    NaN    NaN    NaN    NaN    NaN   \n",
       "SNES               NaN    NaN   NaN    NaN    NaN    NaN    NaN    NaN    NaN   \n",
       "TG16               NaN    NaN   NaN    NaN    NaN    NaN    NaN    NaN    NaN   \n",
       "WS                 NaN    NaN   NaN    NaN    NaN    NaN    NaN    NaN    NaN   \n",
       "Wii                NaN    NaN   NaN    NaN    NaN    NaN    NaN    NaN    NaN   \n",
       "WiiU               NaN    NaN   NaN    NaN    NaN    NaN    NaN    NaN    NaN   \n",
       "X360               NaN    NaN   NaN    NaN    NaN    NaN    NaN    NaN    NaN   \n",
       "XB                 NaN    NaN   NaN    NaN    NaN    NaN    NaN    NaN    NaN   \n",
       "XOne               NaN    NaN   NaN    NaN    NaN    NaN    NaN    NaN    NaN   \n",
       "\n",
       "year_of_release   1989  ...    2007    2008    2009    2010    2011    2012  \\\n",
       "platform                ...                                                   \n",
       "2600              0.63  ...     NaN     NaN     NaN     NaN     NaN     NaN   \n",
       "3DO                NaN  ...     NaN     NaN     NaN     NaN     NaN     NaN   \n",
       "3DS                NaN  ...     NaN     NaN     NaN     NaN   66.23   51.36   \n",
       "DC                 NaN  ...    0.02    0.04     NaN     NaN     NaN     NaN   \n",
       "DS                 NaN  ...  157.47  154.61  128.15   87.96   29.17   11.01   \n",
       "GB               64.97  ...     NaN     NaN     NaN     NaN     NaN     NaN   \n",
       "GBA                NaN  ...    3.40     NaN     NaN     NaN     NaN     NaN   \n",
       "GC                 NaN  ...    0.28     NaN     NaN     NaN     NaN     NaN   \n",
       "GEN                NaN  ...     NaN     NaN     NaN     NaN     NaN     NaN   \n",
       "GG                 NaN  ...     NaN     NaN     NaN     NaN     NaN     NaN   \n",
       "N64                NaN  ...     NaN     NaN     NaN     NaN     NaN     NaN   \n",
       "NES               7.85  ...     NaN     NaN     NaN     NaN     NaN     NaN   \n",
       "NG                 NaN  ...     NaN     NaN     NaN     NaN     NaN     NaN   \n",
       "PC                 NaN  ...   10.55   12.76   25.95   25.01   35.76   23.30   \n",
       "PCFX               NaN  ...     NaN     NaN     NaN     NaN     NaN     NaN   \n",
       "PS                 NaN  ...     NaN     NaN     NaN     NaN     NaN     NaN   \n",
       "PS2                NaN  ...   83.56   61.55   30.44    5.70    0.45     NaN   \n",
       "PS3                NaN  ...   87.72  136.56  140.07  162.96  162.17  110.17   \n",
       "PS4                NaN  ...     NaN     NaN     NaN     NaN     NaN     NaN   \n",
       "PSP                NaN  ...   51.68   39.53   45.33   36.04   18.19    7.80   \n",
       "PSV                NaN  ...     NaN     NaN     NaN     NaN    4.80   17.20   \n",
       "SAT                NaN  ...     NaN     NaN     NaN     NaN     NaN     NaN   \n",
       "SCD                NaN  ...     NaN     NaN     NaN     NaN     NaN     NaN   \n",
       "SNES               NaN  ...     NaN     NaN     NaN     NaN     NaN     NaN   \n",
       "TG16               NaN  ...     NaN     NaN     NaN     NaN     NaN     NaN   \n",
       "WS                 NaN  ...     NaN     NaN     NaN     NaN     NaN     NaN   \n",
       "Wii                NaN  ...  165.38  180.19  219.07  133.76   64.12   21.71   \n",
       "WiiU               NaN  ...     NaN     NaN     NaN     NaN     NaN   17.56   \n",
       "X360               NaN  ...  111.80  153.92  129.09  192.58  148.72  101.30   \n",
       "XB                 NaN  ...    0.55    0.18     NaN     NaN     NaN     NaN   \n",
       "XOne               NaN  ...     NaN     NaN     NaN     NaN     NaN     NaN   \n",
       "\n",
       "year_of_release    2013    2014    2015   2016  \n",
       "platform                                        \n",
       "2600                NaN     NaN     NaN    NaN  \n",
       "3DO                 NaN     NaN     NaN    NaN  \n",
       "3DS               56.60   43.76   27.78  15.14  \n",
       "DC                  NaN     NaN     NaN    NaN  \n",
       "DS                 1.54     NaN     NaN    NaN  \n",
       "GB                  NaN     NaN     NaN    NaN  \n",
       "GBA                 NaN     NaN     NaN    NaN  \n",
       "GC                  NaN     NaN     NaN    NaN  \n",
       "GEN                 NaN     NaN     NaN    NaN  \n",
       "GG                  NaN     NaN     NaN    NaN  \n",
       "N64                 NaN     NaN     NaN    NaN  \n",
       "NES                 NaN     NaN     NaN    NaN  \n",
       "NG                  NaN     NaN     NaN    NaN  \n",
       "PC                12.38   13.28    8.62   5.25  \n",
       "PCFX                NaN     NaN     NaN    NaN  \n",
       "PS                  NaN     NaN     NaN    NaN  \n",
       "PS2                 NaN     NaN     NaN    NaN  \n",
       "PS3              113.34   47.76   17.55   3.60  \n",
       "PS4               25.99  100.00  122.83  69.30  \n",
       "PSP                3.14    0.24    0.12    NaN  \n",
       "PSV               10.59   11.90    6.25   4.25  \n",
       "SAT                 NaN     NaN     NaN    NaN  \n",
       "SCD                 NaN     NaN     NaN    NaN  \n",
       "SNES                NaN     NaN     NaN    NaN  \n",
       "TG16                NaN     NaN     NaN    NaN  \n",
       "WS                  NaN     NaN     NaN    NaN  \n",
       "Wii                8.62    3.75    1.14   0.18  \n",
       "WiiU              21.92   22.03   16.40   4.60  \n",
       "X360              88.59   34.74   12.90   1.52  \n",
       "XB                  NaN     NaN     NaN    NaN  \n",
       "XOne              18.96   54.07   62.48  26.15  \n",
       "\n",
       "[31 rows x 37 columns]"
      ]
     },
     "execution_count": 31,
     "metadata": {},
     "output_type": "execute_result"
    }
   ],
   "source": [
    "#сделаем свод по выручке каждой плоатформы за каждый год\n",
    "data_platform = data.pivot_table(index='platform', columns='year_of_release', values='all_sales', aggfunc='sum')\n",
    "data_platform"
   ]
  },
  {
   "cell_type": "code",
   "execution_count": 32,
   "metadata": {},
   "outputs": [
    {
     "data": {
      "text/plain": [
       "platform\n",
       "2600    10\n",
       "3DO      2\n",
       "3DS      6\n",
       "DC       7\n",
       "DS      11\n",
       "GB      13\n",
       "GBA      8\n",
       "GC       7\n",
       "GEN      5\n",
       "GG       1\n",
       "N64      7\n",
       "NES     12\n",
       "NG       4\n",
       "PC      26\n",
       "PCFX     1\n",
       "PS      10\n",
       "PS2     12\n",
       "PS3     11\n",
       "PS4      4\n",
       "PSP     12\n",
       "PSV      6\n",
       "SAT      6\n",
       "SCD      2\n",
       "SNES    10\n",
       "TG16     1\n",
       "WS       3\n",
       "Wii     11\n",
       "WiiU     5\n",
       "X360    12\n",
       "XB       9\n",
       "XOne     4\n",
       "Name: year_of_release, dtype: int64"
      ]
     },
     "execution_count": 32,
     "metadata": {},
     "output_type": "execute_result"
    }
   ],
   "source": [
    "#посмотрим, сколько лет в среднем держится платформа\n",
    "#сделаем срез только по платформе и годам\n",
    "data_plat = data[['platform', 'year_of_release']]\n",
    "#удалим дубли\n",
    "data_plat = data_plat.drop_duplicates()\n",
    "#сделаем свод, сколько лет работает каждая платформа\n",
    "data_plat_gr = data_plat.groupby(by='platform')['year_of_release'].count()\n",
    "data_plat_gr"
   ]
  },
  {
   "cell_type": "code",
   "execution_count": 33,
   "metadata": {
    "scrolled": true
   },
   "outputs": [
    {
     "data": {
      "text/plain": [
       "7.67741935483871"
      ]
     },
     "execution_count": 33,
     "metadata": {},
     "output_type": "execute_result"
    }
   ],
   "source": [
    "#посмотрим, сколько в среднем работает платформа\n",
    "data_plat_gr.mean()"
   ]
  },
  {
   "cell_type": "code",
   "execution_count": 34,
   "metadata": {},
   "outputs": [
    {
     "data": {
      "text/plain": [
       "platform\n",
       "PS2     1347.76\n",
       "X360    1039.79\n",
       "PS3     1002.86\n",
       "Wii      935.62\n",
       "DS       848.31\n",
       "PS       744.71\n",
       "GBA      330.43\n",
       "PSP      319.11\n",
       "PS4      318.12\n",
       "XB       273.25\n",
       "PC       270.79\n",
       "3DS      260.87\n",
       "GB       254.43\n",
       "NES      252.45\n",
       "N64      218.85\n",
       "GC       211.87\n",
       "SNES     203.47\n",
       "XOne     161.66\n",
       "2600      87.10\n",
       "WiiU      82.51\n",
       "Name: all_sales, dtype: float64"
      ]
     },
     "execution_count": 34,
     "metadata": {},
     "output_type": "execute_result"
    }
   ],
   "source": [
    "#выберем топ-20 платформ с максимальной выручкой\n",
    "top_platforms = data.groupby(by='platform')['all_sales'].sum().sort_values(ascending=False).head(20)\n",
    "top_platforms"
   ]
  },
  {
   "cell_type": "code",
   "execution_count": 35,
   "metadata": {
    "scrolled": true
   },
   "outputs": [
    {
     "data": {
      "text/html": [
       "<div>\n",
       "<style scoped>\n",
       "    .dataframe tbody tr th:only-of-type {\n",
       "        vertical-align: middle;\n",
       "    }\n",
       "\n",
       "    .dataframe tbody tr th {\n",
       "        vertical-align: top;\n",
       "    }\n",
       "\n",
       "    .dataframe thead th {\n",
       "        text-align: right;\n",
       "    }\n",
       "</style>\n",
       "<table border=\"1\" class=\"dataframe\">\n",
       "  <thead>\n",
       "    <tr style=\"text-align: right;\">\n",
       "      <th>platform</th>\n",
       "      <th>2600</th>\n",
       "      <th>3DS</th>\n",
       "      <th>DS</th>\n",
       "      <th>GB</th>\n",
       "      <th>GBA</th>\n",
       "      <th>GC</th>\n",
       "      <th>N64</th>\n",
       "      <th>NES</th>\n",
       "      <th>PC</th>\n",
       "      <th>PS</th>\n",
       "      <th>PS2</th>\n",
       "      <th>PS3</th>\n",
       "      <th>PS4</th>\n",
       "      <th>PSP</th>\n",
       "      <th>SNES</th>\n",
       "      <th>Wii</th>\n",
       "      <th>WiiU</th>\n",
       "      <th>X360</th>\n",
       "      <th>XB</th>\n",
       "      <th>XOne</th>\n",
       "    </tr>\n",
       "    <tr>\n",
       "      <th>year_of_release</th>\n",
       "      <th></th>\n",
       "      <th></th>\n",
       "      <th></th>\n",
       "      <th></th>\n",
       "      <th></th>\n",
       "      <th></th>\n",
       "      <th></th>\n",
       "      <th></th>\n",
       "      <th></th>\n",
       "      <th></th>\n",
       "      <th></th>\n",
       "      <th></th>\n",
       "      <th></th>\n",
       "      <th></th>\n",
       "      <th></th>\n",
       "      <th></th>\n",
       "      <th></th>\n",
       "      <th></th>\n",
       "      <th></th>\n",
       "      <th></th>\n",
       "    </tr>\n",
       "  </thead>\n",
       "  <tbody>\n",
       "    <tr>\n",
       "      <th>1980</th>\n",
       "      <td>11.38</td>\n",
       "      <td>NaN</td>\n",
       "      <td>NaN</td>\n",
       "      <td>NaN</td>\n",
       "      <td>NaN</td>\n",
       "      <td>NaN</td>\n",
       "      <td>NaN</td>\n",
       "      <td>NaN</td>\n",
       "      <td>NaN</td>\n",
       "      <td>NaN</td>\n",
       "      <td>NaN</td>\n",
       "      <td>NaN</td>\n",
       "      <td>NaN</td>\n",
       "      <td>NaN</td>\n",
       "      <td>NaN</td>\n",
       "      <td>NaN</td>\n",
       "      <td>NaN</td>\n",
       "      <td>NaN</td>\n",
       "      <td>NaN</td>\n",
       "      <td>NaN</td>\n",
       "    </tr>\n",
       "    <tr>\n",
       "      <th>1981</th>\n",
       "      <td>35.68</td>\n",
       "      <td>NaN</td>\n",
       "      <td>NaN</td>\n",
       "      <td>NaN</td>\n",
       "      <td>NaN</td>\n",
       "      <td>NaN</td>\n",
       "      <td>NaN</td>\n",
       "      <td>NaN</td>\n",
       "      <td>NaN</td>\n",
       "      <td>NaN</td>\n",
       "      <td>NaN</td>\n",
       "      <td>NaN</td>\n",
       "      <td>NaN</td>\n",
       "      <td>NaN</td>\n",
       "      <td>NaN</td>\n",
       "      <td>NaN</td>\n",
       "      <td>NaN</td>\n",
       "      <td>NaN</td>\n",
       "      <td>NaN</td>\n",
       "      <td>NaN</td>\n",
       "    </tr>\n",
       "    <tr>\n",
       "      <th>1982</th>\n",
       "      <td>29.50</td>\n",
       "      <td>NaN</td>\n",
       "      <td>NaN</td>\n",
       "      <td>NaN</td>\n",
       "      <td>NaN</td>\n",
       "      <td>NaN</td>\n",
       "      <td>NaN</td>\n",
       "      <td>NaN</td>\n",
       "      <td>NaN</td>\n",
       "      <td>NaN</td>\n",
       "      <td>NaN</td>\n",
       "      <td>NaN</td>\n",
       "      <td>NaN</td>\n",
       "      <td>NaN</td>\n",
       "      <td>NaN</td>\n",
       "      <td>NaN</td>\n",
       "      <td>NaN</td>\n",
       "      <td>NaN</td>\n",
       "      <td>NaN</td>\n",
       "      <td>NaN</td>\n",
       "    </tr>\n",
       "    <tr>\n",
       "      <th>1983</th>\n",
       "      <td>5.84</td>\n",
       "      <td>NaN</td>\n",
       "      <td>NaN</td>\n",
       "      <td>NaN</td>\n",
       "      <td>NaN</td>\n",
       "      <td>NaN</td>\n",
       "      <td>NaN</td>\n",
       "      <td>10.96</td>\n",
       "      <td>NaN</td>\n",
       "      <td>NaN</td>\n",
       "      <td>NaN</td>\n",
       "      <td>NaN</td>\n",
       "      <td>NaN</td>\n",
       "      <td>NaN</td>\n",
       "      <td>NaN</td>\n",
       "      <td>NaN</td>\n",
       "      <td>NaN</td>\n",
       "      <td>NaN</td>\n",
       "      <td>NaN</td>\n",
       "      <td>NaN</td>\n",
       "    </tr>\n",
       "    <tr>\n",
       "      <th>1984</th>\n",
       "      <td>0.27</td>\n",
       "      <td>NaN</td>\n",
       "      <td>NaN</td>\n",
       "      <td>NaN</td>\n",
       "      <td>NaN</td>\n",
       "      <td>NaN</td>\n",
       "      <td>NaN</td>\n",
       "      <td>50.08</td>\n",
       "      <td>NaN</td>\n",
       "      <td>NaN</td>\n",
       "      <td>NaN</td>\n",
       "      <td>NaN</td>\n",
       "      <td>NaN</td>\n",
       "      <td>NaN</td>\n",
       "      <td>NaN</td>\n",
       "      <td>NaN</td>\n",
       "      <td>NaN</td>\n",
       "      <td>NaN</td>\n",
       "      <td>NaN</td>\n",
       "      <td>NaN</td>\n",
       "    </tr>\n",
       "    <tr>\n",
       "      <th>1985</th>\n",
       "      <td>0.45</td>\n",
       "      <td>NaN</td>\n",
       "      <td>0.02</td>\n",
       "      <td>NaN</td>\n",
       "      <td>NaN</td>\n",
       "      <td>NaN</td>\n",
       "      <td>NaN</td>\n",
       "      <td>53.44</td>\n",
       "      <td>0.04</td>\n",
       "      <td>NaN</td>\n",
       "      <td>NaN</td>\n",
       "      <td>NaN</td>\n",
       "      <td>NaN</td>\n",
       "      <td>NaN</td>\n",
       "      <td>NaN</td>\n",
       "      <td>NaN</td>\n",
       "      <td>NaN</td>\n",
       "      <td>NaN</td>\n",
       "      <td>NaN</td>\n",
       "      <td>NaN</td>\n",
       "    </tr>\n",
       "    <tr>\n",
       "      <th>1986</th>\n",
       "      <td>0.67</td>\n",
       "      <td>NaN</td>\n",
       "      <td>NaN</td>\n",
       "      <td>NaN</td>\n",
       "      <td>NaN</td>\n",
       "      <td>NaN</td>\n",
       "      <td>NaN</td>\n",
       "      <td>36.41</td>\n",
       "      <td>NaN</td>\n",
       "      <td>NaN</td>\n",
       "      <td>NaN</td>\n",
       "      <td>NaN</td>\n",
       "      <td>NaN</td>\n",
       "      <td>NaN</td>\n",
       "      <td>NaN</td>\n",
       "      <td>NaN</td>\n",
       "      <td>NaN</td>\n",
       "      <td>NaN</td>\n",
       "      <td>NaN</td>\n",
       "      <td>NaN</td>\n",
       "    </tr>\n",
       "    <tr>\n",
       "      <th>1987</th>\n",
       "      <td>1.94</td>\n",
       "      <td>NaN</td>\n",
       "      <td>NaN</td>\n",
       "      <td>NaN</td>\n",
       "      <td>NaN</td>\n",
       "      <td>NaN</td>\n",
       "      <td>NaN</td>\n",
       "      <td>19.76</td>\n",
       "      <td>NaN</td>\n",
       "      <td>NaN</td>\n",
       "      <td>NaN</td>\n",
       "      <td>NaN</td>\n",
       "      <td>NaN</td>\n",
       "      <td>NaN</td>\n",
       "      <td>NaN</td>\n",
       "      <td>NaN</td>\n",
       "      <td>NaN</td>\n",
       "      <td>NaN</td>\n",
       "      <td>NaN</td>\n",
       "      <td>NaN</td>\n",
       "    </tr>\n",
       "    <tr>\n",
       "      <th>1988</th>\n",
       "      <td>0.74</td>\n",
       "      <td>NaN</td>\n",
       "      <td>NaN</td>\n",
       "      <td>1.43</td>\n",
       "      <td>NaN</td>\n",
       "      <td>NaN</td>\n",
       "      <td>NaN</td>\n",
       "      <td>45.01</td>\n",
       "      <td>0.03</td>\n",
       "      <td>NaN</td>\n",
       "      <td>NaN</td>\n",
       "      <td>NaN</td>\n",
       "      <td>NaN</td>\n",
       "      <td>NaN</td>\n",
       "      <td>NaN</td>\n",
       "      <td>NaN</td>\n",
       "      <td>NaN</td>\n",
       "      <td>NaN</td>\n",
       "      <td>NaN</td>\n",
       "      <td>NaN</td>\n",
       "    </tr>\n",
       "    <tr>\n",
       "      <th>1989</th>\n",
       "      <td>0.63</td>\n",
       "      <td>NaN</td>\n",
       "      <td>NaN</td>\n",
       "      <td>64.97</td>\n",
       "      <td>NaN</td>\n",
       "      <td>NaN</td>\n",
       "      <td>NaN</td>\n",
       "      <td>7.85</td>\n",
       "      <td>NaN</td>\n",
       "      <td>NaN</td>\n",
       "      <td>NaN</td>\n",
       "      <td>NaN</td>\n",
       "      <td>NaN</td>\n",
       "      <td>NaN</td>\n",
       "      <td>NaN</td>\n",
       "      <td>NaN</td>\n",
       "      <td>NaN</td>\n",
       "      <td>NaN</td>\n",
       "      <td>NaN</td>\n",
       "      <td>NaN</td>\n",
       "    </tr>\n",
       "    <tr>\n",
       "      <th>1990</th>\n",
       "      <td>NaN</td>\n",
       "      <td>NaN</td>\n",
       "      <td>NaN</td>\n",
       "      <td>4.89</td>\n",
       "      <td>NaN</td>\n",
       "      <td>NaN</td>\n",
       "      <td>NaN</td>\n",
       "      <td>17.13</td>\n",
       "      <td>NaN</td>\n",
       "      <td>NaN</td>\n",
       "      <td>NaN</td>\n",
       "      <td>NaN</td>\n",
       "      <td>NaN</td>\n",
       "      <td>NaN</td>\n",
       "      <td>26.15</td>\n",
       "      <td>NaN</td>\n",
       "      <td>NaN</td>\n",
       "      <td>NaN</td>\n",
       "      <td>NaN</td>\n",
       "      <td>NaN</td>\n",
       "    </tr>\n",
       "    <tr>\n",
       "      <th>1991</th>\n",
       "      <td>NaN</td>\n",
       "      <td>NaN</td>\n",
       "      <td>NaN</td>\n",
       "      <td>5.57</td>\n",
       "      <td>NaN</td>\n",
       "      <td>NaN</td>\n",
       "      <td>NaN</td>\n",
       "      <td>6.11</td>\n",
       "      <td>NaN</td>\n",
       "      <td>NaN</td>\n",
       "      <td>NaN</td>\n",
       "      <td>NaN</td>\n",
       "      <td>NaN</td>\n",
       "      <td>NaN</td>\n",
       "      <td>16.22</td>\n",
       "      <td>NaN</td>\n",
       "      <td>NaN</td>\n",
       "      <td>NaN</td>\n",
       "      <td>NaN</td>\n",
       "      <td>NaN</td>\n",
       "    </tr>\n",
       "    <tr>\n",
       "      <th>1992</th>\n",
       "      <td>NaN</td>\n",
       "      <td>NaN</td>\n",
       "      <td>NaN</td>\n",
       "      <td>25.49</td>\n",
       "      <td>NaN</td>\n",
       "      <td>NaN</td>\n",
       "      <td>NaN</td>\n",
       "      <td>1.98</td>\n",
       "      <td>3.05</td>\n",
       "      <td>NaN</td>\n",
       "      <td>NaN</td>\n",
       "      <td>NaN</td>\n",
       "      <td>NaN</td>\n",
       "      <td>NaN</td>\n",
       "      <td>32.98</td>\n",
       "      <td>NaN</td>\n",
       "      <td>NaN</td>\n",
       "      <td>NaN</td>\n",
       "      <td>NaN</td>\n",
       "      <td>NaN</td>\n",
       "    </tr>\n",
       "    <tr>\n",
       "      <th>1993</th>\n",
       "      <td>NaN</td>\n",
       "      <td>NaN</td>\n",
       "      <td>NaN</td>\n",
       "      <td>NaN</td>\n",
       "      <td>NaN</td>\n",
       "      <td>NaN</td>\n",
       "      <td>NaN</td>\n",
       "      <td>3.61</td>\n",
       "      <td>NaN</td>\n",
       "      <td>NaN</td>\n",
       "      <td>NaN</td>\n",
       "      <td>NaN</td>\n",
       "      <td>NaN</td>\n",
       "      <td>NaN</td>\n",
       "      <td>40.02</td>\n",
       "      <td>NaN</td>\n",
       "      <td>NaN</td>\n",
       "      <td>NaN</td>\n",
       "      <td>NaN</td>\n",
       "      <td>NaN</td>\n",
       "    </tr>\n",
       "    <tr>\n",
       "      <th>1994</th>\n",
       "      <td>NaN</td>\n",
       "      <td>NaN</td>\n",
       "      <td>NaN</td>\n",
       "      <td>12.18</td>\n",
       "      <td>NaN</td>\n",
       "      <td>NaN</td>\n",
       "      <td>NaN</td>\n",
       "      <td>0.11</td>\n",
       "      <td>12.87</td>\n",
       "      <td>7.60</td>\n",
       "      <td>NaN</td>\n",
       "      <td>NaN</td>\n",
       "      <td>NaN</td>\n",
       "      <td>NaN</td>\n",
       "      <td>38.51</td>\n",
       "      <td>NaN</td>\n",
       "      <td>NaN</td>\n",
       "      <td>NaN</td>\n",
       "      <td>NaN</td>\n",
       "      <td>NaN</td>\n",
       "    </tr>\n",
       "    <tr>\n",
       "      <th>1995</th>\n",
       "      <td>NaN</td>\n",
       "      <td>NaN</td>\n",
       "      <td>NaN</td>\n",
       "      <td>3.60</td>\n",
       "      <td>NaN</td>\n",
       "      <td>NaN</td>\n",
       "      <td>NaN</td>\n",
       "      <td>NaN</td>\n",
       "      <td>4.22</td>\n",
       "      <td>35.96</td>\n",
       "      <td>NaN</td>\n",
       "      <td>NaN</td>\n",
       "      <td>NaN</td>\n",
       "      <td>NaN</td>\n",
       "      <td>32.20</td>\n",
       "      <td>NaN</td>\n",
       "      <td>NaN</td>\n",
       "      <td>NaN</td>\n",
       "      <td>NaN</td>\n",
       "      <td>NaN</td>\n",
       "    </tr>\n",
       "    <tr>\n",
       "      <th>1996</th>\n",
       "      <td>NaN</td>\n",
       "      <td>NaN</td>\n",
       "      <td>NaN</td>\n",
       "      <td>36.03</td>\n",
       "      <td>NaN</td>\n",
       "      <td>NaN</td>\n",
       "      <td>34.10</td>\n",
       "      <td>NaN</td>\n",
       "      <td>11.61</td>\n",
       "      <td>101.24</td>\n",
       "      <td>NaN</td>\n",
       "      <td>NaN</td>\n",
       "      <td>NaN</td>\n",
       "      <td>NaN</td>\n",
       "      <td>15.92</td>\n",
       "      <td>NaN</td>\n",
       "      <td>NaN</td>\n",
       "      <td>NaN</td>\n",
       "      <td>NaN</td>\n",
       "      <td>NaN</td>\n",
       "    </tr>\n",
       "    <tr>\n",
       "      <th>1997</th>\n",
       "      <td>NaN</td>\n",
       "      <td>NaN</td>\n",
       "      <td>NaN</td>\n",
       "      <td>6.37</td>\n",
       "      <td>NaN</td>\n",
       "      <td>NaN</td>\n",
       "      <td>39.50</td>\n",
       "      <td>NaN</td>\n",
       "      <td>11.27</td>\n",
       "      <td>136.17</td>\n",
       "      <td>NaN</td>\n",
       "      <td>NaN</td>\n",
       "      <td>NaN</td>\n",
       "      <td>NaN</td>\n",
       "      <td>0.99</td>\n",
       "      <td>NaN</td>\n",
       "      <td>NaN</td>\n",
       "      <td>NaN</td>\n",
       "      <td>NaN</td>\n",
       "      <td>NaN</td>\n",
       "    </tr>\n",
       "    <tr>\n",
       "      <th>1998</th>\n",
       "      <td>NaN</td>\n",
       "      <td>NaN</td>\n",
       "      <td>NaN</td>\n",
       "      <td>26.90</td>\n",
       "      <td>NaN</td>\n",
       "      <td>NaN</td>\n",
       "      <td>49.24</td>\n",
       "      <td>NaN</td>\n",
       "      <td>3.26</td>\n",
       "      <td>172.16</td>\n",
       "      <td>NaN</td>\n",
       "      <td>NaN</td>\n",
       "      <td>NaN</td>\n",
       "      <td>NaN</td>\n",
       "      <td>0.22</td>\n",
       "      <td>NaN</td>\n",
       "      <td>NaN</td>\n",
       "      <td>NaN</td>\n",
       "      <td>NaN</td>\n",
       "      <td>NaN</td>\n",
       "    </tr>\n",
       "    <tr>\n",
       "      <th>1999</th>\n",
       "      <td>NaN</td>\n",
       "      <td>NaN</td>\n",
       "      <td>NaN</td>\n",
       "      <td>38.00</td>\n",
       "      <td>NaN</td>\n",
       "      <td>NaN</td>\n",
       "      <td>57.87</td>\n",
       "      <td>NaN</td>\n",
       "      <td>4.74</td>\n",
       "      <td>144.53</td>\n",
       "      <td>NaN</td>\n",
       "      <td>NaN</td>\n",
       "      <td>NaN</td>\n",
       "      <td>NaN</td>\n",
       "      <td>0.26</td>\n",
       "      <td>NaN</td>\n",
       "      <td>NaN</td>\n",
       "      <td>NaN</td>\n",
       "      <td>NaN</td>\n",
       "      <td>NaN</td>\n",
       "    </tr>\n",
       "    <tr>\n",
       "      <th>2000</th>\n",
       "      <td>NaN</td>\n",
       "      <td>NaN</td>\n",
       "      <td>NaN</td>\n",
       "      <td>19.76</td>\n",
       "      <td>0.07</td>\n",
       "      <td>NaN</td>\n",
       "      <td>33.97</td>\n",
       "      <td>NaN</td>\n",
       "      <td>4.66</td>\n",
       "      <td>101.05</td>\n",
       "      <td>43.76</td>\n",
       "      <td>NaN</td>\n",
       "      <td>NaN</td>\n",
       "      <td>NaN</td>\n",
       "      <td>NaN</td>\n",
       "      <td>NaN</td>\n",
       "      <td>NaN</td>\n",
       "      <td>NaN</td>\n",
       "      <td>0.99</td>\n",
       "      <td>NaN</td>\n",
       "    </tr>\n",
       "    <tr>\n",
       "      <th>2001</th>\n",
       "      <td>NaN</td>\n",
       "      <td>NaN</td>\n",
       "      <td>NaN</td>\n",
       "      <td>9.24</td>\n",
       "      <td>63.73</td>\n",
       "      <td>27.96</td>\n",
       "      <td>4.01</td>\n",
       "      <td>NaN</td>\n",
       "      <td>5.47</td>\n",
       "      <td>37.26</td>\n",
       "      <td>176.78</td>\n",
       "      <td>NaN</td>\n",
       "      <td>NaN</td>\n",
       "      <td>NaN</td>\n",
       "      <td>NaN</td>\n",
       "      <td>NaN</td>\n",
       "      <td>NaN</td>\n",
       "      <td>NaN</td>\n",
       "      <td>24.24</td>\n",
       "      <td>NaN</td>\n",
       "    </tr>\n",
       "    <tr>\n",
       "      <th>2002</th>\n",
       "      <td>NaN</td>\n",
       "      <td>NaN</td>\n",
       "      <td>NaN</td>\n",
       "      <td>NaN</td>\n",
       "      <td>75.76</td>\n",
       "      <td>53.42</td>\n",
       "      <td>0.16</td>\n",
       "      <td>NaN</td>\n",
       "      <td>8.57</td>\n",
       "      <td>6.67</td>\n",
       "      <td>217.87</td>\n",
       "      <td>NaN</td>\n",
       "      <td>NaN</td>\n",
       "      <td>NaN</td>\n",
       "      <td>NaN</td>\n",
       "      <td>NaN</td>\n",
       "      <td>NaN</td>\n",
       "      <td>NaN</td>\n",
       "      <td>52.97</td>\n",
       "      <td>NaN</td>\n",
       "    </tr>\n",
       "    <tr>\n",
       "      <th>2003</th>\n",
       "      <td>NaN</td>\n",
       "      <td>NaN</td>\n",
       "      <td>NaN</td>\n",
       "      <td>NaN</td>\n",
       "      <td>59.39</td>\n",
       "      <td>51.62</td>\n",
       "      <td>NaN</td>\n",
       "      <td>NaN</td>\n",
       "      <td>8.84</td>\n",
       "      <td>2.07</td>\n",
       "      <td>189.52</td>\n",
       "      <td>NaN</td>\n",
       "      <td>NaN</td>\n",
       "      <td>NaN</td>\n",
       "      <td>NaN</td>\n",
       "      <td>NaN</td>\n",
       "      <td>NaN</td>\n",
       "      <td>NaN</td>\n",
       "      <td>56.61</td>\n",
       "      <td>NaN</td>\n",
       "    </tr>\n",
       "    <tr>\n",
       "      <th>2004</th>\n",
       "      <td>NaN</td>\n",
       "      <td>NaN</td>\n",
       "      <td>17.77</td>\n",
       "      <td>NaN</td>\n",
       "      <td>83.01</td>\n",
       "      <td>32.72</td>\n",
       "      <td>NaN</td>\n",
       "      <td>NaN</td>\n",
       "      <td>10.76</td>\n",
       "      <td>NaN</td>\n",
       "      <td>249.89</td>\n",
       "      <td>NaN</td>\n",
       "      <td>NaN</td>\n",
       "      <td>8.45</td>\n",
       "      <td>NaN</td>\n",
       "      <td>NaN</td>\n",
       "      <td>NaN</td>\n",
       "      <td>NaN</td>\n",
       "      <td>70.17</td>\n",
       "      <td>NaN</td>\n",
       "    </tr>\n",
       "    <tr>\n",
       "      <th>2005</th>\n",
       "      <td>NaN</td>\n",
       "      <td>NaN</td>\n",
       "      <td>133.17</td>\n",
       "      <td>NaN</td>\n",
       "      <td>38.51</td>\n",
       "      <td>31.35</td>\n",
       "      <td>NaN</td>\n",
       "      <td>NaN</td>\n",
       "      <td>5.64</td>\n",
       "      <td>NaN</td>\n",
       "      <td>180.13</td>\n",
       "      <td>NaN</td>\n",
       "      <td>NaN</td>\n",
       "      <td>47.24</td>\n",
       "      <td>NaN</td>\n",
       "      <td>NaN</td>\n",
       "      <td>NaN</td>\n",
       "      <td>9.50</td>\n",
       "      <td>56.77</td>\n",
       "      <td>NaN</td>\n",
       "    </tr>\n",
       "    <tr>\n",
       "      <th>2006</th>\n",
       "      <td>NaN</td>\n",
       "      <td>NaN</td>\n",
       "      <td>127.44</td>\n",
       "      <td>NaN</td>\n",
       "      <td>6.56</td>\n",
       "      <td>14.52</td>\n",
       "      <td>NaN</td>\n",
       "      <td>NaN</td>\n",
       "      <td>2.90</td>\n",
       "      <td>NaN</td>\n",
       "      <td>108.11</td>\n",
       "      <td>20.96</td>\n",
       "      <td>NaN</td>\n",
       "      <td>61.35</td>\n",
       "      <td>NaN</td>\n",
       "      <td>137.70</td>\n",
       "      <td>NaN</td>\n",
       "      <td>55.13</td>\n",
       "      <td>10.77</td>\n",
       "      <td>NaN</td>\n",
       "    </tr>\n",
       "    <tr>\n",
       "      <th>2007</th>\n",
       "      <td>NaN</td>\n",
       "      <td>NaN</td>\n",
       "      <td>157.47</td>\n",
       "      <td>NaN</td>\n",
       "      <td>3.40</td>\n",
       "      <td>0.28</td>\n",
       "      <td>NaN</td>\n",
       "      <td>NaN</td>\n",
       "      <td>10.55</td>\n",
       "      <td>NaN</td>\n",
       "      <td>83.56</td>\n",
       "      <td>87.72</td>\n",
       "      <td>NaN</td>\n",
       "      <td>51.68</td>\n",
       "      <td>NaN</td>\n",
       "      <td>165.38</td>\n",
       "      <td>NaN</td>\n",
       "      <td>111.80</td>\n",
       "      <td>0.55</td>\n",
       "      <td>NaN</td>\n",
       "    </tr>\n",
       "    <tr>\n",
       "      <th>2008</th>\n",
       "      <td>NaN</td>\n",
       "      <td>NaN</td>\n",
       "      <td>154.61</td>\n",
       "      <td>NaN</td>\n",
       "      <td>NaN</td>\n",
       "      <td>NaN</td>\n",
       "      <td>NaN</td>\n",
       "      <td>NaN</td>\n",
       "      <td>12.76</td>\n",
       "      <td>NaN</td>\n",
       "      <td>61.55</td>\n",
       "      <td>136.56</td>\n",
       "      <td>NaN</td>\n",
       "      <td>39.53</td>\n",
       "      <td>NaN</td>\n",
       "      <td>180.19</td>\n",
       "      <td>NaN</td>\n",
       "      <td>153.92</td>\n",
       "      <td>0.18</td>\n",
       "      <td>NaN</td>\n",
       "    </tr>\n",
       "    <tr>\n",
       "      <th>2009</th>\n",
       "      <td>NaN</td>\n",
       "      <td>NaN</td>\n",
       "      <td>128.15</td>\n",
       "      <td>NaN</td>\n",
       "      <td>NaN</td>\n",
       "      <td>NaN</td>\n",
       "      <td>NaN</td>\n",
       "      <td>NaN</td>\n",
       "      <td>25.95</td>\n",
       "      <td>NaN</td>\n",
       "      <td>30.44</td>\n",
       "      <td>140.07</td>\n",
       "      <td>NaN</td>\n",
       "      <td>45.33</td>\n",
       "      <td>NaN</td>\n",
       "      <td>219.07</td>\n",
       "      <td>NaN</td>\n",
       "      <td>129.09</td>\n",
       "      <td>NaN</td>\n",
       "      <td>NaN</td>\n",
       "    </tr>\n",
       "    <tr>\n",
       "      <th>2010</th>\n",
       "      <td>NaN</td>\n",
       "      <td>NaN</td>\n",
       "      <td>87.96</td>\n",
       "      <td>NaN</td>\n",
       "      <td>NaN</td>\n",
       "      <td>NaN</td>\n",
       "      <td>NaN</td>\n",
       "      <td>NaN</td>\n",
       "      <td>25.01</td>\n",
       "      <td>NaN</td>\n",
       "      <td>5.70</td>\n",
       "      <td>162.96</td>\n",
       "      <td>NaN</td>\n",
       "      <td>36.04</td>\n",
       "      <td>NaN</td>\n",
       "      <td>133.76</td>\n",
       "      <td>NaN</td>\n",
       "      <td>192.58</td>\n",
       "      <td>NaN</td>\n",
       "      <td>NaN</td>\n",
       "    </tr>\n",
       "    <tr>\n",
       "      <th>2011</th>\n",
       "      <td>NaN</td>\n",
       "      <td>66.23</td>\n",
       "      <td>29.17</td>\n",
       "      <td>NaN</td>\n",
       "      <td>NaN</td>\n",
       "      <td>NaN</td>\n",
       "      <td>NaN</td>\n",
       "      <td>NaN</td>\n",
       "      <td>35.76</td>\n",
       "      <td>NaN</td>\n",
       "      <td>0.45</td>\n",
       "      <td>162.17</td>\n",
       "      <td>NaN</td>\n",
       "      <td>18.19</td>\n",
       "      <td>NaN</td>\n",
       "      <td>64.12</td>\n",
       "      <td>NaN</td>\n",
       "      <td>148.72</td>\n",
       "      <td>NaN</td>\n",
       "      <td>NaN</td>\n",
       "    </tr>\n",
       "    <tr>\n",
       "      <th>2012</th>\n",
       "      <td>NaN</td>\n",
       "      <td>51.36</td>\n",
       "      <td>11.01</td>\n",
       "      <td>NaN</td>\n",
       "      <td>NaN</td>\n",
       "      <td>NaN</td>\n",
       "      <td>NaN</td>\n",
       "      <td>NaN</td>\n",
       "      <td>23.30</td>\n",
       "      <td>NaN</td>\n",
       "      <td>NaN</td>\n",
       "      <td>110.17</td>\n",
       "      <td>NaN</td>\n",
       "      <td>7.80</td>\n",
       "      <td>NaN</td>\n",
       "      <td>21.71</td>\n",
       "      <td>17.56</td>\n",
       "      <td>101.30</td>\n",
       "      <td>NaN</td>\n",
       "      <td>NaN</td>\n",
       "    </tr>\n",
       "    <tr>\n",
       "      <th>2013</th>\n",
       "      <td>NaN</td>\n",
       "      <td>56.60</td>\n",
       "      <td>1.54</td>\n",
       "      <td>NaN</td>\n",
       "      <td>NaN</td>\n",
       "      <td>NaN</td>\n",
       "      <td>NaN</td>\n",
       "      <td>NaN</td>\n",
       "      <td>12.38</td>\n",
       "      <td>NaN</td>\n",
       "      <td>NaN</td>\n",
       "      <td>113.34</td>\n",
       "      <td>25.99</td>\n",
       "      <td>3.14</td>\n",
       "      <td>NaN</td>\n",
       "      <td>8.62</td>\n",
       "      <td>21.92</td>\n",
       "      <td>88.59</td>\n",
       "      <td>NaN</td>\n",
       "      <td>18.96</td>\n",
       "    </tr>\n",
       "    <tr>\n",
       "      <th>2014</th>\n",
       "      <td>NaN</td>\n",
       "      <td>43.76</td>\n",
       "      <td>NaN</td>\n",
       "      <td>NaN</td>\n",
       "      <td>NaN</td>\n",
       "      <td>NaN</td>\n",
       "      <td>NaN</td>\n",
       "      <td>NaN</td>\n",
       "      <td>13.28</td>\n",
       "      <td>NaN</td>\n",
       "      <td>NaN</td>\n",
       "      <td>47.76</td>\n",
       "      <td>100.00</td>\n",
       "      <td>0.24</td>\n",
       "      <td>NaN</td>\n",
       "      <td>3.75</td>\n",
       "      <td>22.03</td>\n",
       "      <td>34.74</td>\n",
       "      <td>NaN</td>\n",
       "      <td>54.07</td>\n",
       "    </tr>\n",
       "    <tr>\n",
       "      <th>2015</th>\n",
       "      <td>NaN</td>\n",
       "      <td>27.78</td>\n",
       "      <td>NaN</td>\n",
       "      <td>NaN</td>\n",
       "      <td>NaN</td>\n",
       "      <td>NaN</td>\n",
       "      <td>NaN</td>\n",
       "      <td>NaN</td>\n",
       "      <td>8.62</td>\n",
       "      <td>NaN</td>\n",
       "      <td>NaN</td>\n",
       "      <td>17.55</td>\n",
       "      <td>122.83</td>\n",
       "      <td>0.12</td>\n",
       "      <td>NaN</td>\n",
       "      <td>1.14</td>\n",
       "      <td>16.40</td>\n",
       "      <td>12.90</td>\n",
       "      <td>NaN</td>\n",
       "      <td>62.48</td>\n",
       "    </tr>\n",
       "    <tr>\n",
       "      <th>2016</th>\n",
       "      <td>NaN</td>\n",
       "      <td>15.14</td>\n",
       "      <td>NaN</td>\n",
       "      <td>NaN</td>\n",
       "      <td>NaN</td>\n",
       "      <td>NaN</td>\n",
       "      <td>NaN</td>\n",
       "      <td>NaN</td>\n",
       "      <td>5.25</td>\n",
       "      <td>NaN</td>\n",
       "      <td>NaN</td>\n",
       "      <td>3.60</td>\n",
       "      <td>69.30</td>\n",
       "      <td>NaN</td>\n",
       "      <td>NaN</td>\n",
       "      <td>0.18</td>\n",
       "      <td>4.60</td>\n",
       "      <td>1.52</td>\n",
       "      <td>NaN</td>\n",
       "      <td>26.15</td>\n",
       "    </tr>\n",
       "  </tbody>\n",
       "</table>\n",
       "</div>"
      ],
      "text/plain": [
       "platform          2600    3DS      DS     GB    GBA     GC    N64    NES  \\\n",
       "year_of_release                                                            \n",
       "1980             11.38    NaN     NaN    NaN    NaN    NaN    NaN    NaN   \n",
       "1981             35.68    NaN     NaN    NaN    NaN    NaN    NaN    NaN   \n",
       "1982             29.50    NaN     NaN    NaN    NaN    NaN    NaN    NaN   \n",
       "1983              5.84    NaN     NaN    NaN    NaN    NaN    NaN  10.96   \n",
       "1984              0.27    NaN     NaN    NaN    NaN    NaN    NaN  50.08   \n",
       "1985              0.45    NaN    0.02    NaN    NaN    NaN    NaN  53.44   \n",
       "1986              0.67    NaN     NaN    NaN    NaN    NaN    NaN  36.41   \n",
       "1987              1.94    NaN     NaN    NaN    NaN    NaN    NaN  19.76   \n",
       "1988              0.74    NaN     NaN   1.43    NaN    NaN    NaN  45.01   \n",
       "1989              0.63    NaN     NaN  64.97    NaN    NaN    NaN   7.85   \n",
       "1990               NaN    NaN     NaN   4.89    NaN    NaN    NaN  17.13   \n",
       "1991               NaN    NaN     NaN   5.57    NaN    NaN    NaN   6.11   \n",
       "1992               NaN    NaN     NaN  25.49    NaN    NaN    NaN   1.98   \n",
       "1993               NaN    NaN     NaN    NaN    NaN    NaN    NaN   3.61   \n",
       "1994               NaN    NaN     NaN  12.18    NaN    NaN    NaN   0.11   \n",
       "1995               NaN    NaN     NaN   3.60    NaN    NaN    NaN    NaN   \n",
       "1996               NaN    NaN     NaN  36.03    NaN    NaN  34.10    NaN   \n",
       "1997               NaN    NaN     NaN   6.37    NaN    NaN  39.50    NaN   \n",
       "1998               NaN    NaN     NaN  26.90    NaN    NaN  49.24    NaN   \n",
       "1999               NaN    NaN     NaN  38.00    NaN    NaN  57.87    NaN   \n",
       "2000               NaN    NaN     NaN  19.76   0.07    NaN  33.97    NaN   \n",
       "2001               NaN    NaN     NaN   9.24  63.73  27.96   4.01    NaN   \n",
       "2002               NaN    NaN     NaN    NaN  75.76  53.42   0.16    NaN   \n",
       "2003               NaN    NaN     NaN    NaN  59.39  51.62    NaN    NaN   \n",
       "2004               NaN    NaN   17.77    NaN  83.01  32.72    NaN    NaN   \n",
       "2005               NaN    NaN  133.17    NaN  38.51  31.35    NaN    NaN   \n",
       "2006               NaN    NaN  127.44    NaN   6.56  14.52    NaN    NaN   \n",
       "2007               NaN    NaN  157.47    NaN   3.40   0.28    NaN    NaN   \n",
       "2008               NaN    NaN  154.61    NaN    NaN    NaN    NaN    NaN   \n",
       "2009               NaN    NaN  128.15    NaN    NaN    NaN    NaN    NaN   \n",
       "2010               NaN    NaN   87.96    NaN    NaN    NaN    NaN    NaN   \n",
       "2011               NaN  66.23   29.17    NaN    NaN    NaN    NaN    NaN   \n",
       "2012               NaN  51.36   11.01    NaN    NaN    NaN    NaN    NaN   \n",
       "2013               NaN  56.60    1.54    NaN    NaN    NaN    NaN    NaN   \n",
       "2014               NaN  43.76     NaN    NaN    NaN    NaN    NaN    NaN   \n",
       "2015               NaN  27.78     NaN    NaN    NaN    NaN    NaN    NaN   \n",
       "2016               NaN  15.14     NaN    NaN    NaN    NaN    NaN    NaN   \n",
       "\n",
       "platform            PC      PS     PS2     PS3     PS4    PSP   SNES     Wii  \\\n",
       "year_of_release                                                                \n",
       "1980               NaN     NaN     NaN     NaN     NaN    NaN    NaN     NaN   \n",
       "1981               NaN     NaN     NaN     NaN     NaN    NaN    NaN     NaN   \n",
       "1982               NaN     NaN     NaN     NaN     NaN    NaN    NaN     NaN   \n",
       "1983               NaN     NaN     NaN     NaN     NaN    NaN    NaN     NaN   \n",
       "1984               NaN     NaN     NaN     NaN     NaN    NaN    NaN     NaN   \n",
       "1985              0.04     NaN     NaN     NaN     NaN    NaN    NaN     NaN   \n",
       "1986               NaN     NaN     NaN     NaN     NaN    NaN    NaN     NaN   \n",
       "1987               NaN     NaN     NaN     NaN     NaN    NaN    NaN     NaN   \n",
       "1988              0.03     NaN     NaN     NaN     NaN    NaN    NaN     NaN   \n",
       "1989               NaN     NaN     NaN     NaN     NaN    NaN    NaN     NaN   \n",
       "1990               NaN     NaN     NaN     NaN     NaN    NaN  26.15     NaN   \n",
       "1991               NaN     NaN     NaN     NaN     NaN    NaN  16.22     NaN   \n",
       "1992              3.05     NaN     NaN     NaN     NaN    NaN  32.98     NaN   \n",
       "1993               NaN     NaN     NaN     NaN     NaN    NaN  40.02     NaN   \n",
       "1994             12.87    7.60     NaN     NaN     NaN    NaN  38.51     NaN   \n",
       "1995              4.22   35.96     NaN     NaN     NaN    NaN  32.20     NaN   \n",
       "1996             11.61  101.24     NaN     NaN     NaN    NaN  15.92     NaN   \n",
       "1997             11.27  136.17     NaN     NaN     NaN    NaN   0.99     NaN   \n",
       "1998              3.26  172.16     NaN     NaN     NaN    NaN   0.22     NaN   \n",
       "1999              4.74  144.53     NaN     NaN     NaN    NaN   0.26     NaN   \n",
       "2000              4.66  101.05   43.76     NaN     NaN    NaN    NaN     NaN   \n",
       "2001              5.47   37.26  176.78     NaN     NaN    NaN    NaN     NaN   \n",
       "2002              8.57    6.67  217.87     NaN     NaN    NaN    NaN     NaN   \n",
       "2003              8.84    2.07  189.52     NaN     NaN    NaN    NaN     NaN   \n",
       "2004             10.76     NaN  249.89     NaN     NaN   8.45    NaN     NaN   \n",
       "2005              5.64     NaN  180.13     NaN     NaN  47.24    NaN     NaN   \n",
       "2006              2.90     NaN  108.11   20.96     NaN  61.35    NaN  137.70   \n",
       "2007             10.55     NaN   83.56   87.72     NaN  51.68    NaN  165.38   \n",
       "2008             12.76     NaN   61.55  136.56     NaN  39.53    NaN  180.19   \n",
       "2009             25.95     NaN   30.44  140.07     NaN  45.33    NaN  219.07   \n",
       "2010             25.01     NaN    5.70  162.96     NaN  36.04    NaN  133.76   \n",
       "2011             35.76     NaN    0.45  162.17     NaN  18.19    NaN   64.12   \n",
       "2012             23.30     NaN     NaN  110.17     NaN   7.80    NaN   21.71   \n",
       "2013             12.38     NaN     NaN  113.34   25.99   3.14    NaN    8.62   \n",
       "2014             13.28     NaN     NaN   47.76  100.00   0.24    NaN    3.75   \n",
       "2015              8.62     NaN     NaN   17.55  122.83   0.12    NaN    1.14   \n",
       "2016              5.25     NaN     NaN    3.60   69.30    NaN    NaN    0.18   \n",
       "\n",
       "platform          WiiU    X360     XB   XOne  \n",
       "year_of_release                               \n",
       "1980               NaN     NaN    NaN    NaN  \n",
       "1981               NaN     NaN    NaN    NaN  \n",
       "1982               NaN     NaN    NaN    NaN  \n",
       "1983               NaN     NaN    NaN    NaN  \n",
       "1984               NaN     NaN    NaN    NaN  \n",
       "1985               NaN     NaN    NaN    NaN  \n",
       "1986               NaN     NaN    NaN    NaN  \n",
       "1987               NaN     NaN    NaN    NaN  \n",
       "1988               NaN     NaN    NaN    NaN  \n",
       "1989               NaN     NaN    NaN    NaN  \n",
       "1990               NaN     NaN    NaN    NaN  \n",
       "1991               NaN     NaN    NaN    NaN  \n",
       "1992               NaN     NaN    NaN    NaN  \n",
       "1993               NaN     NaN    NaN    NaN  \n",
       "1994               NaN     NaN    NaN    NaN  \n",
       "1995               NaN     NaN    NaN    NaN  \n",
       "1996               NaN     NaN    NaN    NaN  \n",
       "1997               NaN     NaN    NaN    NaN  \n",
       "1998               NaN     NaN    NaN    NaN  \n",
       "1999               NaN     NaN    NaN    NaN  \n",
       "2000               NaN     NaN   0.99    NaN  \n",
       "2001               NaN     NaN  24.24    NaN  \n",
       "2002               NaN     NaN  52.97    NaN  \n",
       "2003               NaN     NaN  56.61    NaN  \n",
       "2004               NaN     NaN  70.17    NaN  \n",
       "2005               NaN    9.50  56.77    NaN  \n",
       "2006               NaN   55.13  10.77    NaN  \n",
       "2007               NaN  111.80   0.55    NaN  \n",
       "2008               NaN  153.92   0.18    NaN  \n",
       "2009               NaN  129.09    NaN    NaN  \n",
       "2010               NaN  192.58    NaN    NaN  \n",
       "2011               NaN  148.72    NaN    NaN  \n",
       "2012             17.56  101.30    NaN    NaN  \n",
       "2013             21.92   88.59    NaN  18.96  \n",
       "2014             22.03   34.74    NaN  54.07  \n",
       "2015             16.40   12.90    NaN  62.48  \n",
       "2016              4.60    1.52    NaN  26.15  "
      ]
     },
     "execution_count": 35,
     "metadata": {},
     "output_type": "execute_result"
    }
   ],
   "source": [
    "#сделаем свод по каждой плоатформе и ее выручке за каждый год\n",
    "sales_top_20 = pd.pivot_table(data.loc[data['platform'].isin(top_platforms.index)], \n",
    "                            index='year_of_release', columns='platform', values='all_sales', aggfunc='sum')\n",
    "sales_top_20"
   ]
  },
  {
   "cell_type": "code",
   "execution_count": 36,
   "metadata": {
    "scrolled": true
   },
   "outputs": [
    {
     "data": {
      "image/png": "[encoded data removed]",
      "text/plain": [
       "<Figure size 1296x432 with 1 Axes>"
      ]
     },
     "metadata": {
      "needs_background": "light"
     },
     "output_type": "display_data"
    }
   ],
   "source": [
    "#посмотрим на графике \n",
    "sales_top_20.plot(figsize=(18,6),  marker = 's', title='Суммарные продажи по игровым платформам за год',\n",
    "                 ylabel='сумма общих продаж', xlabel='год');"
   ]
  },
  {
   "cell_type": "markdown",
   "metadata": {},
   "source": [
    "Многовато данных, к тому же часть платформ перестала существовать. Возьмем данные за последние 7 лет (по среднему сроку жизни платформ) и посмотрим распределение еще раз."
   ]
  },
  {
   "cell_type": "code",
   "execution_count": 37,
   "metadata": {},
   "outputs": [
    {
     "data": {
      "text/html": [
       "<div>\n",
       "<style scoped>\n",
       "    .dataframe tbody tr th:only-of-type {\n",
       "        vertical-align: middle;\n",
       "    }\n",
       "\n",
       "    .dataframe tbody tr th {\n",
       "        vertical-align: top;\n",
       "    }\n",
       "\n",
       "    .dataframe thead th {\n",
       "        text-align: right;\n",
       "    }\n",
       "</style>\n",
       "<table border=\"1\" class=\"dataframe\">\n",
       "  <thead>\n",
       "    <tr style=\"text-align: right;\">\n",
       "      <th>platform</th>\n",
       "      <th>3DS</th>\n",
       "      <th>DS</th>\n",
       "      <th>PC</th>\n",
       "      <th>PS2</th>\n",
       "      <th>PS3</th>\n",
       "      <th>PS4</th>\n",
       "      <th>PSP</th>\n",
       "      <th>Wii</th>\n",
       "      <th>WiiU</th>\n",
       "      <th>X360</th>\n",
       "      <th>XOne</th>\n",
       "    </tr>\n",
       "    <tr>\n",
       "      <th>year_of_release</th>\n",
       "      <th></th>\n",
       "      <th></th>\n",
       "      <th></th>\n",
       "      <th></th>\n",
       "      <th></th>\n",
       "      <th></th>\n",
       "      <th></th>\n",
       "      <th></th>\n",
       "      <th></th>\n",
       "      <th></th>\n",
       "      <th></th>\n",
       "    </tr>\n",
       "  </thead>\n",
       "  <tbody>\n",
       "    <tr>\n",
       "      <th>2010</th>\n",
       "      <td>NaN</td>\n",
       "      <td>87.96</td>\n",
       "      <td>25.01</td>\n",
       "      <td>5.70</td>\n",
       "      <td>162.96</td>\n",
       "      <td>NaN</td>\n",
       "      <td>36.04</td>\n",
       "      <td>133.76</td>\n",
       "      <td>NaN</td>\n",
       "      <td>192.58</td>\n",
       "      <td>NaN</td>\n",
       "    </tr>\n",
       "    <tr>\n",
       "      <th>2011</th>\n",
       "      <td>66.23</td>\n",
       "      <td>29.17</td>\n",
       "      <td>35.76</td>\n",
       "      <td>0.45</td>\n",
       "      <td>162.17</td>\n",
       "      <td>NaN</td>\n",
       "      <td>18.19</td>\n",
       "      <td>64.12</td>\n",
       "      <td>NaN</td>\n",
       "      <td>148.72</td>\n",
       "      <td>NaN</td>\n",
       "    </tr>\n",
       "    <tr>\n",
       "      <th>2012</th>\n",
       "      <td>51.36</td>\n",
       "      <td>11.01</td>\n",
       "      <td>23.30</td>\n",
       "      <td>NaN</td>\n",
       "      <td>110.17</td>\n",
       "      <td>NaN</td>\n",
       "      <td>7.80</td>\n",
       "      <td>21.71</td>\n",
       "      <td>17.56</td>\n",
       "      <td>101.30</td>\n",
       "      <td>NaN</td>\n",
       "    </tr>\n",
       "    <tr>\n",
       "      <th>2013</th>\n",
       "      <td>56.60</td>\n",
       "      <td>1.54</td>\n",
       "      <td>12.38</td>\n",
       "      <td>NaN</td>\n",
       "      <td>113.34</td>\n",
       "      <td>25.99</td>\n",
       "      <td>3.14</td>\n",
       "      <td>8.62</td>\n",
       "      <td>21.92</td>\n",
       "      <td>88.59</td>\n",
       "      <td>18.96</td>\n",
       "    </tr>\n",
       "    <tr>\n",
       "      <th>2014</th>\n",
       "      <td>43.76</td>\n",
       "      <td>NaN</td>\n",
       "      <td>13.28</td>\n",
       "      <td>NaN</td>\n",
       "      <td>47.76</td>\n",
       "      <td>100.00</td>\n",
       "      <td>0.24</td>\n",
       "      <td>3.75</td>\n",
       "      <td>22.03</td>\n",
       "      <td>34.74</td>\n",
       "      <td>54.07</td>\n",
       "    </tr>\n",
       "    <tr>\n",
       "      <th>2015</th>\n",
       "      <td>27.78</td>\n",
       "      <td>NaN</td>\n",
       "      <td>8.62</td>\n",
       "      <td>NaN</td>\n",
       "      <td>17.55</td>\n",
       "      <td>122.83</td>\n",
       "      <td>0.12</td>\n",
       "      <td>1.14</td>\n",
       "      <td>16.40</td>\n",
       "      <td>12.90</td>\n",
       "      <td>62.48</td>\n",
       "    </tr>\n",
       "    <tr>\n",
       "      <th>2016</th>\n",
       "      <td>15.14</td>\n",
       "      <td>NaN</td>\n",
       "      <td>5.25</td>\n",
       "      <td>NaN</td>\n",
       "      <td>3.60</td>\n",
       "      <td>69.30</td>\n",
       "      <td>NaN</td>\n",
       "      <td>0.18</td>\n",
       "      <td>4.60</td>\n",
       "      <td>1.52</td>\n",
       "      <td>26.15</td>\n",
       "    </tr>\n",
       "  </tbody>\n",
       "</table>\n",
       "</div>"
      ],
      "text/plain": [
       "platform           3DS     DS     PC   PS2     PS3     PS4    PSP     Wii  \\\n",
       "year_of_release                                                             \n",
       "2010               NaN  87.96  25.01  5.70  162.96     NaN  36.04  133.76   \n",
       "2011             66.23  29.17  35.76  0.45  162.17     NaN  18.19   64.12   \n",
       "2012             51.36  11.01  23.30   NaN  110.17     NaN   7.80   21.71   \n",
       "2013             56.60   1.54  12.38   NaN  113.34   25.99   3.14    8.62   \n",
       "2014             43.76    NaN  13.28   NaN   47.76  100.00   0.24    3.75   \n",
       "2015             27.78    NaN   8.62   NaN   17.55  122.83   0.12    1.14   \n",
       "2016             15.14    NaN   5.25   NaN    3.60   69.30    NaN    0.18   \n",
       "\n",
       "platform          WiiU    X360   XOne  \n",
       "year_of_release                        \n",
       "2010               NaN  192.58    NaN  \n",
       "2011               NaN  148.72    NaN  \n",
       "2012             17.56  101.30    NaN  \n",
       "2013             21.92   88.59  18.96  \n",
       "2014             22.03   34.74  54.07  \n",
       "2015             16.40   12.90  62.48  \n",
       "2016              4.60    1.52  26.15  "
      ]
     },
     "execution_count": 37,
     "metadata": {},
     "output_type": "execute_result"
    }
   ],
   "source": [
    "#сделаем свобдную по сумме продаж за последние 7 лет\n",
    "sales_top = pd.pivot_table(data.loc[(data['platform'].isin(top_platforms.index)) & (data['year_of_release'] > 2009)], \n",
    "                            index='year_of_release', columns='platform', values='all_sales', aggfunc='sum')\n",
    "sales_top"
   ]
  },
  {
   "cell_type": "code",
   "execution_count": 38,
   "metadata": {},
   "outputs": [
    {
     "data": {
      "image/png": "[encoded data removed]",
      "text/plain": [
       "<Figure size 1296x432 with 1 Axes>"
      ]
     },
     "metadata": {
      "needs_background": "light"
     },
     "output_type": "display_data"
    }
   ],
   "source": [
    "#посмотрим на графике \n",
    "sales_top.plot(figsize=(18,6),  marker = 's', title='Суммарные продажи по игровым платформам за год',\n",
    "                 ylabel='сумма общих продаж', xlabel='год');"
   ]
  },
  {
   "cell_type": "markdown",
   "metadata": {},
   "source": [
    "На графике видим, что платформы PS2 и DS закончили свою работу в 2011 и 2013 г, а платформы PS4 и XOne в 2013 только начали свою работу.\n",
    "За актуальный период примем последние 3 года: 2014 - 2016, т.к. одна из целей исследования - выявить популярные продукты, а популярными игры остаются явно меньше 36 лет, представленных в исходных данных. Игровая индустрия непрерывно развивается, и игры 10-летней давности могут быть неактуальны на следующий год. Можно было бы сократить период до 3-х лет, но в этом случае у нас будет меньше данных для исследования в полтора раза, чем при пятилетнем периоде. "
   ]
  },
  {
   "cell_type": "code",
   "execution_count": 39,
   "metadata": {},
   "outputs": [],
   "source": [
    "#сделаем срез по данным с 2014 года\n",
    "data2014 = data[data['year_of_release'] >= 2014]"
   ]
  },
  {
   "cell_type": "code",
   "execution_count": 40,
   "metadata": {},
   "outputs": [
    {
     "data": {
      "text/html": [
       "<div>\n",
       "<style scoped>\n",
       "    .dataframe tbody tr th:only-of-type {\n",
       "        vertical-align: middle;\n",
       "    }\n",
       "\n",
       "    .dataframe tbody tr th {\n",
       "        vertical-align: top;\n",
       "    }\n",
       "\n",
       "    .dataframe thead th {\n",
       "        text-align: right;\n",
       "    }\n",
       "</style>\n",
       "<table border=\"1\" class=\"dataframe\">\n",
       "  <thead>\n",
       "    <tr style=\"text-align: right;\">\n",
       "      <th>platform</th>\n",
       "      <th>3DS</th>\n",
       "      <th>PC</th>\n",
       "      <th>PS3</th>\n",
       "      <th>PS4</th>\n",
       "      <th>PSP</th>\n",
       "      <th>PSV</th>\n",
       "      <th>Wii</th>\n",
       "      <th>WiiU</th>\n",
       "      <th>X360</th>\n",
       "      <th>XOne</th>\n",
       "    </tr>\n",
       "    <tr>\n",
       "      <th>year_of_release</th>\n",
       "      <th></th>\n",
       "      <th></th>\n",
       "      <th></th>\n",
       "      <th></th>\n",
       "      <th></th>\n",
       "      <th></th>\n",
       "      <th></th>\n",
       "      <th></th>\n",
       "      <th></th>\n",
       "      <th></th>\n",
       "    </tr>\n",
       "  </thead>\n",
       "  <tbody>\n",
       "    <tr>\n",
       "      <th>2014</th>\n",
       "      <td>43.76</td>\n",
       "      <td>13.28</td>\n",
       "      <td>47.76</td>\n",
       "      <td>100.00</td>\n",
       "      <td>0.24</td>\n",
       "      <td>11.90</td>\n",
       "      <td>3.75</td>\n",
       "      <td>22.03</td>\n",
       "      <td>34.74</td>\n",
       "      <td>54.07</td>\n",
       "    </tr>\n",
       "    <tr>\n",
       "      <th>2015</th>\n",
       "      <td>27.78</td>\n",
       "      <td>8.62</td>\n",
       "      <td>17.55</td>\n",
       "      <td>122.83</td>\n",
       "      <td>0.12</td>\n",
       "      <td>6.25</td>\n",
       "      <td>1.14</td>\n",
       "      <td>16.40</td>\n",
       "      <td>12.90</td>\n",
       "      <td>62.48</td>\n",
       "    </tr>\n",
       "    <tr>\n",
       "      <th>2016</th>\n",
       "      <td>15.14</td>\n",
       "      <td>5.25</td>\n",
       "      <td>3.60</td>\n",
       "      <td>69.30</td>\n",
       "      <td>NaN</td>\n",
       "      <td>4.25</td>\n",
       "      <td>0.18</td>\n",
       "      <td>4.60</td>\n",
       "      <td>1.52</td>\n",
       "      <td>26.15</td>\n",
       "    </tr>\n",
       "  </tbody>\n",
       "</table>\n",
       "</div>"
      ],
      "text/plain": [
       "platform           3DS     PC    PS3     PS4   PSP    PSV   Wii   WiiU   X360  \\\n",
       "year_of_release                                                                 \n",
       "2014             43.76  13.28  47.76  100.00  0.24  11.90  3.75  22.03  34.74   \n",
       "2015             27.78   8.62  17.55  122.83  0.12   6.25  1.14  16.40  12.90   \n",
       "2016             15.14   5.25   3.60   69.30   NaN   4.25  0.18   4.60   1.52   \n",
       "\n",
       "platform          XOne  \n",
       "year_of_release         \n",
       "2014             54.07  \n",
       "2015             62.48  \n",
       "2016             26.15  "
      ]
     },
     "execution_count": 40,
     "metadata": {},
     "output_type": "execute_result"
    }
   ],
   "source": [
    "sales_top2014 = pd.pivot_table(data2014, index='year_of_release', columns='platform', values='all_sales', aggfunc='sum')\n",
    "sales_top2014"
   ]
  },
  {
   "cell_type": "code",
   "execution_count": 41,
   "metadata": {},
   "outputs": [
    {
     "data": {
      "image/png": "[encoded data removed]",
      "text/plain": [
       "<Figure size 1296x432 with 1 Axes>"
      ]
     },
     "metadata": {
      "needs_background": "light"
     },
     "output_type": "display_data"
    }
   ],
   "source": [
    "#посмотрим на графике \n",
    "sales_top2014.plot(figsize=(18,6),  marker = 's', title='Суммарные продажи по игровым платформам за год',\n",
    "                 ylabel='сумма общих продаж', xlabel='год');"
   ]
  },
  {
   "cell_type": "code",
   "execution_count": 42,
   "metadata": {},
   "outputs": [
    {
     "data": {
      "text/plain": [
       "platform\n",
       "PS4     292.13\n",
       "XOne    142.70\n",
       "3DS      86.68\n",
       "PS3      68.91\n",
       "X360     49.16\n",
       "WiiU     43.03\n",
       "PC       27.15\n",
       "PSV      22.40\n",
       "Wii       5.07\n",
       "PSP       0.36\n",
       "Name: all_sales, dtype: float64"
      ]
     },
     "execution_count": 42,
     "metadata": {},
     "output_type": "execute_result"
    }
   ],
   "source": [
    "#посмотрим на суммарные продажи по платформам за последние 5 лет\n",
    "data2014.groupby(by='platform')['all_sales'].sum().sort_values(ascending=False)"
   ]
  },
  {
   "cell_type": "markdown",
   "metadata": {},
   "source": [
    "Потенциально прибыльные платформы - платформы, за последние 2 года имеющие положительную динамику в продажах (2014-2015, т.к. данные за 2016 неполные), суммарно за 3 лет продавшие более 100 млн копий:\n",
    "* PS4;\n",
    "* XOne.\n",
    "\n",
    "PS3, 3DS, WiiU и PC имеют отрицательную динамику по продажам за последние несколько лет. Хотя WiiU можно дать шанс - падать по продажам они начали только в 2015. "
   ]
  },
  {
   "cell_type": "code",
   "execution_count": 43,
   "metadata": {},
   "outputs": [
    {
     "data": {
      "text/html": [
       "<div>\n",
       "<style scoped>\n",
       "    .dataframe tbody tr th:only-of-type {\n",
       "        vertical-align: middle;\n",
       "    }\n",
       "\n",
       "    .dataframe tbody tr th {\n",
       "        vertical-align: top;\n",
       "    }\n",
       "\n",
       "    .dataframe thead th {\n",
       "        text-align: right;\n",
       "    }\n",
       "</style>\n",
       "<table border=\"1\" class=\"dataframe\">\n",
       "  <thead>\n",
       "    <tr style=\"text-align: right;\">\n",
       "      <th>platform</th>\n",
       "      <th>3DS</th>\n",
       "      <th>PC</th>\n",
       "      <th>PS3</th>\n",
       "      <th>PS4</th>\n",
       "      <th>PSP</th>\n",
       "      <th>PSV</th>\n",
       "      <th>Wii</th>\n",
       "      <th>WiiU</th>\n",
       "      <th>X360</th>\n",
       "      <th>XOne</th>\n",
       "    </tr>\n",
       "  </thead>\n",
       "  <tbody>\n",
       "    <tr>\n",
       "      <th>count</th>\n",
       "      <td>212.000000</td>\n",
       "      <td>152.000000</td>\n",
       "      <td>220.000000</td>\n",
       "      <td>379.000000</td>\n",
       "      <td>13.000000</td>\n",
       "      <td>295.000000</td>\n",
       "      <td>11.000000</td>\n",
       "      <td>74.000000</td>\n",
       "      <td>112.000000</td>\n",
       "      <td>229.000000</td>\n",
       "    </tr>\n",
       "    <tr>\n",
       "      <th>mean</th>\n",
       "      <td>0.408868</td>\n",
       "      <td>0.178618</td>\n",
       "      <td>0.313227</td>\n",
       "      <td>0.770792</td>\n",
       "      <td>0.027692</td>\n",
       "      <td>0.075932</td>\n",
       "      <td>0.460909</td>\n",
       "      <td>0.581486</td>\n",
       "      <td>0.438929</td>\n",
       "      <td>0.623144</td>\n",
       "    </tr>\n",
       "    <tr>\n",
       "      <th>std</th>\n",
       "      <td>1.188368</td>\n",
       "      <td>0.328329</td>\n",
       "      <td>0.632243</td>\n",
       "      <td>1.617271</td>\n",
       "      <td>0.027735</td>\n",
       "      <td>0.141591</td>\n",
       "      <td>0.625451</td>\n",
       "      <td>1.155183</td>\n",
       "      <td>0.627947</td>\n",
       "      <td>1.050415</td>\n",
       "    </tr>\n",
       "    <tr>\n",
       "      <th>min</th>\n",
       "      <td>0.010000</td>\n",
       "      <td>0.010000</td>\n",
       "      <td>0.010000</td>\n",
       "      <td>0.010000</td>\n",
       "      <td>0.010000</td>\n",
       "      <td>0.010000</td>\n",
       "      <td>0.010000</td>\n",
       "      <td>0.010000</td>\n",
       "      <td>0.010000</td>\n",
       "      <td>0.010000</td>\n",
       "    </tr>\n",
       "    <tr>\n",
       "      <th>25%</th>\n",
       "      <td>0.030000</td>\n",
       "      <td>0.020000</td>\n",
       "      <td>0.040000</td>\n",
       "      <td>0.055000</td>\n",
       "      <td>0.010000</td>\n",
       "      <td>0.020000</td>\n",
       "      <td>0.035000</td>\n",
       "      <td>0.050000</td>\n",
       "      <td>0.070000</td>\n",
       "      <td>0.050000</td>\n",
       "    </tr>\n",
       "    <tr>\n",
       "      <th>50%</th>\n",
       "      <td>0.090000</td>\n",
       "      <td>0.060000</td>\n",
       "      <td>0.110000</td>\n",
       "      <td>0.180000</td>\n",
       "      <td>0.020000</td>\n",
       "      <td>0.040000</td>\n",
       "      <td>0.180000</td>\n",
       "      <td>0.190000</td>\n",
       "      <td>0.190000</td>\n",
       "      <td>0.210000</td>\n",
       "    </tr>\n",
       "    <tr>\n",
       "      <th>75%</th>\n",
       "      <td>0.250000</td>\n",
       "      <td>0.200000</td>\n",
       "      <td>0.332500</td>\n",
       "      <td>0.690000</td>\n",
       "      <td>0.020000</td>\n",
       "      <td>0.090000</td>\n",
       "      <td>0.755000</td>\n",
       "      <td>0.560000</td>\n",
       "      <td>0.530000</td>\n",
       "      <td>0.640000</td>\n",
       "    </tr>\n",
       "    <tr>\n",
       "      <th>max</th>\n",
       "      <td>11.680000</td>\n",
       "      <td>3.050000</td>\n",
       "      <td>5.270000</td>\n",
       "      <td>14.630000</td>\n",
       "      <td>0.090000</td>\n",
       "      <td>1.960000</td>\n",
       "      <td>2.010000</td>\n",
       "      <td>7.090000</td>\n",
       "      <td>4.280000</td>\n",
       "      <td>7.390000</td>\n",
       "    </tr>\n",
       "  </tbody>\n",
       "</table>\n",
       "</div>"
      ],
      "text/plain": [
       "platform         3DS          PC         PS3         PS4        PSP  \\\n",
       "count     212.000000  152.000000  220.000000  379.000000  13.000000   \n",
       "mean        0.408868    0.178618    0.313227    0.770792   0.027692   \n",
       "std         1.188368    0.328329    0.632243    1.617271   0.027735   \n",
       "min         0.010000    0.010000    0.010000    0.010000   0.010000   \n",
       "25%         0.030000    0.020000    0.040000    0.055000   0.010000   \n",
       "50%         0.090000    0.060000    0.110000    0.180000   0.020000   \n",
       "75%         0.250000    0.200000    0.332500    0.690000   0.020000   \n",
       "max        11.680000    3.050000    5.270000   14.630000   0.090000   \n",
       "\n",
       "platform         PSV        Wii       WiiU        X360        XOne  \n",
       "count     295.000000  11.000000  74.000000  112.000000  229.000000  \n",
       "mean        0.075932   0.460909   0.581486    0.438929    0.623144  \n",
       "std         0.141591   0.625451   1.155183    0.627947    1.050415  \n",
       "min         0.010000   0.010000   0.010000    0.010000    0.010000  \n",
       "25%         0.020000   0.035000   0.050000    0.070000    0.050000  \n",
       "50%         0.040000   0.180000   0.190000    0.190000    0.210000  \n",
       "75%         0.090000   0.755000   0.560000    0.530000    0.640000  \n",
       "max         1.960000   2.010000   7.090000    4.280000    7.390000  "
      ]
     },
     "execution_count": 43,
     "metadata": {},
     "output_type": "execute_result"
    }
   ],
   "source": [
    "#посмотрим на распределение суммарных продаж по платформам\n",
    "data2014.groupby(by='platform')['all_sales'].describe().transpose()"
   ]
  },
  {
   "cell_type": "code",
   "execution_count": 44,
   "metadata": {},
   "outputs": [
    {
     "data": {
      "image/png": "[encoded data removed]",
      "text/plain": [
       "<Figure size 432x288 with 1 Axes>"
      ]
     },
     "metadata": {
      "needs_background": "light"
     },
     "output_type": "display_data"
    }
   ],
   "source": [
    "#посмотрим на графике\n",
    "data2014.groupby(by='platform')['all_sales'].describe().transpose().plot(kind='box', \n",
    "          title='Распредление суммарных продаж в разрезе платформ', \n",
    "          ylabel = 'Суммарные продажи, млн копий');"
   ]
  },
  {
   "cell_type": "markdown",
   "metadata": {},
   "source": [
    "Так себе график. Посмотрим только игры, которые продавались от 2 млн копий"
   ]
  },
  {
   "cell_type": "code",
   "execution_count": 45,
   "metadata": {
    "scrolled": true
   },
   "outputs": [
    {
     "data": {
      "image/png": "[encoded data removed]",
      "text/plain": [
       "<Figure size 720x360 with 1 Axes>"
      ]
     },
     "metadata": {
      "needs_background": "light"
     },
     "output_type": "display_data"
    }
   ],
   "source": [
    "#построим график по играм с продажей более 2 млн копий\n",
    "data2014[data2014['all_sales'] > 2].groupby(by='platform')['all_sales'].describe().transpose().plot(kind='box', \n",
    "          title='Распредление суммарных продаж в разрезе платформ', \n",
    "          ylabel = 'Суммарные продажи, млн копий',\n",
    "          ylim=(0, 13), figsize=(10,5))\n",
    "plt.xlabel('Платформа')\n",
    "plt.show()"
   ]
  },
  {
   "cell_type": "code",
   "execution_count": 46,
   "metadata": {},
   "outputs": [
    {
     "data": {
      "text/html": [
       "<div>\n",
       "<style scoped>\n",
       "    .dataframe tbody tr th:only-of-type {\n",
       "        vertical-align: middle;\n",
       "    }\n",
       "\n",
       "    .dataframe tbody tr th {\n",
       "        vertical-align: top;\n",
       "    }\n",
       "\n",
       "    .dataframe thead th {\n",
       "        text-align: right;\n",
       "    }\n",
       "</style>\n",
       "<table border=\"1\" class=\"dataframe\">\n",
       "  <thead>\n",
       "    <tr style=\"text-align: right;\">\n",
       "      <th>platform</th>\n",
       "      <th>3DS</th>\n",
       "      <th>PC</th>\n",
       "      <th>PS3</th>\n",
       "      <th>PS4</th>\n",
       "      <th>Wii</th>\n",
       "      <th>WiiU</th>\n",
       "      <th>X360</th>\n",
       "      <th>XOne</th>\n",
       "    </tr>\n",
       "  </thead>\n",
       "  <tbody>\n",
       "    <tr>\n",
       "      <th>count</th>\n",
       "      <td>10.000000</td>\n",
       "      <td>1.00</td>\n",
       "      <td>4.000000</td>\n",
       "      <td>40.000000</td>\n",
       "      <td>1.00</td>\n",
       "      <td>4.000000</td>\n",
       "      <td>3.000000</td>\n",
       "      <td>21.000000</td>\n",
       "    </tr>\n",
       "    <tr>\n",
       "      <th>mean</th>\n",
       "      <td>4.722000</td>\n",
       "      <td>3.05</td>\n",
       "      <td>4.152500</td>\n",
       "      <td>4.502000</td>\n",
       "      <td>2.01</td>\n",
       "      <td>4.902500</td>\n",
       "      <td>3.083333</td>\n",
       "      <td>3.409524</td>\n",
       "    </tr>\n",
       "    <tr>\n",
       "      <th>std</th>\n",
       "      <td>3.083093</td>\n",
       "      <td>NaN</td>\n",
       "      <td>1.067376</td>\n",
       "      <td>2.778607</td>\n",
       "      <td>NaN</td>\n",
       "      <td>1.619123</td>\n",
       "      <td>1.123937</td>\n",
       "      <td>1.329171</td>\n",
       "    </tr>\n",
       "    <tr>\n",
       "      <th>min</th>\n",
       "      <td>2.290000</td>\n",
       "      <td>3.05</td>\n",
       "      <td>2.700000</td>\n",
       "      <td>2.010000</td>\n",
       "      <td>2.01</td>\n",
       "      <td>3.210000</td>\n",
       "      <td>2.050000</td>\n",
       "      <td>2.170000</td>\n",
       "    </tr>\n",
       "    <tr>\n",
       "      <th>25%</th>\n",
       "      <td>2.772500</td>\n",
       "      <td>3.05</td>\n",
       "      <td>3.885000</td>\n",
       "      <td>2.472500</td>\n",
       "      <td>2.01</td>\n",
       "      <td>4.132500</td>\n",
       "      <td>2.485000</td>\n",
       "      <td>2.420000</td>\n",
       "    </tr>\n",
       "    <tr>\n",
       "      <th>50%</th>\n",
       "      <td>3.300000</td>\n",
       "      <td>3.05</td>\n",
       "      <td>4.320000</td>\n",
       "      <td>3.915000</td>\n",
       "      <td>2.01</td>\n",
       "      <td>4.655000</td>\n",
       "      <td>2.920000</td>\n",
       "      <td>3.230000</td>\n",
       "    </tr>\n",
       "    <tr>\n",
       "      <th>75%</th>\n",
       "      <td>6.327500</td>\n",
       "      <td>3.05</td>\n",
       "      <td>4.587500</td>\n",
       "      <td>4.887500</td>\n",
       "      <td>2.01</td>\n",
       "      <td>5.425000</td>\n",
       "      <td>3.600000</td>\n",
       "      <td>3.660000</td>\n",
       "    </tr>\n",
       "    <tr>\n",
       "      <th>max</th>\n",
       "      <td>11.680000</td>\n",
       "      <td>3.05</td>\n",
       "      <td>5.270000</td>\n",
       "      <td>14.630000</td>\n",
       "      <td>2.01</td>\n",
       "      <td>7.090000</td>\n",
       "      <td>4.280000</td>\n",
       "      <td>7.390000</td>\n",
       "    </tr>\n",
       "  </tbody>\n",
       "</table>\n",
       "</div>"
      ],
      "text/plain": [
       "platform        3DS    PC       PS3        PS4   Wii      WiiU      X360  \\\n",
       "count     10.000000  1.00  4.000000  40.000000  1.00  4.000000  3.000000   \n",
       "mean       4.722000  3.05  4.152500   4.502000  2.01  4.902500  3.083333   \n",
       "std        3.083093   NaN  1.067376   2.778607   NaN  1.619123  1.123937   \n",
       "min        2.290000  3.05  2.700000   2.010000  2.01  3.210000  2.050000   \n",
       "25%        2.772500  3.05  3.885000   2.472500  2.01  4.132500  2.485000   \n",
       "50%        3.300000  3.05  4.320000   3.915000  2.01  4.655000  2.920000   \n",
       "75%        6.327500  3.05  4.587500   4.887500  2.01  5.425000  3.600000   \n",
       "max       11.680000  3.05  5.270000  14.630000  2.01  7.090000  4.280000   \n",
       "\n",
       "platform       XOne  \n",
       "count     21.000000  \n",
       "mean       3.409524  \n",
       "std        1.329171  \n",
       "min        2.170000  \n",
       "25%        2.420000  \n",
       "50%        3.230000  \n",
       "75%        3.660000  \n",
       "max        7.390000  "
      ]
     },
     "execution_count": 46,
     "metadata": {},
     "output_type": "execute_result"
    }
   ],
   "source": [
    "#посмотрим на распределение суммарных продаж по платформам с учетом ограничения по играм от 2 млн копий\n",
    "data2014[data2014['all_sales'] > 2].groupby(by='platform')['all_sales'].describe().transpose()"
   ]
  },
  {
   "cell_type": "markdown",
   "metadata": {},
   "source": [
    "По данным видно, что медиана суммарных продаж сильно не отличается по платформам, за исключением WiiU и PC3, у них медиана выше, чем у прочих. \\\n",
    "У платформ Wii, X360 и PC смедианы меньше прочих, их не следует рассматривать  в качестве партнеров на следущий год. \\\n",
    "У многих платформ есть звездные игры, число продаж которых сильно выбивается из статистики, самые прибыльные были на платформах PS4, 3DS."
   ]
  },
  {
   "cell_type": "markdown",
   "metadata": {},
   "source": [
    "Посмотрим, как влияют отзывы пользователей и критиков на продажи на примере самой популярной PS4."
   ]
  },
  {
   "cell_type": "code",
   "execution_count": 47,
   "metadata": {},
   "outputs": [],
   "source": [
    "#сделаем срез по платформе PS4\n",
    "ps4 = data2014[data2014['platform'] == 'PS4']"
   ]
  },
  {
   "cell_type": "code",
   "execution_count": 48,
   "metadata": {},
   "outputs": [
    {
     "data": {
      "image/png": "[encoded data removed]",
      "text/plain": [
       "<Figure size 504x720 with 2 Axes>"
      ]
     },
     "metadata": {
      "needs_background": "light"
     },
     "output_type": "display_data"
    }
   ],
   "source": [
    "#посмотрим на диаграмму рассеяния \n",
    "fig, ax = plt.subplots(2, figsize=(7, 10))\n",
    "\n",
    "ax[0].scatter(x = ps4['critic_score'], y = ps4['all_sales'])\n",
    "ax[0].set_xlabel(\"Оценка критиков\")\n",
    "ax[0].set_ylabel(\"Суммарные продажи\")\n",
    "ax[0].set_title('Зависимость продаж от оценки критиков на PS4')\n",
    "\n",
    "ax[1].scatter(x = ps4['user_score'], y = ps4['all_sales'])\n",
    "plt.xlabel(\"Оценка пользователей\")\n",
    "plt.ylabel(\"Суммарные продажи\")\n",
    "plt.title('Зависимость продаж от пользовательской оценки на PS4');"
   ]
  },
  {
   "cell_type": "code",
   "execution_count": 49,
   "metadata": {},
   "outputs": [
    {
     "data": {
      "text/plain": [
       "year_of_release   -0.215242\n",
       "na_sales           0.925291\n",
       "eu_sales           0.955244\n",
       "jp_sales           0.535746\n",
       "other_sales        0.998151\n",
       "critic_score       0.408473\n",
       "user_score        -0.040786\n",
       "all_sales          1.000000\n",
       "Name: all_sales, dtype: float64"
      ]
     },
     "execution_count": 49,
     "metadata": {},
     "output_type": "execute_result"
    }
   ],
   "source": [
    "#посмотрим в цифрах\n",
    "ps4_corr = ps4.corr()\n",
    "ps4_corr['all_sales']"
   ]
  },
  {
   "cell_type": "markdown",
   "metadata": {},
   "source": [
    "В качестве перспективнх платформ мы выбрали еще и XOne, посмотрим, зависят ли продажи от отзывов на этой платформе"
   ]
  },
  {
   "cell_type": "code",
   "execution_count": 50,
   "metadata": {},
   "outputs": [],
   "source": [
    "#сделаем срез по платформе XOne\n",
    "XOne = data2014[data2014['platform'] == 'XOne']"
   ]
  },
  {
   "cell_type": "code",
   "execution_count": 51,
   "metadata": {},
   "outputs": [
    {
     "data": {
      "image/png": "[encoded data removed]",
      "text/plain": [
       "<Figure size 504x720 with 2 Axes>"
      ]
     },
     "metadata": {
      "needs_background": "light"
     },
     "output_type": "display_data"
    }
   ],
   "source": [
    "#посмотрим на диаграмму рассеяния \n",
    "fig, ax = plt.subplots(2, figsize=(7, 10))\n",
    "\n",
    "ax[0].scatter(x = XOne['critic_score'], y = XOne['all_sales'])\n",
    "ax[0].set_xlabel(\"Оценка критиков\")\n",
    "ax[0].set_ylabel(\"Суммарные продажи\")\n",
    "ax[0].set_title('Зависимость продаж от оценки критиков на XOne')\n",
    "\n",
    "ax[1].scatter(x = XOne['user_score'], y = XOne['all_sales'])\n",
    "plt.xlabel(\"Оценка пользователей\")\n",
    "plt.ylabel(\"Суммарные продажи\")\n",
    "plt.title('Зависимость продаж от пользовательской оценки на XOne');"
   ]
  },
  {
   "cell_type": "code",
   "execution_count": 52,
   "metadata": {},
   "outputs": [
    {
     "data": {
      "text/plain": [
       "year_of_release   -0.230977\n",
       "na_sales           0.968704\n",
       "eu_sales           0.891443\n",
       "jp_sales           0.456256\n",
       "other_sales        0.995012\n",
       "critic_score       0.433835\n",
       "user_score        -0.072579\n",
       "all_sales          1.000000\n",
       "Name: all_sales, dtype: float64"
      ]
     },
     "execution_count": 52,
     "metadata": {},
     "output_type": "execute_result"
    }
   ],
   "source": [
    "#посмотрим в цифрах\n",
    "XOne_corr = XOne.corr()\n",
    "XOne_corr['all_sales']"
   ]
  },
  {
   "cell_type": "code",
   "execution_count": 53,
   "metadata": {},
   "outputs": [
    {
     "data": {
      "text/plain": [
       "year_of_release   -0.117032\n",
       "na_sales           0.912443\n",
       "eu_sales           0.913405\n",
       "jp_sales           0.416042\n",
       "other_sales        0.935244\n",
       "critic_score       0.332353\n",
       "user_score        -0.014005\n",
       "all_sales          1.000000\n",
       "Name: all_sales, dtype: float64"
      ]
     },
     "execution_count": 53,
     "metadata": {},
     "output_type": "execute_result"
    }
   ],
   "source": [
    "#останется ли корреляция такой же во всем наборе данных?\n",
    "data2014.corr()['all_sales']"
   ]
  },
  {
   "cell_type": "code",
   "execution_count": 54,
   "metadata": {},
   "outputs": [
    {
     "data": {
      "image/png": "[encoded data removed]",
      "text/plain": [
       "<Figure size 504x720 with 2 Axes>"
      ]
     },
     "metadata": {
      "needs_background": "light"
     },
     "output_type": "display_data"
    }
   ],
   "source": [
    "#посмотрим на диаграмму рассеяния \n",
    "fig, ax = plt.subplots(2, figsize=(7, 10))\n",
    "\n",
    "ax[0].scatter(x = data2014['critic_score'], y = data2014['all_sales'])\n",
    "ax[0].set_xlabel(\"Оценка критиков\")\n",
    "ax[0].set_ylabel(\"Суммарные продажи\")\n",
    "ax[0].set_title('Зависимость продаж от оценки критиков')\n",
    "\n",
    "ax[1].scatter(x = data2014['user_score'], y = data2014['all_sales'])\n",
    "plt.xlabel(\"Оценка пользователей\")\n",
    "plt.ylabel(\"Суммарные продажи\")\n",
    "plt.title('Зависимость продаж от пользовательской оценки');"
   ]
  },
  {
   "cell_type": "markdown",
   "metadata": {},
   "source": [
    "Вывод: пользовательская оценка не влияет на количество продаж. Оценка критиков имеет прямую среднюю связь с суммарными продажами как на выбранных платформах, так и в целом по датасету."
   ]
  },
  {
   "cell_type": "code",
   "execution_count": 55,
   "metadata": {},
   "outputs": [
    {
     "data": {
      "text/html": [
       "<div>\n",
       "<style scoped>\n",
       "    .dataframe tbody tr th:only-of-type {\n",
       "        vertical-align: middle;\n",
       "    }\n",
       "\n",
       "    .dataframe tbody tr th {\n",
       "        vertical-align: top;\n",
       "    }\n",
       "\n",
       "    .dataframe thead tr th {\n",
       "        text-align: left;\n",
       "    }\n",
       "\n",
       "    .dataframe thead tr:last-of-type th {\n",
       "        text-align: right;\n",
       "    }\n",
       "</style>\n",
       "<table border=\"1\" class=\"dataframe\">\n",
       "  <thead>\n",
       "    <tr>\n",
       "      <th></th>\n",
       "      <th colspan=\"4\" halign=\"left\">all_sales</th>\n",
       "    </tr>\n",
       "    <tr>\n",
       "      <th></th>\n",
       "      <th>sum</th>\n",
       "      <th>mean</th>\n",
       "      <th>median</th>\n",
       "      <th>count</th>\n",
       "    </tr>\n",
       "    <tr>\n",
       "      <th>genre</th>\n",
       "      <th></th>\n",
       "      <th></th>\n",
       "      <th></th>\n",
       "      <th></th>\n",
       "    </tr>\n",
       "  </thead>\n",
       "  <tbody>\n",
       "    <tr>\n",
       "      <th>Action</th>\n",
       "      <td>199.52</td>\n",
       "      <td>0.320772</td>\n",
       "      <td>0.090</td>\n",
       "      <td>622</td>\n",
       "    </tr>\n",
       "    <tr>\n",
       "      <th>Shooter</th>\n",
       "      <td>170.94</td>\n",
       "      <td>1.335469</td>\n",
       "      <td>0.515</td>\n",
       "      <td>128</td>\n",
       "    </tr>\n",
       "    <tr>\n",
       "      <th>Sports</th>\n",
       "      <td>117.46</td>\n",
       "      <td>0.707590</td>\n",
       "      <td>0.200</td>\n",
       "      <td>166</td>\n",
       "    </tr>\n",
       "    <tr>\n",
       "      <th>Role-Playing</th>\n",
       "      <td>101.44</td>\n",
       "      <td>0.459005</td>\n",
       "      <td>0.110</td>\n",
       "      <td>221</td>\n",
       "    </tr>\n",
       "    <tr>\n",
       "      <th>Misc</th>\n",
       "      <td>37.55</td>\n",
       "      <td>0.332301</td>\n",
       "      <td>0.090</td>\n",
       "      <td>113</td>\n",
       "    </tr>\n",
       "    <tr>\n",
       "      <th>Fighting</th>\n",
       "      <td>28.22</td>\n",
       "      <td>0.470333</td>\n",
       "      <td>0.125</td>\n",
       "      <td>60</td>\n",
       "    </tr>\n",
       "    <tr>\n",
       "      <th>Racing</th>\n",
       "      <td>27.52</td>\n",
       "      <td>0.398841</td>\n",
       "      <td>0.090</td>\n",
       "      <td>69</td>\n",
       "    </tr>\n",
       "    <tr>\n",
       "      <th>Platform</th>\n",
       "      <td>18.09</td>\n",
       "      <td>0.476053</td>\n",
       "      <td>0.140</td>\n",
       "      <td>38</td>\n",
       "    </tr>\n",
       "    <tr>\n",
       "      <th>Adventure</th>\n",
       "      <td>17.55</td>\n",
       "      <td>0.094865</td>\n",
       "      <td>0.030</td>\n",
       "      <td>185</td>\n",
       "    </tr>\n",
       "    <tr>\n",
       "      <th>Simulation</th>\n",
       "      <td>13.13</td>\n",
       "      <td>0.298409</td>\n",
       "      <td>0.100</td>\n",
       "      <td>44</td>\n",
       "    </tr>\n",
       "    <tr>\n",
       "      <th>Strategy</th>\n",
       "      <td>3.96</td>\n",
       "      <td>0.107027</td>\n",
       "      <td>0.060</td>\n",
       "      <td>37</td>\n",
       "    </tr>\n",
       "    <tr>\n",
       "      <th>Puzzle</th>\n",
       "      <td>2.21</td>\n",
       "      <td>0.157857</td>\n",
       "      <td>0.045</td>\n",
       "      <td>14</td>\n",
       "    </tr>\n",
       "  </tbody>\n",
       "</table>\n",
       "</div>"
      ],
      "text/plain": [
       "             all_sales                       \n",
       "                   sum      mean median count\n",
       "genre                                        \n",
       "Action          199.52  0.320772  0.090   622\n",
       "Shooter         170.94  1.335469  0.515   128\n",
       "Sports          117.46  0.707590  0.200   166\n",
       "Role-Playing    101.44  0.459005  0.110   221\n",
       "Misc             37.55  0.332301  0.090   113\n",
       "Fighting         28.22  0.470333  0.125    60\n",
       "Racing           27.52  0.398841  0.090    69\n",
       "Platform         18.09  0.476053  0.140    38\n",
       "Adventure        17.55  0.094865  0.030   185\n",
       "Simulation       13.13  0.298409  0.100    44\n",
       "Strategy          3.96  0.107027  0.060    37\n",
       "Puzzle            2.21  0.157857  0.045    14"
      ]
     },
     "execution_count": 55,
     "metadata": {},
     "output_type": "execute_result"
    }
   ],
   "source": [
    "#посмотрим на продажи по жанрам игр\n",
    "data2014_group = data2014.groupby(by='genre').agg({\"all_sales\": ['sum','mean', 'median', 'count']}).\\\n",
    "    sort_values(('all_sales',  'sum'), ascending=False)\n",
    "data2014_group"
   ]
  },
  {
   "cell_type": "code",
   "execution_count": 56,
   "metadata": {},
   "outputs": [
    {
     "data": {
      "image/png": "[encoded data removed]",
      "text/plain": [
       "<Figure size 432x288 with 1 Axes>"
      ]
     },
     "metadata": {
      "needs_background": "light"
     },
     "output_type": "display_data"
    },
    {
     "data": {
      "image/png": "[encoded data removed]",
      "text/plain": [
       "<Figure size 432x288 with 1 Axes>"
      ]
     },
     "metadata": {
      "needs_background": "light"
     },
     "output_type": "display_data"
    },
    {
     "data": {
      "image/png": "[encoded data removed]",
      "text/plain": [
       "<Figure size 432x288 with 1 Axes>"
      ]
     },
     "metadata": {
      "needs_background": "light"
     },
     "output_type": "display_data"
    },
    {
     "data": {
      "image/png": "[encoded data removed]",
      "text/plain": [
       "<Figure size 432x288 with 1 Axes>"
      ]
     },
     "metadata": {
      "needs_background": "light"
     },
     "output_type": "display_data"
    }
   ],
   "source": [
    "data2014_group[('all_sales',  'sum')].plot(\n",
    "    kind='bar',\n",
    "    title='Суммарные продажи игр по жанрам 2014-2016',\n",
    "    xlabel='Жанр',\n",
    "    ylabel='Суммарные продажи, млн.копий',\n",
    "    color='lightseagreen',\n",
    "    grid=True\n",
    ");\n",
    "\n",
    "plt.show()\n",
    "\n",
    "data2014_group[('all_sales',  'mean')].sort_values(ascending=False).plot(\n",
    "    kind='bar',\n",
    "    title='Средние продажи игр по жанрам 2014-2016',\n",
    "    xlabel='Жанр',\n",
    "    ylabel='Средние продажи, млн.копий',\n",
    "    color='c',\n",
    "    grid=True);\n",
    "\n",
    "plt.show()\n",
    "\n",
    "data2014_group[('all_sales',  'median')].sort_values(ascending=False).plot(\n",
    "    kind='bar',\n",
    "    title='Медиана продаж игр по жанрам 2014-2016',\n",
    "    xlabel='Жанр',\n",
    "    ylabel='Медиана продаж, млн.копий',\n",
    "    color='darkcyan',\n",
    "    grid=True);\n",
    "\n",
    "plt.show()\n",
    "\n",
    "data2014_group[('all_sales',  'count')].sort_values(ascending=False).plot(\n",
    "    kind='bar',\n",
    "    title='Количество продаж игр по жанрам 2014-2016',\n",
    "    xlabel='Жанр',\n",
    "    ylabel='Количество продаж, млн.копий',\n",
    "    color='darkturquoise',\n",
    "    grid=True);\n",
    "\n",
    "plt.show()"
   ]
  },
  {
   "cell_type": "markdown",
   "metadata": {},
   "source": [
    "Самые популярные жанры игр по суммарным продажам:\n",
    "1. Action - экшен, боевик;\n",
    "2. Shooter - шутер, стрелялки;\n",
    "3. Sports - спортивные игры;\n",
    "4. Role-Playing - RPG, ролевая игра.\n",
    "\n",
    "Самые непопулярные жанры:\n",
    "1. Puzzle - головоломки;\n",
    "2. Strategy - стратегия;\n",
    "3. Simulation - симуляторы.\n",
    "\n",
    "Больше всего продаются экшены, дороже - шутеры. \n",
    "\n",
    "\n",
    "*Грустно, но факт - игры, требующие включения мозгов, становятся менее популярными, чем игры, направленные на убить/победить.*"
   ]
  },
  {
   "cell_type": "markdown",
   "metadata": {},
   "source": [
    "Выводы: \n",
    "1. Рост количества выпускаемых игр наблюдается с 1995 г, в 2010-2011 гг. достигая своего максимума, затем идет на спад;\n",
    "2. Средний срок жизни игровой платформы - 7,7 лет;\n",
    "3. Актуальный период для анализа определен как последние 5 лет: 2012-2016 гг.;\n",
    "4. Потенциально прибыльные платформы за этот период:\n",
    "* PS4;\n",
    "* XOne.\n",
    "\n",
    "Эти платформы имеют положительную динамику в продажах (2012-2015, т.к. данные за 2016 неполные), суммарно за 5 лет продали более 50 млн копий.\n",
    "\n",
    "5. Высокая оценка критиков средне, но положительно влияет на общие продажи;\n",
    "6. Самые популярные жанры игр по суммарным продажам:\n",
    "* Action - экшен, боевик;\n",
    "* Shooter - шутер, стрелялки;\n",
    "* Sports - спортивные игры;\n",
    "* Role-Playing - RPG, ролевая игра.\n",
    "\n",
    "7. Больше всего продаются экшены, но дороже - шутеры. "
   ]
  },
  {
   "cell_type": "markdown",
   "metadata": {},
   "source": [
    "## Портрет пользователя по регионам"
   ]
  },
  {
   "cell_type": "code",
   "execution_count": 57,
   "metadata": {},
   "outputs": [
    {
     "data": {
      "text/html": [
       "<div>\n",
       "<style scoped>\n",
       "    .dataframe tbody tr th:only-of-type {\n",
       "        vertical-align: middle;\n",
       "    }\n",
       "\n",
       "    .dataframe tbody tr th {\n",
       "        vertical-align: top;\n",
       "    }\n",
       "\n",
       "    .dataframe thead th {\n",
       "        text-align: right;\n",
       "    }\n",
       "</style>\n",
       "<table border=\"1\" class=\"dataframe\">\n",
       "  <thead>\n",
       "    <tr style=\"text-align: right;\">\n",
       "      <th></th>\n",
       "      <th>na_sales</th>\n",
       "      <th>eu_sales</th>\n",
       "      <th>jp_sales</th>\n",
       "      <th>all_sales</th>\n",
       "    </tr>\n",
       "    <tr>\n",
       "      <th>platform</th>\n",
       "      <th></th>\n",
       "      <th></th>\n",
       "      <th></th>\n",
       "      <th></th>\n",
       "    </tr>\n",
       "  </thead>\n",
       "  <tbody>\n",
       "    <tr>\n",
       "      <th>PS4</th>\n",
       "      <td>101.14</td>\n",
       "      <td>130.75</td>\n",
       "      <td>15.05</td>\n",
       "      <td>292.13</td>\n",
       "    </tr>\n",
       "    <tr>\n",
       "      <th>XOne</th>\n",
       "      <td>83.22</td>\n",
       "      <td>46.40</td>\n",
       "      <td>0.32</td>\n",
       "      <td>142.70</td>\n",
       "    </tr>\n",
       "    <tr>\n",
       "      <th>3DS</th>\n",
       "      <td>22.64</td>\n",
       "      <td>16.12</td>\n",
       "      <td>44.24</td>\n",
       "      <td>86.68</td>\n",
       "    </tr>\n",
       "    <tr>\n",
       "      <th>PS3</th>\n",
       "      <td>22.50</td>\n",
       "      <td>25.66</td>\n",
       "      <td>11.25</td>\n",
       "      <td>68.91</td>\n",
       "    </tr>\n",
       "    <tr>\n",
       "      <th>X360</th>\n",
       "      <td>29.09</td>\n",
       "      <td>15.54</td>\n",
       "      <td>0.08</td>\n",
       "      <td>49.16</td>\n",
       "    </tr>\n",
       "    <tr>\n",
       "      <th>WiiU</th>\n",
       "      <td>19.39</td>\n",
       "      <td>13.17</td>\n",
       "      <td>7.31</td>\n",
       "      <td>43.03</td>\n",
       "    </tr>\n",
       "    <tr>\n",
       "      <th>PC</th>\n",
       "      <td>7.26</td>\n",
       "      <td>18.03</td>\n",
       "      <td>0.00</td>\n",
       "      <td>27.15</td>\n",
       "    </tr>\n",
       "    <tr>\n",
       "      <th>PSV</th>\n",
       "      <td>2.52</td>\n",
       "      <td>3.53</td>\n",
       "      <td>14.54</td>\n",
       "      <td>22.40</td>\n",
       "    </tr>\n",
       "    <tr>\n",
       "      <th>Wii</th>\n",
       "      <td>2.08</td>\n",
       "      <td>2.59</td>\n",
       "      <td>0.00</td>\n",
       "      <td>5.07</td>\n",
       "    </tr>\n",
       "    <tr>\n",
       "      <th>PSP</th>\n",
       "      <td>0.00</td>\n",
       "      <td>0.00</td>\n",
       "      <td>0.36</td>\n",
       "      <td>0.36</td>\n",
       "    </tr>\n",
       "  </tbody>\n",
       "</table>\n",
       "</div>"
      ],
      "text/plain": [
       "          na_sales  eu_sales  jp_sales  all_sales\n",
       "platform                                         \n",
       "PS4         101.14    130.75     15.05     292.13\n",
       "XOne         83.22     46.40      0.32     142.70\n",
       "3DS          22.64     16.12     44.24      86.68\n",
       "PS3          22.50     25.66     11.25      68.91\n",
       "X360         29.09     15.54      0.08      49.16\n",
       "WiiU         19.39     13.17      7.31      43.03\n",
       "PC            7.26     18.03      0.00      27.15\n",
       "PSV           2.52      3.53     14.54      22.40\n",
       "Wii           2.08      2.59      0.00       5.07\n",
       "PSP           0.00      0.00      0.36       0.36"
      ]
     },
     "execution_count": 57,
     "metadata": {},
     "output_type": "execute_result"
    }
   ],
   "source": [
    "#посмотрим на распределение продаж по платформам и регионам\n",
    "portrait_platform = data2014.groupby(by='platform')['na_sales', 'eu_sales', 'jp_sales', 'all_sales'].\\\n",
    "    sum().sort_values('all_sales', ascending=False)\n",
    "portrait_platform"
   ]
  },
  {
   "cell_type": "code",
   "execution_count": 58,
   "metadata": {},
   "outputs": [
    {
     "data": {
      "image/png": "[encoded data removed]",
      "text/plain": [
       "<Figure size 360x216 with 1 Axes>"
      ]
     },
     "metadata": {
      "needs_background": "light"
     },
     "output_type": "display_data"
    },
    {
     "data": {
      "image/png": "[encoded data removed]",
      "text/plain": [
       "<Figure size 360x216 with 1 Axes>"
      ]
     },
     "metadata": {
      "needs_background": "light"
     },
     "output_type": "display_data"
    },
    {
     "data": {
      "image/png": "[encoded data removed]",
      "text/plain": [
       "<Figure size 360x216 with 1 Axes>"
      ]
     },
     "metadata": {
      "needs_background": "light"
     },
     "output_type": "display_data"
    }
   ],
   "source": [
    "#перенесем на графики\n",
    "portrait_platform['na_sales'].sort_values(ascending=False).plot(\n",
    "    kind='bar', \n",
    "    figsize=(5, 3), \n",
    "    title='Продажи на игровых платформах в Северной Америке', \n",
    "    ylabel='Продали, млн копий', \n",
    "    xlabel='Платформа',\n",
    "    color='royalblue');\n",
    "plt.show()\n",
    "\n",
    "portrait_platform['eu_sales'].sort_values(ascending=False).plot(\n",
    "    kind='bar', \n",
    "    figsize=(5, 3), \n",
    "    title='Продажи на игровых платформах в Европе', \n",
    "    ylabel='Продали, млн копий', \n",
    "    xlabel='Платформа',\n",
    "    color='dodgerblue');\n",
    "plt.show()\n",
    "\n",
    "portrait_platform['jp_sales'].sort_values(ascending=False).plot(\n",
    "    kind='bar', \n",
    "    figsize=(5, 3), \n",
    "    title='Продажи на игровых платформах в Японии', \n",
    "    ylabel='Продали, млн копий', \n",
    "    xlabel='Платформа',\n",
    "    color='steelblue');\n",
    "plt.show()"
   ]
  },
  {
   "cell_type": "code",
   "execution_count": 59,
   "metadata": {},
   "outputs": [
    {
     "data": {
      "text/html": [
       "<div>\n",
       "<style scoped>\n",
       "    .dataframe tbody tr th:only-of-type {\n",
       "        vertical-align: middle;\n",
       "    }\n",
       "\n",
       "    .dataframe tbody tr th {\n",
       "        vertical-align: top;\n",
       "    }\n",
       "\n",
       "    .dataframe thead th {\n",
       "        text-align: right;\n",
       "    }\n",
       "</style>\n",
       "<table border=\"1\" class=\"dataframe\">\n",
       "  <thead>\n",
       "    <tr style=\"text-align: right;\">\n",
       "      <th></th>\n",
       "      <th>na_sales</th>\n",
       "      <th>eu_sales</th>\n",
       "      <th>jp_sales</th>\n",
       "      <th>all_sales</th>\n",
       "    </tr>\n",
       "    <tr>\n",
       "      <th>genre</th>\n",
       "      <th></th>\n",
       "      <th></th>\n",
       "      <th></th>\n",
       "      <th></th>\n",
       "    </tr>\n",
       "  </thead>\n",
       "  <tbody>\n",
       "    <tr>\n",
       "      <th>Action</th>\n",
       "      <td>72.60</td>\n",
       "      <td>74.75</td>\n",
       "      <td>29.58</td>\n",
       "      <td>199.52</td>\n",
       "    </tr>\n",
       "    <tr>\n",
       "      <th>Shooter</th>\n",
       "      <td>79.02</td>\n",
       "      <td>65.52</td>\n",
       "      <td>4.87</td>\n",
       "      <td>170.94</td>\n",
       "    </tr>\n",
       "    <tr>\n",
       "      <th>Sports</th>\n",
       "      <td>51.84</td>\n",
       "      <td>46.77</td>\n",
       "      <td>3.32</td>\n",
       "      <td>117.46</td>\n",
       "    </tr>\n",
       "    <tr>\n",
       "      <th>Role-Playing</th>\n",
       "      <td>33.47</td>\n",
       "      <td>28.17</td>\n",
       "      <td>31.16</td>\n",
       "      <td>101.44</td>\n",
       "    </tr>\n",
       "    <tr>\n",
       "      <th>Misc</th>\n",
       "      <td>15.05</td>\n",
       "      <td>12.86</td>\n",
       "      <td>5.61</td>\n",
       "      <td>37.55</td>\n",
       "    </tr>\n",
       "    <tr>\n",
       "      <th>Fighting</th>\n",
       "      <td>12.43</td>\n",
       "      <td>6.69</td>\n",
       "      <td>6.37</td>\n",
       "      <td>28.22</td>\n",
       "    </tr>\n",
       "    <tr>\n",
       "      <th>Racing</th>\n",
       "      <td>8.74</td>\n",
       "      <td>14.13</td>\n",
       "      <td>1.76</td>\n",
       "      <td>27.52</td>\n",
       "    </tr>\n",
       "    <tr>\n",
       "      <th>Platform</th>\n",
       "      <td>6.79</td>\n",
       "      <td>6.80</td>\n",
       "      <td>2.69</td>\n",
       "      <td>18.09</td>\n",
       "    </tr>\n",
       "    <tr>\n",
       "      <th>Adventure</th>\n",
       "      <td>5.64</td>\n",
       "      <td>6.49</td>\n",
       "      <td>3.60</td>\n",
       "      <td>17.55</td>\n",
       "    </tr>\n",
       "    <tr>\n",
       "      <th>Simulation</th>\n",
       "      <td>2.63</td>\n",
       "      <td>7.30</td>\n",
       "      <td>2.31</td>\n",
       "      <td>13.13</td>\n",
       "    </tr>\n",
       "    <tr>\n",
       "      <th>Strategy</th>\n",
       "      <td>0.98</td>\n",
       "      <td>1.79</td>\n",
       "      <td>0.95</td>\n",
       "      <td>3.96</td>\n",
       "    </tr>\n",
       "    <tr>\n",
       "      <th>Puzzle</th>\n",
       "      <td>0.65</td>\n",
       "      <td>0.52</td>\n",
       "      <td>0.93</td>\n",
       "      <td>2.21</td>\n",
       "    </tr>\n",
       "  </tbody>\n",
       "</table>\n",
       "</div>"
      ],
      "text/plain": [
       "              na_sales  eu_sales  jp_sales  all_sales\n",
       "genre                                                \n",
       "Action           72.60     74.75     29.58     199.52\n",
       "Shooter          79.02     65.52      4.87     170.94\n",
       "Sports           51.84     46.77      3.32     117.46\n",
       "Role-Playing     33.47     28.17     31.16     101.44\n",
       "Misc             15.05     12.86      5.61      37.55\n",
       "Fighting         12.43      6.69      6.37      28.22\n",
       "Racing            8.74     14.13      1.76      27.52\n",
       "Platform          6.79      6.80      2.69      18.09\n",
       "Adventure         5.64      6.49      3.60      17.55\n",
       "Simulation        2.63      7.30      2.31      13.13\n",
       "Strategy          0.98      1.79      0.95       3.96\n",
       "Puzzle            0.65      0.52      0.93       2.21"
      ]
     },
     "execution_count": 59,
     "metadata": {},
     "output_type": "execute_result"
    }
   ],
   "source": [
    "#посмотрим на распределение продаж по жанрам и регионам\n",
    "portrait_genre = data2014.groupby(by='genre')['na_sales', 'eu_sales', 'jp_sales', 'all_sales'].\\\n",
    "    sum().sort_values('all_sales', ascending=False)\n",
    "portrait_genre"
   ]
  },
  {
   "cell_type": "code",
   "execution_count": 60,
   "metadata": {},
   "outputs": [
    {
     "data": {
      "image/png": "[encoded data removed]",
      "text/plain": [
       "<Figure size 360x216 with 1 Axes>"
      ]
     },
     "metadata": {
      "needs_background": "light"
     },
     "output_type": "display_data"
    },
    {
     "data": {
      "image/png": "[encoded data removed]",
      "text/plain": [
       "<Figure size 360x216 with 1 Axes>"
      ]
     },
     "metadata": {
      "needs_background": "light"
     },
     "output_type": "display_data"
    },
    {
     "data": {
      "image/png": "[encoded data removed]",
      "text/plain": [
       "<Figure size 360x216 with 1 Axes>"
      ]
     },
     "metadata": {
      "needs_background": "light"
     },
     "output_type": "display_data"
    }
   ],
   "source": [
    "#перенесем на графики\n",
    "portrait_genre['na_sales'].sort_values(ascending=False).plot(\n",
    "    kind='bar', \n",
    "    figsize=(5, 3), \n",
    "    title='Продажи по игровым жанрам в Северной Америке', \n",
    "    ylabel='Продали, млн копий', \n",
    "    xlabel='Жанр',\n",
    "    color='royalblue');\n",
    "plt.show()\n",
    "\n",
    "portrait_genre['eu_sales'].sort_values(ascending=False).plot(\n",
    "    kind='bar', \n",
    "    figsize=(5, 3), \n",
    "    title='Продажи по игровым жанрам в Европе', \n",
    "    ylabel='Продали, млн копий', \n",
    "    xlabel='Жанр',\n",
    "    color='dodgerblue');\n",
    "plt.show()\n",
    "\n",
    "portrait_genre['jp_sales'].sort_values(ascending=False).plot(\n",
    "    kind='bar', \n",
    "    figsize=(5, 3), \n",
    "    title='Продажи по игровым жанрам в Японии', \n",
    "    ylabel='Продали, млн копий', \n",
    "    xlabel='Жанр',\n",
    "    color='steelblue');\n",
    "plt.show()"
   ]
  },
  {
   "cell_type": "code",
   "execution_count": 61,
   "metadata": {},
   "outputs": [
    {
     "data": {
      "text/html": [
       "<div>\n",
       "<style scoped>\n",
       "    .dataframe tbody tr th:only-of-type {\n",
       "        vertical-align: middle;\n",
       "    }\n",
       "\n",
       "    .dataframe tbody tr th {\n",
       "        vertical-align: top;\n",
       "    }\n",
       "\n",
       "    .dataframe thead th {\n",
       "        text-align: right;\n",
       "    }\n",
       "</style>\n",
       "<table border=\"1\" class=\"dataframe\">\n",
       "  <thead>\n",
       "    <tr style=\"text-align: right;\">\n",
       "      <th></th>\n",
       "      <th>na_sales</th>\n",
       "      <th>eu_sales</th>\n",
       "      <th>jp_sales</th>\n",
       "      <th>all_sales</th>\n",
       "    </tr>\n",
       "    <tr>\n",
       "      <th>rating</th>\n",
       "      <th></th>\n",
       "      <th></th>\n",
       "      <th></th>\n",
       "      <th></th>\n",
       "    </tr>\n",
       "  </thead>\n",
       "  <tbody>\n",
       "    <tr>\n",
       "      <th>M</th>\n",
       "      <td>103.44</td>\n",
       "      <td>100.99</td>\n",
       "      <td>8.55</td>\n",
       "      <td>244.17</td>\n",
       "    </tr>\n",
       "    <tr>\n",
       "      <th>E</th>\n",
       "      <td>52.05</td>\n",
       "      <td>58.49</td>\n",
       "      <td>9.01</td>\n",
       "      <td>135.20</td>\n",
       "    </tr>\n",
       "    <tr>\n",
       "      <th>T</th>\n",
       "      <td>40.30</td>\n",
       "      <td>35.35</td>\n",
       "      <td>16.28</td>\n",
       "      <td>103.70</td>\n",
       "    </tr>\n",
       "    <tr>\n",
       "      <th>E10+</th>\n",
       "      <td>39.08</td>\n",
       "      <td>28.43</td>\n",
       "      <td>4.80</td>\n",
       "      <td>81.49</td>\n",
       "    </tr>\n",
       "  </tbody>\n",
       "</table>\n",
       "</div>"
      ],
      "text/plain": [
       "        na_sales  eu_sales  jp_sales  all_sales\n",
       "rating                                         \n",
       "M         103.44    100.99      8.55     244.17\n",
       "E          52.05     58.49      9.01     135.20\n",
       "T          40.30     35.35     16.28     103.70\n",
       "E10+       39.08     28.43      4.80      81.49"
      ]
     },
     "execution_count": 61,
     "metadata": {},
     "output_type": "execute_result"
    }
   ],
   "source": [
    "#посмотрим на распределение продаж по рейтингу ESRB и регионам\n",
    "portrait_rating = data2014.groupby(by='rating')['na_sales', 'eu_sales', 'jp_sales', 'all_sales'].\\\n",
    "    sum().sort_values('all_sales', ascending=False)\n",
    "portrait_rating"
   ]
  },
  {
   "cell_type": "code",
   "execution_count": 62,
   "metadata": {},
   "outputs": [
    {
     "data": {
      "image/png": "[encoded data removed]",
      "text/plain": [
       "<Figure size 360x216 with 1 Axes>"
      ]
     },
     "metadata": {
      "needs_background": "light"
     },
     "output_type": "display_data"
    },
    {
     "data": {
      "image/png": "[encoded data removed]",
      "text/plain": [
       "<Figure size 360x216 with 1 Axes>"
      ]
     },
     "metadata": {
      "needs_background": "light"
     },
     "output_type": "display_data"
    },
    {
     "data": {
      "image/png": "[encoded data removed]",
      "text/plain": [
       "<Figure size 360x216 with 1 Axes>"
      ]
     },
     "metadata": {
      "needs_background": "light"
     },
     "output_type": "display_data"
    }
   ],
   "source": [
    "#перенесем на графики\n",
    "portrait_rating['na_sales'].sort_values(ascending=False).plot(\n",
    "    kind='bar', \n",
    "    figsize=(5, 3), \n",
    "    title='Продажи по оценке ESRB в Северной Америке', \n",
    "    ylabel='Продали, млн копий', \n",
    "    xlabel='Рейтинг ESRB',\n",
    "    color='royalblue');\n",
    "plt.show()\n",
    "\n",
    "portrait_rating['eu_sales'].sort_values(ascending=False).plot(\n",
    "    kind='bar', \n",
    "    figsize=(5, 3), \n",
    "    title='Продажи по оценке ESRB в Европе', \n",
    "    ylabel='Продали, млн копий', \n",
    "    xlabel='Рейтинг ESRB',\n",
    "    color='dodgerblue');\n",
    "plt.show()\n",
    "\n",
    "portrait_rating['jp_sales'].sort_values(ascending=False).plot(\n",
    "    kind='bar', \n",
    "    figsize=(5, 3), \n",
    "    title='Продажи по оценке ESRB в Японии', \n",
    "    ylabel='Продали, млн копий', \n",
    "    xlabel='Рейтинг ESRB',\n",
    "    color='steelblue');\n",
    "plt.show()"
   ]
  },
  {
   "cell_type": "markdown",
   "metadata": {},
   "source": [
    "<b>Выводы:\n",
    "\n",
    "\n",
    "Потрет игрока в Северной Америке:</b>\n",
    "1. ТОП-5 популярных платформ:\n",
    "* PS4\n",
    "* XOne\n",
    "* X360\n",
    "* 3DS\n",
    "* PS3\n",
    "\n",
    "2. ТОП-5 популярных жанров: \n",
    "* Shooter\n",
    "* Action\n",
    "* Sports\n",
    "* Role-Playing\n",
    "* Misc\n",
    "3. Самые популярные игры с рейтингом M - 17+.\n",
    "\n",
    "\n",
    "<b>Потрет игрока в Европе: </b>\n",
    "1. ТОП-5 популярных платформ:\n",
    "* PS4\n",
    "* XOne\n",
    "* PS3\n",
    "* PC\n",
    "* 3DS\n",
    "\n",
    "2. ТОП-5 популярных жанров: \n",
    "* Action\n",
    "* Shooter\n",
    "* Sports\n",
    "* Role-Playing\n",
    "* Racing           \n",
    "3. Самые популярные игры с рейтингом M - 17+.\n",
    "\n",
    "<b>Потрет игрока в Яплнии:</b>\n",
    "1. ТОП-5 популярных платформ:\n",
    "* 3DS\n",
    "* PS4\n",
    "* PSV\n",
    "* PS3\n",
    "* WiiU\n",
    "\n",
    "2. ТОП-5 популярных жанров: \n",
    "* Role-Playing\n",
    "* Action\n",
    "* Fighting\n",
    "* Misc\n",
    "* Shooter\n",
    "3. Самые популярные игры с рейтингом T - 13+.\n",
    "\n",
    "Подводя итог, можно сказать, что пользователи в Северной Америке и Европе имеют очень похжие игровые предпочтения, имеющие незначительные различия по жанрам: например, в ТОП-5 рейтинга европейцев входят гонки, в отличие от американцев.\n",
    "\n",
    "Портрет же японского игрока сильно отличается от предыдущих двух регионов. предположительно, влияет менталитет и японские аниме - игры они предпочитают в мультяшном стиле (больше всего продаж игр с рейтингом 13+), в их ТОП-5 входят драки, а платформы, которые не находят популярности в Америке и Европе, у них в ТОП-5 (PSV, WiiU)."
   ]
  },
  {
   "cell_type": "markdown",
   "metadata": {},
   "source": [
    "## Проверка гипотез"
   ]
  },
  {
   "cell_type": "markdown",
   "metadata": {},
   "source": [
    "<b>Гипотеза:</b> средние пользовательские рейтинги платформ Xbox One и PC одинаковые.\n",
    "Для ее проверки определим нулевую и альтернативную гипотезы. \n",
    "\n",
    "Нулевая гипотеза: средний пользовательский рейтинг платформ Xbox One равен среднему пользовательскому рейтингу PC.\n",
    "Альтернативная гипотеза: средний пользовательский рейтинг платформ Xbox One равен среднему пользовательскому рейтингу PC."
   ]
  },
  {
   "cell_type": "code",
   "execution_count": 63,
   "metadata": {
    "scrolled": true
   },
   "outputs": [
    {
     "name": "stdout",
     "output_type": "stream",
     "text": [
      "Средний пользовательский рейтинг платформы PS4 -  6.83\n",
      "Средний пользовательский рейтинг платформы Xbox One -  6.59\n"
     ]
    }
   ],
   "source": [
    "#найдем среднюю оценку пользователей на нужных платформах\n",
    "print('Средний пользовательский рейтинг платформы PS4 - ', \n",
    "      round(data2014.loc[data2014['platform'] == 'PS4']['user_score'].mean(), 2))\n",
    "print('Средний пользовательский рейтинг платформы Xbox One - ', \n",
    "      round(data2014.loc[data2014['platform'] == 'XOne']['user_score'].mean(), 2))"
   ]
  },
  {
   "cell_type": "code",
   "execution_count": 64,
   "metadata": {},
   "outputs": [
    {
     "data": {
      "image/png": "[encoded data removed]",
      "text/plain": [
       "<Figure size 432x288 with 1 Axes>"
      ]
     },
     "metadata": {
      "needs_background": "light"
     },
     "output_type": "display_data"
    }
   ],
   "source": [
    "#посмотрим распределение пользовательских оценок на графике\n",
    "ax = data2014.loc[data2014['platform'] == 'PS4'].plot(\n",
    "    kind='hist',\n",
    "    y='user_score',\n",
    "    histtype='step',\n",
    "    bins=20,\n",
    "    linewidth=5,\n",
    "    alpha=0.7,\n",
    "    label='PS4',\n",
    ")\n",
    "data2014.loc[data2014['platform'] == 'XOne'].plot(\n",
    "    kind='hist',\n",
    "    y='user_score',\n",
    "    histtype='step',\n",
    "    bins=20,\n",
    "    linewidth=5,\n",
    "    alpha=0.7,\n",
    "    label='XOne',\n",
    "    ax=ax,\n",
    "    grid=True,\n",
    "    legend=True,\n",
    ")\n",
    "plt.ylabel('Количество оценок')\n",
    "plt.xlabel('Оценка пользователей')\n",
    "plt.title('Оценка пользователей на платформах PS4 и XOne');"
   ]
  },
  {
   "cell_type": "markdown",
   "metadata": {},
   "source": [
    "Для проверк гипотез будем использовать метод st.ttest_ind, т.к. сравниваем две независимые между собой выборки - оценки пользователей на разных платформах не зависят друг от друга"
   ]
  },
  {
   "cell_type": "code",
   "execution_count": 65,
   "metadata": {
    "scrolled": true
   },
   "outputs": [
    {
     "name": "stdout",
     "output_type": "stream",
     "text": [
      "p-значение: 0.04541224227169167\n",
      "Не получилось отвергнуть нулевую гипотезу\n"
     ]
    }
   ],
   "source": [
    "#уровень статистической значимости возьмем за 1%\n",
    "alpha = 0.01 \n",
    "\n",
    "results = st.ttest_ind(data2014.loc[(data2014['platform'] == 'PS4') & (data2014['user_score'].notna())]['user_score'], \n",
    "                       data2014.loc[(data2014['platform'] == 'XOne') & (data2014['user_score'].notna())]['user_score'],\n",
    "                       alternative = 'greater')\n",
    "\n",
    "print('p-значение:', results.pvalue)\n",
    "\n",
    "if results.pvalue < alpha:\n",
    "    print('Отвергаем нулевую гипотезу')\n",
    "else:\n",
    "    print('Не получилось отвергнуть нулевую гипотезу') "
   ]
  },
  {
   "cell_type": "markdown",
   "metadata": {},
   "source": [
    "Попробуем провести такой же тест, но только для 2016 года - с течением времени средние оценки становятся ближе друг к другу или нет? "
   ]
  },
  {
   "cell_type": "code",
   "execution_count": 66,
   "metadata": {},
   "outputs": [
    {
     "name": "stdout",
     "output_type": "stream",
     "text": [
      "p-значение: 0.12120077684968168\n",
      "Не получилось отвергнуть нулевую гипотезу\n"
     ]
    }
   ],
   "source": [
    "#уровень статистической значимости возьмем за 1%\n",
    "alpha = 0.01 \n",
    "\n",
    "results = st.ttest_ind(data2014.loc[(data2014['platform'] == 'PS4') & (data2014['user_score'].notna()) & (data2014['year_of_release'] == 2016)]['user_score'], \n",
    "                       data2014.loc[(data2014['platform'] == 'XOne') & (data2014['user_score'].notna()) & (data2014['year_of_release'] == 2016)]['user_score'],\n",
    "                       alternative = 'greater')\n",
    "\n",
    "print('p-значение:', results.pvalue)\n",
    "\n",
    "if results.pvalue < alpha:\n",
    "    print('Отвергаем нулевую гипотезу')\n",
    "else:\n",
    "    print('Не получилось отвергнуть нулевую гипотезу') "
   ]
  },
  {
   "cell_type": "markdown",
   "metadata": {},
   "source": [
    "Вывод: при уровне статистической значимости, равному 1%, можно сделать вывод, что средние пользоательские рейтинги на платформах PS4 и XOne равны.\n",
    "\n",
    "Вывод №2 = в последнее время (2016 год) среднее значение рейтинга на платформе PS4 еще ближе к средней пользовательской оценки платформы XOne. Даже увеличив уровень статистической значимости до 5%, отвергнуть гипотезу не сможем, а значит, можем сделать вывод, что средние рейтинги пользователей равны. "
   ]
  },
  {
   "cell_type": "markdown",
   "metadata": {},
   "source": [
    "<b>Гипотеза:</b> средние пользовательские рейтинги жанров Action и Sports разные.\n",
    "\n",
    "Нулевая гипотеза: средний пользовательский рейтинг жанра Action равен среднему пользовательскому рейтингу жанра Sports.\n",
    "Альтернативная гипотеза: средний пользовательский рейтинг жанра Action не равен среднему пользовательскому рейтингу жанра Sports.\n",
    "\n",
    "Нулевая гипотеза сформулирвоана таким образом, чтобы выявить, насколько велико отклонение среднего между жанрами и при его наличии отвергнуть ее в пользу альтернативной, которую и хотим проверить."
   ]
  },
  {
   "cell_type": "code",
   "execution_count": 67,
   "metadata": {},
   "outputs": [
    {
     "name": "stdout",
     "output_type": "stream",
     "text": [
      "Средний пользовательский рейтинг Action -  6.76\n",
      "Средний пользовательский рейтинг Sports -  5.23\n"
     ]
    }
   ],
   "source": [
    "#найдем среднюю оценку пользователей в выбранных жанрах\n",
    "print('Средний пользовательский рейтинг Action - ', \n",
    "      round(data2014.loc[data2014['genre'] == 'Action']['user_score'].mean(), 2))\n",
    "print('Средний пользовательский рейтинг Sports - ', \n",
    "      round(data2014.loc[data2014['genre'] == 'Sports']['user_score'].mean(), 2))"
   ]
  },
  {
   "cell_type": "code",
   "execution_count": 68,
   "metadata": {},
   "outputs": [
    {
     "data": {
      "image/png": "[encoded data removed]",
      "text/plain": [
       "<Figure size 432x288 with 1 Axes>"
      ]
     },
     "metadata": {
      "needs_background": "light"
     },
     "output_type": "display_data"
    }
   ],
   "source": [
    "#посмотрим распределение пользовательских оценок на графике\n",
    "ax = data2014.loc[data2014['genre'] == 'Action'].plot(\n",
    "    kind='hist',\n",
    "    y='user_score',\n",
    "    histtype='step',\n",
    "    bins=20,\n",
    "    linewidth=5,\n",
    "    alpha=0.7,\n",
    "    label='Action',\n",
    ")\n",
    "data2014.loc[data2014['genre'] == 'Sports'].plot(\n",
    "    kind='hist',\n",
    "    y='user_score',\n",
    "    histtype='step',\n",
    "    bins=20,\n",
    "    linewidth=5,\n",
    "    alpha=0.7,\n",
    "    label='Sports',\n",
    "    ax=ax,\n",
    "    grid=True,\n",
    "    legend=True,\n",
    ")\n",
    "plt.ylabel('Количество оценок')\n",
    "plt.xlabel('Оценка пользователей')\n",
    "plt.title('Оценка пользователей жанров Action и Sports');"
   ]
  },
  {
   "cell_type": "markdown",
   "metadata": {},
   "source": [
    "По данным графика видно, что Action пользователи любят больше. Проверим с помощью статистического теста."
   ]
  },
  {
   "cell_type": "code",
   "execution_count": 69,
   "metadata": {},
   "outputs": [
    {
     "name": "stdout",
     "output_type": "stream",
     "text": [
      "p-значение: 4.006671732343028e-20\n",
      "Отвергаем нулевую гипотезу\n"
     ]
    }
   ],
   "source": [
    "#уровень статистической значимости возьмем за 5%\n",
    "alpha = 0.05\n",
    "\n",
    "results = st.ttest_ind(data2014.loc[(data2014['genre'] == 'Action') & (data2014['user_score'].notna())]['user_score'], \n",
    "                       data2014.loc[(data2014['genre'] == 'Sports') & (data2014['user_score'].notna())]['user_score'],\n",
    "                       alternative = 'greater')\n",
    "\n",
    "print('p-значение:', results.pvalue)\n",
    "\n",
    "if results.pvalue < alpha:\n",
    "    print('Отвергаем нулевую гипотезу')\n",
    "else:\n",
    "    print('Не получилось отвергнуть нулевую гипотезу') "
   ]
  },
  {
   "cell_type": "markdown",
   "metadata": {},
   "source": [
    "Проведем аналогичный тест для 2016 года - изменились ли предпочтения пользователей в жанрах в последнее время? "
   ]
  },
  {
   "cell_type": "code",
   "execution_count": 70,
   "metadata": {},
   "outputs": [
    {
     "name": "stdout",
     "output_type": "stream",
     "text": [
      "p-значение: 0.00015355727685438942\n",
      "Отвергаем нулевую гипотезу\n"
     ]
    }
   ],
   "source": [
    "#проведем аналогичный тест для 2016 года\n",
    "alpha = 0.05\n",
    "\n",
    "results = st.ttest_ind(data2014.loc[(data2014['genre'] == 'Action') & (data2014['year_of_release'] == 2016) & (data2014['user_score'].notna())]['user_score'], \n",
    "                       data2014.loc[(data2014['genre'] == 'Sports') & (data2014['year_of_release'] == 2016) & (data2014['user_score'].notna())]['user_score'],\n",
    "                       alternative = 'greater')\n",
    "\n",
    "print('p-значение:', results.pvalue)\n",
    "\n",
    "if results.pvalue < alpha:\n",
    "    print('Отвергаем нулевую гипотезу')\n",
    "else:\n",
    "    print('Не получилось отвергнуть нулевую гипотезу') "
   ]
  },
  {
   "cell_type": "markdown",
   "metadata": {},
   "source": [
    "Даже увеличив уровень статистической значимости до 5%, мы не смогли подтвердить нулевую гипотезу о равной средней оценке пользователей в выбранных жанрах и отвергаем ее в пользу альтернативной - средние оценки не равны.\n",
    "При проведении теста на данных 2016 года мы видим, что средние стали чуть ближе друг к другу, но все еще недостаточно для принятия нулевой гипотезы. \n",
    "\n",
    "Вывод: средние пользовательские оценки жанров Action и Sports не равны. "
   ]
  },
  {
   "cell_type": "markdown",
   "metadata": {},
   "source": [
    "## Выводы"
   ]
  },
  {
   "cell_type": "markdown",
   "metadata": {},
   "source": [
    "<b>На этапе предобраюотки данных:</b>\n",
    "    \n",
    "1. заменены типы данных в столбцах: \n",
    "* год выпуска;\n",
    "* оценка пользователей. В этом столбце значения 'tbd' заменены на пустые, исходя из предположения, что издатель не захотел получать оценку. \n",
    "2. обработы пропуски в столбцах:\n",
    "* название игры - пропуски удалены;\n",
    "* оценка ESRB - чать пропусков заменена на соответствующие значения рейтинга для игры, указанные на друой платформе. \n",
    "3. Посчитаны суммарные продажи игр во всех регионах."
   ]
  },
  {
   "cell_type": "markdown",
   "metadata": {},
   "source": [
    "<b>Исследовательский анализ данных показал: </b>\n",
    "1. Рост количества выпускаемых игр наблюдается с 1995 г, в 2010-2011 гг. достигая своего максимума, затем идет на спад;\n",
    "2. Средний срок жизни игровой платформы - 7,7 лет;\n",
    "3. Актуальный период для анализа определен как последние 3 года: 2014-2016 гг.;\n",
    "4. Потенциально прибыльные платформы за этот период:\n",
    "* PS4;\n",
    "* XOne.\n",
    "\n",
    "Эти платформы имеют положительную динамику в продажах (2012-2015, т.к. данные за 2016 неполные), суммарно за 5 лет продали более 50 млн копий.\n",
    "\n",
    "5. Высокая оценка критиков средне, но положительно влияет на общие продажи;\n",
    "6. Самые популярные жанры игр:\n",
    "* Action - экшен, боевик;\n",
    "* Shooter - шутер, стрелялки;\n",
    "* Role-Playing - RPG, ролевая игра;\n",
    "* Sports - спортивные игры."
   ]
  },
  {
   "cell_type": "markdown",
   "metadata": {},
   "source": [
    "<b>Портреты пользователей в регионах:</b>\n",
    "\n",
    "Пользователи в Северной Америке и Европе имеют очень похжие игровые предпочтения, имеющие незначительные различия по жанрам: например, в ТОП-5 рейтинга европейцев входят гонки, в отличие от американцев.\n",
    "\n",
    "Портрет же японского игрока сильно отличается от предыдущих двух регионов. предположительно, влияет менталитет и японские аниме - игры они предпочитают в мультяшном стиле (больше всего продаж игр с рейтингом 13+), в их ТОП-5 входят драки, а платформы, которые не находят популярности в Америке и Европе, у них в ТОП-5 (PSV, WiiU)."
   ]
  },
  {
   "cell_type": "markdown",
   "metadata": {},
   "source": [
    "<b>Проверка гипотез</b> показала, что:\n",
    "1. Средние оценки пользователей платформ PS4 и Xbox One равны;\n",
    "2. Средние оценки пользователей жанров Action и Sports смльно отличаются друг от друга."
   ]
  }
 ],
 "metadata": {
  "ExecuteTimeLog": [
   {
    "duration": 1355,
    "start_time": "2023-10-17T15:47:30.190Z"
   },
   {
    "duration": 151,
    "start_time": "2023-10-17T15:48:16.816Z"
   },
   {
    "duration": 18,
    "start_time": "2023-10-17T15:48:35.827Z"
   },
   {
    "duration": 17,
    "start_time": "2023-10-17T15:49:56.022Z"
   },
   {
    "duration": 12,
    "start_time": "2023-10-17T15:50:12.898Z"
   },
   {
    "duration": 14,
    "start_time": "2023-10-17T15:50:17.854Z"
   },
   {
    "duration": 98,
    "start_time": "2023-10-17T15:56:39.127Z"
   },
   {
    "duration": 16,
    "start_time": "2023-10-17T15:56:44.694Z"
   },
   {
    "duration": 5,
    "start_time": "2023-10-17T16:06:54.578Z"
   },
   {
    "duration": 21,
    "start_time": "2023-10-17T16:06:59.186Z"
   },
   {
    "duration": 22,
    "start_time": "2023-10-17T16:09:14.581Z"
   },
   {
    "duration": 23,
    "start_time": "2023-10-17T16:10:31.506Z"
   },
   {
    "duration": 22,
    "start_time": "2023-10-17T16:10:53.455Z"
   },
   {
    "duration": 13,
    "start_time": "2023-10-17T16:12:23.551Z"
   },
   {
    "duration": 20,
    "start_time": "2023-10-17T16:12:33.086Z"
   },
   {
    "duration": 4,
    "start_time": "2023-10-17T16:20:56.728Z"
   },
   {
    "duration": 4,
    "start_time": "2023-10-17T16:21:25.590Z"
   },
   {
    "duration": 15,
    "start_time": "2023-10-17T16:21:31.688Z"
   },
   {
    "duration": 16,
    "start_time": "2023-10-17T16:21:37.836Z"
   },
   {
    "duration": 4,
    "start_time": "2023-10-17T16:21:41.537Z"
   },
   {
    "duration": 18,
    "start_time": "2023-10-17T16:21:44.073Z"
   },
   {
    "duration": 14,
    "start_time": "2023-10-17T16:21:56.584Z"
   },
   {
    "duration": 12,
    "start_time": "2023-10-17T16:26:08.042Z"
   },
   {
    "duration": 20,
    "start_time": "2023-10-17T16:32:35.104Z"
   },
   {
    "duration": 6,
    "start_time": "2023-10-17T16:32:57.034Z"
   },
   {
    "duration": 4,
    "start_time": "2023-10-17T16:33:13.399Z"
   },
   {
    "duration": 3,
    "start_time": "2023-10-17T16:33:48.240Z"
   },
   {
    "duration": 4,
    "start_time": "2023-10-17T16:33:52.394Z"
   },
   {
    "duration": 14,
    "start_time": "2023-10-17T16:33:56.941Z"
   },
   {
    "duration": 14,
    "start_time": "2023-10-17T16:35:36.201Z"
   },
   {
    "duration": 14,
    "start_time": "2023-10-17T16:37:15.140Z"
   },
   {
    "duration": 104,
    "start_time": "2023-10-17T16:46:41.616Z"
   },
   {
    "duration": 9,
    "start_time": "2023-10-17T16:46:48.471Z"
   },
   {
    "duration": 7,
    "start_time": "2023-10-17T16:47:01.538Z"
   },
   {
    "duration": 7,
    "start_time": "2023-10-17T16:47:48.703Z"
   },
   {
    "duration": 7,
    "start_time": "2023-10-17T16:48:00.904Z"
   },
   {
    "duration": 7,
    "start_time": "2023-10-17T16:51:25.009Z"
   },
   {
    "duration": 52,
    "start_time": "2023-10-19T15:08:57.391Z"
   },
   {
    "duration": 1584,
    "start_time": "2023-10-19T15:09:05.270Z"
   },
   {
    "duration": 108,
    "start_time": "2023-10-19T15:09:06.856Z"
   },
   {
    "duration": 21,
    "start_time": "2023-10-19T15:09:06.966Z"
   },
   {
    "duration": 15,
    "start_time": "2023-10-19T15:09:06.988Z"
   },
   {
    "duration": 15,
    "start_time": "2023-10-19T15:09:07.006Z"
   },
   {
    "duration": 26,
    "start_time": "2023-10-19T15:09:07.022Z"
   },
   {
    "duration": 6,
    "start_time": "2023-10-19T15:09:07.050Z"
   },
   {
    "duration": 14,
    "start_time": "2023-10-19T15:09:07.057Z"
   },
   {
    "duration": 16,
    "start_time": "2023-10-19T15:09:07.072Z"
   },
   {
    "duration": 7,
    "start_time": "2023-10-19T15:09:07.090Z"
   },
   {
    "duration": 25,
    "start_time": "2023-10-19T15:09:07.098Z"
   },
   {
    "duration": 24,
    "start_time": "2023-10-19T15:09:07.125Z"
   },
   {
    "duration": 21,
    "start_time": "2023-10-19T15:09:16.628Z"
   },
   {
    "duration": 116,
    "start_time": "2023-10-19T15:09:41.648Z"
   },
   {
    "duration": 1323,
    "start_time": "2023-10-19T15:10:32.936Z"
   },
   {
    "duration": 126,
    "start_time": "2023-10-19T15:10:34.262Z"
   },
   {
    "duration": 21,
    "start_time": "2023-10-19T15:10:34.390Z"
   },
   {
    "duration": 37,
    "start_time": "2023-10-19T15:10:34.412Z"
   },
   {
    "duration": 75,
    "start_time": "2023-10-19T15:10:34.451Z"
   },
   {
    "duration": 14,
    "start_time": "2023-10-19T15:10:34.528Z"
   },
   {
    "duration": 42,
    "start_time": "2023-10-19T15:10:34.544Z"
   },
   {
    "duration": 17,
    "start_time": "2023-10-19T15:10:34.588Z"
   },
   {
    "duration": 18,
    "start_time": "2023-10-19T15:10:34.607Z"
   },
   {
    "duration": 7,
    "start_time": "2023-10-19T15:10:34.627Z"
   },
   {
    "duration": 18,
    "start_time": "2023-10-19T15:10:34.637Z"
   },
   {
    "duration": 121,
    "start_time": "2023-10-19T15:10:34.657Z"
   },
   {
    "duration": 0,
    "start_time": "2023-10-19T15:10:34.780Z"
   },
   {
    "duration": 13,
    "start_time": "2023-10-19T15:10:59.421Z"
   },
   {
    "duration": 9,
    "start_time": "2023-10-19T15:11:00.986Z"
   },
   {
    "duration": 23,
    "start_time": "2023-10-19T15:11:12.080Z"
   },
   {
    "duration": 14,
    "start_time": "2023-10-19T15:12:21.660Z"
   },
   {
    "duration": 2,
    "start_time": "2023-10-19T15:12:57.846Z"
   },
   {
    "duration": 3,
    "start_time": "2023-10-19T15:14:32.188Z"
   },
   {
    "duration": 9,
    "start_time": "2023-10-19T15:14:43.884Z"
   },
   {
    "duration": 9,
    "start_time": "2023-10-19T15:23:46.206Z"
   },
   {
    "duration": 6,
    "start_time": "2023-10-19T16:13:51.099Z"
   },
   {
    "duration": 14,
    "start_time": "2023-10-19T16:13:59.275Z"
   },
   {
    "duration": 3,
    "start_time": "2023-10-19T16:31:19.107Z"
   },
   {
    "duration": 3,
    "start_time": "2023-10-19T16:31:19.139Z"
   },
   {
    "duration": 2,
    "start_time": "2023-10-19T16:31:19.197Z"
   },
   {
    "duration": 2,
    "start_time": "2023-10-19T16:31:19.249Z"
   },
   {
    "duration": 12,
    "start_time": "2023-10-19T16:31:19.253Z"
   },
   {
    "duration": 2,
    "start_time": "2023-10-19T16:31:48.527Z"
   },
   {
    "duration": 27,
    "start_time": "2023-10-19T16:33:08.674Z"
   },
   {
    "duration": 1977,
    "start_time": "2023-10-19T16:34:20.991Z"
   },
   {
    "duration": 1769,
    "start_time": "2023-10-19T16:34:29.602Z"
   },
   {
    "duration": 1623,
    "start_time": "2023-10-19T16:34:37.140Z"
   },
   {
    "duration": 165,
    "start_time": "2023-10-19T16:34:48.527Z"
   },
   {
    "duration": 170,
    "start_time": "2023-10-19T16:35:17.054Z"
   },
   {
    "duration": 183,
    "start_time": "2023-10-19T16:39:51.257Z"
   },
   {
    "duration": 211,
    "start_time": "2023-10-19T16:39:57.098Z"
   },
   {
    "duration": 191,
    "start_time": "2023-10-19T16:40:00.293Z"
   },
   {
    "duration": 83,
    "start_time": "2023-10-19T16:40:49.110Z"
   },
   {
    "duration": 186,
    "start_time": "2023-10-19T16:40:56.568Z"
   },
   {
    "duration": 200,
    "start_time": "2023-10-19T16:41:10.406Z"
   },
   {
    "duration": 189,
    "start_time": "2023-10-19T16:41:24.313Z"
   },
   {
    "duration": 200,
    "start_time": "2023-10-19T16:42:07.381Z"
   },
   {
    "duration": 286,
    "start_time": "2023-10-19T16:42:16.228Z"
   },
   {
    "duration": 190,
    "start_time": "2023-10-19T16:42:38.407Z"
   },
   {
    "duration": 203,
    "start_time": "2023-10-19T16:42:43.558Z"
   },
   {
    "duration": 201,
    "start_time": "2023-10-19T16:43:01.642Z"
   },
   {
    "duration": 1441,
    "start_time": "2023-10-21T06:56:02.147Z"
   },
   {
    "duration": 110,
    "start_time": "2023-10-21T06:56:03.590Z"
   },
   {
    "duration": 60,
    "start_time": "2023-10-21T06:56:03.702Z"
   },
   {
    "duration": 25,
    "start_time": "2023-10-21T06:56:03.764Z"
   },
   {
    "duration": 16,
    "start_time": "2023-10-21T06:56:03.792Z"
   },
   {
    "duration": 5,
    "start_time": "2023-10-21T06:56:03.810Z"
   },
   {
    "duration": 9,
    "start_time": "2023-10-21T06:56:03.817Z"
   },
   {
    "duration": 17,
    "start_time": "2023-10-21T06:56:03.828Z"
   },
   {
    "duration": 20,
    "start_time": "2023-10-21T06:56:03.846Z"
   },
   {
    "duration": 12,
    "start_time": "2023-10-21T06:56:03.868Z"
   },
   {
    "duration": 22,
    "start_time": "2023-10-21T06:56:03.882Z"
   },
   {
    "duration": 27,
    "start_time": "2023-10-21T06:56:03.905Z"
   },
   {
    "duration": 6,
    "start_time": "2023-10-21T06:56:03.934Z"
   },
   {
    "duration": 58,
    "start_time": "2023-10-21T06:56:03.943Z"
   },
   {
    "duration": 15,
    "start_time": "2023-10-21T06:56:04.003Z"
   },
   {
    "duration": 6,
    "start_time": "2023-10-21T06:56:04.020Z"
   },
   {
    "duration": 11,
    "start_time": "2023-10-21T06:56:04.028Z"
   },
   {
    "duration": 21,
    "start_time": "2023-10-21T06:56:04.041Z"
   },
   {
    "duration": 15,
    "start_time": "2023-10-21T06:56:04.064Z"
   },
   {
    "duration": 22,
    "start_time": "2023-10-21T06:56:04.081Z"
   },
   {
    "duration": 229,
    "start_time": "2023-10-21T06:56:04.105Z"
   },
   {
    "duration": 3,
    "start_time": "2023-10-21T06:56:04.336Z"
   },
   {
    "duration": 14,
    "start_time": "2023-10-21T06:56:04.340Z"
   },
   {
    "duration": 22,
    "start_time": "2023-10-21T06:56:04.356Z"
   },
   {
    "duration": 17,
    "start_time": "2023-10-21T06:56:04.380Z"
   },
   {
    "duration": 13,
    "start_time": "2023-10-21T06:56:04.399Z"
   },
   {
    "duration": 24,
    "start_time": "2023-10-21T06:56:04.413Z"
   },
   {
    "duration": 24,
    "start_time": "2023-10-21T06:56:04.439Z"
   },
   {
    "duration": 16,
    "start_time": "2023-10-21T07:36:39.018Z"
   },
   {
    "duration": 57,
    "start_time": "2023-10-21T07:36:42.711Z"
   },
   {
    "duration": 3,
    "start_time": "2023-10-21T07:38:21.059Z"
   },
   {
    "duration": 53,
    "start_time": "2023-10-21T07:38:21.701Z"
   },
   {
    "duration": 92,
    "start_time": "2023-10-21T07:39:01.033Z"
   },
   {
    "duration": 120,
    "start_time": "2023-10-21T07:40:49.993Z"
   },
   {
    "duration": 13,
    "start_time": "2023-10-21T07:40:53.964Z"
   },
   {
    "duration": 18,
    "start_time": "2023-10-21T07:42:01.558Z"
   },
   {
    "duration": 14,
    "start_time": "2023-10-21T07:42:06.207Z"
   },
   {
    "duration": 5,
    "start_time": "2023-10-21T07:42:40.926Z"
   },
   {
    "duration": 9,
    "start_time": "2023-10-21T07:42:47.398Z"
   },
   {
    "duration": 11,
    "start_time": "2023-10-21T07:42:58.575Z"
   },
   {
    "duration": 8,
    "start_time": "2023-10-21T07:43:10.540Z"
   },
   {
    "duration": 4,
    "start_time": "2023-10-21T07:43:17.287Z"
   },
   {
    "duration": 8,
    "start_time": "2023-10-21T07:43:21.640Z"
   },
   {
    "duration": 1054,
    "start_time": "2023-10-21T07:44:29.769Z"
   },
   {
    "duration": 89,
    "start_time": "2023-10-21T07:44:39.912Z"
   },
   {
    "duration": 86,
    "start_time": "2023-10-21T07:44:46.925Z"
   },
   {
    "duration": 86,
    "start_time": "2023-10-21T07:44:53.345Z"
   },
   {
    "duration": 1201,
    "start_time": "2023-10-21T07:54:39.024Z"
   },
   {
    "duration": 1220,
    "start_time": "2023-10-21T07:54:46.837Z"
   },
   {
    "duration": 2444,
    "start_time": "2023-10-21T07:55:01.064Z"
   },
   {
    "duration": 6472,
    "start_time": "2023-10-21T07:55:16.566Z"
   },
   {
    "duration": 1228,
    "start_time": "2023-10-21T07:55:46.742Z"
   },
   {
    "duration": 111,
    "start_time": "2023-10-21T07:55:47.972Z"
   },
   {
    "duration": 21,
    "start_time": "2023-10-21T07:55:48.085Z"
   },
   {
    "duration": 15,
    "start_time": "2023-10-21T07:55:48.109Z"
   },
   {
    "duration": 25,
    "start_time": "2023-10-21T07:55:48.126Z"
   },
   {
    "duration": 4,
    "start_time": "2023-10-21T07:55:48.153Z"
   },
   {
    "duration": 16,
    "start_time": "2023-10-21T07:55:48.159Z"
   },
   {
    "duration": 19,
    "start_time": "2023-10-21T07:55:48.176Z"
   },
   {
    "duration": 16,
    "start_time": "2023-10-21T07:55:48.202Z"
   },
   {
    "duration": 9,
    "start_time": "2023-10-21T07:55:48.221Z"
   },
   {
    "duration": 21,
    "start_time": "2023-10-21T07:55:48.232Z"
   },
   {
    "duration": 20,
    "start_time": "2023-10-21T07:55:48.255Z"
   },
   {
    "duration": 5,
    "start_time": "2023-10-21T07:55:48.277Z"
   },
   {
    "duration": 27,
    "start_time": "2023-10-21T07:55:48.284Z"
   },
   {
    "duration": 16,
    "start_time": "2023-10-21T07:55:48.313Z"
   },
   {
    "duration": 9,
    "start_time": "2023-10-21T07:55:48.331Z"
   },
   {
    "duration": 11,
    "start_time": "2023-10-21T07:55:48.341Z"
   },
   {
    "duration": 21,
    "start_time": "2023-10-21T07:55:48.353Z"
   },
   {
    "duration": 8,
    "start_time": "2023-10-21T07:55:48.376Z"
   },
   {
    "duration": 42,
    "start_time": "2023-10-21T07:55:48.386Z"
   },
   {
    "duration": 239,
    "start_time": "2023-10-21T07:55:48.429Z"
   },
   {
    "duration": 78,
    "start_time": "2023-10-21T07:55:48.670Z"
   },
   {
    "duration": 8,
    "start_time": "2023-10-21T07:55:48.750Z"
   },
   {
    "duration": 47,
    "start_time": "2023-10-21T07:55:48.760Z"
   },
   {
    "duration": 30,
    "start_time": "2023-10-21T07:55:48.808Z"
   },
   {
    "duration": 47,
    "start_time": "2023-10-21T07:55:48.840Z"
   },
   {
    "duration": 22,
    "start_time": "2023-10-21T07:55:48.889Z"
   },
   {
    "duration": 8,
    "start_time": "2023-10-21T07:55:48.915Z"
   },
   {
    "duration": 5,
    "start_time": "2023-10-21T07:56:02.627Z"
   },
   {
    "duration": 1410,
    "start_time": "2023-10-21T07:56:08.864Z"
   },
   {
    "duration": 970,
    "start_time": "2023-10-21T07:56:18.562Z"
   },
   {
    "duration": 925,
    "start_time": "2023-10-21T07:56:41.975Z"
   },
   {
    "duration": 1297,
    "start_time": "2023-10-21T07:56:56.002Z"
   },
   {
    "duration": 11,
    "start_time": "2023-10-21T07:57:06.415Z"
   },
   {
    "duration": 13,
    "start_time": "2023-10-21T07:57:33.369Z"
   },
   {
    "duration": 120,
    "start_time": "2023-10-21T07:57:38.500Z"
   },
   {
    "duration": 11,
    "start_time": "2023-10-21T07:57:41.075Z"
   },
   {
    "duration": 12,
    "start_time": "2023-10-21T07:58:31.232Z"
   },
   {
    "duration": 14,
    "start_time": "2023-10-21T07:58:43.323Z"
   },
   {
    "duration": 7,
    "start_time": "2023-10-21T07:58:50.238Z"
   },
   {
    "duration": 12,
    "start_time": "2023-10-21T07:58:53.550Z"
   },
   {
    "duration": 12,
    "start_time": "2023-10-21T07:58:56.934Z"
   },
   {
    "duration": 12,
    "start_time": "2023-10-21T07:59:02.900Z"
   },
   {
    "duration": 11,
    "start_time": "2023-10-21T07:59:29.936Z"
   },
   {
    "duration": 14,
    "start_time": "2023-10-21T07:59:44.494Z"
   },
   {
    "duration": 10,
    "start_time": "2023-10-21T08:01:25.442Z"
   },
   {
    "duration": 1293,
    "start_time": "2023-10-21T08:01:46.369Z"
   },
   {
    "duration": 4,
    "start_time": "2023-10-21T08:01:57.276Z"
   },
   {
    "duration": 5,
    "start_time": "2023-10-21T08:09:50.885Z"
   },
   {
    "duration": 12,
    "start_time": "2023-10-21T08:09:54.342Z"
   },
   {
    "duration": 10,
    "start_time": "2023-10-21T08:10:01.783Z"
   },
   {
    "duration": 12,
    "start_time": "2023-10-21T08:10:13.518Z"
   },
   {
    "duration": 9,
    "start_time": "2023-10-21T08:10:22.687Z"
   },
   {
    "duration": 11,
    "start_time": "2023-10-21T08:10:34.009Z"
   },
   {
    "duration": 10,
    "start_time": "2023-10-21T08:11:44.674Z"
   },
   {
    "duration": 12,
    "start_time": "2023-10-21T08:11:53.616Z"
   },
   {
    "duration": 109,
    "start_time": "2023-10-21T08:11:58.814Z"
   },
   {
    "duration": 9,
    "start_time": "2023-10-21T08:12:01.312Z"
   },
   {
    "duration": 10,
    "start_time": "2023-10-21T08:12:47.090Z"
   },
   {
    "duration": 11,
    "start_time": "2023-10-21T08:13:20.646Z"
   },
   {
    "duration": 10,
    "start_time": "2023-10-21T08:13:46.563Z"
   },
   {
    "duration": 18,
    "start_time": "2023-10-21T08:17:35.839Z"
   },
   {
    "duration": 1520,
    "start_time": "2023-10-21T08:18:12.948Z"
   },
   {
    "duration": 11,
    "start_time": "2023-10-21T08:18:22.942Z"
   },
   {
    "duration": 1238,
    "start_time": "2023-10-21T08:18:34.758Z"
   },
   {
    "duration": 1301,
    "start_time": "2023-10-21T08:18:47.794Z"
   },
   {
    "duration": 5,
    "start_time": "2023-10-21T08:18:55.800Z"
   },
   {
    "duration": 10,
    "start_time": "2023-10-21T08:19:07.158Z"
   },
   {
    "duration": 5,
    "start_time": "2023-10-21T08:19:09.569Z"
   },
   {
    "duration": 71,
    "start_time": "2023-10-21T08:19:15.855Z"
   },
   {
    "duration": 42,
    "start_time": "2023-10-21T08:19:22.612Z"
   },
   {
    "duration": 26,
    "start_time": "2023-10-21T08:20:19.761Z"
   },
   {
    "duration": 29,
    "start_time": "2023-10-21T08:42:16.848Z"
   },
   {
    "duration": 25,
    "start_time": "2023-10-21T08:42:28.130Z"
   },
   {
    "duration": 92,
    "start_time": "2023-10-21T08:43:06.370Z"
   },
   {
    "duration": 11,
    "start_time": "2023-10-21T08:43:10.007Z"
   },
   {
    "duration": 29,
    "start_time": "2023-10-21T08:47:05.343Z"
   },
   {
    "duration": 40,
    "start_time": "2023-10-21T08:47:23.087Z"
   },
   {
    "duration": 305,
    "start_time": "2023-10-21T08:48:16.097Z"
   },
   {
    "duration": 10,
    "start_time": "2023-10-21T08:48:49.424Z"
   },
   {
    "duration": 10,
    "start_time": "2023-10-21T08:48:53.484Z"
   },
   {
    "duration": 9,
    "start_time": "2023-10-21T08:48:59.181Z"
   },
   {
    "duration": 31,
    "start_time": "2023-10-21T08:49:03.100Z"
   },
   {
    "duration": 10,
    "start_time": "2023-10-21T08:49:12.200Z"
   },
   {
    "duration": 29,
    "start_time": "2023-10-21T08:49:19.118Z"
   },
   {
    "duration": 76,
    "start_time": "2023-10-21T08:49:23.562Z"
   },
   {
    "duration": 408,
    "start_time": "2023-10-21T08:49:28.779Z"
   },
   {
    "duration": 60,
    "start_time": "2023-10-21T08:50:31.003Z"
   },
   {
    "duration": 9,
    "start_time": "2023-10-21T08:50:59.427Z"
   },
   {
    "duration": 38,
    "start_time": "2023-10-21T08:51:28.427Z"
   },
   {
    "duration": 1250,
    "start_time": "2023-10-21T08:51:45.644Z"
   },
   {
    "duration": 131,
    "start_time": "2023-10-21T08:51:46.897Z"
   },
   {
    "duration": 21,
    "start_time": "2023-10-21T08:51:47.030Z"
   },
   {
    "duration": 34,
    "start_time": "2023-10-21T08:51:47.053Z"
   },
   {
    "duration": 37,
    "start_time": "2023-10-21T08:51:47.090Z"
   },
   {
    "duration": 5,
    "start_time": "2023-10-21T08:51:47.129Z"
   },
   {
    "duration": 10,
    "start_time": "2023-10-21T08:51:47.136Z"
   },
   {
    "duration": 19,
    "start_time": "2023-10-21T08:51:47.147Z"
   },
   {
    "duration": 52,
    "start_time": "2023-10-21T08:51:47.168Z"
   },
   {
    "duration": 27,
    "start_time": "2023-10-21T08:51:47.222Z"
   },
   {
    "duration": 14,
    "start_time": "2023-10-21T08:51:47.251Z"
   },
   {
    "duration": 32,
    "start_time": "2023-10-21T08:51:47.267Z"
   },
   {
    "duration": 8,
    "start_time": "2023-10-21T08:51:47.301Z"
   },
   {
    "duration": 20,
    "start_time": "2023-10-21T08:51:47.312Z"
   },
   {
    "duration": 20,
    "start_time": "2023-10-21T08:51:47.334Z"
   },
   {
    "duration": 11,
    "start_time": "2023-10-21T08:51:47.356Z"
   },
   {
    "duration": 9,
    "start_time": "2023-10-21T08:51:47.369Z"
   },
   {
    "duration": 51,
    "start_time": "2023-10-21T08:51:47.380Z"
   },
   {
    "duration": 26,
    "start_time": "2023-10-21T08:51:47.433Z"
   },
   {
    "duration": 16,
    "start_time": "2023-10-21T08:51:47.461Z"
   },
   {
    "duration": 230,
    "start_time": "2023-10-21T08:51:47.479Z"
   },
   {
    "duration": 61,
    "start_time": "2023-10-21T08:51:47.711Z"
   },
   {
    "duration": 29,
    "start_time": "2023-10-21T08:51:47.774Z"
   },
   {
    "duration": 5,
    "start_time": "2023-10-21T08:51:47.805Z"
   },
   {
    "duration": 16,
    "start_time": "2023-10-21T08:51:47.812Z"
   },
   {
    "duration": 31,
    "start_time": "2023-10-21T08:51:47.830Z"
   },
   {
    "duration": 102,
    "start_time": "2023-10-21T08:51:47.863Z"
   },
   {
    "duration": 467,
    "start_time": "2023-10-21T08:51:47.967Z"
   },
   {
    "duration": 11,
    "start_time": "2023-10-21T08:51:48.437Z"
   },
   {
    "duration": 28,
    "start_time": "2023-10-21T08:52:17.342Z"
   },
   {
    "duration": 355,
    "start_time": "2023-10-21T08:55:24.599Z"
   },
   {
    "duration": 307,
    "start_time": "2023-10-21T08:55:39.936Z"
   },
   {
    "duration": 39,
    "start_time": "2023-10-21T08:55:55.808Z"
   },
   {
    "duration": 274,
    "start_time": "2023-10-21T08:56:06.879Z"
   },
   {
    "duration": 8,
    "start_time": "2023-10-21T08:57:12.305Z"
   },
   {
    "duration": 65,
    "start_time": "2023-10-21T08:57:16.928Z"
   },
   {
    "duration": 435,
    "start_time": "2023-10-21T08:57:20.828Z"
   },
   {
    "duration": 497,
    "start_time": "2023-10-21T08:57:38.456Z"
   },
   {
    "duration": 515,
    "start_time": "2023-10-21T08:57:42.567Z"
   },
   {
    "duration": 444,
    "start_time": "2023-10-21T08:58:02.353Z"
   },
   {
    "duration": 431,
    "start_time": "2023-10-21T08:58:09.242Z"
   },
   {
    "duration": 437,
    "start_time": "2023-10-21T08:58:19.061Z"
   },
   {
    "duration": 437,
    "start_time": "2023-10-21T08:58:22.638Z"
   },
   {
    "duration": 45,
    "start_time": "2023-10-21T08:59:44.107Z"
   },
   {
    "duration": 31,
    "start_time": "2023-10-21T08:59:53.759Z"
   },
   {
    "duration": 29,
    "start_time": "2023-10-21T09:00:09.131Z"
   },
   {
    "duration": 369,
    "start_time": "2023-10-21T09:00:14.206Z"
   },
   {
    "duration": 94,
    "start_time": "2023-10-21T09:08:27.179Z"
   },
   {
    "duration": 27,
    "start_time": "2023-10-21T09:08:30.931Z"
   },
   {
    "duration": 25,
    "start_time": "2023-10-21T09:08:43.816Z"
   },
   {
    "duration": 25,
    "start_time": "2023-10-21T09:11:25.714Z"
   },
   {
    "duration": 35,
    "start_time": "2023-10-21T09:12:22.379Z"
   },
   {
    "duration": 29,
    "start_time": "2023-10-21T09:12:27.344Z"
   },
   {
    "duration": 24,
    "start_time": "2023-10-21T09:13:07.263Z"
   },
   {
    "duration": 108,
    "start_time": "2023-10-21T09:14:32.294Z"
   },
   {
    "duration": 11,
    "start_time": "2023-10-21T09:14:54.265Z"
   },
   {
    "duration": 126,
    "start_time": "2023-10-21T09:15:00.875Z"
   },
   {
    "duration": 25,
    "start_time": "2023-10-21T09:16:13.102Z"
   },
   {
    "duration": 24,
    "start_time": "2023-10-21T09:16:17.765Z"
   },
   {
    "duration": 26,
    "start_time": "2023-10-21T09:17:01.704Z"
   },
   {
    "duration": 22,
    "start_time": "2023-10-21T09:17:02.140Z"
   },
   {
    "duration": 229,
    "start_time": "2023-10-21T09:17:05.215Z"
   },
   {
    "duration": 1000,
    "start_time": "2023-10-21T09:17:40.571Z"
   },
   {
    "duration": 238,
    "start_time": "2023-10-21T09:17:45.036Z"
   },
   {
    "duration": 26,
    "start_time": "2023-10-21T09:17:55.354Z"
   },
   {
    "duration": 330,
    "start_time": "2023-10-21T09:17:58.226Z"
   },
   {
    "duration": 17,
    "start_time": "2023-10-21T09:18:45.996Z"
   },
   {
    "duration": 8,
    "start_time": "2023-10-21T09:19:42.110Z"
   },
   {
    "duration": 9,
    "start_time": "2023-10-21T09:19:49.843Z"
   },
   {
    "duration": 8,
    "start_time": "2023-10-21T09:19:58.338Z"
   },
   {
    "duration": 46,
    "start_time": "2023-10-21T09:28:41.826Z"
   },
   {
    "duration": 8,
    "start_time": "2023-10-21T09:29:05.039Z"
   },
   {
    "duration": 38,
    "start_time": "2023-10-21T09:29:14.247Z"
   },
   {
    "duration": 25,
    "start_time": "2023-10-21T09:30:33.974Z"
   },
   {
    "duration": 5,
    "start_time": "2023-10-21T09:30:44.520Z"
   },
   {
    "duration": 28,
    "start_time": "2023-10-21T09:30:46.939Z"
   },
   {
    "duration": 9,
    "start_time": "2023-10-21T09:31:01.181Z"
   },
   {
    "duration": 15,
    "start_time": "2023-10-21T09:31:56.145Z"
   },
   {
    "duration": 10,
    "start_time": "2023-10-21T09:32:06.393Z"
   },
   {
    "duration": 207,
    "start_time": "2023-10-21T09:32:58.238Z"
   },
   {
    "duration": 18,
    "start_time": "2023-10-21T09:33:10.570Z"
   },
   {
    "duration": 221,
    "start_time": "2023-10-21T09:33:14.342Z"
   },
   {
    "duration": 27,
    "start_time": "2023-10-21T09:35:14.499Z"
   },
   {
    "duration": 19,
    "start_time": "2023-10-21T09:35:41.636Z"
   },
   {
    "duration": 105,
    "start_time": "2023-10-21T09:35:48.375Z"
   },
   {
    "duration": 17,
    "start_time": "2023-10-21T09:36:03.990Z"
   },
   {
    "duration": 210,
    "start_time": "2023-10-21T09:40:20.544Z"
   },
   {
    "duration": 233,
    "start_time": "2023-10-21T09:40:30.335Z"
   },
   {
    "duration": 93,
    "start_time": "2023-10-21T09:40:43.137Z"
   },
   {
    "duration": 9,
    "start_time": "2023-10-21T09:41:04.069Z"
   },
   {
    "duration": 10,
    "start_time": "2023-10-21T09:41:10.904Z"
   },
   {
    "duration": 92,
    "start_time": "2023-10-21T09:41:15.856Z"
   },
   {
    "duration": 306,
    "start_time": "2023-10-21T09:42:57.333Z"
   },
   {
    "duration": 42,
    "start_time": "2023-10-21T09:56:16.948Z"
   },
   {
    "duration": 253,
    "start_time": "2023-10-21T09:56:39.873Z"
   },
   {
    "duration": 245,
    "start_time": "2023-10-21T09:57:11.347Z"
   },
   {
    "duration": 215,
    "start_time": "2023-10-21T09:58:52.759Z"
   },
   {
    "duration": 32,
    "start_time": "2023-10-21T10:33:47.463Z"
   },
   {
    "duration": 29,
    "start_time": "2023-10-21T10:34:53.559Z"
   },
   {
    "duration": 41,
    "start_time": "2023-10-21T10:35:21.427Z"
   },
   {
    "duration": 16,
    "start_time": "2023-10-21T10:35:32.943Z"
   },
   {
    "duration": 20,
    "start_time": "2023-10-21T10:35:51.259Z"
   },
   {
    "duration": 12,
    "start_time": "2023-10-21T10:36:04.561Z"
   },
   {
    "duration": 8,
    "start_time": "2023-10-21T10:36:27.788Z"
   },
   {
    "duration": 12,
    "start_time": "2023-10-21T10:37:30.002Z"
   },
   {
    "duration": 58897,
    "start_time": "2023-10-21T10:37:37.861Z"
   },
   {
    "duration": 8,
    "start_time": "2023-10-21T10:38:57.911Z"
   },
   {
    "duration": 18,
    "start_time": "2023-10-21T10:41:17.693Z"
   },
   {
    "duration": 4,
    "start_time": "2023-10-21T10:43:01.841Z"
   },
   {
    "duration": 17,
    "start_time": "2023-10-21T10:43:08.267Z"
   },
   {
    "duration": 30,
    "start_time": "2023-10-21T10:43:38.235Z"
   },
   {
    "duration": 22,
    "start_time": "2023-10-21T10:44:04.775Z"
   },
   {
    "duration": 17,
    "start_time": "2023-10-21T10:44:21.232Z"
   },
   {
    "duration": 1507,
    "start_time": "2023-10-21T10:44:34.719Z"
   },
   {
    "duration": 19,
    "start_time": "2023-10-21T10:44:36.532Z"
   },
   {
    "duration": 2244,
    "start_time": "2023-10-21T10:45:11.922Z"
   },
   {
    "duration": 1256,
    "start_time": "2023-10-21T10:45:25.376Z"
   },
   {
    "duration": 110,
    "start_time": "2023-10-21T10:45:26.635Z"
   },
   {
    "duration": 22,
    "start_time": "2023-10-21T10:45:26.747Z"
   },
   {
    "duration": 64,
    "start_time": "2023-10-21T10:45:26.771Z"
   },
   {
    "duration": 26,
    "start_time": "2023-10-21T10:45:26.837Z"
   },
   {
    "duration": 29,
    "start_time": "2023-10-21T10:45:26.865Z"
   },
   {
    "duration": 49,
    "start_time": "2023-10-21T10:45:26.895Z"
   },
   {
    "duration": 35,
    "start_time": "2023-10-21T10:45:26.946Z"
   },
   {
    "duration": 28,
    "start_time": "2023-10-21T10:45:26.983Z"
   },
   {
    "duration": 27,
    "start_time": "2023-10-21T10:45:27.012Z"
   },
   {
    "duration": 37,
    "start_time": "2023-10-21T10:45:27.041Z"
   },
   {
    "duration": 30,
    "start_time": "2023-10-21T10:45:27.080Z"
   },
   {
    "duration": 35,
    "start_time": "2023-10-21T10:45:27.112Z"
   },
   {
    "duration": 38,
    "start_time": "2023-10-21T10:45:27.150Z"
   },
   {
    "duration": 20,
    "start_time": "2023-10-21T10:45:27.190Z"
   },
   {
    "duration": 18,
    "start_time": "2023-10-21T10:45:27.212Z"
   },
   {
    "duration": 52,
    "start_time": "2023-10-21T10:45:27.232Z"
   },
   {
    "duration": 15,
    "start_time": "2023-10-21T10:45:27.286Z"
   },
   {
    "duration": 25,
    "start_time": "2023-10-21T10:45:27.303Z"
   },
   {
    "duration": 55741,
    "start_time": "2023-10-21T10:45:27.330Z"
   },
   {
    "duration": 8,
    "start_time": "2023-10-21T10:46:23.072Z"
   },
   {
    "duration": 30,
    "start_time": "2023-10-21T10:46:23.081Z"
   },
   {
    "duration": 31,
    "start_time": "2023-10-21T10:46:23.113Z"
   },
   {
    "duration": 33,
    "start_time": "2023-10-21T10:46:23.145Z"
   },
   {
    "duration": 30,
    "start_time": "2023-10-21T10:46:23.180Z"
   },
   {
    "duration": 34,
    "start_time": "2023-10-21T10:46:23.211Z"
   },
   {
    "duration": 259,
    "start_time": "2023-10-21T10:46:23.247Z"
   },
   {
    "duration": 58,
    "start_time": "2023-10-21T10:46:23.507Z"
   },
   {
    "duration": 34,
    "start_time": "2023-10-21T10:46:23.567Z"
   },
   {
    "duration": 5,
    "start_time": "2023-10-21T10:46:23.603Z"
   },
   {
    "duration": 31,
    "start_time": "2023-10-21T10:46:23.609Z"
   },
   {
    "duration": 71,
    "start_time": "2023-10-21T10:46:23.642Z"
   },
   {
    "duration": 464,
    "start_time": "2023-10-21T10:46:23.714Z"
   },
   {
    "duration": 30,
    "start_time": "2023-10-21T10:46:24.181Z"
   },
   {
    "duration": 343,
    "start_time": "2023-10-21T10:46:24.214Z"
   },
   {
    "duration": 6,
    "start_time": "2023-10-21T10:46:24.559Z"
   },
   {
    "duration": 201,
    "start_time": "2023-10-21T10:46:24.568Z"
   },
   {
    "duration": 1,
    "start_time": "2023-10-21T10:46:24.771Z"
   },
   {
    "duration": 0,
    "start_time": "2023-10-21T10:46:24.773Z"
   },
   {
    "duration": 0,
    "start_time": "2023-10-21T10:46:24.774Z"
   },
   {
    "duration": 0,
    "start_time": "2023-10-21T10:46:24.775Z"
   },
   {
    "duration": 0,
    "start_time": "2023-10-21T10:46:24.777Z"
   },
   {
    "duration": 0,
    "start_time": "2023-10-21T10:46:24.778Z"
   },
   {
    "duration": 1201,
    "start_time": "2023-10-21T10:48:34.832Z"
   },
   {
    "duration": 113,
    "start_time": "2023-10-21T10:48:36.035Z"
   },
   {
    "duration": 22,
    "start_time": "2023-10-21T10:48:36.149Z"
   },
   {
    "duration": 35,
    "start_time": "2023-10-21T10:48:36.174Z"
   },
   {
    "duration": 28,
    "start_time": "2023-10-21T10:48:36.211Z"
   },
   {
    "duration": 9,
    "start_time": "2023-10-21T10:48:36.241Z"
   },
   {
    "duration": 59,
    "start_time": "2023-10-21T10:48:36.252Z"
   },
   {
    "duration": 42,
    "start_time": "2023-10-21T10:48:36.313Z"
   },
   {
    "duration": 25,
    "start_time": "2023-10-21T10:48:36.357Z"
   },
   {
    "duration": 8,
    "start_time": "2023-10-21T10:48:36.386Z"
   },
   {
    "duration": 33,
    "start_time": "2023-10-21T10:48:36.395Z"
   },
   {
    "duration": 27,
    "start_time": "2023-10-21T10:48:36.430Z"
   },
   {
    "duration": 19,
    "start_time": "2023-10-21T10:48:36.459Z"
   },
   {
    "duration": 43,
    "start_time": "2023-10-21T10:48:36.480Z"
   },
   {
    "duration": 21,
    "start_time": "2023-10-21T10:48:36.525Z"
   },
   {
    "duration": 71,
    "start_time": "2023-10-21T10:48:36.547Z"
   },
   {
    "duration": 44,
    "start_time": "2023-10-21T10:48:36.620Z"
   },
   {
    "duration": 15,
    "start_time": "2023-10-21T10:48:36.666Z"
   },
   {
    "duration": 18,
    "start_time": "2023-10-21T10:48:36.683Z"
   },
   {
    "duration": 54699,
    "start_time": "2023-10-21T10:48:36.702Z"
   },
   {
    "duration": 7,
    "start_time": "2023-10-21T10:49:31.403Z"
   },
   {
    "duration": 45,
    "start_time": "2023-10-21T10:49:31.411Z"
   },
   {
    "duration": 28,
    "start_time": "2023-10-21T10:49:31.458Z"
   },
   {
    "duration": 20,
    "start_time": "2023-10-21T10:49:31.488Z"
   },
   {
    "duration": 21,
    "start_time": "2023-10-21T10:49:31.510Z"
   },
   {
    "duration": 35,
    "start_time": "2023-10-21T10:49:31.533Z"
   },
   {
    "duration": 254,
    "start_time": "2023-10-21T10:49:31.570Z"
   },
   {
    "duration": 58,
    "start_time": "2023-10-21T10:49:31.828Z"
   },
   {
    "duration": 24,
    "start_time": "2023-10-21T10:49:31.888Z"
   },
   {
    "duration": 37,
    "start_time": "2023-10-21T10:49:31.913Z"
   },
   {
    "duration": 31,
    "start_time": "2023-10-21T10:49:31.952Z"
   },
   {
    "duration": 80,
    "start_time": "2023-10-21T10:49:31.985Z"
   },
   {
    "duration": 427,
    "start_time": "2023-10-21T10:49:32.067Z"
   },
   {
    "duration": 28,
    "start_time": "2023-10-21T10:49:32.496Z"
   },
   {
    "duration": 309,
    "start_time": "2023-10-21T10:49:32.526Z"
   },
   {
    "duration": 4,
    "start_time": "2023-10-21T10:49:32.837Z"
   },
   {
    "duration": 108,
    "start_time": "2023-10-21T10:49:32.842Z"
   },
   {
    "duration": 0,
    "start_time": "2023-10-21T10:49:32.952Z"
   },
   {
    "duration": 0,
    "start_time": "2023-10-21T10:49:32.953Z"
   },
   {
    "duration": 0,
    "start_time": "2023-10-21T10:49:32.954Z"
   },
   {
    "duration": 0,
    "start_time": "2023-10-21T10:49:32.955Z"
   },
   {
    "duration": 0,
    "start_time": "2023-10-21T10:49:32.957Z"
   },
   {
    "duration": 0,
    "start_time": "2023-10-21T10:49:32.958Z"
   },
   {
    "duration": 16,
    "start_time": "2023-10-21T10:50:15.533Z"
   },
   {
    "duration": 4,
    "start_time": "2023-10-21T10:59:55.411Z"
   },
   {
    "duration": 30,
    "start_time": "2023-10-21T11:00:09.693Z"
   },
   {
    "duration": 305,
    "start_time": "2023-10-21T11:01:11.102Z"
   },
   {
    "duration": 6,
    "start_time": "2023-10-21T11:01:14.798Z"
   },
   {
    "duration": 10,
    "start_time": "2023-10-21T11:01:16.237Z"
   },
   {
    "duration": 40,
    "start_time": "2023-10-21T11:01:19.945Z"
   },
   {
    "duration": 344,
    "start_time": "2023-10-21T11:01:23.507Z"
   },
   {
    "duration": 10,
    "start_time": "2023-10-21T11:01:23.853Z"
   },
   {
    "duration": 48,
    "start_time": "2023-10-21T11:01:24.001Z"
   },
   {
    "duration": 261,
    "start_time": "2023-10-21T11:01:24.158Z"
   },
   {
    "duration": 304,
    "start_time": "2023-10-21T11:01:26.635Z"
   },
   {
    "duration": 221,
    "start_time": "2023-10-21T11:01:26.942Z"
   },
   {
    "duration": 42,
    "start_time": "2023-10-21T11:02:29.464Z"
   },
   {
    "duration": 246,
    "start_time": "2023-10-21T11:02:41.566Z"
   },
   {
    "duration": 217,
    "start_time": "2023-10-21T11:03:08.631Z"
   },
   {
    "duration": 111,
    "start_time": "2023-10-21T11:04:55.360Z"
   },
   {
    "duration": 258,
    "start_time": "2023-10-21T11:05:04.985Z"
   },
   {
    "duration": 314,
    "start_time": "2023-10-21T11:05:20.941Z"
   },
   {
    "duration": 241,
    "start_time": "2023-10-21T11:06:06.982Z"
   },
   {
    "duration": 220,
    "start_time": "2023-10-21T11:06:31.026Z"
   },
   {
    "duration": 224,
    "start_time": "2023-10-21T11:06:51.878Z"
   },
   {
    "duration": 14,
    "start_time": "2023-10-21T11:07:07.286Z"
   },
   {
    "duration": 225,
    "start_time": "2023-10-21T11:07:17.454Z"
   },
   {
    "duration": 257,
    "start_time": "2023-10-21T11:07:25.302Z"
   },
   {
    "duration": 17,
    "start_time": "2023-10-21T11:07:43.767Z"
   },
   {
    "duration": 311,
    "start_time": "2023-10-21T11:07:52.622Z"
   },
   {
    "duration": 228,
    "start_time": "2023-10-21T11:08:00.019Z"
   },
   {
    "duration": 29,
    "start_time": "2023-10-21T11:08:14.225Z"
   },
   {
    "duration": 11,
    "start_time": "2023-10-21T11:08:26.756Z"
   },
   {
    "duration": 27,
    "start_time": "2023-10-21T11:08:30.900Z"
   },
   {
    "duration": 24,
    "start_time": "2023-10-21T11:09:05.960Z"
   },
   {
    "duration": 227,
    "start_time": "2023-10-21T11:09:15.691Z"
   },
   {
    "duration": 8,
    "start_time": "2023-10-21T11:09:25.296Z"
   },
   {
    "duration": 25,
    "start_time": "2023-10-21T11:09:36.227Z"
   },
   {
    "duration": 24,
    "start_time": "2023-10-21T11:09:42.131Z"
   },
   {
    "duration": 216,
    "start_time": "2023-10-21T11:10:32.939Z"
   },
   {
    "duration": 268,
    "start_time": "2023-10-21T11:10:42.977Z"
   },
   {
    "duration": 36,
    "start_time": "2023-10-21T11:23:28.810Z"
   },
   {
    "duration": 27,
    "start_time": "2023-10-21T11:31:43.634Z"
   },
   {
    "duration": 148,
    "start_time": "2023-10-21T11:32:25.999Z"
   },
   {
    "duration": 300,
    "start_time": "2023-10-21T11:32:51.941Z"
   },
   {
    "duration": 173,
    "start_time": "2023-10-21T11:33:19.545Z"
   },
   {
    "duration": 159,
    "start_time": "2023-10-21T11:33:28.101Z"
   },
   {
    "duration": 5,
    "start_time": "2023-10-21T11:34:27.746Z"
   },
   {
    "duration": 150,
    "start_time": "2023-10-21T11:34:28.770Z"
   },
   {
    "duration": 26,
    "start_time": "2023-10-21T11:34:42.905Z"
   },
   {
    "duration": 156,
    "start_time": "2023-10-21T11:34:56.127Z"
   },
   {
    "duration": 159,
    "start_time": "2023-10-21T11:35:13.149Z"
   },
   {
    "duration": 5,
    "start_time": "2023-10-21T11:35:21.923Z"
   },
   {
    "duration": 162,
    "start_time": "2023-10-21T11:35:33.211Z"
   },
   {
    "duration": 147,
    "start_time": "2023-10-21T11:35:38.286Z"
   },
   {
    "duration": 276,
    "start_time": "2023-10-21T11:37:10.287Z"
   },
   {
    "duration": 292,
    "start_time": "2023-10-21T11:37:20.728Z"
   },
   {
    "duration": 295,
    "start_time": "2023-10-21T11:37:27.452Z"
   },
   {
    "duration": 388,
    "start_time": "2023-10-21T11:37:36.356Z"
   },
   {
    "duration": 313,
    "start_time": "2023-10-21T11:38:02.929Z"
   },
   {
    "duration": 15,
    "start_time": "2023-10-21T11:39:22.690Z"
   },
   {
    "duration": 10,
    "start_time": "2023-10-21T11:39:45.335Z"
   },
   {
    "duration": 70,
    "start_time": "2023-10-21T11:39:55.851Z"
   },
   {
    "duration": 13,
    "start_time": "2023-10-21T11:40:04.495Z"
   },
   {
    "duration": 9,
    "start_time": "2023-10-21T11:40:15.142Z"
   },
   {
    "duration": 14,
    "start_time": "2023-10-21T11:40:21.618Z"
   },
   {
    "duration": 7,
    "start_time": "2023-10-21T11:40:40.087Z"
   },
   {
    "duration": 5,
    "start_time": "2023-10-21T11:42:32.160Z"
   },
   {
    "duration": 15,
    "start_time": "2023-10-21T11:42:36.107Z"
   },
   {
    "duration": 17,
    "start_time": "2023-10-21T11:43:16.828Z"
   },
   {
    "duration": 16,
    "start_time": "2023-10-21T11:44:13.727Z"
   },
   {
    "duration": 26,
    "start_time": "2023-10-21T11:44:21.633Z"
   },
   {
    "duration": 15,
    "start_time": "2023-10-21T11:44:39.259Z"
   },
   {
    "duration": 247,
    "start_time": "2023-10-21T11:45:26.222Z"
   },
   {
    "duration": 223,
    "start_time": "2023-10-21T11:45:28.959Z"
   },
   {
    "duration": 34,
    "start_time": "2023-10-21T11:45:31.534Z"
   },
   {
    "duration": 4,
    "start_time": "2023-10-21T11:45:34.511Z"
   },
   {
    "duration": 150,
    "start_time": "2023-10-21T11:45:36.546Z"
   },
   {
    "duration": 153,
    "start_time": "2023-10-21T11:45:38.718Z"
   },
   {
    "duration": 299,
    "start_time": "2023-10-21T11:45:41.175Z"
   },
   {
    "duration": 6,
    "start_time": "2023-10-21T11:45:45.163Z"
   },
   {
    "duration": 13,
    "start_time": "2023-10-21T11:45:49.802Z"
   },
   {
    "duration": 31,
    "start_time": "2023-10-21T11:45:55.192Z"
   },
   {
    "duration": 17,
    "start_time": "2023-10-21T11:46:08.839Z"
   },
   {
    "duration": 14,
    "start_time": "2023-10-21T11:46:43.127Z"
   },
   {
    "duration": 20,
    "start_time": "2023-10-21T11:46:47.071Z"
   },
   {
    "duration": 8,
    "start_time": "2023-10-21T11:47:48.612Z"
   },
   {
    "duration": 9,
    "start_time": "2023-10-21T11:49:25.605Z"
   },
   {
    "duration": 9,
    "start_time": "2023-10-21T11:50:28.309Z"
   },
   {
    "duration": 10,
    "start_time": "2023-10-21T11:50:44.291Z"
   },
   {
    "duration": 127,
    "start_time": "2023-10-21T11:51:18.007Z"
   },
   {
    "duration": 9,
    "start_time": "2023-10-21T11:51:24.351Z"
   },
   {
    "duration": 10,
    "start_time": "2023-10-21T13:18:27.601Z"
   },
   {
    "duration": 16,
    "start_time": "2023-10-21T13:18:29.504Z"
   },
   {
    "duration": 11,
    "start_time": "2023-10-21T13:20:45.386Z"
   },
   {
    "duration": 13,
    "start_time": "2023-10-21T13:20:52.494Z"
   },
   {
    "duration": 15,
    "start_time": "2023-10-21T13:21:00.975Z"
   },
   {
    "duration": 13,
    "start_time": "2023-10-21T13:21:27.012Z"
   },
   {
    "duration": 15,
    "start_time": "2023-10-21T13:21:38.732Z"
   },
   {
    "duration": 16,
    "start_time": "2023-10-21T13:21:53.512Z"
   },
   {
    "duration": 85,
    "start_time": "2023-10-21T13:22:05.131Z"
   },
   {
    "duration": 104,
    "start_time": "2023-10-21T13:22:16.481Z"
   },
   {
    "duration": 86,
    "start_time": "2023-10-21T13:22:22.479Z"
   },
   {
    "duration": 87,
    "start_time": "2023-10-21T13:22:24.876Z"
   },
   {
    "duration": 19,
    "start_time": "2023-10-21T13:22:29.089Z"
   },
   {
    "duration": 175,
    "start_time": "2023-10-21T13:24:03.992Z"
   },
   {
    "duration": 110,
    "start_time": "2023-10-21T13:24:41.726Z"
   },
   {
    "duration": 460,
    "start_time": "2023-10-21T13:24:47.522Z"
   },
   {
    "duration": 2215,
    "start_time": "2023-10-21T13:25:05.822Z"
   },
   {
    "duration": 295,
    "start_time": "2023-10-21T13:25:18.222Z"
   },
   {
    "duration": 227,
    "start_time": "2023-10-21T13:25:41.115Z"
   },
   {
    "duration": 214,
    "start_time": "2023-10-21T13:25:52.117Z"
   },
   {
    "duration": 156,
    "start_time": "2023-10-21T13:26:21.847Z"
   },
   {
    "duration": 137,
    "start_time": "2023-10-21T13:26:32.904Z"
   },
   {
    "duration": 142,
    "start_time": "2023-10-21T13:26:38.293Z"
   },
   {
    "duration": 163,
    "start_time": "2023-10-21T13:26:43.100Z"
   },
   {
    "duration": 161,
    "start_time": "2023-10-21T13:27:07.181Z"
   },
   {
    "duration": 288,
    "start_time": "2023-10-21T13:27:12.489Z"
   },
   {
    "duration": 185,
    "start_time": "2023-10-21T13:27:23.833Z"
   },
   {
    "duration": 197,
    "start_time": "2023-10-21T13:30:01.604Z"
   },
   {
    "duration": 175,
    "start_time": "2023-10-21T13:39:00.436Z"
   },
   {
    "duration": 229,
    "start_time": "2023-10-21T13:39:29.905Z"
   },
   {
    "duration": 1909,
    "start_time": "2023-10-21T13:40:12.619Z"
   },
   {
    "duration": 1479,
    "start_time": "2023-10-21T13:40:21.616Z"
   },
   {
    "duration": 2096,
    "start_time": "2023-10-21T13:40:27.385Z"
   },
   {
    "duration": 239,
    "start_time": "2023-10-21T13:40:31.634Z"
   },
   {
    "duration": 238,
    "start_time": "2023-10-21T13:40:46.042Z"
   },
   {
    "duration": 255,
    "start_time": "2023-10-21T13:42:12.402Z"
   },
   {
    "duration": 238,
    "start_time": "2023-10-21T13:42:19.518Z"
   },
   {
    "duration": 17,
    "start_time": "2023-10-21T13:42:43.622Z"
   },
   {
    "duration": 238,
    "start_time": "2023-10-21T13:42:54.943Z"
   },
   {
    "duration": 16,
    "start_time": "2023-10-21T13:44:13.987Z"
   },
   {
    "duration": 15,
    "start_time": "2023-10-21T13:44:25.786Z"
   },
   {
    "duration": 256,
    "start_time": "2023-10-21T13:44:28.126Z"
   },
   {
    "duration": 17,
    "start_time": "2023-10-21T13:44:31.609Z"
   },
   {
    "duration": 437,
    "start_time": "2023-10-21T13:45:20.633Z"
   },
   {
    "duration": 19,
    "start_time": "2023-10-21T13:48:38.172Z"
   },
   {
    "duration": 179,
    "start_time": "2023-10-21T13:50:10.122Z"
   },
   {
    "duration": 8,
    "start_time": "2023-10-21T13:52:55.281Z"
   },
   {
    "duration": 9,
    "start_time": "2023-10-21T13:53:42.454Z"
   },
   {
    "duration": 8,
    "start_time": "2023-10-21T13:54:32.229Z"
   },
   {
    "duration": 2,
    "start_time": "2023-10-21T13:55:39.590Z"
   },
   {
    "duration": 8,
    "start_time": "2023-10-21T13:55:55.226Z"
   },
   {
    "duration": 11,
    "start_time": "2023-10-21T13:56:27.803Z"
   },
   {
    "duration": 10,
    "start_time": "2023-10-21T13:56:50.324Z"
   },
   {
    "duration": 16,
    "start_time": "2023-10-21T14:14:53.536Z"
   },
   {
    "duration": 1264,
    "start_time": "2023-10-21T14:15:47.995Z"
   },
   {
    "duration": 1448,
    "start_time": "2023-10-21T14:16:03.320Z"
   },
   {
    "duration": 1368,
    "start_time": "2023-10-21T14:16:13.474Z"
   },
   {
    "duration": 1282,
    "start_time": "2023-10-21T14:16:50.572Z"
   },
   {
    "duration": 1356,
    "start_time": "2023-10-21T14:17:19.806Z"
   },
   {
    "duration": 1316,
    "start_time": "2023-10-21T14:17:26.284Z"
   },
   {
    "duration": 1314,
    "start_time": "2023-10-21T14:17:43.036Z"
   },
   {
    "duration": 1749,
    "start_time": "2023-10-21T14:18:01.637Z"
   },
   {
    "duration": 1230,
    "start_time": "2023-10-21T14:18:24.865Z"
   },
   {
    "duration": 1293,
    "start_time": "2023-10-21T14:18:36.523Z"
   },
   {
    "duration": 110,
    "start_time": "2023-10-21T14:18:37.818Z"
   },
   {
    "duration": 22,
    "start_time": "2023-10-21T14:18:37.929Z"
   },
   {
    "duration": 35,
    "start_time": "2023-10-21T14:18:37.953Z"
   },
   {
    "duration": 52,
    "start_time": "2023-10-21T14:18:37.992Z"
   },
   {
    "duration": 40,
    "start_time": "2023-10-21T14:18:38.046Z"
   },
   {
    "duration": 36,
    "start_time": "2023-10-21T14:18:38.088Z"
   },
   {
    "duration": 49,
    "start_time": "2023-10-21T14:18:38.126Z"
   },
   {
    "duration": 36,
    "start_time": "2023-10-21T14:18:38.177Z"
   },
   {
    "duration": 87,
    "start_time": "2023-10-21T14:18:38.215Z"
   },
   {
    "duration": 80,
    "start_time": "2023-10-21T14:18:38.304Z"
   },
   {
    "duration": 61,
    "start_time": "2023-10-21T14:18:38.386Z"
   },
   {
    "duration": 318,
    "start_time": "2023-10-21T14:18:38.450Z"
   },
   {
    "duration": 347,
    "start_time": "2023-10-21T14:18:38.773Z"
   },
   {
    "duration": 179,
    "start_time": "2023-10-21T14:18:39.122Z"
   },
   {
    "duration": 21,
    "start_time": "2023-10-21T14:18:39.303Z"
   },
   {
    "duration": 33,
    "start_time": "2023-10-21T14:18:39.326Z"
   },
   {
    "duration": 23,
    "start_time": "2023-10-21T14:18:39.361Z"
   },
   {
    "duration": 32,
    "start_time": "2023-10-21T14:18:39.386Z"
   },
   {
    "duration": 56168,
    "start_time": "2023-10-21T14:18:39.420Z"
   },
   {
    "duration": 12,
    "start_time": "2023-10-21T14:19:35.590Z"
   },
   {
    "duration": 79,
    "start_time": "2023-10-21T14:19:35.604Z"
   },
   {
    "duration": 20,
    "start_time": "2023-10-21T14:19:35.685Z"
   },
   {
    "duration": 36,
    "start_time": "2023-10-21T14:19:35.708Z"
   },
   {
    "duration": 14,
    "start_time": "2023-10-21T14:19:35.746Z"
   },
   {
    "duration": 18,
    "start_time": "2023-10-21T14:19:35.762Z"
   },
   {
    "duration": 270,
    "start_time": "2023-10-21T14:19:35.782Z"
   },
   {
    "duration": 66,
    "start_time": "2023-10-21T14:19:36.054Z"
   },
   {
    "duration": 10,
    "start_time": "2023-10-21T14:19:36.122Z"
   },
   {
    "duration": 19,
    "start_time": "2023-10-21T14:19:36.134Z"
   },
   {
    "duration": 18,
    "start_time": "2023-10-21T14:19:36.155Z"
   },
   {
    "duration": 76,
    "start_time": "2023-10-21T14:19:36.175Z"
   },
   {
    "duration": 474,
    "start_time": "2023-10-21T14:19:36.253Z"
   },
   {
    "duration": 32,
    "start_time": "2023-10-21T14:19:36.729Z"
   },
   {
    "duration": 339,
    "start_time": "2023-10-21T14:19:36.763Z"
   },
   {
    "duration": 5,
    "start_time": "2023-10-21T14:19:37.104Z"
   },
   {
    "duration": 143,
    "start_time": "2023-10-21T14:19:37.111Z"
   },
   {
    "duration": 335,
    "start_time": "2023-10-21T14:19:37.256Z"
   },
   {
    "duration": 14,
    "start_time": "2023-10-21T14:19:37.594Z"
   },
   {
    "duration": 61,
    "start_time": "2023-10-21T14:19:37.610Z"
   },
   {
    "duration": 285,
    "start_time": "2023-10-21T14:19:37.676Z"
   },
   {
    "duration": 338,
    "start_time": "2023-10-21T14:19:37.963Z"
   },
   {
    "duration": 40,
    "start_time": "2023-10-21T14:19:38.303Z"
   },
   {
    "duration": 4,
    "start_time": "2023-10-21T14:19:38.345Z"
   },
   {
    "duration": 207,
    "start_time": "2023-10-21T14:19:38.351Z"
   },
   {
    "duration": 182,
    "start_time": "2023-10-21T14:19:38.560Z"
   },
   {
    "duration": 316,
    "start_time": "2023-10-21T14:19:38.744Z"
   },
   {
    "duration": 7,
    "start_time": "2023-10-21T14:19:39.062Z"
   },
   {
    "duration": 33,
    "start_time": "2023-10-21T14:19:39.070Z"
   },
   {
    "duration": 8,
    "start_time": "2023-10-21T14:19:39.104Z"
   },
   {
    "duration": 17,
    "start_time": "2023-10-21T14:19:39.114Z"
   },
   {
    "duration": 261,
    "start_time": "2023-10-21T14:19:39.132Z"
   },
   {
    "duration": 19,
    "start_time": "2023-10-21T14:19:39.395Z"
   },
   {
    "duration": 268,
    "start_time": "2023-10-21T14:19:39.416Z"
   },
   {
    "duration": 22,
    "start_time": "2023-10-21T14:19:39.686Z"
   },
   {
    "duration": 197,
    "start_time": "2023-10-21T14:19:39.710Z"
   },
   {
    "duration": 1385,
    "start_time": "2023-10-21T14:19:39.909Z"
   },
   {
    "duration": 0,
    "start_time": "2023-10-21T14:19:41.296Z"
   },
   {
    "duration": 0,
    "start_time": "2023-10-21T14:19:41.298Z"
   },
   {
    "duration": 17,
    "start_time": "2023-10-21T14:22:15.587Z"
   },
   {
    "duration": 2431,
    "start_time": "2023-10-21T14:22:18.676Z"
   },
   {
    "duration": 5,
    "start_time": "2023-10-21T14:22:47.041Z"
   },
   {
    "duration": 24,
    "start_time": "2023-10-21T14:23:23.293Z"
   },
   {
    "duration": 26,
    "start_time": "2023-10-21T14:23:44.112Z"
   },
   {
    "duration": 9,
    "start_time": "2023-10-21T14:23:58.366Z"
   },
   {
    "duration": 9,
    "start_time": "2023-10-21T14:24:02.649Z"
   },
   {
    "duration": 73,
    "start_time": "2023-10-21T14:25:28.361Z"
   },
   {
    "duration": 100,
    "start_time": "2023-10-21T14:25:43.164Z"
   },
   {
    "duration": 82,
    "start_time": "2023-10-21T14:26:02.963Z"
   },
   {
    "duration": 7,
    "start_time": "2023-10-21T14:26:18.467Z"
   },
   {
    "duration": 9,
    "start_time": "2023-10-21T14:26:28.639Z"
   },
   {
    "duration": 8,
    "start_time": "2023-10-21T14:26:41.408Z"
   },
   {
    "duration": 9,
    "start_time": "2023-10-21T14:26:45.367Z"
   },
   {
    "duration": 114,
    "start_time": "2023-10-21T14:27:08.385Z"
   },
   {
    "duration": 11,
    "start_time": "2023-10-21T14:27:26.561Z"
   },
   {
    "duration": 140,
    "start_time": "2023-10-21T14:28:01.830Z"
   },
   {
    "duration": 6,
    "start_time": "2023-10-21T14:28:09.798Z"
   },
   {
    "duration": 7,
    "start_time": "2023-10-21T14:28:19.274Z"
   },
   {
    "duration": 14,
    "start_time": "2023-10-21T14:28:34.531Z"
   },
   {
    "duration": 11,
    "start_time": "2023-10-21T14:28:45.859Z"
   },
   {
    "duration": 200,
    "start_time": "2023-10-21T14:30:04.990Z"
   },
   {
    "duration": 216,
    "start_time": "2023-10-21T14:30:22.375Z"
   },
   {
    "duration": 183,
    "start_time": "2023-10-21T14:31:41.293Z"
   },
   {
    "duration": 247,
    "start_time": "2023-10-21T14:31:59.869Z"
   },
   {
    "duration": 330,
    "start_time": "2023-10-21T14:32:02.906Z"
   },
   {
    "duration": 178,
    "start_time": "2023-10-21T14:32:11.488Z"
   },
   {
    "duration": 198,
    "start_time": "2023-10-21T14:33:42.266Z"
   },
   {
    "duration": 8,
    "start_time": "2023-10-21T14:33:49.754Z"
   },
   {
    "duration": 180,
    "start_time": "2023-10-21T14:33:53.032Z"
   },
   {
    "duration": 10,
    "start_time": "2023-10-21T14:34:23.399Z"
   },
   {
    "duration": 8,
    "start_time": "2023-10-21T14:35:55.188Z"
   },
   {
    "duration": 9,
    "start_time": "2023-10-21T14:36:31.797Z"
   },
   {
    "duration": 8,
    "start_time": "2023-10-21T14:37:08.819Z"
   },
   {
    "duration": 9,
    "start_time": "2023-10-21T14:37:17.768Z"
   },
   {
    "duration": 9,
    "start_time": "2023-10-21T14:37:25.802Z"
   },
   {
    "duration": 10,
    "start_time": "2023-10-21T14:50:52.925Z"
   },
   {
    "duration": 15,
    "start_time": "2023-10-21T14:50:55.196Z"
   },
   {
    "duration": 8,
    "start_time": "2023-10-21T14:51:27.623Z"
   },
   {
    "duration": 172,
    "start_time": "2023-10-21T14:52:29.526Z"
   },
   {
    "duration": 164,
    "start_time": "2023-10-21T14:52:51.879Z"
   },
   {
    "duration": 168,
    "start_time": "2023-10-21T14:53:01.509Z"
   },
   {
    "duration": 9,
    "start_time": "2023-10-21T14:54:42.725Z"
   },
   {
    "duration": 5,
    "start_time": "2023-10-21T15:10:02.070Z"
   },
   {
    "duration": 12,
    "start_time": "2023-10-21T15:10:21.075Z"
   },
   {
    "duration": 11,
    "start_time": "2023-10-21T15:15:33.092Z"
   },
   {
    "duration": 10,
    "start_time": "2023-10-21T15:15:55.901Z"
   },
   {
    "duration": 12,
    "start_time": "2023-10-21T15:16:29.846Z"
   },
   {
    "duration": 1262,
    "start_time": "2023-10-21T15:26:15.424Z"
   },
   {
    "duration": 173,
    "start_time": "2023-10-21T15:26:16.688Z"
   },
   {
    "duration": 21,
    "start_time": "2023-10-21T15:26:16.863Z"
   },
   {
    "duration": 16,
    "start_time": "2023-10-21T15:26:16.886Z"
   },
   {
    "duration": 26,
    "start_time": "2023-10-21T15:26:16.905Z"
   },
   {
    "duration": 5,
    "start_time": "2023-10-21T15:26:16.933Z"
   },
   {
    "duration": 7,
    "start_time": "2023-10-21T15:26:16.941Z"
   },
   {
    "duration": 3,
    "start_time": "2023-10-21T15:26:16.950Z"
   },
   {
    "duration": 23,
    "start_time": "2023-10-21T15:26:16.955Z"
   },
   {
    "duration": 25,
    "start_time": "2023-10-21T15:26:16.979Z"
   },
   {
    "duration": 9,
    "start_time": "2023-10-21T15:26:17.006Z"
   },
   {
    "duration": 21,
    "start_time": "2023-10-21T15:26:17.016Z"
   },
   {
    "duration": 20,
    "start_time": "2023-10-21T15:26:17.038Z"
   },
   {
    "duration": 19,
    "start_time": "2023-10-21T15:26:17.062Z"
   },
   {
    "duration": 25,
    "start_time": "2023-10-21T15:26:17.082Z"
   },
   {
    "duration": 9,
    "start_time": "2023-10-21T15:26:17.109Z"
   },
   {
    "duration": 51,
    "start_time": "2023-10-21T15:26:17.120Z"
   },
   {
    "duration": 32,
    "start_time": "2023-10-21T15:26:17.173Z"
   },
   {
    "duration": 11,
    "start_time": "2023-10-21T15:26:17.207Z"
   },
   {
    "duration": 55737,
    "start_time": "2023-10-21T15:26:17.220Z"
   },
   {
    "duration": 8,
    "start_time": "2023-10-21T15:27:12.958Z"
   },
   {
    "duration": 17,
    "start_time": "2023-10-21T15:27:12.968Z"
   },
   {
    "duration": 7,
    "start_time": "2023-10-21T15:27:13.000Z"
   },
   {
    "duration": 21,
    "start_time": "2023-10-21T15:27:13.009Z"
   },
   {
    "duration": 35,
    "start_time": "2023-10-21T15:27:13.031Z"
   },
   {
    "duration": 26,
    "start_time": "2023-10-21T15:27:13.068Z"
   },
   {
    "duration": 226,
    "start_time": "2023-10-21T15:27:13.095Z"
   },
   {
    "duration": 60,
    "start_time": "2023-10-21T15:27:13.323Z"
   },
   {
    "duration": 25,
    "start_time": "2023-10-21T15:27:13.384Z"
   },
   {
    "duration": 19,
    "start_time": "2023-10-21T15:27:13.411Z"
   },
   {
    "duration": 24,
    "start_time": "2023-10-21T15:27:13.431Z"
   },
   {
    "duration": 76,
    "start_time": "2023-10-21T15:27:13.457Z"
   },
   {
    "duration": 463,
    "start_time": "2023-10-21T15:27:13.535Z"
   },
   {
    "duration": 31,
    "start_time": "2023-10-21T15:27:14.001Z"
   },
   {
    "duration": 342,
    "start_time": "2023-10-21T15:27:14.034Z"
   },
   {
    "duration": 6,
    "start_time": "2023-10-21T15:27:14.378Z"
   },
   {
    "duration": 26,
    "start_time": "2023-10-21T15:27:14.402Z"
   },
   {
    "duration": 438,
    "start_time": "2023-10-21T15:27:14.430Z"
   },
   {
    "duration": 8,
    "start_time": "2023-10-21T15:27:14.870Z"
   },
   {
    "duration": 81,
    "start_time": "2023-10-21T15:27:14.880Z"
   },
   {
    "duration": 282,
    "start_time": "2023-10-21T15:27:14.966Z"
   },
   {
    "duration": 338,
    "start_time": "2023-10-21T15:27:15.249Z"
   },
   {
    "duration": 41,
    "start_time": "2023-10-21T15:27:15.589Z"
   },
   {
    "duration": 32,
    "start_time": "2023-10-21T15:27:15.631Z"
   },
   {
    "duration": 185,
    "start_time": "2023-10-21T15:27:15.665Z"
   },
   {
    "duration": 161,
    "start_time": "2023-10-21T15:27:15.852Z"
   },
   {
    "duration": 349,
    "start_time": "2023-10-21T15:27:16.014Z"
   },
   {
    "duration": 8,
    "start_time": "2023-10-21T15:27:16.365Z"
   },
   {
    "duration": 28,
    "start_time": "2023-10-21T15:27:16.376Z"
   },
   {
    "duration": 86,
    "start_time": "2023-10-21T15:27:16.406Z"
   },
   {
    "duration": 57,
    "start_time": "2023-10-21T15:27:16.494Z"
   },
   {
    "duration": 320,
    "start_time": "2023-10-21T15:27:16.553Z"
   },
   {
    "duration": 28,
    "start_time": "2023-10-21T15:27:16.875Z"
   },
   {
    "duration": 277,
    "start_time": "2023-10-21T15:27:16.905Z"
   },
   {
    "duration": 24,
    "start_time": "2023-10-21T15:27:17.184Z"
   },
   {
    "duration": 211,
    "start_time": "2023-10-21T15:27:17.210Z"
   },
   {
    "duration": 8,
    "start_time": "2023-10-21T15:27:17.423Z"
   },
   {
    "duration": 193,
    "start_time": "2023-10-21T15:27:17.433Z"
   },
   {
    "duration": 10,
    "start_time": "2023-10-21T15:27:17.628Z"
   },
   {
    "duration": 50,
    "start_time": "2023-10-21T15:27:17.640Z"
   },
   {
    "duration": 42,
    "start_time": "2023-10-21T15:27:17.691Z"
   },
   {
    "duration": 30,
    "start_time": "2023-10-21T15:27:17.735Z"
   },
   {
    "duration": 180,
    "start_time": "2023-10-21T15:27:17.767Z"
   },
   {
    "duration": 11,
    "start_time": "2023-10-21T15:27:17.948Z"
   },
   {
    "duration": 37,
    "start_time": "2023-10-21T15:27:17.961Z"
   },
   {
    "duration": 1360,
    "start_time": "2023-10-22T08:49:57.995Z"
   },
   {
    "duration": 157,
    "start_time": "2023-10-22T08:49:59.357Z"
   },
   {
    "duration": 19,
    "start_time": "2023-10-22T08:49:59.516Z"
   },
   {
    "duration": 17,
    "start_time": "2023-10-22T08:49:59.536Z"
   },
   {
    "duration": 32,
    "start_time": "2023-10-22T08:49:59.555Z"
   },
   {
    "duration": 4,
    "start_time": "2023-10-22T08:49:59.589Z"
   },
   {
    "duration": 7,
    "start_time": "2023-10-22T08:49:59.595Z"
   },
   {
    "duration": 7,
    "start_time": "2023-10-22T08:49:59.604Z"
   },
   {
    "duration": 14,
    "start_time": "2023-10-22T08:49:59.613Z"
   },
   {
    "duration": 15,
    "start_time": "2023-10-22T08:49:59.629Z"
   },
   {
    "duration": 15,
    "start_time": "2023-10-22T08:49:59.646Z"
   },
   {
    "duration": 23,
    "start_time": "2023-10-22T08:49:59.662Z"
   },
   {
    "duration": 7,
    "start_time": "2023-10-22T08:49:59.687Z"
   },
   {
    "duration": 16,
    "start_time": "2023-10-22T08:49:59.697Z"
   },
   {
    "duration": 10,
    "start_time": "2023-10-22T08:49:59.715Z"
   },
   {
    "duration": 6,
    "start_time": "2023-10-22T08:49:59.726Z"
   },
   {
    "duration": 28,
    "start_time": "2023-10-22T08:49:59.745Z"
   },
   {
    "duration": 13,
    "start_time": "2023-10-22T08:49:59.775Z"
   },
   {
    "duration": 10,
    "start_time": "2023-10-22T08:49:59.790Z"
   },
   {
    "duration": 48932,
    "start_time": "2023-10-22T08:49:59.802Z"
   },
   {
    "duration": 11,
    "start_time": "2023-10-22T08:50:48.735Z"
   },
   {
    "duration": 31,
    "start_time": "2023-10-22T08:50:48.748Z"
   },
   {
    "duration": 31,
    "start_time": "2023-10-22T08:50:48.780Z"
   },
   {
    "duration": 18,
    "start_time": "2023-10-22T08:50:48.813Z"
   },
   {
    "duration": 17,
    "start_time": "2023-10-22T08:50:48.833Z"
   },
   {
    "duration": 17,
    "start_time": "2023-10-22T08:50:48.852Z"
   },
   {
    "duration": 200,
    "start_time": "2023-10-22T08:50:48.870Z"
   },
   {
    "duration": 51,
    "start_time": "2023-10-22T08:50:49.071Z"
   },
   {
    "duration": 21,
    "start_time": "2023-10-22T08:50:49.124Z"
   },
   {
    "duration": 14,
    "start_time": "2023-10-22T08:50:49.147Z"
   },
   {
    "duration": 14,
    "start_time": "2023-10-22T08:50:49.163Z"
   },
   {
    "duration": 65,
    "start_time": "2023-10-22T08:50:49.179Z"
   },
   {
    "duration": 400,
    "start_time": "2023-10-22T08:50:49.246Z"
   },
   {
    "duration": 26,
    "start_time": "2023-10-22T08:50:49.647Z"
   },
   {
    "duration": 279,
    "start_time": "2023-10-22T08:50:49.674Z"
   },
   {
    "duration": 4,
    "start_time": "2023-10-22T08:50:49.955Z"
   },
   {
    "duration": 34,
    "start_time": "2023-10-22T08:50:49.960Z"
   },
   {
    "duration": 292,
    "start_time": "2023-10-22T08:50:49.996Z"
   },
   {
    "duration": 7,
    "start_time": "2023-10-22T08:50:50.290Z"
   },
   {
    "duration": 47,
    "start_time": "2023-10-22T08:50:50.298Z"
   },
   {
    "duration": 230,
    "start_time": "2023-10-22T08:50:50.348Z"
   },
   {
    "duration": 283,
    "start_time": "2023-10-22T08:50:50.579Z"
   },
   {
    "duration": 29,
    "start_time": "2023-10-22T08:50:50.863Z"
   },
   {
    "duration": 3,
    "start_time": "2023-10-22T08:50:50.893Z"
   },
   {
    "duration": 151,
    "start_time": "2023-10-22T08:50:50.897Z"
   },
   {
    "duration": 141,
    "start_time": "2023-10-22T08:50:51.050Z"
   },
   {
    "duration": 255,
    "start_time": "2023-10-22T08:50:51.193Z"
   },
   {
    "duration": 7,
    "start_time": "2023-10-22T08:50:51.449Z"
   },
   {
    "duration": 8,
    "start_time": "2023-10-22T08:50:51.457Z"
   },
   {
    "duration": 10,
    "start_time": "2023-10-22T08:50:51.466Z"
   },
   {
    "duration": 14,
    "start_time": "2023-10-22T08:50:51.477Z"
   },
   {
    "duration": 231,
    "start_time": "2023-10-22T08:50:51.493Z"
   },
   {
    "duration": 20,
    "start_time": "2023-10-22T08:50:51.725Z"
   },
   {
    "duration": 234,
    "start_time": "2023-10-22T08:50:51.746Z"
   },
   {
    "duration": 12,
    "start_time": "2023-10-22T08:50:51.982Z"
   },
   {
    "duration": 181,
    "start_time": "2023-10-22T08:50:51.995Z"
   },
   {
    "duration": 7,
    "start_time": "2023-10-22T08:50:52.177Z"
   },
   {
    "duration": 166,
    "start_time": "2023-10-22T08:50:52.185Z"
   },
   {
    "duration": 8,
    "start_time": "2023-10-22T08:50:52.353Z"
   },
   {
    "duration": 15,
    "start_time": "2023-10-22T08:50:52.363Z"
   },
   {
    "duration": 13,
    "start_time": "2023-10-22T08:50:52.380Z"
   },
   {
    "duration": 19,
    "start_time": "2023-10-22T08:50:52.395Z"
   },
   {
    "duration": 152,
    "start_time": "2023-10-22T08:50:52.415Z"
   },
   {
    "duration": 10,
    "start_time": "2023-10-22T08:50:52.569Z"
   },
   {
    "duration": 22,
    "start_time": "2023-10-22T08:50:52.581Z"
   },
   {
    "duration": 4,
    "start_time": "2023-10-22T08:57:25.406Z"
   },
   {
    "duration": 3,
    "start_time": "2023-10-22T08:57:28.940Z"
   },
   {
    "duration": 46,
    "start_time": "2023-10-22T08:57:31.060Z"
   },
   {
    "duration": 40,
    "start_time": "2023-10-22T08:57:56.157Z"
   },
   {
    "duration": 56,
    "start_time": "2023-10-22T08:58:33.896Z"
   },
   {
    "duration": 44,
    "start_time": "2023-10-22T08:59:01.885Z"
   },
   {
    "duration": 70,
    "start_time": "2023-10-22T09:01:05.994Z"
   },
   {
    "duration": 4,
    "start_time": "2023-10-22T09:01:35.106Z"
   },
   {
    "duration": 89,
    "start_time": "2023-10-22T09:01:51.066Z"
   },
   {
    "duration": 4,
    "start_time": "2023-10-22T09:01:58.043Z"
   },
   {
    "duration": 4,
    "start_time": "2023-10-22T09:02:01.132Z"
   },
   {
    "duration": 94,
    "start_time": "2023-10-22T09:02:19.809Z"
   },
   {
    "duration": 9,
    "start_time": "2023-10-22T09:03:09.560Z"
   },
   {
    "duration": 2,
    "start_time": "2023-10-22T09:03:47.616Z"
   },
   {
    "duration": 9,
    "start_time": "2023-10-22T09:04:27.992Z"
   },
   {
    "duration": 8,
    "start_time": "2023-10-22T09:04:36.644Z"
   },
   {
    "duration": 4,
    "start_time": "2023-10-22T09:08:40.471Z"
   },
   {
    "duration": 8,
    "start_time": "2023-10-22T09:08:43.924Z"
   },
   {
    "duration": 4,
    "start_time": "2023-10-22T09:08:47.300Z"
   },
   {
    "duration": 4,
    "start_time": "2023-10-22T09:08:58.100Z"
   },
   {
    "duration": 3,
    "start_time": "2023-10-22T09:09:17.540Z"
   },
   {
    "duration": 4,
    "start_time": "2023-10-22T09:09:21.528Z"
   },
   {
    "duration": 10,
    "start_time": "2023-10-22T09:12:03.146Z"
   },
   {
    "duration": 6,
    "start_time": "2023-10-22T09:12:23.990Z"
   },
   {
    "duration": 4,
    "start_time": "2023-10-22T09:12:31.794Z"
   },
   {
    "duration": 6,
    "start_time": "2023-10-22T09:13:00.682Z"
   },
   {
    "duration": 4,
    "start_time": "2023-10-22T09:13:01.931Z"
   },
   {
    "duration": 8,
    "start_time": "2023-10-22T09:13:09.995Z"
   },
   {
    "duration": 4,
    "start_time": "2023-10-22T09:13:24.320Z"
   },
   {
    "duration": 8,
    "start_time": "2023-10-22T09:14:07.075Z"
   },
   {
    "duration": 4,
    "start_time": "2023-10-22T09:16:50.629Z"
   },
   {
    "duration": 4,
    "start_time": "2023-10-22T09:16:52.732Z"
   },
   {
    "duration": 5,
    "start_time": "2023-10-22T09:17:14.202Z"
   },
   {
    "duration": 4,
    "start_time": "2023-10-22T09:17:16.218Z"
   },
   {
    "duration": 4,
    "start_time": "2023-10-22T09:17:50.622Z"
   },
   {
    "duration": 5,
    "start_time": "2023-10-22T09:17:51.067Z"
   },
   {
    "duration": 75,
    "start_time": "2023-10-22T09:18:11.034Z"
   },
   {
    "duration": 4,
    "start_time": "2023-10-22T09:18:18.939Z"
   },
   {
    "duration": 6,
    "start_time": "2023-10-22T09:18:23.383Z"
   },
   {
    "duration": 7,
    "start_time": "2023-10-22T09:18:58.765Z"
   },
   {
    "duration": 16,
    "start_time": "2023-10-22T09:19:00.168Z"
   },
   {
    "duration": 169,
    "start_time": "2023-10-22T09:20:24.805Z"
   },
   {
    "duration": 177,
    "start_time": "2023-10-22T09:20:55.825Z"
   },
   {
    "duration": 280,
    "start_time": "2023-10-22T09:21:00.876Z"
   },
   {
    "duration": 177,
    "start_time": "2023-10-22T09:21:13.910Z"
   },
   {
    "duration": 151,
    "start_time": "2023-10-22T09:21:19.917Z"
   },
   {
    "duration": 71,
    "start_time": "2023-10-22T09:21:46.948Z"
   },
   {
    "duration": 5,
    "start_time": "2023-10-22T09:23:50.299Z"
   },
   {
    "duration": 22,
    "start_time": "2023-10-22T09:24:02.177Z"
   },
   {
    "duration": 314,
    "start_time": "2023-10-22T09:24:10.223Z"
   },
   {
    "duration": 17,
    "start_time": "2023-10-22T09:24:24.138Z"
   },
   {
    "duration": 34,
    "start_time": "2023-10-22T09:25:21.961Z"
   },
   {
    "duration": 252,
    "start_time": "2023-10-22T09:25:28.089Z"
   },
   {
    "duration": 202,
    "start_time": "2023-10-22T09:25:38.280Z"
   },
   {
    "duration": 44,
    "start_time": "2023-10-22T09:25:44.032Z"
   },
   {
    "duration": 198,
    "start_time": "2023-10-22T09:26:19.141Z"
   },
   {
    "duration": 211,
    "start_time": "2023-10-22T09:26:25.353Z"
   },
   {
    "duration": 300,
    "start_time": "2023-10-22T09:26:37.745Z"
   },
   {
    "duration": 220,
    "start_time": "2023-10-22T09:26:43.622Z"
   },
   {
    "duration": 154,
    "start_time": "2023-10-22T09:27:47.535Z"
   },
   {
    "duration": 211,
    "start_time": "2023-10-22T09:27:58.926Z"
   },
   {
    "duration": 261,
    "start_time": "2023-10-22T09:28:04.161Z"
   },
   {
    "duration": 253,
    "start_time": "2023-10-22T09:28:59.034Z"
   },
   {
    "duration": 331,
    "start_time": "2023-10-22T09:29:03.570Z"
   },
   {
    "duration": 242,
    "start_time": "2023-10-22T09:29:15.055Z"
   },
   {
    "duration": 232,
    "start_time": "2023-10-22T09:29:22.810Z"
   },
   {
    "duration": 189,
    "start_time": "2023-10-22T09:29:57.677Z"
   },
   {
    "duration": 208,
    "start_time": "2023-10-22T09:30:11.808Z"
   },
   {
    "duration": 197,
    "start_time": "2023-10-22T09:30:17.504Z"
   },
   {
    "duration": 382,
    "start_time": "2023-10-22T09:30:55.335Z"
   },
   {
    "duration": 242,
    "start_time": "2023-10-22T09:30:59.975Z"
   },
   {
    "duration": 302,
    "start_time": "2023-10-22T09:31:04.000Z"
   },
   {
    "duration": 75,
    "start_time": "2023-10-22T09:31:31.348Z"
   },
   {
    "duration": 4,
    "start_time": "2023-10-22T09:36:12.603Z"
   },
   {
    "duration": 143,
    "start_time": "2023-10-22T09:36:15.828Z"
   },
   {
    "duration": 104,
    "start_time": "2023-10-22T09:36:19.271Z"
   },
   {
    "duration": 1267,
    "start_time": "2023-10-22T09:36:29.463Z"
   },
   {
    "duration": 130,
    "start_time": "2023-10-22T09:36:30.732Z"
   },
   {
    "duration": 21,
    "start_time": "2023-10-22T09:36:30.864Z"
   },
   {
    "duration": 51,
    "start_time": "2023-10-22T09:36:30.886Z"
   },
   {
    "duration": 128,
    "start_time": "2023-10-22T09:36:30.939Z"
   },
   {
    "duration": 155,
    "start_time": "2023-10-22T09:36:31.069Z"
   },
   {
    "duration": 11,
    "start_time": "2023-10-22T09:36:31.226Z"
   },
   {
    "duration": 53,
    "start_time": "2023-10-22T09:36:31.238Z"
   },
   {
    "duration": 52,
    "start_time": "2023-10-22T09:36:31.292Z"
   },
   {
    "duration": 67,
    "start_time": "2023-10-22T09:36:31.347Z"
   },
   {
    "duration": 23,
    "start_time": "2023-10-22T09:36:31.416Z"
   },
   {
    "duration": 26,
    "start_time": "2023-10-22T09:36:31.441Z"
   },
   {
    "duration": 27,
    "start_time": "2023-10-22T09:36:31.469Z"
   },
   {
    "duration": 29,
    "start_time": "2023-10-22T09:36:31.499Z"
   },
   {
    "duration": 29,
    "start_time": "2023-10-22T09:36:31.530Z"
   },
   {
    "duration": 56,
    "start_time": "2023-10-22T09:36:31.564Z"
   },
   {
    "duration": 50,
    "start_time": "2023-10-22T09:36:31.621Z"
   },
   {
    "duration": 26,
    "start_time": "2023-10-22T09:36:31.672Z"
   },
   {
    "duration": 42,
    "start_time": "2023-10-22T09:36:31.699Z"
   },
   {
    "duration": 16,
    "start_time": "2023-10-22T09:36:31.743Z"
   },
   {
    "duration": 30,
    "start_time": "2023-10-22T09:36:31.761Z"
   },
   {
    "duration": 52481,
    "start_time": "2023-10-22T09:36:31.793Z"
   },
   {
    "duration": 8,
    "start_time": "2023-10-22T09:37:24.276Z"
   },
   {
    "duration": 39,
    "start_time": "2023-10-22T09:37:24.286Z"
   },
   {
    "duration": 11,
    "start_time": "2023-10-22T09:37:24.327Z"
   },
   {
    "duration": 34,
    "start_time": "2023-10-22T09:37:24.342Z"
   },
   {
    "duration": 9,
    "start_time": "2023-10-22T09:37:24.378Z"
   },
   {
    "duration": 15,
    "start_time": "2023-10-22T09:37:24.388Z"
   },
   {
    "duration": 254,
    "start_time": "2023-10-22T09:37:24.405Z"
   },
   {
    "duration": 182,
    "start_time": "2023-10-22T09:37:24.662Z"
   },
   {
    "duration": 62,
    "start_time": "2023-10-22T09:37:24.847Z"
   },
   {
    "duration": 9,
    "start_time": "2023-10-22T09:37:24.911Z"
   },
   {
    "duration": 30,
    "start_time": "2023-10-22T09:37:24.921Z"
   },
   {
    "duration": 45,
    "start_time": "2023-10-22T09:37:24.954Z"
   },
   {
    "duration": 100,
    "start_time": "2023-10-22T09:37:25.000Z"
   },
   {
    "duration": 412,
    "start_time": "2023-10-22T09:37:25.102Z"
   },
   {
    "duration": 32,
    "start_time": "2023-10-22T09:37:25.516Z"
   },
   {
    "duration": 303,
    "start_time": "2023-10-22T09:37:25.552Z"
   },
   {
    "duration": 9,
    "start_time": "2023-10-22T09:37:25.857Z"
   },
   {
    "duration": 25,
    "start_time": "2023-10-22T09:37:25.867Z"
   },
   {
    "duration": 348,
    "start_time": "2023-10-22T09:37:25.896Z"
   },
   {
    "duration": 13,
    "start_time": "2023-10-22T09:37:26.247Z"
   },
   {
    "duration": 38,
    "start_time": "2023-10-22T09:37:26.263Z"
   },
   {
    "duration": 290,
    "start_time": "2023-10-22T09:37:26.302Z"
   },
   {
    "duration": 332,
    "start_time": "2023-10-22T09:37:26.594Z"
   },
   {
    "duration": 40,
    "start_time": "2023-10-22T09:37:26.927Z"
   },
   {
    "duration": 4,
    "start_time": "2023-10-22T09:37:26.969Z"
   },
   {
    "duration": 162,
    "start_time": "2023-10-22T09:37:26.974Z"
   },
   {
    "duration": 151,
    "start_time": "2023-10-22T09:37:27.138Z"
   },
   {
    "duration": 267,
    "start_time": "2023-10-22T09:37:27.290Z"
   },
   {
    "duration": 11,
    "start_time": "2023-10-22T09:37:27.559Z"
   },
   {
    "duration": 112,
    "start_time": "2023-10-22T09:37:27.572Z"
   },
   {
    "duration": 0,
    "start_time": "2023-10-22T09:37:27.685Z"
   },
   {
    "duration": 0,
    "start_time": "2023-10-22T09:37:27.687Z"
   },
   {
    "duration": 0,
    "start_time": "2023-10-22T09:37:27.688Z"
   },
   {
    "duration": 0,
    "start_time": "2023-10-22T09:37:27.689Z"
   },
   {
    "duration": 0,
    "start_time": "2023-10-22T09:37:27.690Z"
   },
   {
    "duration": 0,
    "start_time": "2023-10-22T09:37:27.691Z"
   },
   {
    "duration": 0,
    "start_time": "2023-10-22T09:37:27.692Z"
   },
   {
    "duration": 0,
    "start_time": "2023-10-22T09:37:27.693Z"
   },
   {
    "duration": 0,
    "start_time": "2023-10-22T09:37:27.694Z"
   },
   {
    "duration": 0,
    "start_time": "2023-10-22T09:37:27.695Z"
   },
   {
    "duration": 0,
    "start_time": "2023-10-22T09:37:27.696Z"
   },
   {
    "duration": 1,
    "start_time": "2023-10-22T09:37:27.697Z"
   },
   {
    "duration": 0,
    "start_time": "2023-10-22T09:37:27.699Z"
   },
   {
    "duration": 0,
    "start_time": "2023-10-22T09:37:27.700Z"
   },
   {
    "duration": 0,
    "start_time": "2023-10-22T09:37:27.701Z"
   },
   {
    "duration": 0,
    "start_time": "2023-10-22T09:37:27.702Z"
   },
   {
    "duration": 7,
    "start_time": "2023-10-22T09:38:23.741Z"
   },
   {
    "duration": 4,
    "start_time": "2023-10-22T09:39:37.302Z"
   },
   {
    "duration": 175,
    "start_time": "2023-10-22T09:39:54.592Z"
   },
   {
    "duration": 144,
    "start_time": "2023-10-22T09:40:28.861Z"
   },
   {
    "duration": 304,
    "start_time": "2023-10-22T09:41:00.964Z"
   },
   {
    "duration": 5,
    "start_time": "2023-10-22T09:41:47.393Z"
   },
   {
    "duration": 276,
    "start_time": "2023-10-22T09:44:08.297Z"
   },
   {
    "duration": 8,
    "start_time": "2023-10-22T09:44:37.381Z"
   },
   {
    "duration": 6,
    "start_time": "2023-10-22T09:44:41.602Z"
   },
   {
    "duration": 9,
    "start_time": "2023-10-22T09:45:11.826Z"
   },
   {
    "duration": 78,
    "start_time": "2023-10-22T09:46:33.571Z"
   },
   {
    "duration": 12,
    "start_time": "2023-10-22T09:46:48.879Z"
   },
   {
    "duration": 14,
    "start_time": "2023-10-22T09:47:21.575Z"
   },
   {
    "duration": 5,
    "start_time": "2023-10-22T09:47:27.866Z"
   },
   {
    "duration": 8,
    "start_time": "2023-10-22T09:47:32.636Z"
   },
   {
    "duration": 12,
    "start_time": "2023-10-22T09:47:42.627Z"
   },
   {
    "duration": 12,
    "start_time": "2023-10-22T09:47:58.789Z"
   },
   {
    "duration": 7,
    "start_time": "2023-10-22T09:48:21.581Z"
   },
   {
    "duration": 11,
    "start_time": "2023-10-22T09:48:45.101Z"
   },
   {
    "duration": 12,
    "start_time": "2023-10-22T09:48:49.612Z"
   },
   {
    "duration": 17,
    "start_time": "2023-10-22T09:49:03.121Z"
   },
   {
    "duration": 11,
    "start_time": "2023-10-22T09:49:10.968Z"
   },
   {
    "duration": 18,
    "start_time": "2023-10-22T09:49:31.058Z"
   },
   {
    "duration": 13,
    "start_time": "2023-10-22T09:49:35.873Z"
   },
   {
    "duration": 21,
    "start_time": "2023-10-22T09:49:40.450Z"
   },
   {
    "duration": 23,
    "start_time": "2023-10-22T09:50:01.347Z"
   },
   {
    "duration": 21,
    "start_time": "2023-10-22T09:50:17.847Z"
   },
   {
    "duration": 26,
    "start_time": "2023-10-22T09:50:24.238Z"
   },
   {
    "duration": 14,
    "start_time": "2023-10-22T09:50:45.095Z"
   },
   {
    "duration": 14,
    "start_time": "2023-10-22T09:51:01.370Z"
   },
   {
    "duration": 13,
    "start_time": "2023-10-22T09:51:22.880Z"
   },
   {
    "duration": 23,
    "start_time": "2023-10-22T09:51:26.635Z"
   },
   {
    "duration": 14,
    "start_time": "2023-10-22T09:52:46.534Z"
   },
   {
    "duration": 11,
    "start_time": "2023-10-22T09:53:17.035Z"
   },
   {
    "duration": 12,
    "start_time": "2023-10-22T09:53:26.476Z"
   },
   {
    "duration": 16,
    "start_time": "2023-10-22T09:53:54.185Z"
   },
   {
    "duration": 251,
    "start_time": "2023-10-22T09:54:03.982Z"
   },
   {
    "duration": 13,
    "start_time": "2023-10-22T09:54:09.283Z"
   },
   {
    "duration": 13,
    "start_time": "2023-10-22T09:54:42.715Z"
   },
   {
    "duration": 12,
    "start_time": "2023-10-22T09:55:07.978Z"
   },
   {
    "duration": 12,
    "start_time": "2023-10-22T09:55:47.499Z"
   },
   {
    "duration": 101,
    "start_time": "2023-10-22T09:56:01.215Z"
   },
   {
    "duration": 23,
    "start_time": "2023-10-22T09:56:06.648Z"
   },
   {
    "duration": 7,
    "start_time": "2023-10-22T09:57:12.280Z"
   },
   {
    "duration": 13,
    "start_time": "2023-10-22T09:57:25.308Z"
   },
   {
    "duration": 11,
    "start_time": "2023-10-22T09:57:37.075Z"
   },
   {
    "duration": 15,
    "start_time": "2023-10-22T09:58:02.561Z"
   },
   {
    "duration": 13,
    "start_time": "2023-10-22T09:58:05.895Z"
   },
   {
    "duration": 13,
    "start_time": "2023-10-22T09:58:17.369Z"
   },
   {
    "duration": 16,
    "start_time": "2023-10-22T09:58:49.605Z"
   },
   {
    "duration": 127,
    "start_time": "2023-10-22T09:59:11.506Z"
   },
   {
    "duration": 89,
    "start_time": "2023-10-22T09:59:17.549Z"
   },
   {
    "duration": 16,
    "start_time": "2023-10-22T09:59:21.081Z"
   },
   {
    "duration": 130,
    "start_time": "2023-10-22T10:02:36.695Z"
   },
   {
    "duration": 166,
    "start_time": "2023-10-22T10:03:17.114Z"
   },
   {
    "duration": 310,
    "start_time": "2023-10-22T10:03:22.527Z"
   },
   {
    "duration": 198,
    "start_time": "2023-10-22T10:03:41.796Z"
   },
   {
    "duration": 196,
    "start_time": "2023-10-22T10:03:53.592Z"
   },
   {
    "duration": 178,
    "start_time": "2023-10-22T10:03:57.402Z"
   },
   {
    "duration": 307,
    "start_time": "2023-10-22T10:04:47.120Z"
   },
   {
    "duration": 299,
    "start_time": "2023-10-22T10:04:53.116Z"
   },
   {
    "duration": 364,
    "start_time": "2023-10-22T10:04:58.354Z"
   },
   {
    "duration": 16,
    "start_time": "2023-10-22T10:05:52.771Z"
   },
   {
    "duration": 429,
    "start_time": "2023-10-22T10:06:55.808Z"
   },
   {
    "duration": 300,
    "start_time": "2023-10-22T10:07:11.286Z"
   },
   {
    "duration": 332,
    "start_time": "2023-10-22T10:07:48.355Z"
   },
   {
    "duration": 366,
    "start_time": "2023-10-22T10:08:29.176Z"
   },
   {
    "duration": 182,
    "start_time": "2023-10-22T10:08:38.545Z"
   },
   {
    "duration": 314,
    "start_time": "2023-10-22T10:08:49.043Z"
   },
   {
    "duration": 166,
    "start_time": "2023-10-22T10:08:59.354Z"
   },
   {
    "duration": 435,
    "start_time": "2023-10-22T10:12:23.370Z"
   },
   {
    "duration": 414,
    "start_time": "2023-10-22T10:12:32.094Z"
   },
   {
    "duration": 361,
    "start_time": "2023-10-22T10:13:04.838Z"
   },
   {
    "duration": 356,
    "start_time": "2023-10-22T10:13:15.083Z"
   },
   {
    "duration": 310,
    "start_time": "2023-10-22T10:13:39.846Z"
   },
   {
    "duration": 524,
    "start_time": "2023-10-22T10:13:45.147Z"
   },
   {
    "duration": 172,
    "start_time": "2023-10-22T10:14:43.992Z"
   },
   {
    "duration": 99,
    "start_time": "2023-10-22T10:15:07.503Z"
   },
   {
    "duration": 250,
    "start_time": "2023-10-22T10:15:11.488Z"
   },
   {
    "duration": 136,
    "start_time": "2023-10-22T10:15:23.971Z"
   },
   {
    "duration": 84,
    "start_time": "2023-10-22T10:15:33.184Z"
   },
   {
    "duration": 99,
    "start_time": "2023-10-22T10:15:54.677Z"
   },
   {
    "duration": 191,
    "start_time": "2023-10-22T10:17:27.920Z"
   },
   {
    "duration": 76,
    "start_time": "2023-10-22T10:18:23.185Z"
   },
   {
    "duration": 185,
    "start_time": "2023-10-22T10:18:34.408Z"
   },
   {
    "duration": 223,
    "start_time": "2023-10-22T10:19:09.221Z"
   },
   {
    "duration": 399,
    "start_time": "2023-10-22T10:19:28.705Z"
   },
   {
    "duration": 72,
    "start_time": "2023-10-22T10:19:54.678Z"
   },
   {
    "duration": 98,
    "start_time": "2023-10-22T10:20:07.578Z"
   },
   {
    "duration": 115,
    "start_time": "2023-10-22T10:20:13.162Z"
   },
   {
    "duration": 189,
    "start_time": "2023-10-22T10:20:23.551Z"
   },
   {
    "duration": 202,
    "start_time": "2023-10-22T10:20:27.274Z"
   },
   {
    "duration": 135,
    "start_time": "2023-10-22T10:20:32.562Z"
   },
   {
    "duration": 79,
    "start_time": "2023-10-22T10:20:39.254Z"
   },
   {
    "duration": 122,
    "start_time": "2023-10-22T10:20:41.382Z"
   },
   {
    "duration": 122,
    "start_time": "2023-10-22T10:20:44.994Z"
   },
   {
    "duration": 311,
    "start_time": "2023-10-22T10:21:03.290Z"
   },
   {
    "duration": 14,
    "start_time": "2023-10-22T10:21:17.339Z"
   },
   {
    "duration": 206,
    "start_time": "2023-10-22T10:21:27.398Z"
   },
   {
    "duration": 286,
    "start_time": "2023-10-22T10:21:37.383Z"
   },
   {
    "duration": 422,
    "start_time": "2023-10-22T10:21:50.370Z"
   },
   {
    "duration": 561,
    "start_time": "2023-10-22T10:22:26.919Z"
   },
   {
    "duration": 783,
    "start_time": "2023-10-22T10:23:48.734Z"
   },
   {
    "duration": 884,
    "start_time": "2023-10-22T10:24:30.909Z"
   },
   {
    "duration": 768,
    "start_time": "2023-10-22T10:24:56.985Z"
   },
   {
    "duration": 103,
    "start_time": "2023-10-22T10:25:21.834Z"
   },
   {
    "duration": 16,
    "start_time": "2023-10-22T10:25:44.489Z"
   },
   {
    "duration": 6,
    "start_time": "2023-10-22T10:27:15.006Z"
   },
   {
    "duration": 105,
    "start_time": "2023-10-22T10:27:26.860Z"
   },
   {
    "duration": 165,
    "start_time": "2023-10-22T10:27:37.803Z"
   },
   {
    "duration": 241,
    "start_time": "2023-10-22T10:27:46.990Z"
   },
   {
    "duration": 358,
    "start_time": "2023-10-22T10:27:58.822Z"
   },
   {
    "duration": 340,
    "start_time": "2023-10-22T10:28:04.999Z"
   },
   {
    "duration": 792,
    "start_time": "2023-10-22T10:28:32.491Z"
   },
   {
    "duration": 325,
    "start_time": "2023-10-22T10:29:00.590Z"
   },
   {
    "duration": 342,
    "start_time": "2023-10-22T10:29:24.410Z"
   },
   {
    "duration": 413,
    "start_time": "2023-10-22T10:29:30.119Z"
   },
   {
    "duration": 1067,
    "start_time": "2023-10-22T10:30:12.413Z"
   },
   {
    "duration": 522,
    "start_time": "2023-10-22T10:31:29.917Z"
   },
   {
    "duration": 499,
    "start_time": "2023-10-22T10:31:47.699Z"
   },
   {
    "duration": 1134,
    "start_time": "2023-10-22T10:31:59.798Z"
   },
   {
    "duration": 937,
    "start_time": "2023-10-22T10:32:42.730Z"
   },
   {
    "duration": 4,
    "start_time": "2023-10-22T10:33:53.698Z"
   },
   {
    "duration": 14,
    "start_time": "2023-10-22T10:40:37.473Z"
   },
   {
    "duration": 194,
    "start_time": "2023-10-22T10:40:38.068Z"
   },
   {
    "duration": 13,
    "start_time": "2023-10-22T10:40:43.106Z"
   },
   {
    "duration": 237,
    "start_time": "2023-10-22T10:40:45.924Z"
   },
   {
    "duration": 12,
    "start_time": "2023-10-22T10:40:49.197Z"
   },
   {
    "duration": 159,
    "start_time": "2023-10-22T10:40:52.202Z"
   },
   {
    "duration": 14,
    "start_time": "2023-10-22T10:41:43.419Z"
   },
   {
    "duration": 205,
    "start_time": "2023-10-22T10:41:48.783Z"
   },
   {
    "duration": 13,
    "start_time": "2023-10-22T10:41:52.803Z"
   },
   {
    "duration": 236,
    "start_time": "2023-10-22T10:41:56.811Z"
   },
   {
    "duration": 16,
    "start_time": "2023-10-22T10:41:59.025Z"
   },
   {
    "duration": 295,
    "start_time": "2023-10-22T10:42:02.148Z"
   },
   {
    "duration": 13,
    "start_time": "2023-10-22T10:45:52.986Z"
   },
   {
    "duration": 224,
    "start_time": "2023-10-22T10:46:04.502Z"
   },
   {
    "duration": 14,
    "start_time": "2023-10-22T10:46:16.652Z"
   },
   {
    "duration": 228,
    "start_time": "2023-10-22T10:46:20.761Z"
   },
   {
    "duration": 12,
    "start_time": "2023-10-22T10:46:23.923Z"
   },
   {
    "duration": 162,
    "start_time": "2023-10-22T10:46:27.610Z"
   },
   {
    "duration": 144,
    "start_time": "2023-10-22T10:47:07.678Z"
   },
   {
    "duration": 63,
    "start_time": "2023-10-22T10:47:26.846Z"
   },
   {
    "duration": 151,
    "start_time": "2023-10-22T10:47:31.382Z"
   },
   {
    "duration": 138,
    "start_time": "2023-10-22T10:47:39.587Z"
   },
   {
    "duration": 91,
    "start_time": "2023-10-22T10:51:11.593Z"
   },
   {
    "duration": 145,
    "start_time": "2023-10-22T10:52:00.514Z"
   },
   {
    "duration": 131,
    "start_time": "2023-10-22T10:52:06.018Z"
   },
   {
    "duration": 136,
    "start_time": "2023-10-22T10:52:09.934Z"
   },
   {
    "duration": 137,
    "start_time": "2023-10-22T10:52:53.005Z"
   },
   {
    "duration": 143,
    "start_time": "2023-10-22T10:52:59.265Z"
   },
   {
    "duration": 155,
    "start_time": "2023-10-22T10:53:04.818Z"
   },
   {
    "duration": 146,
    "start_time": "2023-10-22T10:53:13.380Z"
   },
   {
    "duration": 284,
    "start_time": "2023-10-22T10:53:17.047Z"
   },
   {
    "duration": 224,
    "start_time": "2023-10-22T10:53:34.094Z"
   },
   {
    "duration": 303,
    "start_time": "2023-10-22T10:53:47.138Z"
   },
   {
    "duration": 434,
    "start_time": "2023-10-22T10:54:12.220Z"
   },
   {
    "duration": 425,
    "start_time": "2023-10-22T10:55:22.250Z"
   },
   {
    "duration": 437,
    "start_time": "2023-10-22T10:55:46.086Z"
   },
   {
    "duration": 530,
    "start_time": "2023-10-22T10:57:07.860Z"
   },
   {
    "duration": 479,
    "start_time": "2023-10-22T10:57:17.942Z"
   },
   {
    "duration": 374,
    "start_time": "2023-10-22T10:58:28.214Z"
   },
   {
    "duration": 15,
    "start_time": "2023-10-22T10:59:40.946Z"
   },
   {
    "duration": 411,
    "start_time": "2023-10-22T10:59:41.498Z"
   },
   {
    "duration": 15,
    "start_time": "2023-10-22T10:59:42.290Z"
   },
   {
    "duration": 472,
    "start_time": "2023-10-22T10:59:42.856Z"
   },
   {
    "duration": 17,
    "start_time": "2023-10-22T10:59:43.534Z"
   },
   {
    "duration": 401,
    "start_time": "2023-10-22T10:59:44.105Z"
   },
   {
    "duration": 1243,
    "start_time": "2023-10-22T11:14:55.698Z"
   },
   {
    "duration": 196,
    "start_time": "2023-10-22T11:14:56.943Z"
   },
   {
    "duration": 31,
    "start_time": "2023-10-22T11:14:57.140Z"
   },
   {
    "duration": 5,
    "start_time": "2023-10-22T11:14:57.172Z"
   },
   {
    "duration": 21,
    "start_time": "2023-10-22T11:14:57.180Z"
   },
   {
    "duration": 60,
    "start_time": "2023-10-22T11:14:57.202Z"
   },
   {
    "duration": 4,
    "start_time": "2023-10-22T11:14:57.265Z"
   },
   {
    "duration": 11,
    "start_time": "2023-10-22T11:14:57.271Z"
   },
   {
    "duration": 8,
    "start_time": "2023-10-22T11:14:57.285Z"
   },
   {
    "duration": 7,
    "start_time": "2023-10-22T11:14:57.295Z"
   },
   {
    "duration": 13,
    "start_time": "2023-10-22T11:14:57.304Z"
   },
   {
    "duration": 32,
    "start_time": "2023-10-22T11:14:57.319Z"
   },
   {
    "duration": 10,
    "start_time": "2023-10-22T11:14:57.355Z"
   },
   {
    "duration": 12,
    "start_time": "2023-10-22T11:14:57.370Z"
   },
   {
    "duration": 6,
    "start_time": "2023-10-22T11:14:57.384Z"
   },
   {
    "duration": 21,
    "start_time": "2023-10-22T11:14:57.392Z"
   },
   {
    "duration": 36,
    "start_time": "2023-10-22T11:14:57.414Z"
   },
   {
    "duration": 9,
    "start_time": "2023-10-22T11:14:57.451Z"
   },
   {
    "duration": 27,
    "start_time": "2023-10-22T11:14:57.464Z"
   },
   {
    "duration": 13,
    "start_time": "2023-10-22T11:14:57.493Z"
   },
   {
    "duration": 10,
    "start_time": "2023-10-22T11:14:57.508Z"
   },
   {
    "duration": 54846,
    "start_time": "2023-10-22T11:14:57.520Z"
   },
   {
    "duration": 10,
    "start_time": "2023-10-22T11:15:52.367Z"
   },
   {
    "duration": 35,
    "start_time": "2023-10-22T11:15:52.379Z"
   },
   {
    "duration": 15,
    "start_time": "2023-10-22T11:15:52.416Z"
   },
   {
    "duration": 29,
    "start_time": "2023-10-22T11:15:52.433Z"
   },
   {
    "duration": 12,
    "start_time": "2023-10-22T11:15:52.465Z"
   },
   {
    "duration": 27,
    "start_time": "2023-10-22T11:15:52.479Z"
   },
   {
    "duration": 206,
    "start_time": "2023-10-22T11:15:52.508Z"
   },
   {
    "duration": 173,
    "start_time": "2023-10-22T11:15:52.716Z"
   },
   {
    "duration": 85,
    "start_time": "2023-10-22T11:15:52.890Z"
   },
   {
    "duration": 11,
    "start_time": "2023-10-22T11:15:52.976Z"
   },
   {
    "duration": 35,
    "start_time": "2023-10-22T11:15:52.988Z"
   },
   {
    "duration": 24,
    "start_time": "2023-10-22T11:15:53.025Z"
   },
   {
    "duration": 66,
    "start_time": "2023-10-22T11:15:53.050Z"
   },
   {
    "duration": 441,
    "start_time": "2023-10-22T11:15:53.117Z"
   },
   {
    "duration": 26,
    "start_time": "2023-10-22T11:15:53.560Z"
   },
   {
    "duration": 493,
    "start_time": "2023-10-22T11:15:53.588Z"
   },
   {
    "duration": 5,
    "start_time": "2023-10-22T11:15:54.083Z"
   },
   {
    "duration": 66,
    "start_time": "2023-10-22T11:15:54.090Z"
   },
   {
    "duration": 351,
    "start_time": "2023-10-22T11:15:54.167Z"
   },
   {
    "duration": 7,
    "start_time": "2023-10-22T11:15:54.520Z"
   },
   {
    "duration": 50,
    "start_time": "2023-10-22T11:15:54.528Z"
   },
   {
    "duration": 239,
    "start_time": "2023-10-22T11:15:54.580Z"
   },
   {
    "duration": 313,
    "start_time": "2023-10-22T11:15:54.821Z"
   },
   {
    "duration": 39,
    "start_time": "2023-10-22T11:15:55.136Z"
   },
   {
    "duration": 4,
    "start_time": "2023-10-22T11:15:55.176Z"
   },
   {
    "duration": 290,
    "start_time": "2023-10-22T11:15:55.182Z"
   },
   {
    "duration": 6,
    "start_time": "2023-10-22T11:15:55.474Z"
   },
   {
    "duration": 20,
    "start_time": "2023-10-22T11:15:55.481Z"
   },
   {
    "duration": 299,
    "start_time": "2023-10-22T11:15:55.502Z"
   },
   {
    "duration": 6,
    "start_time": "2023-10-22T11:15:55.803Z"
   },
   {
    "duration": 58,
    "start_time": "2023-10-22T11:15:55.810Z"
   },
   {
    "duration": 369,
    "start_time": "2023-10-22T11:15:55.870Z"
   },
   {
    "duration": 24,
    "start_time": "2023-10-22T11:15:56.244Z"
   },
   {
    "duration": 784,
    "start_time": "2023-10-22T11:15:56.270Z"
   },
   {
    "duration": 26,
    "start_time": "2023-10-22T11:15:57.056Z"
   },
   {
    "duration": 560,
    "start_time": "2023-10-22T11:15:57.084Z"
   },
   {
    "duration": 21,
    "start_time": "2023-10-22T11:15:57.646Z"
   },
   {
    "duration": 504,
    "start_time": "2023-10-22T11:15:57.669Z"
   },
   {
    "duration": 14,
    "start_time": "2023-10-22T11:15:58.175Z"
   },
   {
    "duration": 383,
    "start_time": "2023-10-22T11:15:58.191Z"
   },
   {
    "duration": 113,
    "start_time": "2023-10-22T11:15:58.575Z"
   },
   {
    "duration": 0,
    "start_time": "2023-10-22T11:15:58.689Z"
   },
   {
    "duration": 0,
    "start_time": "2023-10-22T11:15:58.691Z"
   },
   {
    "duration": 0,
    "start_time": "2023-10-22T11:15:58.692Z"
   },
   {
    "duration": 0,
    "start_time": "2023-10-22T11:15:58.693Z"
   },
   {
    "duration": 1,
    "start_time": "2023-10-22T11:15:58.694Z"
   },
   {
    "duration": 0,
    "start_time": "2023-10-22T11:15:58.696Z"
   },
   {
    "duration": 0,
    "start_time": "2023-10-22T11:15:58.697Z"
   },
   {
    "duration": 0,
    "start_time": "2023-10-22T11:15:58.698Z"
   },
   {
    "duration": 14,
    "start_time": "2023-10-22T11:21:03.562Z"
   },
   {
    "duration": 8,
    "start_time": "2023-10-22T11:21:11.474Z"
   },
   {
    "duration": 1181,
    "start_time": "2023-10-22T11:22:22.304Z"
   },
   {
    "duration": 134,
    "start_time": "2023-10-22T11:22:23.488Z"
   },
   {
    "duration": 20,
    "start_time": "2023-10-22T11:22:23.623Z"
   },
   {
    "duration": 17,
    "start_time": "2023-10-22T11:22:23.646Z"
   },
   {
    "duration": 21,
    "start_time": "2023-10-22T11:22:23.666Z"
   },
   {
    "duration": 65,
    "start_time": "2023-10-22T11:22:23.689Z"
   },
   {
    "duration": 21,
    "start_time": "2023-10-22T11:22:23.755Z"
   },
   {
    "duration": 12,
    "start_time": "2023-10-22T11:22:23.778Z"
   },
   {
    "duration": 23,
    "start_time": "2023-10-22T11:22:23.792Z"
   },
   {
    "duration": 11,
    "start_time": "2023-10-22T11:22:23.817Z"
   },
   {
    "duration": 34,
    "start_time": "2023-10-22T11:22:23.830Z"
   },
   {
    "duration": 7,
    "start_time": "2023-10-22T11:22:23.866Z"
   },
   {
    "duration": 12,
    "start_time": "2023-10-22T11:22:23.875Z"
   },
   {
    "duration": 16,
    "start_time": "2023-10-22T11:22:23.890Z"
   },
   {
    "duration": 5,
    "start_time": "2023-10-22T11:22:23.908Z"
   },
   {
    "duration": 14,
    "start_time": "2023-10-22T11:22:23.914Z"
   },
   {
    "duration": 25,
    "start_time": "2023-10-22T11:22:23.930Z"
   },
   {
    "duration": 7,
    "start_time": "2023-10-22T11:22:23.961Z"
   },
   {
    "duration": 32,
    "start_time": "2023-10-22T11:22:23.970Z"
   },
   {
    "duration": 13,
    "start_time": "2023-10-22T11:22:24.004Z"
   },
   {
    "duration": 14,
    "start_time": "2023-10-22T11:22:24.019Z"
   },
   {
    "duration": 53669,
    "start_time": "2023-10-22T11:22:24.034Z"
   },
   {
    "duration": 7,
    "start_time": "2023-10-22T11:23:17.704Z"
   },
   {
    "duration": 23,
    "start_time": "2023-10-22T11:23:17.712Z"
   },
   {
    "duration": 20,
    "start_time": "2023-10-22T11:23:17.736Z"
   },
   {
    "duration": 13,
    "start_time": "2023-10-22T11:23:17.761Z"
   },
   {
    "duration": 16,
    "start_time": "2023-10-22T11:23:17.776Z"
   },
   {
    "duration": 19,
    "start_time": "2023-10-22T11:23:17.794Z"
   },
   {
    "duration": 200,
    "start_time": "2023-10-22T11:23:17.815Z"
   },
   {
    "duration": 156,
    "start_time": "2023-10-22T11:23:18.016Z"
   },
   {
    "duration": 52,
    "start_time": "2023-10-22T11:23:18.174Z"
   },
   {
    "duration": 36,
    "start_time": "2023-10-22T11:23:18.228Z"
   },
   {
    "duration": 4,
    "start_time": "2023-10-22T11:23:18.266Z"
   },
   {
    "duration": 29,
    "start_time": "2023-10-22T11:23:18.272Z"
   },
   {
    "duration": 70,
    "start_time": "2023-10-22T11:23:18.303Z"
   },
   {
    "duration": 427,
    "start_time": "2023-10-22T11:23:18.375Z"
   },
   {
    "duration": 25,
    "start_time": "2023-10-22T11:23:18.804Z"
   },
   {
    "duration": 293,
    "start_time": "2023-10-22T11:23:18.830Z"
   },
   {
    "duration": 4,
    "start_time": "2023-10-22T11:23:19.125Z"
   },
   {
    "duration": 36,
    "start_time": "2023-10-22T11:23:19.130Z"
   },
   {
    "duration": 334,
    "start_time": "2023-10-22T11:23:19.171Z"
   },
   {
    "duration": 8,
    "start_time": "2023-10-22T11:23:19.507Z"
   },
   {
    "duration": 66,
    "start_time": "2023-10-22T11:23:19.517Z"
   },
   {
    "duration": 292,
    "start_time": "2023-10-22T11:23:19.585Z"
   },
   {
    "duration": 321,
    "start_time": "2023-10-22T11:23:19.879Z"
   },
   {
    "duration": 50,
    "start_time": "2023-10-22T11:23:20.202Z"
   },
   {
    "duration": 7,
    "start_time": "2023-10-22T11:23:20.257Z"
   },
   {
    "duration": 267,
    "start_time": "2023-10-22T11:23:20.266Z"
   },
   {
    "duration": 25,
    "start_time": "2023-10-22T11:23:20.535Z"
   },
   {
    "duration": 11,
    "start_time": "2023-10-22T11:23:20.562Z"
   },
   {
    "duration": 274,
    "start_time": "2023-10-22T11:23:20.574Z"
   },
   {
    "duration": 10,
    "start_time": "2023-10-22T11:23:20.854Z"
   },
   {
    "duration": 5,
    "start_time": "2023-10-22T11:23:20.866Z"
   },
   {
    "duration": 290,
    "start_time": "2023-10-22T11:23:20.873Z"
   },
   {
    "duration": 16,
    "start_time": "2023-10-22T11:23:21.165Z"
   },
   {
    "duration": 714,
    "start_time": "2023-10-22T11:23:21.183Z"
   },
   {
    "duration": 15,
    "start_time": "2023-10-22T11:23:21.898Z"
   },
   {
    "duration": 519,
    "start_time": "2023-10-22T11:23:21.914Z"
   },
   {
    "duration": 29,
    "start_time": "2023-10-22T11:23:22.435Z"
   },
   {
    "duration": 492,
    "start_time": "2023-10-22T11:23:22.467Z"
   },
   {
    "duration": 13,
    "start_time": "2023-10-22T11:23:22.961Z"
   },
   {
    "duration": 348,
    "start_time": "2023-10-22T11:23:22.976Z"
   },
   {
    "duration": 7,
    "start_time": "2023-10-22T11:23:23.326Z"
   },
   {
    "duration": 197,
    "start_time": "2023-10-22T11:23:23.334Z"
   },
   {
    "duration": 8,
    "start_time": "2023-10-22T11:23:23.532Z"
   },
   {
    "duration": 20,
    "start_time": "2023-10-22T11:23:23.549Z"
   },
   {
    "duration": 104,
    "start_time": "2023-10-22T11:23:23.570Z"
   },
   {
    "duration": 0,
    "start_time": "2023-10-22T11:23:23.676Z"
   },
   {
    "duration": 0,
    "start_time": "2023-10-22T11:23:23.677Z"
   },
   {
    "duration": 0,
    "start_time": "2023-10-22T11:23:23.678Z"
   },
   {
    "duration": 8,
    "start_time": "2023-10-22T11:25:06.441Z"
   },
   {
    "duration": 175,
    "start_time": "2023-10-22T11:25:09.053Z"
   },
   {
    "duration": 9,
    "start_time": "2023-10-22T11:25:11.409Z"
   },
   {
    "duration": 11,
    "start_time": "2023-10-22T11:25:12.948Z"
   },
   {
    "duration": 1254,
    "start_time": "2023-10-22T11:26:54.941Z"
   },
   {
    "duration": 101,
    "start_time": "2023-10-22T11:26:56.196Z"
   },
   {
    "duration": 20,
    "start_time": "2023-10-22T11:26:56.298Z"
   },
   {
    "duration": 5,
    "start_time": "2023-10-22T11:26:56.319Z"
   },
   {
    "duration": 8,
    "start_time": "2023-10-22T11:26:56.327Z"
   },
   {
    "duration": 58,
    "start_time": "2023-10-22T11:26:56.337Z"
   },
   {
    "duration": 4,
    "start_time": "2023-10-22T11:26:56.396Z"
   },
   {
    "duration": 7,
    "start_time": "2023-10-22T11:26:56.402Z"
   },
   {
    "duration": 13,
    "start_time": "2023-10-22T11:26:56.410Z"
   },
   {
    "duration": 22,
    "start_time": "2023-10-22T11:26:56.425Z"
   },
   {
    "duration": 47,
    "start_time": "2023-10-22T11:26:56.448Z"
   },
   {
    "duration": 15,
    "start_time": "2023-10-22T11:26:56.497Z"
   },
   {
    "duration": 14,
    "start_time": "2023-10-22T11:26:56.514Z"
   },
   {
    "duration": 17,
    "start_time": "2023-10-22T11:26:56.531Z"
   },
   {
    "duration": 7,
    "start_time": "2023-10-22T11:26:56.550Z"
   },
   {
    "duration": 23,
    "start_time": "2023-10-22T11:26:56.558Z"
   },
   {
    "duration": 10,
    "start_time": "2023-10-22T11:26:56.584Z"
   },
   {
    "duration": 6,
    "start_time": "2023-10-22T11:26:56.596Z"
   },
   {
    "duration": 46,
    "start_time": "2023-10-22T11:26:56.604Z"
   },
   {
    "duration": 17,
    "start_time": "2023-10-22T11:26:56.657Z"
   },
   {
    "duration": 17,
    "start_time": "2023-10-22T11:26:56.675Z"
   },
   {
    "duration": 55766,
    "start_time": "2023-10-22T11:26:56.695Z"
   },
   {
    "duration": 7,
    "start_time": "2023-10-22T11:27:52.465Z"
   },
   {
    "duration": 31,
    "start_time": "2023-10-22T11:27:52.473Z"
   },
   {
    "duration": 10,
    "start_time": "2023-10-22T11:27:52.506Z"
   },
   {
    "duration": 45,
    "start_time": "2023-10-22T11:27:52.518Z"
   },
   {
    "duration": 13,
    "start_time": "2023-10-22T11:27:52.566Z"
   },
   {
    "duration": 31,
    "start_time": "2023-10-22T11:27:52.582Z"
   },
   {
    "duration": 207,
    "start_time": "2023-10-22T11:27:52.614Z"
   },
   {
    "duration": 171,
    "start_time": "2023-10-22T11:27:52.823Z"
   },
   {
    "duration": 81,
    "start_time": "2023-10-22T11:27:52.996Z"
   },
   {
    "duration": 10,
    "start_time": "2023-10-22T11:27:53.079Z"
   },
   {
    "duration": 23,
    "start_time": "2023-10-22T11:27:53.091Z"
   },
   {
    "duration": 55,
    "start_time": "2023-10-22T11:27:53.115Z"
   },
   {
    "duration": 94,
    "start_time": "2023-10-22T11:27:53.171Z"
   },
   {
    "duration": 467,
    "start_time": "2023-10-22T11:27:53.267Z"
   },
   {
    "duration": 35,
    "start_time": "2023-10-22T11:27:53.736Z"
   },
   {
    "duration": 335,
    "start_time": "2023-10-22T11:27:53.773Z"
   },
   {
    "duration": 5,
    "start_time": "2023-10-22T11:27:54.110Z"
   },
   {
    "duration": 32,
    "start_time": "2023-10-22T11:27:54.117Z"
   },
   {
    "duration": 382,
    "start_time": "2023-10-22T11:27:54.154Z"
   },
   {
    "duration": 10,
    "start_time": "2023-10-22T11:27:54.540Z"
   },
   {
    "duration": 49,
    "start_time": "2023-10-22T11:27:54.554Z"
   },
   {
    "duration": 356,
    "start_time": "2023-10-22T11:27:54.605Z"
   },
   {
    "duration": 411,
    "start_time": "2023-10-22T11:27:54.966Z"
   },
   {
    "duration": 32,
    "start_time": "2023-10-22T11:27:55.379Z"
   },
   {
    "duration": 4,
    "start_time": "2023-10-22T11:27:55.413Z"
   },
   {
    "duration": 313,
    "start_time": "2023-10-22T11:27:55.418Z"
   },
   {
    "duration": 31,
    "start_time": "2023-10-22T11:27:55.732Z"
   },
   {
    "duration": 3,
    "start_time": "2023-10-22T11:27:55.765Z"
   },
   {
    "duration": 304,
    "start_time": "2023-10-22T11:27:55.770Z"
   },
   {
    "duration": 7,
    "start_time": "2023-10-22T11:27:56.076Z"
   },
   {
    "duration": 23,
    "start_time": "2023-10-22T11:27:56.085Z"
   },
   {
    "duration": 335,
    "start_time": "2023-10-22T11:27:56.110Z"
   },
   {
    "duration": 22,
    "start_time": "2023-10-22T11:27:56.448Z"
   },
   {
    "duration": 800,
    "start_time": "2023-10-22T11:27:56.473Z"
   },
   {
    "duration": 14,
    "start_time": "2023-10-22T11:27:57.275Z"
   },
   {
    "duration": 546,
    "start_time": "2023-10-22T11:27:57.291Z"
   },
   {
    "duration": 26,
    "start_time": "2023-10-22T11:27:57.839Z"
   },
   {
    "duration": 521,
    "start_time": "2023-10-22T11:27:57.867Z"
   },
   {
    "duration": 13,
    "start_time": "2023-10-22T11:27:58.390Z"
   },
   {
    "duration": 392,
    "start_time": "2023-10-22T11:27:58.405Z"
   },
   {
    "duration": 9,
    "start_time": "2023-10-22T11:27:58.798Z"
   },
   {
    "duration": 252,
    "start_time": "2023-10-22T11:27:58.811Z"
   },
   {
    "duration": 10,
    "start_time": "2023-10-22T11:27:59.068Z"
   },
   {
    "duration": 21,
    "start_time": "2023-10-22T11:27:59.080Z"
   },
   {
    "duration": 20,
    "start_time": "2023-10-22T11:27:59.103Z"
   },
   {
    "duration": 181,
    "start_time": "2023-10-22T11:27:59.125Z"
   },
   {
    "duration": 8,
    "start_time": "2023-10-22T11:27:59.307Z"
   },
   {
    "duration": 28,
    "start_time": "2023-10-22T11:27:59.317Z"
   }
  ],
  "kernelspec": {
   "display_name": "Python 3 (ipykernel)",
   "language": "python",
   "name": "python3"
  },
  "language_info": {
   "codemirror_mode": {
    "name": "ipython",
    "version": 3
   },
   "file_extension": ".py",
   "mimetype": "text/x-python",
   "name": "python",
   "nbconvert_exporter": "python",
   "pygments_lexer": "ipython3",
   "version": "3.9.5"
  },
  "toc": {
   "base_numbering": 1,
   "nav_menu": {},
   "number_sections": true,
   "sideBar": true,
   "skip_h1_title": true,
   "title_cell": "Table of Contents",
   "title_sidebar": "Contents",
   "toc_cell": false,
   "toc_position": {},
   "toc_section_display": true,
   "toc_window_display": false
  }
 },
 "nbformat": 4,
 "nbformat_minor": 4
}
