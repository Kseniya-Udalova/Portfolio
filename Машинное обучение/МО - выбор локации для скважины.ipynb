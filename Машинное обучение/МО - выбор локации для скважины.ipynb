{
 "cells": [
  {
   "cell_type": "markdown",
   "metadata": {},
   "source": [
    "# Выбор локации для скважины"
   ]
  },
  {
   "cell_type": "markdown",
   "metadata": {},
   "source": [
    "Допустим, вы работаете в добывающей компании «ГлавРосГосНефть». Нужно решить, где бурить новую скважину.\n",
    "\n",
    "Вам предоставлены пробы нефти в трёх регионах: в каждом 10 000 месторождений, где измерили качество нефти и объём её запасов. Постройте модель машинного обучения, которая поможет определить регион, где добыча принесёт наибольшую прибыль. Проанализируйте возможную прибыль и риски техникой *Bootstrap.*\n",
    "\n",
    "Шаги для выбора локации:\n",
    "\n",
    "- В избранном регионе ищут месторождения, для каждого определяют значения признаков;\n",
    "- Строят модель и оценивают объём запасов;\n",
    "- Выбирают месторождения с самым высокими оценками значений. Количество месторождений зависит от бюджета компании и стоимости разработки одной скважины;\n",
    "- Прибыль равна суммарной прибыли отобранных месторождений."
   ]
  },
  {
   "cell_type": "markdown",
   "metadata": {},
   "source": [
    "## Загрузка и подготовка данных"
   ]
  },
  {
   "cell_type": "code",
   "execution_count": 1,
   "metadata": {},
   "outputs": [
    {
     "name": "stderr",
     "output_type": "stream",
     "text": [
      "\n",
      "[notice] A new release of pip is available: 23.2.1 -> 24.0\n",
      "[notice] To update, run: python.exe -m pip install --upgrade pip\n"
     ]
    }
   ],
   "source": [
    "#импорт библиотек и настройка отображения \n",
    "import warnings\n",
    "warnings.filterwarnings('ignore')\n",
    "\n",
    "import pandas as pd\n",
    "import numpy as np\n",
    "import seaborn as sns\n",
    "import matplotlib.pyplot as plt\n",
    "\n",
    "from sklearn.linear_model import LinearRegression\n",
    "\n",
    "from sklearn.model_selection import train_test_split\n",
    "\n",
    "from sklearn.metrics import mean_squared_error \n",
    "\n",
    "from sklearn.preprocessing import StandardScaler, MinMaxScaler, RobustScaler\n",
    "\n",
    "from numpy.random import RandomState\n",
    "\n",
    "!pip install  phik==0.10.0 -q\n",
    "import phik\n",
    "\n",
    "pd.set_option('display.max_columns', None)\n",
    "pd.set_option('display.max_colwidth', None)\n",
    "pd.options.display.float_format = '{:.2f}'.format\n",
    "\n",
    "\n",
    "RANDOM_STATE = 73\n",
    "TEST_SIZE = 0.25"
   ]
  },
  {
   "cell_type": "code",
   "execution_count": 2,
   "metadata": {},
   "outputs": [],
   "source": [
    "geo_data_0 = pd.read_csv('C:/Users/Ksenchik/practicum/МО в бизнесе/geo_data_0.csv') \n",
    "geo_data_1 = pd.read_csv('C:/Users/Ksenchik/practicum/МО в бизнесе/geo_data_1.csv') \n",
    "geo_data_2 = pd.read_csv('C:/Users/Ksenchik/practicum/МО в бизнесе/geo_data_2.csv') "
   ]
  },
  {
   "cell_type": "code",
   "execution_count": 3,
   "metadata": {},
   "outputs": [],
   "source": [
    "#функция для расчета количесства строк в столбце, количество заполненных и доли пропусков\n",
    "def df_info(df, str1 = \"-------\\n\", str2 = \"\\n\\n\") :\n",
    "    print(str1)\n",
    "    df_size = df.size\n",
    "    not_na_count = df.notna().sum()\n",
    "    na_count = df.isna().sum()\n",
    "    dublicated = df.duplicated().sum()\n",
    "    \n",
    "    if df_size == na_count:\n",
    "        print('Данные отсутствуют')\n",
    "    elif df_size == 0 :\n",
    "        print('Данные отсутствуют')\n",
    "    else:\n",
    "        print(f\"size: {df_size}\")\n",
    "        print(f\"na_count: {na_count}\")\n",
    "        print(f\"not_na_count: {not_na_count}\")\n",
    "        print(f\"na_ratio: {(na_count / df_size):.2f}\") \n",
    "        print(f\"duplicated: {dublicated}\") \n",
    "        print(f\"duplicated_ratio: {(dublicated / df_size):.2f}\") \n",
    "    print(str2)"
   ]
  },
  {
   "cell_type": "code",
   "execution_count": 4,
   "metadata": {},
   "outputs": [],
   "source": [
    "#создаем функцию для применения предыдущей функции к каждому столбцу \n",
    "def data_info (data, col_name):\n",
    "    print(col_name)\n",
    "    df_info(data[col_name])"
   ]
  },
  {
   "cell_type": "code",
   "execution_count": 5,
   "metadata": {
    "scrolled": true
   },
   "outputs": [
    {
     "name": "stdout",
     "output_type": "stream",
     "text": [
      "id\n",
      "-------\n",
      "\n",
      "size: 100000\n",
      "na_count: 0\n",
      "not_na_count: 100000\n",
      "na_ratio: 0.00\n",
      "duplicated: 10\n",
      "duplicated_ratio: 0.00\n",
      "\n",
      "\n",
      "\n",
      "f0\n",
      "-------\n",
      "\n",
      "size: 100000\n",
      "na_count: 0\n",
      "not_na_count: 100000\n",
      "na_ratio: 0.00\n",
      "duplicated: 0\n",
      "duplicated_ratio: 0.00\n",
      "\n",
      "\n",
      "\n",
      "f1\n",
      "-------\n",
      "\n",
      "size: 100000\n",
      "na_count: 0\n",
      "not_na_count: 100000\n",
      "na_ratio: 0.00\n",
      "duplicated: 0\n",
      "duplicated_ratio: 0.00\n",
      "\n",
      "\n",
      "\n",
      "f2\n",
      "-------\n",
      "\n",
      "size: 100000\n",
      "na_count: 0\n",
      "not_na_count: 100000\n",
      "na_ratio: 0.00\n",
      "duplicated: 0\n",
      "duplicated_ratio: 0.00\n",
      "\n",
      "\n",
      "\n",
      "product\n",
      "-------\n",
      "\n",
      "size: 100000\n",
      "na_count: 0\n",
      "not_na_count: 100000\n",
      "na_ratio: 0.00\n",
      "duplicated: 0\n",
      "duplicated_ratio: 0.00\n",
      "\n",
      "\n",
      "\n",
      "<class 'pandas.core.frame.DataFrame'>\n",
      "RangeIndex: 100000 entries, 0 to 99999\n",
      "Data columns (total 5 columns):\n",
      " #   Column   Non-Null Count   Dtype  \n",
      "---  ------   --------------   -----  \n",
      " 0   id       100000 non-null  object \n",
      " 1   f0       100000 non-null  float64\n",
      " 2   f1       100000 non-null  float64\n",
      " 3   f2       100000 non-null  float64\n",
      " 4   product  100000 non-null  float64\n",
      "dtypes: float64(4), object(1)\n",
      "memory usage: 3.8+ MB\n",
      "None\n",
      "Дублей:  0\n",
      "id         0\n",
      "f0         0\n",
      "f1         0\n",
      "f2         0\n",
      "product    0\n",
      "dtype: int64\n"
     ]
    }
   ],
   "source": [
    "#смотрим результат для geo_data_0\n",
    "for el in geo_data_0.columns:\n",
    "    data_info(geo_data_0, el)\n",
    "print(geo_data_0.info())\n",
    "print('Дублей: ', geo_data_0.duplicated().sum())\n",
    "print(geo_data_0.isna().sum())"
   ]
  },
  {
   "cell_type": "code",
   "execution_count": 6,
   "metadata": {
    "scrolled": true
   },
   "outputs": [
    {
     "name": "stdout",
     "output_type": "stream",
     "text": [
      "id\n",
      "-------\n",
      "\n",
      "size: 100000\n",
      "na_count: 0\n",
      "not_na_count: 100000\n",
      "na_ratio: 0.00\n",
      "duplicated: 4\n",
      "duplicated_ratio: 0.00\n",
      "\n",
      "\n",
      "\n",
      "f0\n",
      "-------\n",
      "\n",
      "size: 100000\n",
      "na_count: 0\n",
      "not_na_count: 100000\n",
      "na_ratio: 0.00\n",
      "duplicated: 0\n",
      "duplicated_ratio: 0.00\n",
      "\n",
      "\n",
      "\n",
      "f1\n",
      "-------\n",
      "\n",
      "size: 100000\n",
      "na_count: 0\n",
      "not_na_count: 100000\n",
      "na_ratio: 0.00\n",
      "duplicated: 0\n",
      "duplicated_ratio: 0.00\n",
      "\n",
      "\n",
      "\n",
      "f2\n",
      "-------\n",
      "\n",
      "size: 100000\n",
      "na_count: 0\n",
      "not_na_count: 100000\n",
      "na_ratio: 0.00\n",
      "duplicated: 0\n",
      "duplicated_ratio: 0.00\n",
      "\n",
      "\n",
      "\n",
      "product\n",
      "-------\n",
      "\n",
      "size: 100000\n",
      "na_count: 0\n",
      "not_na_count: 100000\n",
      "na_ratio: 0.00\n",
      "duplicated: 99988\n",
      "duplicated_ratio: 1.00\n",
      "\n",
      "\n",
      "\n",
      "<class 'pandas.core.frame.DataFrame'>\n",
      "RangeIndex: 100000 entries, 0 to 99999\n",
      "Data columns (total 5 columns):\n",
      " #   Column   Non-Null Count   Dtype  \n",
      "---  ------   --------------   -----  \n",
      " 0   id       100000 non-null  object \n",
      " 1   f0       100000 non-null  float64\n",
      " 2   f1       100000 non-null  float64\n",
      " 3   f2       100000 non-null  float64\n",
      " 4   product  100000 non-null  float64\n",
      "dtypes: float64(4), object(1)\n",
      "memory usage: 3.8+ MB\n",
      "None\n",
      "Дублей:  0\n",
      "id         0\n",
      "f0         0\n",
      "f1         0\n",
      "f2         0\n",
      "product    0\n",
      "dtype: int64\n"
     ]
    }
   ],
   "source": [
    "#смотрим результат для geo_data_1\n",
    "for el in geo_data_1.columns:\n",
    "    data_info(geo_data_1, el)\n",
    "print(geo_data_1.info())\n",
    "print('Дублей: ', geo_data_1.duplicated().sum())\n",
    "print(geo_data_1.isna().sum())"
   ]
  },
  {
   "cell_type": "code",
   "execution_count": 7,
   "metadata": {
    "scrolled": true
   },
   "outputs": [
    {
     "name": "stdout",
     "output_type": "stream",
     "text": [
      "id\n",
      "-------\n",
      "\n",
      "size: 100000\n",
      "na_count: 0\n",
      "not_na_count: 100000\n",
      "na_ratio: 0.00\n",
      "duplicated: 4\n",
      "duplicated_ratio: 0.00\n",
      "\n",
      "\n",
      "\n",
      "f0\n",
      "-------\n",
      "\n",
      "size: 100000\n",
      "na_count: 0\n",
      "not_na_count: 100000\n",
      "na_ratio: 0.00\n",
      "duplicated: 0\n",
      "duplicated_ratio: 0.00\n",
      "\n",
      "\n",
      "\n",
      "f1\n",
      "-------\n",
      "\n",
      "size: 100000\n",
      "na_count: 0\n",
      "not_na_count: 100000\n",
      "na_ratio: 0.00\n",
      "duplicated: 0\n",
      "duplicated_ratio: 0.00\n",
      "\n",
      "\n",
      "\n",
      "f2\n",
      "-------\n",
      "\n",
      "size: 100000\n",
      "na_count: 0\n",
      "not_na_count: 100000\n",
      "na_ratio: 0.00\n",
      "duplicated: 0\n",
      "duplicated_ratio: 0.00\n",
      "\n",
      "\n",
      "\n",
      "product\n",
      "-------\n",
      "\n",
      "size: 100000\n",
      "na_count: 0\n",
      "not_na_count: 100000\n",
      "na_ratio: 0.00\n",
      "duplicated: 0\n",
      "duplicated_ratio: 0.00\n",
      "\n",
      "\n",
      "\n",
      "<class 'pandas.core.frame.DataFrame'>\n",
      "RangeIndex: 100000 entries, 0 to 99999\n",
      "Data columns (total 5 columns):\n",
      " #   Column   Non-Null Count   Dtype  \n",
      "---  ------   --------------   -----  \n",
      " 0   id       100000 non-null  object \n",
      " 1   f0       100000 non-null  float64\n",
      " 2   f1       100000 non-null  float64\n",
      " 3   f2       100000 non-null  float64\n",
      " 4   product  100000 non-null  float64\n",
      "dtypes: float64(4), object(1)\n",
      "memory usage: 3.8+ MB\n",
      "None\n",
      "Дублей:  0\n",
      "id         0\n",
      "f0         0\n",
      "f1         0\n",
      "f2         0\n",
      "product    0\n",
      "dtype: int64\n"
     ]
    }
   ],
   "source": [
    "#смотрим результат для geo_data_2\n",
    "for el in geo_data_2.columns:\n",
    "    data_info(geo_data_2, el)\n",
    "print(geo_data_2.info())\n",
    "print('Дублей: ', geo_data_2.duplicated().sum())\n",
    "print(geo_data_2.isna().sum())"
   ]
  },
  {
   "cell_type": "markdown",
   "metadata": {},
   "source": [
    "Данные загружены. Во всех таблицах есть дубликаты по ID скважины. Посмотрим на данные и определимся с дублями "
   ]
  },
  {
   "cell_type": "code",
   "execution_count": 8,
   "metadata": {
    "scrolled": true
   },
   "outputs": [
    {
     "data": {
      "text/html": [
       "<div>\n",
       "<style scoped>\n",
       "    .dataframe tbody tr th:only-of-type {\n",
       "        vertical-align: middle;\n",
       "    }\n",
       "\n",
       "    .dataframe tbody tr th {\n",
       "        vertical-align: top;\n",
       "    }\n",
       "\n",
       "    .dataframe thead th {\n",
       "        text-align: right;\n",
       "    }\n",
       "</style>\n",
       "<table border=\"1\" class=\"dataframe\">\n",
       "  <thead>\n",
       "    <tr style=\"text-align: right;\">\n",
       "      <th></th>\n",
       "      <th>id</th>\n",
       "      <th>f0</th>\n",
       "      <th>f1</th>\n",
       "      <th>f2</th>\n",
       "      <th>product</th>\n",
       "    </tr>\n",
       "  </thead>\n",
       "  <tbody>\n",
       "    <tr>\n",
       "      <th>19337</th>\n",
       "      <td>zOKhd</td>\n",
       "      <td>-0.98</td>\n",
       "      <td>-1.83</td>\n",
       "      <td>0.93</td>\n",
       "      <td>92.63</td>\n",
       "    </tr>\n",
       "    <tr>\n",
       "      <th>55002</th>\n",
       "      <td>UpOrk</td>\n",
       "      <td>-1.84</td>\n",
       "      <td>-0.90</td>\n",
       "      <td>6.30</td>\n",
       "      <td>53.17</td>\n",
       "    </tr>\n",
       "    <tr>\n",
       "      <th>81955</th>\n",
       "      <td>TgXCf</td>\n",
       "      <td>-0.06</td>\n",
       "      <td>1.27</td>\n",
       "      <td>-0.20</td>\n",
       "      <td>53.80</td>\n",
       "    </tr>\n",
       "    <tr>\n",
       "      <th>97720</th>\n",
       "      <td>vELVX</td>\n",
       "      <td>-0.16</td>\n",
       "      <td>-2.52</td>\n",
       "      <td>3.88</td>\n",
       "      <td>50.04</td>\n",
       "    </tr>\n",
       "    <tr>\n",
       "      <th>14327</th>\n",
       "      <td>APnsh</td>\n",
       "      <td>2.36</td>\n",
       "      <td>-1.61</td>\n",
       "      <td>2.57</td>\n",
       "      <td>30.85</td>\n",
       "    </tr>\n",
       "  </tbody>\n",
       "</table>\n",
       "</div>"
      ],
      "text/plain": [
       "          id    f0    f1    f2  product\n",
       "19337  zOKhd -0.98 -1.83  0.93    92.63\n",
       "55002  UpOrk -1.84 -0.90  6.30    53.17\n",
       "81955  TgXCf -0.06  1.27 -0.20    53.80\n",
       "97720  vELVX -0.16 -2.52  3.88    50.04\n",
       "14327  APnsh  2.36 -1.61  2.57    30.85"
      ]
     },
     "metadata": {},
     "output_type": "display_data"
    },
    {
     "name": "stdout",
     "output_type": "stream",
     "text": [
      "-------\n",
      " Дубли: \n"
     ]
    },
    {
     "data": {
      "text/html": [
       "<div>\n",
       "<style scoped>\n",
       "    .dataframe tbody tr th:only-of-type {\n",
       "        vertical-align: middle;\n",
       "    }\n",
       "\n",
       "    .dataframe tbody tr th {\n",
       "        vertical-align: top;\n",
       "    }\n",
       "\n",
       "    .dataframe thead th {\n",
       "        text-align: right;\n",
       "    }\n",
       "</style>\n",
       "<table border=\"1\" class=\"dataframe\">\n",
       "  <thead>\n",
       "    <tr style=\"text-align: right;\">\n",
       "      <th></th>\n",
       "      <th>id</th>\n",
       "      <th>f0</th>\n",
       "      <th>f1</th>\n",
       "      <th>f2</th>\n",
       "      <th>product</th>\n",
       "    </tr>\n",
       "  </thead>\n",
       "  <tbody>\n",
       "    <tr>\n",
       "      <th>43233</th>\n",
       "      <td>xCHr8</td>\n",
       "      <td>-0.85</td>\n",
       "      <td>2.10</td>\n",
       "      <td>5.60</td>\n",
       "      <td>184.39</td>\n",
       "    </tr>\n",
       "    <tr>\n",
       "      <th>49564</th>\n",
       "      <td>VF7Jo</td>\n",
       "      <td>-0.88</td>\n",
       "      <td>0.56</td>\n",
       "      <td>0.72</td>\n",
       "      <td>136.23</td>\n",
       "    </tr>\n",
       "    <tr>\n",
       "      <th>55967</th>\n",
       "      <td>KUPhW</td>\n",
       "      <td>1.21</td>\n",
       "      <td>3.18</td>\n",
       "      <td>5.54</td>\n",
       "      <td>132.83</td>\n",
       "    </tr>\n",
       "    <tr>\n",
       "      <th>95090</th>\n",
       "      <td>Vcm5J</td>\n",
       "      <td>2.59</td>\n",
       "      <td>1.99</td>\n",
       "      <td>2.48</td>\n",
       "      <td>92.33</td>\n",
       "    </tr>\n",
       "  </tbody>\n",
       "</table>\n",
       "</div>"
      ],
      "text/plain": [
       "          id    f0   f1   f2  product\n",
       "43233  xCHr8 -0.85 2.10 5.60   184.39\n",
       "49564  VF7Jo -0.88 0.56 0.72   136.23\n",
       "55967  KUPhW  1.21 3.18 5.54   132.83\n",
       "95090  Vcm5J  2.59 1.99 2.48    92.33"
      ]
     },
     "metadata": {},
     "output_type": "display_data"
    },
    {
     "name": "stdout",
     "output_type": "stream",
     "text": [
      "-------\n",
      "\n"
     ]
    },
    {
     "data": {
      "text/html": [
       "<div>\n",
       "<style scoped>\n",
       "    .dataframe tbody tr th:only-of-type {\n",
       "        vertical-align: middle;\n",
       "    }\n",
       "\n",
       "    .dataframe tbody tr th {\n",
       "        vertical-align: top;\n",
       "    }\n",
       "\n",
       "    .dataframe thead th {\n",
       "        text-align: right;\n",
       "    }\n",
       "</style>\n",
       "<table border=\"1\" class=\"dataframe\">\n",
       "  <thead>\n",
       "    <tr style=\"text-align: right;\">\n",
       "      <th></th>\n",
       "      <th>id</th>\n",
       "      <th>f0</th>\n",
       "      <th>f1</th>\n",
       "      <th>f2</th>\n",
       "      <th>product</th>\n",
       "    </tr>\n",
       "  </thead>\n",
       "  <tbody>\n",
       "    <tr>\n",
       "      <th>62875</th>\n",
       "      <td>AxzFG</td>\n",
       "      <td>0.92</td>\n",
       "      <td>-5.91</td>\n",
       "      <td>4.00</td>\n",
       "      <td>107.81</td>\n",
       "    </tr>\n",
       "    <tr>\n",
       "      <th>52032</th>\n",
       "      <td>sxMdU</td>\n",
       "      <td>-2.51</td>\n",
       "      <td>-5.74</td>\n",
       "      <td>5.00</td>\n",
       "      <td>137.95</td>\n",
       "    </tr>\n",
       "    <tr>\n",
       "      <th>65045</th>\n",
       "      <td>Aco6N</td>\n",
       "      <td>-3.90</td>\n",
       "      <td>-9.21</td>\n",
       "      <td>5.00</td>\n",
       "      <td>137.95</td>\n",
       "    </tr>\n",
       "    <tr>\n",
       "      <th>94247</th>\n",
       "      <td>6ioGw</td>\n",
       "      <td>-0.47</td>\n",
       "      <td>-5.52</td>\n",
       "      <td>1.99</td>\n",
       "      <td>57.09</td>\n",
       "    </tr>\n",
       "    <tr>\n",
       "      <th>44397</th>\n",
       "      <td>xr8GJ</td>\n",
       "      <td>-11.50</td>\n",
       "      <td>10.33</td>\n",
       "      <td>4.99</td>\n",
       "      <td>137.95</td>\n",
       "    </tr>\n",
       "  </tbody>\n",
       "</table>\n",
       "</div>"
      ],
      "text/plain": [
       "          id     f0    f1   f2  product\n",
       "62875  AxzFG   0.92 -5.91 4.00   107.81\n",
       "52032  sxMdU  -2.51 -5.74 5.00   137.95\n",
       "65045  Aco6N  -3.90 -9.21 5.00   137.95\n",
       "94247  6ioGw  -0.47 -5.52 1.99    57.09\n",
       "44397  xr8GJ -11.50 10.33 4.99   137.95"
      ]
     },
     "metadata": {},
     "output_type": "display_data"
    },
    {
     "name": "stdout",
     "output_type": "stream",
     "text": [
      "-------\n",
      " Дубли: \n"
     ]
    },
    {
     "data": {
      "text/html": [
       "<div>\n",
       "<style scoped>\n",
       "    .dataframe tbody tr th:only-of-type {\n",
       "        vertical-align: middle;\n",
       "    }\n",
       "\n",
       "    .dataframe tbody tr th {\n",
       "        vertical-align: top;\n",
       "    }\n",
       "\n",
       "    .dataframe thead th {\n",
       "        text-align: right;\n",
       "    }\n",
       "</style>\n",
       "<table border=\"1\" class=\"dataframe\">\n",
       "  <thead>\n",
       "    <tr style=\"text-align: right;\">\n",
       "      <th></th>\n",
       "      <th>id</th>\n",
       "      <th>f0</th>\n",
       "      <th>f1</th>\n",
       "      <th>f2</th>\n",
       "      <th>product</th>\n",
       "    </tr>\n",
       "  </thead>\n",
       "  <tbody>\n",
       "    <tr>\n",
       "      <th>41906</th>\n",
       "      <td>LHZR0</td>\n",
       "      <td>-8.99</td>\n",
       "      <td>-4.29</td>\n",
       "      <td>2.01</td>\n",
       "      <td>57.09</td>\n",
       "    </tr>\n",
       "    <tr>\n",
       "      <th>82178</th>\n",
       "      <td>bfPNe</td>\n",
       "      <td>-6.20</td>\n",
       "      <td>-4.82</td>\n",
       "      <td>3.00</td>\n",
       "      <td>84.04</td>\n",
       "    </tr>\n",
       "    <tr>\n",
       "      <th>82873</th>\n",
       "      <td>wt4Uk</td>\n",
       "      <td>10.26</td>\n",
       "      <td>-9.38</td>\n",
       "      <td>4.99</td>\n",
       "      <td>134.77</td>\n",
       "    </tr>\n",
       "    <tr>\n",
       "      <th>84461</th>\n",
       "      <td>5ltQ6</td>\n",
       "      <td>18.21</td>\n",
       "      <td>2.19</td>\n",
       "      <td>3.99</td>\n",
       "      <td>107.81</td>\n",
       "    </tr>\n",
       "  </tbody>\n",
       "</table>\n",
       "</div>"
      ],
      "text/plain": [
       "          id    f0    f1   f2  product\n",
       "41906  LHZR0 -8.99 -4.29 2.01    57.09\n",
       "82178  bfPNe -6.20 -4.82 3.00    84.04\n",
       "82873  wt4Uk 10.26 -9.38 4.99   134.77\n",
       "84461  5ltQ6 18.21  2.19 3.99   107.81"
      ]
     },
     "metadata": {},
     "output_type": "display_data"
    },
    {
     "name": "stdout",
     "output_type": "stream",
     "text": [
      "-------\n",
      "\n"
     ]
    },
    {
     "data": {
      "text/html": [
       "<div>\n",
       "<style scoped>\n",
       "    .dataframe tbody tr th:only-of-type {\n",
       "        vertical-align: middle;\n",
       "    }\n",
       "\n",
       "    .dataframe tbody tr th {\n",
       "        vertical-align: top;\n",
       "    }\n",
       "\n",
       "    .dataframe thead th {\n",
       "        text-align: right;\n",
       "    }\n",
       "</style>\n",
       "<table border=\"1\" class=\"dataframe\">\n",
       "  <thead>\n",
       "    <tr style=\"text-align: right;\">\n",
       "      <th></th>\n",
       "      <th>id</th>\n",
       "      <th>f0</th>\n",
       "      <th>f1</th>\n",
       "      <th>f2</th>\n",
       "      <th>product</th>\n",
       "    </tr>\n",
       "  </thead>\n",
       "  <tbody>\n",
       "    <tr>\n",
       "      <th>40038</th>\n",
       "      <td>ROVlX</td>\n",
       "      <td>1.20</td>\n",
       "      <td>-0.41</td>\n",
       "      <td>1.20</td>\n",
       "      <td>37.08</td>\n",
       "    </tr>\n",
       "    <tr>\n",
       "      <th>44765</th>\n",
       "      <td>uEXQO</td>\n",
       "      <td>0.05</td>\n",
       "      <td>1.18</td>\n",
       "      <td>2.63</td>\n",
       "      <td>20.96</td>\n",
       "    </tr>\n",
       "    <tr>\n",
       "      <th>91033</th>\n",
       "      <td>kDsA4</td>\n",
       "      <td>1.90</td>\n",
       "      <td>0.54</td>\n",
       "      <td>1.28</td>\n",
       "      <td>130.55</td>\n",
       "    </tr>\n",
       "    <tr>\n",
       "      <th>16063</th>\n",
       "      <td>Ws5hz</td>\n",
       "      <td>1.70</td>\n",
       "      <td>-0.01</td>\n",
       "      <td>3.70</td>\n",
       "      <td>136.74</td>\n",
       "    </tr>\n",
       "    <tr>\n",
       "      <th>81107</th>\n",
       "      <td>z7D3T</td>\n",
       "      <td>0.34</td>\n",
       "      <td>1.04</td>\n",
       "      <td>7.49</td>\n",
       "      <td>114.64</td>\n",
       "    </tr>\n",
       "  </tbody>\n",
       "</table>\n",
       "</div>"
      ],
      "text/plain": [
       "          id   f0    f1   f2  product\n",
       "40038  ROVlX 1.20 -0.41 1.20    37.08\n",
       "44765  uEXQO 0.05  1.18 2.63    20.96\n",
       "91033  kDsA4 1.90  0.54 1.28   130.55\n",
       "16063  Ws5hz 1.70 -0.01 3.70   136.74\n",
       "81107  z7D3T 0.34  1.04 7.49   114.64"
      ]
     },
     "metadata": {},
     "output_type": "display_data"
    },
    {
     "name": "stdout",
     "output_type": "stream",
     "text": [
      "-------\n",
      " Дубли: \n"
     ]
    },
    {
     "data": {
      "text/html": [
       "<div>\n",
       "<style scoped>\n",
       "    .dataframe tbody tr th:only-of-type {\n",
       "        vertical-align: middle;\n",
       "    }\n",
       "\n",
       "    .dataframe tbody tr th {\n",
       "        vertical-align: top;\n",
       "    }\n",
       "\n",
       "    .dataframe thead th {\n",
       "        text-align: right;\n",
       "    }\n",
       "</style>\n",
       "<table border=\"1\" class=\"dataframe\">\n",
       "  <thead>\n",
       "    <tr style=\"text-align: right;\">\n",
       "      <th></th>\n",
       "      <th>id</th>\n",
       "      <th>f0</th>\n",
       "      <th>f1</th>\n",
       "      <th>f2</th>\n",
       "      <th>product</th>\n",
       "    </tr>\n",
       "  </thead>\n",
       "  <tbody>\n",
       "    <tr>\n",
       "      <th>7530</th>\n",
       "      <td>HZww2</td>\n",
       "      <td>1.06</td>\n",
       "      <td>-0.37</td>\n",
       "      <td>10.43</td>\n",
       "      <td>158.83</td>\n",
       "    </tr>\n",
       "    <tr>\n",
       "      <th>41724</th>\n",
       "      <td>bxg6G</td>\n",
       "      <td>-0.82</td>\n",
       "      <td>0.55</td>\n",
       "      <td>3.63</td>\n",
       "      <td>93.01</td>\n",
       "    </tr>\n",
       "    <tr>\n",
       "      <th>51970</th>\n",
       "      <td>A5aEY</td>\n",
       "      <td>-0.18</td>\n",
       "      <td>0.94</td>\n",
       "      <td>-2.09</td>\n",
       "      <td>33.02</td>\n",
       "    </tr>\n",
       "    <tr>\n",
       "      <th>63593</th>\n",
       "      <td>QcMuo</td>\n",
       "      <td>0.64</td>\n",
       "      <td>-0.47</td>\n",
       "      <td>0.86</td>\n",
       "      <td>64.58</td>\n",
       "    </tr>\n",
       "    <tr>\n",
       "      <th>66136</th>\n",
       "      <td>74z30</td>\n",
       "      <td>1.08</td>\n",
       "      <td>-0.31</td>\n",
       "      <td>6.99</td>\n",
       "      <td>127.64</td>\n",
       "    </tr>\n",
       "    <tr>\n",
       "      <th>69163</th>\n",
       "      <td>AGS9W</td>\n",
       "      <td>-0.93</td>\n",
       "      <td>0.12</td>\n",
       "      <td>-3.66</td>\n",
       "      <td>19.23</td>\n",
       "    </tr>\n",
       "    <tr>\n",
       "      <th>75715</th>\n",
       "      <td>Tdehs</td>\n",
       "      <td>0.11</td>\n",
       "      <td>0.43</td>\n",
       "      <td>3.22</td>\n",
       "      <td>60.96</td>\n",
       "    </tr>\n",
       "    <tr>\n",
       "      <th>90815</th>\n",
       "      <td>fiKDv</td>\n",
       "      <td>0.05</td>\n",
       "      <td>0.84</td>\n",
       "      <td>6.39</td>\n",
       "      <td>137.35</td>\n",
       "    </tr>\n",
       "    <tr>\n",
       "      <th>92341</th>\n",
       "      <td>TtcGQ</td>\n",
       "      <td>0.11</td>\n",
       "      <td>1.02</td>\n",
       "      <td>0.91</td>\n",
       "      <td>101.32</td>\n",
       "    </tr>\n",
       "    <tr>\n",
       "      <th>97785</th>\n",
       "      <td>bsk9y</td>\n",
       "      <td>0.38</td>\n",
       "      <td>0.01</td>\n",
       "      <td>0.16</td>\n",
       "      <td>160.64</td>\n",
       "    </tr>\n",
       "  </tbody>\n",
       "</table>\n",
       "</div>"
      ],
      "text/plain": [
       "          id    f0    f1    f2  product\n",
       "7530   HZww2  1.06 -0.37 10.43   158.83\n",
       "41724  bxg6G -0.82  0.55  3.63    93.01\n",
       "51970  A5aEY -0.18  0.94 -2.09    33.02\n",
       "63593  QcMuo  0.64 -0.47  0.86    64.58\n",
       "66136  74z30  1.08 -0.31  6.99   127.64\n",
       "69163  AGS9W -0.93  0.12 -3.66    19.23\n",
       "75715  Tdehs  0.11  0.43  3.22    60.96\n",
       "90815  fiKDv  0.05  0.84  6.39   137.35\n",
       "92341  TtcGQ  0.11  1.02  0.91   101.32\n",
       "97785  bsk9y  0.38  0.01  0.16   160.64"
      ]
     },
     "metadata": {},
     "output_type": "display_data"
    },
    {
     "name": "stdout",
     "output_type": "stream",
     "text": [
      "-------\n",
      "\n"
     ]
    }
   ],
   "source": [
    "for i in geo_data_2, geo_data_1, geo_data_0:\n",
    "    display(i.sample(5))\n",
    "    print(\"-------\\n Дубли: \")\n",
    "    display(i[i['id'].duplicated() == True])\n",
    "    print(\"-------\\n\")"
   ]
  },
  {
   "cell_type": "markdown",
   "metadata": {},
   "source": [
    "Дубли не подтвердились, данные в Id уникальны.\n",
    "\n",
    "Посмотрим на основную статистику и распределение данных в таблицах "
   ]
  },
  {
   "cell_type": "code",
   "execution_count": 9,
   "metadata": {},
   "outputs": [
    {
     "data": {
      "text/html": [
       "<div>\n",
       "<style scoped>\n",
       "    .dataframe tbody tr th:only-of-type {\n",
       "        vertical-align: middle;\n",
       "    }\n",
       "\n",
       "    .dataframe tbody tr th {\n",
       "        vertical-align: top;\n",
       "    }\n",
       "\n",
       "    .dataframe thead th {\n",
       "        text-align: right;\n",
       "    }\n",
       "</style>\n",
       "<table border=\"1\" class=\"dataframe\">\n",
       "  <thead>\n",
       "    <tr style=\"text-align: right;\">\n",
       "      <th></th>\n",
       "      <th>f0</th>\n",
       "      <th>f1</th>\n",
       "      <th>f2</th>\n",
       "      <th>product</th>\n",
       "    </tr>\n",
       "  </thead>\n",
       "  <tbody>\n",
       "    <tr>\n",
       "      <th>count</th>\n",
       "      <td>100000.00</td>\n",
       "      <td>100000.00</td>\n",
       "      <td>100000.00</td>\n",
       "      <td>100000.00</td>\n",
       "    </tr>\n",
       "    <tr>\n",
       "      <th>mean</th>\n",
       "      <td>0.50</td>\n",
       "      <td>0.25</td>\n",
       "      <td>2.50</td>\n",
       "      <td>92.50</td>\n",
       "    </tr>\n",
       "    <tr>\n",
       "      <th>std</th>\n",
       "      <td>0.87</td>\n",
       "      <td>0.50</td>\n",
       "      <td>3.25</td>\n",
       "      <td>44.29</td>\n",
       "    </tr>\n",
       "    <tr>\n",
       "      <th>min</th>\n",
       "      <td>-1.41</td>\n",
       "      <td>-0.85</td>\n",
       "      <td>-12.09</td>\n",
       "      <td>0.00</td>\n",
       "    </tr>\n",
       "    <tr>\n",
       "      <th>25%</th>\n",
       "      <td>-0.07</td>\n",
       "      <td>-0.20</td>\n",
       "      <td>0.29</td>\n",
       "      <td>56.50</td>\n",
       "    </tr>\n",
       "    <tr>\n",
       "      <th>50%</th>\n",
       "      <td>0.50</td>\n",
       "      <td>0.25</td>\n",
       "      <td>2.52</td>\n",
       "      <td>91.85</td>\n",
       "    </tr>\n",
       "    <tr>\n",
       "      <th>75%</th>\n",
       "      <td>1.07</td>\n",
       "      <td>0.70</td>\n",
       "      <td>4.72</td>\n",
       "      <td>128.56</td>\n",
       "    </tr>\n",
       "    <tr>\n",
       "      <th>max</th>\n",
       "      <td>2.36</td>\n",
       "      <td>1.34</td>\n",
       "      <td>16.00</td>\n",
       "      <td>185.36</td>\n",
       "    </tr>\n",
       "  </tbody>\n",
       "</table>\n",
       "</div>"
      ],
      "text/plain": [
       "             f0        f1        f2   product\n",
       "count 100000.00 100000.00 100000.00 100000.00\n",
       "mean       0.50      0.25      2.50     92.50\n",
       "std        0.87      0.50      3.25     44.29\n",
       "min       -1.41     -0.85    -12.09      0.00\n",
       "25%       -0.07     -0.20      0.29     56.50\n",
       "50%        0.50      0.25      2.52     91.85\n",
       "75%        1.07      0.70      4.72    128.56\n",
       "max        2.36      1.34     16.00    185.36"
      ]
     },
     "execution_count": 9,
     "metadata": {},
     "output_type": "execute_result"
    }
   ],
   "source": [
    "geo_data_0.describe()"
   ]
  },
  {
   "cell_type": "code",
   "execution_count": 10,
   "metadata": {},
   "outputs": [
    {
     "data": {
      "text/html": [
       "<div>\n",
       "<style scoped>\n",
       "    .dataframe tbody tr th:only-of-type {\n",
       "        vertical-align: middle;\n",
       "    }\n",
       "\n",
       "    .dataframe tbody tr th {\n",
       "        vertical-align: top;\n",
       "    }\n",
       "\n",
       "    .dataframe thead th {\n",
       "        text-align: right;\n",
       "    }\n",
       "</style>\n",
       "<table border=\"1\" class=\"dataframe\">\n",
       "  <thead>\n",
       "    <tr style=\"text-align: right;\">\n",
       "      <th></th>\n",
       "      <th>f0</th>\n",
       "      <th>f1</th>\n",
       "      <th>f2</th>\n",
       "      <th>product</th>\n",
       "    </tr>\n",
       "  </thead>\n",
       "  <tbody>\n",
       "    <tr>\n",
       "      <th>count</th>\n",
       "      <td>100000.00</td>\n",
       "      <td>100000.00</td>\n",
       "      <td>100000.00</td>\n",
       "      <td>100000.00</td>\n",
       "    </tr>\n",
       "    <tr>\n",
       "      <th>mean</th>\n",
       "      <td>1.14</td>\n",
       "      <td>-4.80</td>\n",
       "      <td>2.49</td>\n",
       "      <td>68.83</td>\n",
       "    </tr>\n",
       "    <tr>\n",
       "      <th>std</th>\n",
       "      <td>8.97</td>\n",
       "      <td>5.12</td>\n",
       "      <td>1.70</td>\n",
       "      <td>45.94</td>\n",
       "    </tr>\n",
       "    <tr>\n",
       "      <th>min</th>\n",
       "      <td>-31.61</td>\n",
       "      <td>-26.36</td>\n",
       "      <td>-0.02</td>\n",
       "      <td>0.00</td>\n",
       "    </tr>\n",
       "    <tr>\n",
       "      <th>25%</th>\n",
       "      <td>-6.30</td>\n",
       "      <td>-8.27</td>\n",
       "      <td>1.00</td>\n",
       "      <td>26.95</td>\n",
       "    </tr>\n",
       "    <tr>\n",
       "      <th>50%</th>\n",
       "      <td>1.15</td>\n",
       "      <td>-4.81</td>\n",
       "      <td>2.01</td>\n",
       "      <td>57.09</td>\n",
       "    </tr>\n",
       "    <tr>\n",
       "      <th>75%</th>\n",
       "      <td>8.62</td>\n",
       "      <td>-1.33</td>\n",
       "      <td>4.00</td>\n",
       "      <td>107.81</td>\n",
       "    </tr>\n",
       "    <tr>\n",
       "      <th>max</th>\n",
       "      <td>29.42</td>\n",
       "      <td>18.73</td>\n",
       "      <td>5.02</td>\n",
       "      <td>137.95</td>\n",
       "    </tr>\n",
       "  </tbody>\n",
       "</table>\n",
       "</div>"
      ],
      "text/plain": [
       "             f0        f1        f2   product\n",
       "count 100000.00 100000.00 100000.00 100000.00\n",
       "mean       1.14     -4.80      2.49     68.83\n",
       "std        8.97      5.12      1.70     45.94\n",
       "min      -31.61    -26.36     -0.02      0.00\n",
       "25%       -6.30     -8.27      1.00     26.95\n",
       "50%        1.15     -4.81      2.01     57.09\n",
       "75%        8.62     -1.33      4.00    107.81\n",
       "max       29.42     18.73      5.02    137.95"
      ]
     },
     "execution_count": 10,
     "metadata": {},
     "output_type": "execute_result"
    }
   ],
   "source": [
    "geo_data_1.describe()"
   ]
  },
  {
   "cell_type": "code",
   "execution_count": 11,
   "metadata": {},
   "outputs": [
    {
     "data": {
      "text/html": [
       "<div>\n",
       "<style scoped>\n",
       "    .dataframe tbody tr th:only-of-type {\n",
       "        vertical-align: middle;\n",
       "    }\n",
       "\n",
       "    .dataframe tbody tr th {\n",
       "        vertical-align: top;\n",
       "    }\n",
       "\n",
       "    .dataframe thead th {\n",
       "        text-align: right;\n",
       "    }\n",
       "</style>\n",
       "<table border=\"1\" class=\"dataframe\">\n",
       "  <thead>\n",
       "    <tr style=\"text-align: right;\">\n",
       "      <th></th>\n",
       "      <th>f0</th>\n",
       "      <th>f1</th>\n",
       "      <th>f2</th>\n",
       "      <th>product</th>\n",
       "    </tr>\n",
       "  </thead>\n",
       "  <tbody>\n",
       "    <tr>\n",
       "      <th>count</th>\n",
       "      <td>100000.00</td>\n",
       "      <td>100000.00</td>\n",
       "      <td>100000.00</td>\n",
       "      <td>100000.00</td>\n",
       "    </tr>\n",
       "    <tr>\n",
       "      <th>mean</th>\n",
       "      <td>0.00</td>\n",
       "      <td>-0.00</td>\n",
       "      <td>2.50</td>\n",
       "      <td>95.00</td>\n",
       "    </tr>\n",
       "    <tr>\n",
       "      <th>std</th>\n",
       "      <td>1.73</td>\n",
       "      <td>1.73</td>\n",
       "      <td>3.47</td>\n",
       "      <td>44.75</td>\n",
       "    </tr>\n",
       "    <tr>\n",
       "      <th>min</th>\n",
       "      <td>-8.76</td>\n",
       "      <td>-7.08</td>\n",
       "      <td>-11.97</td>\n",
       "      <td>0.00</td>\n",
       "    </tr>\n",
       "    <tr>\n",
       "      <th>25%</th>\n",
       "      <td>-1.16</td>\n",
       "      <td>-1.17</td>\n",
       "      <td>0.13</td>\n",
       "      <td>59.45</td>\n",
       "    </tr>\n",
       "    <tr>\n",
       "      <th>50%</th>\n",
       "      <td>0.01</td>\n",
       "      <td>-0.01</td>\n",
       "      <td>2.48</td>\n",
       "      <td>94.93</td>\n",
       "    </tr>\n",
       "    <tr>\n",
       "      <th>75%</th>\n",
       "      <td>1.16</td>\n",
       "      <td>1.16</td>\n",
       "      <td>4.86</td>\n",
       "      <td>130.60</td>\n",
       "    </tr>\n",
       "    <tr>\n",
       "      <th>max</th>\n",
       "      <td>7.24</td>\n",
       "      <td>7.84</td>\n",
       "      <td>16.74</td>\n",
       "      <td>190.03</td>\n",
       "    </tr>\n",
       "  </tbody>\n",
       "</table>\n",
       "</div>"
      ],
      "text/plain": [
       "             f0        f1        f2   product\n",
       "count 100000.00 100000.00 100000.00 100000.00\n",
       "mean       0.00     -0.00      2.50     95.00\n",
       "std        1.73      1.73      3.47     44.75\n",
       "min       -8.76     -7.08    -11.97      0.00\n",
       "25%       -1.16     -1.17      0.13     59.45\n",
       "50%        0.01     -0.01      2.48     94.93\n",
       "75%        1.16      1.16      4.86    130.60\n",
       "max        7.24      7.84     16.74    190.03"
      ]
     },
     "execution_count": 11,
     "metadata": {},
     "output_type": "execute_result"
    }
   ],
   "source": [
    "geo_data_2.describe()"
   ]
  },
  {
   "cell_type": "markdown",
   "metadata": {},
   "source": [
    "На первый взгляд критичных выбросов не видно. \n",
    "\n",
    "\n",
    "Посмотрим на графики распределения значений - построим гистограммы и ящик с усами для количественных признаков. Поскольку признаков много, сделаем это с помощью функций. "
   ]
  },
  {
   "cell_type": "code",
   "execution_count": 12,
   "metadata": {},
   "outputs": [],
   "source": [
    "#сделаем графики всевозможно синими\n",
    "colors=['aquamarine', 'turquoise', 'lightseagreen', 'mediumturquoise', 'darkturquoise', 'deepskyblue',\n",
    "        'dodgerblue', 'royalblue', 'cornflowerblue', 'steelblue']"
   ]
  },
  {
   "cell_type": "code",
   "execution_count": 13,
   "metadata": {},
   "outputs": [],
   "source": [
    "#уберем id из списка столбцов, для которых хотим построить графики\n",
    "col=['f0', 'f1', 'f2', 'product']"
   ]
  },
  {
   "cell_type": "code",
   "execution_count": 14,
   "metadata": {},
   "outputs": [],
   "source": [
    "#сооздадим функцию, которая поможет нам с графиками\n",
    "def visual (df, col):\n",
    "    df[col].plot(\n",
    "        kind='hist',\n",
    "        title=col,\n",
    "        alpha=0.5,\n",
    "        color=np.random.choice(colors)\n",
    "    )\n",
    "    plt.xlabel(col)\n",
    "    plt.ylabel('Значение ' + col)\n",
    "    plt.show();\n",
    "    \n",
    "    df[col].plot(\n",
    "    kind='box',\n",
    "    title=col,\n",
    "    color=np.random.choice(colors)\n",
    "    );\n",
    "    \n",
    "    plt.show()"
   ]
  },
  {
   "cell_type": "code",
   "execution_count": 15,
   "metadata": {},
   "outputs": [
    {
     "data": {
      "image/png": "[encoded data removed]",
      "text/plain": [
       "<Figure size 432x288 with 1 Axes>"
      ]
     },
     "metadata": {
      "needs_background": "light"
     },
     "output_type": "display_data"
    },
    {
     "data": {
      "image/png": "[encoded data removed]",
      "text/plain": [
       "<Figure size 432x288 with 1 Axes>"
      ]
     },
     "metadata": {
      "needs_background": "light"
     },
     "output_type": "display_data"
    },
    {
     "data": {
      "image/png": "[encoded data removed]",
      "text/plain": [
       "<Figure size 432x288 with 1 Axes>"
      ]
     },
     "metadata": {
      "needs_background": "light"
     },
     "output_type": "display_data"
    },
    {
     "data": {
      "image/png": "[encoded data removed]",
      "text/plain": [
       "<Figure size 432x288 with 1 Axes>"
      ]
     },
     "metadata": {
      "needs_background": "light"
     },
     "output_type": "display_data"
    },
    {
     "data": {
      "image/png": "[encoded data removed]",
      "text/plain": [
       "<Figure size 432x288 with 1 Axes>"
      ]
     },
     "metadata": {
      "needs_background": "light"
     },
     "output_type": "display_data"
    },
    {
     "data": {
      "image/png": "[encoded data removed]",
      "text/plain": [
       "<Figure size 432x288 with 1 Axes>"
      ]
     },
     "metadata": {
      "needs_background": "light"
     },
     "output_type": "display_data"
    },
    {
     "data": {
      "image/png": "[encoded data removed]",
      "text/plain": [
       "<Figure size 432x288 with 1 Axes>"
      ]
     },
     "metadata": {
      "needs_background": "light"
     },
     "output_type": "display_data"
    },
    {
     "data": {
      "image/png": "[encoded data removed]",
      "text/plain": [
       "<Figure size 432x288 with 1 Axes>"
      ]
     },
     "metadata": {
      "needs_background": "light"
     },
     "output_type": "display_data"
    },
    {
     "data": {
      "image/png": "[encoded data removed]",
      "text/plain": [
       "<Figure size 432x288 with 1 Axes>"
      ]
     },
     "metadata": {
      "needs_background": "light"
     },
     "output_type": "display_data"
    },
    {
     "data": {
      "image/png": "[encoded data removed]",
      "text/plain": [
       "<Figure size 432x288 with 1 Axes>"
      ]
     },
     "metadata": {
      "needs_background": "light"
     },
     "output_type": "display_data"
    },
    {
     "data": {
      "image/png": "[encoded data removed]",
      "text/plain": [
       "<Figure size 432x288 with 1 Axes>"
      ]
     },
     "metadata": {
      "needs_background": "light"
     },
     "output_type": "display_data"
    },
    {
     "data": {
      "image/png": "[encoded data removed]",
      "text/plain": [
       "<Figure size 432x288 with 1 Axes>"
      ]
     },
     "metadata": {
      "needs_background": "light"
     },
     "output_type": "display_data"
    },
    {
     "data": {
      "image/png": "[encoded data removed]",
      "text/plain": [
       "<Figure size 432x288 with 1 Axes>"
      ]
     },
     "metadata": {
      "needs_background": "light"
     },
     "output_type": "display_data"
    },
    {
     "data": {
      "image/png": "[encoded data removed]",
      "text/plain": [
       "<Figure size 432x288 with 1 Axes>"
      ]
     },
     "metadata": {
      "needs_background": "light"
     },
     "output_type": "display_data"
    },
    {
     "data": {
      "image/png": "[encoded data removed]",
      "text/plain": [
       "<Figure size 432x288 with 1 Axes>"
      ]
     },
     "metadata": {
      "needs_background": "light"
     },
     "output_type": "display_data"
    },
    {
     "data": {
      "image/png": "[encoded data removed]",
      "text/plain": [
       "<Figure size 432x288 with 1 Axes>"
      ]
     },
     "metadata": {
      "needs_background": "light"
     },
     "output_type": "display_data"
    },
    {
     "data": {
      "image/png": "[encoded data removed]",
      "text/plain": [
       "<Figure size 432x288 with 1 Axes>"
      ]
     },
     "metadata": {
      "needs_background": "light"
     },
     "output_type": "display_data"
    },
    {
     "data": {
      "image/png": "[encoded data removed]",
      "text/plain": [
       "<Figure size 432x288 with 1 Axes>"
      ]
     },
     "metadata": {
      "needs_background": "light"
     },
     "output_type": "display_data"
    },
    {
     "data": {
      "image/png": "[encoded data removed]",
      "text/plain": [
       "<Figure size 432x288 with 1 Axes>"
      ]
     },
     "metadata": {
      "needs_background": "light"
     },
     "output_type": "display_data"
    },
    {
     "data": {
      "image/png": "[encoded data removed]",
      "text/plain": [
       "<Figure size 432x288 with 1 Axes>"
      ]
     },
     "metadata": {
      "needs_background": "light"
     },
     "output_type": "display_data"
    },
    {
     "data": {
      "image/png": "[encoded data removed]",
      "text/plain": [
       "<Figure size 432x288 with 1 Axes>"
      ]
     },
     "metadata": {
      "needs_background": "light"
     },
     "output_type": "display_data"
    },
    {
     "data": {
      "image/png": "[encoded data removed]",
      "text/plain": [
       "<Figure size 432x288 with 1 Axes>"
      ]
     },
     "metadata": {
      "needs_background": "light"
     },
     "output_type": "display_data"
    },
    {
     "data": {
      "image/png": "[encoded data removed]",
      "text/plain": [
       "<Figure size 432x288 with 1 Axes>"
      ]
     },
     "metadata": {
      "needs_background": "light"
     },
     "output_type": "display_data"
    },
    {
     "data": {
      "image/png": "[encoded data removed]",
      "text/plain": [
       "<Figure size 432x288 with 1 Axes>"
      ]
     },
     "metadata": {
      "needs_background": "light"
     },
     "output_type": "display_data"
    }
   ],
   "source": [
    "#применим их к каждому столбцу \n",
    "for df in geo_data_0[col], geo_data_1[col], geo_data_2[col]:\n",
    "    for el in df:\n",
    "        visual(df, el)"
   ]
  },
  {
   "cell_type": "markdown",
   "metadata": {},
   "source": [
    "Только geo_data_2 имеет нормальное распределение всех признаков. \n",
    "В geo_data_0 f0 имеет пики около -1 и -2, f1 тоже не похож на нормальное распределение. \n",
    "В geo_data_1 f0 также имеет пики около 10 и -5, f2 вообще предполагает другие знаечения, нежели geo_data_0 - значения распределены по шкале от 0 до 5, а объем запасов в среднем около 8 000 тыс. баррелей, за исключением пиков около 0 и 140. "
   ]
  },
  {
   "cell_type": "code",
   "execution_count": 16,
   "metadata": {},
   "outputs": [
    {
     "name": "stdout",
     "output_type": "stream",
     "text": [
      "interval columns not set, guessing: ['f0', 'f1', 'f2', 'product']\n"
     ]
    },
    {
     "data": {
      "image/png": "[encoded data removed]",
      "text/plain": [
       "<Figure size 720x432 with 2 Axes>"
      ]
     },
     "metadata": {
      "needs_background": "light"
     },
     "output_type": "display_data"
    }
   ],
   "source": [
    "#посмотрим на коэффициенты корреляции между признаками\n",
    "plt.figure(figsize=(10, 6))\n",
    "sns.heatmap(geo_data_0[col].phik_matrix(), annot=True, cmap='cividis')\n",
    "plt.title('Корреляция признаков');"
   ]
  },
  {
   "cell_type": "code",
   "execution_count": 17,
   "metadata": {},
   "outputs": [
    {
     "name": "stdout",
     "output_type": "stream",
     "text": [
      "interval columns not set, guessing: ['f0', 'f1', 'f2', 'product']\n"
     ]
    },
    {
     "data": {
      "image/png": "[encoded data removed]",
      "text/plain": [
       "<Figure size 720x432 with 2 Axes>"
      ]
     },
     "metadata": {
      "needs_background": "light"
     },
     "output_type": "display_data"
    }
   ],
   "source": [
    "#посмотрим на коэффициенты корреляции между признаками\n",
    "plt.figure(figsize=(10, 6))\n",
    "sns.heatmap(geo_data_1[col].phik_matrix(), annot=True, cmap='cividis')\n",
    "plt.title('Корреляция признаков');"
   ]
  },
  {
   "cell_type": "code",
   "execution_count": 18,
   "metadata": {
    "scrolled": true
   },
   "outputs": [
    {
     "name": "stdout",
     "output_type": "stream",
     "text": [
      "interval columns not set, guessing: ['f0', 'f1', 'f2', 'product']\n"
     ]
    },
    {
     "data": {
      "image/png": "[encoded data removed]",
      "text/plain": [
       "<Figure size 720x432 with 2 Axes>"
      ]
     },
     "metadata": {
      "needs_background": "light"
     },
     "output_type": "display_data"
    }
   ],
   "source": [
    "#посмотрим на коэффициенты корреляции между признаками\n",
    "plt.figure(figsize=(10, 6))\n",
    "sns.heatmap(geo_data_2[col].phik_matrix(), annot=True, cmap='cividis')\n",
    "plt.title('Корреляция признаков');"
   ]
  },
  {
   "cell_type": "code",
   "execution_count": 19,
   "metadata": {
    "scrolled": true
   },
   "outputs": [
    {
     "data": {
      "image/png": "[encoded data removed]",
      "text/plain": [
       "<Figure size 489.6x576 with 14 Axes>"
      ]
     },
     "metadata": {
      "needs_background": "light"
     },
     "output_type": "display_data"
    }
   ],
   "source": [
    "# построим диаграмму рассеяния для geo_data_0\n",
    "sns.pairplot(\n",
    "    data=geo_data_0, \n",
    "    aspect=.85,\n",
    "    corner=True,\n",
    "    height=2);"
   ]
  },
  {
   "cell_type": "code",
   "execution_count": 20,
   "metadata": {},
   "outputs": [
    {
     "data": {
      "image/png": "[encoded data removed]",
      "text/plain": [
       "<Figure size 489.6x576 with 14 Axes>"
      ]
     },
     "metadata": {
      "needs_background": "light"
     },
     "output_type": "display_data"
    }
   ],
   "source": [
    "# построим диаграмму рассеяния для geo_data_1\n",
    "sns.pairplot(\n",
    "    data=geo_data_1, \n",
    "    aspect=.85,\n",
    "    corner=True,\n",
    "    height=2);"
   ]
  },
  {
   "cell_type": "code",
   "execution_count": 21,
   "metadata": {},
   "outputs": [
    {
     "data": {
      "image/png": "[encoded data removed]",
      "text/plain": [
       "<Figure size 489.6x576 with 14 Axes>"
      ]
     },
     "metadata": {
      "needs_background": "light"
     },
     "output_type": "display_data"
    }
   ],
   "source": [
    "# построим диаграмму рассеяния для geo_data_2\n",
    "sns.pairplot(\n",
    "    data=geo_data_2, \n",
    "    aspect=.85,\n",
    "    corner=True,\n",
    "    height=2);"
   ]
  },
  {
   "cell_type": "markdown",
   "metadata": {},
   "source": [
    "Корредяция признаков в датасетах неодинакова: \n",
    "- в geo_data_0 f1 и f0 имеют между собой сильную связь, в то время как в других датасетах связи слабая или отсутствует;\n",
    "- geo_data_1 product имеет очень сильную связи с f2, в то время как в других датасетах связь 0,44-0,48."
   ]
  },
  {
   "cell_type": "markdown",
   "metadata": {},
   "source": [
    "**Вывод**:\n",
    "1. Данные успешно загружены, типы данных соответствуют значениям.\n",
    "2. Нормальное распределение имеют только признаки в регионе geo_data_2\n",
    "3. По данным графика в таблицах есть выбросы, однако без интерпретации входных признаков делать вывод о наличии выбросов и удалять их / заменять нецелесообразно. Данные оставлены в виде заказчика. \n",
    "4. В geo_data_0 f1 и f0 имеют между собой сильную связь, в то время как в других датасетах связи слабая или отсутствует;\n",
    "5. В geo_data_1 product имеет очень сильную связи с f2, в то время как в других датасетах связь 0,44-0,48.\n",
    "\n",
    "В целом, данные готовы для построения моделей. "
   ]
  },
  {
   "cell_type": "markdown",
   "metadata": {},
   "source": [
    "## Обучение и проверка модели"
   ]
  },
  {
   "cell_type": "markdown",
   "metadata": {},
   "source": [
    "Поскольку по требованию закзчика мы можем использовать только хорошо интерпретируемую модель линейной регрессии, прочие модели не применялись. \n",
    "\n",
    "Обучим три модели для каждого из регионов. "
   ]
  },
  {
   "cell_type": "code",
   "execution_count": 23,
   "metadata": {},
   "outputs": [
    {
     "name": "stdout",
     "output_type": "stream",
     "text": [
      "rmse = 37.58\n",
      "Средний запас сырья = 92.62\n"
     ]
    }
   ],
   "source": [
    "#обучим модель для geo_data_0\n",
    "X_0 = geo_data_0.drop(['id', 'product'], axis=1)\n",
    "y_0 = geo_data_0['product']\n",
    "\n",
    "# делим данные\n",
    "X_train_0, X_valid_0, y_train_0, y_valid_0 = train_test_split(\n",
    "    X_0,\n",
    "    y_0,\n",
    "    test_size = TEST_SIZE,\n",
    "    random_state = RANDOM_STATE)\n",
    "\n",
    "# стандартизируем выборки\n",
    "scaler = StandardScaler()\n",
    "X_train_scalled_0 = scaler.fit_transform(X_train_0)\n",
    "X_valid_scalled_0 = scaler.transform(X_valid_0)\n",
    "\n",
    "\n",
    "# задаем модель линейной регрессии\n",
    "model_lr_0  = LinearRegression()\n",
    "\n",
    "# обучаем модель на тренировочных данных\n",
    "model_lr_0.fit(X_train_scalled_0, y_train_0)\n",
    "\n",
    "# получаем предсказания модели на тестовых данных \n",
    "predictions_0 = model_lr_0.predict(X_valid_scalled_0)\n",
    "rmse = mean_squared_error(y_valid_0, predictions_0) ** 0.5\n",
    "print(f'rmse = {rmse:.2f}')\n",
    "print(f'Средний запас сырья = {predictions_0.mean():.2f}')\n",
    "\n"
   ]
  },
  {
   "cell_type": "code",
   "execution_count": 24,
   "metadata": {},
   "outputs": [],
   "source": [
    "#сохраним целевое и предсказанные значения в одном дс\n",
    "save_0 = pd.DataFrame(y_valid_0)\n",
    "save_0['predictions'] = predictions_0"
   ]
  },
  {
   "cell_type": "code",
   "execution_count": 25,
   "metadata": {},
   "outputs": [
    {
     "name": "stdout",
     "output_type": "stream",
     "text": [
      "rmse = 0.89\n",
      "Средний запас сырья = 69.08\n"
     ]
    }
   ],
   "source": [
    "#обучим модель для geo_data_1\n",
    "X_1 = geo_data_1.drop(['id', 'product'], axis=1)\n",
    "y_1 = geo_data_1['product']\n",
    "\n",
    "# делим данные\n",
    "X_train_1, X_valid_1, y_train_1, y_valid_1 = train_test_split(\n",
    "    X_1,\n",
    "    y_1,\n",
    "    test_size = TEST_SIZE,\n",
    "    random_state = RANDOM_STATE)\n",
    "\n",
    "# стандартизируем выборки\n",
    "scaler_1 = StandardScaler()\n",
    "X_train_scalled_1 = scaler.fit_transform(X_train_1)\n",
    "X_valid_scalled_1 = scaler.transform(X_valid_1)\n",
    "\n",
    "\n",
    "# задаем модель линейной регрессии\n",
    "model_lr_1  = LinearRegression()\n",
    "\n",
    "# обучаем модель на тренировочных данных\n",
    "model_lr_1.fit(X_train_scalled_1, y_train_1)\n",
    "\n",
    "# получаем предсказания модели на тестовых данных \n",
    "predictions_1 = model_lr_1.predict(X_valid_scalled_1)\n",
    "rmse = mean_squared_error(y_valid_1, predictions_1) ** 0.5\n",
    "print(f'rmse = {rmse:.2f}')\n",
    "print(f'Средний запас сырья = {predictions_1.mean():.2f}')"
   ]
  },
  {
   "cell_type": "markdown",
   "metadata": {},
   "source": [
    "Снизить ошибку добавлением новых признаков (f0 в кварате, f1 в третьей степени или суммой f1 + f2) не удалось. \n",
    "Ошибка, как и средний запас сырья, незначительно, но растут. Исключать же f2 тоже нецелесообразно - прямая связь в линейной модели нужна (и да, опытна=ым путем выявлено, что при удалении f2 ошибка падает вдвое, как и средний запас сырья).\n",
    "\n",
    "Оставим данные без изменений входных признаков"
   ]
  },
  {
   "cell_type": "code",
   "execution_count": 26,
   "metadata": {},
   "outputs": [],
   "source": [
    "#сохраним целевое и предсказанные значения в одном дс\n",
    "save_1 = pd.DataFrame(y_valid_1)\n",
    "save_1['predictions'] = predictions_1"
   ]
  },
  {
   "cell_type": "code",
   "execution_count": 27,
   "metadata": {},
   "outputs": [
    {
     "name": "stdout",
     "output_type": "stream",
     "text": [
      "rmse = 40.09\n",
      "Средний запас сырья = 94.91\n"
     ]
    }
   ],
   "source": [
    "#обучим модель для geo_data_2\n",
    "X_2 = geo_data_2.drop(['id', 'product'], axis=1)\n",
    "y_2 = geo_data_2['product']\n",
    "\n",
    "# делим данные\n",
    "X_train_2, X_valid_2, y_train_2, y_valid_2 = train_test_split(\n",
    "    X_2,\n",
    "    y_2,\n",
    "    test_size = TEST_SIZE,\n",
    "    random_state = RANDOM_STATE)\n",
    "\n",
    "# стандартизируем выборки\n",
    "scaler_2 = StandardScaler()\n",
    "X_train_scalled_2 = scaler.fit_transform(X_train_2)\n",
    "X_valid_scalled_2 = scaler.transform(X_valid_2)\n",
    "\n",
    "\n",
    "# задаем модель линейной регрессии\n",
    "model_lr_2  = LinearRegression()\n",
    "\n",
    "# обучаем модель на тренировочных данных\n",
    "model_lr_2.fit(X_train_scalled_2, y_train_2)\n",
    "\n",
    "# получаем предсказания модели на тестовых данных \n",
    "predictions_2 = model_lr_2.predict(X_valid_scalled_2)\n",
    "rmse = mean_squared_error(y_valid_2, predictions_2) ** 0.5\n",
    "print(f'rmse = {rmse:.2f}')\n",
    "print(f'Средний запас сырья = {predictions_2.mean():.2f}')"
   ]
  },
  {
   "cell_type": "code",
   "execution_count": 28,
   "metadata": {},
   "outputs": [],
   "source": [
    "#сохраним целевое и предсказанные значения в одном дс\n",
    "save_2 = pd.DataFrame(y_valid_2)\n",
    "save_2['predictions'] = predictions_2"
   ]
  },
  {
   "cell_type": "markdown",
   "metadata": {},
   "source": [
    "Для каждого региона обучена модели, рассчитана ошибка и средний запас сырья, фактические и предсказанные значения сохранены. \n"
   ]
  },
  {
   "cell_type": "code",
   "execution_count": 29,
   "metadata": {},
   "outputs": [],
   "source": [
    "def func(df):\n",
    "    #обучим модель для geo_data_2\n",
    "    X = df.drop(['id', 'product'], axis=1)\n",
    "    y = df['product']\n",
    "\n",
    "    # делим данные\n",
    "    X_train, X_valid, y_train, y_valid = train_test_split(\n",
    "        X,\n",
    "        y,\n",
    "        test_size = TEST_SIZE,\n",
    "        random_state = RANDOM_STATE)\n",
    "\n",
    "    # стандартизируем выборки\n",
    "    scaler = StandardScaler()\n",
    "    X_train_scalled = scaler.fit_transform(X_train)\n",
    "    X_valid_scalled = scaler.transform(X_valid)\n",
    "\n",
    "\n",
    "    # задаем модель линейной регрессии\n",
    "    model_lr  = LinearRegression()\n",
    "\n",
    "    # обучаем модель на тренировочных данных\n",
    "    model_lr.fit(X_train_scalled, y_train)\n",
    "\n",
    "    # получаем предсказания модели на тестовых данных \n",
    "    predictions = model_lr.predict(X_valid_scalled)\n",
    "    rmse = mean_squared_error(y_valid, predictions) ** 0.5\n",
    "    print(f'rmse = {rmse:.2f}')\n",
    "    print(f'Средний запас сырья = {predictions.mean():.2f}')"
   ]
  },
  {
   "cell_type": "code",
   "execution_count": 30,
   "metadata": {},
   "outputs": [
    {
     "name": "stdout",
     "output_type": "stream",
     "text": [
      "rmse = 40.09\n",
      "Средний запас сырья = 94.91\n"
     ]
    }
   ],
   "source": [
    "func(geo_data_2)"
   ]
  },
  {
   "cell_type": "markdown",
   "metadata": {},
   "source": [
    "## Подготовка к расчёту прибыли"
   ]
  },
  {
   "cell_type": "code",
   "execution_count": 31,
   "metadata": {},
   "outputs": [],
   "source": [
    "#сохраним значения для расчетов\n",
    "budget = 10000000000\n",
    "income = 450000\n",
    "target_points = 200\n",
    "max_points = 500"
   ]
  },
  {
   "cell_type": "code",
   "execution_count": 32,
   "metadata": {},
   "outputs": [
    {
     "data": {
      "text/plain": [
       "111.11111111111111"
      ]
     },
     "execution_count": 32,
     "metadata": {},
     "output_type": "execute_result"
    }
   ],
   "source": [
    "#рассчитаем достаточный объём сырья для безубыточной разработки новой скважины\n",
    "profit = budget / (income * target_points)\n",
    "profit"
   ]
  },
  {
   "cell_type": "markdown",
   "metadata": {},
   "source": [
    "Вывод: ни один регион не отвечает требованию по достаточности объема сырья по среднему запасу сырья. Посмотрим, изменится ли решение по выбранным скважинам. "
   ]
  },
  {
   "cell_type": "markdown",
   "metadata": {},
   "source": [
    "## Расчёт прибыли и рисков "
   ]
  },
  {
   "cell_type": "markdown",
   "metadata": {},
   "source": [
    "Для начала посчитаем по всем предсказанным значениям запас сырья и прибыль. "
   ]
  },
  {
   "cell_type": "code",
   "execution_count": 33,
   "metadata": {},
   "outputs": [],
   "source": [
    "#создадим функцию для расчета прибыли от региона\n",
    "def profit_geo(df):\n",
    "    raw_materials = df.sort_values(by='predictions', ascending=False).head(target_points)['product']\n",
    "    profit_geo = raw_materials.sum().round()\n",
    "    return profit_geo"
   ]
  },
  {
   "cell_type": "code",
   "execution_count": 34,
   "metadata": {},
   "outputs": [
    {
     "name": "stdout",
     "output_type": "stream",
     "text": [
      "Запас сырья = 29339.0\n",
      "Прибыль от региона = 3202550000.0\n"
     ]
    }
   ],
   "source": [
    "#применим функцию для региона 0\n",
    "print(f'Запас сырья = {profit_geo(save_0)}')\n",
    "print(f'Прибыль от региона = {profit_geo(save_0)*income-budget}')"
   ]
  },
  {
   "cell_type": "code",
   "execution_count": 35,
   "metadata": {},
   "outputs": [
    {
     "name": "stdout",
     "output_type": "stream",
     "text": [
      "Запас сырья = 27589.0\n",
      "Прибыль от региона = 2415050000.0\n"
     ]
    }
   ],
   "source": [
    "#применим функцию для региона 1\n",
    "print(f'Запас сырья = {profit_geo(save_1)}')\n",
    "print(f'Прибыль от региона = {profit_geo(save_1)*income-budget}')"
   ]
  },
  {
   "cell_type": "code",
   "execution_count": 36,
   "metadata": {},
   "outputs": [
    {
     "name": "stdout",
     "output_type": "stream",
     "text": [
      "Запас сырья = 27803.0\n",
      "Прибыль от региона = 2511350000.0\n"
     ]
    }
   ],
   "source": [
    "#применим функцию для региона 2\n",
    "print(f'Запас сырья = {profit_geo(save_2)}')\n",
    "print(f'Прибыль от региона = {profit_geo(save_2)*income-budget}')"
   ]
  },
  {
   "cell_type": "markdown",
   "metadata": {},
   "source": [
    "Теперь отберем случайным образом 500 скважин 1000 раз, посчитаем для каждого случая среднее, прибыль и убытки.\n",
    "Сравним средние значения, полученые таким образом по каждому региону. "
   ]
  },
  {
   "cell_type": "code",
   "execution_count": 37,
   "metadata": {},
   "outputs": [],
   "source": [
    "#создадим функцию, чтобы избежать лишних повторений\n",
    "def conclusion2(df):\n",
    "    #зададим случайность, чтобы выборки каждый раз менялись \n",
    "    state = RandomState(12345) \n",
    "\n",
    "    #пустой список для наших расчетов\n",
    "    values = []\n",
    "    #для 1000 повторений\n",
    "    for i in range(1000):\n",
    "        #создадим случайную выборку в 500 значений\n",
    "        subsample = df.sample(max_points, replace=True, random_state=state)\n",
    "        #выберем из этих 500 значений по предсказаниям лучшие 200 и посчитаем прибыль (ну, или убыток)\n",
    "        mur = profit_geo(subsample)*income-budget\n",
    "        #сохраним в списке\n",
    "        values.append(mur)\n",
    "\n",
    "    #сделаем из списка Series, чтобы удобнее с ним работать \n",
    "    values = pd.Series(values)\n",
    "\n",
    "    # помним про доверительный интервал\n",
    "    lower = values.quantile(0.025).round()\n",
    "    upper = values.quantile(0.975).round()\n",
    "\n",
    "    #наконец, выведем итог\n",
    "    print('Доверительный интервал: ', lower, ' - ', upper)\n",
    "    print(f'Прибыль от региона = {values.mean().round(2)}')\n",
    "    print(f'Риск = {(values.apply(lambda x: x < 0).sum()/len(values)*100).round(2)}%')"
   ]
  },
  {
   "cell_type": "code",
   "execution_count": 38,
   "metadata": {},
   "outputs": [
    {
     "name": "stdout",
     "output_type": "stream",
     "text": [
      "Данные для нулевого региона: \n",
      "Доверительный интервал:  -81178750.0  -  979718750.0\n",
      "Прибыль от региона = 473601950.0\n",
      "Риск = 4.3%\n"
     ]
    }
   ],
   "source": [
    "print('Данные для нулевого региона: ')\n",
    "conclusion2(save_0)"
   ]
  },
  {
   "cell_type": "code",
   "execution_count": 39,
   "metadata": {},
   "outputs": [
    {
     "name": "stdout",
     "output_type": "stream",
     "text": [
      "Данные для первого региона: \n",
      "Доверительный интервал:  84095000.0  -  849623750.0\n",
      "Прибыль от региона = 470559050.0\n",
      "Риск = 1.4%\n"
     ]
    }
   ],
   "source": [
    "print('Данные для первого региона: ')\n",
    "conclusion2(save_1)"
   ]
  },
  {
   "cell_type": "code",
   "execution_count": 40,
   "metadata": {},
   "outputs": [
    {
     "name": "stdout",
     "output_type": "stream",
     "text": [
      "Данные для второго региона: \n",
      "Доверительный интервал:  -119620000.0  -  878142500.0\n",
      "Прибыль от региона = 388279250.0\n",
      "Риск = 6.7%\n"
     ]
    }
   ],
   "source": [
    "print('Данные для второго региона: ')\n",
    "conclusion2(save_2)"
   ]
  },
  {
   "cell_type": "markdown",
   "metadata": {},
   "source": [
    "Очевидно, по условиям заказчика подойдет только первый регион - риск региона составляет допустимые 1,4%. "
   ]
  },
  {
   "cell_type": "markdown",
   "metadata": {},
   "source": [
    "**Вывод**:\n",
    "1. Данные успешно загружены. На этапе предобработки данных выявлены выбросы, однако при отсутствии пояснений к входным признакам их обработка не проводилась. Все данные заказчика использованы в полном объеме.\n",
    "2. Для каждого региона построена модель линейной регрессии. Важно: модель для первого региона дает наибольшую ошибку.\n",
    "3. Для каждого региона рассчитаны: доверительный интервал, средняя прибыль и убытки. \n",
    "\n",
    "**Выбор локации**\n",
    "Ни один из реионов не отвечает требованиям по среднему запасу сырья, при этом выбранные скважины позволяют получить достаточную прибыль.\n",
    "Для разработки предлагается регион под номером 1, т.к. имеет допустимуб долю рисков (1,4% при лимите 2,5%), самую высокую среднюю прибыль. \n",
    "\n",
    "\n",
    "*На подумать*\n",
    "\n",
    "Модель для первого региона показывает самую большую ошибку. Если возможно, следует добавить пояснения к входным признакам для их корректной обработки, чтобы снизить ошибку модели. \n"
   ]
  }
 ],
 "metadata": {
  "ExecuteTimeLog": [
   {
    "duration": 19390,
    "start_time": "2024-01-08T07:53:42.887Z"
   },
   {
    "duration": 363,
    "start_time": "2024-01-08T07:54:54.130Z"
   },
   {
    "duration": 509,
    "start_time": "2024-01-08T07:55:19.675Z"
   },
   {
    "duration": 5,
    "start_time": "2024-01-08T07:55:30.245Z"
   },
   {
    "duration": 3,
    "start_time": "2024-01-08T07:55:36.941Z"
   },
   {
    "duration": 101,
    "start_time": "2024-01-08T07:56:12.086Z"
   },
   {
    "duration": 102,
    "start_time": "2024-01-08T07:56:47.732Z"
   },
   {
    "duration": 102,
    "start_time": "2024-01-08T07:57:05.238Z"
   },
   {
    "duration": 13,
    "start_time": "2024-01-08T07:59:59.657Z"
   },
   {
    "duration": 16,
    "start_time": "2024-01-08T08:01:17.706Z"
   },
   {
    "duration": 44,
    "start_time": "2024-01-08T08:01:56.597Z"
   },
   {
    "duration": 183,
    "start_time": "2024-01-08T08:02:03.500Z"
   },
   {
    "duration": 54,
    "start_time": "2024-01-08T08:02:08.051Z"
   },
   {
    "duration": 14,
    "start_time": "2024-01-08T08:03:12.667Z"
   },
   {
    "duration": 22,
    "start_time": "2024-01-08T08:03:34.174Z"
   },
   {
    "duration": 48,
    "start_time": "2024-01-08T08:03:46.831Z"
   },
   {
    "duration": 54,
    "start_time": "2024-01-08T08:04:16.507Z"
   },
   {
    "duration": 55,
    "start_time": "2024-01-08T08:04:23.019Z"
   },
   {
    "duration": 52,
    "start_time": "2024-01-08T08:05:53.833Z"
   },
   {
    "duration": 59,
    "start_time": "2024-01-08T08:06:03.456Z"
   },
   {
    "duration": 32,
    "start_time": "2024-01-08T08:10:25.343Z"
   },
   {
    "duration": 32,
    "start_time": "2024-01-08T08:11:41.395Z"
   },
   {
    "duration": 32,
    "start_time": "2024-01-08T08:11:47.291Z"
   },
   {
    "duration": 3,
    "start_time": "2024-01-08T08:12:46.805Z"
   },
   {
    "duration": 3,
    "start_time": "2024-01-08T08:13:08.641Z"
   },
   {
    "duration": 20,
    "start_time": "2024-01-08T08:14:40.262Z"
   },
   {
    "duration": 16,
    "start_time": "2024-01-08T08:14:45.472Z"
   },
   {
    "duration": 30,
    "start_time": "2024-01-08T08:15:49.007Z"
   },
   {
    "duration": 1195,
    "start_time": "2024-01-08T08:16:52.975Z"
   },
   {
    "duration": 23,
    "start_time": "2024-01-08T08:16:57.813Z"
   },
   {
    "duration": 267,
    "start_time": "2024-01-08T08:17:09.278Z"
   },
   {
    "duration": 3,
    "start_time": "2024-01-08T08:17:40.260Z"
   },
   {
    "duration": 4,
    "start_time": "2024-01-08T08:17:40.847Z"
   },
   {
    "duration": 18,
    "start_time": "2024-01-08T08:17:44.894Z"
   },
   {
    "duration": 22,
    "start_time": "2024-01-08T08:18:30.397Z"
   },
   {
    "duration": 906,
    "start_time": "2024-01-08T08:18:47.317Z"
   },
   {
    "duration": 3060,
    "start_time": "2024-01-08T08:19:22.274Z"
   },
   {
    "duration": 2893,
    "start_time": "2024-01-08T08:19:26.708Z"
   },
   {
    "duration": 4,
    "start_time": "2024-01-08T08:20:30.125Z"
   },
   {
    "duration": 4,
    "start_time": "2024-01-08T08:20:51.042Z"
   },
   {
    "duration": 171,
    "start_time": "2024-01-08T08:20:51.448Z"
   },
   {
    "duration": 178,
    "start_time": "2024-01-08T08:21:08.903Z"
   },
   {
    "duration": 175,
    "start_time": "2024-01-08T08:21:09.260Z"
   },
   {
    "duration": 5,
    "start_time": "2024-01-08T08:21:14.836Z"
   },
   {
    "duration": 2828,
    "start_time": "2024-01-08T08:21:15.219Z"
   },
   {
    "duration": 4,
    "start_time": "2024-01-08T08:21:56.056Z"
   },
   {
    "duration": 265,
    "start_time": "2024-01-08T08:21:56.436Z"
   },
   {
    "duration": 4,
    "start_time": "2024-01-08T08:22:23.148Z"
   },
   {
    "duration": 184,
    "start_time": "2024-01-08T08:22:25.639Z"
   },
   {
    "duration": 4,
    "start_time": "2024-01-08T08:22:34.493Z"
   },
   {
    "duration": 2815,
    "start_time": "2024-01-08T08:22:34.836Z"
   },
   {
    "duration": 4,
    "start_time": "2024-01-08T08:22:49.996Z"
   },
   {
    "duration": 175,
    "start_time": "2024-01-08T08:22:50.453Z"
   },
   {
    "duration": 3,
    "start_time": "2024-01-08T08:22:58.628Z"
   },
   {
    "duration": 3149,
    "start_time": "2024-01-08T08:23:14.157Z"
   },
   {
    "duration": 2938,
    "start_time": "2024-01-08T08:23:34.753Z"
   },
   {
    "duration": 2910,
    "start_time": "2024-01-08T08:24:15.866Z"
   },
   {
    "duration": 2778,
    "start_time": "2024-01-08T08:24:31.620Z"
   },
   {
    "duration": 3062,
    "start_time": "2024-01-08T08:31:49.691Z"
   },
   {
    "duration": 12413,
    "start_time": "2024-01-08T08:32:24.916Z"
   },
   {
    "duration": 394,
    "start_time": "2024-01-08T08:32:37.331Z"
   },
   {
    "duration": 5,
    "start_time": "2024-01-08T08:32:37.727Z"
   },
   {
    "duration": 20,
    "start_time": "2024-01-08T08:32:37.734Z"
   },
   {
    "duration": 111,
    "start_time": "2024-01-08T08:32:37.756Z"
   },
   {
    "duration": 101,
    "start_time": "2024-01-08T08:32:37.869Z"
   },
   {
    "duration": 105,
    "start_time": "2024-01-08T08:32:37.972Z"
   },
   {
    "duration": 65,
    "start_time": "2024-01-08T08:32:38.078Z"
   },
   {
    "duration": 52,
    "start_time": "2024-01-08T08:32:38.145Z"
   },
   {
    "duration": 41,
    "start_time": "2024-01-08T08:32:38.198Z"
   },
   {
    "duration": 56,
    "start_time": "2024-01-08T08:32:38.241Z"
   },
   {
    "duration": 3,
    "start_time": "2024-01-08T08:32:38.299Z"
   },
   {
    "duration": 4,
    "start_time": "2024-01-08T08:32:38.303Z"
   },
   {
    "duration": 4,
    "start_time": "2024-01-08T08:32:38.309Z"
   },
   {
    "duration": 3032,
    "start_time": "2024-01-08T08:32:38.315Z"
   },
   {
    "duration": 129584,
    "start_time": "2024-01-08T08:32:41.349Z"
   },
   {
    "duration": 0,
    "start_time": "2024-01-08T08:34:50.936Z"
   },
   {
    "duration": 16,
    "start_time": "2024-01-08T08:34:58.940Z"
   },
   {
    "duration": 74,
    "start_time": "2024-01-08T08:35:06.051Z"
   },
   {
    "duration": 191166,
    "start_time": "2024-01-08T08:35:25.579Z"
   },
   {
    "duration": 2308,
    "start_time": "2024-01-08T08:42:39.096Z"
   },
   {
    "duration": 4962,
    "start_time": "2024-01-08T08:42:53.124Z"
   },
   {
    "duration": 1391,
    "start_time": "2024-01-08T08:43:02.960Z"
   },
   {
    "duration": 42,
    "start_time": "2024-01-08T09:05:45.087Z"
   },
   {
    "duration": 30,
    "start_time": "2024-01-08T09:06:55.916Z"
   },
   {
    "duration": 27,
    "start_time": "2024-01-08T09:07:06.292Z"
   },
   {
    "duration": 12,
    "start_time": "2024-01-08T09:07:17.104Z"
   },
   {
    "duration": 28,
    "start_time": "2024-01-08T09:08:15.579Z"
   },
   {
    "duration": 15,
    "start_time": "2024-01-08T09:08:28.629Z"
   },
   {
    "duration": 26,
    "start_time": "2024-01-08T09:08:36.726Z"
   },
   {
    "duration": 25,
    "start_time": "2024-01-08T09:09:51.462Z"
   },
   {
    "duration": 869,
    "start_time": "2024-01-08T09:09:55.026Z"
   },
   {
    "duration": 860,
    "start_time": "2024-01-08T09:11:33.580Z"
   },
   {
    "duration": 3,
    "start_time": "2024-01-08T09:14:23.071Z"
   },
   {
    "duration": 34,
    "start_time": "2024-01-08T09:16:00.378Z"
   },
   {
    "duration": 26,
    "start_time": "2024-01-08T09:19:06.403Z"
   },
   {
    "duration": 19,
    "start_time": "2024-01-08T09:23:20.160Z"
   },
   {
    "duration": 195,
    "start_time": "2024-01-08T09:25:09.369Z"
   },
   {
    "duration": 2,
    "start_time": "2024-01-08T09:25:38.252Z"
   },
   {
    "duration": 29,
    "start_time": "2024-01-08T09:25:38.818Z"
   },
   {
    "duration": 27,
    "start_time": "2024-01-08T09:27:30.532Z"
   },
   {
    "duration": 29,
    "start_time": "2024-01-08T09:29:18.337Z"
   },
   {
    "duration": 28,
    "start_time": "2024-01-08T09:29:23.599Z"
   },
   {
    "duration": 31,
    "start_time": "2024-01-08T09:32:08.172Z"
   },
   {
    "duration": 29,
    "start_time": "2024-01-08T09:32:20.496Z"
   },
   {
    "duration": 31,
    "start_time": "2024-01-08T09:33:14.761Z"
   },
   {
    "duration": 4,
    "start_time": "2024-01-08T09:34:32.626Z"
   },
   {
    "duration": 4,
    "start_time": "2024-01-08T09:34:47.558Z"
   },
   {
    "duration": 38,
    "start_time": "2024-01-08T09:35:02.330Z"
   },
   {
    "duration": 4,
    "start_time": "2024-01-08T09:35:11.650Z"
   },
   {
    "duration": 16,
    "start_time": "2024-01-08T09:35:15.298Z"
   },
   {
    "duration": 4,
    "start_time": "2024-01-08T09:35:23.151Z"
   },
   {
    "duration": 34,
    "start_time": "2024-01-08T09:35:25.839Z"
   },
   {
    "duration": 27,
    "start_time": "2024-01-08T09:37:11.068Z"
   },
   {
    "duration": 27,
    "start_time": "2024-01-08T09:37:29.508Z"
   },
   {
    "duration": 12530,
    "start_time": "2024-01-08T09:37:42.641Z"
   },
   {
    "duration": 400,
    "start_time": "2024-01-08T09:37:55.173Z"
   },
   {
    "duration": 4,
    "start_time": "2024-01-08T09:37:55.575Z"
   },
   {
    "duration": 5,
    "start_time": "2024-01-08T09:37:55.581Z"
   },
   {
    "duration": 120,
    "start_time": "2024-01-08T09:37:55.588Z"
   },
   {
    "duration": 104,
    "start_time": "2024-01-08T09:37:55.710Z"
   },
   {
    "duration": 110,
    "start_time": "2024-01-08T09:37:55.815Z"
   },
   {
    "duration": 86,
    "start_time": "2024-01-08T09:37:55.927Z"
   },
   {
    "duration": 57,
    "start_time": "2024-01-08T09:37:56.015Z"
   },
   {
    "duration": 34,
    "start_time": "2024-01-08T09:37:56.073Z"
   },
   {
    "duration": 32,
    "start_time": "2024-01-08T09:37:56.108Z"
   },
   {
    "duration": 3,
    "start_time": "2024-01-08T09:37:56.141Z"
   },
   {
    "duration": 21,
    "start_time": "2024-01-08T09:37:56.145Z"
   },
   {
    "duration": 4,
    "start_time": "2024-01-08T09:37:56.168Z"
   },
   {
    "duration": 2987,
    "start_time": "2024-01-08T09:37:56.174Z"
   },
   {
    "duration": 9869,
    "start_time": "2024-01-08T09:37:59.165Z"
   },
   {
    "duration": 1217,
    "start_time": "2024-01-08T09:38:09.036Z"
   },
   {
    "duration": 1118,
    "start_time": "2024-01-08T09:38:10.255Z"
   },
   {
    "duration": 2,
    "start_time": "2024-01-08T09:38:11.375Z"
   },
   {
    "duration": 186,
    "start_time": "2024-01-08T09:38:11.379Z"
   },
   {
    "duration": 273,
    "start_time": "2024-01-08T09:38:11.567Z"
   },
   {
    "duration": 0,
    "start_time": "2024-01-08T09:38:11.842Z"
   },
   {
    "duration": 38,
    "start_time": "2024-01-08T09:54:15.277Z"
   },
   {
    "duration": 36,
    "start_time": "2024-01-08T09:56:34.355Z"
   },
   {
    "duration": 30,
    "start_time": "2024-01-08T09:58:03.678Z"
   },
   {
    "duration": 34,
    "start_time": "2024-01-08T09:58:41.938Z"
   },
   {
    "duration": 43,
    "start_time": "2024-01-08T09:59:13.487Z"
   },
   {
    "duration": 12437,
    "start_time": "2024-01-08T09:59:26.566Z"
   },
   {
    "duration": 397,
    "start_time": "2024-01-08T09:59:39.006Z"
   },
   {
    "duration": 4,
    "start_time": "2024-01-08T09:59:39.405Z"
   },
   {
    "duration": 6,
    "start_time": "2024-01-08T09:59:39.410Z"
   },
   {
    "duration": 98,
    "start_time": "2024-01-08T09:59:39.418Z"
   },
   {
    "duration": 102,
    "start_time": "2024-01-08T09:59:39.517Z"
   },
   {
    "duration": 113,
    "start_time": "2024-01-08T09:59:39.620Z"
   },
   {
    "duration": 104,
    "start_time": "2024-01-08T09:59:39.735Z"
   },
   {
    "duration": 50,
    "start_time": "2024-01-08T09:59:39.841Z"
   },
   {
    "duration": 32,
    "start_time": "2024-01-08T09:59:39.893Z"
   },
   {
    "duration": 43,
    "start_time": "2024-01-08T09:59:39.927Z"
   },
   {
    "duration": 2,
    "start_time": "2024-01-08T09:59:39.972Z"
   },
   {
    "duration": 13,
    "start_time": "2024-01-08T09:59:39.976Z"
   },
   {
    "duration": 3,
    "start_time": "2024-01-08T09:59:39.992Z"
   },
   {
    "duration": 2902,
    "start_time": "2024-01-08T09:59:39.996Z"
   },
   {
    "duration": 9921,
    "start_time": "2024-01-08T09:59:42.900Z"
   },
   {
    "duration": 1051,
    "start_time": "2024-01-08T09:59:52.822Z"
   },
   {
    "duration": 1105,
    "start_time": "2024-01-08T09:59:53.875Z"
   },
   {
    "duration": 2,
    "start_time": "2024-01-08T09:59:54.982Z"
   },
   {
    "duration": 347,
    "start_time": "2024-01-08T09:59:54.986Z"
   },
   {
    "duration": 0,
    "start_time": "2024-01-08T09:59:55.335Z"
   },
   {
    "duration": 32,
    "start_time": "2024-01-08T10:00:30.002Z"
   },
   {
    "duration": 29,
    "start_time": "2024-01-08T10:00:45.940Z"
   },
   {
    "duration": 32,
    "start_time": "2024-01-08T10:00:52.035Z"
   },
   {
    "duration": 26,
    "start_time": "2024-01-08T10:01:02.487Z"
   },
   {
    "duration": 29,
    "start_time": "2024-01-08T10:01:21.387Z"
   },
   {
    "duration": 33,
    "start_time": "2024-01-08T10:01:27.608Z"
   },
   {
    "duration": 35,
    "start_time": "2024-01-08T10:02:13.433Z"
   },
   {
    "duration": 7,
    "start_time": "2024-01-08T10:06:41.181Z"
   },
   {
    "duration": 13,
    "start_time": "2024-01-08T10:07:27.984Z"
   },
   {
    "duration": 14,
    "start_time": "2024-01-08T10:07:47.413Z"
   },
   {
    "duration": 11,
    "start_time": "2024-01-08T10:07:53.833Z"
   },
   {
    "duration": 3,
    "start_time": "2024-01-08T10:07:57.862Z"
   },
   {
    "duration": 4,
    "start_time": "2024-01-08T10:08:05.266Z"
   },
   {
    "duration": 18,
    "start_time": "2024-01-08T10:09:30.022Z"
   },
   {
    "duration": 3,
    "start_time": "2024-01-08T10:09:41.457Z"
   },
   {
    "duration": 8,
    "start_time": "2024-01-08T10:09:46.242Z"
   },
   {
    "duration": 4,
    "start_time": "2024-01-08T10:10:17.349Z"
   },
   {
    "duration": 10,
    "start_time": "2024-01-08T10:10:21.251Z"
   },
   {
    "duration": 6,
    "start_time": "2024-01-08T10:10:42.408Z"
   },
   {
    "duration": 10,
    "start_time": "2024-01-08T10:10:50.413Z"
   },
   {
    "duration": 4,
    "start_time": "2024-01-08T10:11:09.127Z"
   },
   {
    "duration": 4,
    "start_time": "2024-01-08T10:11:28.089Z"
   },
   {
    "duration": 4,
    "start_time": "2024-01-08T10:11:44.991Z"
   },
   {
    "duration": 32,
    "start_time": "2024-01-08T10:12:18.074Z"
   },
   {
    "duration": 25,
    "start_time": "2024-01-08T10:12:22.803Z"
   },
   {
    "duration": 3,
    "start_time": "2024-01-08T10:14:42.167Z"
   },
   {
    "duration": 2,
    "start_time": "2024-01-08T10:15:17.991Z"
   },
   {
    "duration": 3,
    "start_time": "2024-01-08T10:15:21.708Z"
   },
   {
    "duration": 3,
    "start_time": "2024-01-08T10:15:33.219Z"
   },
   {
    "duration": 9,
    "start_time": "2024-01-08T10:20:47.286Z"
   },
   {
    "duration": 11,
    "start_time": "2024-01-08T10:21:10.986Z"
   },
   {
    "duration": 12,
    "start_time": "2024-01-08T10:21:21.694Z"
   },
   {
    "duration": 11,
    "start_time": "2024-01-08T10:21:32.635Z"
   },
   {
    "duration": 11,
    "start_time": "2024-01-08T10:21:42.884Z"
   },
   {
    "duration": 9,
    "start_time": "2024-01-08T10:21:55.615Z"
   },
   {
    "duration": 7,
    "start_time": "2024-01-08T10:22:00.147Z"
   },
   {
    "duration": 4,
    "start_time": "2024-01-08T10:25:37.989Z"
   },
   {
    "duration": 19,
    "start_time": "2024-01-08T10:25:54.591Z"
   },
   {
    "duration": 20,
    "start_time": "2024-01-08T10:26:14.239Z"
   },
   {
    "duration": 8,
    "start_time": "2024-01-08T10:26:50.188Z"
   },
   {
    "duration": 4,
    "start_time": "2024-01-08T10:27:14.815Z"
   },
   {
    "duration": 4,
    "start_time": "2024-01-08T10:27:19.083Z"
   },
   {
    "duration": 5,
    "start_time": "2024-01-08T10:27:23.063Z"
   },
   {
    "duration": 4,
    "start_time": "2024-01-08T10:27:38.509Z"
   },
   {
    "duration": 7,
    "start_time": "2024-01-08T10:27:42.606Z"
   },
   {
    "duration": 7,
    "start_time": "2024-01-08T10:27:50.145Z"
   },
   {
    "duration": 7,
    "start_time": "2024-01-08T10:27:54.613Z"
   },
   {
    "duration": 5,
    "start_time": "2024-01-08T10:35:01.430Z"
   },
   {
    "duration": 6,
    "start_time": "2024-01-08T10:35:02.659Z"
   },
   {
    "duration": 36,
    "start_time": "2024-01-08T11:36:35.422Z"
   },
   {
    "duration": 4,
    "start_time": "2024-01-08T11:36:43.085Z"
   },
   {
    "duration": 85,
    "start_time": "2024-01-08T11:36:50.721Z"
   },
   {
    "duration": 8,
    "start_time": "2024-01-08T11:36:52.954Z"
   },
   {
    "duration": 2899,
    "start_time": "2024-01-08T11:38:41.073Z"
   },
   {
    "duration": 2902,
    "start_time": "2024-01-08T11:39:16.547Z"
   },
   {
    "duration": 3210,
    "start_time": "2024-01-08T11:39:28.095Z"
   },
   {
    "duration": 3,
    "start_time": "2024-01-08T11:40:47.644Z"
   },
   {
    "duration": 6,
    "start_time": "2024-01-08T11:40:48.192Z"
   },
   {
    "duration": 5,
    "start_time": "2024-01-08T11:40:48.613Z"
   },
   {
    "duration": 6,
    "start_time": "2024-01-08T11:40:49.033Z"
   },
   {
    "duration": 2,
    "start_time": "2024-01-08T11:40:57.821Z"
   },
   {
    "duration": 6,
    "start_time": "2024-01-08T11:40:58.597Z"
   },
   {
    "duration": 6,
    "start_time": "2024-01-08T11:40:58.752Z"
   },
   {
    "duration": 8,
    "start_time": "2024-01-08T11:40:58.916Z"
   },
   {
    "duration": 6,
    "start_time": "2024-01-08T11:42:05.066Z"
   },
   {
    "duration": 634,
    "start_time": "2024-01-08T11:53:04.207Z"
   },
   {
    "duration": 3,
    "start_time": "2024-01-08T11:57:44.202Z"
   },
   {
    "duration": 7,
    "start_time": "2024-01-08T11:57:44.688Z"
   },
   {
    "duration": 6,
    "start_time": "2024-01-08T11:57:45.958Z"
   },
   {
    "duration": 7,
    "start_time": "2024-01-08T11:57:46.610Z"
   },
   {
    "duration": 624,
    "start_time": "2024-01-08T11:57:49.765Z"
   },
   {
    "duration": 856,
    "start_time": "2024-01-08T11:59:10.262Z"
   },
   {
    "duration": 849,
    "start_time": "2024-01-08T11:59:30.491Z"
   },
   {
    "duration": 829,
    "start_time": "2024-01-08T12:01:35.432Z"
   },
   {
    "duration": 803,
    "start_time": "2024-01-08T12:09:03.756Z"
   },
   {
    "duration": 830,
    "start_time": "2024-01-08T12:09:12.411Z"
   },
   {
    "duration": 5,
    "start_time": "2024-01-08T12:10:02.512Z"
   },
   {
    "duration": 4,
    "start_time": "2024-01-08T12:10:17.024Z"
   },
   {
    "duration": 5,
    "start_time": "2024-01-08T12:11:12.304Z"
   },
   {
    "duration": 21,
    "start_time": "2024-01-08T12:11:34.871Z"
   },
   {
    "duration": 828,
    "start_time": "2024-01-08T12:11:52.069Z"
   },
   {
    "duration": 797,
    "start_time": "2024-01-08T12:12:13.753Z"
   },
   {
    "duration": 9,
    "start_time": "2024-01-08T12:14:00.424Z"
   },
   {
    "duration": 11,
    "start_time": "2024-01-08T12:22:38.274Z"
   },
   {
    "duration": 3,
    "start_time": "2024-01-08T12:22:44.261Z"
   },
   {
    "duration": 8,
    "start_time": "2024-01-08T12:22:47.411Z"
   },
   {
    "duration": 3,
    "start_time": "2024-01-08T12:22:58.034Z"
   },
   {
    "duration": 10,
    "start_time": "2024-01-08T12:23:01.939Z"
   },
   {
    "duration": 9,
    "start_time": "2024-01-08T12:23:50.423Z"
   },
   {
    "duration": 7,
    "start_time": "2024-01-08T12:24:09.787Z"
   },
   {
    "duration": 5,
    "start_time": "2024-01-08T12:24:23.468Z"
   },
   {
    "duration": 5,
    "start_time": "2024-01-08T12:24:41.041Z"
   },
   {
    "duration": 6,
    "start_time": "2024-01-08T12:25:52.089Z"
   },
   {
    "duration": 6,
    "start_time": "2024-01-08T12:25:54.653Z"
   },
   {
    "duration": 6,
    "start_time": "2024-01-08T12:25:57.515Z"
   },
   {
    "duration": 7,
    "start_time": "2024-01-08T12:25:58.977Z"
   },
   {
    "duration": 6,
    "start_time": "2024-01-08T12:26:00.417Z"
   },
   {
    "duration": 2,
    "start_time": "2024-01-08T12:26:14.596Z"
   },
   {
    "duration": 6,
    "start_time": "2024-01-08T12:26:18.624Z"
   },
   {
    "duration": 6,
    "start_time": "2024-01-08T12:26:21.768Z"
   },
   {
    "duration": 6,
    "start_time": "2024-01-08T12:26:22.836Z"
   },
   {
    "duration": 5,
    "start_time": "2024-01-08T12:26:23.728Z"
   },
   {
    "duration": 5,
    "start_time": "2024-01-08T12:26:24.580Z"
   },
   {
    "duration": 6,
    "start_time": "2024-01-08T12:26:25.364Z"
   },
   {
    "duration": 5,
    "start_time": "2024-01-08T12:26:26.140Z"
   },
   {
    "duration": 6,
    "start_time": "2024-01-08T12:26:26.871Z"
   },
   {
    "duration": 6,
    "start_time": "2024-01-08T12:26:27.612Z"
   },
   {
    "duration": 6,
    "start_time": "2024-01-08T12:26:28.316Z"
   },
   {
    "duration": 6,
    "start_time": "2024-01-08T12:26:29.021Z"
   },
   {
    "duration": 3,
    "start_time": "2024-01-08T12:26:35.212Z"
   },
   {
    "duration": 6,
    "start_time": "2024-01-08T12:26:38.566Z"
   },
   {
    "duration": 6,
    "start_time": "2024-01-08T12:26:46.593Z"
   },
   {
    "duration": 7,
    "start_time": "2024-01-08T12:27:54.996Z"
   },
   {
    "duration": 9,
    "start_time": "2024-01-08T12:28:03.835Z"
   },
   {
    "duration": 6,
    "start_time": "2024-01-08T12:28:34.334Z"
   },
   {
    "duration": 5,
    "start_time": "2024-01-08T12:29:04.691Z"
   },
   {
    "duration": 8,
    "start_time": "2024-01-08T12:29:09.946Z"
   },
   {
    "duration": 6,
    "start_time": "2024-01-08T12:29:24.190Z"
   },
   {
    "duration": 6,
    "start_time": "2024-01-08T12:29:36.007Z"
   },
   {
    "duration": 6,
    "start_time": "2024-01-08T12:29:37.907Z"
   },
   {
    "duration": 8,
    "start_time": "2024-01-08T12:29:38.886Z"
   },
   {
    "duration": 6,
    "start_time": "2024-01-08T12:29:39.706Z"
   },
   {
    "duration": 6,
    "start_time": "2024-01-08T12:29:40.446Z"
   },
   {
    "duration": 6,
    "start_time": "2024-01-08T12:29:41.143Z"
   },
   {
    "duration": 6,
    "start_time": "2024-01-08T12:29:41.834Z"
   },
   {
    "duration": 6,
    "start_time": "2024-01-08T12:29:42.486Z"
   },
   {
    "duration": 1208,
    "start_time": "2024-01-08T12:32:10.657Z"
   },
   {
    "duration": 1025,
    "start_time": "2024-01-08T12:32:33.922Z"
   },
   {
    "duration": 6,
    "start_time": "2024-01-08T12:32:47.601Z"
   },
   {
    "duration": 7,
    "start_time": "2024-01-08T12:33:08.057Z"
   },
   {
    "duration": 6,
    "start_time": "2024-01-08T12:33:21.161Z"
   },
   {
    "duration": 6,
    "start_time": "2024-01-08T12:33:27.945Z"
   },
   {
    "duration": 88,
    "start_time": "2024-01-08T12:33:41.162Z"
   },
   {
    "duration": 6,
    "start_time": "2024-01-08T12:33:44.366Z"
   },
   {
    "duration": 17,
    "start_time": "2024-01-08T12:48:13.483Z"
   },
   {
    "duration": 14,
    "start_time": "2024-01-08T12:48:44.224Z"
   },
   {
    "duration": 14,
    "start_time": "2024-01-08T12:49:13.359Z"
   },
   {
    "duration": 5,
    "start_time": "2024-01-08T12:49:24.832Z"
   },
   {
    "duration": 644,
    "start_time": "2024-01-08T12:49:39.422Z"
   },
   {
    "duration": 646,
    "start_time": "2024-01-08T12:49:48.257Z"
   },
   {
    "duration": 5,
    "start_time": "2024-01-08T12:50:09.197Z"
   },
   {
    "duration": 5,
    "start_time": "2024-01-08T12:50:17.070Z"
   },
   {
    "duration": 78,
    "start_time": "2024-01-08T12:50:31.845Z"
   },
   {
    "duration": 5,
    "start_time": "2024-01-08T12:50:35.557Z"
   },
   {
    "duration": 13,
    "start_time": "2024-01-08T12:50:51.221Z"
   },
   {
    "duration": 623,
    "start_time": "2024-01-08T12:52:57.860Z"
   },
   {
    "duration": 691,
    "start_time": "2024-01-08T12:53:50.372Z"
   },
   {
    "duration": 641,
    "start_time": "2024-01-08T12:54:56.085Z"
   },
   {
    "duration": 603,
    "start_time": "2024-01-08T12:55:26.412Z"
   },
   {
    "duration": 600,
    "start_time": "2024-01-08T12:55:40.493Z"
   },
   {
    "duration": 617,
    "start_time": "2024-01-08T12:55:49.634Z"
   },
   {
    "duration": 4,
    "start_time": "2024-01-08T12:57:09.040Z"
   },
   {
    "duration": 632,
    "start_time": "2024-01-08T12:57:29.863Z"
   },
   {
    "duration": 12,
    "start_time": "2024-01-08T12:57:46.354Z"
   },
   {
    "duration": 82,
    "start_time": "2024-01-08T12:57:50.270Z"
   },
   {
    "duration": 628,
    "start_time": "2024-01-08T12:57:53.975Z"
   },
   {
    "duration": 621,
    "start_time": "2024-01-08T12:58:00.967Z"
   },
   {
    "duration": 591,
    "start_time": "2024-01-08T12:58:04.559Z"
   },
   {
    "duration": 4,
    "start_time": "2024-01-08T12:58:39.331Z"
   },
   {
    "duration": 634,
    "start_time": "2024-01-08T12:58:39.858Z"
   },
   {
    "duration": 633,
    "start_time": "2024-01-08T12:58:40.494Z"
   },
   {
    "duration": 630,
    "start_time": "2024-01-08T12:58:41.129Z"
   },
   {
    "duration": 4,
    "start_time": "2024-01-08T12:59:04.067Z"
   },
   {
    "duration": 611,
    "start_time": "2024-01-08T12:59:04.923Z"
   },
   {
    "duration": 653,
    "start_time": "2024-01-08T12:59:05.536Z"
   },
   {
    "duration": 620,
    "start_time": "2024-01-08T12:59:06.191Z"
   },
   {
    "duration": 5,
    "start_time": "2024-01-08T13:06:46.030Z"
   },
   {
    "duration": 663,
    "start_time": "2024-01-08T13:06:57.982Z"
   },
   {
    "duration": 652,
    "start_time": "2024-01-08T13:06:58.799Z"
   },
   {
    "duration": 675,
    "start_time": "2024-01-08T13:06:59.453Z"
   },
   {
    "duration": 5,
    "start_time": "2024-01-08T13:07:14.274Z"
   },
   {
    "duration": 642,
    "start_time": "2024-01-08T13:07:16.058Z"
   },
   {
    "duration": 641,
    "start_time": "2024-01-08T13:07:16.702Z"
   },
   {
    "duration": 623,
    "start_time": "2024-01-08T13:07:17.345Z"
   },
   {
    "duration": 673,
    "start_time": "2024-01-08T13:18:56.354Z"
   },
   {
    "duration": 666,
    "start_time": "2024-01-08T13:19:11.419Z"
   },
   {
    "duration": 681,
    "start_time": "2024-01-08T13:19:18.131Z"
   },
   {
    "duration": 8,
    "start_time": "2024-01-08T13:28:10.214Z"
   },
   {
    "duration": 52,
    "start_time": "2024-01-08T13:29:02.736Z"
   },
   {
    "duration": 53,
    "start_time": "2024-01-08T13:30:04.127Z"
   },
   {
    "duration": 1235,
    "start_time": "2024-01-08T13:33:47.261Z"
   },
   {
    "duration": 410,
    "start_time": "2024-01-08T13:33:48.498Z"
   },
   {
    "duration": 9,
    "start_time": "2024-01-08T13:33:48.910Z"
   },
   {
    "duration": 8,
    "start_time": "2024-01-08T13:33:48.921Z"
   },
   {
    "duration": 134,
    "start_time": "2024-01-08T13:33:48.931Z"
   },
   {
    "duration": 115,
    "start_time": "2024-01-08T13:33:49.067Z"
   },
   {
    "duration": 118,
    "start_time": "2024-01-08T13:33:49.183Z"
   },
   {
    "duration": 94,
    "start_time": "2024-01-08T13:33:49.303Z"
   },
   {
    "duration": 34,
    "start_time": "2024-01-08T13:33:49.399Z"
   },
   {
    "duration": 57,
    "start_time": "2024-01-08T13:33:49.435Z"
   },
   {
    "duration": 31,
    "start_time": "2024-01-08T13:33:49.494Z"
   },
   {
    "duration": 3,
    "start_time": "2024-01-08T13:33:49.527Z"
   },
   {
    "duration": 31,
    "start_time": "2024-01-08T13:33:49.531Z"
   },
   {
    "duration": 5,
    "start_time": "2024-01-08T13:33:49.565Z"
   },
   {
    "duration": 3088,
    "start_time": "2024-01-08T13:33:49.571Z"
   },
   {
    "duration": 113,
    "start_time": "2024-01-08T13:33:52.660Z"
   },
   {
    "duration": 0,
    "start_time": "2024-01-08T13:33:52.774Z"
   },
   {
    "duration": 0,
    "start_time": "2024-01-08T13:33:52.776Z"
   },
   {
    "duration": 0,
    "start_time": "2024-01-08T13:33:52.778Z"
   },
   {
    "duration": 0,
    "start_time": "2024-01-08T13:33:52.779Z"
   },
   {
    "duration": 0,
    "start_time": "2024-01-08T13:33:52.781Z"
   },
   {
    "duration": 0,
    "start_time": "2024-01-08T13:33:52.782Z"
   },
   {
    "duration": 0,
    "start_time": "2024-01-08T13:33:52.783Z"
   },
   {
    "duration": 0,
    "start_time": "2024-01-08T13:33:52.784Z"
   },
   {
    "duration": 0,
    "start_time": "2024-01-08T13:33:52.786Z"
   },
   {
    "duration": 0,
    "start_time": "2024-01-08T13:33:52.787Z"
   },
   {
    "duration": 0,
    "start_time": "2024-01-08T13:33:52.788Z"
   },
   {
    "duration": 0,
    "start_time": "2024-01-08T13:33:52.789Z"
   },
   {
    "duration": 0,
    "start_time": "2024-01-08T13:33:52.791Z"
   },
   {
    "duration": 0,
    "start_time": "2024-01-08T13:33:52.792Z"
   },
   {
    "duration": 0,
    "start_time": "2024-01-08T13:33:52.793Z"
   },
   {
    "duration": 0,
    "start_time": "2024-01-08T13:33:52.794Z"
   },
   {
    "duration": 0,
    "start_time": "2024-01-08T13:33:52.796Z"
   },
   {
    "duration": 0,
    "start_time": "2024-01-08T13:33:52.797Z"
   },
   {
    "duration": 0,
    "start_time": "2024-01-08T13:33:52.798Z"
   },
   {
    "duration": 0,
    "start_time": "2024-01-08T13:33:52.800Z"
   },
   {
    "duration": 0,
    "start_time": "2024-01-08T13:33:52.802Z"
   },
   {
    "duration": 1263,
    "start_time": "2024-01-08T13:34:12.789Z"
   },
   {
    "duration": 394,
    "start_time": "2024-01-08T13:34:14.054Z"
   },
   {
    "duration": 7,
    "start_time": "2024-01-08T13:34:14.449Z"
   },
   {
    "duration": 3,
    "start_time": "2024-01-08T13:34:14.458Z"
   },
   {
    "duration": 152,
    "start_time": "2024-01-08T13:34:14.473Z"
   },
   {
    "duration": 106,
    "start_time": "2024-01-08T13:34:14.627Z"
   },
   {
    "duration": 130,
    "start_time": "2024-01-08T13:34:14.735Z"
   },
   {
    "duration": 107,
    "start_time": "2024-01-08T13:34:14.867Z"
   },
   {
    "duration": 35,
    "start_time": "2024-01-08T13:34:14.976Z"
   },
   {
    "duration": 33,
    "start_time": "2024-01-08T13:34:15.012Z"
   },
   {
    "duration": 33,
    "start_time": "2024-01-08T13:34:15.065Z"
   },
   {
    "duration": 7,
    "start_time": "2024-01-08T13:34:15.100Z"
   },
   {
    "duration": 21,
    "start_time": "2024-01-08T13:34:15.108Z"
   },
   {
    "duration": 31,
    "start_time": "2024-01-08T13:34:15.132Z"
   },
   {
    "duration": 3111,
    "start_time": "2024-01-08T13:34:15.164Z"
   },
   {
    "duration": 125,
    "start_time": "2024-01-08T13:34:18.276Z"
   },
   {
    "duration": 0,
    "start_time": "2024-01-08T13:34:18.403Z"
   },
   {
    "duration": 0,
    "start_time": "2024-01-08T13:34:18.405Z"
   },
   {
    "duration": 0,
    "start_time": "2024-01-08T13:34:18.406Z"
   },
   {
    "duration": 0,
    "start_time": "2024-01-08T13:34:18.407Z"
   },
   {
    "duration": 0,
    "start_time": "2024-01-08T13:34:18.409Z"
   },
   {
    "duration": 0,
    "start_time": "2024-01-08T13:34:18.410Z"
   },
   {
    "duration": 0,
    "start_time": "2024-01-08T13:34:18.412Z"
   },
   {
    "duration": 0,
    "start_time": "2024-01-08T13:34:18.413Z"
   },
   {
    "duration": 0,
    "start_time": "2024-01-08T13:34:18.414Z"
   },
   {
    "duration": 0,
    "start_time": "2024-01-08T13:34:18.416Z"
   },
   {
    "duration": 0,
    "start_time": "2024-01-08T13:34:18.417Z"
   },
   {
    "duration": 0,
    "start_time": "2024-01-08T13:34:18.418Z"
   },
   {
    "duration": 0,
    "start_time": "2024-01-08T13:34:18.419Z"
   },
   {
    "duration": 0,
    "start_time": "2024-01-08T13:34:18.420Z"
   },
   {
    "duration": 0,
    "start_time": "2024-01-08T13:34:18.422Z"
   },
   {
    "duration": 0,
    "start_time": "2024-01-08T13:34:18.423Z"
   },
   {
    "duration": 0,
    "start_time": "2024-01-08T13:34:18.424Z"
   },
   {
    "duration": 0,
    "start_time": "2024-01-08T13:34:18.425Z"
   },
   {
    "duration": 0,
    "start_time": "2024-01-08T13:34:18.426Z"
   },
   {
    "duration": 0,
    "start_time": "2024-01-08T13:34:18.465Z"
   },
   {
    "duration": 0,
    "start_time": "2024-01-08T13:34:18.467Z"
   },
   {
    "duration": 4095,
    "start_time": "2024-01-08T13:34:56.516Z"
   },
   {
    "duration": 411,
    "start_time": "2024-01-08T13:35:00.613Z"
   },
   {
    "duration": 5,
    "start_time": "2024-01-08T13:35:01.026Z"
   },
   {
    "duration": 48,
    "start_time": "2024-01-08T13:35:01.032Z"
   },
   {
    "duration": 187,
    "start_time": "2024-01-08T13:35:01.082Z"
   },
   {
    "duration": 167,
    "start_time": "2024-01-08T13:35:01.272Z"
   },
   {
    "duration": 110,
    "start_time": "2024-01-08T13:35:01.440Z"
   },
   {
    "duration": 115,
    "start_time": "2024-01-08T13:35:01.551Z"
   },
   {
    "duration": 36,
    "start_time": "2024-01-08T13:35:01.668Z"
   },
   {
    "duration": 33,
    "start_time": "2024-01-08T13:35:01.706Z"
   },
   {
    "duration": 68,
    "start_time": "2024-01-08T13:35:01.740Z"
   },
   {
    "duration": 3,
    "start_time": "2024-01-08T13:35:01.810Z"
   },
   {
    "duration": 30,
    "start_time": "2024-01-08T13:35:01.814Z"
   },
   {
    "duration": 23,
    "start_time": "2024-01-08T13:35:01.847Z"
   },
   {
    "duration": 3109,
    "start_time": "2024-01-08T13:35:01.872Z"
   },
   {
    "duration": 10328,
    "start_time": "2024-01-08T13:35:04.983Z"
   },
   {
    "duration": 1238,
    "start_time": "2024-01-08T13:35:15.313Z"
   },
   {
    "duration": 1205,
    "start_time": "2024-01-08T13:35:16.553Z"
   },
   {
    "duration": 3056,
    "start_time": "2024-01-08T13:35:17.764Z"
   },
   {
    "duration": 2874,
    "start_time": "2024-01-08T13:35:20.822Z"
   },
   {
    "duration": 3144,
    "start_time": "2024-01-08T13:35:23.698Z"
   },
   {
    "duration": 122,
    "start_time": "2024-01-08T13:35:26.844Z"
   },
   {
    "duration": 97,
    "start_time": "2024-01-08T13:35:26.968Z"
   },
   {
    "duration": 109,
    "start_time": "2024-01-08T13:35:27.067Z"
   },
   {
    "duration": 88,
    "start_time": "2024-01-08T13:35:27.178Z"
   },
   {
    "duration": 41,
    "start_time": "2024-01-08T13:35:27.268Z"
   },
   {
    "duration": 6,
    "start_time": "2024-01-08T13:35:27.366Z"
   },
   {
    "duration": 94,
    "start_time": "2024-01-08T13:35:27.374Z"
   },
   {
    "duration": 13,
    "start_time": "2024-01-08T13:35:27.470Z"
   },
   {
    "duration": 5,
    "start_time": "2024-01-08T13:35:27.485Z"
   },
   {
    "duration": 10,
    "start_time": "2024-01-08T13:35:27.492Z"
   },
   {
    "duration": 7,
    "start_time": "2024-01-08T13:35:27.503Z"
   },
   {
    "duration": 7,
    "start_time": "2024-01-08T13:35:27.512Z"
   },
   {
    "duration": 5,
    "start_time": "2024-01-08T13:35:27.521Z"
   },
   {
    "duration": 683,
    "start_time": "2024-01-08T13:35:27.528Z"
   },
   {
    "duration": 691,
    "start_time": "2024-01-08T13:35:28.213Z"
   },
   {
    "duration": 684,
    "start_time": "2024-01-08T13:35:28.906Z"
   },
   {
    "duration": 4289,
    "start_time": "2024-01-08T14:32:35.399Z"
   },
   {
    "duration": 386,
    "start_time": "2024-01-08T14:32:39.690Z"
   },
   {
    "duration": 4,
    "start_time": "2024-01-08T14:32:40.078Z"
   },
   {
    "duration": 5,
    "start_time": "2024-01-08T14:32:40.083Z"
   },
   {
    "duration": 120,
    "start_time": "2024-01-08T14:32:40.091Z"
   },
   {
    "duration": 106,
    "start_time": "2024-01-08T14:32:40.213Z"
   },
   {
    "duration": 106,
    "start_time": "2024-01-08T14:32:40.320Z"
   },
   {
    "duration": 92,
    "start_time": "2024-01-08T14:32:40.427Z"
   },
   {
    "duration": 32,
    "start_time": "2024-01-08T14:32:40.521Z"
   },
   {
    "duration": 48,
    "start_time": "2024-01-08T14:32:40.554Z"
   },
   {
    "duration": 29,
    "start_time": "2024-01-08T14:32:40.603Z"
   },
   {
    "duration": 3,
    "start_time": "2024-01-08T14:32:40.644Z"
   },
   {
    "duration": 7,
    "start_time": "2024-01-08T14:32:40.649Z"
   },
   {
    "duration": 9,
    "start_time": "2024-01-08T14:32:40.658Z"
   },
   {
    "duration": 2915,
    "start_time": "2024-01-08T14:32:40.668Z"
   },
   {
    "duration": 13064,
    "start_time": "2024-01-08T14:32:43.585Z"
   },
   {
    "duration": 1257,
    "start_time": "2024-01-08T14:32:56.650Z"
   },
   {
    "duration": 877,
    "start_time": "2024-01-08T14:32:57.908Z"
   },
   {
    "duration": 2860,
    "start_time": "2024-01-08T14:32:58.787Z"
   },
   {
    "duration": 2699,
    "start_time": "2024-01-08T14:33:01.649Z"
   },
   {
    "duration": 2899,
    "start_time": "2024-01-08T14:33:04.349Z"
   },
   {
    "duration": 56,
    "start_time": "2024-01-08T14:33:07.249Z"
   },
   {
    "duration": 8,
    "start_time": "2024-01-08T14:33:09.819Z"
   },
   {
    "duration": 5,
    "start_time": "2024-01-08T14:33:22.972Z"
   },
   {
    "duration": 4,
    "start_time": "2024-01-08T14:33:28.536Z"
   },
   {
    "duration": 27,
    "start_time": "2024-01-08T14:34:15.678Z"
   },
   {
    "duration": 82,
    "start_time": "2024-01-08T14:34:17.718Z"
   },
   {
    "duration": 29,
    "start_time": "2024-01-08T14:34:23.901Z"
   },
   {
    "duration": 92,
    "start_time": "2024-01-08T14:34:28.806Z"
   },
   {
    "duration": 33,
    "start_time": "2024-01-08T14:34:32.481Z"
   },
   {
    "duration": 33,
    "start_time": "2024-01-08T14:34:36.362Z"
   },
   {
    "duration": 11,
    "start_time": "2024-01-08T14:34:44.643Z"
   },
   {
    "duration": 28,
    "start_time": "2024-01-08T14:35:00.394Z"
   },
   {
    "duration": 25,
    "start_time": "2024-01-08T14:35:08.373Z"
   },
   {
    "duration": 32,
    "start_time": "2024-01-08T14:35:15.897Z"
   },
   {
    "duration": 32,
    "start_time": "2024-01-08T14:36:03.376Z"
   },
   {
    "duration": 4,
    "start_time": "2024-01-08T14:36:08.077Z"
   },
   {
    "duration": 38,
    "start_time": "2024-01-08T14:36:13.197Z"
   },
   {
    "duration": 9,
    "start_time": "2024-01-08T14:36:47.647Z"
   },
   {
    "duration": 10,
    "start_time": "2024-01-08T14:37:00.117Z"
   },
   {
    "duration": 2267,
    "start_time": "2024-01-08T14:37:05.087Z"
   },
   {
    "duration": 413,
    "start_time": "2024-01-08T14:37:07.357Z"
   },
   {
    "duration": 12,
    "start_time": "2024-01-08T14:37:07.902Z"
   },
   {
    "duration": 164,
    "start_time": "2024-01-08T14:37:13.936Z"
   },
   {
    "duration": 7,
    "start_time": "2024-01-08T14:37:31.214Z"
   },
   {
    "duration": 10,
    "start_time": "2024-01-08T14:37:59.126Z"
   },
   {
    "duration": 33,
    "start_time": "2024-01-08T14:38:08.378Z"
   },
   {
    "duration": 40,
    "start_time": "2024-01-08T14:38:15.998Z"
   },
   {
    "duration": 31,
    "start_time": "2024-01-08T14:38:19.840Z"
   },
   {
    "duration": 32,
    "start_time": "2024-01-08T14:38:21.496Z"
   },
   {
    "duration": 30,
    "start_time": "2024-01-08T14:38:23.666Z"
   },
   {
    "duration": 31,
    "start_time": "2024-01-08T14:38:27.306Z"
   },
   {
    "duration": 29,
    "start_time": "2024-01-08T14:39:57.866Z"
   },
   {
    "duration": 32,
    "start_time": "2024-01-08T14:40:06.942Z"
   },
   {
    "duration": 68,
    "start_time": "2024-01-08T14:40:55.333Z"
   },
   {
    "duration": 5575,
    "start_time": "2024-01-08T15:00:01.613Z"
   },
   {
    "duration": 758,
    "start_time": "2024-01-08T15:00:07.190Z"
   },
   {
    "duration": 5,
    "start_time": "2024-01-08T15:00:07.949Z"
   },
   {
    "duration": 17,
    "start_time": "2024-01-08T15:00:07.955Z"
   },
   {
    "duration": 115,
    "start_time": "2024-01-08T15:00:07.974Z"
   },
   {
    "duration": 109,
    "start_time": "2024-01-08T15:00:08.091Z"
   },
   {
    "duration": 124,
    "start_time": "2024-01-08T15:00:08.202Z"
   },
   {
    "duration": 94,
    "start_time": "2024-01-08T15:00:08.328Z"
   },
   {
    "duration": 37,
    "start_time": "2024-01-08T15:00:08.423Z"
   },
   {
    "duration": 55,
    "start_time": "2024-01-08T15:00:08.461Z"
   },
   {
    "duration": 34,
    "start_time": "2024-01-08T15:00:08.518Z"
   },
   {
    "duration": 3,
    "start_time": "2024-01-08T15:00:08.553Z"
   },
   {
    "duration": 25,
    "start_time": "2024-01-08T15:00:08.557Z"
   },
   {
    "duration": 4,
    "start_time": "2024-01-08T15:00:08.586Z"
   },
   {
    "duration": 3154,
    "start_time": "2024-01-08T15:00:08.592Z"
   },
   {
    "duration": 10000,
    "start_time": "2024-01-08T15:00:11.747Z"
   },
   {
    "duration": 1361,
    "start_time": "2024-01-08T15:00:21.750Z"
   },
   {
    "duration": 992,
    "start_time": "2024-01-08T15:00:23.113Z"
   },
   {
    "duration": 3076,
    "start_time": "2024-01-08T15:00:24.106Z"
   },
   {
    "duration": 2885,
    "start_time": "2024-01-08T15:00:27.183Z"
   },
   {
    "duration": 3384,
    "start_time": "2024-01-08T15:00:30.070Z"
   },
   {
    "duration": 131,
    "start_time": "2024-01-08T15:00:33.456Z"
   },
   {
    "duration": 93,
    "start_time": "2024-01-08T15:00:33.590Z"
   },
   {
    "duration": 297,
    "start_time": "2024-01-08T15:00:33.686Z"
   },
   {
    "duration": 6,
    "start_time": "2024-01-08T15:00:33.985Z"
   },
   {
    "duration": 122,
    "start_time": "2024-01-08T15:00:33.992Z"
   },
   {
    "duration": 69,
    "start_time": "2024-01-08T15:00:34.116Z"
   },
   {
    "duration": 94,
    "start_time": "2024-01-08T15:00:34.188Z"
   },
   {
    "duration": 31,
    "start_time": "2024-01-08T15:00:34.284Z"
   },
   {
    "duration": 9,
    "start_time": "2024-01-08T15:00:34.316Z"
   },
   {
    "duration": 11,
    "start_time": "2024-01-08T15:00:34.326Z"
   },
   {
    "duration": 11,
    "start_time": "2024-01-08T15:00:34.338Z"
   },
   {
    "duration": 9,
    "start_time": "2024-01-08T15:00:34.350Z"
   },
   {
    "duration": 5,
    "start_time": "2024-01-08T15:00:34.360Z"
   },
   {
    "duration": 674,
    "start_time": "2024-01-08T15:00:34.367Z"
   },
   {
    "duration": 701,
    "start_time": "2024-01-08T15:00:35.042Z"
   },
   {
    "duration": 679,
    "start_time": "2024-01-08T15:00:35.744Z"
   },
   {
    "duration": 117,
    "start_time": "2024-01-08T15:01:24.632Z"
   },
   {
    "duration": 2407,
    "start_time": "2024-01-08T15:01:42.499Z"
   },
   {
    "duration": 3962,
    "start_time": "2024-01-08T15:01:59.728Z"
   },
   {
    "duration": 2397,
    "start_time": "2024-01-08T15:03:14.653Z"
   },
   {
    "duration": 24503,
    "start_time": "2024-01-08T15:03:35.420Z"
   },
   {
    "duration": 2719,
    "start_time": "2024-01-08T15:04:02.359Z"
   },
   {
    "duration": 9,
    "start_time": "2024-01-08T15:04:15.466Z"
   },
   {
    "duration": 2751,
    "start_time": "2024-01-08T15:04:20.139Z"
   },
   {
    "duration": 9,
    "start_time": "2024-01-08T15:04:47.886Z"
   },
   {
    "duration": 18,
    "start_time": "2024-01-08T15:05:32.346Z"
   },
   {
    "duration": 4,
    "start_time": "2024-01-08T15:06:26.952Z"
   },
   {
    "duration": 131,
    "start_time": "2024-01-08T15:09:50.854Z"
   },
   {
    "duration": 5,
    "start_time": "2024-01-08T15:09:57.132Z"
   },
   {
    "duration": 32,
    "start_time": "2024-01-08T15:10:09.418Z"
   },
   {
    "duration": 3,
    "start_time": "2024-01-08T15:10:15.131Z"
   },
   {
    "duration": 52,
    "start_time": "2024-01-08T15:10:22.331Z"
   },
   {
    "duration": 4,
    "start_time": "2024-01-08T15:10:24.859Z"
   },
   {
    "duration": 5,
    "start_time": "2024-01-08T15:13:58.124Z"
   },
   {
    "duration": 5,
    "start_time": "2024-01-08T15:14:11.152Z"
   },
   {
    "duration": 37,
    "start_time": "2024-01-08T15:14:33.039Z"
   },
   {
    "duration": 7,
    "start_time": "2024-01-08T15:15:59.917Z"
   },
   {
    "duration": 56,
    "start_time": "2024-01-08T15:16:00.527Z"
   },
   {
    "duration": 4564,
    "start_time": "2024-01-08T15:17:25.168Z"
   },
   {
    "duration": 437,
    "start_time": "2024-01-08T15:17:29.734Z"
   },
   {
    "duration": 5,
    "start_time": "2024-01-08T15:17:30.172Z"
   },
   {
    "duration": 70,
    "start_time": "2024-01-08T15:17:30.179Z"
   },
   {
    "duration": 163,
    "start_time": "2024-01-08T15:17:30.251Z"
   },
   {
    "duration": 120,
    "start_time": "2024-01-08T15:17:30.416Z"
   },
   {
    "duration": 126,
    "start_time": "2024-01-08T15:17:30.538Z"
   },
   {
    "duration": 127,
    "start_time": "2024-01-08T15:17:30.665Z"
   },
   {
    "duration": 43,
    "start_time": "2024-01-08T15:17:30.796Z"
   },
   {
    "duration": 51,
    "start_time": "2024-01-08T15:17:30.843Z"
   },
   {
    "duration": 35,
    "start_time": "2024-01-08T15:17:30.896Z"
   },
   {
    "duration": 16,
    "start_time": "2024-01-08T15:17:30.933Z"
   },
   {
    "duration": 148,
    "start_time": "2024-01-08T15:17:30.951Z"
   },
   {
    "duration": 57,
    "start_time": "2024-01-08T15:17:31.100Z"
   },
   {
    "duration": 3374,
    "start_time": "2024-01-08T15:17:31.159Z"
   },
   {
    "duration": 10199,
    "start_time": "2024-01-08T15:17:34.535Z"
   },
   {
    "duration": 1373,
    "start_time": "2024-01-08T15:17:44.735Z"
   },
   {
    "duration": 1300,
    "start_time": "2024-01-08T15:17:46.109Z"
   },
   {
    "duration": 3148,
    "start_time": "2024-01-08T15:17:47.411Z"
   },
   {
    "duration": 3061,
    "start_time": "2024-01-08T15:17:50.561Z"
   },
   {
    "duration": 3388,
    "start_time": "2024-01-08T15:17:53.624Z"
   },
   {
    "duration": 4,
    "start_time": "2024-01-08T15:17:57.014Z"
   },
   {
    "duration": 72,
    "start_time": "2024-01-08T15:17:57.020Z"
   },
   {
    "duration": 90,
    "start_time": "2024-01-08T15:17:57.094Z"
   },
   {
    "duration": 121,
    "start_time": "2024-01-08T15:17:57.186Z"
   },
   {
    "duration": 4,
    "start_time": "2024-01-08T15:17:57.310Z"
   },
   {
    "duration": 200,
    "start_time": "2024-01-08T15:17:57.383Z"
   },
   {
    "duration": 92,
    "start_time": "2024-01-08T15:17:57.592Z"
   },
   {
    "duration": 7,
    "start_time": "2024-01-08T15:17:57.685Z"
   },
   {
    "duration": 89,
    "start_time": "2024-01-08T15:17:57.693Z"
   },
   {
    "duration": 4,
    "start_time": "2024-01-08T15:17:57.784Z"
   },
   {
    "duration": 5,
    "start_time": "2024-01-08T15:17:57.790Z"
   },
   {
    "duration": 90,
    "start_time": "2024-01-08T15:17:57.797Z"
   },
   {
    "duration": 12,
    "start_time": "2024-01-08T15:17:57.888Z"
   },
   {
    "duration": 7,
    "start_time": "2024-01-08T15:17:57.901Z"
   },
   {
    "duration": 8,
    "start_time": "2024-01-08T15:17:57.909Z"
   },
   {
    "duration": 7,
    "start_time": "2024-01-08T15:17:57.918Z"
   },
   {
    "duration": 773,
    "start_time": "2024-01-08T15:17:57.927Z"
   },
   {
    "duration": 743,
    "start_time": "2024-01-08T15:17:58.702Z"
   },
   {
    "duration": 742,
    "start_time": "2024-01-08T15:17:59.446Z"
   },
   {
    "duration": 65,
    "start_time": "2024-01-08T15:19:24.858Z"
   },
   {
    "duration": 5,
    "start_time": "2024-01-08T15:20:28.679Z"
   },
   {
    "duration": 6,
    "start_time": "2024-01-08T15:20:40.217Z"
   },
   {
    "duration": 142,
    "start_time": "2024-01-08T15:21:16.446Z"
   },
   {
    "duration": 7,
    "start_time": "2024-01-08T15:21:46.312Z"
   },
   {
    "duration": 1518,
    "start_time": "2024-01-08T15:21:49.876Z"
   },
   {
    "duration": 3,
    "start_time": "2024-01-08T15:25:49.870Z"
   },
   {
    "duration": 5,
    "start_time": "2024-01-08T15:25:54.695Z"
   },
   {
    "duration": 1038,
    "start_time": "2024-01-08T15:25:58.559Z"
   },
   {
    "duration": 5,
    "start_time": "2024-01-08T15:26:49.693Z"
   },
   {
    "duration": 8,
    "start_time": "2024-01-08T15:26:52.123Z"
   },
   {
    "duration": 3,
    "start_time": "2024-01-08T15:27:07.019Z"
   },
   {
    "duration": 8,
    "start_time": "2024-01-08T15:27:11.349Z"
   },
   {
    "duration": 7,
    "start_time": "2024-01-08T15:27:15.554Z"
   },
   {
    "duration": 9,
    "start_time": "2024-01-08T15:27:17.878Z"
   },
   {
    "duration": 3,
    "start_time": "2024-01-08T15:27:38.055Z"
   },
   {
    "duration": 3,
    "start_time": "2024-01-08T15:27:45.586Z"
   },
   {
    "duration": 6,
    "start_time": "2024-01-08T15:27:47.818Z"
   },
   {
    "duration": 4,
    "start_time": "2024-01-08T15:28:00.983Z"
   },
   {
    "duration": 7,
    "start_time": "2024-01-08T15:28:02.247Z"
   },
   {
    "duration": 7,
    "start_time": "2024-01-08T15:28:04.787Z"
   },
   {
    "duration": 7,
    "start_time": "2024-01-08T15:28:08.583Z"
   },
   {
    "duration": 5,
    "start_time": "2024-01-08T15:28:17.594Z"
   },
   {
    "duration": 715,
    "start_time": "2024-01-08T15:28:21.319Z"
   },
   {
    "duration": 14,
    "start_time": "2024-01-08T15:28:27.871Z"
   },
   {
    "duration": 740,
    "start_time": "2024-01-08T15:28:31.430Z"
   },
   {
    "duration": 737,
    "start_time": "2024-01-08T15:28:38.978Z"
   },
   {
    "duration": 89,
    "start_time": "2024-01-08T15:30:20.552Z"
   },
   {
    "duration": 4,
    "start_time": "2024-01-08T15:31:03.769Z"
   },
   {
    "duration": 8,
    "start_time": "2024-01-08T15:31:22.487Z"
   },
   {
    "duration": 12,
    "start_time": "2024-01-08T15:31:45.140Z"
   },
   {
    "duration": 14,
    "start_time": "2024-01-08T15:32:14.751Z"
   },
   {
    "duration": 11,
    "start_time": "2024-01-08T15:32:36.415Z"
   },
   {
    "duration": 11,
    "start_time": "2024-01-08T15:32:45.660Z"
   },
   {
    "duration": 11,
    "start_time": "2024-01-08T15:33:03.663Z"
   },
   {
    "duration": 4,
    "start_time": "2024-01-08T15:33:34.243Z"
   },
   {
    "duration": 13,
    "start_time": "2024-01-08T15:33:36.054Z"
   },
   {
    "duration": 12,
    "start_time": "2024-01-08T15:33:36.640Z"
   },
   {
    "duration": 11,
    "start_time": "2024-01-08T15:33:37.407Z"
   },
   {
    "duration": 6,
    "start_time": "2024-01-08T15:33:47.210Z"
   },
   {
    "duration": 744,
    "start_time": "2024-01-08T15:33:52.291Z"
   },
   {
    "duration": 5,
    "start_time": "2024-01-08T15:34:37.748Z"
   },
   {
    "duration": 744,
    "start_time": "2024-01-08T15:34:41.299Z"
   },
   {
    "duration": 738,
    "start_time": "2024-01-08T15:34:44.891Z"
   },
   {
    "duration": 719,
    "start_time": "2024-01-08T15:34:50.077Z"
   },
   {
    "duration": 84,
    "start_time": "2024-01-08T15:35:24.192Z"
   },
   {
    "duration": 4152,
    "start_time": "2024-01-08T15:45:19.222Z"
   },
   {
    "duration": 408,
    "start_time": "2024-01-08T15:45:23.376Z"
   },
   {
    "duration": 5,
    "start_time": "2024-01-08T15:45:23.788Z"
   },
   {
    "duration": 3,
    "start_time": "2024-01-08T15:45:23.795Z"
   },
   {
    "duration": 143,
    "start_time": "2024-01-08T15:45:23.800Z"
   },
   {
    "duration": 113,
    "start_time": "2024-01-08T15:45:23.945Z"
   },
   {
    "duration": 123,
    "start_time": "2024-01-08T15:45:24.059Z"
   },
   {
    "duration": 105,
    "start_time": "2024-01-08T15:45:24.183Z"
   },
   {
    "duration": 41,
    "start_time": "2024-01-08T15:45:24.290Z"
   },
   {
    "duration": 58,
    "start_time": "2024-01-08T15:45:24.333Z"
   },
   {
    "duration": 39,
    "start_time": "2024-01-08T15:45:24.393Z"
   },
   {
    "duration": 3,
    "start_time": "2024-01-08T15:45:24.433Z"
   },
   {
    "duration": 6,
    "start_time": "2024-01-08T15:45:24.438Z"
   },
   {
    "duration": 8,
    "start_time": "2024-01-08T15:45:24.446Z"
   },
   {
    "duration": 3319,
    "start_time": "2024-01-08T15:45:24.456Z"
   },
   {
    "duration": 10608,
    "start_time": "2024-01-08T15:45:27.776Z"
   },
   {
    "duration": 1308,
    "start_time": "2024-01-08T15:45:38.387Z"
   },
   {
    "duration": 1114,
    "start_time": "2024-01-08T15:45:39.697Z"
   },
   {
    "duration": 3173,
    "start_time": "2024-01-08T15:45:40.813Z"
   },
   {
    "duration": 3141,
    "start_time": "2024-01-08T15:45:43.988Z"
   },
   {
    "duration": 3363,
    "start_time": "2024-01-08T15:45:47.131Z"
   },
   {
    "duration": 4,
    "start_time": "2024-01-08T15:45:50.496Z"
   },
   {
    "duration": 79,
    "start_time": "2024-01-08T15:45:50.502Z"
   },
   {
    "duration": 95,
    "start_time": "2024-01-08T15:45:50.587Z"
   },
   {
    "duration": 109,
    "start_time": "2024-01-08T15:45:50.684Z"
   },
   {
    "duration": 6,
    "start_time": "2024-01-08T15:45:50.882Z"
   },
   {
    "duration": 125,
    "start_time": "2024-01-08T15:45:50.889Z"
   },
   {
    "duration": 65,
    "start_time": "2024-01-08T15:45:51.017Z"
   },
   {
    "duration": 11,
    "start_time": "2024-01-08T15:45:51.084Z"
   },
   {
    "duration": 184,
    "start_time": "2024-01-08T15:45:51.098Z"
   },
   {
    "duration": 3,
    "start_time": "2024-01-08T15:45:51.285Z"
   },
   {
    "duration": 8,
    "start_time": "2024-01-08T15:45:51.294Z"
   },
   {
    "duration": 7,
    "start_time": "2024-01-08T15:45:51.383Z"
   },
   {
    "duration": 14,
    "start_time": "2024-01-08T15:45:51.392Z"
   },
   {
    "duration": 10,
    "start_time": "2024-01-08T15:45:51.408Z"
   },
   {
    "duration": 10,
    "start_time": "2024-01-08T15:45:51.419Z"
   },
   {
    "duration": 5,
    "start_time": "2024-01-08T15:45:51.430Z"
   },
   {
    "duration": 784,
    "start_time": "2024-01-08T15:45:51.437Z"
   },
   {
    "duration": 757,
    "start_time": "2024-01-08T15:45:52.222Z"
   },
   {
    "duration": 790,
    "start_time": "2024-01-08T15:45:52.983Z"
   },
   {
    "duration": 24738,
    "start_time": "2024-01-08T19:04:54.971Z"
   },
   {
    "duration": 1520,
    "start_time": "2024-01-08T19:05:48.341Z"
   },
   {
    "duration": 3439,
    "start_time": "2024-01-08T19:05:53.584Z"
   },
   {
    "duration": 17,
    "start_time": "2024-01-08T19:06:02.485Z"
   },
   {
    "duration": 3406,
    "start_time": "2024-01-08T19:06:15.458Z"
   },
   {
    "duration": 5994,
    "start_time": "2024-01-08T19:06:27.055Z"
   },
   {
    "duration": 1930,
    "start_time": "2024-01-08T19:06:42.742Z"
   },
   {
    "duration": 6873,
    "start_time": "2024-01-08T19:06:49.724Z"
   },
   {
    "duration": 6553,
    "start_time": "2024-01-08T19:07:18.677Z"
   },
   {
    "duration": 11,
    "start_time": "2024-01-08T19:07:59.763Z"
   },
   {
    "duration": 2467,
    "start_time": "2024-01-08T19:08:05.423Z"
   },
   {
    "duration": 2694,
    "start_time": "2024-01-08T19:08:10.860Z"
   },
   {
    "duration": 14,
    "start_time": "2024-01-08T19:08:17.878Z"
   },
   {
    "duration": 3194,
    "start_time": "2024-01-08T19:09:21.874Z"
   },
   {
    "duration": 1566,
    "start_time": "2024-01-08T19:09:51.045Z"
   },
   {
    "duration": 2776,
    "start_time": "2024-01-08T19:09:53.182Z"
   },
   {
    "duration": 71,
    "start_time": "2024-01-08T19:09:59.374Z"
   },
   {
    "duration": 7909,
    "start_time": "2024-01-08T19:10:03.044Z"
   },
   {
    "duration": 6,
    "start_time": "2024-01-08T19:10:19.058Z"
   },
   {
    "duration": 7129,
    "start_time": "2024-01-08T19:10:25.473Z"
   },
   {
    "duration": 774,
    "start_time": "2024-01-08T19:10:32.604Z"
   },
   {
    "duration": 5,
    "start_time": "2024-01-08T19:10:33.380Z"
   },
   {
    "duration": 56,
    "start_time": "2024-01-08T19:10:33.386Z"
   },
   {
    "duration": 106,
    "start_time": "2024-01-08T19:10:33.445Z"
   },
   {
    "duration": 101,
    "start_time": "2024-01-08T19:10:33.553Z"
   },
   {
    "duration": 126,
    "start_time": "2024-01-08T19:10:33.656Z"
   },
   {
    "duration": 116,
    "start_time": "2024-01-08T19:10:33.784Z"
   },
   {
    "duration": 37,
    "start_time": "2024-01-08T19:10:33.902Z"
   },
   {
    "duration": 50,
    "start_time": "2024-01-08T19:10:33.940Z"
   },
   {
    "duration": 33,
    "start_time": "2024-01-08T19:10:33.992Z"
   },
   {
    "duration": 2,
    "start_time": "2024-01-08T19:10:34.027Z"
   },
   {
    "duration": 14,
    "start_time": "2024-01-08T19:10:34.030Z"
   },
   {
    "duration": 4,
    "start_time": "2024-01-08T19:10:34.047Z"
   },
   {
    "duration": 3199,
    "start_time": "2024-01-08T19:10:34.053Z"
   },
   {
    "duration": 14080,
    "start_time": "2024-01-08T19:10:37.254Z"
   },
   {
    "duration": 1265,
    "start_time": "2024-01-08T19:10:51.336Z"
   },
   {
    "duration": 1107,
    "start_time": "2024-01-08T19:10:52.602Z"
   },
   {
    "duration": 3088,
    "start_time": "2024-01-08T19:10:53.711Z"
   },
   {
    "duration": 3021,
    "start_time": "2024-01-08T19:10:56.801Z"
   },
   {
    "duration": 3443,
    "start_time": "2024-01-08T19:10:59.824Z"
   },
   {
    "duration": 13,
    "start_time": "2024-01-08T19:11:03.269Z"
   },
   {
    "duration": 4513,
    "start_time": "2024-01-08T19:11:03.284Z"
   },
   {
    "duration": 3,
    "start_time": "2024-01-08T19:11:07.799Z"
   },
   {
    "duration": 178,
    "start_time": "2024-01-08T19:11:07.804Z"
   },
   {
    "duration": 5,
    "start_time": "2024-01-08T19:11:07.985Z"
   },
   {
    "duration": 124,
    "start_time": "2024-01-08T19:11:07.992Z"
   },
   {
    "duration": 68,
    "start_time": "2024-01-08T19:11:08.118Z"
   },
   {
    "duration": 122,
    "start_time": "2024-01-08T19:11:08.188Z"
   },
   {
    "duration": 70,
    "start_time": "2024-01-08T19:11:08.313Z"
   },
   {
    "duration": 95,
    "start_time": "2024-01-08T19:11:08.387Z"
   },
   {
    "duration": 99,
    "start_time": "2024-01-08T19:11:08.484Z"
   },
   {
    "duration": 7,
    "start_time": "2024-01-08T19:11:08.585Z"
   },
   {
    "duration": 5,
    "start_time": "2024-01-08T19:11:08.682Z"
   },
   {
    "duration": 3,
    "start_time": "2024-01-08T19:11:08.689Z"
   },
   {
    "duration": 12,
    "start_time": "2024-01-08T19:11:08.693Z"
   },
   {
    "duration": 10,
    "start_time": "2024-01-08T19:11:08.707Z"
   },
   {
    "duration": 9,
    "start_time": "2024-01-08T19:11:08.718Z"
   },
   {
    "duration": 5,
    "start_time": "2024-01-08T19:11:08.728Z"
   },
   {
    "duration": 748,
    "start_time": "2024-01-08T19:11:08.734Z"
   },
   {
    "duration": 725,
    "start_time": "2024-01-08T19:11:09.486Z"
   },
   {
    "duration": 713,
    "start_time": "2024-01-08T19:11:10.213Z"
   },
   {
    "duration": 6522,
    "start_time": "2024-01-08T19:12:11.726Z"
   },
   {
    "duration": 5406,
    "start_time": "2024-01-08T19:12:26.220Z"
   }
  ],
  "kernelspec": {
   "display_name": "Python 3 (ipykernel)",
   "language": "python",
   "name": "python3"
  },
  "language_info": {
   "codemirror_mode": {
    "name": "ipython",
    "version": 3
   },
   "file_extension": ".py",
   "mimetype": "text/x-python",
   "name": "python",
   "nbconvert_exporter": "python",
   "pygments_lexer": "ipython3",
   "version": "3.9.5"
  },
  "toc": {
   "base_numbering": 1,
   "nav_menu": {},
   "number_sections": true,
   "sideBar": true,
   "skip_h1_title": true,
   "title_cell": "Table of Contents",
   "title_sidebar": "Contents",
   "toc_cell": false,
   "toc_position": {},
   "toc_section_display": true,
   "toc_window_display": false
  }
 },
 "nbformat": 4,
 "nbformat_minor": 4
}
