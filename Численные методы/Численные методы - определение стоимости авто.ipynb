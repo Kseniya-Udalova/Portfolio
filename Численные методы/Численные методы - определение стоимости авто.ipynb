{
 "cells": [
  {
   "cell_type": "markdown",
   "metadata": {},
   "source": [
    "# Определение стоимости автомобилей"
   ]
  },
  {
   "cell_type": "markdown",
   "metadata": {},
   "source": [
    "Сервис по продаже автомобилей с пробегом «Не бит, не крашен» разрабатывает приложение для привлечения новых клиентов. В нём можно быстро узнать рыночную стоимость своего автомобиля. В вашем распоряжении исторические данные: технические характеристики, комплектации и цены автомобилей. Вам нужно построить модель для определения стоимости. \n",
    "\n",
    "Заказчику важны:\n",
    "\n",
    "- качество предсказания;\n",
    "- скорость предсказания;\n",
    "- время обучения."
   ]
  },
  {
   "cell_type": "markdown",
   "metadata": {},
   "source": [
    "<b>Этапы выполнения:</b> \n",
    "1. Загрузка данных, анализ общей информации;\n",
    "2. Предобработка данных: \n",
    "* преобразование типов данных;\n",
    "* удаление или замена пропусков и дубликатов.\n",
    "3. Исследовательский анализ данных - описание и визуализация общей информации:\n",
    "* статистический анализ всех признаков;\n",
    "* построение графиков для каждого признака\n",
    "4. Корреляционный анализ признаков:\n",
    "* расчет коэффициентов корреляции между всеми признаками.\n",
    "5. Подготовка выборки для обучения моделей.\n",
    "6. Обучение моделей:\n",
    "* LightGBM;\n",
    "* Обучение прочих моделей;\n",
    "* анализ времени обучения, времени предсказания и качества моделей;\n",
    "* выбор лучшей модели.\n",
    "7. Проверка качества лучшей модели на тестовой выборке.\n",
    "9. Формирование итогового вывода. \n",
    "\n",
    "\n",
    "<b>Описание данных:</b> \n",
    "Файл autos.csv содержит данные об автомобилях и их стоимости.\n",
    "Описание данных: \n",
    "* DateCrawled — дата скачивания анкеты из базы\n",
    "* VehicleType — тип автомобильного кузова\n",
    "* RegistrationYear — год регистрации автомобиля\n",
    "* Gearbox — тип коробки передач\n",
    "* Power — мощность (л. с.)\n",
    "* Model — модель автомобиля\n",
    "* Kilometer — пробег (км)\n",
    "* RegistrationMonth — месяц регистрации автомобиля\n",
    "* FuelType — тип топлива\n",
    "* Brand — марка автомобиля\n",
    "* Repaired — была машина в ремонте или нет\n",
    "* DateCreated — дата создания анкеты\n",
    "* NumberOfPictures — количество фотографий автомобиля\n",
    "* PostalCode — почтовый индекс владельца анкеты (пользователя)\n",
    "* LastSeen — дата последней активности пользователя.\n"
   ]
  },
  {
   "cell_type": "markdown",
   "metadata": {},
   "source": [
    "## Подготовка данных"
   ]
  },
  {
   "cell_type": "markdown",
   "metadata": {},
   "source": [
    "### Загрузка данных "
   ]
  },
  {
   "cell_type": "code",
   "execution_count": 1,
   "metadata": {},
   "outputs": [],
   "source": [
    "#импорт библиотек и настройка отображения \n",
    "!pip install optuna -q\n",
    "\n",
    "!pip install  phik==0.10.0 -q\n",
    "\n",
    "!pip install -U scikit-learn -q\n",
    "\n",
    "# !pip install lightgbm -q "
   ]
  },
  {
   "cell_type": "code",
   "execution_count": 2,
   "metadata": {},
   "outputs": [],
   "source": [
    "#импорт библиотек и настройка отображения \n",
    "import warnings\n",
    "warnings.filterwarnings('ignore')\n",
    "\n",
    "import pandas as pd\n",
    "import numpy as np\n",
    "import seaborn as sns\n",
    "import matplotlib.pyplot as plt\n",
    "\n",
    "from sklearn.linear_model import LinearRegression, LogisticRegression\n",
    "from sklearn.neighbors import KNeighborsClassifier\n",
    "from sklearn.tree import DecisionTreeClassifier\n",
    "from sklearn.tree import DecisionTreeRegressor\n",
    "\n",
    "from sklearn.model_selection import train_test_split\n",
    "\n",
    "\n",
    "from sklearn.pipeline import Pipeline\n",
    "from sklearn.compose import ColumnTransformer\n",
    "from sklearn.impute import SimpleImputer\n",
    "\n",
    "\n",
    "from sklearn.model_selection import GridSearchCV \n",
    "\n",
    "from optuna.integration import OptunaSearchCV\n",
    "from optuna import distributions\n",
    "\n",
    "from sklearn.preprocessing import OneHotEncoder, OrdinalEncoder, StandardScaler, MinMaxScaler\n",
    "\n",
    "import phik\n",
    "\n",
    "pd.set_option('display.max_columns', None)\n",
    "pd.set_option('display.max_colwidth', None)\n",
    "\n",
    "pd.options.display.float_format = '{:.2f}'.format\n",
    "\n",
    "RANDOM_STATE = 73\n",
    "TEST_SIZE = 0.25\n",
    "\n",
    "from sklearn.metrics import mean_squared_error \n",
    "\n",
    "import lightgbm as lgb\n",
    "from lightgbm import LGBMRegressor"
   ]
  },
  {
   "cell_type": "code",
   "execution_count": 3,
   "metadata": {},
   "outputs": [],
   "source": [
    "# загрузка данных\n",
    "autos = pd.read_csv('autos.csv')"
   ]
  },
  {
   "cell_type": "code",
   "execution_count": 4,
   "metadata": {},
   "outputs": [
    {
     "data": {
      "text/html": [
       "<div>\n",
       "<style scoped>\n",
       "    .dataframe tbody tr th:only-of-type {\n",
       "        vertical-align: middle;\n",
       "    }\n",
       "\n",
       "    .dataframe tbody tr th {\n",
       "        vertical-align: top;\n",
       "    }\n",
       "\n",
       "    .dataframe thead th {\n",
       "        text-align: right;\n",
       "    }\n",
       "</style>\n",
       "<table border=\"1\" class=\"dataframe\">\n",
       "  <thead>\n",
       "    <tr style=\"text-align: right;\">\n",
       "      <th></th>\n",
       "      <th>DateCrawled</th>\n",
       "      <th>Price</th>\n",
       "      <th>VehicleType</th>\n",
       "      <th>RegistrationYear</th>\n",
       "      <th>Gearbox</th>\n",
       "      <th>Power</th>\n",
       "      <th>Model</th>\n",
       "      <th>Kilometer</th>\n",
       "      <th>RegistrationMonth</th>\n",
       "      <th>FuelType</th>\n",
       "      <th>Brand</th>\n",
       "      <th>Repaired</th>\n",
       "      <th>DateCreated</th>\n",
       "      <th>NumberOfPictures</th>\n",
       "      <th>PostalCode</th>\n",
       "      <th>LastSeen</th>\n",
       "    </tr>\n",
       "  </thead>\n",
       "  <tbody>\n",
       "    <tr>\n",
       "      <th>0</th>\n",
       "      <td>2016-03-24 11:52:17</td>\n",
       "      <td>480</td>\n",
       "      <td>NaN</td>\n",
       "      <td>1993</td>\n",
       "      <td>manual</td>\n",
       "      <td>0</td>\n",
       "      <td>golf</td>\n",
       "      <td>150000</td>\n",
       "      <td>0</td>\n",
       "      <td>petrol</td>\n",
       "      <td>volkswagen</td>\n",
       "      <td>NaN</td>\n",
       "      <td>2016-03-24 00:00:00</td>\n",
       "      <td>0</td>\n",
       "      <td>70435</td>\n",
       "      <td>2016-04-07 03:16:57</td>\n",
       "    </tr>\n",
       "    <tr>\n",
       "      <th>1</th>\n",
       "      <td>2016-03-24 10:58:45</td>\n",
       "      <td>18300</td>\n",
       "      <td>coupe</td>\n",
       "      <td>2011</td>\n",
       "      <td>manual</td>\n",
       "      <td>190</td>\n",
       "      <td>NaN</td>\n",
       "      <td>125000</td>\n",
       "      <td>5</td>\n",
       "      <td>gasoline</td>\n",
       "      <td>audi</td>\n",
       "      <td>yes</td>\n",
       "      <td>2016-03-24 00:00:00</td>\n",
       "      <td>0</td>\n",
       "      <td>66954</td>\n",
       "      <td>2016-04-07 01:46:50</td>\n",
       "    </tr>\n",
       "    <tr>\n",
       "      <th>2</th>\n",
       "      <td>2016-03-14 12:52:21</td>\n",
       "      <td>9800</td>\n",
       "      <td>suv</td>\n",
       "      <td>2004</td>\n",
       "      <td>auto</td>\n",
       "      <td>163</td>\n",
       "      <td>grand</td>\n",
       "      <td>125000</td>\n",
       "      <td>8</td>\n",
       "      <td>gasoline</td>\n",
       "      <td>jeep</td>\n",
       "      <td>NaN</td>\n",
       "      <td>2016-03-14 00:00:00</td>\n",
       "      <td>0</td>\n",
       "      <td>90480</td>\n",
       "      <td>2016-04-05 12:47:46</td>\n",
       "    </tr>\n",
       "    <tr>\n",
       "      <th>3</th>\n",
       "      <td>2016-03-17 16:54:04</td>\n",
       "      <td>1500</td>\n",
       "      <td>small</td>\n",
       "      <td>2001</td>\n",
       "      <td>manual</td>\n",
       "      <td>75</td>\n",
       "      <td>golf</td>\n",
       "      <td>150000</td>\n",
       "      <td>6</td>\n",
       "      <td>petrol</td>\n",
       "      <td>volkswagen</td>\n",
       "      <td>no</td>\n",
       "      <td>2016-03-17 00:00:00</td>\n",
       "      <td>0</td>\n",
       "      <td>91074</td>\n",
       "      <td>2016-03-17 17:40:17</td>\n",
       "    </tr>\n",
       "    <tr>\n",
       "      <th>4</th>\n",
       "      <td>2016-03-31 17:25:20</td>\n",
       "      <td>3600</td>\n",
       "      <td>small</td>\n",
       "      <td>2008</td>\n",
       "      <td>manual</td>\n",
       "      <td>69</td>\n",
       "      <td>fabia</td>\n",
       "      <td>90000</td>\n",
       "      <td>7</td>\n",
       "      <td>gasoline</td>\n",
       "      <td>skoda</td>\n",
       "      <td>no</td>\n",
       "      <td>2016-03-31 00:00:00</td>\n",
       "      <td>0</td>\n",
       "      <td>60437</td>\n",
       "      <td>2016-04-06 10:17:21</td>\n",
       "    </tr>\n",
       "  </tbody>\n",
       "</table>\n",
       "</div>"
      ],
      "text/plain": [
       "           DateCrawled  Price VehicleType  RegistrationYear Gearbox  Power  \\\n",
       "0  2016-03-24 11:52:17    480         NaN              1993  manual      0   \n",
       "1  2016-03-24 10:58:45  18300       coupe              2011  manual    190   \n",
       "2  2016-03-14 12:52:21   9800         suv              2004    auto    163   \n",
       "3  2016-03-17 16:54:04   1500       small              2001  manual     75   \n",
       "4  2016-03-31 17:25:20   3600       small              2008  manual     69   \n",
       "\n",
       "   Model  Kilometer  RegistrationMonth  FuelType       Brand Repaired  \\\n",
       "0   golf     150000                  0    petrol  volkswagen      NaN   \n",
       "1    NaN     125000                  5  gasoline        audi      yes   \n",
       "2  grand     125000                  8  gasoline        jeep      NaN   \n",
       "3   golf     150000                  6    petrol  volkswagen       no   \n",
       "4  fabia      90000                  7  gasoline       skoda       no   \n",
       "\n",
       "           DateCreated  NumberOfPictures  PostalCode             LastSeen  \n",
       "0  2016-03-24 00:00:00                 0       70435  2016-04-07 03:16:57  \n",
       "1  2016-03-24 00:00:00                 0       66954  2016-04-07 01:46:50  \n",
       "2  2016-03-14 00:00:00                 0       90480  2016-04-05 12:47:46  \n",
       "3  2016-03-17 00:00:00                 0       91074  2016-03-17 17:40:17  \n",
       "4  2016-03-31 00:00:00                 0       60437  2016-04-06 10:17:21  "
      ]
     },
     "execution_count": 4,
     "metadata": {},
     "output_type": "execute_result"
    }
   ],
   "source": [
    "# посмотрим на содержание\n",
    "autos.head()"
   ]
  },
  {
   "cell_type": "code",
   "execution_count": 5,
   "metadata": {},
   "outputs": [],
   "source": [
    "#функция для расчета количесства строк в столбце, количество заполненных и доли пропусков\n",
    "def df_info(df, str1 = \"-------\\n\", str2 = \"\\n\\n\") :\n",
    "    print(str1)\n",
    "    df_size = df.size\n",
    "    not_na_count = df.notna().sum()\n",
    "    na_count = df.isna().sum()\n",
    "    dublicated = df.duplicated().sum()\n",
    "    \n",
    "    if df_size == na_count:\n",
    "        print('Данные отсутствуют')\n",
    "    elif df_size == 0 :\n",
    "        print('Данные отсутствуют')\n",
    "    else:\n",
    "        print(f\"size: {df_size}\")\n",
    "        print(f\"na_count: {na_count}\")\n",
    "        print(f\"not_na_count: {not_na_count}\")\n",
    "        print(f\"na_ratio: {(na_count / df_size):.2f}\") \n",
    "        print(f\"duplicated: {dublicated}\") \n",
    "        print(f\"duplicated_ratio: {(dublicated / df_size):.2f}\") \n",
    "    print(str2)"
   ]
  },
  {
   "cell_type": "code",
   "execution_count": 6,
   "metadata": {},
   "outputs": [],
   "source": [
    "#создаем функцию для применения предыдущей функции к каждому столбцу \n",
    "def data_info (data, col_name):\n",
    "    print(col_name)\n",
    "    df_info(data[col_name])"
   ]
  },
  {
   "cell_type": "code",
   "execution_count": 7,
   "metadata": {},
   "outputs": [
    {
     "name": "stdout",
     "output_type": "stream",
     "text": [
      "DateCrawled\n",
      "-------\n",
      "\n",
      "size: 354369\n",
      "na_count: 0\n",
      "not_na_count: 354369\n",
      "na_ratio: 0.00\n",
      "duplicated: 83195\n",
      "duplicated_ratio: 0.23\n",
      "\n",
      "\n",
      "\n",
      "Price\n",
      "-------\n",
      "\n",
      "size: 354369\n",
      "na_count: 0\n",
      "not_na_count: 354369\n",
      "na_ratio: 0.00\n",
      "duplicated: 350638\n",
      "duplicated_ratio: 0.99\n",
      "\n",
      "\n",
      "\n",
      "VehicleType\n",
      "-------\n",
      "\n",
      "size: 354369\n",
      "na_count: 37490\n",
      "not_na_count: 316879\n",
      "na_ratio: 0.11\n",
      "duplicated: 354360\n",
      "duplicated_ratio: 1.00\n",
      "\n",
      "\n",
      "\n",
      "RegistrationYear\n",
      "-------\n",
      "\n",
      "size: 354369\n",
      "na_count: 0\n",
      "not_na_count: 354369\n",
      "na_ratio: 0.00\n",
      "duplicated: 354218\n",
      "duplicated_ratio: 1.00\n",
      "\n",
      "\n",
      "\n",
      "Gearbox\n",
      "-------\n",
      "\n",
      "size: 354369\n",
      "na_count: 19833\n",
      "not_na_count: 334536\n",
      "na_ratio: 0.06\n",
      "duplicated: 354366\n",
      "duplicated_ratio: 1.00\n",
      "\n",
      "\n",
      "\n",
      "Power\n",
      "-------\n",
      "\n",
      "size: 354369\n",
      "na_count: 0\n",
      "not_na_count: 354369\n",
      "na_ratio: 0.00\n",
      "duplicated: 353657\n",
      "duplicated_ratio: 1.00\n",
      "\n",
      "\n",
      "\n",
      "Model\n",
      "-------\n",
      "\n",
      "size: 354369\n",
      "na_count: 19705\n",
      "not_na_count: 334664\n",
      "na_ratio: 0.06\n",
      "duplicated: 354118\n",
      "duplicated_ratio: 1.00\n",
      "\n",
      "\n",
      "\n",
      "Kilometer\n",
      "-------\n",
      "\n",
      "size: 354369\n",
      "na_count: 0\n",
      "not_na_count: 354369\n",
      "na_ratio: 0.00\n",
      "duplicated: 354356\n",
      "duplicated_ratio: 1.00\n",
      "\n",
      "\n",
      "\n",
      "RegistrationMonth\n",
      "-------\n",
      "\n",
      "size: 354369\n",
      "na_count: 0\n",
      "not_na_count: 354369\n",
      "na_ratio: 0.00\n",
      "duplicated: 354356\n",
      "duplicated_ratio: 1.00\n",
      "\n",
      "\n",
      "\n",
      "FuelType\n",
      "-------\n",
      "\n",
      "size: 354369\n",
      "na_count: 32895\n",
      "not_na_count: 321474\n",
      "na_ratio: 0.09\n",
      "duplicated: 354361\n",
      "duplicated_ratio: 1.00\n",
      "\n",
      "\n",
      "\n",
      "Brand\n",
      "-------\n",
      "\n",
      "size: 354369\n",
      "na_count: 0\n",
      "not_na_count: 354369\n",
      "na_ratio: 0.00\n",
      "duplicated: 354329\n",
      "duplicated_ratio: 1.00\n",
      "\n",
      "\n",
      "\n",
      "Repaired\n",
      "-------\n",
      "\n",
      "size: 354369\n",
      "na_count: 71154\n",
      "not_na_count: 283215\n",
      "na_ratio: 0.20\n",
      "duplicated: 354366\n",
      "duplicated_ratio: 1.00\n",
      "\n",
      "\n",
      "\n",
      "DateCreated\n",
      "-------\n",
      "\n",
      "size: 354369\n",
      "na_count: 0\n",
      "not_na_count: 354369\n",
      "na_ratio: 0.00\n",
      "duplicated: 354260\n",
      "duplicated_ratio: 1.00\n",
      "\n",
      "\n",
      "\n",
      "NumberOfPictures\n",
      "-------\n",
      "\n",
      "size: 354369\n",
      "na_count: 0\n",
      "not_na_count: 354369\n",
      "na_ratio: 0.00\n",
      "duplicated: 354368\n",
      "duplicated_ratio: 1.00\n",
      "\n",
      "\n",
      "\n",
      "PostalCode\n",
      "-------\n",
      "\n",
      "size: 354369\n",
      "na_count: 0\n",
      "not_na_count: 354369\n",
      "na_ratio: 0.00\n",
      "duplicated: 346226\n",
      "duplicated_ratio: 0.98\n",
      "\n",
      "\n",
      "\n",
      "LastSeen\n",
      "-------\n",
      "\n",
      "size: 354369\n",
      "na_count: 0\n",
      "not_na_count: 354369\n",
      "na_ratio: 0.00\n",
      "duplicated: 175219\n",
      "duplicated_ratio: 0.49\n",
      "\n",
      "\n",
      "\n",
      "<class 'pandas.core.frame.DataFrame'>\n",
      "RangeIndex: 354369 entries, 0 to 354368\n",
      "Data columns (total 16 columns):\n",
      " #   Column             Non-Null Count   Dtype \n",
      "---  ------             --------------   ----- \n",
      " 0   DateCrawled        354369 non-null  object\n",
      " 1   Price              354369 non-null  int64 \n",
      " 2   VehicleType        316879 non-null  object\n",
      " 3   RegistrationYear   354369 non-null  int64 \n",
      " 4   Gearbox            334536 non-null  object\n",
      " 5   Power              354369 non-null  int64 \n",
      " 6   Model              334664 non-null  object\n",
      " 7   Kilometer          354369 non-null  int64 \n",
      " 8   RegistrationMonth  354369 non-null  int64 \n",
      " 9   FuelType           321474 non-null  object\n",
      " 10  Brand              354369 non-null  object\n",
      " 11  Repaired           283215 non-null  object\n",
      " 12  DateCreated        354369 non-null  object\n",
      " 13  NumberOfPictures   354369 non-null  int64 \n",
      " 14  PostalCode         354369 non-null  int64 \n",
      " 15  LastSeen           354369 non-null  object\n",
      "dtypes: int64(7), object(9)\n",
      "memory usage: 43.3+ MB\n",
      "None\n",
      "Дублей:  4\n",
      "DateCrawled              0\n",
      "Price                    0\n",
      "VehicleType          37490\n",
      "RegistrationYear         0\n",
      "Gearbox              19833\n",
      "Power                    0\n",
      "Model                19705\n",
      "Kilometer                0\n",
      "RegistrationMonth        0\n",
      "FuelType             32895\n",
      "Brand                    0\n",
      "Repaired             71154\n",
      "DateCreated              0\n",
      "NumberOfPictures         0\n",
      "PostalCode               0\n",
      "LastSeen                 0\n",
      "dtype: int64\n"
     ]
    }
   ],
   "source": [
    "#смотрим результат для autos\n",
    "for el in autos.columns:\n",
    "    data_info(autos, el)\n",
    "print(autos.info())\n",
    "print('Дублей: ', autos.duplicated().sum())\n",
    "print(autos.isna().sum())"
   ]
  },
  {
   "cell_type": "markdown",
   "metadata": {},
   "source": [
    "На первый взгляд в данных много пропусков, есть полные дубли, есть несоответствие в типах данных. \n",
    "Разберемся с этим в следующих шагах."
   ]
  },
  {
   "cell_type": "markdown",
   "metadata": {},
   "source": [
    "### Предобработка данных"
   ]
  },
  {
   "cell_type": "markdown",
   "metadata": {},
   "source": [
    "Для начала приведем названия колонок в порядок, чтобы было удобнее с ними работать. "
   ]
  },
  {
   "cell_type": "code",
   "execution_count": 9,
   "metadata": {},
   "outputs": [
    {
     "data": {
      "text/plain": [
       "Index(['date_crawled', 'price', 'vehicle_type', 'registration_year', 'gearbox',\n",
       "       'power', 'model', 'kilometer', 'registration_month', 'fuel_type',\n",
       "       'brand', 'repaired', 'date_created', 'number_of_pictures',\n",
       "       'postal_code', 'last_seen'],\n",
       "      dtype='object')"
      ]
     },
     "execution_count": 9,
     "metadata": {},
     "output_type": "execute_result"
    }
   ],
   "source": [
    "import re \n",
    "\n",
    "autos.columns = [re.sub(r'(?<!^)(?=[A-Z])', '_', i).lower()for i in autos.columns]\n",
    "autos.columns"
   ]
  },
  {
   "cell_type": "code",
   "execution_count": 10,
   "metadata": {},
   "outputs": [
    {
     "data": {
      "text/plain": [
       "Index(['date_crawled', 'price', 'vehicle_type', 'registration_year', 'gearbox',\n",
       "       'power', 'model', 'kilometer', 'registration_month', 'fuel_type',\n",
       "       'brand', 'repaired', 'date_created', 'number_of_pictures',\n",
       "       'postal_code', 'last_seen'],\n",
       "      dtype='object')"
      ]
     },
     "execution_count": 10,
     "metadata": {},
     "output_type": "execute_result"
    }
   ],
   "source": [
    "# проверия, что все сработало\n",
    "autos.columns"
   ]
  },
  {
   "cell_type": "code",
   "execution_count": 11,
   "metadata": {
    "scrolled": true
   },
   "outputs": [
    {
     "name": "stdout",
     "output_type": "stream",
     "text": [
      "vehicle_type \n",
      "\n",
      "sedan          91457\n",
      "small          79831\n",
      "wagon          65166\n",
      "bus            28775\n",
      "convertible    20203\n",
      "coupe          16163\n",
      "suv            11996\n",
      "other           3288\n",
      "Name: vehicle_type, dtype: int64\n",
      "gearbox \n",
      "\n",
      "manual    268251\n",
      "auto       66285\n",
      "Name: gearbox, dtype: int64\n",
      "model \n",
      "\n",
      "golf                  29232\n",
      "other                 24421\n",
      "3er                   19761\n",
      "polo                  13066\n",
      "corsa                 12570\n",
      "                      ...  \n",
      "i3                        8\n",
      "rangerover                4\n",
      "serie_3                   4\n",
      "range_rover_evoque        2\n",
      "serie_1                   2\n",
      "Name: model, Length: 250, dtype: int64\n",
      "fuel_type \n",
      "\n",
      "petrol      216352\n",
      "gasoline     98720\n",
      "lpg           5310\n",
      "cng            565\n",
      "hybrid         233\n",
      "other          204\n",
      "electric        90\n",
      "Name: fuel_type, dtype: int64\n",
      "brand \n",
      "\n",
      "volkswagen        77013\n",
      "opel              39931\n",
      "bmw               36914\n",
      "mercedes_benz     32046\n",
      "audi              29456\n",
      "ford              25179\n",
      "renault           17927\n",
      "peugeot           10998\n",
      "fiat               9643\n",
      "seat               6907\n",
      "mazda              5615\n",
      "skoda              5500\n",
      "smart              5246\n",
      "citroen            5148\n",
      "nissan             4941\n",
      "toyota             4606\n",
      "hyundai            3587\n",
      "sonstige_autos     3374\n",
      "volvo              3210\n",
      "mini               3202\n",
      "mitsubishi         3022\n",
      "honda              2817\n",
      "kia                2465\n",
      "suzuki             2323\n",
      "alfa_romeo         2314\n",
      "chevrolet          1754\n",
      "chrysler           1439\n",
      "dacia               900\n",
      "daihatsu            806\n",
      "subaru              762\n",
      "porsche             758\n",
      "jeep                677\n",
      "trabant             589\n",
      "land_rover          545\n",
      "daewoo              542\n",
      "saab                526\n",
      "jaguar              505\n",
      "rover               486\n",
      "lancia              471\n",
      "lada                225\n",
      "Name: brand, dtype: int64\n",
      "repaired \n",
      "\n",
      "no     247161\n",
      "yes     36054\n",
      "Name: repaired, dtype: int64\n"
     ]
    }
   ],
   "source": [
    "#посмотрим на уникальные значения в каждом столбце с категориальными данными таблицы autos\n",
    "cat_col = ['vehicle_type', 'gearbox', 'model', 'fuel_type', 'brand', 'repaired']\n",
    "\n",
    "for t in autos.columns:\n",
    "    if t in cat_col:\n",
    "        print(t, '\\n')\n",
    "        print(autos[t].value_counts())"
   ]
  },
  {
   "cell_type": "code",
   "execution_count": 12,
   "metadata": {
    "scrolled": true
   },
   "outputs": [
    {
     "data": {
      "text/plain": [
       "array(['golf', nan, 'grand', 'fabia', '3er', '2_reihe', 'other', 'c_max',\n",
       "       '3_reihe', 'passat', 'navara', 'ka', 'polo', 'twingo', 'a_klasse',\n",
       "       'scirocco', '5er', 'meriva', 'arosa', 'c4', 'civic', 'transporter',\n",
       "       'punto', 'e_klasse', 'clio', 'kadett', 'kangoo', 'corsa', 'one',\n",
       "       'fortwo', '1er', 'b_klasse', 'signum', 'astra', 'a8', 'jetta',\n",
       "       'fiesta', 'c_klasse', 'micra', 'vito', 'sprinter', '156', 'escort',\n",
       "       'forester', 'xc_reihe', 'scenic', 'a4', 'a1', 'insignia', 'combo',\n",
       "       'focus', 'tt', 'a6', 'jazz', 'omega', 'slk', '7er', '80', '147',\n",
       "       '100', 'z_reihe', 'sportage', 'sorento', 'v40', 'ibiza', 'mustang',\n",
       "       'eos', 'touran', 'getz', 'a3', 'almera', 'megane', 'lupo', 'r19',\n",
       "       'zafira', 'caddy', 'mondeo', 'cordoba', 'colt', 'impreza',\n",
       "       'vectra', 'berlingo', 'tiguan', 'i_reihe', 'espace', 'sharan',\n",
       "       '6_reihe', 'panda', 'up', 'seicento', 'ceed', '5_reihe', 'yeti',\n",
       "       'octavia', 'mii', 'rx_reihe', '6er', 'modus', 'fox', 'matiz',\n",
       "       'beetle', 'c1', 'rio', 'touareg', 'logan', 'spider', 'cuore',\n",
       "       's_max', 'a2', 'galaxy', 'c3', 'viano', 's_klasse', '1_reihe',\n",
       "       'avensis', 'roomster', 'sl', 'kaefer', 'santa', 'cooper', 'leon',\n",
       "       '4_reihe', 'a5', '500', 'laguna', 'ptcruiser', 'clk', 'primera',\n",
       "       'x_reihe', 'exeo', '159', 'transit', 'juke', 'qashqai', 'carisma',\n",
       "       'accord', 'corolla', 'lanos', 'phaeton', 'verso', 'swift', 'rav',\n",
       "       'picanto', 'boxster', 'kalos', 'superb', 'stilo', 'alhambra',\n",
       "       'mx_reihe', 'roadster', 'ypsilon', 'cayenne', 'galant', 'justy',\n",
       "       '90', 'sirion', 'crossfire', 'agila', 'duster', 'cr_reihe', 'v50',\n",
       "       'c_reihe', 'v_klasse', 'm_klasse', 'yaris', 'c5', 'aygo', 'cc',\n",
       "       'carnival', 'fusion', '911', 'bora', 'forfour', 'm_reihe', 'cl',\n",
       "       'tigra', '300c', 'spark', 'v70', 'kuga', 'x_type', 'ducato',\n",
       "       's_type', 'x_trail', 'toledo', 'altea', 'voyager', 'calibra',\n",
       "       'bravo', 'antara', 'tucson', 'citigo', 'jimny', 'wrangler',\n",
       "       'lybra', 'q7', 'lancer', 'captiva', 'c2', 'discovery',\n",
       "       'freelander', 'sandero', 'note', '900', 'cherokee', 'clubman',\n",
       "       'samara', 'defender', '601', 'cx_reihe', 'legacy', 'pajero',\n",
       "       'auris', 'niva', 's60', 'nubira', 'vivaro', 'g_klasse', 'lodgy',\n",
       "       '850', 'range_rover', 'q3', 'serie_2', 'glk', 'charade', 'croma',\n",
       "       'outlander', 'doblo', 'musa', 'move', '9000', 'v60', '145', 'aveo',\n",
       "       '200', 'b_max', 'range_rover_sport', 'terios', 'rangerover', 'q5',\n",
       "       'range_rover_evoque', 'materia', 'delta', 'gl', 'kalina', 'amarok',\n",
       "       'elefantino', 'i3', 'kappa', 'serie_3', 'serie_1'], dtype=object)"
      ]
     },
     "execution_count": 12,
     "metadata": {},
     "output_type": "execute_result"
    }
   ],
   "source": [
    "autos['model'].unique()"
   ]
  },
  {
   "cell_type": "markdown",
   "metadata": {},
   "source": [
    "Судя по всему, категориальные данные заполнены нормально, без дублей.\n",
    "\n",
    "Для удобства приведем данные в столбце repaired к типу 1/0. \n",
    "\n",
    "Помним о пропусках в этом столбце. \n",
    "Допущение: если данные о ремонте не заполнены, предположим, что ремонта не было."
   ]
  },
  {
   "cell_type": "code",
   "execution_count": 13,
   "metadata": {},
   "outputs": [],
   "source": [
    "# преобразовываем данные в столбце repaired в булиевый тип\n",
    "def repaired_new(row):\n",
    "    if row['repaired'] == 'yes':\n",
    "        return 1\n",
    "    else:\n",
    "        return 0\n",
    "    \n",
    "#доабавление данных в новый столбец \n",
    "autos['repaired_new'] = autos.apply(repaired_new, axis=1)"
   ]
  },
  {
   "cell_type": "code",
   "execution_count": 14,
   "metadata": {},
   "outputs": [
    {
     "data": {
      "text/html": [
       "<div>\n",
       "<style scoped>\n",
       "    .dataframe tbody tr th:only-of-type {\n",
       "        vertical-align: middle;\n",
       "    }\n",
       "\n",
       "    .dataframe tbody tr th {\n",
       "        vertical-align: top;\n",
       "    }\n",
       "\n",
       "    .dataframe thead th {\n",
       "        text-align: right;\n",
       "    }\n",
       "</style>\n",
       "<table border=\"1\" class=\"dataframe\">\n",
       "  <thead>\n",
       "    <tr style=\"text-align: right;\">\n",
       "      <th></th>\n",
       "      <th>date_crawled</th>\n",
       "      <th>price</th>\n",
       "      <th>vehicle_type</th>\n",
       "      <th>registration_year</th>\n",
       "      <th>gearbox</th>\n",
       "      <th>power</th>\n",
       "      <th>model</th>\n",
       "      <th>kilometer</th>\n",
       "      <th>registration_month</th>\n",
       "      <th>fuel_type</th>\n",
       "      <th>brand</th>\n",
       "      <th>repaired</th>\n",
       "      <th>date_created</th>\n",
       "      <th>number_of_pictures</th>\n",
       "      <th>postal_code</th>\n",
       "      <th>last_seen</th>\n",
       "      <th>repaired_new</th>\n",
       "    </tr>\n",
       "  </thead>\n",
       "  <tbody>\n",
       "    <tr>\n",
       "      <th>0</th>\n",
       "      <td>2016-03-24 11:52:17</td>\n",
       "      <td>480</td>\n",
       "      <td>NaN</td>\n",
       "      <td>1993</td>\n",
       "      <td>manual</td>\n",
       "      <td>0</td>\n",
       "      <td>golf</td>\n",
       "      <td>150000</td>\n",
       "      <td>0</td>\n",
       "      <td>petrol</td>\n",
       "      <td>volkswagen</td>\n",
       "      <td>NaN</td>\n",
       "      <td>2016-03-24 00:00:00</td>\n",
       "      <td>0</td>\n",
       "      <td>70435</td>\n",
       "      <td>2016-04-07 03:16:57</td>\n",
       "      <td>0</td>\n",
       "    </tr>\n",
       "    <tr>\n",
       "      <th>1</th>\n",
       "      <td>2016-03-24 10:58:45</td>\n",
       "      <td>18300</td>\n",
       "      <td>coupe</td>\n",
       "      <td>2011</td>\n",
       "      <td>manual</td>\n",
       "      <td>190</td>\n",
       "      <td>NaN</td>\n",
       "      <td>125000</td>\n",
       "      <td>5</td>\n",
       "      <td>gasoline</td>\n",
       "      <td>audi</td>\n",
       "      <td>yes</td>\n",
       "      <td>2016-03-24 00:00:00</td>\n",
       "      <td>0</td>\n",
       "      <td>66954</td>\n",
       "      <td>2016-04-07 01:46:50</td>\n",
       "      <td>1</td>\n",
       "    </tr>\n",
       "    <tr>\n",
       "      <th>2</th>\n",
       "      <td>2016-03-14 12:52:21</td>\n",
       "      <td>9800</td>\n",
       "      <td>suv</td>\n",
       "      <td>2004</td>\n",
       "      <td>auto</td>\n",
       "      <td>163</td>\n",
       "      <td>grand</td>\n",
       "      <td>125000</td>\n",
       "      <td>8</td>\n",
       "      <td>gasoline</td>\n",
       "      <td>jeep</td>\n",
       "      <td>NaN</td>\n",
       "      <td>2016-03-14 00:00:00</td>\n",
       "      <td>0</td>\n",
       "      <td>90480</td>\n",
       "      <td>2016-04-05 12:47:46</td>\n",
       "      <td>0</td>\n",
       "    </tr>\n",
       "    <tr>\n",
       "      <th>3</th>\n",
       "      <td>2016-03-17 16:54:04</td>\n",
       "      <td>1500</td>\n",
       "      <td>small</td>\n",
       "      <td>2001</td>\n",
       "      <td>manual</td>\n",
       "      <td>75</td>\n",
       "      <td>golf</td>\n",
       "      <td>150000</td>\n",
       "      <td>6</td>\n",
       "      <td>petrol</td>\n",
       "      <td>volkswagen</td>\n",
       "      <td>no</td>\n",
       "      <td>2016-03-17 00:00:00</td>\n",
       "      <td>0</td>\n",
       "      <td>91074</td>\n",
       "      <td>2016-03-17 17:40:17</td>\n",
       "      <td>0</td>\n",
       "    </tr>\n",
       "    <tr>\n",
       "      <th>4</th>\n",
       "      <td>2016-03-31 17:25:20</td>\n",
       "      <td>3600</td>\n",
       "      <td>small</td>\n",
       "      <td>2008</td>\n",
       "      <td>manual</td>\n",
       "      <td>69</td>\n",
       "      <td>fabia</td>\n",
       "      <td>90000</td>\n",
       "      <td>7</td>\n",
       "      <td>gasoline</td>\n",
       "      <td>skoda</td>\n",
       "      <td>no</td>\n",
       "      <td>2016-03-31 00:00:00</td>\n",
       "      <td>0</td>\n",
       "      <td>60437</td>\n",
       "      <td>2016-04-06 10:17:21</td>\n",
       "      <td>0</td>\n",
       "    </tr>\n",
       "  </tbody>\n",
       "</table>\n",
       "</div>"
      ],
      "text/plain": [
       "          date_crawled  price vehicle_type  registration_year gearbox  power  \\\n",
       "0  2016-03-24 11:52:17    480          NaN               1993  manual      0   \n",
       "1  2016-03-24 10:58:45  18300        coupe               2011  manual    190   \n",
       "2  2016-03-14 12:52:21   9800          suv               2004    auto    163   \n",
       "3  2016-03-17 16:54:04   1500        small               2001  manual     75   \n",
       "4  2016-03-31 17:25:20   3600        small               2008  manual     69   \n",
       "\n",
       "   model  kilometer  registration_month fuel_type       brand repaired  \\\n",
       "0   golf     150000                   0    petrol  volkswagen      NaN   \n",
       "1    NaN     125000                   5  gasoline        audi      yes   \n",
       "2  grand     125000                   8  gasoline        jeep      NaN   \n",
       "3   golf     150000                   6    petrol  volkswagen       no   \n",
       "4  fabia      90000                   7  gasoline       skoda       no   \n",
       "\n",
       "          date_created  number_of_pictures  postal_code            last_seen  \\\n",
       "0  2016-03-24 00:00:00                   0        70435  2016-04-07 03:16:57   \n",
       "1  2016-03-24 00:00:00                   0        66954  2016-04-07 01:46:50   \n",
       "2  2016-03-14 00:00:00                   0        90480  2016-04-05 12:47:46   \n",
       "3  2016-03-17 00:00:00                   0        91074  2016-03-17 17:40:17   \n",
       "4  2016-03-31 00:00:00                   0        60437  2016-04-06 10:17:21   \n",
       "\n",
       "   repaired_new  \n",
       "0             0  \n",
       "1             1  \n",
       "2             0  \n",
       "3             0  \n",
       "4             0  "
      ]
     },
     "execution_count": 14,
     "metadata": {},
     "output_type": "execute_result"
    }
   ],
   "source": [
    "autos.head()"
   ]
  },
  {
   "cell_type": "code",
   "execution_count": 15,
   "metadata": {},
   "outputs": [
    {
     "data": {
      "image/png": "[encoded data removed]",
      "text/plain": [
       "<Figure size 432x288 with 1 Axes>"
      ]
     },
     "metadata": {
      "needs_background": "light"
     },
     "output_type": "display_data"
    }
   ],
   "source": [
    "# посмотрим наглядно, как обстоят дела с пропусками\n",
    "sns.heatmap(autos.isna(), yticklabels=False, cbar=False, cmap=\"YlGnBu\");"
   ]
  },
  {
   "cell_type": "markdown",
   "metadata": {},
   "source": [
    "Пропусков многовато. Посмотрим на каждый столбец с пропусками."
   ]
  },
  {
   "cell_type": "markdown",
   "metadata": {},
   "source": [
    "Попробуем разобраться с типом кузова. На примере volkswagen golf выясним, есть ли заполненные данные, чтобы заполнить модой по бренду/модели. "
   ]
  },
  {
   "cell_type": "code",
   "execution_count": 16,
   "metadata": {
    "scrolled": true
   },
   "outputs": [
    {
     "data": {
      "text/html": [
       "<div>\n",
       "<style scoped>\n",
       "    .dataframe tbody tr th:only-of-type {\n",
       "        vertical-align: middle;\n",
       "    }\n",
       "\n",
       "    .dataframe tbody tr th {\n",
       "        vertical-align: top;\n",
       "    }\n",
       "\n",
       "    .dataframe thead th {\n",
       "        text-align: right;\n",
       "    }\n",
       "</style>\n",
       "<table border=\"1\" class=\"dataframe\">\n",
       "  <thead>\n",
       "    <tr style=\"text-align: right;\">\n",
       "      <th></th>\n",
       "      <th>date_crawled</th>\n",
       "      <th>price</th>\n",
       "      <th>vehicle_type</th>\n",
       "      <th>registration_year</th>\n",
       "      <th>gearbox</th>\n",
       "      <th>power</th>\n",
       "      <th>model</th>\n",
       "      <th>kilometer</th>\n",
       "      <th>registration_month</th>\n",
       "      <th>fuel_type</th>\n",
       "      <th>brand</th>\n",
       "      <th>repaired</th>\n",
       "      <th>date_created</th>\n",
       "      <th>number_of_pictures</th>\n",
       "      <th>postal_code</th>\n",
       "      <th>last_seen</th>\n",
       "      <th>repaired_new</th>\n",
       "    </tr>\n",
       "  </thead>\n",
       "  <tbody>\n",
       "    <tr>\n",
       "      <th>0</th>\n",
       "      <td>2016-03-24 11:52:17</td>\n",
       "      <td>480</td>\n",
       "      <td>NaN</td>\n",
       "      <td>1993</td>\n",
       "      <td>manual</td>\n",
       "      <td>0</td>\n",
       "      <td>golf</td>\n",
       "      <td>150000</td>\n",
       "      <td>0</td>\n",
       "      <td>petrol</td>\n",
       "      <td>volkswagen</td>\n",
       "      <td>NaN</td>\n",
       "      <td>2016-03-24 00:00:00</td>\n",
       "      <td>0</td>\n",
       "      <td>70435</td>\n",
       "      <td>2016-04-07 03:16:57</td>\n",
       "      <td>0</td>\n",
       "    </tr>\n",
       "    <tr>\n",
       "      <th>3</th>\n",
       "      <td>2016-03-17 16:54:04</td>\n",
       "      <td>1500</td>\n",
       "      <td>small</td>\n",
       "      <td>2001</td>\n",
       "      <td>manual</td>\n",
       "      <td>75</td>\n",
       "      <td>golf</td>\n",
       "      <td>150000</td>\n",
       "      <td>6</td>\n",
       "      <td>petrol</td>\n",
       "      <td>volkswagen</td>\n",
       "      <td>no</td>\n",
       "      <td>2016-03-17 00:00:00</td>\n",
       "      <td>0</td>\n",
       "      <td>91074</td>\n",
       "      <td>2016-03-17 17:40:17</td>\n",
       "      <td>0</td>\n",
       "    </tr>\n",
       "    <tr>\n",
       "      <th>9</th>\n",
       "      <td>2016-03-17 10:53:50</td>\n",
       "      <td>999</td>\n",
       "      <td>small</td>\n",
       "      <td>1998</td>\n",
       "      <td>manual</td>\n",
       "      <td>101</td>\n",
       "      <td>golf</td>\n",
       "      <td>150000</td>\n",
       "      <td>0</td>\n",
       "      <td>NaN</td>\n",
       "      <td>volkswagen</td>\n",
       "      <td>NaN</td>\n",
       "      <td>2016-03-17 00:00:00</td>\n",
       "      <td>0</td>\n",
       "      <td>27472</td>\n",
       "      <td>2016-03-31 17:17:06</td>\n",
       "      <td>0</td>\n",
       "    </tr>\n",
       "    <tr>\n",
       "      <th>32</th>\n",
       "      <td>2016-03-15 20:59:01</td>\n",
       "      <td>245</td>\n",
       "      <td>sedan</td>\n",
       "      <td>1994</td>\n",
       "      <td>NaN</td>\n",
       "      <td>0</td>\n",
       "      <td>golf</td>\n",
       "      <td>150000</td>\n",
       "      <td>2</td>\n",
       "      <td>petrol</td>\n",
       "      <td>volkswagen</td>\n",
       "      <td>no</td>\n",
       "      <td>2016-03-15 00:00:00</td>\n",
       "      <td>0</td>\n",
       "      <td>44145</td>\n",
       "      <td>2016-03-17 18:17:43</td>\n",
       "      <td>0</td>\n",
       "    </tr>\n",
       "    <tr>\n",
       "      <th>35</th>\n",
       "      <td>2016-03-08 07:54:46</td>\n",
       "      <td>350</td>\n",
       "      <td>NaN</td>\n",
       "      <td>2016</td>\n",
       "      <td>manual</td>\n",
       "      <td>75</td>\n",
       "      <td>golf</td>\n",
       "      <td>150000</td>\n",
       "      <td>4</td>\n",
       "      <td>petrol</td>\n",
       "      <td>volkswagen</td>\n",
       "      <td>no</td>\n",
       "      <td>2016-03-08 00:00:00</td>\n",
       "      <td>0</td>\n",
       "      <td>19386</td>\n",
       "      <td>2016-03-08 09:44:50</td>\n",
       "      <td>0</td>\n",
       "    </tr>\n",
       "  </tbody>\n",
       "</table>\n",
       "</div>"
      ],
      "text/plain": [
       "           date_crawled  price vehicle_type  registration_year gearbox  power  \\\n",
       "0   2016-03-24 11:52:17    480          NaN               1993  manual      0   \n",
       "3   2016-03-17 16:54:04   1500        small               2001  manual     75   \n",
       "9   2016-03-17 10:53:50    999        small               1998  manual    101   \n",
       "32  2016-03-15 20:59:01    245        sedan               1994     NaN      0   \n",
       "35  2016-03-08 07:54:46    350          NaN               2016  manual     75   \n",
       "\n",
       "   model  kilometer  registration_month fuel_type       brand repaired  \\\n",
       "0   golf     150000                   0    petrol  volkswagen      NaN   \n",
       "3   golf     150000                   6    petrol  volkswagen       no   \n",
       "9   golf     150000                   0       NaN  volkswagen      NaN   \n",
       "32  golf     150000                   2    petrol  volkswagen       no   \n",
       "35  golf     150000                   4    petrol  volkswagen       no   \n",
       "\n",
       "           date_created  number_of_pictures  postal_code            last_seen  \\\n",
       "0   2016-03-24 00:00:00                   0        70435  2016-04-07 03:16:57   \n",
       "3   2016-03-17 00:00:00                   0        91074  2016-03-17 17:40:17   \n",
       "9   2016-03-17 00:00:00                   0        27472  2016-03-31 17:17:06   \n",
       "32  2016-03-15 00:00:00                   0        44145  2016-03-17 18:17:43   \n",
       "35  2016-03-08 00:00:00                   0        19386  2016-03-08 09:44:50   \n",
       "\n",
       "    repaired_new  \n",
       "0              0  \n",
       "3              0  \n",
       "9              0  \n",
       "32             0  \n",
       "35             0  "
      ]
     },
     "execution_count": 16,
     "metadata": {},
     "output_type": "execute_result"
    }
   ],
   "source": [
    "autos[(autos['brand'] == 'volkswagen') & (autos['model'] == 'golf')].head()"
   ]
  },
  {
   "cell_type": "markdown",
   "metadata": {},
   "source": [
    "Видим, что гольфы выпускались с разным типом кузова, при этом коробка у них одинаковая в основном. Тогда так: проспуски в vehicle_type заполним заглушкой \"unknown\", а коробку заполним модой. Кстати, fuel_type в этом примере тоже одинаковый для сочетания бренд/модель, здесь тоже подойдет мода. "
   ]
  },
  {
   "cell_type": "code",
   "execution_count": 17,
   "metadata": {},
   "outputs": [],
   "source": [
    "# ставим заглушку на столбце vehicle_type\n",
    "autos['vehicle_type'] = autos['vehicle_type'].fillna('unknown')"
   ]
  },
  {
   "cell_type": "code",
   "execution_count": 18,
   "metadata": {},
   "outputs": [
    {
     "data": {
      "text/plain": [
       "0"
      ]
     },
     "execution_count": 18,
     "metadata": {},
     "output_type": "execute_result"
    }
   ],
   "source": [
    "# проверяем, что пропусков не осталось\n",
    "autos['vehicle_type'].isna().sum()"
   ]
  },
  {
   "cell_type": "markdown",
   "metadata": {},
   "source": [
    "Если за рабочее сочетание мы берем бренд + модель, важно, чтобы пропусков здесь не было. \n",
    "С брендом все хорошо, но в модели есть пропуски. Посмотрим, сколько таких пропусков - сможем ли мы их удалить."
   ]
  },
  {
   "cell_type": "code",
   "execution_count": 19,
   "metadata": {},
   "outputs": [
    {
     "data": {
      "text/plain": [
       "0.055605879746817584"
      ]
     },
     "execution_count": 19,
     "metadata": {},
     "output_type": "execute_result"
    }
   ],
   "source": [
    "autos['model'].isna().sum() / autos['brand'].count()"
   ]
  },
  {
   "cell_type": "markdown",
   "metadata": {},
   "source": [
    "Все-таки удалим эти пропуски, их менее 6%, при этом значения в этом столце влияют на качество заполнеиня пропусков в прочих. "
   ]
  },
  {
   "cell_type": "code",
   "execution_count": 20,
   "metadata": {},
   "outputs": [
    {
     "data": {
      "text/plain": [
       "(334664, 17)"
      ]
     },
     "execution_count": 20,
     "metadata": {},
     "output_type": "execute_result"
    }
   ],
   "source": [
    "autos = autos[autos['model'].isna() == False]\n",
    "autos.shape"
   ]
  },
  {
   "cell_type": "code",
   "execution_count": 21,
   "metadata": {},
   "outputs": [
    {
     "data": {
      "text/html": [
       "<div>\n",
       "<style scoped>\n",
       "    .dataframe tbody tr th:only-of-type {\n",
       "        vertical-align: middle;\n",
       "    }\n",
       "\n",
       "    .dataframe tbody tr th {\n",
       "        vertical-align: top;\n",
       "    }\n",
       "\n",
       "    .dataframe thead th {\n",
       "        text-align: right;\n",
       "    }\n",
       "</style>\n",
       "<table border=\"1\" class=\"dataframe\">\n",
       "  <thead>\n",
       "    <tr style=\"text-align: right;\">\n",
       "      <th></th>\n",
       "      <th>date_crawled</th>\n",
       "      <th>price</th>\n",
       "      <th>vehicle_type</th>\n",
       "      <th>registration_year</th>\n",
       "      <th>gearbox</th>\n",
       "      <th>power</th>\n",
       "      <th>model</th>\n",
       "      <th>kilometer</th>\n",
       "      <th>registration_month</th>\n",
       "      <th>fuel_type</th>\n",
       "      <th>brand</th>\n",
       "      <th>repaired</th>\n",
       "      <th>date_created</th>\n",
       "      <th>number_of_pictures</th>\n",
       "      <th>postal_code</th>\n",
       "      <th>last_seen</th>\n",
       "      <th>repaired_new</th>\n",
       "      <th>brand_model</th>\n",
       "    </tr>\n",
       "  </thead>\n",
       "  <tbody>\n",
       "    <tr>\n",
       "      <th>295464</th>\n",
       "      <td>2016-04-04 13:37:44</td>\n",
       "      <td>14800</td>\n",
       "      <td>convertible</td>\n",
       "      <td>2008</td>\n",
       "      <td>manual</td>\n",
       "      <td>105</td>\n",
       "      <td>a3</td>\n",
       "      <td>90000</td>\n",
       "      <td>10</td>\n",
       "      <td>gasoline</td>\n",
       "      <td>audi</td>\n",
       "      <td>no</td>\n",
       "      <td>2016-04-04 00:00:00</td>\n",
       "      <td>0</td>\n",
       "      <td>21435</td>\n",
       "      <td>2016-04-06 14:45:04</td>\n",
       "      <td>0</td>\n",
       "      <td>audi / a3</td>\n",
       "    </tr>\n",
       "    <tr>\n",
       "      <th>222646</th>\n",
       "      <td>2016-03-20 22:47:36</td>\n",
       "      <td>1650</td>\n",
       "      <td>small</td>\n",
       "      <td>2002</td>\n",
       "      <td>NaN</td>\n",
       "      <td>0</td>\n",
       "      <td>fortwo</td>\n",
       "      <td>125000</td>\n",
       "      <td>6</td>\n",
       "      <td>petrol</td>\n",
       "      <td>smart</td>\n",
       "      <td>no</td>\n",
       "      <td>2016-03-20 00:00:00</td>\n",
       "      <td>0</td>\n",
       "      <td>79110</td>\n",
       "      <td>2016-04-07 08:45:15</td>\n",
       "      <td>0</td>\n",
       "      <td>smart / fortwo</td>\n",
       "    </tr>\n",
       "    <tr>\n",
       "      <th>4009</th>\n",
       "      <td>2016-04-04 15:40:09</td>\n",
       "      <td>8500</td>\n",
       "      <td>sedan</td>\n",
       "      <td>2009</td>\n",
       "      <td>manual</td>\n",
       "      <td>140</td>\n",
       "      <td>civic</td>\n",
       "      <td>60000</td>\n",
       "      <td>11</td>\n",
       "      <td>petrol</td>\n",
       "      <td>honda</td>\n",
       "      <td>no</td>\n",
       "      <td>2016-04-04 00:00:00</td>\n",
       "      <td>0</td>\n",
       "      <td>4357</td>\n",
       "      <td>2016-04-06 16:47:25</td>\n",
       "      <td>0</td>\n",
       "      <td>honda / civic</td>\n",
       "    </tr>\n",
       "    <tr>\n",
       "      <th>214693</th>\n",
       "      <td>2016-03-20 21:56:33</td>\n",
       "      <td>10500</td>\n",
       "      <td>wagon</td>\n",
       "      <td>2006</td>\n",
       "      <td>manual</td>\n",
       "      <td>150</td>\n",
       "      <td>c_klasse</td>\n",
       "      <td>150000</td>\n",
       "      <td>8</td>\n",
       "      <td>gasoline</td>\n",
       "      <td>mercedes_benz</td>\n",
       "      <td>NaN</td>\n",
       "      <td>2016-03-20 00:00:00</td>\n",
       "      <td>0</td>\n",
       "      <td>33175</td>\n",
       "      <td>2016-04-07 07:16:39</td>\n",
       "      <td>0</td>\n",
       "      <td>mercedes_benz / c_klasse</td>\n",
       "    </tr>\n",
       "    <tr>\n",
       "      <th>263148</th>\n",
       "      <td>2016-03-30 12:36:39</td>\n",
       "      <td>3250</td>\n",
       "      <td>coupe</td>\n",
       "      <td>1995</td>\n",
       "      <td>manual</td>\n",
       "      <td>193</td>\n",
       "      <td>3er</td>\n",
       "      <td>150000</td>\n",
       "      <td>6</td>\n",
       "      <td>petrol</td>\n",
       "      <td>bmw</td>\n",
       "      <td>no</td>\n",
       "      <td>2016-03-30 00:00:00</td>\n",
       "      <td>0</td>\n",
       "      <td>57076</td>\n",
       "      <td>2016-04-01 06:16:18</td>\n",
       "      <td>0</td>\n",
       "      <td>bmw / 3er</td>\n",
       "    </tr>\n",
       "  </tbody>\n",
       "</table>\n",
       "</div>"
      ],
      "text/plain": [
       "               date_crawled  price vehicle_type  registration_year gearbox  \\\n",
       "295464  2016-04-04 13:37:44  14800  convertible               2008  manual   \n",
       "222646  2016-03-20 22:47:36   1650        small               2002     NaN   \n",
       "4009    2016-04-04 15:40:09   8500        sedan               2009  manual   \n",
       "214693  2016-03-20 21:56:33  10500        wagon               2006  manual   \n",
       "263148  2016-03-30 12:36:39   3250        coupe               1995  manual   \n",
       "\n",
       "        power     model  kilometer  registration_month fuel_type  \\\n",
       "295464    105        a3      90000                  10  gasoline   \n",
       "222646      0    fortwo     125000                   6    petrol   \n",
       "4009      140     civic      60000                  11    petrol   \n",
       "214693    150  c_klasse     150000                   8  gasoline   \n",
       "263148    193       3er     150000                   6    petrol   \n",
       "\n",
       "                brand repaired         date_created  number_of_pictures  \\\n",
       "295464           audi       no  2016-04-04 00:00:00                   0   \n",
       "222646          smart       no  2016-03-20 00:00:00                   0   \n",
       "4009            honda       no  2016-04-04 00:00:00                   0   \n",
       "214693  mercedes_benz      NaN  2016-03-20 00:00:00                   0   \n",
       "263148            bmw       no  2016-03-30 00:00:00                   0   \n",
       "\n",
       "        postal_code            last_seen  repaired_new  \\\n",
       "295464        21435  2016-04-06 14:45:04             0   \n",
       "222646        79110  2016-04-07 08:45:15             0   \n",
       "4009           4357  2016-04-06 16:47:25             0   \n",
       "214693        33175  2016-04-07 07:16:39             0   \n",
       "263148        57076  2016-04-01 06:16:18             0   \n",
       "\n",
       "                     brand_model  \n",
       "295464                 audi / a3  \n",
       "222646            smart / fortwo  \n",
       "4009               honda / civic  \n",
       "214693  mercedes_benz / c_klasse  \n",
       "263148                 bmw / 3er  "
      ]
     },
     "execution_count": 21,
     "metadata": {},
     "output_type": "execute_result"
    }
   ],
   "source": [
    "autos['brand_model'] = autos['brand'] + ' / ' + autos['model']\n",
    "autos.sample(5)"
   ]
  },
  {
   "cell_type": "code",
   "execution_count": 22,
   "metadata": {},
   "outputs": [],
   "source": [
    "# запоняем пропуски в gearbox \n",
    "for t in autos['brand_model'].unique():\n",
    "    gear_mode = autos.loc[(autos['brand_model'] == t) & ~(autos['gearbox'].isna())]['gearbox'].mode().values[0]\n",
    "    autos.loc[(autos['brand_model'] == t) & (autos['gearbox'].isna()), 'gearbox'] = gear_mode"
   ]
  },
  {
   "cell_type": "code",
   "execution_count": 23,
   "metadata": {
    "scrolled": true
   },
   "outputs": [
    {
     "data": {
      "text/plain": [
       "0"
      ]
     },
     "execution_count": 23,
     "metadata": {},
     "output_type": "execute_result"
    }
   ],
   "source": [
    "autos['gearbox'].isna().sum()"
   ]
  },
  {
   "cell_type": "markdown",
   "metadata": {},
   "source": [
    "Попробуем тип топлива заполнить медианным значением по бренд+модель\n",
    "Кончено, каждая модель может предполагать несколько вариантов + возможны индивидуальные решения и доработки, но все же наиболее частое значение в модели кажется лучшим решением, чем самое частое в выборке или просто заглушка"
   ]
  },
  {
   "cell_type": "code",
   "execution_count": 24,
   "metadata": {},
   "outputs": [],
   "source": [
    "# запоняем пропуски в fuel_type \n",
    "for t in autos['brand_model'].unique():\n",
    "    fuel_type_mode = autos.loc[(autos['brand_model'] == t) & ~(autos['fuel_type'].isna())]['fuel_type'].mode().values[0]\n",
    "    autos.loc[(autos['brand_model'] == t) & (autos['fuel_type'].isna()), 'fuel_type'] = fuel_type_mode"
   ]
  },
  {
   "cell_type": "code",
   "execution_count": 25,
   "metadata": {
    "scrolled": true
   },
   "outputs": [
    {
     "data": {
      "text/plain": [
       "0"
      ]
     },
     "execution_count": 25,
     "metadata": {},
     "output_type": "execute_result"
    }
   ],
   "source": [
    "autos['fuel_type'].isna().sum()"
   ]
  },
  {
   "cell_type": "code",
   "execution_count": 26,
   "metadata": {
    "scrolled": true
   },
   "outputs": [
    {
     "name": "stdout",
     "output_type": "stream",
     "text": [
      "date_crawled              0\n",
      "price                     0\n",
      "vehicle_type              0\n",
      "registration_year         0\n",
      "gearbox                   0\n",
      "power                     0\n",
      "model                     0\n",
      "kilometer                 0\n",
      "registration_month        0\n",
      "fuel_type                 0\n",
      "brand                     0\n",
      "repaired              62100\n",
      "date_created              0\n",
      "number_of_pictures        0\n",
      "postal_code               0\n",
      "last_seen                 0\n",
      "repaired_new              0\n",
      "brand_model               0\n",
      "dtype: int64\n"
     ]
    }
   ],
   "source": [
    "print(autos.isna().sum())"
   ]
  },
  {
   "cell_type": "markdown",
   "metadata": {},
   "source": [
    "Наконец, с пропусками разобрались.\n",
    "\n",
    "Подготовим выбоку к дальнейшим исследованиям - удалим ненужные столбцы:\n",
    "* repaired - он у нас заменен на repaired_new;\n",
    "* date_crawled - неинформативен. Стоимость не будет зависеть от даты скачивания анкеты;\n",
    "* date_created - аналогично date_crawled\n",
    "* number_of_pictures - конечно, от количества фото зависит наличие звонков от покупателей и скорость продажи. Однако наш целевой признак - цена, а она от фотографий не зависит \n",
    "* postal_code - аналогично date_crawled\n",
    "* lastseen - аналогично date_crawled\n",
    "\n",
    "brand_model сможем использовать как дополнительный признак в моделях, его пока оставим"
   ]
  },
  {
   "cell_type": "code",
   "execution_count": 27,
   "metadata": {},
   "outputs": [],
   "source": [
    "autos = autos.drop(['repaired', 'date_created', 'number_of_pictures', 'postal_code', 'last_seen'], axis=1)"
   ]
  },
  {
   "cell_type": "markdown",
   "metadata": {},
   "source": [
    "Красота.\n",
    "\n",
    "Посмотрим на распределение значений и корреляцию в признаках."
   ]
  },
  {
   "cell_type": "markdown",
   "metadata": {},
   "source": [
    "### Исследовательский анализ данных"
   ]
  },
  {
   "cell_type": "code",
   "execution_count": 28,
   "metadata": {},
   "outputs": [
    {
     "name": "stdout",
     "output_type": "stream",
     "text": [
      "<class 'pandas.core.frame.DataFrame'>\n",
      "Int64Index: 334664 entries, 0 to 354368\n",
      "Data columns (total 13 columns):\n",
      " #   Column              Non-Null Count   Dtype \n",
      "---  ------              --------------   ----- \n",
      " 0   date_crawled        334664 non-null  object\n",
      " 1   price               334664 non-null  int64 \n",
      " 2   vehicle_type        334664 non-null  object\n",
      " 3   registration_year   334664 non-null  int64 \n",
      " 4   gearbox             334664 non-null  object\n",
      " 5   power               334664 non-null  int64 \n",
      " 6   model               334664 non-null  object\n",
      " 7   kilometer           334664 non-null  int64 \n",
      " 8   registration_month  334664 non-null  int64 \n",
      " 9   fuel_type           334664 non-null  object\n",
      " 10  brand               334664 non-null  object\n",
      " 11  repaired_new        334664 non-null  int64 \n",
      " 12  brand_model         334664 non-null  object\n",
      "dtypes: int64(6), object(7)\n",
      "memory usage: 35.7+ MB\n"
     ]
    }
   ],
   "source": [
    "autos.info()"
   ]
  },
  {
   "cell_type": "code",
   "execution_count": 29,
   "metadata": {},
   "outputs": [],
   "source": [
    "#определим количественные и категориальные столбцы\n",
    "col = ['price', 'registration_year', 'power', 'kilometer', 'registration_month']\n",
    "cat_col = ['vehicle_type', 'gearbox', 'fuel_type', 'repaired_new']"
   ]
  },
  {
   "cell_type": "code",
   "execution_count": 30,
   "metadata": {},
   "outputs": [],
   "source": [
    "#сделаем графики в желто-зеленой гамме\n",
    "colors=['chartreuse', 'green', 'lawngreen', 'lightgreen', 'limegreen', 'mediumseagreen', 'mediumspringgreen', \n",
    "       'palegreen', 'springgreen', 'yellowgreen', 'greenyellow', 'lime', 'yellow', 'gold']"
   ]
  },
  {
   "cell_type": "code",
   "execution_count": 31,
   "metadata": {},
   "outputs": [],
   "source": [
    "#сооздадим функцию, которая поможет нам с графиками\n",
    "def visual (df, col):\n",
    "    df[col].plot(\n",
    "        kind='hist',\n",
    "        title=col,\n",
    "        alpha=0.5,\n",
    "        color=np.random.choice(colors)\n",
    "    )\n",
    "    plt.xlabel(col)\n",
    "    plt.ylabel('Количество авто');\n",
    "    plt.show()\n",
    "    \n",
    "    df[col].plot(\n",
    "    kind='box',\n",
    "    title=col,\n",
    "    color=np.random.choice(colors)\n",
    "    );\n",
    "    plt.show()"
   ]
  },
  {
   "cell_type": "code",
   "execution_count": 32,
   "metadata": {},
   "outputs": [],
   "source": [
    "#сооздадим функцию, которая поможет нам с графиками по категориальным данным \n",
    "def visual_cat (df, col):\n",
    "    ax = sns.countplot(x=col, data=df, color=np.random.choice(colors))\n",
    "    plt.xlabel(col)\n",
    "    plt.ylabel('Количество авто')\n",
    "    plt.title(col)\n",
    "    plt.show()"
   ]
  },
  {
   "cell_type": "code",
   "execution_count": 33,
   "metadata": {
    "scrolled": true
   },
   "outputs": [
    {
     "data": {
      "image/png": "[encoded data removed]",
      "text/plain": [
       "<Figure size 432x288 with 1 Axes>"
      ]
     },
     "metadata": {
      "needs_background": "light"
     },
     "output_type": "display_data"
    },
    {
     "data": {
      "image/png": "[encoded data removed]",
      "text/plain": [
       "<Figure size 432x288 with 1 Axes>"
      ]
     },
     "metadata": {
      "needs_background": "light"
     },
     "output_type": "display_data"
    },
    {
     "data": {
      "image/png": "[encoded data removed]",
      "text/plain": [
       "<Figure size 432x288 with 1 Axes>"
      ]
     },
     "metadata": {
      "needs_background": "light"
     },
     "output_type": "display_data"
    },
    {
     "data": {
      "image/png": "[encoded data removed]",
      "text/plain": [
       "<Figure size 432x288 with 1 Axes>"
      ]
     },
     "metadata": {
      "needs_background": "light"
     },
     "output_type": "display_data"
    },
    {
     "data": {
      "image/png": "[encoded data removed]",
      "text/plain": [
       "<Figure size 432x288 with 1 Axes>"
      ]
     },
     "metadata": {
      "needs_background": "light"
     },
     "output_type": "display_data"
    },
    {
     "data": {
      "image/png": "[encoded data removed]",
      "text/plain": [
       "<Figure size 432x288 with 1 Axes>"
      ]
     },
     "metadata": {
      "needs_background": "light"
     },
     "output_type": "display_data"
    },
    {
     "data": {
      "image/png": "[encoded data removed]",
      "text/plain": [
       "<Figure size 432x288 with 1 Axes>"
      ]
     },
     "metadata": {
      "needs_background": "light"
     },
     "output_type": "display_data"
    },
    {
     "data": {
      "image/png": "[encoded data removed]",
      "text/plain": [
       "<Figure size 432x288 with 1 Axes>"
      ]
     },
     "metadata": {
      "needs_background": "light"
     },
     "output_type": "display_data"
    },
    {
     "data": {
      "image/png": "[encoded data removed]",
      "text/plain": [
       "<Figure size 432x288 with 1 Axes>"
      ]
     },
     "metadata": {
      "needs_background": "light"
     },
     "output_type": "display_data"
    },
    {
     "data": {
      "image/png": "[encoded data removed]",
      "text/plain": [
       "<Figure size 432x288 with 1 Axes>"
      ]
     },
     "metadata": {
      "needs_background": "light"
     },
     "output_type": "display_data"
    },
    {
     "data": {
      "image/png": "[encoded data removed]",
      "text/plain": [
       "<Figure size 432x288 with 1 Axes>"
      ]
     },
     "metadata": {
      "needs_background": "light"
     },
     "output_type": "display_data"
    },
    {
     "data": {
      "image/png": "[encoded data removed]",
      "text/plain": [
       "<Figure size 432x288 with 1 Axes>"
      ]
     },
     "metadata": {
      "needs_background": "light"
     },
     "output_type": "display_data"
    },
    {
     "data": {
      "image/png": "[encoded data removed]",
      "text/plain": [
       "<Figure size 432x288 with 1 Axes>"
      ]
     },
     "metadata": {
      "needs_background": "light"
     },
     "output_type": "display_data"
    },
    {
     "data": {
      "image/png": "[encoded data removed]",
      "text/plain": [
       "<Figure size 432x288 with 1 Axes>"
      ]
     },
     "metadata": {
      "needs_background": "light"
     },
     "output_type": "display_data"
    }
   ],
   "source": [
    "#применим их к каждому столбцу autos\n",
    "for el in autos.columns:\n",
    "    if el in col:\n",
    "        visual(autos, el)\n",
    "    elif el in cat_col:\n",
    "        visual_cat(autos, el)"
   ]
  },
  {
   "cell_type": "code",
   "execution_count": 34,
   "metadata": {},
   "outputs": [
    {
     "data": {
      "image/png": "[encoded data removed]",
      "text/plain": [
       "<Figure size 432x288 with 1 Axes>"
      ]
     },
     "metadata": {
      "needs_background": "light"
     },
     "output_type": "display_data"
    }
   ],
   "source": [
    "model = autos.pivot_table(index='model', values='power', aggfunc='count')\\\n",
    "        .sort_values(by='power', ascending=False).head(10)\\\n",
    "        .plot(kind='bar', title='ТОП-10 моделей', xlabel='модель', ylabel='Количество авто', color=np.random.choice(colors))"
   ]
  },
  {
   "cell_type": "code",
   "execution_count": 35,
   "metadata": {
    "scrolled": true
   },
   "outputs": [
    {
     "data": {
      "image/png": "[encoded data removed]",
      "text/plain": [
       "<Figure size 432x288 with 1 Axes>"
      ]
     },
     "metadata": {
      "needs_background": "light"
     },
     "output_type": "display_data"
    }
   ],
   "source": [
    "brand = autos.pivot_table(index='brand', values='power', aggfunc='count')\\\n",
    "        .sort_values(by='power', ascending=False).head(10)\\\n",
    "        .plot(kind='bar', title='ТОП-10 брендов', xlabel='бренд', ylabel='Количество авто', color=np.random.choice(colors))"
   ]
  },
  {
   "cell_type": "code",
   "execution_count": 36,
   "metadata": {},
   "outputs": [
    {
     "data": {
      "image/png": "[encoded data removed]",
      "text/plain": [
       "<Figure size 432x288 with 1 Axes>"
      ]
     },
     "metadata": {
      "needs_background": "light"
     },
     "output_type": "display_data"
    }
   ],
   "source": [
    "brand_model = autos.pivot_table(index='brand_model', values='power', aggfunc='count')\\\n",
    "        .sort_values(by='power', ascending=False).head(10)\\\n",
    "        .plot(kind='bar', title='ТОП-10 авто', xlabel='бренд и модель авто', ylabel='Количество авто', color=np.random.choice(colors))"
   ]
  },
  {
   "cell_type": "markdown",
   "metadata": {},
   "source": [
    "По данным графиков:\n",
    "1. Пик цены около 0. Если это не акция \"машина за красивые глаза\", надо поправить;\n",
    "2. Год регистрации чаще всего - 2000 , но есть значения боьше/меньше. Из-за количество машин 2000 г.в. остальные года определены как выброс;\n",
    "3. Лошадиные силы тоже показывают пик около 0 - непонятно, это маломощные машины перетянули или проблема в данных;\n",
    "4. Чаще всего встречаются машины с пробегом, хотя новые тоже есть;\n",
    "5. Любопытно, что месяц регистрации показывает июль, декабрь. Новогодние подарки и время отпусков позволяют чаще покупать машины? кстати, данные с неизвестным нулевым месяцев тоже есть. Подумаем над исключеним этого столбца в принципе, хоья протестировать его влияние надо - иногда ведь какие-то редкие машины с определенным выпуском могут стоить дороже. \n",
    "6. Подавляющее большинство машин не были в ремонте. Сомнительно, чтобы это был хороший показатель (во-первых, мы помним, что заменили пропуски на отсутствие ремонта; во-вторых среднестатичстическая машина 2000 г.в. без ремонта настораживает). Возможно, при построении моделей этот признак придется убрать."
   ]
  },
  {
   "cell_type": "markdown",
   "metadata": {},
   "source": [
    "Посмотрим на таблицу со статистическими данными"
   ]
  },
  {
   "cell_type": "code",
   "execution_count": 37,
   "metadata": {},
   "outputs": [
    {
     "data": {
      "text/html": [
       "<div>\n",
       "<style scoped>\n",
       "    .dataframe tbody tr th:only-of-type {\n",
       "        vertical-align: middle;\n",
       "    }\n",
       "\n",
       "    .dataframe tbody tr th {\n",
       "        vertical-align: top;\n",
       "    }\n",
       "\n",
       "    .dataframe thead th {\n",
       "        text-align: right;\n",
       "    }\n",
       "</style>\n",
       "<table border=\"1\" class=\"dataframe\">\n",
       "  <thead>\n",
       "    <tr style=\"text-align: right;\">\n",
       "      <th></th>\n",
       "      <th>price</th>\n",
       "      <th>registration_year</th>\n",
       "      <th>power</th>\n",
       "      <th>kilometer</th>\n",
       "      <th>registration_month</th>\n",
       "      <th>repaired_new</th>\n",
       "    </tr>\n",
       "  </thead>\n",
       "  <tbody>\n",
       "    <tr>\n",
       "      <th>count</th>\n",
       "      <td>334664.00</td>\n",
       "      <td>334664.00</td>\n",
       "      <td>334664.00</td>\n",
       "      <td>334664.00</td>\n",
       "      <td>334664.00</td>\n",
       "      <td>334664.00</td>\n",
       "    </tr>\n",
       "    <tr>\n",
       "      <th>mean</th>\n",
       "      <td>4504.35</td>\n",
       "      <td>2003.92</td>\n",
       "      <td>111.37</td>\n",
       "      <td>128562.59</td>\n",
       "      <td>5.81</td>\n",
       "      <td>0.10</td>\n",
       "    </tr>\n",
       "    <tr>\n",
       "      <th>std</th>\n",
       "      <td>4531.44</td>\n",
       "      <td>69.38</td>\n",
       "      <td>185.16</td>\n",
       "      <td>37205.93</td>\n",
       "      <td>3.69</td>\n",
       "      <td>0.30</td>\n",
       "    </tr>\n",
       "    <tr>\n",
       "      <th>min</th>\n",
       "      <td>0.00</td>\n",
       "      <td>1000.00</td>\n",
       "      <td>0.00</td>\n",
       "      <td>5000.00</td>\n",
       "      <td>0.00</td>\n",
       "      <td>0.00</td>\n",
       "    </tr>\n",
       "    <tr>\n",
       "      <th>25%</th>\n",
       "      <td>1150.00</td>\n",
       "      <td>1999.00</td>\n",
       "      <td>70.00</td>\n",
       "      <td>125000.00</td>\n",
       "      <td>3.00</td>\n",
       "      <td>0.00</td>\n",
       "    </tr>\n",
       "    <tr>\n",
       "      <th>50%</th>\n",
       "      <td>2800.00</td>\n",
       "      <td>2003.00</td>\n",
       "      <td>105.00</td>\n",
       "      <td>150000.00</td>\n",
       "      <td>6.00</td>\n",
       "      <td>0.00</td>\n",
       "    </tr>\n",
       "    <tr>\n",
       "      <th>75%</th>\n",
       "      <td>6500.00</td>\n",
       "      <td>2008.00</td>\n",
       "      <td>143.00</td>\n",
       "      <td>150000.00</td>\n",
       "      <td>9.00</td>\n",
       "      <td>0.00</td>\n",
       "    </tr>\n",
       "    <tr>\n",
       "      <th>max</th>\n",
       "      <td>20000.00</td>\n",
       "      <td>9999.00</td>\n",
       "      <td>20000.00</td>\n",
       "      <td>150000.00</td>\n",
       "      <td>12.00</td>\n",
       "      <td>1.00</td>\n",
       "    </tr>\n",
       "  </tbody>\n",
       "</table>\n",
       "</div>"
      ],
      "text/plain": [
       "          price  registration_year     power  kilometer  registration_month  \\\n",
       "count 334664.00          334664.00 334664.00  334664.00           334664.00   \n",
       "mean    4504.35            2003.92    111.37  128562.59                5.81   \n",
       "std     4531.44              69.38    185.16   37205.93                3.69   \n",
       "min        0.00            1000.00      0.00    5000.00                0.00   \n",
       "25%     1150.00            1999.00     70.00  125000.00                3.00   \n",
       "50%     2800.00            2003.00    105.00  150000.00                6.00   \n",
       "75%     6500.00            2008.00    143.00  150000.00                9.00   \n",
       "max    20000.00            9999.00  20000.00  150000.00               12.00   \n",
       "\n",
       "       repaired_new  \n",
       "count     334664.00  \n",
       "mean           0.10  \n",
       "std            0.30  \n",
       "min            0.00  \n",
       "25%            0.00  \n",
       "50%            0.00  \n",
       "75%            0.00  \n",
       "max            1.00  "
      ]
     },
     "execution_count": 37,
     "metadata": {},
     "output_type": "execute_result"
    }
   ],
   "source": [
    "autos.describe()"
   ]
  },
  {
   "cell_type": "markdown",
   "metadata": {},
   "source": [
    "начнем с цены. Сколько в выбоке бесплатных машин?"
   ]
  },
  {
   "cell_type": "code",
   "execution_count": 38,
   "metadata": {},
   "outputs": [
    {
     "data": {
      "text/plain": [
       "8588"
      ]
     },
     "execution_count": 38,
     "metadata": {},
     "output_type": "execute_result"
    }
   ],
   "source": [
    "autos[autos['price'] == 0]['price'].count()"
   ]
  },
  {
   "cell_type": "markdown",
   "metadata": {},
   "source": [
    "~~Хотелось бы, конечно, ссылочку на этот сервис~~\n",
    "\n",
    "Удаляем эти данные - это целевой признак и заменить его средним нецелесообразно."
   ]
  },
  {
   "cell_type": "code",
   "execution_count": 39,
   "metadata": {},
   "outputs": [],
   "source": [
    "autos = autos[autos['price'] != 0]"
   ]
  },
  {
   "cell_type": "code",
   "execution_count": 40,
   "metadata": {},
   "outputs": [
    {
     "data": {
      "text/plain": [
       "(326076, 13)"
      ]
     },
     "execution_count": 40,
     "metadata": {},
     "output_type": "execute_result"
    }
   ],
   "source": [
    "autos.shape"
   ]
  },
  {
   "cell_type": "code",
   "execution_count": 41,
   "metadata": {},
   "outputs": [
    {
     "data": {
      "text/plain": [
       "count   326076.00\n",
       "mean      4622.98\n",
       "std       4530.60\n",
       "min          1.00\n",
       "25%       1200.00\n",
       "50%       2950.00\n",
       "75%       6642.25\n",
       "max      20000.00\n",
       "Name: price, dtype: float64"
      ]
     },
     "execution_count": 41,
     "metadata": {},
     "output_type": "execute_result"
    }
   ],
   "source": [
    "autos.describe()['price']"
   ]
  },
  {
   "cell_type": "markdown",
   "metadata": {},
   "source": [
    "Один евро за машину тоже маловероятная цена. Посмотрим, сколько вообще в выборке чересчур дешевых машин, например, меньше 50 евро."
   ]
  },
  {
   "cell_type": "code",
   "execution_count": 42,
   "metadata": {},
   "outputs": [
    {
     "data": {
      "text/plain": [
       "1293"
      ]
     },
     "execution_count": 42,
     "metadata": {},
     "output_type": "execute_result"
    }
   ],
   "source": [
    "autos[autos['price'] < 50]['price'].count()"
   ]
  },
  {
   "cell_type": "code",
   "execution_count": 43,
   "metadata": {
    "scrolled": true
   },
   "outputs": [
    {
     "data": {
      "text/html": [
       "<div>\n",
       "<style scoped>\n",
       "    .dataframe tbody tr th:only-of-type {\n",
       "        vertical-align: middle;\n",
       "    }\n",
       "\n",
       "    .dataframe tbody tr th {\n",
       "        vertical-align: top;\n",
       "    }\n",
       "\n",
       "    .dataframe thead th {\n",
       "        text-align: right;\n",
       "    }\n",
       "</style>\n",
       "<table border=\"1\" class=\"dataframe\">\n",
       "  <thead>\n",
       "    <tr style=\"text-align: right;\">\n",
       "      <th></th>\n",
       "      <th>date_crawled</th>\n",
       "      <th>price</th>\n",
       "      <th>vehicle_type</th>\n",
       "      <th>registration_year</th>\n",
       "      <th>gearbox</th>\n",
       "      <th>power</th>\n",
       "      <th>model</th>\n",
       "      <th>kilometer</th>\n",
       "      <th>registration_month</th>\n",
       "      <th>fuel_type</th>\n",
       "      <th>brand</th>\n",
       "      <th>repaired_new</th>\n",
       "      <th>brand_model</th>\n",
       "    </tr>\n",
       "  </thead>\n",
       "  <tbody>\n",
       "    <tr>\n",
       "      <th>253276</th>\n",
       "      <td>2016-03-25 15:44:16</td>\n",
       "      <td>14</td>\n",
       "      <td>unknown</td>\n",
       "      <td>2000</td>\n",
       "      <td>auto</td>\n",
       "      <td>0</td>\n",
       "      <td>a6</td>\n",
       "      <td>150000</td>\n",
       "      <td>0</td>\n",
       "      <td>gasoline</td>\n",
       "      <td>audi</td>\n",
       "      <td>0</td>\n",
       "      <td>audi / a6</td>\n",
       "    </tr>\n",
       "    <tr>\n",
       "      <th>132279</th>\n",
       "      <td>2016-03-13 11:06:19</td>\n",
       "      <td>30</td>\n",
       "      <td>unknown</td>\n",
       "      <td>2005</td>\n",
       "      <td>auto</td>\n",
       "      <td>0</td>\n",
       "      <td>e_klasse</td>\n",
       "      <td>5000</td>\n",
       "      <td>0</td>\n",
       "      <td>gasoline</td>\n",
       "      <td>mercedes_benz</td>\n",
       "      <td>0</td>\n",
       "      <td>mercedes_benz / e_klasse</td>\n",
       "    </tr>\n",
       "    <tr>\n",
       "      <th>54718</th>\n",
       "      <td>2016-04-03 12:37:34</td>\n",
       "      <td>30</td>\n",
       "      <td>small</td>\n",
       "      <td>2000</td>\n",
       "      <td>manual</td>\n",
       "      <td>58</td>\n",
       "      <td>cuore</td>\n",
       "      <td>125000</td>\n",
       "      <td>4</td>\n",
       "      <td>petrol</td>\n",
       "      <td>daihatsu</td>\n",
       "      <td>0</td>\n",
       "      <td>daihatsu / cuore</td>\n",
       "    </tr>\n",
       "    <tr>\n",
       "      <th>143832</th>\n",
       "      <td>2016-03-06 19:41:58</td>\n",
       "      <td>40</td>\n",
       "      <td>unknown</td>\n",
       "      <td>1985</td>\n",
       "      <td>auto</td>\n",
       "      <td>0</td>\n",
       "      <td>e_klasse</td>\n",
       "      <td>150000</td>\n",
       "      <td>0</td>\n",
       "      <td>gasoline</td>\n",
       "      <td>mercedes_benz</td>\n",
       "      <td>0</td>\n",
       "      <td>mercedes_benz / e_klasse</td>\n",
       "    </tr>\n",
       "    <tr>\n",
       "      <th>237740</th>\n",
       "      <td>2016-03-05 20:37:25</td>\n",
       "      <td>20</td>\n",
       "      <td>unknown</td>\n",
       "      <td>2000</td>\n",
       "      <td>manual</td>\n",
       "      <td>0</td>\n",
       "      <td>v40</td>\n",
       "      <td>5000</td>\n",
       "      <td>0</td>\n",
       "      <td>petrol</td>\n",
       "      <td>volvo</td>\n",
       "      <td>0</td>\n",
       "      <td>volvo / v40</td>\n",
       "    </tr>\n",
       "    <tr>\n",
       "      <th>191299</th>\n",
       "      <td>2016-03-20 20:49:20</td>\n",
       "      <td>10</td>\n",
       "      <td>sedan</td>\n",
       "      <td>2003</td>\n",
       "      <td>manual</td>\n",
       "      <td>75</td>\n",
       "      <td>2_reihe</td>\n",
       "      <td>100000</td>\n",
       "      <td>6</td>\n",
       "      <td>petrol</td>\n",
       "      <td>peugeot</td>\n",
       "      <td>0</td>\n",
       "      <td>peugeot / 2_reihe</td>\n",
       "    </tr>\n",
       "    <tr>\n",
       "      <th>229809</th>\n",
       "      <td>2016-03-16 13:50:49</td>\n",
       "      <td>13</td>\n",
       "      <td>unknown</td>\n",
       "      <td>2012</td>\n",
       "      <td>manual</td>\n",
       "      <td>0</td>\n",
       "      <td>superb</td>\n",
       "      <td>5000</td>\n",
       "      <td>0</td>\n",
       "      <td>gasoline</td>\n",
       "      <td>skoda</td>\n",
       "      <td>0</td>\n",
       "      <td>skoda / superb</td>\n",
       "    </tr>\n",
       "    <tr>\n",
       "      <th>141679</th>\n",
       "      <td>2016-03-14 22:39:15</td>\n",
       "      <td>45</td>\n",
       "      <td>unknown</td>\n",
       "      <td>2014</td>\n",
       "      <td>manual</td>\n",
       "      <td>0</td>\n",
       "      <td>1er</td>\n",
       "      <td>5000</td>\n",
       "      <td>0</td>\n",
       "      <td>petrol</td>\n",
       "      <td>bmw</td>\n",
       "      <td>0</td>\n",
       "      <td>bmw / 1er</td>\n",
       "    </tr>\n",
       "    <tr>\n",
       "      <th>208192</th>\n",
       "      <td>2016-04-03 03:02:10</td>\n",
       "      <td>20</td>\n",
       "      <td>unknown</td>\n",
       "      <td>2017</td>\n",
       "      <td>manual</td>\n",
       "      <td>131</td>\n",
       "      <td>a4</td>\n",
       "      <td>5000</td>\n",
       "      <td>5</td>\n",
       "      <td>gasoline</td>\n",
       "      <td>audi</td>\n",
       "      <td>0</td>\n",
       "      <td>audi / a4</td>\n",
       "    </tr>\n",
       "    <tr>\n",
       "      <th>284756</th>\n",
       "      <td>2016-03-14 19:42:38</td>\n",
       "      <td>40</td>\n",
       "      <td>small</td>\n",
       "      <td>1997</td>\n",
       "      <td>manual</td>\n",
       "      <td>55</td>\n",
       "      <td>micra</td>\n",
       "      <td>150000</td>\n",
       "      <td>5</td>\n",
       "      <td>petrol</td>\n",
       "      <td>nissan</td>\n",
       "      <td>0</td>\n",
       "      <td>nissan / micra</td>\n",
       "    </tr>\n",
       "  </tbody>\n",
       "</table>\n",
       "</div>"
      ],
      "text/plain": [
       "               date_crawled  price vehicle_type  registration_year gearbox  \\\n",
       "253276  2016-03-25 15:44:16     14      unknown               2000    auto   \n",
       "132279  2016-03-13 11:06:19     30      unknown               2005    auto   \n",
       "54718   2016-04-03 12:37:34     30        small               2000  manual   \n",
       "143832  2016-03-06 19:41:58     40      unknown               1985    auto   \n",
       "237740  2016-03-05 20:37:25     20      unknown               2000  manual   \n",
       "191299  2016-03-20 20:49:20     10        sedan               2003  manual   \n",
       "229809  2016-03-16 13:50:49     13      unknown               2012  manual   \n",
       "141679  2016-03-14 22:39:15     45      unknown               2014  manual   \n",
       "208192  2016-04-03 03:02:10     20      unknown               2017  manual   \n",
       "284756  2016-03-14 19:42:38     40        small               1997  manual   \n",
       "\n",
       "        power     model  kilometer  registration_month fuel_type  \\\n",
       "253276      0        a6     150000                   0  gasoline   \n",
       "132279      0  e_klasse       5000                   0  gasoline   \n",
       "54718      58     cuore     125000                   4    petrol   \n",
       "143832      0  e_klasse     150000                   0  gasoline   \n",
       "237740      0       v40       5000                   0    petrol   \n",
       "191299     75   2_reihe     100000                   6    petrol   \n",
       "229809      0    superb       5000                   0  gasoline   \n",
       "141679      0       1er       5000                   0    petrol   \n",
       "208192    131        a4       5000                   5  gasoline   \n",
       "284756     55     micra     150000                   5    petrol   \n",
       "\n",
       "                brand  repaired_new               brand_model  \n",
       "253276           audi             0                 audi / a6  \n",
       "132279  mercedes_benz             0  mercedes_benz / e_klasse  \n",
       "54718        daihatsu             0          daihatsu / cuore  \n",
       "143832  mercedes_benz             0  mercedes_benz / e_klasse  \n",
       "237740          volvo             0               volvo / v40  \n",
       "191299        peugeot             0         peugeot / 2_reihe  \n",
       "229809          skoda             0            skoda / superb  \n",
       "141679            bmw             0                 bmw / 1er  \n",
       "208192           audi             0                 audi / a4  \n",
       "284756         nissan             0            nissan / micra  "
      ]
     },
     "execution_count": 43,
     "metadata": {},
     "output_type": "execute_result"
    }
   ],
   "source": [
    "autos[(autos['price'] < 50) & (autos['price'] > 3)].sample(10)"
   ]
  },
  {
   "cell_type": "markdown",
   "metadata": {},
   "source": [
    "Результаты кажутся маловероятными. Условный гольф 2016 года в пробегом 5000 за 29 евро кажется ошибкой в заполнении. \n",
    "Удалим машины стоимостью менее 50 евро."
   ]
  },
  {
   "cell_type": "code",
   "execution_count": 44,
   "metadata": {},
   "outputs": [
    {
     "data": {
      "text/plain": [
       "(324506, 13)"
      ]
     },
     "execution_count": 44,
     "metadata": {},
     "output_type": "execute_result"
    }
   ],
   "source": [
    "autos = autos[autos['price'] > 50]\n",
    "autos.shape"
   ]
  },
  {
   "cell_type": "code",
   "execution_count": 45,
   "metadata": {},
   "outputs": [
    {
     "data": {
      "text/plain": [
       "30633"
      ]
     },
     "execution_count": 45,
     "metadata": {},
     "output_type": "execute_result"
    }
   ],
   "source": [
    "#посмотрим, сколько машин с мощностью 0\n",
    "autos[autos['power'] == 0]['power'].count()"
   ]
  },
  {
   "cell_type": "markdown",
   "metadata": {},
   "source": [
    "Многовато. Заменим нулевые значения на моду по бренду+модели"
   ]
  },
  {
   "cell_type": "code",
   "execution_count": 46,
   "metadata": {},
   "outputs": [],
   "source": [
    "# заменяем 0 в мощности на моду по бренду/модели\n",
    "for t in autos['brand_model'].unique():\n",
    "    power_mode = autos.loc[(autos['brand_model'] == t)]['power'].mode().values[0]\n",
    "    autos.loc[(autos['brand_model'] == t) & (autos['power'] == 0), 'power'] = power_mode"
   ]
  },
  {
   "cell_type": "code",
   "execution_count": 47,
   "metadata": {},
   "outputs": [
    {
     "data": {
      "text/plain": [
       "2853"
      ]
     },
     "execution_count": 47,
     "metadata": {},
     "output_type": "execute_result"
    }
   ],
   "source": [
    "#посмотрим, сколько машин с мощностью 0 осталось\n",
    "autos[autos['power'] == 0]['power'].count()"
   ]
  },
  {
   "cell_type": "markdown",
   "metadata": {},
   "source": [
    "~~Кто ты, воин?~~\n",
    "\n",
    "Скорее всего, это уникальное сочетание бренда+модели с незаполненной мощностью.\n"
   ]
  },
  {
   "cell_type": "code",
   "execution_count": 48,
   "metadata": {
    "scrolled": true
   },
   "outputs": [
    {
     "data": {
      "text/html": [
       "<div>\n",
       "<style scoped>\n",
       "    .dataframe tbody tr th:only-of-type {\n",
       "        vertical-align: middle;\n",
       "    }\n",
       "\n",
       "    .dataframe tbody tr th {\n",
       "        vertical-align: top;\n",
       "    }\n",
       "\n",
       "    .dataframe thead th {\n",
       "        text-align: right;\n",
       "    }\n",
       "</style>\n",
       "<table border=\"1\" class=\"dataframe\">\n",
       "  <thead>\n",
       "    <tr style=\"text-align: right;\">\n",
       "      <th></th>\n",
       "      <th>date_crawled</th>\n",
       "      <th>price</th>\n",
       "      <th>vehicle_type</th>\n",
       "      <th>registration_year</th>\n",
       "      <th>gearbox</th>\n",
       "      <th>power</th>\n",
       "      <th>model</th>\n",
       "      <th>kilometer</th>\n",
       "      <th>registration_month</th>\n",
       "      <th>fuel_type</th>\n",
       "      <th>brand</th>\n",
       "      <th>repaired_new</th>\n",
       "      <th>brand_model</th>\n",
       "    </tr>\n",
       "  </thead>\n",
       "  <tbody>\n",
       "    <tr>\n",
       "      <th>177</th>\n",
       "      <td>2016-03-22 10:55:42</td>\n",
       "      <td>300</td>\n",
       "      <td>bus</td>\n",
       "      <td>1997</td>\n",
       "      <td>manual</td>\n",
       "      <td>0</td>\n",
       "      <td>other</td>\n",
       "      <td>150000</td>\n",
       "      <td>7</td>\n",
       "      <td>petrol</td>\n",
       "      <td>opel</td>\n",
       "      <td>0</td>\n",
       "      <td>opel / other</td>\n",
       "    </tr>\n",
       "    <tr>\n",
       "      <th>243</th>\n",
       "      <td>2016-03-06 18:49:03</td>\n",
       "      <td>10200</td>\n",
       "      <td>coupe</td>\n",
       "      <td>2008</td>\n",
       "      <td>manual</td>\n",
       "      <td>0</td>\n",
       "      <td>other</td>\n",
       "      <td>90000</td>\n",
       "      <td>6</td>\n",
       "      <td>petrol</td>\n",
       "      <td>nissan</td>\n",
       "      <td>0</td>\n",
       "      <td>nissan / other</td>\n",
       "    </tr>\n",
       "    <tr>\n",
       "      <th>339</th>\n",
       "      <td>2016-03-09 20:45:43</td>\n",
       "      <td>3550</td>\n",
       "      <td>sedan</td>\n",
       "      <td>1993</td>\n",
       "      <td>manual</td>\n",
       "      <td>0</td>\n",
       "      <td>other</td>\n",
       "      <td>125000</td>\n",
       "      <td>11</td>\n",
       "      <td>petrol</td>\n",
       "      <td>chevrolet</td>\n",
       "      <td>0</td>\n",
       "      <td>chevrolet / other</td>\n",
       "    </tr>\n",
       "    <tr>\n",
       "      <th>407</th>\n",
       "      <td>2016-03-22 12:55:10</td>\n",
       "      <td>2200</td>\n",
       "      <td>bus</td>\n",
       "      <td>2000</td>\n",
       "      <td>manual</td>\n",
       "      <td>0</td>\n",
       "      <td>other</td>\n",
       "      <td>150000</td>\n",
       "      <td>3</td>\n",
       "      <td>gasoline</td>\n",
       "      <td>peugeot</td>\n",
       "      <td>0</td>\n",
       "      <td>peugeot / other</td>\n",
       "    </tr>\n",
       "    <tr>\n",
       "      <th>633</th>\n",
       "      <td>2016-03-12 22:57:06</td>\n",
       "      <td>1850</td>\n",
       "      <td>small</td>\n",
       "      <td>2003</td>\n",
       "      <td>manual</td>\n",
       "      <td>0</td>\n",
       "      <td>other</td>\n",
       "      <td>100000</td>\n",
       "      <td>1</td>\n",
       "      <td>petrol</td>\n",
       "      <td>peugeot</td>\n",
       "      <td>0</td>\n",
       "      <td>peugeot / other</td>\n",
       "    </tr>\n",
       "    <tr>\n",
       "      <th>...</th>\n",
       "      <td>...</td>\n",
       "      <td>...</td>\n",
       "      <td>...</td>\n",
       "      <td>...</td>\n",
       "      <td>...</td>\n",
       "      <td>...</td>\n",
       "      <td>...</td>\n",
       "      <td>...</td>\n",
       "      <td>...</td>\n",
       "      <td>...</td>\n",
       "      <td>...</td>\n",
       "      <td>...</td>\n",
       "      <td>...</td>\n",
       "    </tr>\n",
       "    <tr>\n",
       "      <th>353912</th>\n",
       "      <td>2016-03-05 20:43:30</td>\n",
       "      <td>800</td>\n",
       "      <td>unknown</td>\n",
       "      <td>1970</td>\n",
       "      <td>manual</td>\n",
       "      <td>0</td>\n",
       "      <td>other</td>\n",
       "      <td>150000</td>\n",
       "      <td>0</td>\n",
       "      <td>petrol</td>\n",
       "      <td>trabant</td>\n",
       "      <td>0</td>\n",
       "      <td>trabant / other</td>\n",
       "    </tr>\n",
       "    <tr>\n",
       "      <th>353930</th>\n",
       "      <td>2016-03-27 15:54:00</td>\n",
       "      <td>750</td>\n",
       "      <td>small</td>\n",
       "      <td>2001</td>\n",
       "      <td>manual</td>\n",
       "      <td>0</td>\n",
       "      <td>other</td>\n",
       "      <td>150000</td>\n",
       "      <td>0</td>\n",
       "      <td>petrol</td>\n",
       "      <td>hyundai</td>\n",
       "      <td>0</td>\n",
       "      <td>hyundai / other</td>\n",
       "    </tr>\n",
       "    <tr>\n",
       "      <th>354132</th>\n",
       "      <td>2016-03-07 19:46:36</td>\n",
       "      <td>2300</td>\n",
       "      <td>bus</td>\n",
       "      <td>2000</td>\n",
       "      <td>manual</td>\n",
       "      <td>0</td>\n",
       "      <td>other</td>\n",
       "      <td>80000</td>\n",
       "      <td>0</td>\n",
       "      <td>gasoline</td>\n",
       "      <td>citroen</td>\n",
       "      <td>0</td>\n",
       "      <td>citroen / other</td>\n",
       "    </tr>\n",
       "    <tr>\n",
       "      <th>354216</th>\n",
       "      <td>2016-03-19 14:59:31</td>\n",
       "      <td>790</td>\n",
       "      <td>unknown</td>\n",
       "      <td>1990</td>\n",
       "      <td>manual</td>\n",
       "      <td>0</td>\n",
       "      <td>other</td>\n",
       "      <td>150000</td>\n",
       "      <td>1</td>\n",
       "      <td>petrol</td>\n",
       "      <td>renault</td>\n",
       "      <td>0</td>\n",
       "      <td>renault / other</td>\n",
       "    </tr>\n",
       "    <tr>\n",
       "      <th>354302</th>\n",
       "      <td>2016-03-12 08:37:15</td>\n",
       "      <td>5990</td>\n",
       "      <td>bus</td>\n",
       "      <td>1984</td>\n",
       "      <td>auto</td>\n",
       "      <td>0</td>\n",
       "      <td>other</td>\n",
       "      <td>70000</td>\n",
       "      <td>4</td>\n",
       "      <td>petrol</td>\n",
       "      <td>chevrolet</td>\n",
       "      <td>0</td>\n",
       "      <td>chevrolet / other</td>\n",
       "    </tr>\n",
       "  </tbody>\n",
       "</table>\n",
       "<p>2853 rows × 13 columns</p>\n",
       "</div>"
      ],
      "text/plain": [
       "               date_crawled  price vehicle_type  registration_year gearbox  \\\n",
       "177     2016-03-22 10:55:42    300          bus               1997  manual   \n",
       "243     2016-03-06 18:49:03  10200        coupe               2008  manual   \n",
       "339     2016-03-09 20:45:43   3550        sedan               1993  manual   \n",
       "407     2016-03-22 12:55:10   2200          bus               2000  manual   \n",
       "633     2016-03-12 22:57:06   1850        small               2003  manual   \n",
       "...                     ...    ...          ...                ...     ...   \n",
       "353912  2016-03-05 20:43:30    800      unknown               1970  manual   \n",
       "353930  2016-03-27 15:54:00    750        small               2001  manual   \n",
       "354132  2016-03-07 19:46:36   2300          bus               2000  manual   \n",
       "354216  2016-03-19 14:59:31    790      unknown               1990  manual   \n",
       "354302  2016-03-12 08:37:15   5990          bus               1984    auto   \n",
       "\n",
       "        power  model  kilometer  registration_month fuel_type      brand  \\\n",
       "177         0  other     150000                   7    petrol       opel   \n",
       "243         0  other      90000                   6    petrol     nissan   \n",
       "339         0  other     125000                  11    petrol  chevrolet   \n",
       "407         0  other     150000                   3  gasoline    peugeot   \n",
       "633         0  other     100000                   1    petrol    peugeot   \n",
       "...       ...    ...        ...                 ...       ...        ...   \n",
       "353912      0  other     150000                   0    petrol    trabant   \n",
       "353930      0  other     150000                   0    petrol    hyundai   \n",
       "354132      0  other      80000                   0  gasoline    citroen   \n",
       "354216      0  other     150000                   1    petrol    renault   \n",
       "354302      0  other      70000                   4    petrol  chevrolet   \n",
       "\n",
       "        repaired_new        brand_model  \n",
       "177                0       opel / other  \n",
       "243                0     nissan / other  \n",
       "339                0  chevrolet / other  \n",
       "407                0    peugeot / other  \n",
       "633                0    peugeot / other  \n",
       "...              ...                ...  \n",
       "353912             0    trabant / other  \n",
       "353930             0    hyundai / other  \n",
       "354132             0    citroen / other  \n",
       "354216             0    renault / other  \n",
       "354302             0  chevrolet / other  \n",
       "\n",
       "[2853 rows x 13 columns]"
      ]
     },
     "execution_count": 48,
     "metadata": {},
     "output_type": "execute_result"
    }
   ],
   "source": [
    "autos[autos['power'] == 0]"
   ]
  },
  {
   "cell_type": "code",
   "execution_count": 49,
   "metadata": {},
   "outputs": [
    {
     "data": {
      "text/html": [
       "<div>\n",
       "<style scoped>\n",
       "    .dataframe tbody tr th:only-of-type {\n",
       "        vertical-align: middle;\n",
       "    }\n",
       "\n",
       "    .dataframe tbody tr th {\n",
       "        vertical-align: top;\n",
       "    }\n",
       "\n",
       "    .dataframe thead th {\n",
       "        text-align: right;\n",
       "    }\n",
       "</style>\n",
       "<table border=\"1\" class=\"dataframe\">\n",
       "  <thead>\n",
       "    <tr style=\"text-align: right;\">\n",
       "      <th></th>\n",
       "      <th>date_crawled</th>\n",
       "      <th>price</th>\n",
       "      <th>vehicle_type</th>\n",
       "      <th>registration_year</th>\n",
       "      <th>gearbox</th>\n",
       "      <th>power</th>\n",
       "      <th>model</th>\n",
       "      <th>kilometer</th>\n",
       "      <th>registration_month</th>\n",
       "      <th>fuel_type</th>\n",
       "      <th>brand</th>\n",
       "      <th>repaired_new</th>\n",
       "      <th>brand_model</th>\n",
       "    </tr>\n",
       "  </thead>\n",
       "  <tbody>\n",
       "    <tr>\n",
       "      <th>234296</th>\n",
       "      <td>2016-03-30 11:39:08</td>\n",
       "      <td>3800</td>\n",
       "      <td>wagon</td>\n",
       "      <td>1978</td>\n",
       "      <td>manual</td>\n",
       "      <td>0</td>\n",
       "      <td>serie_1</td>\n",
       "      <td>30000</td>\n",
       "      <td>0</td>\n",
       "      <td>gasoline</td>\n",
       "      <td>land_rover</td>\n",
       "      <td>0</td>\n",
       "      <td>land_rover / serie_1</td>\n",
       "    </tr>\n",
       "  </tbody>\n",
       "</table>\n",
       "</div>"
      ],
      "text/plain": [
       "               date_crawled  price vehicle_type  registration_year gearbox  \\\n",
       "234296  2016-03-30 11:39:08   3800        wagon               1978  manual   \n",
       "\n",
       "        power    model  kilometer  registration_month fuel_type       brand  \\\n",
       "234296      0  serie_1      30000                   0  gasoline  land_rover   \n",
       "\n",
       "        repaired_new           brand_model  \n",
       "234296             0  land_rover / serie_1  "
      ]
     },
     "execution_count": 49,
     "metadata": {},
     "output_type": "execute_result"
    }
   ],
   "source": [
    "autos[autos['brand_model'] == 'land_rover / serie_1'] "
   ]
  },
  {
   "cell_type": "markdown",
   "metadata": {},
   "source": [
    "Так и есть. гугл подсказывает, что у этой модели обычно 52 лс. Пусть так  и будет"
   ]
  },
  {
   "cell_type": "code",
   "execution_count": 50,
   "metadata": {},
   "outputs": [
    {
     "data": {
      "text/html": [
       "<div>\n",
       "<style scoped>\n",
       "    .dataframe tbody tr th:only-of-type {\n",
       "        vertical-align: middle;\n",
       "    }\n",
       "\n",
       "    .dataframe tbody tr th {\n",
       "        vertical-align: top;\n",
       "    }\n",
       "\n",
       "    .dataframe thead th {\n",
       "        text-align: right;\n",
       "    }\n",
       "</style>\n",
       "<table border=\"1\" class=\"dataframe\">\n",
       "  <thead>\n",
       "    <tr style=\"text-align: right;\">\n",
       "      <th></th>\n",
       "      <th>date_crawled</th>\n",
       "      <th>price</th>\n",
       "      <th>vehicle_type</th>\n",
       "      <th>registration_year</th>\n",
       "      <th>gearbox</th>\n",
       "      <th>power</th>\n",
       "      <th>model</th>\n",
       "      <th>kilometer</th>\n",
       "      <th>registration_month</th>\n",
       "      <th>fuel_type</th>\n",
       "      <th>brand</th>\n",
       "      <th>repaired_new</th>\n",
       "      <th>brand_model</th>\n",
       "    </tr>\n",
       "  </thead>\n",
       "  <tbody>\n",
       "    <tr>\n",
       "      <th>234296</th>\n",
       "      <td>2016-03-30 11:39:08</td>\n",
       "      <td>3800</td>\n",
       "      <td>wagon</td>\n",
       "      <td>1978</td>\n",
       "      <td>manual</td>\n",
       "      <td>52</td>\n",
       "      <td>serie_1</td>\n",
       "      <td>30000</td>\n",
       "      <td>52</td>\n",
       "      <td>gasoline</td>\n",
       "      <td>land_rover</td>\n",
       "      <td>52</td>\n",
       "      <td>land_rover / serie_1</td>\n",
       "    </tr>\n",
       "  </tbody>\n",
       "</table>\n",
       "</div>"
      ],
      "text/plain": [
       "               date_crawled  price vehicle_type  registration_year gearbox  \\\n",
       "234296  2016-03-30 11:39:08   3800        wagon               1978  manual   \n",
       "\n",
       "        power    model  kilometer  registration_month fuel_type       brand  \\\n",
       "234296     52  serie_1      30000                  52  gasoline  land_rover   \n",
       "\n",
       "        repaired_new           brand_model  \n",
       "234296            52  land_rover / serie_1  "
      ]
     },
     "execution_count": 50,
     "metadata": {},
     "output_type": "execute_result"
    }
   ],
   "source": [
    "autos[autos['brand_model'] == 'land_rover / serie_1'].replace(0, 52)"
   ]
  },
  {
   "cell_type": "markdown",
   "metadata": {},
   "source": [
    "Посмотрим на значения мощности менее 10 л.с."
   ]
  },
  {
   "cell_type": "code",
   "execution_count": 51,
   "metadata": {},
   "outputs": [
    {
     "data": {
      "text/plain": [
       "2908"
      ]
     },
     "execution_count": 51,
     "metadata": {},
     "output_type": "execute_result"
    }
   ],
   "source": [
    "#посмотрим, сколько машин с мощностью 0 осталось\n",
    "autos[autos['power'] < 10]['power'].count()"
   ]
  },
  {
   "cell_type": "code",
   "execution_count": 52,
   "metadata": {},
   "outputs": [
    {
     "data": {
      "text/html": [
       "<div>\n",
       "<style scoped>\n",
       "    .dataframe tbody tr th:only-of-type {\n",
       "        vertical-align: middle;\n",
       "    }\n",
       "\n",
       "    .dataframe tbody tr th {\n",
       "        vertical-align: top;\n",
       "    }\n",
       "\n",
       "    .dataframe thead th {\n",
       "        text-align: right;\n",
       "    }\n",
       "</style>\n",
       "<table border=\"1\" class=\"dataframe\">\n",
       "  <thead>\n",
       "    <tr style=\"text-align: right;\">\n",
       "      <th></th>\n",
       "      <th>date_crawled</th>\n",
       "      <th>price</th>\n",
       "      <th>vehicle_type</th>\n",
       "      <th>registration_year</th>\n",
       "      <th>gearbox</th>\n",
       "      <th>power</th>\n",
       "      <th>model</th>\n",
       "      <th>kilometer</th>\n",
       "      <th>registration_month</th>\n",
       "      <th>fuel_type</th>\n",
       "      <th>brand</th>\n",
       "      <th>repaired_new</th>\n",
       "      <th>brand_model</th>\n",
       "    </tr>\n",
       "  </thead>\n",
       "  <tbody>\n",
       "    <tr>\n",
       "      <th>177</th>\n",
       "      <td>2016-03-22 10:55:42</td>\n",
       "      <td>300</td>\n",
       "      <td>bus</td>\n",
       "      <td>1997</td>\n",
       "      <td>manual</td>\n",
       "      <td>0</td>\n",
       "      <td>other</td>\n",
       "      <td>150000</td>\n",
       "      <td>7</td>\n",
       "      <td>petrol</td>\n",
       "      <td>opel</td>\n",
       "      <td>0</td>\n",
       "      <td>opel / other</td>\n",
       "    </tr>\n",
       "    <tr>\n",
       "      <th>243</th>\n",
       "      <td>2016-03-06 18:49:03</td>\n",
       "      <td>10200</td>\n",
       "      <td>coupe</td>\n",
       "      <td>2008</td>\n",
       "      <td>manual</td>\n",
       "      <td>0</td>\n",
       "      <td>other</td>\n",
       "      <td>90000</td>\n",
       "      <td>6</td>\n",
       "      <td>petrol</td>\n",
       "      <td>nissan</td>\n",
       "      <td>0</td>\n",
       "      <td>nissan / other</td>\n",
       "    </tr>\n",
       "    <tr>\n",
       "      <th>339</th>\n",
       "      <td>2016-03-09 20:45:43</td>\n",
       "      <td>3550</td>\n",
       "      <td>sedan</td>\n",
       "      <td>1993</td>\n",
       "      <td>manual</td>\n",
       "      <td>0</td>\n",
       "      <td>other</td>\n",
       "      <td>125000</td>\n",
       "      <td>11</td>\n",
       "      <td>petrol</td>\n",
       "      <td>chevrolet</td>\n",
       "      <td>0</td>\n",
       "      <td>chevrolet / other</td>\n",
       "    </tr>\n",
       "    <tr>\n",
       "      <th>407</th>\n",
       "      <td>2016-03-22 12:55:10</td>\n",
       "      <td>2200</td>\n",
       "      <td>bus</td>\n",
       "      <td>2000</td>\n",
       "      <td>manual</td>\n",
       "      <td>0</td>\n",
       "      <td>other</td>\n",
       "      <td>150000</td>\n",
       "      <td>3</td>\n",
       "      <td>gasoline</td>\n",
       "      <td>peugeot</td>\n",
       "      <td>0</td>\n",
       "      <td>peugeot / other</td>\n",
       "    </tr>\n",
       "    <tr>\n",
       "      <th>633</th>\n",
       "      <td>2016-03-12 22:57:06</td>\n",
       "      <td>1850</td>\n",
       "      <td>small</td>\n",
       "      <td>2003</td>\n",
       "      <td>manual</td>\n",
       "      <td>0</td>\n",
       "      <td>other</td>\n",
       "      <td>100000</td>\n",
       "      <td>1</td>\n",
       "      <td>petrol</td>\n",
       "      <td>peugeot</td>\n",
       "      <td>0</td>\n",
       "      <td>peugeot / other</td>\n",
       "    </tr>\n",
       "  </tbody>\n",
       "</table>\n",
       "</div>"
      ],
      "text/plain": [
       "            date_crawled  price vehicle_type  registration_year gearbox  \\\n",
       "177  2016-03-22 10:55:42    300          bus               1997  manual   \n",
       "243  2016-03-06 18:49:03  10200        coupe               2008  manual   \n",
       "339  2016-03-09 20:45:43   3550        sedan               1993  manual   \n",
       "407  2016-03-22 12:55:10   2200          bus               2000  manual   \n",
       "633  2016-03-12 22:57:06   1850        small               2003  manual   \n",
       "\n",
       "     power  model  kilometer  registration_month fuel_type      brand  \\\n",
       "177      0  other     150000                   7    petrol       opel   \n",
       "243      0  other      90000                   6    petrol     nissan   \n",
       "339      0  other     125000                  11    petrol  chevrolet   \n",
       "407      0  other     150000                   3  gasoline    peugeot   \n",
       "633      0  other     100000                   1    petrol    peugeot   \n",
       "\n",
       "     repaired_new        brand_model  \n",
       "177             0       opel / other  \n",
       "243             0     nissan / other  \n",
       "339             0  chevrolet / other  \n",
       "407             0    peugeot / other  \n",
       "633             0    peugeot / other  "
      ]
     },
     "execution_count": 52,
     "metadata": {},
     "output_type": "execute_result"
    }
   ],
   "source": [
    "autos[autos['power'] < 10].head(5)"
   ]
  },
  {
   "cell_type": "markdown",
   "metadata": {},
   "source": [
    "Мерседес вряд ли знает о том, что выпустил машину с 1 л.с. Удалим эти данные, они явно заполнены некорректно\n"
   ]
  },
  {
   "cell_type": "code",
   "execution_count": 53,
   "metadata": {},
   "outputs": [
    {
     "data": {
      "text/plain": [
       "(321591, 13)"
      ]
     },
     "execution_count": 53,
     "metadata": {},
     "output_type": "execute_result"
    }
   ],
   "source": [
    "autos = autos[autos['power'] > 10]\n",
    "autos.shape"
   ]
  },
  {
   "cell_type": "markdown",
   "metadata": {},
   "source": [
    "Осталось разобраться с большим значением power, странным нулевым месяцем и максимальным годом регистрации. "
   ]
  },
  {
   "cell_type": "code",
   "execution_count": 54,
   "metadata": {},
   "outputs": [
    {
     "data": {
      "text/html": [
       "<div>\n",
       "<style scoped>\n",
       "    .dataframe tbody tr th:only-of-type {\n",
       "        vertical-align: middle;\n",
       "    }\n",
       "\n",
       "    .dataframe tbody tr th {\n",
       "        vertical-align: top;\n",
       "    }\n",
       "\n",
       "    .dataframe thead th {\n",
       "        text-align: right;\n",
       "    }\n",
       "</style>\n",
       "<table border=\"1\" class=\"dataframe\">\n",
       "  <thead>\n",
       "    <tr style=\"text-align: right;\">\n",
       "      <th></th>\n",
       "      <th>date_crawled</th>\n",
       "      <th>price</th>\n",
       "      <th>vehicle_type</th>\n",
       "      <th>registration_year</th>\n",
       "      <th>gearbox</th>\n",
       "      <th>power</th>\n",
       "      <th>model</th>\n",
       "      <th>kilometer</th>\n",
       "      <th>registration_month</th>\n",
       "      <th>fuel_type</th>\n",
       "      <th>brand</th>\n",
       "      <th>repaired_new</th>\n",
       "      <th>brand_model</th>\n",
       "    </tr>\n",
       "  </thead>\n",
       "  <tbody>\n",
       "    <tr>\n",
       "      <th>87830</th>\n",
       "      <td>2016-03-15 21:55:11</td>\n",
       "      <td>2550</td>\n",
       "      <td>small</td>\n",
       "      <td>2004</td>\n",
       "      <td>auto</td>\n",
       "      <td>6226</td>\n",
       "      <td>fortwo</td>\n",
       "      <td>125000</td>\n",
       "      <td>5</td>\n",
       "      <td>petrol</td>\n",
       "      <td>smart</td>\n",
       "      <td>0</td>\n",
       "      <td>smart / fortwo</td>\n",
       "    </tr>\n",
       "    <tr>\n",
       "      <th>209786</th>\n",
       "      <td>2016-04-04 19:49:19</td>\n",
       "      <td>1200</td>\n",
       "      <td>sedan</td>\n",
       "      <td>2001</td>\n",
       "      <td>manual</td>\n",
       "      <td>6512</td>\n",
       "      <td>corsa</td>\n",
       "      <td>150000</td>\n",
       "      <td>12</td>\n",
       "      <td>petrol</td>\n",
       "      <td>opel</td>\n",
       "      <td>0</td>\n",
       "      <td>opel / corsa</td>\n",
       "    </tr>\n",
       "    <tr>\n",
       "      <th>62975</th>\n",
       "      <td>2016-03-27 18:47:59</td>\n",
       "      <td>2200</td>\n",
       "      <td>small</td>\n",
       "      <td>1999</td>\n",
       "      <td>manual</td>\n",
       "      <td>12012</td>\n",
       "      <td>polo</td>\n",
       "      <td>150000</td>\n",
       "      <td>3</td>\n",
       "      <td>petrol</td>\n",
       "      <td>volkswagen</td>\n",
       "      <td>0</td>\n",
       "      <td>volkswagen / polo</td>\n",
       "    </tr>\n",
       "    <tr>\n",
       "      <th>171089</th>\n",
       "      <td>2016-03-17 10:37:53</td>\n",
       "      <td>1750</td>\n",
       "      <td>sedan</td>\n",
       "      <td>2006</td>\n",
       "      <td>manual</td>\n",
       "      <td>6010</td>\n",
       "      <td>agila</td>\n",
       "      <td>90000</td>\n",
       "      <td>8</td>\n",
       "      <td>petrol</td>\n",
       "      <td>opel</td>\n",
       "      <td>0</td>\n",
       "      <td>opel / agila</td>\n",
       "    </tr>\n",
       "    <tr>\n",
       "      <th>159612</th>\n",
       "      <td>2016-03-24 02:58:01</td>\n",
       "      <td>1150</td>\n",
       "      <td>unknown</td>\n",
       "      <td>2016</td>\n",
       "      <td>manual</td>\n",
       "      <td>6011</td>\n",
       "      <td>polo</td>\n",
       "      <td>150000</td>\n",
       "      <td>5</td>\n",
       "      <td>petrol</td>\n",
       "      <td>volkswagen</td>\n",
       "      <td>0</td>\n",
       "      <td>volkswagen / polo</td>\n",
       "    </tr>\n",
       "    <tr>\n",
       "      <th>292167</th>\n",
       "      <td>2016-03-21 12:49:22</td>\n",
       "      <td>2000</td>\n",
       "      <td>bus</td>\n",
       "      <td>2003</td>\n",
       "      <td>manual</td>\n",
       "      <td>12512</td>\n",
       "      <td>zafira</td>\n",
       "      <td>150000</td>\n",
       "      <td>12</td>\n",
       "      <td>petrol</td>\n",
       "      <td>opel</td>\n",
       "      <td>0</td>\n",
       "      <td>opel / zafira</td>\n",
       "    </tr>\n",
       "    <tr>\n",
       "      <th>182911</th>\n",
       "      <td>2016-04-02 10:49:27</td>\n",
       "      <td>9000</td>\n",
       "      <td>unknown</td>\n",
       "      <td>2017</td>\n",
       "      <td>auto</td>\n",
       "      <td>9000</td>\n",
       "      <td>clk</td>\n",
       "      <td>150000</td>\n",
       "      <td>0</td>\n",
       "      <td>petrol</td>\n",
       "      <td>mercedes_benz</td>\n",
       "      <td>0</td>\n",
       "      <td>mercedes_benz / clk</td>\n",
       "    </tr>\n",
       "    <tr>\n",
       "      <th>277113</th>\n",
       "      <td>2016-03-19 16:49:47</td>\n",
       "      <td>2890</td>\n",
       "      <td>bus</td>\n",
       "      <td>2005</td>\n",
       "      <td>manual</td>\n",
       "      <td>9007</td>\n",
       "      <td>c_max</td>\n",
       "      <td>150000</td>\n",
       "      <td>2</td>\n",
       "      <td>petrol</td>\n",
       "      <td>ford</td>\n",
       "      <td>0</td>\n",
       "      <td>ford / c_max</td>\n",
       "    </tr>\n",
       "    <tr>\n",
       "      <th>205727</th>\n",
       "      <td>2016-03-12 11:43:29</td>\n",
       "      <td>4700</td>\n",
       "      <td>bus</td>\n",
       "      <td>1997</td>\n",
       "      <td>manual</td>\n",
       "      <td>10522</td>\n",
       "      <td>transporter</td>\n",
       "      <td>150000</td>\n",
       "      <td>0</td>\n",
       "      <td>gasoline</td>\n",
       "      <td>volkswagen</td>\n",
       "      <td>0</td>\n",
       "      <td>volkswagen / transporter</td>\n",
       "    </tr>\n",
       "    <tr>\n",
       "      <th>150676</th>\n",
       "      <td>2016-03-09 18:57:50</td>\n",
       "      <td>1700</td>\n",
       "      <td>wagon</td>\n",
       "      <td>1995</td>\n",
       "      <td>manual</td>\n",
       "      <td>17410</td>\n",
       "      <td>80</td>\n",
       "      <td>5000</td>\n",
       "      <td>0</td>\n",
       "      <td>petrol</td>\n",
       "      <td>audi</td>\n",
       "      <td>1</td>\n",
       "      <td>audi / 80</td>\n",
       "    </tr>\n",
       "  </tbody>\n",
       "</table>\n",
       "</div>"
      ],
      "text/plain": [
       "               date_crawled  price vehicle_type  registration_year gearbox  \\\n",
       "87830   2016-03-15 21:55:11   2550        small               2004    auto   \n",
       "209786  2016-04-04 19:49:19   1200        sedan               2001  manual   \n",
       "62975   2016-03-27 18:47:59   2200        small               1999  manual   \n",
       "171089  2016-03-17 10:37:53   1750        sedan               2006  manual   \n",
       "159612  2016-03-24 02:58:01   1150      unknown               2016  manual   \n",
       "292167  2016-03-21 12:49:22   2000          bus               2003  manual   \n",
       "182911  2016-04-02 10:49:27   9000      unknown               2017    auto   \n",
       "277113  2016-03-19 16:49:47   2890          bus               2005  manual   \n",
       "205727  2016-03-12 11:43:29   4700          bus               1997  manual   \n",
       "150676  2016-03-09 18:57:50   1700        wagon               1995  manual   \n",
       "\n",
       "        power        model  kilometer  registration_month fuel_type  \\\n",
       "87830    6226       fortwo     125000                   5    petrol   \n",
       "209786   6512        corsa     150000                  12    petrol   \n",
       "62975   12012         polo     150000                   3    petrol   \n",
       "171089   6010        agila      90000                   8    petrol   \n",
       "159612   6011         polo     150000                   5    petrol   \n",
       "292167  12512       zafira     150000                  12    petrol   \n",
       "182911   9000          clk     150000                   0    petrol   \n",
       "277113   9007        c_max     150000                   2    petrol   \n",
       "205727  10522  transporter     150000                   0  gasoline   \n",
       "150676  17410           80       5000                   0    petrol   \n",
       "\n",
       "                brand  repaired_new               brand_model  \n",
       "87830           smart             0            smart / fortwo  \n",
       "209786           opel             0              opel / corsa  \n",
       "62975      volkswagen             0         volkswagen / polo  \n",
       "171089           opel             0              opel / agila  \n",
       "159612     volkswagen             0         volkswagen / polo  \n",
       "292167           opel             0             opel / zafira  \n",
       "182911  mercedes_benz             0       mercedes_benz / clk  \n",
       "277113           ford             0              ford / c_max  \n",
       "205727     volkswagen             0  volkswagen / transporter  \n",
       "150676           audi             1                 audi / 80  "
      ]
     },
     "execution_count": 54,
     "metadata": {},
     "output_type": "execute_result"
    }
   ],
   "source": [
    "autos[autos['power'] > 5000].sample(10)"
   ]
  },
  {
   "cell_type": "markdown",
   "metadata": {},
   "source": [
    "Ну вот и гольф с 9000 л.с. Взлетаем?\n",
    "\n",
    "Нет, пожалуй, удалим данные ввиду их неправдоподобности "
   ]
  },
  {
   "cell_type": "code",
   "execution_count": 55,
   "metadata": {},
   "outputs": [
    {
     "data": {
      "text/plain": [
       "(321521, 13)"
      ]
     },
     "execution_count": 55,
     "metadata": {},
     "output_type": "execute_result"
    }
   ],
   "source": [
    "autos = autos[autos['power'] < 5000]\n",
    "autos.shape"
   ]
  },
  {
   "cell_type": "code",
   "execution_count": 56,
   "metadata": {},
   "outputs": [
    {
     "data": {
      "text/plain": [
       "3240"
      ]
     },
     "execution_count": 56,
     "metadata": {},
     "output_type": "execute_result"
    }
   ],
   "source": [
    "# что насчет машин из будущего? \n",
    "autos[autos['registration_year'] > 2017].shape[0]\n"
   ]
  },
  {
   "cell_type": "code",
   "execution_count": 57,
   "metadata": {},
   "outputs": [
    {
     "data": {
      "text/plain": [
       "(318281, 13)"
      ]
     },
     "execution_count": 57,
     "metadata": {},
     "output_type": "execute_result"
    }
   ],
   "source": [
    "# удаляем\n",
    "autos = autos[autos['registration_year'] <= 2017]\n",
    "autos.shape"
   ]
  },
  {
   "cell_type": "code",
   "execution_count": 58,
   "metadata": {},
   "outputs": [
    {
     "data": {
      "text/plain": [
       "dtype('O')"
      ]
     },
     "execution_count": 58,
     "metadata": {},
     "output_type": "execute_result"
    }
   ],
   "source": [
    "autos['date_crawled'].dtypes"
   ]
  },
  {
   "cell_type": "code",
   "execution_count": 59,
   "metadata": {
    "scrolled": true
   },
   "outputs": [
    {
     "data": {
      "text/plain": [
       "2016"
      ]
     },
     "execution_count": 59,
     "metadata": {},
     "output_type": "execute_result"
    }
   ],
   "source": [
    "pd.to_datetime(autos['date_crawled']).dt.year.max()"
   ]
  },
  {
   "cell_type": "code",
   "execution_count": 60,
   "metadata": {},
   "outputs": [],
   "source": [
    "autos = autos.drop(['date_crawled'], axis=1)"
   ]
  },
  {
   "cell_type": "code",
   "execution_count": 61,
   "metadata": {},
   "outputs": [
    {
     "data": {
      "text/plain": [
       "25285"
      ]
     },
     "execution_count": 61,
     "metadata": {},
     "output_type": "execute_result"
    }
   ],
   "source": [
    "# сколкьо машин с некорректно заполненным месяцем?\n",
    "autos[autos['registration_month'] == 0].shape[0]"
   ]
  },
  {
   "cell_type": "markdown",
   "metadata": {},
   "source": [
    "Многовато, но здесь уже медиана не справится. Посмотрим в дальнейшем, как повлияет на модель. Возможно, признак приется исключить"
   ]
  },
  {
   "cell_type": "markdown",
   "metadata": {},
   "source": [
    "Посмотрим теперь на describe"
   ]
  },
  {
   "cell_type": "code",
   "execution_count": 62,
   "metadata": {
    "scrolled": true
   },
   "outputs": [
    {
     "data": {
      "text/html": [
       "<div>\n",
       "<style scoped>\n",
       "    .dataframe tbody tr th:only-of-type {\n",
       "        vertical-align: middle;\n",
       "    }\n",
       "\n",
       "    .dataframe tbody tr th {\n",
       "        vertical-align: top;\n",
       "    }\n",
       "\n",
       "    .dataframe thead th {\n",
       "        text-align: right;\n",
       "    }\n",
       "</style>\n",
       "<table border=\"1\" class=\"dataframe\">\n",
       "  <thead>\n",
       "    <tr style=\"text-align: right;\">\n",
       "      <th></th>\n",
       "      <th>price</th>\n",
       "      <th>registration_year</th>\n",
       "      <th>power</th>\n",
       "      <th>kilometer</th>\n",
       "      <th>registration_month</th>\n",
       "      <th>repaired_new</th>\n",
       "    </tr>\n",
       "  </thead>\n",
       "  <tbody>\n",
       "    <tr>\n",
       "      <th>count</th>\n",
       "      <td>318281.00</td>\n",
       "      <td>318281.00</td>\n",
       "      <td>318281.00</td>\n",
       "      <td>318281.00</td>\n",
       "      <td>318281.00</td>\n",
       "      <td>318281.00</td>\n",
       "    </tr>\n",
       "    <tr>\n",
       "      <th>mean</th>\n",
       "      <td>4669.77</td>\n",
       "      <td>2003.14</td>\n",
       "      <td>119.77</td>\n",
       "      <td>128715.02</td>\n",
       "      <td>5.89</td>\n",
       "      <td>0.10</td>\n",
       "    </tr>\n",
       "    <tr>\n",
       "      <th>std</th>\n",
       "      <td>4541.05</td>\n",
       "      <td>9.34</td>\n",
       "      <td>66.89</td>\n",
       "      <td>36722.11</td>\n",
       "      <td>3.65</td>\n",
       "      <td>0.30</td>\n",
       "    </tr>\n",
       "    <tr>\n",
       "      <th>min</th>\n",
       "      <td>55.00</td>\n",
       "      <td>1000.00</td>\n",
       "      <td>11.00</td>\n",
       "      <td>5000.00</td>\n",
       "      <td>0.00</td>\n",
       "      <td>0.00</td>\n",
       "    </tr>\n",
       "    <tr>\n",
       "      <th>25%</th>\n",
       "      <td>1250.00</td>\n",
       "      <td>1999.00</td>\n",
       "      <td>75.00</td>\n",
       "      <td>125000.00</td>\n",
       "      <td>3.00</td>\n",
       "      <td>0.00</td>\n",
       "    </tr>\n",
       "    <tr>\n",
       "      <th>50%</th>\n",
       "      <td>2990.00</td>\n",
       "      <td>2003.00</td>\n",
       "      <td>110.00</td>\n",
       "      <td>150000.00</td>\n",
       "      <td>6.00</td>\n",
       "      <td>0.00</td>\n",
       "    </tr>\n",
       "    <tr>\n",
       "      <th>75%</th>\n",
       "      <td>6750.00</td>\n",
       "      <td>2007.00</td>\n",
       "      <td>147.00</td>\n",
       "      <td>150000.00</td>\n",
       "      <td>9.00</td>\n",
       "      <td>0.00</td>\n",
       "    </tr>\n",
       "    <tr>\n",
       "      <th>max</th>\n",
       "      <td>20000.00</td>\n",
       "      <td>2017.00</td>\n",
       "      <td>4700.00</td>\n",
       "      <td>150000.00</td>\n",
       "      <td>12.00</td>\n",
       "      <td>1.00</td>\n",
       "    </tr>\n",
       "  </tbody>\n",
       "</table>\n",
       "</div>"
      ],
      "text/plain": [
       "          price  registration_year     power  kilometer  registration_month  \\\n",
       "count 318281.00          318281.00 318281.00  318281.00           318281.00   \n",
       "mean    4669.77            2003.14    119.77  128715.02                5.89   \n",
       "std     4541.05               9.34     66.89   36722.11                3.65   \n",
       "min       55.00            1000.00     11.00    5000.00                0.00   \n",
       "25%     1250.00            1999.00     75.00  125000.00                3.00   \n",
       "50%     2990.00            2003.00    110.00  150000.00                6.00   \n",
       "75%     6750.00            2007.00    147.00  150000.00                9.00   \n",
       "max    20000.00            2017.00   4700.00  150000.00               12.00   \n",
       "\n",
       "       repaired_new  \n",
       "count     318281.00  \n",
       "mean           0.10  \n",
       "std            0.30  \n",
       "min            0.00  \n",
       "25%            0.00  \n",
       "50%            0.00  \n",
       "75%            0.00  \n",
       "max            1.00  "
      ]
     },
     "execution_count": 62,
     "metadata": {},
     "output_type": "execute_result"
    }
   ],
   "source": [
    "autos.describe()"
   ]
  },
  {
   "cell_type": "code",
   "execution_count": 63,
   "metadata": {},
   "outputs": [
    {
     "data": {
      "text/plain": [
       "30893"
      ]
     },
     "execution_count": 63,
     "metadata": {},
     "output_type": "execute_result"
    }
   ],
   "source": [
    "autos.duplicated().sum()"
   ]
  },
  {
   "cell_type": "code",
   "execution_count": 64,
   "metadata": {},
   "outputs": [
    {
     "data": {
      "text/plain": [
       "(318281, 12)"
      ]
     },
     "execution_count": 64,
     "metadata": {},
     "output_type": "execute_result"
    }
   ],
   "source": [
    "autos.shape"
   ]
  },
  {
   "cell_type": "code",
   "execution_count": 65,
   "metadata": {},
   "outputs": [
    {
     "data": {
      "text/plain": [
       "(287388, 12)"
      ]
     },
     "execution_count": 65,
     "metadata": {},
     "output_type": "execute_result"
    }
   ],
   "source": [
    "autos = autos.drop_duplicates()\n",
    "autos.shape"
   ]
  },
  {
   "cell_type": "markdown",
   "metadata": {},
   "source": [
    "Уже лучше. \n",
    "\n",
    "\n",
    "Итак, в этом шаге мы:\n",
    "1. Удалили машины стоимостью менее 50 евро как недостоверные;\n",
    "2. Заменили нулевые значения мощности на моду по бренду+модели;\n",
    "3. Удалили машины мощностью менее 10 л.с.;\n",
    "4. Удалили машины с мощностью более 5000 л.с.;\n",
    "5. Удалили машины с некорректно заполненным годом выпуска - старше 2024. "
   ]
  },
  {
   "cell_type": "markdown",
   "metadata": {},
   "source": [
    "### Корреляционный анализ"
   ]
  },
  {
   "cell_type": "code",
   "execution_count": 66,
   "metadata": {},
   "outputs": [
    {
     "data": {
      "text/plain": [
       "price                  int64\n",
       "vehicle_type          object\n",
       "registration_year      int64\n",
       "gearbox               object\n",
       "power                  int64\n",
       "model                 object\n",
       "kilometer              int64\n",
       "registration_month     int64\n",
       "fuel_type             object\n",
       "brand                 object\n",
       "repaired_new           int64\n",
       "brand_model           object\n",
       "dtype: object"
      ]
     },
     "execution_count": 66,
     "metadata": {},
     "output_type": "execute_result"
    }
   ],
   "source": [
    "autos.dtypes"
   ]
  },
  {
   "cell_type": "code",
   "execution_count": 67,
   "metadata": {},
   "outputs": [
    {
     "name": "stdout",
     "output_type": "stream",
     "text": [
      "interval columns not set, guessing: ['price', 'registration_year', 'power', 'kilometer', 'registration_month', 'repaired_new']\n"
     ]
    },
    {
     "data": {
      "image/png": "[encoded data removed]",
      "text/plain": [
       "<Figure size 720x576 with 2 Axes>"
      ]
     },
     "metadata": {
      "needs_background": "light"
     },
     "output_type": "display_data"
    }
   ],
   "source": [
    "#посмотрим на коэффициенты корреляции между признаками\n",
    "plt.figure(figsize=(10, 8))\n",
    "sns.heatmap(autos.phik_matrix(), annot=True, cmap='cividis')\n",
    "plt.title('Корреляция признаков');"
   ]
  },
  {
   "cell_type": "code",
   "execution_count": 68,
   "metadata": {},
   "outputs": [],
   "source": [
    "interval_cols = ['price', 'power', 'kilometer']"
   ]
  },
  {
   "cell_type": "code",
   "execution_count": 69,
   "metadata": {},
   "outputs": [
    {
     "data": {
      "image/png": "[encoded data removed]",
      "text/plain": [
       "<Figure size 720x576 with 2 Axes>"
      ]
     },
     "metadata": {
      "needs_background": "light"
     },
     "output_type": "display_data"
    }
   ],
   "source": [
    "plt.figure(figsize=(10, 8))\n",
    "sns.heatmap(autos.phik_matrix(interval_cols=interval_cols), annot=True, cmap='cividis')\n",
    "plt.title('Корреляция признаков');"
   ]
  },
  {
   "cell_type": "code",
   "execution_count": 70,
   "metadata": {},
   "outputs": [
    {
     "data": {
      "image/png": "[encoded data removed]",
      "text/plain": [
       "<Figure size 734.4x864 with 27 Axes>"
      ]
     },
     "metadata": {
      "needs_background": "light"
     },
     "output_type": "display_data"
    }
   ],
   "source": [
    "# построим диаграммы рассеяния для всех количественных признаков с учётом значения категориальных признаков.\n",
    "sns.pairplot(\n",
    "    data=autos, \n",
    "    aspect=.85,\n",
    "    corner=True,\n",
    "    height=2);"
   ]
  },
  {
   "cell_type": "markdown",
   "metadata": {},
   "source": [
    "На этом шаге мы видим: \n",
    "* целевой признак коррелирует с годом регистрации, моделью (и бренд+модель, соответственно) больше всего;\n",
    "* мощность и километраж тоде оказывают влияние на цену;\n",
    "* в теории мы могли бы заменить километраж на категории до 100 тыс. км, 100-150 тыс. км и более 150 тыс км. Посмотрим в моделях, если потребуется улучшение, можно попробовать;\n",
    "* впрочем, как и год выпуска: до 2000 г.в и после 2000 г.в.\n",
    "\n",
    "По логике бренд + модель + год выпуска или километраж тоже должны хорошо коррелировать с ценой, если линейная регрессия будет показывать недостаточное качество, подумаем о добавлении такого признака. "
   ]
  },
  {
   "cell_type": "markdown",
   "metadata": {},
   "source": [
    "## Обучение моделей"
   ]
  },
  {
   "cell_type": "markdown",
   "metadata": {},
   "source": [
    "Попроубем обучить несколько моделей: линейную регрессию, дерево и LightGBM.\n",
    "Для начала обработаем данные"
   ]
  },
  {
   "cell_type": "code",
   "execution_count": 71,
   "metadata": {},
   "outputs": [],
   "source": [
    "# разделим данные на выборки \n",
    "X = autos.drop(columns='price')\n",
    "y = autos['price']\n",
    "\n",
    "X_train, X_test, y_train, y_test = train_test_split(X, y, test_size=TEST_SIZE, random_state=RANDOM_STATE)"
   ]
  },
  {
   "cell_type": "code",
   "execution_count": 72,
   "metadata": {},
   "outputs": [],
   "source": [
    "# создаём списки с названиями признаков\n",
    "ohe_columns = ['vehicle_type', 'gearbox', 'model', 'fuel_type', 'brand', 'brand_model']\n",
    "ord_columns = ['repaired_new']\n",
    "num_columns = ['registration_year', 'power', 'kilometer', 'registration_month']\n",
    "\n",
    "# создаём пайплайн для подготовки признаков из списка ohe_columns: заполнение пропусков и OHE-кодирование\n",
    "# SimpleImputer + OHE\n",
    "ohe_pipe = Pipeline(\n",
    "    [('ohe', OneHotEncoder(handle_unknown='ignore'))]\n",
    "    )\n",
    "\n",
    "# создаём пайплайн для подготовки признаков из списка ord_columns: заполнение пропусков и Ordinal-кодирование\n",
    "# SimpleImputer + OE\n",
    "ord_pipe = Pipeline(\n",
    "    [('ord',  OrdinalEncoder(\n",
    "                categories=[\n",
    "                    ['0', '1']\n",
    "                ], \n",
    "                handle_unknown='use_encoded_value', unknown_value=np.nan\n",
    "            )\n",
    "        ),\n",
    "     ('simpleImputer_after_ord', SimpleImputer(missing_values=np.nan, strategy='most_frequent'))\n",
    "    ]\n",
    ")\n",
    "\n",
    "# создаём общий пайплайн для подготовки данных\n",
    "data_preprocessor = ColumnTransformer(\n",
    "    [('ohe', ohe_pipe, ohe_columns),\n",
    "     ('ord', ord_pipe, ord_columns),\n",
    "     ('num', MinMaxScaler(), num_columns)\n",
    "    ], \n",
    "    remainder='passthrough'\n",
    ")\n",
    "\n",
    "# создаём итоговый пайплайн: подготовка данных и модель\n",
    "pipe_final = Pipeline([\n",
    "    ('preprocessor', data_preprocessor),\n",
    "    ('models', DecisionTreeRegressor(random_state=RANDOM_STATE))\n",
    "])"
   ]
  },
  {
   "cell_type": "markdown",
   "metadata": {},
   "source": [
    "Попробуем в линейной регрессии несколько скаляров. "
   ]
  },
  {
   "cell_type": "code",
   "execution_count": 73,
   "metadata": {},
   "outputs": [],
   "source": [
    "# запустим поиск лучших параметров для LinearRegression\n",
    "param_grid = [\n",
    "    {\n",
    "        'models': [LinearRegression()],\n",
    "        'preprocessor__num': [StandardScaler(), MinMaxScaler(), 'passthrough']  \n",
    "    }\n",
    "]\n",
    "\n",
    "grid = GridSearchCV(\n",
    "    pipe_final, \n",
    "    param_grid, \n",
    "    cv=5,\n",
    "    #random_state=RANDOM_STATE,\n",
    "    scoring='neg_root_mean_squared_error',\n",
    "    n_jobs=-1\n",
    ")\n",
    "\n"
   ]
  },
  {
   "cell_type": "code",
   "execution_count": 74,
   "metadata": {
    "collapsed": true,
    "jupyter": {
     "outputs_hidden": true
    },
    "tags": []
   },
   "outputs": [
    {
     "name": "stdout",
     "output_type": "stream",
     "text": [
      "CPU times: user 2min 20s, sys: 2min 22s, total: 4min 42s\n",
      "Wall time: 4min 44s\n"
     ]
    },
    {
     "data": {
      "text/html": [
       "<style>#sk-container-id-1 {\n",
       "  /* Definition of color scheme common for light and dark mode */\n",
       "  --sklearn-color-text: black;\n",
       "  --sklearn-color-line: gray;\n",
       "  /* Definition of color scheme for unfitted estimators */\n",
       "  --sklearn-color-unfitted-level-0: #fff5e6;\n",
       "  --sklearn-color-unfitted-level-1: #f6e4d2;\n",
       "  --sklearn-color-unfitted-level-2: #ffe0b3;\n",
       "  --sklearn-color-unfitted-level-3: chocolate;\n",
       "  /* Definition of color scheme for fitted estimators */\n",
       "  --sklearn-color-fitted-level-0: #f0f8ff;\n",
       "  --sklearn-color-fitted-level-1: #d4ebff;\n",
       "  --sklearn-color-fitted-level-2: #b3dbfd;\n",
       "  --sklearn-color-fitted-level-3: cornflowerblue;\n",
       "\n",
       "  /* Specific color for light theme */\n",
       "  --sklearn-color-text-on-default-background: var(--sg-text-color, var(--theme-code-foreground, var(--jp-content-font-color1, black)));\n",
       "  --sklearn-color-background: var(--sg-background-color, var(--theme-background, var(--jp-layout-color0, white)));\n",
       "  --sklearn-color-border-box: var(--sg-text-color, var(--theme-code-foreground, var(--jp-content-font-color1, black)));\n",
       "  --sklearn-color-icon: #696969;\n",
       "\n",
       "  @media (prefers-color-scheme: dark) {\n",
       "    /* Redefinition of color scheme for dark theme */\n",
       "    --sklearn-color-text-on-default-background: var(--sg-text-color, var(--theme-code-foreground, var(--jp-content-font-color1, white)));\n",
       "    --sklearn-color-background: var(--sg-background-color, var(--theme-background, var(--jp-layout-color0, #111)));\n",
       "    --sklearn-color-border-box: var(--sg-text-color, var(--theme-code-foreground, var(--jp-content-font-color1, white)));\n",
       "    --sklearn-color-icon: #878787;\n",
       "  }\n",
       "}\n",
       "\n",
       "#sk-container-id-1 {\n",
       "  color: var(--sklearn-color-text);\n",
       "}\n",
       "\n",
       "#sk-container-id-1 pre {\n",
       "  padding: 0;\n",
       "}\n",
       "\n",
       "#sk-container-id-1 input.sk-hidden--visually {\n",
       "  border: 0;\n",
       "  clip: rect(1px 1px 1px 1px);\n",
       "  clip: rect(1px, 1px, 1px, 1px);\n",
       "  height: 1px;\n",
       "  margin: -1px;\n",
       "  overflow: hidden;\n",
       "  padding: 0;\n",
       "  position: absolute;\n",
       "  width: 1px;\n",
       "}\n",
       "\n",
       "#sk-container-id-1 div.sk-dashed-wrapped {\n",
       "  border: 1px dashed var(--sklearn-color-line);\n",
       "  margin: 0 0.4em 0.5em 0.4em;\n",
       "  box-sizing: border-box;\n",
       "  padding-bottom: 0.4em;\n",
       "  background-color: var(--sklearn-color-background);\n",
       "}\n",
       "\n",
       "#sk-container-id-1 div.sk-container {\n",
       "  /* jupyter's `normalize.less` sets `[hidden] { display: none; }`\n",
       "     but bootstrap.min.css set `[hidden] { display: none !important; }`\n",
       "     so we also need the `!important` here to be able to override the\n",
       "     default hidden behavior on the sphinx rendered scikit-learn.org.\n",
       "     See: https://github.com/scikit-learn/scikit-learn/issues/21755 */\n",
       "  display: inline-block !important;\n",
       "  position: relative;\n",
       "}\n",
       "\n",
       "#sk-container-id-1 div.sk-text-repr-fallback {\n",
       "  display: none;\n",
       "}\n",
       "\n",
       "div.sk-parallel-item,\n",
       "div.sk-serial,\n",
       "div.sk-item {\n",
       "  /* draw centered vertical line to link estimators */\n",
       "  background-image: linear-gradient(var(--sklearn-color-text-on-default-background), var(--sklearn-color-text-on-default-background));\n",
       "  background-size: 2px 100%;\n",
       "  background-repeat: no-repeat;\n",
       "  background-position: center center;\n",
       "}\n",
       "\n",
       "/* Parallel-specific style estimator block */\n",
       "\n",
       "#sk-container-id-1 div.sk-parallel-item::after {\n",
       "  content: \"\";\n",
       "  width: 100%;\n",
       "  border-bottom: 2px solid var(--sklearn-color-text-on-default-background);\n",
       "  flex-grow: 1;\n",
       "}\n",
       "\n",
       "#sk-container-id-1 div.sk-parallel {\n",
       "  display: flex;\n",
       "  align-items: stretch;\n",
       "  justify-content: center;\n",
       "  background-color: var(--sklearn-color-background);\n",
       "  position: relative;\n",
       "}\n",
       "\n",
       "#sk-container-id-1 div.sk-parallel-item {\n",
       "  display: flex;\n",
       "  flex-direction: column;\n",
       "}\n",
       "\n",
       "#sk-container-id-1 div.sk-parallel-item:first-child::after {\n",
       "  align-self: flex-end;\n",
       "  width: 50%;\n",
       "}\n",
       "\n",
       "#sk-container-id-1 div.sk-parallel-item:last-child::after {\n",
       "  align-self: flex-start;\n",
       "  width: 50%;\n",
       "}\n",
       "\n",
       "#sk-container-id-1 div.sk-parallel-item:only-child::after {\n",
       "  width: 0;\n",
       "}\n",
       "\n",
       "/* Serial-specific style estimator block */\n",
       "\n",
       "#sk-container-id-1 div.sk-serial {\n",
       "  display: flex;\n",
       "  flex-direction: column;\n",
       "  align-items: center;\n",
       "  background-color: var(--sklearn-color-background);\n",
       "  padding-right: 1em;\n",
       "  padding-left: 1em;\n",
       "}\n",
       "\n",
       "\n",
       "/* Toggleable style: style used for estimator/Pipeline/ColumnTransformer box that is\n",
       "clickable and can be expanded/collapsed.\n",
       "- Pipeline and ColumnTransformer use this feature and define the default style\n",
       "- Estimators will overwrite some part of the style using the `sk-estimator` class\n",
       "*/\n",
       "\n",
       "/* Pipeline and ColumnTransformer style (default) */\n",
       "\n",
       "#sk-container-id-1 div.sk-toggleable {\n",
       "  /* Default theme specific background. It is overwritten whether we have a\n",
       "  specific estimator or a Pipeline/ColumnTransformer */\n",
       "  background-color: var(--sklearn-color-background);\n",
       "}\n",
       "\n",
       "/* Toggleable label */\n",
       "#sk-container-id-1 label.sk-toggleable__label {\n",
       "  cursor: pointer;\n",
       "  display: block;\n",
       "  width: 100%;\n",
       "  margin-bottom: 0;\n",
       "  padding: 0.5em;\n",
       "  box-sizing: border-box;\n",
       "  text-align: center;\n",
       "}\n",
       "\n",
       "#sk-container-id-1 label.sk-toggleable__label-arrow:before {\n",
       "  /* Arrow on the left of the label */\n",
       "  content: \"▸\";\n",
       "  float: left;\n",
       "  margin-right: 0.25em;\n",
       "  color: var(--sklearn-color-icon);\n",
       "}\n",
       "\n",
       "#sk-container-id-1 label.sk-toggleable__label-arrow:hover:before {\n",
       "  color: var(--sklearn-color-text);\n",
       "}\n",
       "\n",
       "/* Toggleable content - dropdown */\n",
       "\n",
       "#sk-container-id-1 div.sk-toggleable__content {\n",
       "  max-height: 0;\n",
       "  max-width: 0;\n",
       "  overflow: hidden;\n",
       "  text-align: left;\n",
       "  /* unfitted */\n",
       "  background-color: var(--sklearn-color-unfitted-level-0);\n",
       "}\n",
       "\n",
       "#sk-container-id-1 div.sk-toggleable__content.fitted {\n",
       "  /* fitted */\n",
       "  background-color: var(--sklearn-color-fitted-level-0);\n",
       "}\n",
       "\n",
       "#sk-container-id-1 div.sk-toggleable__content pre {\n",
       "  margin: 0.2em;\n",
       "  border-radius: 0.25em;\n",
       "  color: var(--sklearn-color-text);\n",
       "  /* unfitted */\n",
       "  background-color: var(--sklearn-color-unfitted-level-0);\n",
       "}\n",
       "\n",
       "#sk-container-id-1 div.sk-toggleable__content.fitted pre {\n",
       "  /* unfitted */\n",
       "  background-color: var(--sklearn-color-fitted-level-0);\n",
       "}\n",
       "\n",
       "#sk-container-id-1 input.sk-toggleable__control:checked~div.sk-toggleable__content {\n",
       "  /* Expand drop-down */\n",
       "  max-height: 200px;\n",
       "  max-width: 100%;\n",
       "  overflow: auto;\n",
       "}\n",
       "\n",
       "#sk-container-id-1 input.sk-toggleable__control:checked~label.sk-toggleable__label-arrow:before {\n",
       "  content: \"▾\";\n",
       "}\n",
       "\n",
       "/* Pipeline/ColumnTransformer-specific style */\n",
       "\n",
       "#sk-container-id-1 div.sk-label input.sk-toggleable__control:checked~label.sk-toggleable__label {\n",
       "  color: var(--sklearn-color-text);\n",
       "  background-color: var(--sklearn-color-unfitted-level-2);\n",
       "}\n",
       "\n",
       "#sk-container-id-1 div.sk-label.fitted input.sk-toggleable__control:checked~label.sk-toggleable__label {\n",
       "  background-color: var(--sklearn-color-fitted-level-2);\n",
       "}\n",
       "\n",
       "/* Estimator-specific style */\n",
       "\n",
       "/* Colorize estimator box */\n",
       "#sk-container-id-1 div.sk-estimator input.sk-toggleable__control:checked~label.sk-toggleable__label {\n",
       "  /* unfitted */\n",
       "  background-color: var(--sklearn-color-unfitted-level-2);\n",
       "}\n",
       "\n",
       "#sk-container-id-1 div.sk-estimator.fitted input.sk-toggleable__control:checked~label.sk-toggleable__label {\n",
       "  /* fitted */\n",
       "  background-color: var(--sklearn-color-fitted-level-2);\n",
       "}\n",
       "\n",
       "#sk-container-id-1 div.sk-label label.sk-toggleable__label,\n",
       "#sk-container-id-1 div.sk-label label {\n",
       "  /* The background is the default theme color */\n",
       "  color: var(--sklearn-color-text-on-default-background);\n",
       "}\n",
       "\n",
       "/* On hover, darken the color of the background */\n",
       "#sk-container-id-1 div.sk-label:hover label.sk-toggleable__label {\n",
       "  color: var(--sklearn-color-text);\n",
       "  background-color: var(--sklearn-color-unfitted-level-2);\n",
       "}\n",
       "\n",
       "/* Label box, darken color on hover, fitted */\n",
       "#sk-container-id-1 div.sk-label.fitted:hover label.sk-toggleable__label.fitted {\n",
       "  color: var(--sklearn-color-text);\n",
       "  background-color: var(--sklearn-color-fitted-level-2);\n",
       "}\n",
       "\n",
       "/* Estimator label */\n",
       "\n",
       "#sk-container-id-1 div.sk-label label {\n",
       "  font-family: monospace;\n",
       "  font-weight: bold;\n",
       "  display: inline-block;\n",
       "  line-height: 1.2em;\n",
       "}\n",
       "\n",
       "#sk-container-id-1 div.sk-label-container {\n",
       "  text-align: center;\n",
       "}\n",
       "\n",
       "/* Estimator-specific */\n",
       "#sk-container-id-1 div.sk-estimator {\n",
       "  font-family: monospace;\n",
       "  border: 1px dotted var(--sklearn-color-border-box);\n",
       "  border-radius: 0.25em;\n",
       "  box-sizing: border-box;\n",
       "  margin-bottom: 0.5em;\n",
       "  /* unfitted */\n",
       "  background-color: var(--sklearn-color-unfitted-level-0);\n",
       "}\n",
       "\n",
       "#sk-container-id-1 div.sk-estimator.fitted {\n",
       "  /* fitted */\n",
       "  background-color: var(--sklearn-color-fitted-level-0);\n",
       "}\n",
       "\n",
       "/* on hover */\n",
       "#sk-container-id-1 div.sk-estimator:hover {\n",
       "  /* unfitted */\n",
       "  background-color: var(--sklearn-color-unfitted-level-2);\n",
       "}\n",
       "\n",
       "#sk-container-id-1 div.sk-estimator.fitted:hover {\n",
       "  /* fitted */\n",
       "  background-color: var(--sklearn-color-fitted-level-2);\n",
       "}\n",
       "\n",
       "/* Specification for estimator info (e.g. \"i\" and \"?\") */\n",
       "\n",
       "/* Common style for \"i\" and \"?\" */\n",
       "\n",
       ".sk-estimator-doc-link,\n",
       "a:link.sk-estimator-doc-link,\n",
       "a:visited.sk-estimator-doc-link {\n",
       "  float: right;\n",
       "  font-size: smaller;\n",
       "  line-height: 1em;\n",
       "  font-family: monospace;\n",
       "  background-color: var(--sklearn-color-background);\n",
       "  border-radius: 1em;\n",
       "  height: 1em;\n",
       "  width: 1em;\n",
       "  text-decoration: none !important;\n",
       "  margin-left: 1ex;\n",
       "  /* unfitted */\n",
       "  border: var(--sklearn-color-unfitted-level-1) 1pt solid;\n",
       "  color: var(--sklearn-color-unfitted-level-1);\n",
       "}\n",
       "\n",
       ".sk-estimator-doc-link.fitted,\n",
       "a:link.sk-estimator-doc-link.fitted,\n",
       "a:visited.sk-estimator-doc-link.fitted {\n",
       "  /* fitted */\n",
       "  border: var(--sklearn-color-fitted-level-1) 1pt solid;\n",
       "  color: var(--sklearn-color-fitted-level-1);\n",
       "}\n",
       "\n",
       "/* On hover */\n",
       "div.sk-estimator:hover .sk-estimator-doc-link:hover,\n",
       ".sk-estimator-doc-link:hover,\n",
       "div.sk-label-container:hover .sk-estimator-doc-link:hover,\n",
       ".sk-estimator-doc-link:hover {\n",
       "  /* unfitted */\n",
       "  background-color: var(--sklearn-color-unfitted-level-3);\n",
       "  color: var(--sklearn-color-background);\n",
       "  text-decoration: none;\n",
       "}\n",
       "\n",
       "div.sk-estimator.fitted:hover .sk-estimator-doc-link.fitted:hover,\n",
       ".sk-estimator-doc-link.fitted:hover,\n",
       "div.sk-label-container:hover .sk-estimator-doc-link.fitted:hover,\n",
       ".sk-estimator-doc-link.fitted:hover {\n",
       "  /* fitted */\n",
       "  background-color: var(--sklearn-color-fitted-level-3);\n",
       "  color: var(--sklearn-color-background);\n",
       "  text-decoration: none;\n",
       "}\n",
       "\n",
       "/* Span, style for the box shown on hovering the info icon */\n",
       ".sk-estimator-doc-link span {\n",
       "  display: none;\n",
       "  z-index: 9999;\n",
       "  position: relative;\n",
       "  font-weight: normal;\n",
       "  right: .2ex;\n",
       "  padding: .5ex;\n",
       "  margin: .5ex;\n",
       "  width: min-content;\n",
       "  min-width: 20ex;\n",
       "  max-width: 50ex;\n",
       "  color: var(--sklearn-color-text);\n",
       "  box-shadow: 2pt 2pt 4pt #999;\n",
       "  /* unfitted */\n",
       "  background: var(--sklearn-color-unfitted-level-0);\n",
       "  border: .5pt solid var(--sklearn-color-unfitted-level-3);\n",
       "}\n",
       "\n",
       ".sk-estimator-doc-link.fitted span {\n",
       "  /* fitted */\n",
       "  background: var(--sklearn-color-fitted-level-0);\n",
       "  border: var(--sklearn-color-fitted-level-3);\n",
       "}\n",
       "\n",
       ".sk-estimator-doc-link:hover span {\n",
       "  display: block;\n",
       "}\n",
       "\n",
       "/* \"?\"-specific style due to the `<a>` HTML tag */\n",
       "\n",
       "#sk-container-id-1 a.estimator_doc_link {\n",
       "  float: right;\n",
       "  font-size: 1rem;\n",
       "  line-height: 1em;\n",
       "  font-family: monospace;\n",
       "  background-color: var(--sklearn-color-background);\n",
       "  border-radius: 1rem;\n",
       "  height: 1rem;\n",
       "  width: 1rem;\n",
       "  text-decoration: none;\n",
       "  /* unfitted */\n",
       "  color: var(--sklearn-color-unfitted-level-1);\n",
       "  border: var(--sklearn-color-unfitted-level-1) 1pt solid;\n",
       "}\n",
       "\n",
       "#sk-container-id-1 a.estimator_doc_link.fitted {\n",
       "  /* fitted */\n",
       "  border: var(--sklearn-color-fitted-level-1) 1pt solid;\n",
       "  color: var(--sklearn-color-fitted-level-1);\n",
       "}\n",
       "\n",
       "/* On hover */\n",
       "#sk-container-id-1 a.estimator_doc_link:hover {\n",
       "  /* unfitted */\n",
       "  background-color: var(--sklearn-color-unfitted-level-3);\n",
       "  color: var(--sklearn-color-background);\n",
       "  text-decoration: none;\n",
       "}\n",
       "\n",
       "#sk-container-id-1 a.estimator_doc_link.fitted:hover {\n",
       "  /* fitted */\n",
       "  background-color: var(--sklearn-color-fitted-level-3);\n",
       "}\n",
       "</style><div id=\"sk-container-id-1\" class=\"sk-top-container\"><div class=\"sk-text-repr-fallback\"><pre>GridSearchCV(cv=5,\n",
       "             estimator=Pipeline(steps=[(&#x27;preprocessor&#x27;,\n",
       "                                        ColumnTransformer(remainder=&#x27;passthrough&#x27;,\n",
       "                                                          transformers=[(&#x27;ohe&#x27;,\n",
       "                                                                         Pipeline(steps=[(&#x27;ohe&#x27;,\n",
       "                                                                                          OneHotEncoder(handle_unknown=&#x27;ignore&#x27;))]),\n",
       "                                                                         [&#x27;vehicle_type&#x27;,\n",
       "                                                                          &#x27;gearbox&#x27;,\n",
       "                                                                          &#x27;model&#x27;,\n",
       "                                                                          &#x27;fuel_type&#x27;,\n",
       "                                                                          &#x27;brand&#x27;,\n",
       "                                                                          &#x27;brand_model&#x27;]),\n",
       "                                                                        (&#x27;ord&#x27;,\n",
       "                                                                         Pipeline(steps=[(&#x27;ord&#x27;,\n",
       "                                                                                          OrdinalEncoder(categories=[[&#x27;0&#x27;,\n",
       "                                                                                                                      &#x27;1&#x27;]],\n",
       "                                                                                                         handle_unknown=&#x27;use_enco...\n",
       "                                                                                          SimpleImputer(strategy=&#x27;most_frequent&#x27;))]),\n",
       "                                                                         [&#x27;repaired_new&#x27;]),\n",
       "                                                                        (&#x27;num&#x27;,\n",
       "                                                                         MinMaxScaler(),\n",
       "                                                                         [&#x27;registration_year&#x27;,\n",
       "                                                                          &#x27;power&#x27;,\n",
       "                                                                          &#x27;kilometer&#x27;,\n",
       "                                                                          &#x27;registration_month&#x27;])])),\n",
       "                                       (&#x27;models&#x27;,\n",
       "                                        DecisionTreeRegressor(random_state=73))]),\n",
       "             n_jobs=-1,\n",
       "             param_grid=[{&#x27;models&#x27;: [LinearRegression()],\n",
       "                          &#x27;preprocessor__num&#x27;: [StandardScaler(),\n",
       "                                                MinMaxScaler(),\n",
       "                                                &#x27;passthrough&#x27;]}],\n",
       "             scoring=&#x27;neg_root_mean_squared_error&#x27;)</pre><b>In a Jupyter environment, please rerun this cell to show the HTML representation or trust the notebook. <br />On GitHub, the HTML representation is unable to render, please try loading this page with nbviewer.org.</b></div><div class=\"sk-container\" hidden><div class=\"sk-item sk-dashed-wrapped\"><div class=\"sk-label-container\"><div class=\"sk-label fitted sk-toggleable\"><input class=\"sk-toggleable__control sk-hidden--visually\" id=\"sk-estimator-id-1\" type=\"checkbox\" ><label for=\"sk-estimator-id-1\" class=\"sk-toggleable__label fitted sk-toggleable__label-arrow fitted\">&nbsp;&nbsp;GridSearchCV<a class=\"sk-estimator-doc-link fitted\" rel=\"noreferrer\" target=\"_blank\" href=\"https://scikit-learn.org/1.4/modules/generated/sklearn.model_selection.GridSearchCV.html\">?<span>Documentation for GridSearchCV</span></a><span class=\"sk-estimator-doc-link fitted\">i<span>Fitted</span></span></label><div class=\"sk-toggleable__content fitted\"><pre>GridSearchCV(cv=5,\n",
       "             estimator=Pipeline(steps=[(&#x27;preprocessor&#x27;,\n",
       "                                        ColumnTransformer(remainder=&#x27;passthrough&#x27;,\n",
       "                                                          transformers=[(&#x27;ohe&#x27;,\n",
       "                                                                         Pipeline(steps=[(&#x27;ohe&#x27;,\n",
       "                                                                                          OneHotEncoder(handle_unknown=&#x27;ignore&#x27;))]),\n",
       "                                                                         [&#x27;vehicle_type&#x27;,\n",
       "                                                                          &#x27;gearbox&#x27;,\n",
       "                                                                          &#x27;model&#x27;,\n",
       "                                                                          &#x27;fuel_type&#x27;,\n",
       "                                                                          &#x27;brand&#x27;,\n",
       "                                                                          &#x27;brand_model&#x27;]),\n",
       "                                                                        (&#x27;ord&#x27;,\n",
       "                                                                         Pipeline(steps=[(&#x27;ord&#x27;,\n",
       "                                                                                          OrdinalEncoder(categories=[[&#x27;0&#x27;,\n",
       "                                                                                                                      &#x27;1&#x27;]],\n",
       "                                                                                                         handle_unknown=&#x27;use_enco...\n",
       "                                                                                          SimpleImputer(strategy=&#x27;most_frequent&#x27;))]),\n",
       "                                                                         [&#x27;repaired_new&#x27;]),\n",
       "                                                                        (&#x27;num&#x27;,\n",
       "                                                                         MinMaxScaler(),\n",
       "                                                                         [&#x27;registration_year&#x27;,\n",
       "                                                                          &#x27;power&#x27;,\n",
       "                                                                          &#x27;kilometer&#x27;,\n",
       "                                                                          &#x27;registration_month&#x27;])])),\n",
       "                                       (&#x27;models&#x27;,\n",
       "                                        DecisionTreeRegressor(random_state=73))]),\n",
       "             n_jobs=-1,\n",
       "             param_grid=[{&#x27;models&#x27;: [LinearRegression()],\n",
       "                          &#x27;preprocessor__num&#x27;: [StandardScaler(),\n",
       "                                                MinMaxScaler(),\n",
       "                                                &#x27;passthrough&#x27;]}],\n",
       "             scoring=&#x27;neg_root_mean_squared_error&#x27;)</pre></div> </div></div><div class=\"sk-parallel\"><div class=\"sk-parallel-item\"><div class=\"sk-item\"><div class=\"sk-label-container\"><div class=\"sk-label fitted sk-toggleable\"><input class=\"sk-toggleable__control sk-hidden--visually\" id=\"sk-estimator-id-2\" type=\"checkbox\" ><label for=\"sk-estimator-id-2\" class=\"sk-toggleable__label fitted sk-toggleable__label-arrow fitted\">estimator: Pipeline</label><div class=\"sk-toggleable__content fitted\"><pre>Pipeline(steps=[(&#x27;preprocessor&#x27;,\n",
       "                 ColumnTransformer(remainder=&#x27;passthrough&#x27;,\n",
       "                                   transformers=[(&#x27;ohe&#x27;,\n",
       "                                                  Pipeline(steps=[(&#x27;ohe&#x27;,\n",
       "                                                                   OneHotEncoder(handle_unknown=&#x27;ignore&#x27;))]),\n",
       "                                                  [&#x27;vehicle_type&#x27;, &#x27;gearbox&#x27;,\n",
       "                                                   &#x27;model&#x27;, &#x27;fuel_type&#x27;,\n",
       "                                                   &#x27;brand&#x27;, &#x27;brand_model&#x27;]),\n",
       "                                                 (&#x27;ord&#x27;,\n",
       "                                                  Pipeline(steps=[(&#x27;ord&#x27;,\n",
       "                                                                   OrdinalEncoder(categories=[[&#x27;0&#x27;,\n",
       "                                                                                               &#x27;1&#x27;]],\n",
       "                                                                                  handle_unknown=&#x27;use_encoded_value&#x27;,\n",
       "                                                                                  unknown_value=nan)),\n",
       "                                                                  (&#x27;simpleImputer_after_ord&#x27;,\n",
       "                                                                   SimpleImputer(strategy=&#x27;most_frequent&#x27;))]),\n",
       "                                                  [&#x27;repaired_new&#x27;]),\n",
       "                                                 (&#x27;num&#x27;, MinMaxScaler(),\n",
       "                                                  [&#x27;registration_year&#x27;, &#x27;power&#x27;,\n",
       "                                                   &#x27;kilometer&#x27;,\n",
       "                                                   &#x27;registration_month&#x27;])])),\n",
       "                (&#x27;models&#x27;, DecisionTreeRegressor(random_state=73))])</pre></div> </div></div><div class=\"sk-serial\"><div class=\"sk-item\"><div class=\"sk-serial\"><div class=\"sk-item sk-dashed-wrapped\"><div class=\"sk-label-container\"><div class=\"sk-label fitted sk-toggleable\"><input class=\"sk-toggleable__control sk-hidden--visually\" id=\"sk-estimator-id-3\" type=\"checkbox\" ><label for=\"sk-estimator-id-3\" class=\"sk-toggleable__label fitted sk-toggleable__label-arrow fitted\">&nbsp;preprocessor: ColumnTransformer<a class=\"sk-estimator-doc-link fitted\" rel=\"noreferrer\" target=\"_blank\" href=\"https://scikit-learn.org/1.4/modules/generated/sklearn.compose.ColumnTransformer.html\">?<span>Documentation for preprocessor: ColumnTransformer</span></a></label><div class=\"sk-toggleable__content fitted\"><pre>ColumnTransformer(remainder=&#x27;passthrough&#x27;,\n",
       "                  transformers=[(&#x27;ohe&#x27;,\n",
       "                                 Pipeline(steps=[(&#x27;ohe&#x27;,\n",
       "                                                  OneHotEncoder(handle_unknown=&#x27;ignore&#x27;))]),\n",
       "                                 [&#x27;vehicle_type&#x27;, &#x27;gearbox&#x27;, &#x27;model&#x27;,\n",
       "                                  &#x27;fuel_type&#x27;, &#x27;brand&#x27;, &#x27;brand_model&#x27;]),\n",
       "                                (&#x27;ord&#x27;,\n",
       "                                 Pipeline(steps=[(&#x27;ord&#x27;,\n",
       "                                                  OrdinalEncoder(categories=[[&#x27;0&#x27;,\n",
       "                                                                              &#x27;1&#x27;]],\n",
       "                                                                 handle_unknown=&#x27;use_encoded_value&#x27;,\n",
       "                                                                 unknown_value=nan)),\n",
       "                                                 (&#x27;simpleImputer_after_ord&#x27;,\n",
       "                                                  SimpleImputer(strategy=&#x27;most_frequent&#x27;))]),\n",
       "                                 [&#x27;repaired_new&#x27;]),\n",
       "                                (&#x27;num&#x27;, MinMaxScaler(),\n",
       "                                 [&#x27;registration_year&#x27;, &#x27;power&#x27;, &#x27;kilometer&#x27;,\n",
       "                                  &#x27;registration_month&#x27;])])</pre></div> </div></div><div class=\"sk-parallel\"><div class=\"sk-parallel-item\"><div class=\"sk-item\"><div class=\"sk-label-container\"><div class=\"sk-label fitted sk-toggleable\"><input class=\"sk-toggleable__control sk-hidden--visually\" id=\"sk-estimator-id-4\" type=\"checkbox\" ><label for=\"sk-estimator-id-4\" class=\"sk-toggleable__label fitted sk-toggleable__label-arrow fitted\">ohe</label><div class=\"sk-toggleable__content fitted\"><pre>[&#x27;vehicle_type&#x27;, &#x27;gearbox&#x27;, &#x27;model&#x27;, &#x27;fuel_type&#x27;, &#x27;brand&#x27;, &#x27;brand_model&#x27;]</pre></div> </div></div><div class=\"sk-serial\"><div class=\"sk-item\"><div class=\"sk-serial\"><div class=\"sk-item\"><div class=\"sk-estimator fitted sk-toggleable\"><input class=\"sk-toggleable__control sk-hidden--visually\" id=\"sk-estimator-id-5\" type=\"checkbox\" ><label for=\"sk-estimator-id-5\" class=\"sk-toggleable__label fitted sk-toggleable__label-arrow fitted\">&nbsp;OneHotEncoder<a class=\"sk-estimator-doc-link fitted\" rel=\"noreferrer\" target=\"_blank\" href=\"https://scikit-learn.org/1.4/modules/generated/sklearn.preprocessing.OneHotEncoder.html\">?<span>Documentation for OneHotEncoder</span></a></label><div class=\"sk-toggleable__content fitted\"><pre>OneHotEncoder(handle_unknown=&#x27;ignore&#x27;)</pre></div> </div></div></div></div></div></div></div><div class=\"sk-parallel-item\"><div class=\"sk-item\"><div class=\"sk-label-container\"><div class=\"sk-label fitted sk-toggleable\"><input class=\"sk-toggleable__control sk-hidden--visually\" id=\"sk-estimator-id-6\" type=\"checkbox\" ><label for=\"sk-estimator-id-6\" class=\"sk-toggleable__label fitted sk-toggleable__label-arrow fitted\">ord</label><div class=\"sk-toggleable__content fitted\"><pre>[&#x27;repaired_new&#x27;]</pre></div> </div></div><div class=\"sk-serial\"><div class=\"sk-item\"><div class=\"sk-serial\"><div class=\"sk-item\"><div class=\"sk-estimator fitted sk-toggleable\"><input class=\"sk-toggleable__control sk-hidden--visually\" id=\"sk-estimator-id-7\" type=\"checkbox\" ><label for=\"sk-estimator-id-7\" class=\"sk-toggleable__label fitted sk-toggleable__label-arrow fitted\">&nbsp;OrdinalEncoder<a class=\"sk-estimator-doc-link fitted\" rel=\"noreferrer\" target=\"_blank\" href=\"https://scikit-learn.org/1.4/modules/generated/sklearn.preprocessing.OrdinalEncoder.html\">?<span>Documentation for OrdinalEncoder</span></a></label><div class=\"sk-toggleable__content fitted\"><pre>OrdinalEncoder(categories=[[&#x27;0&#x27;, &#x27;1&#x27;]], handle_unknown=&#x27;use_encoded_value&#x27;,\n",
       "               unknown_value=nan)</pre></div> </div></div><div class=\"sk-item\"><div class=\"sk-estimator fitted sk-toggleable\"><input class=\"sk-toggleable__control sk-hidden--visually\" id=\"sk-estimator-id-8\" type=\"checkbox\" ><label for=\"sk-estimator-id-8\" class=\"sk-toggleable__label fitted sk-toggleable__label-arrow fitted\">&nbsp;SimpleImputer<a class=\"sk-estimator-doc-link fitted\" rel=\"noreferrer\" target=\"_blank\" href=\"https://scikit-learn.org/1.4/modules/generated/sklearn.impute.SimpleImputer.html\">?<span>Documentation for SimpleImputer</span></a></label><div class=\"sk-toggleable__content fitted\"><pre>SimpleImputer(strategy=&#x27;most_frequent&#x27;)</pre></div> </div></div></div></div></div></div></div><div class=\"sk-parallel-item\"><div class=\"sk-item\"><div class=\"sk-label-container\"><div class=\"sk-label fitted sk-toggleable\"><input class=\"sk-toggleable__control sk-hidden--visually\" id=\"sk-estimator-id-9\" type=\"checkbox\" ><label for=\"sk-estimator-id-9\" class=\"sk-toggleable__label fitted sk-toggleable__label-arrow fitted\">num</label><div class=\"sk-toggleable__content fitted\"><pre>[&#x27;registration_year&#x27;, &#x27;power&#x27;, &#x27;kilometer&#x27;, &#x27;registration_month&#x27;]</pre></div> </div></div><div class=\"sk-serial\"><div class=\"sk-item\"><div class=\"sk-estimator fitted sk-toggleable\"><input class=\"sk-toggleable__control sk-hidden--visually\" id=\"sk-estimator-id-10\" type=\"checkbox\" ><label for=\"sk-estimator-id-10\" class=\"sk-toggleable__label fitted sk-toggleable__label-arrow fitted\">&nbsp;MinMaxScaler<a class=\"sk-estimator-doc-link fitted\" rel=\"noreferrer\" target=\"_blank\" href=\"https://scikit-learn.org/1.4/modules/generated/sklearn.preprocessing.MinMaxScaler.html\">?<span>Documentation for MinMaxScaler</span></a></label><div class=\"sk-toggleable__content fitted\"><pre>MinMaxScaler()</pre></div> </div></div></div></div></div><div class=\"sk-parallel-item\"><div class=\"sk-item\"><div class=\"sk-label-container\"><div class=\"sk-label fitted sk-toggleable\"><input class=\"sk-toggleable__control sk-hidden--visually\" id=\"sk-estimator-id-11\" type=\"checkbox\" ><label for=\"sk-estimator-id-11\" class=\"sk-toggleable__label fitted sk-toggleable__label-arrow fitted\">remainder</label><div class=\"sk-toggleable__content fitted\"><pre></pre></div> </div></div><div class=\"sk-serial\"><div class=\"sk-item\"><div class=\"sk-estimator fitted sk-toggleable\"><input class=\"sk-toggleable__control sk-hidden--visually\" id=\"sk-estimator-id-12\" type=\"checkbox\" ><label for=\"sk-estimator-id-12\" class=\"sk-toggleable__label fitted sk-toggleable__label-arrow fitted\">passthrough</label><div class=\"sk-toggleable__content fitted\"><pre>passthrough</pre></div> </div></div></div></div></div></div></div><div class=\"sk-item\"><div class=\"sk-estimator fitted sk-toggleable\"><input class=\"sk-toggleable__control sk-hidden--visually\" id=\"sk-estimator-id-13\" type=\"checkbox\" ><label for=\"sk-estimator-id-13\" class=\"sk-toggleable__label fitted sk-toggleable__label-arrow fitted\">&nbsp;DecisionTreeRegressor<a class=\"sk-estimator-doc-link fitted\" rel=\"noreferrer\" target=\"_blank\" href=\"https://scikit-learn.org/1.4/modules/generated/sklearn.tree.DecisionTreeRegressor.html\">?<span>Documentation for DecisionTreeRegressor</span></a></label><div class=\"sk-toggleable__content fitted\"><pre>DecisionTreeRegressor(random_state=73)</pre></div> </div></div></div></div></div></div></div></div></div></div></div>"
      ],
      "text/plain": [
       "GridSearchCV(cv=5,\n",
       "             estimator=Pipeline(steps=[('preprocessor',\n",
       "                                        ColumnTransformer(remainder='passthrough',\n",
       "                                                          transformers=[('ohe',\n",
       "                                                                         Pipeline(steps=[('ohe',\n",
       "                                                                                          OneHotEncoder(handle_unknown='ignore'))]),\n",
       "                                                                         ['vehicle_type',\n",
       "                                                                          'gearbox',\n",
       "                                                                          'model',\n",
       "                                                                          'fuel_type',\n",
       "                                                                          'brand',\n",
       "                                                                          'brand_model']),\n",
       "                                                                        ('ord',\n",
       "                                                                         Pipeline(steps=[('ord',\n",
       "                                                                                          OrdinalEncoder(categories=[['0',\n",
       "                                                                                                                      '1']],\n",
       "                                                                                                         handle_unknown='use_enco...\n",
       "                                                                                          SimpleImputer(strategy='most_frequent'))]),\n",
       "                                                                         ['repaired_new']),\n",
       "                                                                        ('num',\n",
       "                                                                         MinMaxScaler(),\n",
       "                                                                         ['registration_year',\n",
       "                                                                          'power',\n",
       "                                                                          'kilometer',\n",
       "                                                                          'registration_month'])])),\n",
       "                                       ('models',\n",
       "                                        DecisionTreeRegressor(random_state=73))]),\n",
       "             n_jobs=-1,\n",
       "             param_grid=[{'models': [LinearRegression()],\n",
       "                          'preprocessor__num': [StandardScaler(),\n",
       "                                                MinMaxScaler(),\n",
       "                                                'passthrough']}],\n",
       "             scoring='neg_root_mean_squared_error')"
      ]
     },
     "execution_count": 74,
     "metadata": {},
     "output_type": "execute_result"
    }
   ],
   "source": [
    "%%time\n",
    "grid.fit(X_train, y_train)"
   ]
  },
  {
   "cell_type": "code",
   "execution_count": 75,
   "metadata": {},
   "outputs": [
    {
     "data": {
      "text/plain": [
       "25.99855923652649"
      ]
     },
     "execution_count": 75,
     "metadata": {},
     "output_type": "execute_result"
    }
   ],
   "source": [
    "grid.refit_time_"
   ]
  },
  {
   "cell_type": "code",
   "execution_count": 76,
   "metadata": {},
   "outputs": [
    {
     "name": "stdout",
     "output_type": "stream",
     "text": [
      "Лучшая модель и её качество: 2931.1466828241682\n"
     ]
    }
   ],
   "source": [
    "print('Лучшая модель и её качество:', -grid.best_score_)"
   ]
  },
  {
   "cell_type": "code",
   "execution_count": 77,
   "metadata": {},
   "outputs": [
    {
     "name": "stdout",
     "output_type": "stream",
     "text": [
      "rmse = 2915.84\n",
      "CPU times: user 216 ms, sys: 3.14 ms, total: 219 ms\n",
      "Wall time: 407 ms\n"
     ]
    }
   ],
   "source": [
    "%%time\n",
    "\n",
    "# посмотрим на предсказание модели и ее качество \n",
    "y_test_pred = grid.predict(X_test)\n",
    "rmse = mean_squared_error(y_test, y_test_pred, squared=False) \n",
    "print(f'rmse = {rmse:.2f}')"
   ]
  },
  {
   "cell_type": "markdown",
   "metadata": {},
   "source": [
    "Попробуем в DecisionTreeRegressor разные параметры "
   ]
  },
  {
   "cell_type": "code",
   "execution_count": 78,
   "metadata": {},
   "outputs": [
    {
     "name": "stderr",
     "output_type": "stream",
     "text": [
      "[I 2024-02-14 15:46:19,671] A new study created in memory with name: no-name-e7046667-6e87-4fac-a7e9-13c82654d194\n",
      "[I 2024-02-14 15:46:23,077] Trial 0 finished with value: -3887.3770406196345 and parameters: {'models__max_depth': 2, 'models__max_features': 7, 'models__min_samples_split': 2, 'models__min_samples_leaf': 8}. Best is trial 0 with value: -3887.3770406196345.\n",
      "[I 2024-02-14 15:46:26,282] Trial 1 finished with value: -3891.617512970953 and parameters: {'models__max_depth': 3, 'models__max_features': 5, 'models__min_samples_split': 4, 'models__min_samples_leaf': 11}. Best is trial 0 with value: -3887.3770406196345.\n",
      "[I 2024-02-14 15:46:29,501] Trial 2 finished with value: -3875.1061858399758 and parameters: {'models__max_depth': 2, 'models__max_features': 11, 'models__min_samples_split': 2, 'models__min_samples_leaf': 3}. Best is trial 2 with value: -3875.1061858399758.\n",
      "[I 2024-02-14 15:46:32,807] Trial 3 finished with value: -3726.833434777328 and parameters: {'models__max_depth': 6, 'models__max_features': 6, 'models__min_samples_split': 6, 'models__min_samples_leaf': 1}. Best is trial 3 with value: -3726.833434777328.\n",
      "[I 2024-02-14 15:46:36,100] Trial 4 finished with value: -3615.1569768477116 and parameters: {'models__max_depth': 4, 'models__max_features': 11, 'models__min_samples_split': 7, 'models__min_samples_leaf': 9}. Best is trial 4 with value: -3615.1569768477116.\n",
      "[I 2024-02-14 15:46:39,316] Trial 5 finished with value: -3897.0423727744696 and parameters: {'models__max_depth': 3, 'models__max_features': 3, 'models__min_samples_split': 7, 'models__min_samples_leaf': 3}. Best is trial 4 with value: -3615.1569768477116.\n",
      "[I 2024-02-14 15:46:42,627] Trial 6 finished with value: -3750.800899482137 and parameters: {'models__max_depth': 9, 'models__max_features': 2, 'models__min_samples_split': 2, 'models__min_samples_leaf': 11}. Best is trial 4 with value: -3615.1569768477116.\n",
      "[I 2024-02-14 15:46:45,931] Trial 7 finished with value: -3769.3491916735657 and parameters: {'models__max_depth': 7, 'models__max_features': 8, 'models__min_samples_split': 5, 'models__min_samples_leaf': 9}. Best is trial 4 with value: -3615.1569768477116.\n",
      "[I 2024-02-14 15:46:49,188] Trial 8 finished with value: -3831.7741731653414 and parameters: {'models__max_depth': 4, 'models__max_features': 7, 'models__min_samples_split': 3, 'models__min_samples_leaf': 4}. Best is trial 4 with value: -3615.1569768477116.\n",
      "[I 2024-02-14 15:46:52,624] Trial 9 finished with value: -3785.1478012792795 and parameters: {'models__max_depth': 2, 'models__max_features': 10, 'models__min_samples_split': 2, 'models__min_samples_leaf': 11}. Best is trial 4 with value: -3615.1569768477116.\n",
      "[I 2024-02-14 15:46:56,073] Trial 10 finished with value: -3590.446299188467 and parameters: {'models__max_depth': 11, 'models__max_features': 9, 'models__min_samples_split': 10, 'models__min_samples_leaf': 7}. Best is trial 10 with value: -3590.446299188467.\n",
      "[I 2024-02-14 15:46:59,513] Trial 11 finished with value: -3590.446299188467 and parameters: {'models__max_depth': 11, 'models__max_features': 9, 'models__min_samples_split': 10, 'models__min_samples_leaf': 7}. Best is trial 10 with value: -3590.446299188467.\n",
      "[I 2024-02-14 15:47:03,025] Trial 12 finished with value: -3636.4962199874985 and parameters: {'models__max_depth': 11, 'models__max_features': 9, 'models__min_samples_split': 11, 'models__min_samples_leaf': 6}. Best is trial 10 with value: -3590.446299188467.\n",
      "[I 2024-02-14 15:47:06,566] Trial 13 finished with value: -3636.4962199874985 and parameters: {'models__max_depth': 11, 'models__max_features': 9, 'models__min_samples_split': 10, 'models__min_samples_leaf': 6}. Best is trial 10 with value: -3590.446299188467.\n",
      "[I 2024-02-14 15:47:09,967] Trial 14 finished with value: -3728.3672103082927 and parameters: {'models__max_depth': 9, 'models__max_features': 9, 'models__min_samples_split': 9, 'models__min_samples_leaf': 7}. Best is trial 10 with value: -3590.446299188467.\n",
      "[I 2024-02-14 15:47:13,346] Trial 15 finished with value: -3724.032947880656 and parameters: {'models__max_depth': 9, 'models__max_features': 5, 'models__min_samples_split': 9, 'models__min_samples_leaf': 5}. Best is trial 10 with value: -3590.446299188467.\n",
      "[I 2024-02-14 15:47:16,760] Trial 16 finished with value: -3677.0584313515305 and parameters: {'models__max_depth': 10, 'models__max_features': 8, 'models__min_samples_split': 11, 'models__min_samples_leaf': 8}. Best is trial 10 with value: -3590.446299188467.\n",
      "[I 2024-02-14 15:47:20,201] Trial 17 finished with value: -3541.549855635355 and parameters: {'models__max_depth': 8, 'models__max_features': 10, 'models__min_samples_split': 9, 'models__min_samples_leaf': 7}. Best is trial 17 with value: -3541.549855635355.\n",
      "[I 2024-02-14 15:47:23,569] Trial 18 finished with value: -3520.5882402807924 and parameters: {'models__max_depth': 7, 'models__max_features': 10, 'models__min_samples_split': 8, 'models__min_samples_leaf': 9}. Best is trial 18 with value: -3520.5882402807924.\n",
      "[I 2024-02-14 15:47:26,918] Trial 19 finished with value: -3522.7437884370747 and parameters: {'models__max_depth': 7, 'models__max_features': 11, 'models__min_samples_split': 8, 'models__min_samples_leaf': 9}. Best is trial 18 with value: -3520.5882402807924.\n",
      "[I 2024-02-14 15:47:30,231] Trial 20 finished with value: -3669.970735270507 and parameters: {'models__max_depth': 6, 'models__max_features': 11, 'models__min_samples_split': 8, 'models__min_samples_leaf': 10}. Best is trial 18 with value: -3520.5882402807924.\n",
      "[I 2024-02-14 15:47:33,658] Trial 21 finished with value: -3520.5882402807924 and parameters: {'models__max_depth': 7, 'models__max_features': 10, 'models__min_samples_split': 8, 'models__min_samples_leaf': 9}. Best is trial 18 with value: -3520.5882402807924.\n",
      "[I 2024-02-14 15:47:37,086] Trial 22 finished with value: -3520.5882402807924 and parameters: {'models__max_depth': 7, 'models__max_features': 10, 'models__min_samples_split': 8, 'models__min_samples_leaf': 9}. Best is trial 18 with value: -3520.5882402807924.\n",
      "[I 2024-02-14 15:47:40,359] Trial 23 finished with value: -3725.069243682882 and parameters: {'models__max_depth': 5, 'models__max_features': 10, 'models__min_samples_split': 6, 'models__min_samples_leaf': 10}. Best is trial 18 with value: -3520.5882402807924.\n",
      "[I 2024-02-14 15:47:43,713] Trial 24 finished with value: -3632.2972168992105 and parameters: {'models__max_depth': 8, 'models__max_features': 8, 'models__min_samples_split': 8, 'models__min_samples_leaf': 10}. Best is trial 18 with value: -3520.5882402807924.\n"
     ]
    },
    {
     "name": "stdout",
     "output_type": "stream",
     "text": [
      "Лучшая модель и её параметры:\n",
      "\n",
      " Pipeline(steps=[('preprocessor',\n",
      "                 ColumnTransformer(remainder='passthrough',\n",
      "                                   transformers=[('ohe',\n",
      "                                                  Pipeline(steps=[('ohe',\n",
      "                                                                   OneHotEncoder(handle_unknown='ignore'))]),\n",
      "                                                  ['vehicle_type', 'gearbox',\n",
      "                                                   'model', 'fuel_type',\n",
      "                                                   'brand', 'brand_model']),\n",
      "                                                 ('ord',\n",
      "                                                  Pipeline(steps=[('ord',\n",
      "                                                                   OrdinalEncoder(categories=[['0',\n",
      "                                                                                               '1']],\n",
      "                                                                                  handle_unknown='use_encoded_value',\n",
      "                                                                                  unknown_value=nan)),\n",
      "                                                                  ('simpleImputer_after_ord',\n",
      "                                                                   SimpleImputer(strategy='most_frequent'))]),\n",
      "                                                  ['repaired_new']),\n",
      "                                                 ('num', MinMaxScaler(),\n",
      "                                                  ['registration_year', 'power',\n",
      "                                                   'kilometer',\n",
      "                                                   'registration_month'])])),\n",
      "                ('models',\n",
      "                 DecisionTreeRegressor(max_depth=7, max_features=10,\n",
      "                                       min_samples_leaf=9, min_samples_split=8,\n",
      "                                       random_state=73))])\n",
      "CPU times: user 1min 19s, sys: 4.92 s, total: 1min 24s\n",
      "Wall time: 1min 24s\n"
     ]
    }
   ],
   "source": [
    "%%time\n",
    "\n",
    "param_grid5 = {\n",
    "        'models__max_depth': distributions.IntDistribution(2, 11),\n",
    "        'models__max_features': distributions.IntDistribution(2, 11),\n",
    "        'models__min_samples_split': distributions.IntDistribution(2, 11),\n",
    "        'models__min_samples_leaf': distributions.IntDistribution(1, 11)\n",
    "}\n",
    "    \n",
    "oscv_all_add2 = OptunaSearchCV(\n",
    "    pipe_final, \n",
    "    param_grid5, \n",
    "    cv=5,\n",
    "    n_trials=25,\n",
    "    error_score='raise',\n",
    "    scoring='neg_root_mean_squared_error',\n",
    "    random_state=RANDOM_STATE\n",
    ") \n",
    "\n",
    "oscv_all_add2.fit(X_train, y_train)\n",
    "\n",
    "print('Лучшая модель и её параметры:\\n\\n', oscv_all_add2.best_estimator_)\n"
   ]
  },
  {
   "cell_type": "code",
   "execution_count": 79,
   "metadata": {},
   "outputs": [
    {
     "name": "stdout",
     "output_type": "stream",
     "text": [
      "Лучшая модель и её качество: 3520.5882402807924\n"
     ]
    }
   ],
   "source": [
    "print('Лучшая модель и её качество:', -oscv_all_add2.best_score_)"
   ]
  },
  {
   "cell_type": "code",
   "execution_count": 80,
   "metadata": {},
   "outputs": [
    {
     "data": {
      "text/plain": [
       "0.662238359451294"
      ]
     },
     "execution_count": 80,
     "metadata": {},
     "output_type": "execute_result"
    }
   ],
   "source": [
    "oscv_all_add2.refit_time_"
   ]
  },
  {
   "cell_type": "code",
   "execution_count": 76,
   "metadata": {},
   "outputs": [],
   "source": [
    "# создаём списки с названиями признаков\n",
    "ord_columns = ['vehicle_type', 'gearbox', 'model', 'fuel_type', 'brand', 'brand_model', 'repaired_new']\n",
    "num_columns = ['registration_year', 'power', 'kilometer', 'registration_month']\n",
    "\n",
    "\n",
    "# создаём пайплайн для подготовки признаков из списка ord_columns: заполнение пропусков и Ordinal-кодирование\n",
    "# SimpleImputer + OE\n",
    "ord_pipe = Pipeline(\n",
    "    [('ord',  OrdinalEncoder(\n",
    "                categories='auto', \n",
    "                handle_unknown='use_encoded_value', unknown_value=np.nan\n",
    "            )\n",
    "        ),\n",
    "     ('simpleImputer_after_ord', SimpleImputer(missing_values=np.nan, strategy='most_frequent'))\n",
    "    ]\n",
    ")\n",
    "\n",
    "# создаём общий пайплайн для подготовки данных\n",
    "data_preprocessor = ColumnTransformer(\n",
    "    [('ord', ord_pipe, ord_columns),\n",
    "     ('num', MinMaxScaler(), num_columns)\n",
    "    ], \n",
    "    remainder='passthrough'\n",
    ")\n",
    "\n",
    "# создаём итоговый пайплайн: подготовка данных и модель\n",
    "pipe_final2 = Pipeline([\n",
    "    ('preprocessor', data_preprocessor),\n",
    "    ('models', DecisionTreeRegressor(random_state=RANDOM_STATE))\n",
    "])"
   ]
  },
  {
   "cell_type": "code",
   "execution_count": 80,
   "metadata": {},
   "outputs": [],
   "source": [
    "param_grid6 = {\n",
    "        'models__max_depth': distributions.IntDistribution(11, 21),\n",
    "#         'models__max_features': distributions.IntDistribution(2, 11),\n",
    "#         'models__min_samples_split': distributions.IntDistribution(2, 11),\n",
    "#         'models__min_samples_leaf': distributions.IntDistribution(1, 11)\n",
    "}\n",
    "    \n",
    "oscv_all_add3 = OptunaSearchCV(\n",
    "    pipe_final2, \n",
    "    param_grid6, \n",
    "    cv=5,\n",
    "    n_trials=25,\n",
    "    error_score='raise',\n",
    "    scoring='neg_root_mean_squared_error',\n",
    "    random_state=RANDOM_STATE\n",
    ") \n",
    "\n"
   ]
  },
  {
   "cell_type": "code",
   "execution_count": 81,
   "metadata": {
    "scrolled": true
   },
   "outputs": [
    {
     "name": "stderr",
     "output_type": "stream",
     "text": [
      "[I 2024-02-15 09:52:01,498] A new study created in memory with name: no-name-e2ea07c9-7db1-495f-8f02-a5d175306a04\n",
      "[I 2024-02-15 09:52:06,347] Trial 0 finished with value: -1953.5405913249538 and parameters: {'models__max_depth': 11}. Best is trial 0 with value: -1953.5405913249538.\n",
      "[I 2024-02-15 09:52:12,131] Trial 1 finished with value: -2003.3544320102017 and parameters: {'models__max_depth': 17}. Best is trial 0 with value: -1953.5405913249538.\n",
      "[I 2024-02-15 09:52:16,952] Trial 2 finished with value: -1953.5405913249538 and parameters: {'models__max_depth': 11}. Best is trial 0 with value: -1953.5405913249538.\n",
      "[I 2024-02-15 09:52:22,856] Trial 3 finished with value: -2031.1402623897598 and parameters: {'models__max_depth': 18}. Best is trial 0 with value: -1953.5405913249538.\n",
      "[I 2024-02-15 09:52:27,905] Trial 4 finished with value: -1936.9570270353156 and parameters: {'models__max_depth': 12}. Best is trial 4 with value: -1936.9570270353156.\n",
      "[I 2024-02-15 09:52:33,239] Trial 5 finished with value: -1935.3844790348135 and parameters: {'models__max_depth': 14}. Best is trial 5 with value: -1935.3844790348135.\n",
      "[I 2024-02-15 09:52:38,412] Trial 6 finished with value: -1930.8122468971465 and parameters: {'models__max_depth': 13}. Best is trial 6 with value: -1930.8122468971465.\n",
      "[I 2024-02-15 09:52:44,882] Trial 7 finished with value: -2113.637429830613 and parameters: {'models__max_depth': 21}. Best is trial 6 with value: -1930.8122468971465.\n",
      "[I 2024-02-15 09:52:49,782] Trial 8 finished with value: -1953.5405913249538 and parameters: {'models__max_depth': 11}. Best is trial 6 with value: -1930.8122468971465.\n",
      "[I 2024-02-15 09:52:56,258] Trial 9 finished with value: -2113.637429830613 and parameters: {'models__max_depth': 21}. Best is trial 6 with value: -1930.8122468971465.\n",
      "[I 2024-02-15 09:53:01,581] Trial 10 finished with value: -1935.3844790348135 and parameters: {'models__max_depth': 14}. Best is trial 6 with value: -1930.8122468971465.\n",
      "[I 2024-02-15 09:53:06,942] Trial 11 finished with value: -1935.3844790348135 and parameters: {'models__max_depth': 14}. Best is trial 6 with value: -1930.8122468971465.\n",
      "[I 2024-02-15 09:53:12,222] Trial 12 finished with value: -1935.3844790348135 and parameters: {'models__max_depth': 14}. Best is trial 6 with value: -1930.8122468971465.\n",
      "[I 2024-02-15 09:53:17,693] Trial 13 finished with value: -1949.6660225778337 and parameters: {'models__max_depth': 15}. Best is trial 6 with value: -1930.8122468971465.\n",
      "[I 2024-02-15 09:53:22,865] Trial 14 finished with value: -1930.8122468971465 and parameters: {'models__max_depth': 13}. Best is trial 6 with value: -1930.8122468971465.\n",
      "[I 2024-02-15 09:53:28,057] Trial 15 finished with value: -1930.8122468971465 and parameters: {'models__max_depth': 13}. Best is trial 6 with value: -1930.8122468971465.\n",
      "[I 2024-02-15 09:53:33,917] Trial 16 finished with value: -1972.2633487082792 and parameters: {'models__max_depth': 16}. Best is trial 6 with value: -1930.8122468971465.\n",
      "[I 2024-02-15 09:53:40,096] Trial 17 finished with value: -2065.985862291749 and parameters: {'models__max_depth': 19}. Best is trial 6 with value: -1930.8122468971465.\n",
      "[I 2024-02-15 09:53:45,412] Trial 18 finished with value: -1930.8122468971465 and parameters: {'models__max_depth': 13}. Best is trial 6 with value: -1930.8122468971465.\n",
      "[I 2024-02-15 09:53:51,315] Trial 19 finished with value: -1972.2633487082792 and parameters: {'models__max_depth': 16}. Best is trial 6 with value: -1930.8122468971465.\n",
      "[I 2024-02-15 09:53:56,580] Trial 20 finished with value: -1936.9570270353156 and parameters: {'models__max_depth': 12}. Best is trial 6 with value: -1930.8122468971465.\n",
      "[I 2024-02-15 09:54:01,957] Trial 21 finished with value: -1930.8122468971465 and parameters: {'models__max_depth': 13}. Best is trial 6 with value: -1930.8122468971465.\n",
      "[I 2024-02-15 09:54:07,321] Trial 22 finished with value: -1930.8122468971465 and parameters: {'models__max_depth': 13}. Best is trial 6 with value: -1930.8122468971465.\n",
      "[I 2024-02-15 09:54:12,867] Trial 23 finished with value: -1949.6660225778337 and parameters: {'models__max_depth': 15}. Best is trial 6 with value: -1930.8122468971465.\n",
      "[I 2024-02-15 09:54:17,901] Trial 24 finished with value: -1936.9570270353156 and parameters: {'models__max_depth': 12}. Best is trial 6 with value: -1930.8122468971465.\n"
     ]
    },
    {
     "name": "stdout",
     "output_type": "stream",
     "text": [
      "Лучшая модель и её параметры:\n",
      "\n",
      " Pipeline(steps=[('preprocessor',\n",
      "                 ColumnTransformer(remainder='passthrough',\n",
      "                                   transformers=[('ord',\n",
      "                                                  Pipeline(steps=[('ord',\n",
      "                                                                   OrdinalEncoder(handle_unknown='use_encoded_value',\n",
      "                                                                                  unknown_value=nan)),\n",
      "                                                                  ('simpleImputer_after_ord',\n",
      "                                                                   SimpleImputer(strategy='most_frequent'))]),\n",
      "                                                  ['vehicle_type', 'gearbox',\n",
      "                                                   'model', 'fuel_type',\n",
      "                                                   'brand', 'brand_model',\n",
      "                                                   'repaired_new']),\n",
      "                                                 ('num', MinMaxScaler(),\n",
      "                                                  ['registration_year', 'power',\n",
      "                                                   'kilometer',\n",
      "                                                   'registration_month'])])),\n",
      "                ('models',\n",
      "                 DecisionTreeRegressor(max_depth=13, random_state=73))])\n",
      "CPU times: user 2min 13s, sys: 3.59 s, total: 2min 17s\n",
      "Wall time: 2min 17s\n"
     ]
    }
   ],
   "source": [
    "%%time\n",
    "\n",
    "oscv_all_add3.fit(X_train, y_train)\n",
    "\n",
    "print('Лучшая модель и её параметры:\\n\\n', oscv_all_add3.best_estimator_)"
   ]
  },
  {
   "cell_type": "code",
   "execution_count": 82,
   "metadata": {},
   "outputs": [
    {
     "name": "stdout",
     "output_type": "stream",
     "text": [
      "Лучшая модель и её качество: 1930.8122468971465\n"
     ]
    }
   ],
   "source": [
    "print('Лучшая модель и её качество:', -oscv_all_add3.best_score_)"
   ]
  },
  {
   "cell_type": "code",
   "execution_count": 84,
   "metadata": {},
   "outputs": [
    {
     "data": {
      "text/plain": [
       "1.1438677310943604"
      ]
     },
     "execution_count": 84,
     "metadata": {},
     "output_type": "execute_result"
    }
   ],
   "source": [
    "oscv_all_add3.refit_time_"
   ]
  },
  {
   "cell_type": "code",
   "execution_count": 85,
   "metadata": {
    "scrolled": true
   },
   "outputs": [
    {
     "name": "stdout",
     "output_type": "stream",
     "text": [
      "rmse = 1902.55\n",
      "CPU times: user 176 ms, sys: 142 µs, total: 176 ms\n",
      "Wall time: 174 ms\n"
     ]
    }
   ],
   "source": [
    "%%time\n",
    "\n",
    "y_test_pred5 = oscv_all_add3.predict(X_test)\n",
    "rmse = mean_squared_error(y_test, y_test_pred5, squared=False) \n",
    "print(f'rmse = {rmse:.2f}')"
   ]
  },
  {
   "cell_type": "code",
   "execution_count": 87,
   "metadata": {
    "scrolled": true
   },
   "outputs": [
    {
     "name": "stdout",
     "output_type": "stream",
     "text": [
      "rmse = 3211.44\n",
      "CPU times: user 206 ms, sys: 6.57 ms, total: 213 ms\n",
      "Wall time: 218 ms\n"
     ]
    }
   ],
   "source": [
    "%%time\n",
    "\n",
    "y_test_pred2 = oscv_all_add2.predict(X_test)\n",
    "rmse = mean_squared_error(y_test, y_test_pred2, squared=False) \n",
    "print(f'rmse = {rmse:.2f}')"
   ]
  },
  {
   "cell_type": "markdown",
   "metadata": {},
   "source": [
    "С LightGBM обработаем данные вручную. "
   ]
  },
  {
   "cell_type": "code",
   "execution_count": 88,
   "metadata": {},
   "outputs": [],
   "source": [
    "# делим датасет на выборки\n",
    "X2 = autos.drop(['price', 'brand_model'], axis=1)\n",
    "y2 = autos['price']\n",
    "X_train2, X_test2, y_train2, y_test2 = train_test_split(X2, y2, test_size=TEST_SIZE, random_state=RANDOM_STATE)\n",
    "\n",
    "\n",
    "#определяем количественные и категориальные значения \n",
    "cat_col_names = ['vehicle_type', 'gearbox', 'model', 'fuel_type', 'brand' ]\n",
    "col_names = ['registration_year', 'power', 'kilometer', 'registration_month', 'repaired_new']\n",
    "\n",
    "\n",
    "#кодируем категориальные признаки\n",
    "# выберем класс OneHotEncoder() для кодирования \n",
    "encoder = OrdinalEncoder(categories='auto', handle_unknown='use_encoded_value', unknown_value=np.nan)\n",
    "\n",
    "# обучаем и преобразовываем категориальные признаки из тренировочной выборки \n",
    "X_train_ohe = encoder.fit_transform(X_train2[cat_col_names])\n",
    "X_test_ohe = encoder.transform(X_test2[cat_col_names])\n",
    "\n",
    "# сохраним в переменной encoder_col_names названия новых столбцов \n",
    "encoder_col_names = encoder.get_feature_names_out()\n",
    "\n",
    "#масштабируем количественные признаки\n",
    "# создаем переменную с экземпляром класса StandartScaler()\n",
    "scaler = StandardScaler()\n",
    "\n",
    "# обучаем и преобразовываем количественные признаки из тренировочной выборки \n",
    "X_train_scaled = scaler.fit_transform(X_train2[col_names])\n",
    "X_test_scaled = scaler.transform(X_test2[col_names])\n",
    "\n",
    "\n",
    "# соберем все в один датафрейм\n",
    "\n",
    "X_train_ohe = pd.DataFrame(X_train_ohe, columns=encoder_col_names)\n",
    "X_test_ohe = pd.DataFrame(X_test_ohe, columns=encoder_col_names)\n",
    "\n",
    "X_train_scaled = pd.DataFrame(X_train_scaled, columns=col_names)\n",
    "X_test_scaled = pd.DataFrame(X_test_scaled, columns=col_names)\n",
    "\n",
    "\n",
    "X_train2 = pd.concat([X_train_ohe, X_train_scaled], axis=1)\n",
    "X_test2 = pd.concat([X_test_ohe, X_test_scaled], axis=1)\n",
    "\n"
   ]
  },
  {
   "cell_type": "code",
   "execution_count": 89,
   "metadata": {},
   "outputs": [],
   "source": [
    "lgb_model = LGBMRegressor()"
   ]
  },
  {
   "cell_type": "code",
   "execution_count": 90,
   "metadata": {},
   "outputs": [
    {
     "name": "stdout",
     "output_type": "stream",
     "text": [
      "Лучшая модель и её параметры:\n",
      "\n",
      " LGBMRegressor(max_depth=11, n_estimators=1100)\n",
      "CPU times: user 11min 41s, sys: 0 ns, total: 11min 41s\n",
      "Wall time: 11min 46s\n"
     ]
    }
   ],
   "source": [
    "\n",
    "%%time\n",
    "\n",
    "lgbm_params = {\"n_estimators\": [1000, 1100],\n",
    "               \"max_depth\": [5, 11]\n",
    "              }\n",
    "grid5 = GridSearchCV(lgb_model,\n",
    "                             lgbm_params,\n",
    "                             cv=4,\n",
    "                             scoring = 'neg_root_mean_squared_error',\n",
    "                             n_jobs=-1,\n",
    "                             verbose=False)\n",
    "\n",
    "grid5.fit(X_train2, y_train2)\n",
    "\n",
    "\n",
    "\n",
    "print('Лучшая модель и её параметры:\\n\\n', grid5.best_estimator_)"
   ]
  },
  {
   "cell_type": "code",
   "execution_count": 91,
   "metadata": {},
   "outputs": [
    {
     "name": "stdout",
     "output_type": "stream",
     "text": [
      "rmse = 1572.19\n",
      "CPU times: user 7.28 s, sys: 0 ns, total: 7.28 s\n",
      "Wall time: 7.26 s\n"
     ]
    }
   ],
   "source": [
    "%%time\n",
    "\n",
    "y_test_pred4 = grid5.predict(X_test2)\n",
    "rmse = mean_squared_error(y_test, y_test_pred4, squared=False) \n",
    "print(f'rmse = {rmse:.2f}')"
   ]
  },
  {
   "cell_type": "code",
   "execution_count": 92,
   "metadata": {},
   "outputs": [
    {
     "name": "stdout",
     "output_type": "stream",
     "text": [
      "Лучшая модель и её качество: 1583.6640344353873\n"
     ]
    }
   ],
   "source": [
    "print('Лучшая модель и её качество:', -grid5.best_score_)"
   ]
  },
  {
   "cell_type": "code",
   "execution_count": 93,
   "metadata": {},
   "outputs": [
    {
     "data": {
      "text/plain": [
       "42.96034479141235"
      ]
     },
     "execution_count": 93,
     "metadata": {},
     "output_type": "execute_result"
    }
   ],
   "source": [
    "grid5.refit_time_"
   ]
  },
  {
   "cell_type": "markdown",
   "metadata": {},
   "source": [
    "## Анализ моделей"
   ]
  },
  {
   "cell_type": "code",
   "execution_count": 100,
   "metadata": {},
   "outputs": [
    {
     "data": {
      "text/html": [
       "<div>\n",
       "<style scoped>\n",
       "    .dataframe tbody tr th:only-of-type {\n",
       "        vertical-align: middle;\n",
       "    }\n",
       "\n",
       "    .dataframe tbody tr th {\n",
       "        vertical-align: top;\n",
       "    }\n",
       "\n",
       "    .dataframe thead th {\n",
       "        text-align: right;\n",
       "    }\n",
       "</style>\n",
       "<table border=\"1\" class=\"dataframe\">\n",
       "  <thead>\n",
       "    <tr style=\"text-align: right;\">\n",
       "      <th></th>\n",
       "      <th>Модель</th>\n",
       "      <th>Wall time на обучении</th>\n",
       "      <th>refit_time_</th>\n",
       "      <th>Wall time на предсказании</th>\n",
       "      <th>best_score_ на обучении</th>\n",
       "      <th>rmse на тестовых данных</th>\n",
       "    </tr>\n",
       "  </thead>\n",
       "  <tbody>\n",
       "    <tr>\n",
       "      <th>0</th>\n",
       "      <td>LinearRegression</td>\n",
       "      <td>4min 46s</td>\n",
       "      <td>26.80</td>\n",
       "      <td>400 ms</td>\n",
       "      <td>2931.10</td>\n",
       "      <td>2915.84</td>\n",
       "    </tr>\n",
       "    <tr>\n",
       "      <th>1</th>\n",
       "      <td>DecisionTreeRegressor с OHE</td>\n",
       "      <td>1min 23s</td>\n",
       "      <td>0.68</td>\n",
       "      <td>219 ms</td>\n",
       "      <td>3520.60</td>\n",
       "      <td>3211.44</td>\n",
       "    </tr>\n",
       "    <tr>\n",
       "      <th>2</th>\n",
       "      <td>DecisionTreeRegressor с ORD</td>\n",
       "      <td>1min 48s</td>\n",
       "      <td>1.23</td>\n",
       "      <td>199 ms</td>\n",
       "      <td>1936.40</td>\n",
       "      <td>1931.77</td>\n",
       "    </tr>\n",
       "    <tr>\n",
       "      <th>3</th>\n",
       "      <td>LGBMRegressor</td>\n",
       "      <td>12min 28s</td>\n",
       "      <td>41.20</td>\n",
       "      <td>7.31 s</td>\n",
       "      <td>1583.70</td>\n",
       "      <td>1572.19</td>\n",
       "    </tr>\n",
       "  </tbody>\n",
       "</table>\n",
       "</div>"
      ],
      "text/plain": [
       "                        Модель Wall time на обучении  refit_time_  \\\n",
       "0             LinearRegression              4min 46s        26.80   \n",
       "1  DecisionTreeRegressor с OHE              1min 23s         0.68   \n",
       "2  DecisionTreeRegressor с ORD              1min 48s         1.23   \n",
       "3                LGBMRegressor             12min 28s        41.20   \n",
       "\n",
       "  Wall time на предсказании  best_score_ на обучении  rmse на тестовых данных  \n",
       "0                    400 ms                  2931.10                  2915.84  \n",
       "1                    219 ms                  3520.60                  3211.44  \n",
       "2                    199 ms                  1936.40                  1931.77  \n",
       "3                    7.31 s                  1583.70                  1572.19  "
      ]
     },
     "execution_count": 100,
     "metadata": {},
     "output_type": "execute_result"
    }
   ],
   "source": [
    "df = pd.DataFrame({'Модель': ['LinearRegression', 'DecisionTreeRegressor с OHE', \n",
    "                              'DecisionTreeRegressor с ORD', 'LGBMRegressor'],\n",
    "                   'Wall time на обучении': ['4min 46s', '1min 23s', '1min 48s', '12min 28s'],\n",
    "                   'refit_time_': [26.8, 0.68, 1.23, 41.2],\n",
    "                   'Wall time на предсказании': ['400 ms', '219 ms', '199 ms', '7.31 s'],\n",
    "                   'best_score_ на обучении': [2931.1, 3520.6,  1936.4, 1583.7],\n",
    "                   'rmse на тестовых данных': [2915.84, 3211.44, 1931.77, 1572.19]                 \n",
    "                  })\n",
    "\n",
    "df"
   ]
  },
  {
   "cell_type": "markdown",
   "metadata": {},
   "source": [
    "Для сравнения представлены четыре модели:\n",
    "1. LinearRegression\n",
    "2. DecisionTreeRegressor с OHE\n",
    "3. DecisionTreeRegressor с ORD\n",
    "4. LGBMRegressor\n",
    "\n",
    "\n",
    "Исходя из предоставленных заказчиков вводных, по качеству проходят DecisionTreeRegressor с ORD и LightGBM. Однако DecisionTreeRegressor с ORD в разы быстрее учится и значительно быстрее выдает результат предсказаний. Предлагаю остановиться на DecisionTreeRegressor с ORD. Если же важнее улучшение качества за счет скорости, лучше выбрать LGBMRegressor.\n"
   ]
  },
  {
   "cell_type": "markdown",
   "metadata": {},
   "source": [
    "## Общий вывод"
   ]
  },
  {
   "cell_type": "markdown",
   "metadata": {},
   "source": [
    "1. На этапе загрузки выявлены проблемы:\n",
    "* в данных много пропусков, \n",
    "* есть полные дубли, \n",
    "* есть несоответствие в типах данных.\n",
    "2. Проблемы в данных устранены следующими методами:\n",
    "* данные в столбце repaired приведены к типу 1/0;\n",
    "* пропуски в столбце repaired заменены на 0 с предположением, что если данные о ремонте не заполнены, то ремонта не было;\n",
    "* проспуски в vehicle_type заполнены заглушкой \"unknown\";\n",
    "* пропуски в gearbox и fuel_type заполнены модой для сочетания бренд/модель;\n",
    "* пропуски в модели удалены, т.к. значения в этом столбце влияют на качество заполнения пропусков в прочих;\n",
    "* удалены неинформативные столбцы: repaired, date_crawled, date_created, number_of_pictures, postal_code, lastseen.\n",
    "3. При исследовательнском анализе данных выявлено:\n",
    "* Пик цены около 0. Удалены машины стоимостью менее 50 евро;\n",
    "* Год регистрации чаще всего - 2000. Удалены значения старше 2024г;\n",
    "* Лошадиные силы тоже показывают пик около 0. Нулевые значения заменены на моду по бренду+модели. Удалены оставшиеся значения менее 10 л.с.;\n",
    "* Чаще всего встречаются машины с пробегом, хотя новые тоже есть;\n",
    "4. При корреляционно анализе выявлено:\n",
    "* целевой признак коррелирует с моделью (и бренд+модель, соответственно) больше всего;\n",
    "* мощность и километраж тоже оказывают влияние на цену.\n",
    "5. Для сравнения представлены четыре модели:\n",
    "* LinearRegression\n",
    "* DecisionTreeRegressor с OHE\n",
    "* DecisionTreeRegressor с ORD\n",
    "* LGBMRegressor\n",
    "\n",
    "Исходя из предоставленных заказчиков вводных, по качеству проходят DecisionTreeRegressor с ORD и LightGBM. Однако DecisionTreeRegressor с ORD в разы быстрее учится и значительно быстрее выдает результат предсказаний. Предлагаю остановиться на DecisionTreeRegressor с ORD. Если же важнее улучшение качества за счет скорости, лучше выбрать LGBMRegressor."
   ]
  }
 ],
 "metadata": {
  "ExecuteTimeLog": [
   {
    "duration": 1340,
    "start_time": "2024-02-10T07:32:45.175Z"
   },
   {
    "duration": 1146,
    "start_time": "2024-02-10T07:33:56.131Z"
   },
   {
    "duration": 21,
    "start_time": "2024-02-10T07:34:04.087Z"
   },
   {
    "duration": 4,
    "start_time": "2024-02-10T07:34:23.516Z"
   },
   {
    "duration": 3,
    "start_time": "2024-02-10T07:34:31.604Z"
   },
   {
    "duration": 99,
    "start_time": "2024-02-10T07:34:45.808Z"
   },
   {
    "duration": 1218,
    "start_time": "2024-02-10T07:34:56.032Z"
   },
   {
    "duration": 2,
    "start_time": "2024-02-10T07:45:25.967Z"
   },
   {
    "duration": 4,
    "start_time": "2024-02-10T07:49:04.664Z"
   },
   {
    "duration": 7,
    "start_time": "2024-02-10T07:49:47.198Z"
   },
   {
    "duration": 4,
    "start_time": "2024-02-10T07:51:43.266Z"
   },
   {
    "duration": 8,
    "start_time": "2024-02-10T07:51:54.362Z"
   },
   {
    "duration": 5,
    "start_time": "2024-02-10T07:52:00.644Z"
   },
   {
    "duration": 3,
    "start_time": "2024-02-10T07:52:07.635Z"
   },
   {
    "duration": 4,
    "start_time": "2024-02-10T07:52:12.259Z"
   },
   {
    "duration": 56,
    "start_time": "2024-02-10T07:55:09.292Z"
   },
   {
    "duration": 4,
    "start_time": "2024-02-10T07:55:20.554Z"
   },
   {
    "duration": 191,
    "start_time": "2024-02-10T07:58:27.380Z"
   },
   {
    "duration": 2427,
    "start_time": "2024-02-10T08:02:40.592Z"
   },
   {
    "duration": 19,
    "start_time": "2024-02-10T08:02:48.127Z"
   },
   {
    "duration": 4625,
    "start_time": "2024-02-10T08:05:59.436Z"
   },
   {
    "duration": 4452,
    "start_time": "2024-02-10T08:06:29.625Z"
   },
   {
    "duration": 11,
    "start_time": "2024-02-10T08:10:12.029Z"
   },
   {
    "duration": 8,
    "start_time": "2024-02-10T08:10:16.636Z"
   },
   {
    "duration": 92,
    "start_time": "2024-02-10T08:15:52.421Z"
   },
   {
    "duration": 44,
    "start_time": "2024-02-10T08:16:28.758Z"
   },
   {
    "duration": 40,
    "start_time": "2024-02-10T08:16:37.378Z"
   },
   {
    "duration": 2161,
    "start_time": "2024-02-10T08:18:48.960Z"
   },
   {
    "duration": 13,
    "start_time": "2024-02-10T08:18:51.122Z"
   },
   {
    "duration": 4378,
    "start_time": "2024-02-10T08:18:52.799Z"
   },
   {
    "duration": 61,
    "start_time": "2024-02-10T08:20:17.029Z"
   },
   {
    "duration": 60,
    "start_time": "2024-02-10T08:21:36.902Z"
   },
   {
    "duration": 71,
    "start_time": "2024-02-10T08:22:02.183Z"
   },
   {
    "duration": 59,
    "start_time": "2024-02-10T08:22:18.247Z"
   },
   {
    "duration": 59,
    "start_time": "2024-02-10T08:22:38.395Z"
   },
   {
    "duration": 7,
    "start_time": "2024-02-10T08:26:16.102Z"
   },
   {
    "duration": 20,
    "start_time": "2024-02-10T08:26:27.079Z"
   },
   {
    "duration": 27,
    "start_time": "2024-02-10T08:26:41.925Z"
   },
   {
    "duration": 17,
    "start_time": "2024-02-10T08:26:54.055Z"
   },
   {
    "duration": 2201,
    "start_time": "2024-02-10T08:31:03.128Z"
   },
   {
    "duration": 94,
    "start_time": "2024-02-10T08:32:18.161Z"
   },
   {
    "duration": 92,
    "start_time": "2024-02-10T08:32:24.293Z"
   },
   {
    "duration": 142,
    "start_time": "2024-02-10T08:32:38.601Z"
   },
   {
    "duration": 12918,
    "start_time": "2024-02-10T08:32:52.666Z"
   },
   {
    "duration": 31,
    "start_time": "2024-02-10T08:35:31.468Z"
   },
   {
    "duration": 17,
    "start_time": "2024-02-10T08:35:47.096Z"
   },
   {
    "duration": 148,
    "start_time": "2024-02-10T08:35:54.928Z"
   },
   {
    "duration": 77,
    "start_time": "2024-02-10T08:37:58.626Z"
   },
   {
    "duration": 63,
    "start_time": "2024-02-10T08:38:13.585Z"
   },
   {
    "duration": 1087,
    "start_time": "2024-02-10T08:38:22.772Z"
   },
   {
    "duration": 834,
    "start_time": "2024-02-10T08:38:23.860Z"
   },
   {
    "duration": 16,
    "start_time": "2024-02-10T08:38:24.695Z"
   },
   {
    "duration": 4,
    "start_time": "2024-02-10T08:38:24.713Z"
   },
   {
    "duration": 2,
    "start_time": "2024-02-10T08:38:24.733Z"
   },
   {
    "duration": 1198,
    "start_time": "2024-02-10T08:38:24.737Z"
   },
   {
    "duration": 56,
    "start_time": "2024-02-10T08:38:25.937Z"
   },
   {
    "duration": 4,
    "start_time": "2024-02-10T08:38:25.994Z"
   },
   {
    "duration": 206,
    "start_time": "2024-02-10T08:38:26.000Z"
   },
   {
    "duration": 2147,
    "start_time": "2024-02-10T08:38:26.208Z"
   },
   {
    "duration": 13,
    "start_time": "2024-02-10T08:38:28.357Z"
   },
   {
    "duration": 4474,
    "start_time": "2024-02-10T08:38:28.372Z"
   },
   {
    "duration": 65,
    "start_time": "2024-02-10T08:38:32.848Z"
   },
   {
    "duration": 73,
    "start_time": "2024-02-10T08:38:32.916Z"
   },
   {
    "duration": 20,
    "start_time": "2024-02-10T08:38:32.991Z"
   },
   {
    "duration": 35,
    "start_time": "2024-02-10T08:38:33.013Z"
   },
   {
    "duration": 35,
    "start_time": "2024-02-10T08:38:33.049Z"
   },
   {
    "duration": 73,
    "start_time": "2024-02-10T08:38:33.085Z"
   },
   {
    "duration": 102,
    "start_time": "2024-02-10T08:38:33.160Z"
   },
   {
    "duration": 15491,
    "start_time": "2024-02-10T08:38:33.264Z"
   },
   {
    "duration": 17,
    "start_time": "2024-02-10T08:38:52.759Z"
   },
   {
    "duration": 15411,
    "start_time": "2024-02-10T08:43:57.428Z"
   },
   {
    "duration": 17,
    "start_time": "2024-02-10T08:44:15.464Z"
   },
   {
    "duration": 3,
    "start_time": "2024-02-10T08:44:28.931Z"
   },
   {
    "duration": 114,
    "start_time": "2024-02-10T08:44:31.148Z"
   },
   {
    "duration": 48,
    "start_time": "2024-02-10T08:45:08.056Z"
   },
   {
    "duration": 35,
    "start_time": "2024-02-10T08:45:34.727Z"
   },
   {
    "duration": 15760,
    "start_time": "2024-02-10T08:46:01.953Z"
   },
   {
    "duration": 19,
    "start_time": "2024-02-10T08:46:18.709Z"
   },
   {
    "duration": 19902,
    "start_time": "2024-02-10T09:04:23.563Z"
   },
   {
    "duration": 17,
    "start_time": "2024-02-10T09:04:46.059Z"
   },
   {
    "duration": 28,
    "start_time": "2024-02-10T09:05:08.808Z"
   },
   {
    "duration": 27,
    "start_time": "2024-02-10T09:06:06.174Z"
   },
   {
    "duration": 2770,
    "start_time": "2024-02-10T09:06:25.553Z"
   },
   {
    "duration": 16,
    "start_time": "2024-02-10T09:06:33.570Z"
   },
   {
    "duration": 2305,
    "start_time": "2024-02-10T09:06:45.700Z"
   },
   {
    "duration": 18,
    "start_time": "2024-02-10T09:06:49.104Z"
   },
   {
    "duration": 24,
    "start_time": "2024-02-10T09:06:55.384Z"
   },
   {
    "duration": 37,
    "start_time": "2024-02-10T09:07:09.453Z"
   },
   {
    "duration": 46,
    "start_time": "2024-02-10T09:07:17.290Z"
   },
   {
    "duration": 2138,
    "start_time": "2024-02-10T09:09:20.743Z"
   },
   {
    "duration": 30,
    "start_time": "2024-02-10T09:09:24.223Z"
   },
   {
    "duration": 1139,
    "start_time": "2024-02-10T09:09:43.609Z"
   },
   {
    "duration": 827,
    "start_time": "2024-02-10T09:09:44.750Z"
   },
   {
    "duration": 15,
    "start_time": "2024-02-10T09:09:45.579Z"
   },
   {
    "duration": 26,
    "start_time": "2024-02-10T09:09:45.595Z"
   },
   {
    "duration": 28,
    "start_time": "2024-02-10T09:09:45.624Z"
   },
   {
    "duration": 1244,
    "start_time": "2024-02-10T09:09:45.653Z"
   },
   {
    "duration": 63,
    "start_time": "2024-02-10T09:09:46.898Z"
   },
   {
    "duration": 3,
    "start_time": "2024-02-10T09:09:46.963Z"
   },
   {
    "duration": 223,
    "start_time": "2024-02-10T09:09:46.967Z"
   },
   {
    "duration": 2191,
    "start_time": "2024-02-10T09:09:47.192Z"
   },
   {
    "duration": 12,
    "start_time": "2024-02-10T09:09:49.385Z"
   },
   {
    "duration": 4606,
    "start_time": "2024-02-10T09:09:49.398Z"
   },
   {
    "duration": 60,
    "start_time": "2024-02-10T09:09:54.006Z"
   },
   {
    "duration": 75,
    "start_time": "2024-02-10T09:09:54.069Z"
   },
   {
    "duration": 22,
    "start_time": "2024-02-10T09:09:54.146Z"
   },
   {
    "duration": 40,
    "start_time": "2024-02-10T09:09:54.169Z"
   },
   {
    "duration": 40,
    "start_time": "2024-02-10T09:09:54.211Z"
   },
   {
    "duration": 60,
    "start_time": "2024-02-10T09:09:54.253Z"
   },
   {
    "duration": 100,
    "start_time": "2024-02-10T09:09:54.315Z"
   },
   {
    "duration": 22650,
    "start_time": "2024-02-10T09:09:54.417Z"
   },
   {
    "duration": 19,
    "start_time": "2024-02-10T09:10:17.068Z"
   },
   {
    "duration": 2283,
    "start_time": "2024-02-10T09:10:17.089Z"
   },
   {
    "duration": 29,
    "start_time": "2024-02-10T09:10:19.374Z"
   },
   {
    "duration": 40,
    "start_time": "2024-02-10T09:10:19.404Z"
   },
   {
    "duration": 51,
    "start_time": "2024-02-10T09:10:19.446Z"
   },
   {
    "duration": 36,
    "start_time": "2024-02-10T09:10:44.266Z"
   },
   {
    "duration": 46,
    "start_time": "2024-02-10T09:11:01.020Z"
   },
   {
    "duration": 32,
    "start_time": "2024-02-10T09:11:13.277Z"
   },
   {
    "duration": 23,
    "start_time": "2024-02-10T09:11:19.042Z"
   },
   {
    "duration": 24,
    "start_time": "2024-02-10T09:11:27.520Z"
   },
   {
    "duration": 25,
    "start_time": "2024-02-10T09:11:32.249Z"
   },
   {
    "duration": 23,
    "start_time": "2024-02-10T09:11:39.065Z"
   },
   {
    "duration": 73,
    "start_time": "2024-02-10T09:12:08.486Z"
   },
   {
    "duration": 31,
    "start_time": "2024-02-10T09:12:14.918Z"
   },
   {
    "duration": 55,
    "start_time": "2024-02-10T09:12:44.701Z"
   },
   {
    "duration": 18,
    "start_time": "2024-02-10T09:12:46.310Z"
   },
   {
    "duration": 74,
    "start_time": "2024-02-10T09:13:01.151Z"
   },
   {
    "duration": 96,
    "start_time": "2024-02-10T09:13:05.573Z"
   },
   {
    "duration": 46,
    "start_time": "2024-02-10T09:13:16.823Z"
   },
   {
    "duration": 40,
    "start_time": "2024-02-10T09:13:28.206Z"
   },
   {
    "duration": 38,
    "start_time": "2024-02-10T09:13:36.938Z"
   },
   {
    "duration": 18,
    "start_time": "2024-02-10T09:13:42.980Z"
   },
   {
    "duration": 42,
    "start_time": "2024-02-10T09:13:50.899Z"
   },
   {
    "duration": 39,
    "start_time": "2024-02-10T09:14:06.028Z"
   },
   {
    "duration": 40,
    "start_time": "2024-02-10T09:14:12.219Z"
   },
   {
    "duration": 30,
    "start_time": "2024-02-10T09:14:17.772Z"
   },
   {
    "duration": 59,
    "start_time": "2024-02-10T09:14:25.347Z"
   },
   {
    "duration": 55,
    "start_time": "2024-02-10T09:14:34.301Z"
   },
   {
    "duration": 17,
    "start_time": "2024-02-10T09:14:46.465Z"
   },
   {
    "duration": 44,
    "start_time": "2024-02-10T09:14:53.472Z"
   },
   {
    "duration": 60,
    "start_time": "2024-02-10T09:15:20.597Z"
   },
   {
    "duration": 76,
    "start_time": "2024-02-10T09:15:35.608Z"
   },
   {
    "duration": 36,
    "start_time": "2024-02-10T09:15:58.790Z"
   },
   {
    "duration": 34,
    "start_time": "2024-02-10T09:16:05.005Z"
   },
   {
    "duration": 16,
    "start_time": "2024-02-10T09:16:20.309Z"
   },
   {
    "duration": 44,
    "start_time": "2024-02-10T09:16:29.946Z"
   },
   {
    "duration": 43,
    "start_time": "2024-02-10T09:16:34.826Z"
   },
   {
    "duration": 97,
    "start_time": "2024-02-10T09:16:51.826Z"
   },
   {
    "duration": 4,
    "start_time": "2024-02-10T09:16:54.911Z"
   },
   {
    "duration": 2741,
    "start_time": "2024-02-10T09:17:03.362Z"
   },
   {
    "duration": 17,
    "start_time": "2024-02-10T09:17:07.559Z"
   },
   {
    "duration": 2893,
    "start_time": "2024-02-10T09:17:28.506Z"
   },
   {
    "duration": 18,
    "start_time": "2024-02-10T09:17:36.574Z"
   },
   {
    "duration": 129,
    "start_time": "2024-02-10T09:17:53.349Z"
   },
   {
    "duration": 28,
    "start_time": "2024-02-10T09:17:56.779Z"
   },
   {
    "duration": 81,
    "start_time": "2024-02-10T09:18:04.353Z"
   },
   {
    "duration": 17,
    "start_time": "2024-02-10T09:18:04.978Z"
   },
   {
    "duration": 54,
    "start_time": "2024-02-10T09:18:18.098Z"
   },
   {
    "duration": 82,
    "start_time": "2024-02-10T09:18:56.375Z"
   },
   {
    "duration": 82,
    "start_time": "2024-02-10T09:19:10.792Z"
   },
   {
    "duration": 108,
    "start_time": "2024-02-10T09:19:45.437Z"
   },
   {
    "duration": 3019,
    "start_time": "2024-02-10T09:20:03.523Z"
   },
   {
    "duration": 17,
    "start_time": "2024-02-10T09:20:06.544Z"
   },
   {
    "duration": 1514,
    "start_time": "2024-02-10T09:20:13.508Z"
   },
   {
    "duration": 17,
    "start_time": "2024-02-10T09:20:16.137Z"
   },
   {
    "duration": 37,
    "start_time": "2024-02-10T09:20:24.280Z"
   },
   {
    "duration": 1306,
    "start_time": "2024-02-10T09:20:28.416Z"
   },
   {
    "duration": 38,
    "start_time": "2024-02-10T09:20:33.581Z"
   },
   {
    "duration": 1764,
    "start_time": "2024-02-10T09:20:46.016Z"
   },
   {
    "duration": 1952,
    "start_time": "2024-02-10T09:21:45.970Z"
   },
   {
    "duration": 17,
    "start_time": "2024-02-10T09:21:48.578Z"
   },
   {
    "duration": 1157,
    "start_time": "2024-02-10T09:22:55.589Z"
   },
   {
    "duration": 817,
    "start_time": "2024-02-10T09:22:56.748Z"
   },
   {
    "duration": 14,
    "start_time": "2024-02-10T09:22:57.567Z"
   },
   {
    "duration": 4,
    "start_time": "2024-02-10T09:22:57.583Z"
   },
   {
    "duration": 9,
    "start_time": "2024-02-10T09:22:57.590Z"
   },
   {
    "duration": 1211,
    "start_time": "2024-02-10T09:22:57.600Z"
   },
   {
    "duration": 64,
    "start_time": "2024-02-10T09:22:58.813Z"
   },
   {
    "duration": 3,
    "start_time": "2024-02-10T09:22:58.879Z"
   },
   {
    "duration": 209,
    "start_time": "2024-02-10T09:22:58.884Z"
   },
   {
    "duration": 2172,
    "start_time": "2024-02-10T09:22:59.095Z"
   },
   {
    "duration": 12,
    "start_time": "2024-02-10T09:23:01.268Z"
   },
   {
    "duration": 4661,
    "start_time": "2024-02-10T09:23:01.282Z"
   },
   {
    "duration": 56,
    "start_time": "2024-02-10T09:23:05.944Z"
   },
   {
    "duration": 72,
    "start_time": "2024-02-10T09:23:06.003Z"
   },
   {
    "duration": 21,
    "start_time": "2024-02-10T09:23:06.077Z"
   },
   {
    "duration": 40,
    "start_time": "2024-02-10T09:23:06.100Z"
   },
   {
    "duration": 33,
    "start_time": "2024-02-10T09:23:06.142Z"
   },
   {
    "duration": 79,
    "start_time": "2024-02-10T09:23:06.176Z"
   },
   {
    "duration": 96,
    "start_time": "2024-02-10T09:23:06.256Z"
   },
   {
    "duration": 20475,
    "start_time": "2024-02-10T09:23:06.354Z"
   },
   {
    "duration": 22,
    "start_time": "2024-02-10T09:23:26.831Z"
   },
   {
    "duration": 2010,
    "start_time": "2024-02-10T09:23:26.855Z"
   },
   {
    "duration": 17,
    "start_time": "2024-02-10T09:23:28.866Z"
   },
   {
    "duration": 31,
    "start_time": "2024-02-10T09:23:28.885Z"
   },
   {
    "duration": 28,
    "start_time": "2024-02-10T09:23:28.917Z"
   },
   {
    "duration": 23,
    "start_time": "2024-02-10T09:23:28.946Z"
   },
   {
    "duration": 72,
    "start_time": "2024-02-10T09:23:28.970Z"
   },
   {
    "duration": 17,
    "start_time": "2024-02-10T09:23:29.043Z"
   },
   {
    "duration": 88,
    "start_time": "2024-02-10T09:23:29.061Z"
   },
   {
    "duration": 17,
    "start_time": "2024-02-10T09:23:29.150Z"
   },
   {
    "duration": 1289,
    "start_time": "2024-02-10T09:23:29.168Z"
   },
   {
    "duration": 19389,
    "start_time": "2024-02-10T09:24:35.372Z"
   },
   {
    "duration": 17,
    "start_time": "2024-02-10T09:24:56.713Z"
   },
   {
    "duration": 2721,
    "start_time": "2024-02-10T09:25:34.677Z"
   },
   {
    "duration": 17,
    "start_time": "2024-02-10T09:25:40.443Z"
   },
   {
    "duration": 118,
    "start_time": "2024-02-10T09:27:53.752Z"
   },
   {
    "duration": 122,
    "start_time": "2024-02-10T09:27:57.460Z"
   },
   {
    "duration": 1250,
    "start_time": "2024-02-10T09:28:48.185Z"
   },
   {
    "duration": 53,
    "start_time": "2024-02-10T09:29:03.781Z"
   },
   {
    "duration": 27,
    "start_time": "2024-02-10T09:29:10.203Z"
   },
   {
    "duration": 19816,
    "start_time": "2024-02-10T09:29:38.425Z"
   },
   {
    "duration": 29,
    "start_time": "2024-02-10T09:29:59.827Z"
   },
   {
    "duration": 327,
    "start_time": "2024-02-10T09:39:58.945Z"
   },
   {
    "duration": 55,
    "start_time": "2024-02-10T09:40:09.836Z"
   },
   {
    "duration": 60,
    "start_time": "2024-02-10T09:40:42.792Z"
   },
   {
    "duration": 3,
    "start_time": "2024-02-10T09:51:15.674Z"
   },
   {
    "duration": 11,
    "start_time": "2024-02-10T09:51:51.245Z"
   },
   {
    "duration": 5,
    "start_time": "2024-02-10T09:52:06.458Z"
   },
   {
    "duration": 4,
    "start_time": "2024-02-10T09:52:16.897Z"
   },
   {
    "duration": 20,
    "start_time": "2024-02-10T09:52:40.271Z"
   },
   {
    "duration": 11,
    "start_time": "2024-02-10T09:53:10.437Z"
   },
   {
    "duration": 82,
    "start_time": "2024-02-10T09:53:15.597Z"
   },
   {
    "duration": 8,
    "start_time": "2024-02-10T10:00:47.491Z"
   },
   {
    "duration": 15,
    "start_time": "2024-02-10T10:00:53.211Z"
   },
   {
    "duration": 21,
    "start_time": "2024-02-10T10:01:25.579Z"
   },
   {
    "duration": 44,
    "start_time": "2024-02-10T10:01:30.926Z"
   },
   {
    "duration": 18,
    "start_time": "2024-02-10T10:01:40.763Z"
   },
   {
    "duration": 42,
    "start_time": "2024-02-10T10:01:49.151Z"
   },
   {
    "duration": 17,
    "start_time": "2024-02-10T10:01:50.379Z"
   },
   {
    "duration": 47,
    "start_time": "2024-02-10T10:02:15.640Z"
   },
   {
    "duration": 23,
    "start_time": "2024-02-10T10:02:39.052Z"
   },
   {
    "duration": 43,
    "start_time": "2024-02-10T10:02:50.793Z"
   },
   {
    "duration": 49,
    "start_time": "2024-02-10T10:03:13.762Z"
   },
   {
    "duration": 17,
    "start_time": "2024-02-10T10:03:20.884Z"
   },
   {
    "duration": 27,
    "start_time": "2024-02-10T10:41:45.196Z"
   },
   {
    "duration": 28,
    "start_time": "2024-02-10T10:41:56.947Z"
   },
   {
    "duration": 18,
    "start_time": "2024-02-10T10:42:00.796Z"
   },
   {
    "duration": 107,
    "start_time": "2024-02-10T10:43:24.268Z"
   },
   {
    "duration": 137,
    "start_time": "2024-02-10T10:44:08.880Z"
   },
   {
    "duration": 23,
    "start_time": "2024-02-10T10:45:28.818Z"
   },
   {
    "duration": 19,
    "start_time": "2024-02-10T10:45:50.197Z"
   },
   {
    "duration": 133,
    "start_time": "2024-02-10T10:45:54.353Z"
   },
   {
    "duration": 740,
    "start_time": "2024-02-10T10:49:02.866Z"
   },
   {
    "duration": 29,
    "start_time": "2024-02-10T10:49:22.144Z"
   },
   {
    "duration": 3,
    "start_time": "2024-02-10T10:49:28.503Z"
   },
   {
    "duration": 2170,
    "start_time": "2024-02-10T10:49:33.899Z"
   },
   {
    "duration": 20,
    "start_time": "2024-02-10T10:49:44.788Z"
   },
   {
    "duration": 17,
    "start_time": "2024-02-10T10:49:47.992Z"
   },
   {
    "duration": 30,
    "start_time": "2024-02-10T10:49:50.406Z"
   },
   {
    "duration": 82,
    "start_time": "2024-02-10T10:49:52.731Z"
   },
   {
    "duration": 51,
    "start_time": "2024-02-10T10:50:04.603Z"
   },
   {
    "duration": 170,
    "start_time": "2024-02-10T10:50:10.872Z"
   },
   {
    "duration": 1303,
    "start_time": "2024-02-10T10:52:08.834Z"
   },
   {
    "duration": 19878,
    "start_time": "2024-02-10T10:52:20.745Z"
   },
   {
    "duration": 18,
    "start_time": "2024-02-10T10:52:42.233Z"
   },
   {
    "duration": 19517,
    "start_time": "2024-02-10T10:54:30.599Z"
   },
   {
    "duration": 18,
    "start_time": "2024-02-10T10:54:52.838Z"
   },
   {
    "duration": 142,
    "start_time": "2024-02-10T10:55:08.534Z"
   },
   {
    "duration": 1131,
    "start_time": "2024-02-10T10:55:14.410Z"
   },
   {
    "duration": 840,
    "start_time": "2024-02-10T10:55:15.544Z"
   },
   {
    "duration": 16,
    "start_time": "2024-02-10T10:55:16.385Z"
   },
   {
    "duration": 4,
    "start_time": "2024-02-10T10:55:16.402Z"
   },
   {
    "duration": 4,
    "start_time": "2024-02-10T10:55:16.408Z"
   },
   {
    "duration": 1220,
    "start_time": "2024-02-10T10:55:16.413Z"
   },
   {
    "duration": 54,
    "start_time": "2024-02-10T10:55:17.635Z"
   },
   {
    "duration": 4,
    "start_time": "2024-02-10T10:55:17.691Z"
   },
   {
    "duration": 206,
    "start_time": "2024-02-10T10:55:17.696Z"
   },
   {
    "duration": 2152,
    "start_time": "2024-02-10T10:55:17.904Z"
   },
   {
    "duration": 12,
    "start_time": "2024-02-10T10:55:20.058Z"
   },
   {
    "duration": 4408,
    "start_time": "2024-02-10T10:55:20.072Z"
   },
   {
    "duration": 84,
    "start_time": "2024-02-10T10:55:24.481Z"
   },
   {
    "duration": 19,
    "start_time": "2024-02-10T10:55:24.567Z"
   },
   {
    "duration": 17,
    "start_time": "2024-02-10T10:55:24.588Z"
   },
   {
    "duration": 43,
    "start_time": "2024-02-10T10:55:24.606Z"
   },
   {
    "duration": 54,
    "start_time": "2024-02-10T10:55:24.650Z"
   },
   {
    "duration": 227,
    "start_time": "2024-02-10T10:55:24.705Z"
   },
   {
    "duration": 101,
    "start_time": "2024-02-10T10:55:24.933Z"
   },
   {
    "duration": 0,
    "start_time": "2024-02-10T10:55:25.035Z"
   },
   {
    "duration": 0,
    "start_time": "2024-02-10T10:55:25.037Z"
   },
   {
    "duration": 0,
    "start_time": "2024-02-10T10:55:25.038Z"
   },
   {
    "duration": 0,
    "start_time": "2024-02-10T10:55:25.039Z"
   },
   {
    "duration": 19859,
    "start_time": "2024-02-10T10:55:54.542Z"
   },
   {
    "duration": 17,
    "start_time": "2024-02-10T10:56:14.403Z"
   },
   {
    "duration": 19455,
    "start_time": "2024-02-10T10:56:14.421Z"
   },
   {
    "duration": 17,
    "start_time": "2024-02-10T10:56:33.878Z"
   },
   {
    "duration": 153,
    "start_time": "2024-02-10T10:56:33.896Z"
   },
   {
    "duration": 67,
    "start_time": "2024-02-10T10:57:03.112Z"
   },
   {
    "duration": 36,
    "start_time": "2024-02-10T11:01:48.339Z"
   },
   {
    "duration": 29,
    "start_time": "2024-02-10T11:01:52.168Z"
   },
   {
    "duration": 24,
    "start_time": "2024-02-10T11:01:57.739Z"
   },
   {
    "duration": 9,
    "start_time": "2024-02-10T11:02:02.376Z"
   },
   {
    "duration": 8,
    "start_time": "2024-02-10T11:05:06.294Z"
   },
   {
    "duration": 93,
    "start_time": "2024-02-10T11:05:12.174Z"
   },
   {
    "duration": 3,
    "start_time": "2024-02-10T11:07:37.384Z"
   },
   {
    "duration": 4,
    "start_time": "2024-02-10T11:13:57.604Z"
   },
   {
    "duration": 4,
    "start_time": "2024-02-10T11:14:23.000Z"
   },
   {
    "duration": 3,
    "start_time": "2024-02-10T11:14:34.276Z"
   },
   {
    "duration": 11568,
    "start_time": "2024-02-10T11:14:58.922Z"
   },
   {
    "duration": 3,
    "start_time": "2024-02-10T11:18:17.172Z"
   },
   {
    "duration": 10884,
    "start_time": "2024-02-10T11:18:20.835Z"
   },
   {
    "duration": 14,
    "start_time": "2024-02-10T11:27:24.044Z"
   },
   {
    "duration": 9,
    "start_time": "2024-02-10T11:27:34.480Z"
   },
   {
    "duration": 144,
    "start_time": "2024-02-10T11:28:37.349Z"
   },
   {
    "duration": 8,
    "start_time": "2024-02-10T11:28:48.583Z"
   },
   {
    "duration": 71,
    "start_time": "2024-02-10T11:28:55.646Z"
   },
   {
    "duration": 9,
    "start_time": "2024-02-10T11:31:11.450Z"
   },
   {
    "duration": 27,
    "start_time": "2024-02-10T11:32:01.309Z"
   },
   {
    "duration": 5,
    "start_time": "2024-02-10T11:32:06.731Z"
   },
   {
    "duration": 8,
    "start_time": "2024-02-10T11:32:15.375Z"
   },
   {
    "duration": 4,
    "start_time": "2024-02-10T11:32:20.843Z"
   },
   {
    "duration": 7,
    "start_time": "2024-02-10T11:32:24.539Z"
   },
   {
    "duration": 75,
    "start_time": "2024-02-10T11:32:41.935Z"
   },
   {
    "duration": 6,
    "start_time": "2024-02-10T11:33:35.400Z"
   },
   {
    "duration": 19,
    "start_time": "2024-02-10T11:33:43.488Z"
   },
   {
    "duration": 18,
    "start_time": "2024-02-10T11:34:17.269Z"
   },
   {
    "duration": 13,
    "start_time": "2024-02-10T11:34:33.373Z"
   },
   {
    "duration": 38,
    "start_time": "2024-02-10T11:36:27.358Z"
   },
   {
    "duration": 28,
    "start_time": "2024-02-10T11:36:34.763Z"
   },
   {
    "duration": 71,
    "start_time": "2024-02-10T11:37:57.873Z"
   },
   {
    "duration": 32,
    "start_time": "2024-02-10T11:38:02.343Z"
   },
   {
    "duration": 26,
    "start_time": "2024-02-10T12:10:00.215Z"
   },
   {
    "duration": 12,
    "start_time": "2024-02-10T12:10:09.645Z"
   },
   {
    "duration": 11135,
    "start_time": "2024-02-10T12:13:05.996Z"
   },
   {
    "duration": 10959,
    "start_time": "2024-02-10T12:13:32.459Z"
   },
   {
    "duration": 5,
    "start_time": "2024-02-10T12:13:47.978Z"
   },
   {
    "duration": 10,
    "start_time": "2024-02-10T12:15:34.386Z"
   },
   {
    "duration": 35,
    "start_time": "2024-02-10T12:16:01.210Z"
   },
   {
    "duration": 22,
    "start_time": "2024-02-10T12:18:47.367Z"
   },
   {
    "duration": 18,
    "start_time": "2024-02-10T12:18:51.265Z"
   },
   {
    "duration": 25,
    "start_time": "2024-02-10T12:18:54.337Z"
   },
   {
    "duration": 25,
    "start_time": "2024-02-10T12:19:04.837Z"
   },
   {
    "duration": 23,
    "start_time": "2024-02-10T12:19:09.666Z"
   },
   {
    "duration": 26,
    "start_time": "2024-02-10T12:19:12.077Z"
   },
   {
    "duration": 19,
    "start_time": "2024-02-10T12:19:15.469Z"
   },
   {
    "duration": 26,
    "start_time": "2024-02-10T12:19:17.588Z"
   },
   {
    "duration": 25,
    "start_time": "2024-02-10T12:19:26.941Z"
   },
   {
    "duration": 27,
    "start_time": "2024-02-10T12:19:54.717Z"
   },
   {
    "duration": 1297,
    "start_time": "2024-02-10T12:19:59.874Z"
   },
   {
    "duration": 1259,
    "start_time": "2024-02-10T12:20:06.162Z"
   },
   {
    "duration": 23,
    "start_time": "2024-02-10T12:20:15.049Z"
   },
   {
    "duration": 20,
    "start_time": "2024-02-10T12:20:18.797Z"
   },
   {
    "duration": 40,
    "start_time": "2024-02-10T12:20:21.489Z"
   },
   {
    "duration": 23,
    "start_time": "2024-02-10T12:22:12.960Z"
   },
   {
    "duration": 21,
    "start_time": "2024-02-10T12:22:17.135Z"
   },
   {
    "duration": 43,
    "start_time": "2024-02-10T12:23:23.696Z"
   },
   {
    "duration": 5,
    "start_time": "2024-02-10T12:24:15.153Z"
   },
   {
    "duration": 20,
    "start_time": "2024-02-10T12:24:21.840Z"
   },
   {
    "duration": 16,
    "start_time": "2024-02-10T12:24:51.986Z"
   },
   {
    "duration": 30,
    "start_time": "2024-02-10T12:26:06.642Z"
   },
   {
    "duration": 64,
    "start_time": "2024-02-10T12:26:25.411Z"
   },
   {
    "duration": 19,
    "start_time": "2024-02-10T12:28:13.615Z"
   },
   {
    "duration": 24,
    "start_time": "2024-02-10T12:28:27.740Z"
   },
   {
    "duration": 18,
    "start_time": "2024-02-10T12:28:42.269Z"
   },
   {
    "duration": 13,
    "start_time": "2024-02-10T12:29:26.913Z"
   },
   {
    "duration": 26,
    "start_time": "2024-02-10T12:30:35.214Z"
   },
   {
    "duration": 20,
    "start_time": "2024-02-10T12:31:22.942Z"
   },
   {
    "duration": 5,
    "start_time": "2024-02-10T12:31:32.156Z"
   },
   {
    "duration": 7,
    "start_time": "2024-02-10T12:31:37.778Z"
   },
   {
    "duration": 4,
    "start_time": "2024-02-10T12:31:45.531Z"
   },
   {
    "duration": 5,
    "start_time": "2024-02-10T12:31:49.942Z"
   },
   {
    "duration": 27,
    "start_time": "2024-02-10T12:32:30.747Z"
   },
   {
    "duration": 11,
    "start_time": "2024-02-10T12:33:14.397Z"
   },
   {
    "duration": 68,
    "start_time": "2024-02-10T12:34:30.348Z"
   },
   {
    "duration": 18,
    "start_time": "2024-02-10T12:39:18.087Z"
   },
   {
    "duration": 12,
    "start_time": "2024-02-10T12:39:30.497Z"
   },
   {
    "duration": 3654,
    "start_time": "2024-02-10T12:40:13.933Z"
   },
   {
    "duration": 30,
    "start_time": "2024-02-10T12:42:03.874Z"
   },
   {
    "duration": 15,
    "start_time": "2024-02-10T12:42:11.365Z"
   },
   {
    "duration": 26448,
    "start_time": "2024-02-10T12:42:22.870Z"
   },
   {
    "duration": 147405,
    "start_time": "2024-02-10T12:44:25.012Z"
   },
   {
    "duration": 24942,
    "start_time": "2024-02-10T12:47:05.914Z"
   },
   {
    "duration": 11556,
    "start_time": "2024-02-10T12:49:38.522Z"
   },
   {
    "duration": 16485,
    "start_time": "2024-02-10T13:01:25.592Z"
   },
   {
    "duration": 98,
    "start_time": "2024-02-10T13:03:04.594Z"
   },
   {
    "duration": 83,
    "start_time": "2024-02-10T13:04:40.865Z"
   },
   {
    "duration": 42,
    "start_time": "2024-02-10T13:04:56.624Z"
   },
   {
    "duration": 31,
    "start_time": "2024-02-10T13:08:27.046Z"
   },
   {
    "duration": 3993,
    "start_time": "2024-02-10T14:26:26.442Z"
   },
   {
    "duration": 1120,
    "start_time": "2024-02-10T14:26:30.439Z"
   },
   {
    "duration": 16,
    "start_time": "2024-02-10T14:26:31.560Z"
   },
   {
    "duration": 4,
    "start_time": "2024-02-10T14:26:31.578Z"
   },
   {
    "duration": 40,
    "start_time": "2024-02-10T14:26:31.584Z"
   },
   {
    "duration": 1293,
    "start_time": "2024-02-10T14:26:31.626Z"
   },
   {
    "duration": 50,
    "start_time": "2024-02-10T14:26:32.921Z"
   },
   {
    "duration": 5,
    "start_time": "2024-02-10T14:26:32.973Z"
   },
   {
    "duration": 214,
    "start_time": "2024-02-10T14:26:32.994Z"
   },
   {
    "duration": 2238,
    "start_time": "2024-02-10T14:26:33.210Z"
   },
   {
    "duration": 12,
    "start_time": "2024-02-10T14:26:35.449Z"
   },
   {
    "duration": 4505,
    "start_time": "2024-02-10T14:26:35.463Z"
   },
   {
    "duration": 84,
    "start_time": "2024-02-10T14:26:39.969Z"
   },
   {
    "duration": 28,
    "start_time": "2024-02-10T14:26:40.056Z"
   },
   {
    "duration": 60,
    "start_time": "2024-02-10T14:26:40.086Z"
   },
   {
    "duration": 45,
    "start_time": "2024-02-10T14:26:40.147Z"
   },
   {
    "duration": 102,
    "start_time": "2024-02-10T14:26:40.194Z"
   },
   {
    "duration": 201,
    "start_time": "2024-02-10T14:26:40.298Z"
   },
   {
    "duration": 19727,
    "start_time": "2024-02-10T14:26:40.501Z"
   },
   {
    "duration": 18,
    "start_time": "2024-02-10T14:27:00.230Z"
   },
   {
    "duration": 19926,
    "start_time": "2024-02-10T14:27:00.250Z"
   },
   {
    "duration": 16,
    "start_time": "2024-02-10T14:27:20.178Z"
   },
   {
    "duration": 146,
    "start_time": "2024-02-10T14:27:20.196Z"
   },
   {
    "duration": 27,
    "start_time": "2024-02-10T14:27:20.343Z"
   },
   {
    "duration": 107,
    "start_time": "2024-02-10T14:27:20.371Z"
   },
   {
    "duration": 4,
    "start_time": "2024-02-10T14:27:20.479Z"
   },
   {
    "duration": 13,
    "start_time": "2024-02-10T14:27:20.484Z"
   },
   {
    "duration": 7,
    "start_time": "2024-02-10T14:27:20.499Z"
   },
   {
    "duration": 21,
    "start_time": "2024-02-10T14:27:20.507Z"
   },
   {
    "duration": 11014,
    "start_time": "2024-02-10T14:27:20.530Z"
   },
   {
    "duration": 70,
    "start_time": "2024-02-10T14:27:31.545Z"
   },
   {
    "duration": 23,
    "start_time": "2024-02-10T14:27:31.617Z"
   },
   {
    "duration": 34,
    "start_time": "2024-02-10T14:27:31.642Z"
   },
   {
    "duration": 5,
    "start_time": "2024-02-10T14:27:31.677Z"
   },
   {
    "duration": 87,
    "start_time": "2024-02-10T14:27:31.683Z"
   },
   {
    "duration": 8,
    "start_time": "2024-02-10T14:27:31.772Z"
   },
   {
    "duration": 34,
    "start_time": "2024-02-10T14:27:31.781Z"
   },
   {
    "duration": 56,
    "start_time": "2024-02-10T14:27:31.817Z"
   },
   {
    "duration": 11,
    "start_time": "2024-02-10T14:27:31.875Z"
   },
   {
    "duration": 11162,
    "start_time": "2024-02-10T14:27:31.887Z"
   },
   {
    "duration": 6,
    "start_time": "2024-02-10T14:27:43.053Z"
   },
   {
    "duration": 19,
    "start_time": "2024-02-10T14:27:43.061Z"
   },
   {
    "duration": 43,
    "start_time": "2024-02-10T14:27:43.082Z"
   },
   {
    "duration": 29,
    "start_time": "2024-02-10T14:27:43.126Z"
   },
   {
    "duration": 9,
    "start_time": "2024-02-10T14:27:43.156Z"
   },
   {
    "duration": 12,
    "start_time": "2024-02-10T14:27:43.166Z"
   },
   {
    "duration": 24,
    "start_time": "2024-02-10T14:27:43.179Z"
   },
   {
    "duration": 33,
    "start_time": "2024-02-10T14:27:43.205Z"
   },
   {
    "duration": 24,
    "start_time": "2024-02-10T14:27:43.239Z"
   },
   {
    "duration": 5,
    "start_time": "2024-02-10T14:27:43.264Z"
   },
   {
    "duration": 24,
    "start_time": "2024-02-10T14:27:43.270Z"
   },
   {
    "duration": 37,
    "start_time": "2024-02-10T14:27:43.296Z"
   },
   {
    "duration": 57,
    "start_time": "2024-02-10T14:27:43.335Z"
   },
   {
    "duration": 29064,
    "start_time": "2024-02-10T14:27:43.394Z"
   },
   {
    "duration": 19812,
    "start_time": "2024-02-10T14:28:12.460Z"
   },
   {
    "duration": 13261,
    "start_time": "2024-02-10T14:28:32.273Z"
   },
   {
    "duration": 121,
    "start_time": "2024-02-10T14:28:45.536Z"
   },
   {
    "duration": 36,
    "start_time": "2024-02-10T14:28:45.658Z"
   },
   {
    "duration": 5524,
    "start_time": "2024-02-10T14:28:45.695Z"
   },
   {
    "duration": 70,
    "start_time": "2024-02-10T14:46:15.760Z"
   },
   {
    "duration": 4846,
    "start_time": "2024-02-10T14:47:00.916Z"
   },
   {
    "duration": 72,
    "start_time": "2024-02-10T14:47:11.476Z"
   },
   {
    "duration": 29,
    "start_time": "2024-02-10T14:47:37.326Z"
   },
   {
    "duration": 17558,
    "start_time": "2024-02-10T14:47:38.225Z"
   },
   {
    "duration": 5,
    "start_time": "2024-02-10T14:48:23.198Z"
   },
   {
    "duration": 116680,
    "start_time": "2024-02-10T14:48:24.590Z"
   },
   {
    "duration": 243,
    "start_time": "2024-02-10T14:50:49.680Z"
   },
   {
    "duration": 16,
    "start_time": "2024-02-10T14:54:02.210Z"
   },
   {
    "duration": 13,
    "start_time": "2024-02-10T14:54:13.479Z"
   },
   {
    "duration": 192251,
    "start_time": "2024-02-10T14:54:17.683Z"
   },
   {
    "duration": 0,
    "start_time": "2024-02-10T14:57:29.937Z"
   },
   {
    "duration": 6379,
    "start_time": "2024-02-10T14:57:34.755Z"
   },
   {
    "duration": 818,
    "start_time": "2024-02-10T14:57:41.136Z"
   },
   {
    "duration": 16,
    "start_time": "2024-02-10T14:57:41.956Z"
   },
   {
    "duration": 4,
    "start_time": "2024-02-10T14:57:41.973Z"
   },
   {
    "duration": 6,
    "start_time": "2024-02-10T14:57:41.979Z"
   },
   {
    "duration": 1247,
    "start_time": "2024-02-10T14:57:41.986Z"
   },
   {
    "duration": 55,
    "start_time": "2024-02-10T14:57:43.234Z"
   },
   {
    "duration": 3,
    "start_time": "2024-02-10T14:57:43.291Z"
   },
   {
    "duration": 209,
    "start_time": "2024-02-10T14:57:43.295Z"
   },
   {
    "duration": 2112,
    "start_time": "2024-02-10T14:57:43.506Z"
   },
   {
    "duration": 14,
    "start_time": "2024-02-10T14:57:45.620Z"
   },
   {
    "duration": 4571,
    "start_time": "2024-02-10T14:57:45.635Z"
   },
   {
    "duration": 78,
    "start_time": "2024-02-10T14:57:50.207Z"
   },
   {
    "duration": 20,
    "start_time": "2024-02-10T14:57:50.289Z"
   },
   {
    "duration": 31,
    "start_time": "2024-02-10T14:57:50.310Z"
   },
   {
    "duration": 33,
    "start_time": "2024-02-10T14:57:50.343Z"
   },
   {
    "duration": 73,
    "start_time": "2024-02-10T14:57:50.378Z"
   },
   {
    "duration": 213,
    "start_time": "2024-02-10T14:57:50.453Z"
   },
   {
    "duration": 19831,
    "start_time": "2024-02-10T14:57:50.667Z"
   },
   {
    "duration": 17,
    "start_time": "2024-02-10T14:58:10.499Z"
   },
   {
    "duration": 19728,
    "start_time": "2024-02-10T14:58:10.518Z"
   },
   {
    "duration": 17,
    "start_time": "2024-02-10T14:58:30.247Z"
   },
   {
    "duration": 164,
    "start_time": "2024-02-10T14:58:30.266Z"
   },
   {
    "duration": 74,
    "start_time": "2024-02-10T14:58:30.432Z"
   },
   {
    "duration": 96,
    "start_time": "2024-02-10T14:58:30.507Z"
   },
   {
    "duration": 41,
    "start_time": "2024-02-10T14:58:30.605Z"
   },
   {
    "duration": 30,
    "start_time": "2024-02-10T14:58:30.648Z"
   },
   {
    "duration": 51,
    "start_time": "2024-02-10T14:58:30.679Z"
   },
   {
    "duration": 30,
    "start_time": "2024-02-10T14:58:30.732Z"
   },
   {
    "duration": 11067,
    "start_time": "2024-02-10T14:58:30.763Z"
   },
   {
    "duration": 66,
    "start_time": "2024-02-10T14:58:41.832Z"
   },
   {
    "duration": 9,
    "start_time": "2024-02-10T14:58:41.899Z"
   },
   {
    "duration": 46,
    "start_time": "2024-02-10T14:58:41.909Z"
   },
   {
    "duration": 4,
    "start_time": "2024-02-10T14:58:41.957Z"
   },
   {
    "duration": 73,
    "start_time": "2024-02-10T14:58:41.962Z"
   },
   {
    "duration": 7,
    "start_time": "2024-02-10T14:58:42.036Z"
   },
   {
    "duration": 17,
    "start_time": "2024-02-10T14:58:42.045Z"
   },
   {
    "duration": 34,
    "start_time": "2024-02-10T14:58:42.063Z"
   },
   {
    "duration": 36,
    "start_time": "2024-02-10T14:58:42.099Z"
   },
   {
    "duration": 11076,
    "start_time": "2024-02-10T14:58:42.137Z"
   },
   {
    "duration": 9,
    "start_time": "2024-02-10T14:58:53.218Z"
   },
   {
    "duration": 34,
    "start_time": "2024-02-10T14:58:53.229Z"
   },
   {
    "duration": 27,
    "start_time": "2024-02-10T14:58:53.265Z"
   },
   {
    "duration": 34,
    "start_time": "2024-02-10T14:58:53.293Z"
   },
   {
    "duration": 38,
    "start_time": "2024-02-10T14:58:53.329Z"
   },
   {
    "duration": 22,
    "start_time": "2024-02-10T14:58:53.369Z"
   },
   {
    "duration": 25,
    "start_time": "2024-02-10T14:58:53.393Z"
   },
   {
    "duration": 17,
    "start_time": "2024-02-10T14:58:53.420Z"
   },
   {
    "duration": 33,
    "start_time": "2024-02-10T14:58:53.439Z"
   },
   {
    "duration": 5,
    "start_time": "2024-02-10T14:58:53.474Z"
   },
   {
    "duration": 45,
    "start_time": "2024-02-10T14:58:53.480Z"
   },
   {
    "duration": 11,
    "start_time": "2024-02-10T14:58:53.526Z"
   },
   {
    "duration": 88,
    "start_time": "2024-02-10T14:58:53.538Z"
   },
   {
    "duration": 28001,
    "start_time": "2024-02-10T14:58:53.628Z"
   },
   {
    "duration": 19401,
    "start_time": "2024-02-10T14:59:21.630Z"
   },
   {
    "duration": 11256,
    "start_time": "2024-02-10T14:59:41.034Z"
   },
   {
    "duration": 100,
    "start_time": "2024-02-10T14:59:52.292Z"
   },
   {
    "duration": 6,
    "start_time": "2024-02-10T14:59:52.394Z"
   },
   {
    "duration": 280163,
    "start_time": "2024-02-10T14:59:52.401Z"
   },
   {
    "duration": 117016,
    "start_time": "2024-02-10T15:04:32.566Z"
   },
   {
    "duration": 240,
    "start_time": "2024-02-10T15:06:29.584Z"
   },
   {
    "duration": 172,
    "start_time": "2024-02-10T15:06:29.827Z"
   },
   {
    "duration": 62,
    "start_time": "2024-02-11T10:36:49.833Z"
   },
   {
    "duration": 10060,
    "start_time": "2024-02-11T10:36:54.796Z"
   },
   {
    "duration": 2904,
    "start_time": "2024-02-11T10:37:04.859Z"
   },
   {
    "duration": 22,
    "start_time": "2024-02-11T10:37:07.765Z"
   },
   {
    "duration": 6,
    "start_time": "2024-02-11T10:37:07.789Z"
   },
   {
    "duration": 6,
    "start_time": "2024-02-11T10:37:07.797Z"
   },
   {
    "duration": 1400,
    "start_time": "2024-02-11T10:37:07.804Z"
   },
   {
    "duration": 54,
    "start_time": "2024-02-11T10:37:09.206Z"
   },
   {
    "duration": 18,
    "start_time": "2024-02-11T10:37:09.263Z"
   },
   {
    "duration": 262,
    "start_time": "2024-02-11T10:37:09.283Z"
   },
   {
    "duration": 2411,
    "start_time": "2024-02-11T10:37:09.548Z"
   },
   {
    "duration": 20,
    "start_time": "2024-02-11T10:37:11.960Z"
   },
   {
    "duration": 5130,
    "start_time": "2024-02-11T10:37:11.982Z"
   },
   {
    "duration": 92,
    "start_time": "2024-02-11T10:37:17.114Z"
   },
   {
    "duration": 23,
    "start_time": "2024-02-11T10:37:17.208Z"
   },
   {
    "duration": 19,
    "start_time": "2024-02-11T10:37:17.233Z"
   },
   {
    "duration": 68,
    "start_time": "2024-02-11T10:37:17.254Z"
   },
   {
    "duration": 77,
    "start_time": "2024-02-11T10:37:17.324Z"
   },
   {
    "duration": 233,
    "start_time": "2024-02-11T10:37:17.402Z"
   },
   {
    "duration": 22405,
    "start_time": "2024-02-11T10:37:17.637Z"
   },
   {
    "duration": 18,
    "start_time": "2024-02-11T10:37:40.044Z"
   },
   {
    "duration": 22001,
    "start_time": "2024-02-11T10:37:40.064Z"
   },
   {
    "duration": 24,
    "start_time": "2024-02-11T10:38:02.067Z"
   },
   {
    "duration": 164,
    "start_time": "2024-02-11T10:38:02.093Z"
   },
   {
    "duration": 41,
    "start_time": "2024-02-11T10:38:02.258Z"
   },
   {
    "duration": 100,
    "start_time": "2024-02-11T10:38:02.301Z"
   },
   {
    "duration": 3,
    "start_time": "2024-02-11T10:38:02.403Z"
   },
   {
    "duration": 28,
    "start_time": "2024-02-11T10:38:02.407Z"
   },
   {
    "duration": 4,
    "start_time": "2024-02-11T10:38:02.440Z"
   },
   {
    "duration": 7,
    "start_time": "2024-02-11T10:38:02.446Z"
   },
   {
    "duration": 12344,
    "start_time": "2024-02-11T10:38:02.454Z"
   },
   {
    "duration": 85,
    "start_time": "2024-02-11T10:38:14.800Z"
   },
   {
    "duration": 8,
    "start_time": "2024-02-11T10:38:14.887Z"
   },
   {
    "duration": 31,
    "start_time": "2024-02-11T10:38:14.897Z"
   },
   {
    "duration": 4,
    "start_time": "2024-02-11T10:38:14.929Z"
   },
   {
    "duration": 95,
    "start_time": "2024-02-11T10:38:14.935Z"
   },
   {
    "duration": 7,
    "start_time": "2024-02-11T10:38:15.031Z"
   },
   {
    "duration": 35,
    "start_time": "2024-02-11T10:38:15.040Z"
   },
   {
    "duration": 51,
    "start_time": "2024-02-11T10:38:15.077Z"
   },
   {
    "duration": 12,
    "start_time": "2024-02-11T10:38:15.129Z"
   },
   {
    "duration": 12451,
    "start_time": "2024-02-11T10:38:15.143Z"
   },
   {
    "duration": 7,
    "start_time": "2024-02-11T10:38:27.596Z"
   },
   {
    "duration": 32,
    "start_time": "2024-02-11T10:38:27.605Z"
   },
   {
    "duration": 28,
    "start_time": "2024-02-11T10:38:27.638Z"
   },
   {
    "duration": 39,
    "start_time": "2024-02-11T10:38:27.668Z"
   },
   {
    "duration": 9,
    "start_time": "2024-02-11T10:38:27.709Z"
   },
   {
    "duration": 20,
    "start_time": "2024-02-11T10:38:27.719Z"
   },
   {
    "duration": 40,
    "start_time": "2024-02-11T10:38:27.741Z"
   },
   {
    "duration": 14,
    "start_time": "2024-02-11T10:38:27.783Z"
   },
   {
    "duration": 26,
    "start_time": "2024-02-11T10:38:27.798Z"
   },
   {
    "duration": 5,
    "start_time": "2024-02-11T10:38:27.826Z"
   },
   {
    "duration": 52,
    "start_time": "2024-02-11T10:38:27.833Z"
   },
   {
    "duration": 12,
    "start_time": "2024-02-11T10:38:27.887Z"
   },
   {
    "duration": 96,
    "start_time": "2024-02-11T10:38:27.901Z"
   },
   {
    "duration": 29611,
    "start_time": "2024-02-11T10:38:27.999Z"
   },
   {
    "duration": 21847,
    "start_time": "2024-02-11T10:38:57.612Z"
   },
   {
    "duration": 18462,
    "start_time": "2024-02-11T10:39:19.461Z"
   },
   {
    "duration": 122,
    "start_time": "2024-02-11T10:39:37.926Z"
   },
   {
    "duration": 7,
    "start_time": "2024-02-11T10:39:38.050Z"
   },
   {
    "duration": 286736,
    "start_time": "2024-02-11T10:39:38.059Z"
   },
   {
    "duration": 153583,
    "start_time": "2024-02-11T10:44:24.797Z"
   },
   {
    "duration": 283,
    "start_time": "2024-02-11T10:46:58.381Z"
   },
   {
    "duration": 197,
    "start_time": "2024-02-11T10:47:58.559Z"
   },
   {
    "duration": 2696,
    "start_time": "2024-02-11T10:48:23.391Z"
   },
   {
    "duration": 23,
    "start_time": "2024-02-11T10:48:28.595Z"
   },
   {
    "duration": 3,
    "start_time": "2024-02-11T10:58:41.659Z"
   },
   {
    "duration": 13,
    "start_time": "2024-02-11T11:03:36.828Z"
   },
   {
    "duration": 2422,
    "start_time": "2024-02-11T11:05:21.634Z"
   },
   {
    "duration": 3884,
    "start_time": "2024-02-11T11:05:49.910Z"
   },
   {
    "duration": 7564,
    "start_time": "2024-02-11T11:07:32.778Z"
   },
   {
    "duration": 2921,
    "start_time": "2024-02-11T11:07:40.344Z"
   },
   {
    "duration": 17,
    "start_time": "2024-02-11T11:07:43.267Z"
   },
   {
    "duration": 5,
    "start_time": "2024-02-11T11:07:43.286Z"
   },
   {
    "duration": 13,
    "start_time": "2024-02-11T11:07:43.293Z"
   },
   {
    "duration": 1454,
    "start_time": "2024-02-11T11:07:43.309Z"
   },
   {
    "duration": 65,
    "start_time": "2024-02-11T11:07:44.765Z"
   },
   {
    "duration": 3,
    "start_time": "2024-02-11T11:07:44.832Z"
   },
   {
    "duration": 228,
    "start_time": "2024-02-11T11:07:44.837Z"
   },
   {
    "duration": 2470,
    "start_time": "2024-02-11T11:07:45.067Z"
   },
   {
    "duration": 15,
    "start_time": "2024-02-11T11:07:47.538Z"
   },
   {
    "duration": 5003,
    "start_time": "2024-02-11T11:07:47.554Z"
   },
   {
    "duration": 83,
    "start_time": "2024-02-11T11:07:52.559Z"
   },
   {
    "duration": 38,
    "start_time": "2024-02-11T11:07:52.645Z"
   },
   {
    "duration": 19,
    "start_time": "2024-02-11T11:07:52.685Z"
   },
   {
    "duration": 37,
    "start_time": "2024-02-11T11:07:52.705Z"
   },
   {
    "duration": 75,
    "start_time": "2024-02-11T11:07:52.743Z"
   },
   {
    "duration": 236,
    "start_time": "2024-02-11T11:07:52.819Z"
   },
   {
    "duration": 22397,
    "start_time": "2024-02-11T11:07:53.057Z"
   },
   {
    "duration": 25,
    "start_time": "2024-02-11T11:08:15.456Z"
   },
   {
    "duration": 22727,
    "start_time": "2024-02-11T11:08:15.483Z"
   },
   {
    "duration": 18,
    "start_time": "2024-02-11T11:08:38.213Z"
   },
   {
    "duration": 161,
    "start_time": "2024-02-11T11:08:38.232Z"
   },
   {
    "duration": 29,
    "start_time": "2024-02-11T11:08:38.395Z"
   },
   {
    "duration": 110,
    "start_time": "2024-02-11T11:08:38.425Z"
   },
   {
    "duration": 4,
    "start_time": "2024-02-11T11:08:38.537Z"
   },
   {
    "duration": 13,
    "start_time": "2024-02-11T11:08:38.543Z"
   },
   {
    "duration": 23,
    "start_time": "2024-02-11T11:08:38.558Z"
   },
   {
    "duration": 10,
    "start_time": "2024-02-11T11:08:38.583Z"
   },
   {
    "duration": 12866,
    "start_time": "2024-02-11T11:08:38.595Z"
   },
   {
    "duration": 79,
    "start_time": "2024-02-11T11:08:51.463Z"
   },
   {
    "duration": 10,
    "start_time": "2024-02-11T11:08:51.544Z"
   },
   {
    "duration": 52,
    "start_time": "2024-02-11T11:08:51.555Z"
   },
   {
    "duration": 4,
    "start_time": "2024-02-11T11:08:51.609Z"
   },
   {
    "duration": 80,
    "start_time": "2024-02-11T11:08:51.615Z"
   },
   {
    "duration": 7,
    "start_time": "2024-02-11T11:08:51.697Z"
   },
   {
    "duration": 18,
    "start_time": "2024-02-11T11:08:51.706Z"
   },
   {
    "duration": 57,
    "start_time": "2024-02-11T11:08:51.726Z"
   },
   {
    "duration": 13,
    "start_time": "2024-02-11T11:08:51.785Z"
   },
   {
    "duration": 12629,
    "start_time": "2024-02-11T11:08:51.800Z"
   },
   {
    "duration": 8,
    "start_time": "2024-02-11T11:09:04.433Z"
   },
   {
    "duration": 47,
    "start_time": "2024-02-11T11:09:04.443Z"
   },
   {
    "duration": 32,
    "start_time": "2024-02-11T11:09:04.492Z"
   },
   {
    "duration": 30,
    "start_time": "2024-02-11T11:09:04.526Z"
   },
   {
    "duration": 26,
    "start_time": "2024-02-11T11:09:04.558Z"
   },
   {
    "duration": 16,
    "start_time": "2024-02-11T11:09:04.586Z"
   },
   {
    "duration": 28,
    "start_time": "2024-02-11T11:09:04.603Z"
   },
   {
    "duration": 14,
    "start_time": "2024-02-11T11:09:04.632Z"
   },
   {
    "duration": 58,
    "start_time": "2024-02-11T11:09:04.648Z"
   },
   {
    "duration": 5,
    "start_time": "2024-02-11T11:09:04.708Z"
   },
   {
    "duration": 27,
    "start_time": "2024-02-11T11:09:04.714Z"
   },
   {
    "duration": 37,
    "start_time": "2024-02-11T11:09:04.743Z"
   },
   {
    "duration": 68,
    "start_time": "2024-02-11T11:09:04.782Z"
   },
   {
    "duration": 31069,
    "start_time": "2024-02-11T11:09:04.852Z"
   },
   {
    "duration": 21873,
    "start_time": "2024-02-11T11:09:35.922Z"
   },
   {
    "duration": 13611,
    "start_time": "2024-02-11T11:09:57.797Z"
   },
   {
    "duration": 116,
    "start_time": "2024-02-11T11:10:11.410Z"
   },
   {
    "duration": 5,
    "start_time": "2024-02-11T11:10:11.528Z"
   },
   {
    "duration": 8762,
    "start_time": "2024-02-11T11:10:11.535Z"
   },
   {
    "duration": 0,
    "start_time": "2024-02-11T11:10:20.299Z"
   },
   {
    "duration": 0,
    "start_time": "2024-02-11T11:10:20.301Z"
   },
   {
    "duration": 0,
    "start_time": "2024-02-11T11:10:20.302Z"
   },
   {
    "duration": 0,
    "start_time": "2024-02-11T11:10:20.303Z"
   },
   {
    "duration": 0,
    "start_time": "2024-02-11T11:10:20.304Z"
   },
   {
    "duration": 0,
    "start_time": "2024-02-11T11:10:20.305Z"
   },
   {
    "duration": 2665,
    "start_time": "2024-02-11T11:10:25.478Z"
   },
   {
    "duration": 15,
    "start_time": "2024-02-11T11:10:29.511Z"
   },
   {
    "duration": 115,
    "start_time": "2024-02-11T11:10:30.242Z"
   },
   {
    "duration": 3,
    "start_time": "2024-02-11T11:11:04.997Z"
   },
   {
    "duration": 89,
    "start_time": "2024-02-11T11:11:08.419Z"
   },
   {
    "duration": 90,
    "start_time": "2024-02-11T11:11:56.056Z"
   },
   {
    "duration": 1527,
    "start_time": "2024-02-11T11:14:52.919Z"
   },
   {
    "duration": 3936,
    "start_time": "2024-02-11T11:15:00.898Z"
   },
   {
    "duration": 50,
    "start_time": "2024-02-11T11:15:30.851Z"
   },
   {
    "duration": 7589,
    "start_time": "2024-02-11T11:16:24.840Z"
   },
   {
    "duration": 2877,
    "start_time": "2024-02-11T11:16:32.431Z"
   },
   {
    "duration": 18,
    "start_time": "2024-02-11T11:16:35.310Z"
   },
   {
    "duration": 5,
    "start_time": "2024-02-11T11:16:35.329Z"
   },
   {
    "duration": 3,
    "start_time": "2024-02-11T11:16:35.336Z"
   },
   {
    "duration": 1148,
    "start_time": "2024-02-11T11:16:35.341Z"
   },
   {
    "duration": 0,
    "start_time": "2024-02-11T11:16:36.494Z"
   },
   {
    "duration": 0,
    "start_time": "2024-02-11T11:16:36.496Z"
   },
   {
    "duration": 0,
    "start_time": "2024-02-11T11:16:36.497Z"
   },
   {
    "duration": 0,
    "start_time": "2024-02-11T11:16:36.498Z"
   },
   {
    "duration": 0,
    "start_time": "2024-02-11T11:16:36.500Z"
   },
   {
    "duration": 0,
    "start_time": "2024-02-11T11:16:36.501Z"
   },
   {
    "duration": 0,
    "start_time": "2024-02-11T11:16:36.502Z"
   },
   {
    "duration": 0,
    "start_time": "2024-02-11T11:16:36.504Z"
   },
   {
    "duration": 0,
    "start_time": "2024-02-11T11:16:36.506Z"
   },
   {
    "duration": 0,
    "start_time": "2024-02-11T11:16:36.508Z"
   },
   {
    "duration": 0,
    "start_time": "2024-02-11T11:16:36.509Z"
   },
   {
    "duration": 0,
    "start_time": "2024-02-11T11:16:36.511Z"
   },
   {
    "duration": 0,
    "start_time": "2024-02-11T11:16:36.512Z"
   },
   {
    "duration": 0,
    "start_time": "2024-02-11T11:16:36.514Z"
   },
   {
    "duration": 0,
    "start_time": "2024-02-11T11:16:36.515Z"
   },
   {
    "duration": 0,
    "start_time": "2024-02-11T11:16:36.517Z"
   },
   {
    "duration": 0,
    "start_time": "2024-02-11T11:16:36.519Z"
   },
   {
    "duration": 0,
    "start_time": "2024-02-11T11:16:36.520Z"
   },
   {
    "duration": 0,
    "start_time": "2024-02-11T11:16:36.522Z"
   },
   {
    "duration": 0,
    "start_time": "2024-02-11T11:16:36.523Z"
   },
   {
    "duration": 0,
    "start_time": "2024-02-11T11:16:36.524Z"
   },
   {
    "duration": 0,
    "start_time": "2024-02-11T11:16:36.525Z"
   },
   {
    "duration": 0,
    "start_time": "2024-02-11T11:16:36.526Z"
   },
   {
    "duration": 0,
    "start_time": "2024-02-11T11:16:36.528Z"
   },
   {
    "duration": 0,
    "start_time": "2024-02-11T11:16:36.580Z"
   },
   {
    "duration": 0,
    "start_time": "2024-02-11T11:16:36.581Z"
   },
   {
    "duration": 0,
    "start_time": "2024-02-11T11:16:36.583Z"
   },
   {
    "duration": 0,
    "start_time": "2024-02-11T11:16:36.584Z"
   },
   {
    "duration": 0,
    "start_time": "2024-02-11T11:16:36.586Z"
   },
   {
    "duration": 1,
    "start_time": "2024-02-11T11:16:36.586Z"
   },
   {
    "duration": 0,
    "start_time": "2024-02-11T11:16:36.588Z"
   },
   {
    "duration": 0,
    "start_time": "2024-02-11T11:16:36.590Z"
   },
   {
    "duration": 0,
    "start_time": "2024-02-11T11:16:36.592Z"
   },
   {
    "duration": 0,
    "start_time": "2024-02-11T11:16:36.593Z"
   },
   {
    "duration": 0,
    "start_time": "2024-02-11T11:16:36.594Z"
   },
   {
    "duration": 0,
    "start_time": "2024-02-11T11:16:36.596Z"
   },
   {
    "duration": 0,
    "start_time": "2024-02-11T11:16:36.597Z"
   },
   {
    "duration": 0,
    "start_time": "2024-02-11T11:16:36.599Z"
   },
   {
    "duration": 0,
    "start_time": "2024-02-11T11:16:36.601Z"
   },
   {
    "duration": 0,
    "start_time": "2024-02-11T11:16:36.602Z"
   },
   {
    "duration": 0,
    "start_time": "2024-02-11T11:16:36.603Z"
   },
   {
    "duration": 0,
    "start_time": "2024-02-11T11:16:36.605Z"
   },
   {
    "duration": 0,
    "start_time": "2024-02-11T11:16:36.606Z"
   },
   {
    "duration": 0,
    "start_time": "2024-02-11T11:16:36.607Z"
   },
   {
    "duration": 0,
    "start_time": "2024-02-11T11:16:36.609Z"
   },
   {
    "duration": 0,
    "start_time": "2024-02-11T11:16:36.610Z"
   },
   {
    "duration": 0,
    "start_time": "2024-02-11T11:16:36.611Z"
   },
   {
    "duration": 0,
    "start_time": "2024-02-11T11:16:36.613Z"
   },
   {
    "duration": 0,
    "start_time": "2024-02-11T11:16:36.614Z"
   },
   {
    "duration": 0,
    "start_time": "2024-02-11T11:16:36.680Z"
   },
   {
    "duration": 0,
    "start_time": "2024-02-11T11:16:36.681Z"
   },
   {
    "duration": 0,
    "start_time": "2024-02-11T11:16:36.683Z"
   },
   {
    "duration": 0,
    "start_time": "2024-02-11T11:16:36.684Z"
   },
   {
    "duration": 1,
    "start_time": "2024-02-11T11:16:36.685Z"
   },
   {
    "duration": 0,
    "start_time": "2024-02-11T11:16:36.686Z"
   },
   {
    "duration": 0,
    "start_time": "2024-02-11T11:16:36.688Z"
   },
   {
    "duration": 0,
    "start_time": "2024-02-11T11:16:36.689Z"
   },
   {
    "duration": 0,
    "start_time": "2024-02-11T11:16:36.690Z"
   },
   {
    "duration": 0,
    "start_time": "2024-02-11T11:16:36.691Z"
   },
   {
    "duration": 0,
    "start_time": "2024-02-11T11:16:36.692Z"
   },
   {
    "duration": 58,
    "start_time": "2024-02-11T11:16:50.922Z"
   },
   {
    "duration": 4,
    "start_time": "2024-02-11T11:16:51.380Z"
   },
   {
    "duration": 240,
    "start_time": "2024-02-11T11:16:51.623Z"
   },
   {
    "duration": 2458,
    "start_time": "2024-02-11T11:16:52.080Z"
   },
   {
    "duration": 18,
    "start_time": "2024-02-11T11:16:54.540Z"
   },
   {
    "duration": 4964,
    "start_time": "2024-02-11T11:16:54.560Z"
   },
   {
    "duration": 87,
    "start_time": "2024-02-11T11:16:59.526Z"
   },
   {
    "duration": 21,
    "start_time": "2024-02-11T11:16:59.615Z"
   },
   {
    "duration": 47,
    "start_time": "2024-02-11T11:16:59.638Z"
   },
   {
    "duration": 70,
    "start_time": "2024-02-11T11:16:59.687Z"
   },
   {
    "duration": 78,
    "start_time": "2024-02-11T11:16:59.759Z"
   },
   {
    "duration": 221,
    "start_time": "2024-02-11T11:16:59.839Z"
   },
   {
    "duration": 22338,
    "start_time": "2024-02-11T11:17:00.062Z"
   },
   {
    "duration": 18,
    "start_time": "2024-02-11T11:17:22.402Z"
   },
   {
    "duration": 22032,
    "start_time": "2024-02-11T11:17:22.422Z"
   },
   {
    "duration": 27,
    "start_time": "2024-02-11T11:17:44.455Z"
   },
   {
    "duration": 159,
    "start_time": "2024-02-11T11:17:44.483Z"
   },
   {
    "duration": 45,
    "start_time": "2024-02-11T11:17:44.644Z"
   },
   {
    "duration": 26,
    "start_time": "2024-02-11T11:17:44.691Z"
   },
   {
    "duration": 7,
    "start_time": "2024-02-11T11:17:44.719Z"
   },
   {
    "duration": 15,
    "start_time": "2024-02-11T11:17:44.727Z"
   },
   {
    "duration": 49,
    "start_time": "2024-02-11T11:17:44.744Z"
   },
   {
    "duration": 12,
    "start_time": "2024-02-11T11:17:44.795Z"
   },
   {
    "duration": 12391,
    "start_time": "2024-02-11T11:17:44.808Z"
   },
   {
    "duration": 7,
    "start_time": "2024-02-11T11:17:57.200Z"
   },
   {
    "duration": 29,
    "start_time": "2024-02-11T11:17:57.209Z"
   },
   {
    "duration": 49,
    "start_time": "2024-02-11T11:17:57.240Z"
   },
   {
    "duration": 32,
    "start_time": "2024-02-11T11:17:57.291Z"
   },
   {
    "duration": 9,
    "start_time": "2024-02-11T11:17:57.324Z"
   },
   {
    "duration": 14,
    "start_time": "2024-02-11T11:17:57.334Z"
   },
   {
    "duration": 50,
    "start_time": "2024-02-11T11:17:57.350Z"
   },
   {
    "duration": 18,
    "start_time": "2024-02-11T11:17:57.402Z"
   },
   {
    "duration": 27,
    "start_time": "2024-02-11T11:17:57.422Z"
   },
   {
    "duration": 32,
    "start_time": "2024-02-11T11:17:57.451Z"
   },
   {
    "duration": 27,
    "start_time": "2024-02-11T11:17:57.485Z"
   },
   {
    "duration": 12,
    "start_time": "2024-02-11T11:17:57.515Z"
   },
   {
    "duration": 12803,
    "start_time": "2024-02-11T11:17:57.529Z"
   },
   {
    "duration": 147,
    "start_time": "2024-02-11T11:18:10.334Z"
   },
   {
    "duration": 8,
    "start_time": "2024-02-11T11:18:10.483Z"
   },
   {
    "duration": 2759,
    "start_time": "2024-02-11T11:18:10.494Z"
   },
   {
    "duration": 3,
    "start_time": "2024-02-11T11:18:13.256Z"
   },
   {
    "duration": 4265,
    "start_time": "2024-02-11T11:18:13.260Z"
   },
   {
    "duration": 3,
    "start_time": "2024-02-11T11:18:22.954Z"
   },
   {
    "duration": 69,
    "start_time": "2024-02-11T11:19:09.981Z"
   },
   {
    "duration": 17,
    "start_time": "2024-02-11T11:20:27.412Z"
   },
   {
    "duration": 13,
    "start_time": "2024-02-11T11:20:32.248Z"
   },
   {
    "duration": 178449,
    "start_time": "2024-02-11T11:20:47.567Z"
   },
   {
    "duration": 17,
    "start_time": "2024-02-11T11:25:22.677Z"
   },
   {
    "duration": 16,
    "start_time": "2024-02-11T11:26:08.372Z"
   },
   {
    "duration": 21,
    "start_time": "2024-02-11T11:27:07.273Z"
   },
   {
    "duration": 16,
    "start_time": "2024-02-11T11:27:28.408Z"
   },
   {
    "duration": 7617,
    "start_time": "2024-02-11T11:29:46.657Z"
   },
   {
    "duration": 2919,
    "start_time": "2024-02-11T11:29:54.279Z"
   },
   {
    "duration": 19,
    "start_time": "2024-02-11T11:29:57.199Z"
   },
   {
    "duration": 6,
    "start_time": "2024-02-11T11:29:57.220Z"
   },
   {
    "duration": 5,
    "start_time": "2024-02-11T11:29:57.228Z"
   },
   {
    "duration": 1366,
    "start_time": "2024-02-11T11:29:57.235Z"
   },
   {
    "duration": 60,
    "start_time": "2024-02-11T11:29:58.602Z"
   },
   {
    "duration": 4,
    "start_time": "2024-02-11T11:29:58.664Z"
   },
   {
    "duration": 240,
    "start_time": "2024-02-11T11:29:58.680Z"
   },
   {
    "duration": 2499,
    "start_time": "2024-02-11T11:29:58.921Z"
   },
   {
    "duration": 14,
    "start_time": "2024-02-11T11:30:01.422Z"
   },
   {
    "duration": 5007,
    "start_time": "2024-02-11T11:30:01.437Z"
   },
   {
    "duration": 93,
    "start_time": "2024-02-11T11:30:06.446Z"
   },
   {
    "duration": 23,
    "start_time": "2024-02-11T11:30:06.543Z"
   },
   {
    "duration": 20,
    "start_time": "2024-02-11T11:30:06.580Z"
   },
   {
    "duration": 35,
    "start_time": "2024-02-11T11:30:06.602Z"
   },
   {
    "duration": 78,
    "start_time": "2024-02-11T11:30:06.639Z"
   },
   {
    "duration": 231,
    "start_time": "2024-02-11T11:30:06.718Z"
   },
   {
    "duration": 22312,
    "start_time": "2024-02-11T11:30:06.951Z"
   },
   {
    "duration": 18,
    "start_time": "2024-02-11T11:30:29.264Z"
   },
   {
    "duration": 21966,
    "start_time": "2024-02-11T11:30:29.284Z"
   },
   {
    "duration": 18,
    "start_time": "2024-02-11T11:30:51.252Z"
   },
   {
    "duration": 159,
    "start_time": "2024-02-11T11:30:51.271Z"
   },
   {
    "duration": 28,
    "start_time": "2024-02-11T11:30:51.432Z"
   },
   {
    "duration": 106,
    "start_time": "2024-02-11T11:30:51.462Z"
   },
   {
    "duration": 10,
    "start_time": "2024-02-11T11:30:51.570Z"
   },
   {
    "duration": 10,
    "start_time": "2024-02-11T11:30:51.581Z"
   },
   {
    "duration": 4,
    "start_time": "2024-02-11T11:30:51.593Z"
   },
   {
    "duration": 4,
    "start_time": "2024-02-11T11:30:51.598Z"
   },
   {
    "duration": 12596,
    "start_time": "2024-02-11T11:30:51.603Z"
   },
   {
    "duration": 82,
    "start_time": "2024-02-11T11:31:04.201Z"
   },
   {
    "duration": 9,
    "start_time": "2024-02-11T11:31:04.285Z"
   },
   {
    "duration": 39,
    "start_time": "2024-02-11T11:31:04.295Z"
   },
   {
    "duration": 4,
    "start_time": "2024-02-11T11:31:04.336Z"
   },
   {
    "duration": 99,
    "start_time": "2024-02-11T11:31:04.342Z"
   },
   {
    "duration": 7,
    "start_time": "2024-02-11T11:31:04.443Z"
   },
   {
    "duration": 29,
    "start_time": "2024-02-11T11:31:04.451Z"
   },
   {
    "duration": 35,
    "start_time": "2024-02-11T11:31:04.481Z"
   },
   {
    "duration": 13,
    "start_time": "2024-02-11T11:31:04.518Z"
   },
   {
    "duration": 12524,
    "start_time": "2024-02-11T11:31:04.533Z"
   },
   {
    "duration": 18,
    "start_time": "2024-02-11T11:31:17.063Z"
   },
   {
    "duration": 23,
    "start_time": "2024-02-11T11:31:17.083Z"
   },
   {
    "duration": 30,
    "start_time": "2024-02-11T11:31:17.108Z"
   },
   {
    "duration": 53,
    "start_time": "2024-02-11T11:31:17.140Z"
   },
   {
    "duration": 18,
    "start_time": "2024-02-11T11:31:17.195Z"
   },
   {
    "duration": 15,
    "start_time": "2024-02-11T11:31:17.215Z"
   },
   {
    "duration": 27,
    "start_time": "2024-02-11T11:31:17.231Z"
   },
   {
    "duration": 33,
    "start_time": "2024-02-11T11:31:17.260Z"
   },
   {
    "duration": 34,
    "start_time": "2024-02-11T11:31:17.296Z"
   },
   {
    "duration": 6,
    "start_time": "2024-02-11T11:31:17.331Z"
   },
   {
    "duration": 44,
    "start_time": "2024-02-11T11:31:17.339Z"
   },
   {
    "duration": 12,
    "start_time": "2024-02-11T11:31:17.385Z"
   },
   {
    "duration": 90,
    "start_time": "2024-02-11T11:31:17.399Z"
   },
   {
    "duration": 723,
    "start_time": "2024-02-11T11:31:17.490Z"
   },
   {
    "duration": 0,
    "start_time": "2024-02-11T11:31:18.215Z"
   },
   {
    "duration": 0,
    "start_time": "2024-02-11T11:31:18.216Z"
   },
   {
    "duration": 0,
    "start_time": "2024-02-11T11:31:18.217Z"
   },
   {
    "duration": 0,
    "start_time": "2024-02-11T11:31:18.218Z"
   },
   {
    "duration": 0,
    "start_time": "2024-02-11T11:31:18.219Z"
   },
   {
    "duration": 0,
    "start_time": "2024-02-11T11:31:18.220Z"
   },
   {
    "duration": 0,
    "start_time": "2024-02-11T11:31:18.221Z"
   },
   {
    "duration": 0,
    "start_time": "2024-02-11T11:31:18.222Z"
   },
   {
    "duration": 0,
    "start_time": "2024-02-11T11:31:18.223Z"
   },
   {
    "duration": 0,
    "start_time": "2024-02-11T11:31:18.224Z"
   },
   {
    "duration": 0,
    "start_time": "2024-02-11T11:31:18.225Z"
   },
   {
    "duration": 0,
    "start_time": "2024-02-11T11:31:18.226Z"
   },
   {
    "duration": 0,
    "start_time": "2024-02-11T11:31:18.227Z"
   },
   {
    "duration": 12688,
    "start_time": "2024-02-11T11:31:26.541Z"
   },
   {
    "duration": 121,
    "start_time": "2024-02-11T11:31:45.497Z"
   },
   {
    "duration": 6,
    "start_time": "2024-02-11T11:31:50.981Z"
   },
   {
    "duration": 87106,
    "start_time": "2024-02-11T11:31:52.965Z"
   },
   {
    "duration": 2736,
    "start_time": "2024-02-11T11:33:26.646Z"
   },
   {
    "duration": 3,
    "start_time": "2024-02-11T11:33:30.911Z"
   },
   {
    "duration": 4042,
    "start_time": "2024-02-11T11:34:21.209Z"
   },
   {
    "duration": 3,
    "start_time": "2024-02-11T11:34:35.222Z"
   },
   {
    "duration": 367657,
    "start_time": "2024-02-11T11:35:24.756Z"
   },
   {
    "duration": 8264,
    "start_time": "2024-02-11T11:42:02.882Z"
   },
   {
    "duration": 13036,
    "start_time": "2024-02-11T11:50:29.996Z"
   },
   {
    "duration": 934,
    "start_time": "2024-02-11T11:50:43.034Z"
   },
   {
    "duration": 19,
    "start_time": "2024-02-11T11:50:43.969Z"
   },
   {
    "duration": 5,
    "start_time": "2024-02-11T11:50:43.990Z"
   },
   {
    "duration": 3,
    "start_time": "2024-02-11T11:50:43.997Z"
   },
   {
    "duration": 1379,
    "start_time": "2024-02-11T11:50:44.002Z"
   },
   {
    "duration": 54,
    "start_time": "2024-02-11T11:50:45.383Z"
   },
   {
    "duration": 4,
    "start_time": "2024-02-11T11:50:45.439Z"
   },
   {
    "duration": 236,
    "start_time": "2024-02-11T11:50:45.445Z"
   },
   {
    "duration": 2498,
    "start_time": "2024-02-11T11:50:45.682Z"
   },
   {
    "duration": 15,
    "start_time": "2024-02-11T11:50:48.181Z"
   },
   {
    "duration": 5141,
    "start_time": "2024-02-11T11:50:48.197Z"
   },
   {
    "duration": 86,
    "start_time": "2024-02-11T11:50:53.340Z"
   },
   {
    "duration": 21,
    "start_time": "2024-02-11T11:50:53.429Z"
   },
   {
    "duration": 30,
    "start_time": "2024-02-11T11:50:53.452Z"
   },
   {
    "duration": 34,
    "start_time": "2024-02-11T11:50:53.484Z"
   },
   {
    "duration": 79,
    "start_time": "2024-02-11T11:50:53.519Z"
   },
   {
    "duration": 230,
    "start_time": "2024-02-11T11:50:53.599Z"
   },
   {
    "duration": 22496,
    "start_time": "2024-02-11T11:50:53.831Z"
   },
   {
    "duration": 19,
    "start_time": "2024-02-11T11:51:16.329Z"
   },
   {
    "duration": 22311,
    "start_time": "2024-02-11T11:51:16.349Z"
   },
   {
    "duration": 28,
    "start_time": "2024-02-11T11:51:38.667Z"
   },
   {
    "duration": 172,
    "start_time": "2024-02-11T11:51:38.697Z"
   },
   {
    "duration": 34,
    "start_time": "2024-02-11T11:51:38.871Z"
   },
   {
    "duration": 116,
    "start_time": "2024-02-11T11:51:38.906Z"
   },
   {
    "duration": 87,
    "start_time": "2024-02-11T11:51:39.023Z"
   },
   {
    "duration": 8,
    "start_time": "2024-02-11T11:51:39.112Z"
   },
   {
    "duration": 6,
    "start_time": "2024-02-11T11:51:39.122Z"
   },
   {
    "duration": 23,
    "start_time": "2024-02-11T11:51:39.130Z"
   },
   {
    "duration": 12612,
    "start_time": "2024-02-11T11:51:39.154Z"
   },
   {
    "duration": 78,
    "start_time": "2024-02-11T11:51:51.768Z"
   },
   {
    "duration": 22,
    "start_time": "2024-02-11T11:51:51.847Z"
   },
   {
    "duration": 37,
    "start_time": "2024-02-11T11:51:51.870Z"
   },
   {
    "duration": 4,
    "start_time": "2024-02-11T11:51:51.908Z"
   },
   {
    "duration": 78,
    "start_time": "2024-02-11T11:51:51.913Z"
   },
   {
    "duration": 7,
    "start_time": "2024-02-11T11:51:51.992Z"
   },
   {
    "duration": 18,
    "start_time": "2024-02-11T11:51:52.000Z"
   },
   {
    "duration": 60,
    "start_time": "2024-02-11T11:51:52.020Z"
   },
   {
    "duration": 14,
    "start_time": "2024-02-11T11:51:52.082Z"
   },
   {
    "duration": 12529,
    "start_time": "2024-02-11T11:51:52.099Z"
   },
   {
    "duration": 8,
    "start_time": "2024-02-11T11:52:04.632Z"
   },
   {
    "duration": 22,
    "start_time": "2024-02-11T11:52:04.641Z"
   },
   {
    "duration": 30,
    "start_time": "2024-02-11T11:52:04.679Z"
   },
   {
    "duration": 33,
    "start_time": "2024-02-11T11:52:04.711Z"
   },
   {
    "duration": 11,
    "start_time": "2024-02-11T11:52:04.745Z"
   },
   {
    "duration": 35,
    "start_time": "2024-02-11T11:52:04.757Z"
   },
   {
    "duration": 28,
    "start_time": "2024-02-11T11:52:04.793Z"
   },
   {
    "duration": 13,
    "start_time": "2024-02-11T11:52:04.823Z"
   },
   {
    "duration": 51,
    "start_time": "2024-02-11T11:52:04.838Z"
   },
   {
    "duration": 5,
    "start_time": "2024-02-11T11:52:04.891Z"
   },
   {
    "duration": 28,
    "start_time": "2024-02-11T11:52:04.898Z"
   },
   {
    "duration": 12,
    "start_time": "2024-02-11T11:52:04.928Z"
   },
   {
    "duration": 102,
    "start_time": "2024-02-11T11:52:04.942Z"
   },
   {
    "duration": 30544,
    "start_time": "2024-02-11T11:52:05.045Z"
   },
   {
    "duration": 22089,
    "start_time": "2024-02-11T11:52:35.591Z"
   },
   {
    "duration": 132,
    "start_time": "2024-02-11T11:52:57.682Z"
   },
   {
    "duration": 6,
    "start_time": "2024-02-11T11:52:57.815Z"
   },
   {
    "duration": 12,
    "start_time": "2024-02-11T11:52:57.823Z"
   },
   {
    "duration": 0,
    "start_time": "2024-02-11T11:52:57.837Z"
   },
   {
    "duration": 0,
    "start_time": "2024-02-11T11:52:57.838Z"
   },
   {
    "duration": 0,
    "start_time": "2024-02-11T11:52:57.839Z"
   },
   {
    "duration": 0,
    "start_time": "2024-02-11T11:52:57.840Z"
   },
   {
    "duration": 0,
    "start_time": "2024-02-11T11:52:57.841Z"
   },
   {
    "duration": 0,
    "start_time": "2024-02-11T11:52:57.842Z"
   },
   {
    "duration": 1,
    "start_time": "2024-02-11T11:52:57.843Z"
   },
   {
    "duration": 282401,
    "start_time": "2024-02-11T11:56:46.986Z"
   },
   {
    "duration": 223,
    "start_time": "2024-02-11T12:01:44.197Z"
   },
   {
    "duration": 130549,
    "start_time": "2024-02-11T12:01:48.187Z"
   },
   {
    "duration": 272,
    "start_time": "2024-02-11T12:04:35.150Z"
   },
   {
    "duration": 4010,
    "start_time": "2024-02-11T12:04:36.958Z"
   },
   {
    "duration": 2,
    "start_time": "2024-02-11T12:04:40.970Z"
   },
   {
    "duration": 861423,
    "start_time": "2024-02-11T12:04:40.974Z"
   },
   {
    "duration": 10199,
    "start_time": "2024-02-11T12:19:16.982Z"
   },
   {
    "duration": 13163,
    "start_time": "2024-02-11T12:22:20.135Z"
   },
   {
    "duration": 904,
    "start_time": "2024-02-11T12:22:33.301Z"
   },
   {
    "duration": 18,
    "start_time": "2024-02-11T12:22:34.206Z"
   },
   {
    "duration": 4,
    "start_time": "2024-02-11T12:22:34.226Z"
   },
   {
    "duration": 5,
    "start_time": "2024-02-11T12:22:34.232Z"
   },
   {
    "duration": 1350,
    "start_time": "2024-02-11T12:22:34.238Z"
   },
   {
    "duration": 63,
    "start_time": "2024-02-11T12:22:35.591Z"
   },
   {
    "duration": 4,
    "start_time": "2024-02-11T12:22:35.656Z"
   },
   {
    "duration": 263,
    "start_time": "2024-02-11T12:22:35.681Z"
   },
   {
    "duration": 2452,
    "start_time": "2024-02-11T12:22:35.945Z"
   },
   {
    "duration": 14,
    "start_time": "2024-02-11T12:22:38.398Z"
   },
   {
    "duration": 5166,
    "start_time": "2024-02-11T12:22:38.414Z"
   },
   {
    "duration": 85,
    "start_time": "2024-02-11T12:22:43.581Z"
   },
   {
    "duration": 22,
    "start_time": "2024-02-11T12:22:43.679Z"
   },
   {
    "duration": 29,
    "start_time": "2024-02-11T12:22:43.703Z"
   },
   {
    "duration": 35,
    "start_time": "2024-02-11T12:22:43.734Z"
   },
   {
    "duration": 63,
    "start_time": "2024-02-11T12:22:43.780Z"
   },
   {
    "duration": 259,
    "start_time": "2024-02-11T12:22:43.845Z"
   },
   {
    "duration": 22235,
    "start_time": "2024-02-11T12:22:44.106Z"
   },
   {
    "duration": 19,
    "start_time": "2024-02-11T12:23:06.343Z"
   },
   {
    "duration": 22407,
    "start_time": "2024-02-11T12:23:06.363Z"
   },
   {
    "duration": 22,
    "start_time": "2024-02-11T12:23:28.772Z"
   },
   {
    "duration": 164,
    "start_time": "2024-02-11T12:23:28.796Z"
   },
   {
    "duration": 37,
    "start_time": "2024-02-11T12:23:28.962Z"
   },
   {
    "duration": 105,
    "start_time": "2024-02-11T12:23:29.001Z"
   },
   {
    "duration": 3,
    "start_time": "2024-02-11T12:23:29.108Z"
   },
   {
    "duration": 5,
    "start_time": "2024-02-11T12:23:29.112Z"
   },
   {
    "duration": 10,
    "start_time": "2024-02-11T12:23:29.119Z"
   },
   {
    "duration": 5,
    "start_time": "2024-02-11T12:23:29.130Z"
   },
   {
    "duration": 12594,
    "start_time": "2024-02-11T12:23:29.137Z"
   },
   {
    "duration": 80,
    "start_time": "2024-02-11T12:23:41.732Z"
   },
   {
    "duration": 9,
    "start_time": "2024-02-11T12:23:41.814Z"
   },
   {
    "duration": 34,
    "start_time": "2024-02-11T12:23:41.825Z"
   },
   {
    "duration": 22,
    "start_time": "2024-02-11T12:23:41.860Z"
   },
   {
    "duration": 74,
    "start_time": "2024-02-11T12:23:41.883Z"
   },
   {
    "duration": 6,
    "start_time": "2024-02-11T12:23:41.958Z"
   },
   {
    "duration": 27,
    "start_time": "2024-02-11T12:23:41.966Z"
   },
   {
    "duration": 33,
    "start_time": "2024-02-11T12:23:41.995Z"
   },
   {
    "duration": 13,
    "start_time": "2024-02-11T12:23:42.030Z"
   },
   {
    "duration": 12564,
    "start_time": "2024-02-11T12:23:42.045Z"
   },
   {
    "duration": 9,
    "start_time": "2024-02-11T12:23:54.613Z"
   },
   {
    "duration": 21,
    "start_time": "2024-02-11T12:23:54.623Z"
   },
   {
    "duration": 47,
    "start_time": "2024-02-11T12:23:54.646Z"
   },
   {
    "duration": 33,
    "start_time": "2024-02-11T12:23:54.694Z"
   },
   {
    "duration": 16,
    "start_time": "2024-02-11T12:23:54.729Z"
   },
   {
    "duration": 34,
    "start_time": "2024-02-11T12:23:54.747Z"
   },
   {
    "duration": 27,
    "start_time": "2024-02-11T12:23:54.783Z"
   },
   {
    "duration": 14,
    "start_time": "2024-02-11T12:23:54.812Z"
   },
   {
    "duration": 27,
    "start_time": "2024-02-11T12:23:54.827Z"
   },
   {
    "duration": 6,
    "start_time": "2024-02-11T12:23:54.879Z"
   },
   {
    "duration": 29,
    "start_time": "2024-02-11T12:23:54.886Z"
   },
   {
    "duration": 13,
    "start_time": "2024-02-11T12:23:54.917Z"
   },
   {
    "duration": 93,
    "start_time": "2024-02-11T12:23:54.931Z"
   },
   {
    "duration": 31006,
    "start_time": "2024-02-11T12:23:55.025Z"
   },
   {
    "duration": 21872,
    "start_time": "2024-02-11T12:24:26.033Z"
   },
   {
    "duration": 143,
    "start_time": "2024-02-11T12:24:47.907Z"
   },
   {
    "duration": 6,
    "start_time": "2024-02-11T12:24:48.052Z"
   },
   {
    "duration": 273037,
    "start_time": "2024-02-11T12:24:48.059Z"
   },
   {
    "duration": 241,
    "start_time": "2024-02-11T12:29:21.098Z"
   },
   {
    "duration": 131325,
    "start_time": "2024-02-11T12:29:21.340Z"
   },
   {
    "duration": 270,
    "start_time": "2024-02-11T12:31:32.666Z"
   },
   {
    "duration": 4100,
    "start_time": "2024-02-11T12:31:32.938Z"
   },
   {
    "duration": 3,
    "start_time": "2024-02-11T12:31:37.040Z"
   },
   {
    "duration": 906451,
    "start_time": "2024-02-11T12:31:37.045Z"
   },
   {
    "duration": 9787,
    "start_time": "2024-02-11T12:46:43.498Z"
   },
   {
    "duration": 23214,
    "start_time": "2024-02-11T14:54:11.182Z"
   },
   {
    "duration": 2991,
    "start_time": "2024-02-11T14:54:34.399Z"
   },
   {
    "duration": 18,
    "start_time": "2024-02-11T14:54:37.391Z"
   },
   {
    "duration": 5,
    "start_time": "2024-02-11T14:54:37.411Z"
   },
   {
    "duration": 4,
    "start_time": "2024-02-11T14:54:37.417Z"
   },
   {
    "duration": 1329,
    "start_time": "2024-02-11T14:54:37.423Z"
   },
   {
    "duration": 66,
    "start_time": "2024-02-11T14:54:38.754Z"
   },
   {
    "duration": 4,
    "start_time": "2024-02-11T14:54:38.821Z"
   },
   {
    "duration": 230,
    "start_time": "2024-02-11T14:54:38.827Z"
   },
   {
    "duration": 2386,
    "start_time": "2024-02-11T14:54:39.060Z"
   },
   {
    "duration": 14,
    "start_time": "2024-02-11T14:54:41.447Z"
   },
   {
    "duration": 5011,
    "start_time": "2024-02-11T14:54:41.462Z"
   },
   {
    "duration": 83,
    "start_time": "2024-02-11T14:54:46.474Z"
   },
   {
    "duration": 34,
    "start_time": "2024-02-11T14:54:46.559Z"
   },
   {
    "duration": 24,
    "start_time": "2024-02-11T14:54:46.594Z"
   },
   {
    "duration": 39,
    "start_time": "2024-02-11T14:54:46.619Z"
   },
   {
    "duration": 59,
    "start_time": "2024-02-11T14:54:46.673Z"
   },
   {
    "duration": 245,
    "start_time": "2024-02-11T14:54:46.733Z"
   },
   {
    "duration": 22272,
    "start_time": "2024-02-11T14:54:46.981Z"
   },
   {
    "duration": 23,
    "start_time": "2024-02-11T14:55:09.255Z"
   },
   {
    "duration": 22150,
    "start_time": "2024-02-11T14:55:09.280Z"
   },
   {
    "duration": 21,
    "start_time": "2024-02-11T14:55:31.431Z"
   },
   {
    "duration": 187,
    "start_time": "2024-02-11T14:55:31.454Z"
   },
   {
    "duration": 39,
    "start_time": "2024-02-11T14:55:31.643Z"
   },
   {
    "duration": 121,
    "start_time": "2024-02-11T14:55:31.684Z"
   },
   {
    "duration": 4,
    "start_time": "2024-02-11T14:55:31.807Z"
   },
   {
    "duration": 15,
    "start_time": "2024-02-11T14:55:31.813Z"
   },
   {
    "duration": 11,
    "start_time": "2024-02-11T14:55:31.833Z"
   },
   {
    "duration": 16,
    "start_time": "2024-02-11T14:55:31.846Z"
   },
   {
    "duration": 12592,
    "start_time": "2024-02-11T14:55:31.864Z"
   },
   {
    "duration": 82,
    "start_time": "2024-02-11T14:55:44.458Z"
   },
   {
    "duration": 9,
    "start_time": "2024-02-11T14:55:44.542Z"
   },
   {
    "duration": 34,
    "start_time": "2024-02-11T14:55:44.573Z"
   },
   {
    "duration": 5,
    "start_time": "2024-02-11T14:55:44.609Z"
   },
   {
    "duration": 89,
    "start_time": "2024-02-11T14:55:44.615Z"
   },
   {
    "duration": 7,
    "start_time": "2024-02-11T14:55:44.705Z"
   },
   {
    "duration": 14,
    "start_time": "2024-02-11T14:55:44.713Z"
   },
   {
    "duration": 61,
    "start_time": "2024-02-11T14:55:44.729Z"
   },
   {
    "duration": 12,
    "start_time": "2024-02-11T14:55:44.791Z"
   },
   {
    "duration": 12524,
    "start_time": "2024-02-11T14:55:44.805Z"
   },
   {
    "duration": 7,
    "start_time": "2024-02-11T14:55:57.331Z"
   },
   {
    "duration": 33,
    "start_time": "2024-02-11T14:55:57.340Z"
   },
   {
    "duration": 29,
    "start_time": "2024-02-11T14:55:57.374Z"
   },
   {
    "duration": 31,
    "start_time": "2024-02-11T14:55:57.404Z"
   },
   {
    "duration": 42,
    "start_time": "2024-02-11T14:55:57.437Z"
   },
   {
    "duration": 20,
    "start_time": "2024-02-11T14:55:57.480Z"
   },
   {
    "duration": 27,
    "start_time": "2024-02-11T14:55:57.501Z"
   },
   {
    "duration": 14,
    "start_time": "2024-02-11T14:55:57.529Z"
   },
   {
    "duration": 51,
    "start_time": "2024-02-11T14:55:57.545Z"
   },
   {
    "duration": 8,
    "start_time": "2024-02-11T14:55:57.598Z"
   },
   {
    "duration": 33,
    "start_time": "2024-02-11T14:55:57.607Z"
   },
   {
    "duration": 40,
    "start_time": "2024-02-11T14:55:57.642Z"
   },
   {
    "duration": 66,
    "start_time": "2024-02-11T14:55:57.683Z"
   },
   {
    "duration": 7427,
    "start_time": "2024-02-11T14:55:57.751Z"
   },
   {
    "duration": 0,
    "start_time": "2024-02-11T14:56:05.180Z"
   },
   {
    "duration": 0,
    "start_time": "2024-02-11T14:56:05.181Z"
   },
   {
    "duration": 0,
    "start_time": "2024-02-11T14:56:05.182Z"
   },
   {
    "duration": 0,
    "start_time": "2024-02-11T14:56:05.183Z"
   },
   {
    "duration": 127,
    "start_time": "2024-02-11T15:19:35.258Z"
   },
   {
    "duration": 9050,
    "start_time": "2024-02-11T15:19:35.864Z"
   },
   {
    "duration": 12881,
    "start_time": "2024-02-11T15:21:34.843Z"
   },
   {
    "duration": 913,
    "start_time": "2024-02-11T15:21:47.726Z"
   },
   {
    "duration": 18,
    "start_time": "2024-02-11T15:21:48.641Z"
   },
   {
    "duration": 5,
    "start_time": "2024-02-11T15:21:48.672Z"
   },
   {
    "duration": 5,
    "start_time": "2024-02-11T15:21:48.678Z"
   },
   {
    "duration": 1343,
    "start_time": "2024-02-11T15:21:48.684Z"
   },
   {
    "duration": 68,
    "start_time": "2024-02-11T15:21:50.029Z"
   },
   {
    "duration": 4,
    "start_time": "2024-02-11T15:21:50.099Z"
   },
   {
    "duration": 249,
    "start_time": "2024-02-11T15:21:50.105Z"
   },
   {
    "duration": 2436,
    "start_time": "2024-02-11T15:21:50.357Z"
   },
   {
    "duration": 13,
    "start_time": "2024-02-11T15:21:52.795Z"
   },
   {
    "duration": 5017,
    "start_time": "2024-02-11T15:21:52.810Z"
   },
   {
    "duration": 93,
    "start_time": "2024-02-11T15:21:57.829Z"
   },
   {
    "duration": 22,
    "start_time": "2024-02-11T15:21:57.924Z"
   },
   {
    "duration": 33,
    "start_time": "2024-02-11T15:21:57.947Z"
   },
   {
    "duration": 35,
    "start_time": "2024-02-11T15:21:57.982Z"
   },
   {
    "duration": 87,
    "start_time": "2024-02-11T15:21:58.019Z"
   },
   {
    "duration": 245,
    "start_time": "2024-02-11T15:21:58.108Z"
   },
   {
    "duration": 22450,
    "start_time": "2024-02-11T15:21:58.354Z"
   },
   {
    "duration": 20,
    "start_time": "2024-02-11T15:22:20.807Z"
   },
   {
    "duration": 22111,
    "start_time": "2024-02-11T15:22:20.828Z"
   },
   {
    "duration": 20,
    "start_time": "2024-02-11T15:22:42.941Z"
   },
   {
    "duration": 166,
    "start_time": "2024-02-11T15:22:42.973Z"
   },
   {
    "duration": 43,
    "start_time": "2024-02-11T15:22:43.141Z"
   },
   {
    "duration": 110,
    "start_time": "2024-02-11T15:22:43.186Z"
   },
   {
    "duration": 3,
    "start_time": "2024-02-11T15:22:43.298Z"
   },
   {
    "duration": 7,
    "start_time": "2024-02-11T15:22:43.302Z"
   },
   {
    "duration": 15,
    "start_time": "2024-02-11T15:22:43.312Z"
   },
   {
    "duration": 18,
    "start_time": "2024-02-11T15:22:43.329Z"
   },
   {
    "duration": 12463,
    "start_time": "2024-02-11T15:22:43.349Z"
   },
   {
    "duration": 89,
    "start_time": "2024-02-11T15:22:55.814Z"
   },
   {
    "duration": 9,
    "start_time": "2024-02-11T15:22:55.905Z"
   },
   {
    "duration": 32,
    "start_time": "2024-02-11T15:22:55.915Z"
   },
   {
    "duration": 24,
    "start_time": "2024-02-11T15:22:55.949Z"
   },
   {
    "duration": 72,
    "start_time": "2024-02-11T15:22:55.975Z"
   },
   {
    "duration": 28,
    "start_time": "2024-02-11T15:22:56.048Z"
   },
   {
    "duration": 15,
    "start_time": "2024-02-11T15:22:56.078Z"
   },
   {
    "duration": 39,
    "start_time": "2024-02-11T15:22:56.095Z"
   },
   {
    "duration": 39,
    "start_time": "2024-02-11T15:22:56.136Z"
   },
   {
    "duration": 12487,
    "start_time": "2024-02-11T15:22:56.176Z"
   },
   {
    "duration": 12,
    "start_time": "2024-02-11T15:23:08.665Z"
   },
   {
    "duration": 21,
    "start_time": "2024-02-11T15:23:08.678Z"
   },
   {
    "duration": 29,
    "start_time": "2024-02-11T15:23:08.700Z"
   },
   {
    "duration": 63,
    "start_time": "2024-02-11T15:23:08.731Z"
   },
   {
    "duration": 8,
    "start_time": "2024-02-11T15:23:08.796Z"
   },
   {
    "duration": 14,
    "start_time": "2024-02-11T15:23:08.805Z"
   },
   {
    "duration": 27,
    "start_time": "2024-02-11T15:23:08.820Z"
   },
   {
    "duration": 39,
    "start_time": "2024-02-11T15:23:08.848Z"
   },
   {
    "duration": 36,
    "start_time": "2024-02-11T15:23:08.889Z"
   },
   {
    "duration": 5,
    "start_time": "2024-02-11T15:23:08.927Z"
   },
   {
    "duration": 52,
    "start_time": "2024-02-11T15:23:08.934Z"
   },
   {
    "duration": 11,
    "start_time": "2024-02-11T15:23:08.988Z"
   },
   {
    "duration": 83,
    "start_time": "2024-02-11T15:23:09.001Z"
   },
   {
    "duration": 33118,
    "start_time": "2024-02-11T15:23:09.086Z"
   },
   {
    "duration": 22492,
    "start_time": "2024-02-11T15:23:42.206Z"
   },
   {
    "duration": 132,
    "start_time": "2024-02-11T15:24:04.699Z"
   },
   {
    "duration": 6,
    "start_time": "2024-02-11T15:24:04.832Z"
   },
   {
    "duration": 273654,
    "start_time": "2024-02-11T15:24:04.839Z"
   },
   {
    "duration": 17320,
    "start_time": "2024-02-14T03:07:32.208Z"
   },
   {
    "duration": 947,
    "start_time": "2024-02-14T03:07:49.530Z"
   },
   {
    "duration": 16,
    "start_time": "2024-02-14T03:07:50.478Z"
   },
   {
    "duration": 9,
    "start_time": "2024-02-14T03:07:50.495Z"
   },
   {
    "duration": 4,
    "start_time": "2024-02-14T03:07:50.506Z"
   },
   {
    "duration": 917,
    "start_time": "2024-02-14T03:07:50.512Z"
   },
   {
    "duration": 42,
    "start_time": "2024-02-14T03:07:51.431Z"
   },
   {
    "duration": 4,
    "start_time": "2024-02-14T03:07:51.475Z"
   },
   {
    "duration": 171,
    "start_time": "2024-02-14T03:07:51.481Z"
   },
   {
    "duration": 2032,
    "start_time": "2024-02-14T03:07:51.654Z"
   },
   {
    "duration": 14,
    "start_time": "2024-02-14T03:07:53.688Z"
   },
   {
    "duration": 3811,
    "start_time": "2024-02-14T03:07:53.703Z"
   },
   {
    "duration": 64,
    "start_time": "2024-02-14T03:07:57.516Z"
   },
   {
    "duration": 27,
    "start_time": "2024-02-14T03:07:57.584Z"
   },
   {
    "duration": 14,
    "start_time": "2024-02-14T03:07:57.612Z"
   },
   {
    "duration": 25,
    "start_time": "2024-02-14T03:07:57.628Z"
   },
   {
    "duration": 66,
    "start_time": "2024-02-14T03:07:57.654Z"
   },
   {
    "duration": 185,
    "start_time": "2024-02-14T03:07:57.721Z"
   },
   {
    "duration": 14972,
    "start_time": "2024-02-14T03:07:57.907Z"
   },
   {
    "duration": 13,
    "start_time": "2024-02-14T03:08:12.880Z"
   },
   {
    "duration": 14803,
    "start_time": "2024-02-14T03:08:12.902Z"
   },
   {
    "duration": 13,
    "start_time": "2024-02-14T03:08:27.706Z"
   },
   {
    "duration": 108,
    "start_time": "2024-02-14T03:08:27.720Z"
   },
   {
    "duration": 26,
    "start_time": "2024-02-14T03:08:27.830Z"
   },
   {
    "duration": 76,
    "start_time": "2024-02-14T03:08:27.858Z"
   },
   {
    "duration": 3,
    "start_time": "2024-02-14T03:08:27.935Z"
   },
   {
    "duration": 3,
    "start_time": "2024-02-14T03:08:27.940Z"
   },
   {
    "duration": 5,
    "start_time": "2024-02-14T03:08:27.944Z"
   },
   {
    "duration": 7,
    "start_time": "2024-02-14T03:08:27.951Z"
   },
   {
    "duration": 9345,
    "start_time": "2024-02-14T03:08:27.959Z"
   },
   {
    "duration": 64,
    "start_time": "2024-02-14T03:08:37.305Z"
   },
   {
    "duration": 6,
    "start_time": "2024-02-14T03:08:37.370Z"
   },
   {
    "duration": 41,
    "start_time": "2024-02-14T03:08:37.377Z"
   },
   {
    "duration": 4,
    "start_time": "2024-02-14T03:08:37.419Z"
   },
   {
    "duration": 65,
    "start_time": "2024-02-14T03:08:37.424Z"
   },
   {
    "duration": 14,
    "start_time": "2024-02-14T03:08:37.490Z"
   },
   {
    "duration": 15,
    "start_time": "2024-02-14T03:08:37.505Z"
   },
   {
    "duration": 34,
    "start_time": "2024-02-14T03:08:37.521Z"
   },
   {
    "duration": 9,
    "start_time": "2024-02-14T03:08:37.556Z"
   },
   {
    "duration": 8771,
    "start_time": "2024-02-14T03:08:37.566Z"
   },
   {
    "duration": 5,
    "start_time": "2024-02-14T03:08:46.341Z"
   },
   {
    "duration": 16,
    "start_time": "2024-02-14T03:08:46.348Z"
   },
   {
    "duration": 37,
    "start_time": "2024-02-14T03:08:46.366Z"
   },
   {
    "duration": 25,
    "start_time": "2024-02-14T03:08:46.404Z"
   },
   {
    "duration": 7,
    "start_time": "2024-02-14T03:08:46.430Z"
   },
   {
    "duration": 19,
    "start_time": "2024-02-14T03:08:46.439Z"
   },
   {
    "duration": 25,
    "start_time": "2024-02-14T03:08:46.459Z"
   },
   {
    "duration": 17,
    "start_time": "2024-02-14T03:08:46.485Z"
   },
   {
    "duration": 23,
    "start_time": "2024-02-14T03:08:46.504Z"
   },
   {
    "duration": 4,
    "start_time": "2024-02-14T03:08:46.529Z"
   },
   {
    "duration": 25,
    "start_time": "2024-02-14T03:08:46.534Z"
   },
   {
    "duration": 10,
    "start_time": "2024-02-14T03:08:46.561Z"
   },
   {
    "duration": 82,
    "start_time": "2024-02-14T03:08:46.573Z"
   },
   {
    "duration": 4289,
    "start_time": "2024-02-14T03:08:46.657Z"
   },
   {
    "duration": 1,
    "start_time": "2024-02-14T03:08:50.947Z"
   },
   {
    "duration": 0,
    "start_time": "2024-02-14T03:08:50.948Z"
   },
   {
    "duration": 0,
    "start_time": "2024-02-14T03:08:50.949Z"
   },
   {
    "duration": 0,
    "start_time": "2024-02-14T03:08:50.950Z"
   },
   {
    "duration": 0,
    "start_time": "2024-02-14T03:08:50.950Z"
   },
   {
    "duration": 0,
    "start_time": "2024-02-14T03:08:50.951Z"
   },
   {
    "duration": 0,
    "start_time": "2024-02-14T03:08:50.952Z"
   },
   {
    "duration": 0,
    "start_time": "2024-02-14T03:08:50.953Z"
   },
   {
    "duration": 0,
    "start_time": "2024-02-14T03:08:50.953Z"
   },
   {
    "duration": 0,
    "start_time": "2024-02-14T03:08:50.954Z"
   },
   {
    "duration": 0,
    "start_time": "2024-02-14T03:08:50.955Z"
   },
   {
    "duration": 10219,
    "start_time": "2024-02-14T03:10:50.213Z"
   },
   {
    "duration": 6,
    "start_time": "2024-02-14T03:11:16.762Z"
   },
   {
    "duration": 672,
    "start_time": "2024-02-14T03:12:20.714Z"
   },
   {
    "duration": 15,
    "start_time": "2024-02-14T03:12:36.985Z"
   },
   {
    "duration": 10,
    "start_time": "2024-02-14T03:12:44.866Z"
   },
   {
    "duration": 5,
    "start_time": "2024-02-14T03:17:22.093Z"
   },
   {
    "duration": 4,
    "start_time": "2024-02-14T03:22:01.124Z"
   },
   {
    "duration": 31,
    "start_time": "2024-02-14T03:29:45.721Z"
   },
   {
    "duration": 2,
    "start_time": "2024-02-14T03:29:55.744Z"
   },
   {
    "duration": 31,
    "start_time": "2024-02-14T03:29:56.411Z"
   },
   {
    "duration": 35,
    "start_time": "2024-02-14T03:31:47.597Z"
   },
   {
    "duration": 19,
    "start_time": "2024-02-14T03:31:50.529Z"
   },
   {
    "duration": 3,
    "start_time": "2024-02-14T03:42:50.296Z"
   },
   {
    "duration": 5,
    "start_time": "2024-02-14T03:42:54.004Z"
   },
   {
    "duration": 11,
    "start_time": "2024-02-14T03:43:15.834Z"
   },
   {
    "duration": 80,
    "start_time": "2024-02-14T03:43:20.509Z"
   },
   {
    "duration": 9,
    "start_time": "2024-02-14T03:43:43.089Z"
   },
   {
    "duration": 21,
    "start_time": "2024-02-14T03:43:46.899Z"
   },
   {
    "duration": 143,
    "start_time": "2024-02-14T03:43:58.431Z"
   },
   {
    "duration": 57,
    "start_time": "2024-02-14T03:44:30.924Z"
   },
   {
    "duration": 54,
    "start_time": "2024-02-14T03:44:38.995Z"
   },
   {
    "duration": 54,
    "start_time": "2024-02-14T03:44:49.909Z"
   },
   {
    "duration": 52,
    "start_time": "2024-02-14T03:44:59.536Z"
   },
   {
    "duration": 92,
    "start_time": "2024-02-14T03:45:05.628Z"
   },
   {
    "duration": 54,
    "start_time": "2024-02-14T03:45:09.457Z"
   },
   {
    "duration": 56,
    "start_time": "2024-02-14T03:45:14.942Z"
   },
   {
    "duration": 52,
    "start_time": "2024-02-14T03:45:21.263Z"
   },
   {
    "duration": 138,
    "start_time": "2024-02-14T03:45:52.684Z"
   },
   {
    "duration": 167,
    "start_time": "2024-02-14T03:46:09.784Z"
   },
   {
    "duration": 169,
    "start_time": "2024-02-14T03:48:14.771Z"
   },
   {
    "duration": 177,
    "start_time": "2024-02-14T03:48:35.604Z"
   },
   {
    "duration": 174,
    "start_time": "2024-02-14T03:48:40.740Z"
   },
   {
    "duration": 284,
    "start_time": "2024-02-14T03:49:01.688Z"
   },
   {
    "duration": 174,
    "start_time": "2024-02-14T03:49:26.010Z"
   },
   {
    "duration": 179,
    "start_time": "2024-02-14T03:49:35.019Z"
   },
   {
    "duration": 205,
    "start_time": "2024-02-14T03:50:07.705Z"
   },
   {
    "duration": 188,
    "start_time": "2024-02-14T03:50:33.900Z"
   },
   {
    "duration": 183,
    "start_time": "2024-02-14T03:50:43.782Z"
   },
   {
    "duration": 17,
    "start_time": "2024-02-14T03:51:15.807Z"
   },
   {
    "duration": 17,
    "start_time": "2024-02-14T03:51:25.435Z"
   },
   {
    "duration": 10,
    "start_time": "2024-02-14T03:52:08.648Z"
   },
   {
    "duration": 10216,
    "start_time": "2024-02-14T03:52:34.307Z"
   },
   {
    "duration": 1527,
    "start_time": "2024-02-14T03:52:44.525Z"
   },
   {
    "duration": 681,
    "start_time": "2024-02-14T03:52:46.053Z"
   },
   {
    "duration": 13,
    "start_time": "2024-02-14T03:52:46.735Z"
   },
   {
    "duration": 5,
    "start_time": "2024-02-14T03:52:46.749Z"
   },
   {
    "duration": 6,
    "start_time": "2024-02-14T03:52:46.755Z"
   },
   {
    "duration": 901,
    "start_time": "2024-02-14T03:52:46.763Z"
   },
   {
    "duration": 54,
    "start_time": "2024-02-14T03:52:47.665Z"
   },
   {
    "duration": 4,
    "start_time": "2024-02-14T03:52:47.720Z"
   },
   {
    "duration": 5,
    "start_time": "2024-02-14T03:52:47.726Z"
   },
   {
    "duration": 153,
    "start_time": "2024-02-14T03:52:47.732Z"
   },
   {
    "duration": 24,
    "start_time": "2024-02-14T03:52:47.886Z"
   },
   {
    "duration": 1993,
    "start_time": "2024-02-14T03:52:47.911Z"
   },
   {
    "duration": 11,
    "start_time": "2024-02-14T03:52:49.905Z"
   },
   {
    "duration": 3896,
    "start_time": "2024-02-14T03:52:49.917Z"
   },
   {
    "duration": 61,
    "start_time": "2024-02-14T03:52:53.814Z"
   },
   {
    "duration": 26,
    "start_time": "2024-02-14T03:52:53.876Z"
   },
   {
    "duration": 12,
    "start_time": "2024-02-14T03:52:53.903Z"
   },
   {
    "duration": 23,
    "start_time": "2024-02-14T03:52:53.916Z"
   },
   {
    "duration": 63,
    "start_time": "2024-02-14T03:52:53.940Z"
   },
   {
    "duration": 186,
    "start_time": "2024-02-14T03:52:54.004Z"
   },
   {
    "duration": 15004,
    "start_time": "2024-02-14T03:52:54.192Z"
   },
   {
    "duration": 14,
    "start_time": "2024-02-14T03:53:09.198Z"
   },
   {
    "duration": 15045,
    "start_time": "2024-02-14T03:53:09.213Z"
   },
   {
    "duration": 12,
    "start_time": "2024-02-14T03:53:24.259Z"
   },
   {
    "duration": 108,
    "start_time": "2024-02-14T03:53:24.273Z"
   },
   {
    "duration": 33,
    "start_time": "2024-02-14T03:53:24.382Z"
   },
   {
    "duration": 62,
    "start_time": "2024-02-14T03:53:24.418Z"
   },
   {
    "duration": 2,
    "start_time": "2024-02-14T03:53:24.482Z"
   },
   {
    "duration": 16,
    "start_time": "2024-02-14T03:53:24.485Z"
   },
   {
    "duration": 3,
    "start_time": "2024-02-14T03:53:24.502Z"
   },
   {
    "duration": 4,
    "start_time": "2024-02-14T03:53:24.506Z"
   },
   {
    "duration": 9070,
    "start_time": "2024-02-14T03:53:24.511Z"
   },
   {
    "duration": 132,
    "start_time": "2024-02-14T03:53:33.583Z"
   },
   {
    "duration": 0,
    "start_time": "2024-02-14T03:53:33.716Z"
   },
   {
    "duration": 0,
    "start_time": "2024-02-14T03:53:33.717Z"
   },
   {
    "duration": 0,
    "start_time": "2024-02-14T03:53:33.718Z"
   },
   {
    "duration": 0,
    "start_time": "2024-02-14T03:53:33.719Z"
   },
   {
    "duration": 0,
    "start_time": "2024-02-14T03:53:33.720Z"
   },
   {
    "duration": 0,
    "start_time": "2024-02-14T03:53:33.720Z"
   },
   {
    "duration": 0,
    "start_time": "2024-02-14T03:53:33.721Z"
   },
   {
    "duration": 0,
    "start_time": "2024-02-14T03:53:33.722Z"
   },
   {
    "duration": 0,
    "start_time": "2024-02-14T03:53:33.722Z"
   },
   {
    "duration": 0,
    "start_time": "2024-02-14T03:53:33.723Z"
   },
   {
    "duration": 0,
    "start_time": "2024-02-14T03:53:33.724Z"
   },
   {
    "duration": 0,
    "start_time": "2024-02-14T03:53:33.725Z"
   },
   {
    "duration": 0,
    "start_time": "2024-02-14T03:53:33.725Z"
   },
   {
    "duration": 0,
    "start_time": "2024-02-14T03:53:33.726Z"
   },
   {
    "duration": 0,
    "start_time": "2024-02-14T03:53:33.727Z"
   },
   {
    "duration": 0,
    "start_time": "2024-02-14T03:53:33.728Z"
   },
   {
    "duration": 0,
    "start_time": "2024-02-14T03:53:33.728Z"
   },
   {
    "duration": 0,
    "start_time": "2024-02-14T03:53:33.729Z"
   },
   {
    "duration": 0,
    "start_time": "2024-02-14T03:53:33.730Z"
   },
   {
    "duration": 0,
    "start_time": "2024-02-14T03:53:33.731Z"
   },
   {
    "duration": 0,
    "start_time": "2024-02-14T03:53:33.731Z"
   },
   {
    "duration": 0,
    "start_time": "2024-02-14T03:53:33.732Z"
   },
   {
    "duration": 0,
    "start_time": "2024-02-14T03:53:33.733Z"
   },
   {
    "duration": 0,
    "start_time": "2024-02-14T03:53:33.733Z"
   },
   {
    "duration": 0,
    "start_time": "2024-02-14T03:53:33.734Z"
   },
   {
    "duration": 0,
    "start_time": "2024-02-14T03:53:33.735Z"
   },
   {
    "duration": 0,
    "start_time": "2024-02-14T03:53:33.735Z"
   },
   {
    "duration": 0,
    "start_time": "2024-02-14T03:53:33.736Z"
   },
   {
    "duration": 0,
    "start_time": "2024-02-14T03:53:33.737Z"
   },
   {
    "duration": 0,
    "start_time": "2024-02-14T03:53:33.738Z"
   },
   {
    "duration": 0,
    "start_time": "2024-02-14T03:53:33.738Z"
   },
   {
    "duration": 0,
    "start_time": "2024-02-14T03:53:33.739Z"
   },
   {
    "duration": 0,
    "start_time": "2024-02-14T03:53:33.740Z"
   },
   {
    "duration": 0,
    "start_time": "2024-02-14T03:53:33.740Z"
   },
   {
    "duration": 0,
    "start_time": "2024-02-14T03:53:33.741Z"
   },
   {
    "duration": 0,
    "start_time": "2024-02-14T03:53:33.742Z"
   },
   {
    "duration": 0,
    "start_time": "2024-02-14T03:53:33.743Z"
   },
   {
    "duration": 0,
    "start_time": "2024-02-14T03:53:33.744Z"
   },
   {
    "duration": 654,
    "start_time": "2024-02-14T03:54:12.618Z"
   },
   {
    "duration": 4,
    "start_time": "2024-02-14T03:54:20.541Z"
   },
   {
    "duration": 4,
    "start_time": "2024-02-14T03:54:40.893Z"
   },
   {
    "duration": 184,
    "start_time": "2024-02-14T03:54:53.478Z"
   },
   {
    "duration": 10155,
    "start_time": "2024-02-14T03:55:03.212Z"
   },
   {
    "duration": 1485,
    "start_time": "2024-02-14T03:55:13.369Z"
   },
   {
    "duration": 700,
    "start_time": "2024-02-14T03:55:14.855Z"
   },
   {
    "duration": 13,
    "start_time": "2024-02-14T03:55:15.556Z"
   },
   {
    "duration": 5,
    "start_time": "2024-02-14T03:55:15.571Z"
   },
   {
    "duration": 22,
    "start_time": "2024-02-14T03:55:15.577Z"
   },
   {
    "duration": 954,
    "start_time": "2024-02-14T03:55:15.600Z"
   },
   {
    "duration": 4,
    "start_time": "2024-02-14T03:55:16.555Z"
   },
   {
    "duration": 12,
    "start_time": "2024-02-14T03:55:16.560Z"
   },
   {
    "duration": 10,
    "start_time": "2024-02-14T03:55:16.573Z"
   },
   {
    "duration": 148,
    "start_time": "2024-02-14T03:55:16.584Z"
   },
   {
    "duration": 17,
    "start_time": "2024-02-14T03:55:16.733Z"
   },
   {
    "duration": 2032,
    "start_time": "2024-02-14T03:55:16.751Z"
   },
   {
    "duration": 15,
    "start_time": "2024-02-14T03:55:18.786Z"
   },
   {
    "duration": 3882,
    "start_time": "2024-02-14T03:55:18.802Z"
   },
   {
    "duration": 66,
    "start_time": "2024-02-14T03:55:22.685Z"
   },
   {
    "duration": 16,
    "start_time": "2024-02-14T03:55:22.753Z"
   },
   {
    "duration": 14,
    "start_time": "2024-02-14T03:55:22.770Z"
   },
   {
    "duration": 38,
    "start_time": "2024-02-14T03:55:22.785Z"
   },
   {
    "duration": 50,
    "start_time": "2024-02-14T03:55:22.824Z"
   },
   {
    "duration": 203,
    "start_time": "2024-02-14T03:55:22.876Z"
   },
   {
    "duration": 15249,
    "start_time": "2024-02-14T03:55:23.080Z"
   },
   {
    "duration": 13,
    "start_time": "2024-02-14T03:55:38.330Z"
   },
   {
    "duration": 15252,
    "start_time": "2024-02-14T03:55:38.345Z"
   },
   {
    "duration": 14,
    "start_time": "2024-02-14T03:55:53.598Z"
   },
   {
    "duration": 101,
    "start_time": "2024-02-14T03:55:53.614Z"
   },
   {
    "duration": 131,
    "start_time": "2024-02-14T03:55:53.716Z"
   },
   {
    "duration": 0,
    "start_time": "2024-02-14T03:55:53.849Z"
   },
   {
    "duration": 0,
    "start_time": "2024-02-14T03:55:53.850Z"
   },
   {
    "duration": 0,
    "start_time": "2024-02-14T03:55:53.851Z"
   },
   {
    "duration": 0,
    "start_time": "2024-02-14T03:55:53.852Z"
   },
   {
    "duration": 0,
    "start_time": "2024-02-14T03:55:53.852Z"
   },
   {
    "duration": 0,
    "start_time": "2024-02-14T03:55:53.853Z"
   },
   {
    "duration": 0,
    "start_time": "2024-02-14T03:55:53.854Z"
   },
   {
    "duration": 0,
    "start_time": "2024-02-14T03:55:53.855Z"
   },
   {
    "duration": 0,
    "start_time": "2024-02-14T03:55:53.855Z"
   },
   {
    "duration": 0,
    "start_time": "2024-02-14T03:55:53.856Z"
   },
   {
    "duration": 0,
    "start_time": "2024-02-14T03:55:53.857Z"
   },
   {
    "duration": 0,
    "start_time": "2024-02-14T03:55:53.858Z"
   },
   {
    "duration": 0,
    "start_time": "2024-02-14T03:55:53.858Z"
   },
   {
    "duration": 0,
    "start_time": "2024-02-14T03:55:53.859Z"
   },
   {
    "duration": 0,
    "start_time": "2024-02-14T03:55:53.860Z"
   },
   {
    "duration": 0,
    "start_time": "2024-02-14T03:55:53.860Z"
   },
   {
    "duration": 0,
    "start_time": "2024-02-14T03:55:53.861Z"
   },
   {
    "duration": 0,
    "start_time": "2024-02-14T03:55:53.862Z"
   },
   {
    "duration": 0,
    "start_time": "2024-02-14T03:55:53.862Z"
   },
   {
    "duration": 0,
    "start_time": "2024-02-14T03:55:53.863Z"
   },
   {
    "duration": 0,
    "start_time": "2024-02-14T03:55:53.863Z"
   },
   {
    "duration": 0,
    "start_time": "2024-02-14T03:55:53.864Z"
   },
   {
    "duration": 0,
    "start_time": "2024-02-14T03:55:53.865Z"
   },
   {
    "duration": 0,
    "start_time": "2024-02-14T03:55:53.865Z"
   },
   {
    "duration": 0,
    "start_time": "2024-02-14T03:55:53.866Z"
   },
   {
    "duration": 0,
    "start_time": "2024-02-14T03:55:53.867Z"
   },
   {
    "duration": 0,
    "start_time": "2024-02-14T03:55:53.901Z"
   },
   {
    "duration": 0,
    "start_time": "2024-02-14T03:55:53.902Z"
   },
   {
    "duration": 0,
    "start_time": "2024-02-14T03:55:53.902Z"
   },
   {
    "duration": 0,
    "start_time": "2024-02-14T03:55:53.903Z"
   },
   {
    "duration": 0,
    "start_time": "2024-02-14T03:55:53.904Z"
   },
   {
    "duration": 0,
    "start_time": "2024-02-14T03:55:53.904Z"
   },
   {
    "duration": 0,
    "start_time": "2024-02-14T03:55:53.905Z"
   },
   {
    "duration": 0,
    "start_time": "2024-02-14T03:55:53.906Z"
   },
   {
    "duration": 0,
    "start_time": "2024-02-14T03:55:53.907Z"
   },
   {
    "duration": 0,
    "start_time": "2024-02-14T03:55:53.907Z"
   },
   {
    "duration": 0,
    "start_time": "2024-02-14T03:55:53.908Z"
   },
   {
    "duration": 0,
    "start_time": "2024-02-14T03:55:53.909Z"
   },
   {
    "duration": 0,
    "start_time": "2024-02-14T03:55:53.910Z"
   },
   {
    "duration": 0,
    "start_time": "2024-02-14T03:55:53.910Z"
   },
   {
    "duration": 0,
    "start_time": "2024-02-14T03:55:53.911Z"
   },
   {
    "duration": 0,
    "start_time": "2024-02-14T03:55:53.912Z"
   },
   {
    "duration": 0,
    "start_time": "2024-02-14T03:55:53.913Z"
   },
   {
    "duration": 0,
    "start_time": "2024-02-14T03:55:53.914Z"
   },
   {
    "duration": 0,
    "start_time": "2024-02-14T03:55:53.915Z"
   },
   {
    "duration": 15,
    "start_time": "2024-02-14T03:56:22.815Z"
   },
   {
    "duration": 2,
    "start_time": "2024-02-14T03:56:25.716Z"
   },
   {
    "duration": 3,
    "start_time": "2024-02-14T03:56:26.869Z"
   },
   {
    "duration": 4,
    "start_time": "2024-02-14T03:56:27.759Z"
   },
   {
    "duration": 3,
    "start_time": "2024-02-14T03:56:28.143Z"
   },
   {
    "duration": 9363,
    "start_time": "2024-02-14T03:56:28.485Z"
   },
   {
    "duration": 12,
    "start_time": "2024-02-14T03:56:37.850Z"
   },
   {
    "duration": 0,
    "start_time": "2024-02-14T03:56:37.863Z"
   },
   {
    "duration": 0,
    "start_time": "2024-02-14T03:56:37.864Z"
   },
   {
    "duration": 0,
    "start_time": "2024-02-14T03:56:37.865Z"
   },
   {
    "duration": 11,
    "start_time": "2024-02-14T03:57:12.412Z"
   },
   {
    "duration": 163,
    "start_time": "2024-02-14T03:57:27.034Z"
   },
   {
    "duration": 158,
    "start_time": "2024-02-14T03:57:31.980Z"
   },
   {
    "duration": 10,
    "start_time": "2024-02-14T03:57:36.430Z"
   },
   {
    "duration": 180,
    "start_time": "2024-02-14T03:57:49.990Z"
   },
   {
    "duration": 9,
    "start_time": "2024-02-14T04:04:04.267Z"
   },
   {
    "duration": 15,
    "start_time": "2024-02-14T04:04:35.383Z"
   },
   {
    "duration": 15,
    "start_time": "2024-02-14T04:04:44.156Z"
   },
   {
    "duration": 640,
    "start_time": "2024-02-14T04:04:51.978Z"
   },
   {
    "duration": 636,
    "start_time": "2024-02-14T04:05:04.604Z"
   },
   {
    "duration": 633,
    "start_time": "2024-02-14T04:05:39.007Z"
   },
   {
    "duration": 15,
    "start_time": "2024-02-14T04:05:50.503Z"
   },
   {
    "duration": 694,
    "start_time": "2024-02-14T04:05:57.613Z"
   },
   {
    "duration": 10399,
    "start_time": "2024-02-14T04:06:58.610Z"
   },
   {
    "duration": 1615,
    "start_time": "2024-02-14T04:07:09.012Z"
   },
   {
    "duration": 700,
    "start_time": "2024-02-14T04:07:10.629Z"
   },
   {
    "duration": 13,
    "start_time": "2024-02-14T04:07:11.331Z"
   },
   {
    "duration": 6,
    "start_time": "2024-02-14T04:07:11.346Z"
   },
   {
    "duration": 15,
    "start_time": "2024-02-14T04:07:11.353Z"
   },
   {
    "duration": 970,
    "start_time": "2024-02-14T04:07:11.369Z"
   },
   {
    "duration": 4,
    "start_time": "2024-02-14T04:07:12.340Z"
   },
   {
    "duration": 19,
    "start_time": "2024-02-14T04:07:12.345Z"
   },
   {
    "duration": 17,
    "start_time": "2024-02-14T04:07:12.365Z"
   },
   {
    "duration": 144,
    "start_time": "2024-02-14T04:07:12.384Z"
   },
   {
    "duration": 18,
    "start_time": "2024-02-14T04:07:12.530Z"
   },
   {
    "duration": 2049,
    "start_time": "2024-02-14T04:07:12.549Z"
   },
   {
    "duration": 10,
    "start_time": "2024-02-14T04:07:14.601Z"
   },
   {
    "duration": 3739,
    "start_time": "2024-02-14T04:07:14.612Z"
   },
   {
    "duration": 69,
    "start_time": "2024-02-14T04:07:18.353Z"
   },
   {
    "duration": 16,
    "start_time": "2024-02-14T04:07:18.424Z"
   },
   {
    "duration": 12,
    "start_time": "2024-02-14T04:07:18.442Z"
   },
   {
    "duration": 22,
    "start_time": "2024-02-14T04:07:18.455Z"
   },
   {
    "duration": 72,
    "start_time": "2024-02-14T04:07:18.478Z"
   },
   {
    "duration": 188,
    "start_time": "2024-02-14T04:07:18.551Z"
   },
   {
    "duration": 15128,
    "start_time": "2024-02-14T04:07:18.741Z"
   },
   {
    "duration": 13,
    "start_time": "2024-02-14T04:07:33.870Z"
   },
   {
    "duration": 14787,
    "start_time": "2024-02-14T04:07:33.884Z"
   },
   {
    "duration": 12,
    "start_time": "2024-02-14T04:07:48.672Z"
   },
   {
    "duration": 100,
    "start_time": "2024-02-14T04:07:48.685Z"
   },
   {
    "duration": 32,
    "start_time": "2024-02-14T04:07:48.787Z"
   },
   {
    "duration": 62,
    "start_time": "2024-02-14T04:07:48.821Z"
   },
   {
    "duration": 2,
    "start_time": "2024-02-14T04:07:48.884Z"
   },
   {
    "duration": 2,
    "start_time": "2024-02-14T04:07:48.902Z"
   },
   {
    "duration": 5,
    "start_time": "2024-02-14T04:07:48.905Z"
   },
   {
    "duration": 3,
    "start_time": "2024-02-14T04:07:48.911Z"
   },
   {
    "duration": 9100,
    "start_time": "2024-02-14T04:07:48.915Z"
   },
   {
    "duration": 159,
    "start_time": "2024-02-14T04:07:58.016Z"
   },
   {
    "duration": 169,
    "start_time": "2024-02-14T04:07:58.176Z"
   },
   {
    "duration": 184,
    "start_time": "2024-02-14T04:07:58.346Z"
   },
   {
    "duration": 163,
    "start_time": "2024-02-14T04:07:58.532Z"
   },
   {
    "duration": 127,
    "start_time": "2024-02-14T04:07:58.696Z"
   },
   {
    "duration": 0,
    "start_time": "2024-02-14T04:07:58.825Z"
   },
   {
    "duration": 0,
    "start_time": "2024-02-14T04:07:58.826Z"
   },
   {
    "duration": 0,
    "start_time": "2024-02-14T04:07:58.827Z"
   },
   {
    "duration": 0,
    "start_time": "2024-02-14T04:07:58.828Z"
   },
   {
    "duration": 0,
    "start_time": "2024-02-14T04:07:58.829Z"
   },
   {
    "duration": 0,
    "start_time": "2024-02-14T04:07:58.830Z"
   },
   {
    "duration": 0,
    "start_time": "2024-02-14T04:07:58.830Z"
   },
   {
    "duration": 0,
    "start_time": "2024-02-14T04:07:58.831Z"
   },
   {
    "duration": 0,
    "start_time": "2024-02-14T04:07:58.832Z"
   },
   {
    "duration": 0,
    "start_time": "2024-02-14T04:07:58.833Z"
   },
   {
    "duration": 0,
    "start_time": "2024-02-14T04:07:58.834Z"
   },
   {
    "duration": 0,
    "start_time": "2024-02-14T04:07:58.835Z"
   },
   {
    "duration": 0,
    "start_time": "2024-02-14T04:07:58.835Z"
   },
   {
    "duration": 0,
    "start_time": "2024-02-14T04:07:58.836Z"
   },
   {
    "duration": 0,
    "start_time": "2024-02-14T04:07:58.837Z"
   },
   {
    "duration": 0,
    "start_time": "2024-02-14T04:07:58.838Z"
   },
   {
    "duration": 0,
    "start_time": "2024-02-14T04:07:58.839Z"
   },
   {
    "duration": 0,
    "start_time": "2024-02-14T04:07:58.840Z"
   },
   {
    "duration": 0,
    "start_time": "2024-02-14T04:07:58.841Z"
   },
   {
    "duration": 0,
    "start_time": "2024-02-14T04:07:58.841Z"
   },
   {
    "duration": 0,
    "start_time": "2024-02-14T04:07:58.842Z"
   },
   {
    "duration": 0,
    "start_time": "2024-02-14T04:07:58.843Z"
   },
   {
    "duration": 0,
    "start_time": "2024-02-14T04:07:58.844Z"
   },
   {
    "duration": 0,
    "start_time": "2024-02-14T04:07:58.845Z"
   },
   {
    "duration": 0,
    "start_time": "2024-02-14T04:07:58.845Z"
   },
   {
    "duration": 0,
    "start_time": "2024-02-14T04:07:58.847Z"
   },
   {
    "duration": 0,
    "start_time": "2024-02-14T04:07:58.848Z"
   },
   {
    "duration": 0,
    "start_time": "2024-02-14T04:07:58.848Z"
   },
   {
    "duration": 0,
    "start_time": "2024-02-14T04:07:58.849Z"
   },
   {
    "duration": 0,
    "start_time": "2024-02-14T04:07:58.850Z"
   },
   {
    "duration": 0,
    "start_time": "2024-02-14T04:07:58.851Z"
   },
   {
    "duration": 0,
    "start_time": "2024-02-14T04:07:58.902Z"
   },
   {
    "duration": 0,
    "start_time": "2024-02-14T04:07:58.903Z"
   },
   {
    "duration": 0,
    "start_time": "2024-02-14T04:07:58.903Z"
   },
   {
    "duration": 0,
    "start_time": "2024-02-14T04:07:58.904Z"
   },
   {
    "duration": 40,
    "start_time": "2024-02-14T04:13:29.298Z"
   },
   {
    "duration": 2,
    "start_time": "2024-02-14T04:13:47.982Z"
   },
   {
    "duration": 2,
    "start_time": "2024-02-14T04:13:50.627Z"
   },
   {
    "duration": 3,
    "start_time": "2024-02-14T04:13:50.959Z"
   },
   {
    "duration": 2,
    "start_time": "2024-02-14T04:13:51.391Z"
   },
   {
    "duration": 1998,
    "start_time": "2024-02-14T04:13:52.062Z"
   },
   {
    "duration": 157,
    "start_time": "2024-02-14T04:13:58.739Z"
   },
   {
    "duration": 165,
    "start_time": "2024-02-14T04:13:59.759Z"
   },
   {
    "duration": 191,
    "start_time": "2024-02-14T04:14:00.497Z"
   },
   {
    "duration": 66,
    "start_time": "2024-02-14T04:15:04.102Z"
   },
   {
    "duration": 8,
    "start_time": "2024-02-14T04:15:05.290Z"
   },
   {
    "duration": 28,
    "start_time": "2024-02-14T04:15:06.041Z"
   },
   {
    "duration": 4,
    "start_time": "2024-02-14T04:15:06.312Z"
   },
   {
    "duration": 61,
    "start_time": "2024-02-14T04:15:06.595Z"
   },
   {
    "duration": 5,
    "start_time": "2024-02-14T04:15:07.047Z"
   },
   {
    "duration": 13,
    "start_time": "2024-02-14T04:15:07.239Z"
   },
   {
    "duration": 35,
    "start_time": "2024-02-14T04:15:07.937Z"
   },
   {
    "duration": 10,
    "start_time": "2024-02-14T04:15:08.315Z"
   },
   {
    "duration": 8659,
    "start_time": "2024-02-14T04:15:08.698Z"
   },
   {
    "duration": 5,
    "start_time": "2024-02-14T04:15:17.359Z"
   },
   {
    "duration": 17,
    "start_time": "2024-02-14T04:15:17.366Z"
   },
   {
    "duration": 35,
    "start_time": "2024-02-14T04:15:17.385Z"
   },
   {
    "duration": 22,
    "start_time": "2024-02-14T04:15:17.422Z"
   },
   {
    "duration": 5,
    "start_time": "2024-02-14T04:15:17.445Z"
   },
   {
    "duration": 10,
    "start_time": "2024-02-14T04:15:17.451Z"
   },
   {
    "duration": 46,
    "start_time": "2024-02-14T04:15:17.462Z"
   },
   {
    "duration": 15,
    "start_time": "2024-02-14T04:15:17.509Z"
   },
   {
    "duration": 24,
    "start_time": "2024-02-14T04:15:17.527Z"
   },
   {
    "duration": 4,
    "start_time": "2024-02-14T04:15:17.552Z"
   },
   {
    "duration": 45,
    "start_time": "2024-02-14T04:15:17.557Z"
   },
   {
    "duration": 10302,
    "start_time": "2024-02-14T04:18:34.726Z"
   },
   {
    "duration": 1552,
    "start_time": "2024-02-14T04:18:45.031Z"
   },
   {
    "duration": 688,
    "start_time": "2024-02-14T04:18:46.584Z"
   },
   {
    "duration": 14,
    "start_time": "2024-02-14T04:18:47.273Z"
   },
   {
    "duration": 13,
    "start_time": "2024-02-14T04:18:47.289Z"
   },
   {
    "duration": 22,
    "start_time": "2024-02-14T04:18:47.303Z"
   },
   {
    "duration": 953,
    "start_time": "2024-02-14T04:18:47.326Z"
   },
   {
    "duration": 3,
    "start_time": "2024-02-14T04:18:48.280Z"
   },
   {
    "duration": 12,
    "start_time": "2024-02-14T04:18:48.284Z"
   },
   {
    "duration": 19,
    "start_time": "2024-02-14T04:18:48.298Z"
   },
   {
    "duration": 143,
    "start_time": "2024-02-14T04:18:48.318Z"
   },
   {
    "duration": 18,
    "start_time": "2024-02-14T04:18:48.462Z"
   },
   {
    "duration": 2118,
    "start_time": "2024-02-14T04:18:48.481Z"
   },
   {
    "duration": 10,
    "start_time": "2024-02-14T04:18:50.601Z"
   },
   {
    "duration": 3780,
    "start_time": "2024-02-14T04:18:50.612Z"
   },
   {
    "duration": 59,
    "start_time": "2024-02-14T04:18:54.393Z"
   },
   {
    "duration": 16,
    "start_time": "2024-02-14T04:18:54.453Z"
   },
   {
    "duration": 16,
    "start_time": "2024-02-14T04:18:54.470Z"
   },
   {
    "duration": 36,
    "start_time": "2024-02-14T04:18:54.487Z"
   },
   {
    "duration": 55,
    "start_time": "2024-02-14T04:18:54.524Z"
   },
   {
    "duration": 199,
    "start_time": "2024-02-14T04:18:54.580Z"
   },
   {
    "duration": 15198,
    "start_time": "2024-02-14T04:18:54.780Z"
   },
   {
    "duration": 13,
    "start_time": "2024-02-14T04:19:09.979Z"
   },
   {
    "duration": 14811,
    "start_time": "2024-02-14T04:19:09.994Z"
   },
   {
    "duration": 11,
    "start_time": "2024-02-14T04:19:24.807Z"
   },
   {
    "duration": 99,
    "start_time": "2024-02-14T04:19:24.820Z"
   },
   {
    "duration": 28,
    "start_time": "2024-02-14T04:19:24.921Z"
   },
   {
    "duration": 82,
    "start_time": "2024-02-14T04:19:24.951Z"
   },
   {
    "duration": 3,
    "start_time": "2024-02-14T04:19:25.034Z"
   },
   {
    "duration": 8,
    "start_time": "2024-02-14T04:19:25.038Z"
   },
   {
    "duration": 16,
    "start_time": "2024-02-14T04:19:25.047Z"
   },
   {
    "duration": 4,
    "start_time": "2024-02-14T04:19:25.065Z"
   },
   {
    "duration": 1991,
    "start_time": "2024-02-14T04:19:25.070Z"
   },
   {
    "duration": 158,
    "start_time": "2024-02-14T04:19:27.062Z"
   },
   {
    "duration": 162,
    "start_time": "2024-02-14T04:19:27.222Z"
   },
   {
    "duration": 176,
    "start_time": "2024-02-14T04:19:27.385Z"
   },
   {
    "duration": 69,
    "start_time": "2024-02-14T04:19:27.562Z"
   },
   {
    "duration": 6,
    "start_time": "2024-02-14T04:19:27.632Z"
   },
   {
    "duration": 31,
    "start_time": "2024-02-14T04:19:27.640Z"
   },
   {
    "duration": 4,
    "start_time": "2024-02-14T04:19:27.672Z"
   },
   {
    "duration": 71,
    "start_time": "2024-02-14T04:19:27.680Z"
   },
   {
    "duration": 4,
    "start_time": "2024-02-14T04:19:27.753Z"
   },
   {
    "duration": 11,
    "start_time": "2024-02-14T04:19:27.758Z"
   },
   {
    "duration": 51,
    "start_time": "2024-02-14T04:19:27.771Z"
   },
   {
    "duration": 10,
    "start_time": "2024-02-14T04:19:27.823Z"
   },
   {
    "duration": 8587,
    "start_time": "2024-02-14T04:19:27.834Z"
   },
   {
    "duration": 4,
    "start_time": "2024-02-14T04:19:36.423Z"
   },
   {
    "duration": 23,
    "start_time": "2024-02-14T04:19:36.429Z"
   },
   {
    "duration": 22,
    "start_time": "2024-02-14T04:19:36.454Z"
   },
   {
    "duration": 28,
    "start_time": "2024-02-14T04:19:36.477Z"
   },
   {
    "duration": 7,
    "start_time": "2024-02-14T04:19:36.506Z"
   },
   {
    "duration": 11,
    "start_time": "2024-02-14T04:19:36.514Z"
   },
   {
    "duration": 30,
    "start_time": "2024-02-14T04:19:36.526Z"
   },
   {
    "duration": 12,
    "start_time": "2024-02-14T04:19:36.557Z"
   },
   {
    "duration": 49,
    "start_time": "2024-02-14T04:19:36.570Z"
   },
   {
    "duration": 5,
    "start_time": "2024-02-14T04:19:36.620Z"
   },
   {
    "duration": 33,
    "start_time": "2024-02-14T04:19:36.626Z"
   },
   {
    "duration": 134,
    "start_time": "2024-02-14T04:19:36.660Z"
   },
   {
    "duration": 0,
    "start_time": "2024-02-14T04:19:36.795Z"
   },
   {
    "duration": 0,
    "start_time": "2024-02-14T04:19:36.796Z"
   },
   {
    "duration": 0,
    "start_time": "2024-02-14T04:19:36.801Z"
   },
   {
    "duration": 0,
    "start_time": "2024-02-14T04:19:36.802Z"
   },
   {
    "duration": 0,
    "start_time": "2024-02-14T04:19:36.803Z"
   },
   {
    "duration": 0,
    "start_time": "2024-02-14T04:19:36.804Z"
   },
   {
    "duration": 0,
    "start_time": "2024-02-14T04:19:36.805Z"
   },
   {
    "duration": 0,
    "start_time": "2024-02-14T04:19:36.806Z"
   },
   {
    "duration": 0,
    "start_time": "2024-02-14T04:19:36.807Z"
   },
   {
    "duration": 0,
    "start_time": "2024-02-14T04:19:36.807Z"
   },
   {
    "duration": 0,
    "start_time": "2024-02-14T04:19:36.808Z"
   },
   {
    "duration": 0,
    "start_time": "2024-02-14T04:19:36.809Z"
   },
   {
    "duration": 0,
    "start_time": "2024-02-14T04:19:36.810Z"
   },
   {
    "duration": 0,
    "start_time": "2024-02-14T04:19:36.811Z"
   },
   {
    "duration": 65,
    "start_time": "2024-02-14T04:20:08.335Z"
   },
   {
    "duration": 13,
    "start_time": "2024-02-14T04:20:15.015Z"
   },
   {
    "duration": 3,
    "start_time": "2024-02-14T04:20:17.535Z"
   },
   {
    "duration": 8,
    "start_time": "2024-02-14T04:20:19.778Z"
   },
   {
    "duration": 4,
    "start_time": "2024-02-14T04:20:21.822Z"
   },
   {
    "duration": 9,
    "start_time": "2024-02-14T04:20:37.152Z"
   },
   {
    "duration": 12,
    "start_time": "2024-02-14T04:20:41.712Z"
   },
   {
    "duration": 11,
    "start_time": "2024-02-14T04:21:10.573Z"
   },
   {
    "duration": 2,
    "start_time": "2024-02-14T04:21:46.865Z"
   },
   {
    "duration": 9,
    "start_time": "2024-02-14T04:22:04.893Z"
   },
   {
    "duration": 2,
    "start_time": "2024-02-14T04:22:31.286Z"
   },
   {
    "duration": 7,
    "start_time": "2024-02-14T04:22:55.790Z"
   },
   {
    "duration": 49,
    "start_time": "2024-02-14T04:23:31.546Z"
   },
   {
    "duration": 16,
    "start_time": "2024-02-14T04:25:03.200Z"
   },
   {
    "duration": 53,
    "start_time": "2024-02-14T04:26:16.772Z"
   },
   {
    "duration": 49,
    "start_time": "2024-02-14T04:26:30.818Z"
   },
   {
    "duration": 53,
    "start_time": "2024-02-14T04:26:33.518Z"
   },
   {
    "duration": 51,
    "start_time": "2024-02-14T04:27:36.112Z"
   },
   {
    "duration": 8,
    "start_time": "2024-02-14T04:27:45.149Z"
   },
   {
    "duration": 27,
    "start_time": "2024-02-14T04:27:52.490Z"
   },
   {
    "duration": 4,
    "start_time": "2024-02-14T04:27:54.517Z"
   },
   {
    "duration": 48,
    "start_time": "2024-02-14T04:27:54.875Z"
   },
   {
    "duration": 63,
    "start_time": "2024-02-14T04:27:56.629Z"
   },
   {
    "duration": 53,
    "start_time": "2024-02-14T04:27:59.913Z"
   },
   {
    "duration": 41,
    "start_time": "2024-02-14T04:28:56.247Z"
   },
   {
    "duration": 115,
    "start_time": "2024-02-14T04:29:29.709Z"
   },
   {
    "duration": 49,
    "start_time": "2024-02-14T04:29:38.332Z"
   },
   {
    "duration": 48,
    "start_time": "2024-02-14T04:29:45.464Z"
   },
   {
    "duration": 10194,
    "start_time": "2024-02-14T04:30:43.669Z"
   },
   {
    "duration": 1506,
    "start_time": "2024-02-14T04:30:53.865Z"
   },
   {
    "duration": 662,
    "start_time": "2024-02-14T04:30:55.372Z"
   },
   {
    "duration": 14,
    "start_time": "2024-02-14T04:30:56.036Z"
   },
   {
    "duration": 4,
    "start_time": "2024-02-14T04:30:56.051Z"
   },
   {
    "duration": 10,
    "start_time": "2024-02-14T04:30:56.056Z"
   },
   {
    "duration": 889,
    "start_time": "2024-02-14T04:30:56.068Z"
   },
   {
    "duration": 3,
    "start_time": "2024-02-14T04:30:56.959Z"
   },
   {
    "duration": 5,
    "start_time": "2024-02-14T04:30:56.964Z"
   },
   {
    "duration": 16,
    "start_time": "2024-02-14T04:30:56.971Z"
   },
   {
    "duration": 147,
    "start_time": "2024-02-14T04:30:56.988Z"
   },
   {
    "duration": 17,
    "start_time": "2024-02-14T04:30:57.136Z"
   },
   {
    "duration": 2028,
    "start_time": "2024-02-14T04:30:57.155Z"
   },
   {
    "duration": 16,
    "start_time": "2024-02-14T04:30:59.185Z"
   },
   {
    "duration": 3829,
    "start_time": "2024-02-14T04:30:59.202Z"
   },
   {
    "duration": 58,
    "start_time": "2024-02-14T04:31:03.033Z"
   },
   {
    "duration": 24,
    "start_time": "2024-02-14T04:31:03.092Z"
   },
   {
    "duration": 15,
    "start_time": "2024-02-14T04:31:03.118Z"
   },
   {
    "duration": 36,
    "start_time": "2024-02-14T04:31:03.135Z"
   },
   {
    "duration": 71,
    "start_time": "2024-02-14T04:31:03.172Z"
   },
   {
    "duration": 199,
    "start_time": "2024-02-14T04:31:03.244Z"
   },
   {
    "duration": 15119,
    "start_time": "2024-02-14T04:31:03.444Z"
   },
   {
    "duration": 11,
    "start_time": "2024-02-14T04:31:18.564Z"
   },
   {
    "duration": 14688,
    "start_time": "2024-02-14T04:31:18.576Z"
   },
   {
    "duration": 13,
    "start_time": "2024-02-14T04:31:33.265Z"
   },
   {
    "duration": 103,
    "start_time": "2024-02-14T04:31:33.279Z"
   },
   {
    "duration": 37,
    "start_time": "2024-02-14T04:31:33.383Z"
   },
   {
    "duration": 73,
    "start_time": "2024-02-14T04:31:33.423Z"
   },
   {
    "duration": 3,
    "start_time": "2024-02-14T04:31:33.501Z"
   },
   {
    "duration": 3,
    "start_time": "2024-02-14T04:31:33.505Z"
   },
   {
    "duration": 4,
    "start_time": "2024-02-14T04:31:33.509Z"
   },
   {
    "duration": 7,
    "start_time": "2024-02-14T04:31:33.514Z"
   },
   {
    "duration": 2037,
    "start_time": "2024-02-14T04:31:33.522Z"
   },
   {
    "duration": 162,
    "start_time": "2024-02-14T04:31:35.561Z"
   },
   {
    "duration": 162,
    "start_time": "2024-02-14T04:31:35.725Z"
   },
   {
    "duration": 186,
    "start_time": "2024-02-14T04:31:35.888Z"
   },
   {
    "duration": 72,
    "start_time": "2024-02-14T04:31:36.076Z"
   },
   {
    "duration": 6,
    "start_time": "2024-02-14T04:31:36.150Z"
   },
   {
    "duration": 44,
    "start_time": "2024-02-14T04:31:36.158Z"
   },
   {
    "duration": 3,
    "start_time": "2024-02-14T04:31:36.204Z"
   },
   {
    "duration": 64,
    "start_time": "2024-02-14T04:31:36.208Z"
   },
   {
    "duration": 6,
    "start_time": "2024-02-14T04:31:36.273Z"
   },
   {
    "duration": 26,
    "start_time": "2024-02-14T04:31:36.280Z"
   },
   {
    "duration": 54,
    "start_time": "2024-02-14T04:31:36.308Z"
   },
   {
    "duration": 10,
    "start_time": "2024-02-14T04:31:36.363Z"
   },
   {
    "duration": 8697,
    "start_time": "2024-02-14T04:31:36.374Z"
   },
   {
    "duration": 5,
    "start_time": "2024-02-14T04:31:45.073Z"
   },
   {
    "duration": 45,
    "start_time": "2024-02-14T04:31:45.079Z"
   },
   {
    "duration": 29,
    "start_time": "2024-02-14T04:31:45.125Z"
   },
   {
    "duration": 45,
    "start_time": "2024-02-14T04:31:45.155Z"
   },
   {
    "duration": 21,
    "start_time": "2024-02-14T04:31:45.201Z"
   },
   {
    "duration": 24,
    "start_time": "2024-02-14T04:31:45.223Z"
   },
   {
    "duration": 29,
    "start_time": "2024-02-14T04:31:45.248Z"
   },
   {
    "duration": 10,
    "start_time": "2024-02-14T04:31:45.279Z"
   },
   {
    "duration": 31,
    "start_time": "2024-02-14T04:31:45.290Z"
   },
   {
    "duration": 5,
    "start_time": "2024-02-14T04:31:45.322Z"
   },
   {
    "duration": 29,
    "start_time": "2024-02-14T04:31:45.329Z"
   },
   {
    "duration": 4,
    "start_time": "2024-02-14T04:31:45.359Z"
   },
   {
    "duration": 72,
    "start_time": "2024-02-14T04:31:45.364Z"
   },
   {
    "duration": 127,
    "start_time": "2024-02-14T04:31:45.437Z"
   },
   {
    "duration": 0,
    "start_time": "2024-02-14T04:31:45.566Z"
   },
   {
    "duration": 0,
    "start_time": "2024-02-14T04:31:45.567Z"
   },
   {
    "duration": 0,
    "start_time": "2024-02-14T04:31:45.568Z"
   },
   {
    "duration": 0,
    "start_time": "2024-02-14T04:31:45.569Z"
   },
   {
    "duration": 0,
    "start_time": "2024-02-14T04:31:45.569Z"
   },
   {
    "duration": 1,
    "start_time": "2024-02-14T04:31:45.570Z"
   },
   {
    "duration": 0,
    "start_time": "2024-02-14T04:31:45.571Z"
   },
   {
    "duration": 0,
    "start_time": "2024-02-14T04:31:45.572Z"
   },
   {
    "duration": 0,
    "start_time": "2024-02-14T04:31:45.573Z"
   },
   {
    "duration": 0,
    "start_time": "2024-02-14T04:31:45.574Z"
   },
   {
    "duration": 0,
    "start_time": "2024-02-14T04:31:45.575Z"
   },
   {
    "duration": 0,
    "start_time": "2024-02-14T04:31:45.575Z"
   },
   {
    "duration": 0,
    "start_time": "2024-02-14T04:31:45.576Z"
   },
   {
    "duration": 0,
    "start_time": "2024-02-14T04:31:45.577Z"
   },
   {
    "duration": 10,
    "start_time": "2024-02-14T04:31:52.511Z"
   },
   {
    "duration": 57,
    "start_time": "2024-02-14T04:31:54.051Z"
   },
   {
    "duration": 22,
    "start_time": "2024-02-14T04:32:35.713Z"
   },
   {
    "duration": 10,
    "start_time": "2024-02-14T04:33:02.761Z"
   },
   {
    "duration": 149,
    "start_time": "2024-02-14T04:33:07.634Z"
   },
   {
    "duration": 177,
    "start_time": "2024-02-14T04:33:21.347Z"
   },
   {
    "duration": 185,
    "start_time": "2024-02-14T04:33:35.482Z"
   },
   {
    "duration": 165,
    "start_time": "2024-02-14T04:33:37.883Z"
   },
   {
    "duration": 3,
    "start_time": "2024-02-14T04:33:46.606Z"
   },
   {
    "duration": 170,
    "start_time": "2024-02-14T04:33:47.446Z"
   },
   {
    "duration": 180,
    "start_time": "2024-02-14T04:33:52.374Z"
   },
   {
    "duration": 4,
    "start_time": "2024-02-14T04:38:38.559Z"
   },
   {
    "duration": 21991,
    "start_time": "2024-02-14T04:42:23.810Z"
   },
   {
    "duration": 2,
    "start_time": "2024-02-14T04:43:26.792Z"
   },
   {
    "duration": 16837,
    "start_time": "2024-02-14T04:43:39.431Z"
   },
   {
    "duration": 13466,
    "start_time": "2024-02-14T04:45:22.913Z"
   },
   {
    "duration": 17192,
    "start_time": "2024-02-14T04:45:40.177Z"
   },
   {
    "duration": 16333,
    "start_time": "2024-02-14T04:47:04.641Z"
   },
   {
    "duration": 67,
    "start_time": "2024-02-14T04:47:34.070Z"
   },
   {
    "duration": 5,
    "start_time": "2024-02-14T04:47:37.737Z"
   },
   {
    "duration": 3,
    "start_time": "2024-02-14T04:48:31.558Z"
   },
   {
    "duration": 161089,
    "start_time": "2024-02-14T04:48:35.298Z"
   },
   {
    "duration": 3,
    "start_time": "2024-02-14T04:51:49.606Z"
   },
   {
    "duration": 157,
    "start_time": "2024-02-14T04:52:00.715Z"
   },
   {
    "duration": 61835,
    "start_time": "2024-02-14T05:15:32.426Z"
   },
   {
    "duration": 144,
    "start_time": "2024-02-14T05:16:51.020Z"
   },
   {
    "duration": 4,
    "start_time": "2024-02-14T05:19:41.541Z"
   },
   {
    "duration": 4,
    "start_time": "2024-02-14T05:20:14.216Z"
   },
   {
    "duration": 63009,
    "start_time": "2024-02-14T05:20:17.737Z"
   },
   {
    "duration": 79826,
    "start_time": "2024-02-14T05:23:25.995Z"
   },
   {
    "duration": 141,
    "start_time": "2024-02-14T05:24:45.822Z"
   },
   {
    "duration": 17004,
    "start_time": "2024-02-14T12:55:26.904Z"
   },
   {
    "duration": 2171,
    "start_time": "2024-02-14T12:55:43.911Z"
   },
   {
    "duration": 1246,
    "start_time": "2024-02-14T12:55:46.084Z"
   },
   {
    "duration": 20,
    "start_time": "2024-02-14T12:55:47.332Z"
   },
   {
    "duration": 6,
    "start_time": "2024-02-14T12:55:47.354Z"
   },
   {
    "duration": 28,
    "start_time": "2024-02-14T12:55:47.362Z"
   },
   {
    "duration": 1450,
    "start_time": "2024-02-14T12:55:47.392Z"
   },
   {
    "duration": 5,
    "start_time": "2024-02-14T12:55:48.843Z"
   },
   {
    "duration": 13,
    "start_time": "2024-02-14T12:55:48.849Z"
   },
   {
    "duration": 22,
    "start_time": "2024-02-14T12:55:48.865Z"
   },
   {
    "duration": 232,
    "start_time": "2024-02-14T12:55:48.888Z"
   },
   {
    "duration": 26,
    "start_time": "2024-02-14T12:55:49.121Z"
   },
   {
    "duration": 2437,
    "start_time": "2024-02-14T12:55:49.149Z"
   },
   {
    "duration": 13,
    "start_time": "2024-02-14T12:55:51.588Z"
   },
   {
    "duration": 5102,
    "start_time": "2024-02-14T12:55:51.603Z"
   },
   {
    "duration": 83,
    "start_time": "2024-02-14T12:55:56.707Z"
   },
   {
    "duration": 24,
    "start_time": "2024-02-14T12:55:56.791Z"
   },
   {
    "duration": 23,
    "start_time": "2024-02-14T12:55:56.816Z"
   },
   {
    "duration": 36,
    "start_time": "2024-02-14T12:55:56.858Z"
   },
   {
    "duration": 84,
    "start_time": "2024-02-14T12:55:56.896Z"
   },
   {
    "duration": 245,
    "start_time": "2024-02-14T12:55:56.983Z"
   },
   {
    "duration": 22707,
    "start_time": "2024-02-14T12:55:57.231Z"
   },
   {
    "duration": 23,
    "start_time": "2024-02-14T12:56:19.940Z"
   },
   {
    "duration": 22538,
    "start_time": "2024-02-14T12:56:19.964Z"
   },
   {
    "duration": 20,
    "start_time": "2024-02-14T12:56:42.503Z"
   },
   {
    "duration": 166,
    "start_time": "2024-02-14T12:56:42.524Z"
   },
   {
    "duration": 32,
    "start_time": "2024-02-14T12:56:42.691Z"
   },
   {
    "duration": 132,
    "start_time": "2024-02-14T12:56:42.728Z"
   },
   {
    "duration": 3,
    "start_time": "2024-02-14T12:56:42.862Z"
   },
   {
    "duration": 9,
    "start_time": "2024-02-14T12:56:42.866Z"
   },
   {
    "duration": 5,
    "start_time": "2024-02-14T12:56:42.877Z"
   },
   {
    "duration": 10,
    "start_time": "2024-02-14T12:56:42.883Z"
   },
   {
    "duration": 2817,
    "start_time": "2024-02-14T12:56:42.895Z"
   },
   {
    "duration": 213,
    "start_time": "2024-02-14T12:56:45.714Z"
   },
   {
    "duration": 229,
    "start_time": "2024-02-14T12:56:45.929Z"
   },
   {
    "duration": 243,
    "start_time": "2024-02-14T12:56:46.160Z"
   },
   {
    "duration": 94,
    "start_time": "2024-02-14T12:56:46.405Z"
   },
   {
    "duration": 10,
    "start_time": "2024-02-14T12:56:46.500Z"
   },
   {
    "duration": 55,
    "start_time": "2024-02-14T12:56:46.511Z"
   },
   {
    "duration": 5,
    "start_time": "2024-02-14T12:56:46.568Z"
   },
   {
    "duration": 93,
    "start_time": "2024-02-14T12:56:46.575Z"
   },
   {
    "duration": 7,
    "start_time": "2024-02-14T12:56:46.670Z"
   },
   {
    "duration": 17,
    "start_time": "2024-02-14T12:56:46.679Z"
   },
   {
    "duration": 39,
    "start_time": "2024-02-14T12:56:46.698Z"
   },
   {
    "duration": 15,
    "start_time": "2024-02-14T12:56:46.760Z"
   },
   {
    "duration": 12913,
    "start_time": "2024-02-14T12:56:46.777Z"
   },
   {
    "duration": 9,
    "start_time": "2024-02-14T12:56:59.692Z"
   },
   {
    "duration": 22,
    "start_time": "2024-02-14T12:56:59.703Z"
   },
   {
    "duration": 55,
    "start_time": "2024-02-14T12:56:59.727Z"
   },
   {
    "duration": 43,
    "start_time": "2024-02-14T12:56:59.784Z"
   },
   {
    "duration": 11,
    "start_time": "2024-02-14T12:56:59.829Z"
   },
   {
    "duration": 30,
    "start_time": "2024-02-14T12:56:59.841Z"
   },
   {
    "duration": 34,
    "start_time": "2024-02-14T12:56:59.873Z"
   },
   {
    "duration": 15,
    "start_time": "2024-02-14T12:56:59.909Z"
   },
   {
    "duration": 59,
    "start_time": "2024-02-14T12:56:59.925Z"
   },
   {
    "duration": 8,
    "start_time": "2024-02-14T12:56:59.986Z"
   },
   {
    "duration": 34,
    "start_time": "2024-02-14T12:56:59.995Z"
   },
   {
    "duration": 5,
    "start_time": "2024-02-14T12:57:00.030Z"
   },
   {
    "duration": 112,
    "start_time": "2024-02-14T12:57:00.059Z"
   },
   {
    "duration": 23,
    "start_time": "2024-02-14T12:57:00.172Z"
   },
   {
    "duration": 26,
    "start_time": "2024-02-14T12:57:00.197Z"
   },
   {
    "duration": 102,
    "start_time": "2024-02-14T12:57:00.225Z"
   },
   {
    "duration": 195,
    "start_time": "2024-02-14T12:57:00.328Z"
   },
   {
    "duration": 4,
    "start_time": "2024-02-14T12:57:00.524Z"
   },
   {
    "duration": 209,
    "start_time": "2024-02-14T12:57:00.530Z"
   },
   {
    "duration": 6,
    "start_time": "2024-02-14T12:57:00.740Z"
   },
   {
    "duration": 29701,
    "start_time": "2024-02-14T12:57:00.759Z"
   },
   {
    "duration": 3,
    "start_time": "2024-02-14T12:57:30.462Z"
   },
   {
    "duration": 22463,
    "start_time": "2024-02-14T12:57:30.467Z"
   },
   {
    "duration": 21925,
    "start_time": "2024-02-14T12:57:52.932Z"
   },
   {
    "duration": 120,
    "start_time": "2024-02-14T12:58:14.859Z"
   },
   {
    "duration": 6,
    "start_time": "2024-02-14T12:58:14.981Z"
   },
   {
    "duration": 10,
    "start_time": "2024-02-14T12:58:14.989Z"
   },
   {
    "duration": 286175,
    "start_time": "2024-02-14T12:58:15.001Z"
   },
   {
    "duration": 5,
    "start_time": "2024-02-14T13:03:01.178Z"
   },
   {
    "duration": 496,
    "start_time": "2024-02-14T13:03:01.185Z"
   },
   {
    "duration": 85948,
    "start_time": "2024-02-14T13:03:01.683Z"
   },
   {
    "duration": 5,
    "start_time": "2024-02-14T13:04:27.633Z"
   },
   {
    "duration": 20,
    "start_time": "2024-02-14T13:04:27.640Z"
   },
   {
    "duration": 110674,
    "start_time": "2024-02-14T13:04:27.662Z"
   },
   {
    "duration": 210,
    "start_time": "2024-02-14T13:06:18.338Z"
   },
   {
    "duration": 156,
    "start_time": "2024-02-14T13:06:18.557Z"
   },
   {
    "duration": 0,
    "start_time": "2024-02-14T13:06:18.715Z"
   },
   {
    "duration": 0,
    "start_time": "2024-02-14T13:06:18.717Z"
   },
   {
    "duration": 0,
    "start_time": "2024-02-14T13:06:18.718Z"
   },
   {
    "duration": 0,
    "start_time": "2024-02-14T13:06:18.719Z"
   },
   {
    "duration": 0,
    "start_time": "2024-02-14T13:06:18.720Z"
   },
   {
    "duration": 224,
    "start_time": "2024-02-14T13:08:37.120Z"
   },
   {
    "duration": 29,
    "start_time": "2024-02-14T13:22:20.845Z"
   },
   {
    "duration": 15,
    "start_time": "2024-02-14T13:24:45.261Z"
   },
   {
    "duration": 199,
    "start_time": "2024-02-14T13:37:45.880Z"
   },
   {
    "duration": 3,
    "start_time": "2024-02-14T13:43:23.173Z"
   },
   {
    "duration": 96,
    "start_time": "2024-02-14T13:43:25.001Z"
   },
   {
    "duration": 3,
    "start_time": "2024-02-14T13:44:39.314Z"
   },
   {
    "duration": 83,
    "start_time": "2024-02-14T13:44:46.039Z"
   },
   {
    "duration": 76,
    "start_time": "2024-02-14T13:46:20.128Z"
   },
   {
    "duration": 40,
    "start_time": "2024-02-14T13:46:59.052Z"
   },
   {
    "duration": 3,
    "start_time": "2024-02-14T13:47:00.652Z"
   },
   {
    "duration": 93,
    "start_time": "2024-02-14T13:47:01.480Z"
   },
   {
    "duration": 90,
    "start_time": "2024-02-14T13:47:08.465Z"
   },
   {
    "duration": 74,
    "start_time": "2024-02-14T13:47:23.441Z"
   },
   {
    "duration": 78,
    "start_time": "2024-02-14T13:47:35.034Z"
   },
   {
    "duration": 1072579,
    "start_time": "2024-02-14T13:48:44.908Z"
   },
   {
    "duration": 12100,
    "start_time": "2024-02-14T14:33:22.671Z"
   },
   {
    "duration": 4,
    "start_time": "2024-02-14T14:33:59.788Z"
   },
   {
    "duration": 4,
    "start_time": "2024-02-14T14:34:13.866Z"
   },
   {
    "duration": 4,
    "start_time": "2024-02-14T14:34:18.987Z"
   },
   {
    "duration": 1089,
    "start_time": "2024-02-14T14:35:06.651Z"
   },
   {
    "duration": 53,
    "start_time": "2024-02-14T14:40:01.215Z"
   },
   {
    "duration": 452,
    "start_time": "2024-02-14T14:40:32.168Z"
   },
   {
    "duration": 2,
    "start_time": "2024-02-14T14:40:43.567Z"
   },
   {
    "duration": 691452,
    "start_time": "2024-02-14T14:40:47.734Z"
   },
   {
    "duration": 11408,
    "start_time": "2024-02-14T14:52:59.312Z"
   },
   {
    "duration": 1925,
    "start_time": "2024-02-14T14:53:10.722Z"
   },
   {
    "duration": 970,
    "start_time": "2024-02-14T14:53:12.649Z"
   },
   {
    "duration": 20,
    "start_time": "2024-02-14T14:53:13.622Z"
   },
   {
    "duration": 19,
    "start_time": "2024-02-14T14:53:13.644Z"
   },
   {
    "duration": 14,
    "start_time": "2024-02-14T14:53:13.664Z"
   },
   {
    "duration": 1409,
    "start_time": "2024-02-14T14:53:13.681Z"
   },
   {
    "duration": 4,
    "start_time": "2024-02-14T14:53:15.091Z"
   },
   {
    "duration": 33,
    "start_time": "2024-02-14T14:53:15.097Z"
   },
   {
    "duration": 20,
    "start_time": "2024-02-14T14:53:15.133Z"
   },
   {
    "duration": 236,
    "start_time": "2024-02-14T14:53:15.155Z"
   },
   {
    "duration": 26,
    "start_time": "2024-02-14T14:53:15.393Z"
   },
   {
    "duration": 2503,
    "start_time": "2024-02-14T14:53:15.420Z"
   },
   {
    "duration": 14,
    "start_time": "2024-02-14T14:53:17.925Z"
   },
   {
    "duration": 5087,
    "start_time": "2024-02-14T14:53:17.940Z"
   },
   {
    "duration": 84,
    "start_time": "2024-02-14T14:53:23.028Z"
   },
   {
    "duration": 46,
    "start_time": "2024-02-14T14:53:23.113Z"
   },
   {
    "duration": 21,
    "start_time": "2024-02-14T14:53:23.161Z"
   },
   {
    "duration": 50,
    "start_time": "2024-02-14T14:53:23.183Z"
   },
   {
    "duration": 87,
    "start_time": "2024-02-14T14:53:23.235Z"
   },
   {
    "duration": 248,
    "start_time": "2024-02-14T14:53:23.324Z"
   },
   {
    "duration": 22689,
    "start_time": "2024-02-14T14:53:23.573Z"
   },
   {
    "duration": 19,
    "start_time": "2024-02-14T14:53:46.263Z"
   },
   {
    "duration": 22679,
    "start_time": "2024-02-14T14:53:46.284Z"
   },
   {
    "duration": 20,
    "start_time": "2024-02-14T14:54:08.964Z"
   },
   {
    "duration": 168,
    "start_time": "2024-02-14T14:54:08.985Z"
   },
   {
    "duration": 34,
    "start_time": "2024-02-14T14:54:09.155Z"
   },
   {
    "duration": 127,
    "start_time": "2024-02-14T14:54:09.194Z"
   },
   {
    "duration": 2,
    "start_time": "2024-02-14T14:54:09.323Z"
   },
   {
    "duration": 16,
    "start_time": "2024-02-14T14:54:09.327Z"
   },
   {
    "duration": 30,
    "start_time": "2024-02-14T14:54:09.345Z"
   },
   {
    "duration": 14,
    "start_time": "2024-02-14T14:54:09.377Z"
   },
   {
    "duration": 2823,
    "start_time": "2024-02-14T14:54:09.393Z"
   },
   {
    "duration": 242,
    "start_time": "2024-02-14T14:54:12.218Z"
   },
   {
    "duration": 217,
    "start_time": "2024-02-14T14:54:12.462Z"
   },
   {
    "duration": 237,
    "start_time": "2024-02-14T14:54:12.681Z"
   },
   {
    "duration": 91,
    "start_time": "2024-02-14T14:54:12.920Z"
   },
   {
    "duration": 10,
    "start_time": "2024-02-14T14:54:13.012Z"
   },
   {
    "duration": 55,
    "start_time": "2024-02-14T14:54:13.024Z"
   },
   {
    "duration": 3,
    "start_time": "2024-02-14T14:54:13.081Z"
   },
   {
    "duration": 81,
    "start_time": "2024-02-14T14:54:13.086Z"
   },
   {
    "duration": 7,
    "start_time": "2024-02-14T14:54:13.169Z"
   },
   {
    "duration": 15,
    "start_time": "2024-02-14T14:54:13.177Z"
   },
   {
    "duration": 38,
    "start_time": "2024-02-14T14:54:13.194Z"
   },
   {
    "duration": 14,
    "start_time": "2024-02-14T14:54:13.258Z"
   },
   {
    "duration": 12734,
    "start_time": "2024-02-14T14:54:13.274Z"
   },
   {
    "duration": 8,
    "start_time": "2024-02-14T14:54:26.010Z"
   },
   {
    "duration": 39,
    "start_time": "2024-02-14T14:54:26.019Z"
   },
   {
    "duration": 31,
    "start_time": "2024-02-14T14:54:26.059Z"
   },
   {
    "duration": 43,
    "start_time": "2024-02-14T14:54:26.092Z"
   },
   {
    "duration": 9,
    "start_time": "2024-02-14T14:54:26.136Z"
   },
   {
    "duration": 26,
    "start_time": "2024-02-14T14:54:26.146Z"
   },
   {
    "duration": 35,
    "start_time": "2024-02-14T14:54:26.173Z"
   },
   {
    "duration": 16,
    "start_time": "2024-02-14T14:54:26.209Z"
   },
   {
    "duration": 61,
    "start_time": "2024-02-14T14:54:26.227Z"
   },
   {
    "duration": 8,
    "start_time": "2024-02-14T14:54:26.291Z"
   },
   {
    "duration": 35,
    "start_time": "2024-02-14T14:54:26.301Z"
   },
   {
    "duration": 6,
    "start_time": "2024-02-14T14:54:26.358Z"
   },
   {
    "duration": 93,
    "start_time": "2024-02-14T14:54:26.366Z"
   },
   {
    "duration": 25,
    "start_time": "2024-02-14T14:54:26.461Z"
   },
   {
    "duration": 15,
    "start_time": "2024-02-14T14:54:26.488Z"
   },
   {
    "duration": 101,
    "start_time": "2024-02-14T14:54:26.504Z"
   },
   {
    "duration": 198,
    "start_time": "2024-02-14T14:54:26.606Z"
   },
   {
    "duration": 3,
    "start_time": "2024-02-14T14:54:26.806Z"
   },
   {
    "duration": 225,
    "start_time": "2024-02-14T14:54:26.811Z"
   },
   {
    "duration": 5,
    "start_time": "2024-02-14T14:54:27.037Z"
   },
   {
    "duration": 30325,
    "start_time": "2024-02-14T14:54:27.044Z"
   },
   {
    "duration": 3,
    "start_time": "2024-02-14T14:54:57.371Z"
   },
   {
    "duration": 22157,
    "start_time": "2024-02-14T14:54:57.375Z"
   },
   {
    "duration": 21652,
    "start_time": "2024-02-14T14:55:19.534Z"
   },
   {
    "duration": 114,
    "start_time": "2024-02-14T14:55:41.188Z"
   },
   {
    "duration": 5,
    "start_time": "2024-02-14T14:55:41.304Z"
   },
   {
    "duration": 6,
    "start_time": "2024-02-14T14:55:41.311Z"
   },
   {
    "duration": 286560,
    "start_time": "2024-02-14T14:55:41.319Z"
   },
   {
    "duration": 3,
    "start_time": "2024-02-14T15:00:27.881Z"
   },
   {
    "duration": 6,
    "start_time": "2024-02-14T15:00:27.886Z"
   },
   {
    "duration": 405,
    "start_time": "2024-02-14T15:00:27.894Z"
   },
   {
    "duration": 83839,
    "start_time": "2024-02-14T15:00:28.301Z"
   },
   {
    "duration": 5,
    "start_time": "2024-02-14T15:01:52.141Z"
   },
   {
    "duration": 5,
    "start_time": "2024-02-14T15:01:52.159Z"
   },
   {
    "duration": 8,
    "start_time": "2024-02-14T15:01:52.166Z"
   },
   {
    "duration": 5,
    "start_time": "2024-02-14T15:01:52.183Z"
   },
   {
    "duration": 105610,
    "start_time": "2024-02-14T15:01:52.190Z"
   },
   {
    "duration": 3,
    "start_time": "2024-02-14T15:03:37.802Z"
   },
   {
    "duration": 11,
    "start_time": "2024-02-14T15:03:37.807Z"
   },
   {
    "duration": 206,
    "start_time": "2024-02-14T15:03:37.819Z"
   },
   {
    "duration": 223,
    "start_time": "2024-02-14T15:03:38.027Z"
   },
   {
    "duration": 477,
    "start_time": "2024-02-14T15:03:38.257Z"
   },
   {
    "duration": 3,
    "start_time": "2024-02-14T15:03:38.736Z"
   },
   {
    "duration": 59457,
    "start_time": "2024-02-14T15:03:38.741Z"
   },
   {
    "duration": 94,
    "start_time": "2024-02-14T15:04:38.199Z"
   },
   {
    "duration": 11,
    "start_time": "2024-02-14T15:04:38.295Z"
   },
   {
    "duration": 0,
    "start_time": "2024-02-14T15:04:38.307Z"
   },
   {
    "duration": 0,
    "start_time": "2024-02-14T15:04:38.309Z"
   },
   {
    "duration": 0,
    "start_time": "2024-02-14T15:04:38.311Z"
   },
   {
    "duration": 0,
    "start_time": "2024-02-14T15:04:38.312Z"
   },
   {
    "duration": 0,
    "start_time": "2024-02-14T15:04:38.313Z"
   },
   {
    "duration": 0,
    "start_time": "2024-02-14T15:04:38.315Z"
   },
   {
    "duration": 0,
    "start_time": "2024-02-14T15:04:38.316Z"
   },
   {
    "duration": 748659,
    "start_time": "2024-02-14T15:04:44.316Z"
   },
   {
    "duration": 7311,
    "start_time": "2024-02-14T15:17:12.977Z"
   },
   {
    "duration": 3,
    "start_time": "2024-02-14T15:17:20.290Z"
   },
   {
    "duration": 64,
    "start_time": "2024-02-14T15:17:20.296Z"
   },
   {
    "duration": 70,
    "start_time": "2024-02-14T15:17:20.362Z"
   },
   {
    "duration": 197,
    "start_time": "2024-02-14T15:17:20.434Z"
   },
   {
    "duration": 3,
    "start_time": "2024-02-14T15:17:20.633Z"
   },
   {
    "duration": 447,
    "start_time": "2024-02-14T15:17:20.638Z"
   },
   {
    "duration": 11,
    "start_time": "2024-02-14T15:17:21.087Z"
   },
   {
    "duration": 0,
    "start_time": "2024-02-14T15:17:21.100Z"
   },
   {
    "duration": 129,
    "start_time": "2024-02-14T15:24:44.013Z"
   },
   {
    "duration": 3,
    "start_time": "2024-02-14T15:34:13.250Z"
   },
   {
    "duration": 11441,
    "start_time": "2024-02-14T15:38:52.904Z"
   },
   {
    "duration": 1967,
    "start_time": "2024-02-14T15:39:04.348Z"
   },
   {
    "duration": 987,
    "start_time": "2024-02-14T15:39:06.317Z"
   },
   {
    "duration": 17,
    "start_time": "2024-02-14T15:39:07.307Z"
   },
   {
    "duration": 5,
    "start_time": "2024-02-14T15:39:07.326Z"
   },
   {
    "duration": 19,
    "start_time": "2024-02-14T15:39:07.332Z"
   },
   {
    "duration": 1407,
    "start_time": "2024-02-14T15:39:07.353Z"
   },
   {
    "duration": 4,
    "start_time": "2024-02-14T15:39:08.761Z"
   },
   {
    "duration": 24,
    "start_time": "2024-02-14T15:39:08.767Z"
   },
   {
    "duration": 7,
    "start_time": "2024-02-14T15:39:08.793Z"
   },
   {
    "duration": 229,
    "start_time": "2024-02-14T15:39:08.801Z"
   },
   {
    "duration": 29,
    "start_time": "2024-02-14T15:39:09.032Z"
   },
   {
    "duration": 2438,
    "start_time": "2024-02-14T15:39:09.063Z"
   },
   {
    "duration": 14,
    "start_time": "2024-02-14T15:39:11.503Z"
   },
   {
    "duration": 5085,
    "start_time": "2024-02-14T15:39:11.519Z"
   },
   {
    "duration": 93,
    "start_time": "2024-02-14T15:39:16.606Z"
   },
   {
    "duration": 22,
    "start_time": "2024-02-14T15:39:16.701Z"
   },
   {
    "duration": 36,
    "start_time": "2024-02-14T15:39:16.725Z"
   },
   {
    "duration": 58,
    "start_time": "2024-02-14T15:39:16.763Z"
   },
   {
    "duration": 72,
    "start_time": "2024-02-14T15:39:16.823Z"
   },
   {
    "duration": 245,
    "start_time": "2024-02-14T15:39:16.897Z"
   },
   {
    "duration": 22723,
    "start_time": "2024-02-14T15:39:17.143Z"
   },
   {
    "duration": 19,
    "start_time": "2024-02-14T15:39:39.868Z"
   },
   {
    "duration": 22628,
    "start_time": "2024-02-14T15:39:39.889Z"
   },
   {
    "duration": 19,
    "start_time": "2024-02-14T15:40:02.519Z"
   },
   {
    "duration": 187,
    "start_time": "2024-02-14T15:40:02.539Z"
   },
   {
    "duration": 42,
    "start_time": "2024-02-14T15:40:02.727Z"
   },
   {
    "duration": 118,
    "start_time": "2024-02-14T15:40:02.773Z"
   },
   {
    "duration": 19,
    "start_time": "2024-02-14T15:40:02.892Z"
   },
   {
    "duration": 25,
    "start_time": "2024-02-14T15:40:02.913Z"
   },
   {
    "duration": 32,
    "start_time": "2024-02-14T15:40:02.940Z"
   },
   {
    "duration": 14,
    "start_time": "2024-02-14T15:40:02.974Z"
   },
   {
    "duration": 2820,
    "start_time": "2024-02-14T15:40:02.990Z"
   },
   {
    "duration": 215,
    "start_time": "2024-02-14T15:40:05.812Z"
   },
   {
    "duration": 225,
    "start_time": "2024-02-14T15:40:06.028Z"
   },
   {
    "duration": 234,
    "start_time": "2024-02-14T15:40:06.257Z"
   },
   {
    "duration": 89,
    "start_time": "2024-02-14T15:40:06.493Z"
   },
   {
    "duration": 10,
    "start_time": "2024-02-14T15:40:06.584Z"
   },
   {
    "duration": 57,
    "start_time": "2024-02-14T15:40:06.596Z"
   },
   {
    "duration": 4,
    "start_time": "2024-02-14T15:40:06.655Z"
   },
   {
    "duration": 76,
    "start_time": "2024-02-14T15:40:06.661Z"
   },
   {
    "duration": 8,
    "start_time": "2024-02-14T15:40:06.738Z"
   },
   {
    "duration": 18,
    "start_time": "2024-02-14T15:40:06.759Z"
   },
   {
    "duration": 52,
    "start_time": "2024-02-14T15:40:06.779Z"
   },
   {
    "duration": 31,
    "start_time": "2024-02-14T15:40:06.833Z"
   },
   {
    "duration": 12707,
    "start_time": "2024-02-14T15:40:06.866Z"
   },
   {
    "duration": 8,
    "start_time": "2024-02-14T15:40:19.574Z"
   },
   {
    "duration": 22,
    "start_time": "2024-02-14T15:40:19.584Z"
   },
   {
    "duration": 52,
    "start_time": "2024-02-14T15:40:19.607Z"
   },
   {
    "duration": 31,
    "start_time": "2024-02-14T15:40:19.661Z"
   },
   {
    "duration": 8,
    "start_time": "2024-02-14T15:40:19.694Z"
   },
   {
    "duration": 16,
    "start_time": "2024-02-14T15:40:19.703Z"
   },
   {
    "duration": 66,
    "start_time": "2024-02-14T15:40:19.720Z"
   },
   {
    "duration": 15,
    "start_time": "2024-02-14T15:40:19.788Z"
   },
   {
    "duration": 39,
    "start_time": "2024-02-14T15:40:19.805Z"
   },
   {
    "duration": 7,
    "start_time": "2024-02-14T15:40:19.858Z"
   },
   {
    "duration": 36,
    "start_time": "2024-02-14T15:40:19.867Z"
   },
   {
    "duration": 4,
    "start_time": "2024-02-14T15:40:19.905Z"
   },
   {
    "duration": 104,
    "start_time": "2024-02-14T15:40:19.911Z"
   },
   {
    "duration": 24,
    "start_time": "2024-02-14T15:40:20.016Z"
   },
   {
    "duration": 25,
    "start_time": "2024-02-14T15:40:20.042Z"
   },
   {
    "duration": 72,
    "start_time": "2024-02-14T15:40:20.068Z"
   },
   {
    "duration": 199,
    "start_time": "2024-02-14T15:40:20.141Z"
   },
   {
    "duration": 4,
    "start_time": "2024-02-14T15:40:20.342Z"
   },
   {
    "duration": 203,
    "start_time": "2024-02-14T15:40:20.347Z"
   },
   {
    "duration": 5,
    "start_time": "2024-02-14T15:40:20.559Z"
   },
   {
    "duration": 29079,
    "start_time": "2024-02-14T15:40:20.565Z"
   },
   {
    "duration": 2,
    "start_time": "2024-02-14T15:40:49.646Z"
   },
   {
    "duration": 22474,
    "start_time": "2024-02-14T15:40:49.649Z"
   },
   {
    "duration": 21601,
    "start_time": "2024-02-14T15:41:12.124Z"
   },
   {
    "duration": 113,
    "start_time": "2024-02-14T15:41:33.727Z"
   },
   {
    "duration": 5,
    "start_time": "2024-02-14T15:41:33.842Z"
   },
   {
    "duration": 16,
    "start_time": "2024-02-14T15:41:33.849Z"
   },
   {
    "duration": 285253,
    "start_time": "2024-02-14T15:41:33.867Z"
   },
   {
    "duration": 38,
    "start_time": "2024-02-14T15:46:19.122Z"
   },
   {
    "duration": 9,
    "start_time": "2024-02-14T15:46:19.162Z"
   },
   {
    "duration": 417,
    "start_time": "2024-02-14T15:46:19.173Z"
   },
   {
    "duration": 84824,
    "start_time": "2024-02-14T15:46:19.592Z"
   },
   {
    "duration": 4,
    "start_time": "2024-02-14T15:47:44.418Z"
   },
   {
    "duration": 7,
    "start_time": "2024-02-14T15:47:44.424Z"
   },
   {
    "duration": 25,
    "start_time": "2024-02-14T15:47:44.434Z"
   },
   {
    "duration": 4,
    "start_time": "2024-02-14T15:47:44.465Z"
   },
   {
    "duration": 108085,
    "start_time": "2024-02-14T15:47:44.470Z"
   },
   {
    "duration": 4,
    "start_time": "2024-02-14T15:49:32.559Z"
   },
   {
    "duration": 39,
    "start_time": "2024-02-14T15:49:32.564Z"
   },
   {
    "duration": 208,
    "start_time": "2024-02-14T15:49:32.604Z"
   },
   {
    "duration": 222,
    "start_time": "2024-02-14T15:49:32.814Z"
   },
   {
    "duration": 534,
    "start_time": "2024-02-14T15:49:33.037Z"
   },
   {
    "duration": 3,
    "start_time": "2024-02-14T15:49:33.572Z"
   },
   {
    "duration": 706884,
    "start_time": "2024-02-14T15:49:33.577Z"
   },
   {
    "duration": 7295,
    "start_time": "2024-02-14T16:01:20.463Z"
   },
   {
    "duration": 3,
    "start_time": "2024-02-14T16:01:27.761Z"
   },
   {
    "duration": 5,
    "start_time": "2024-02-14T16:01:27.766Z"
   },
   {
    "duration": 12,
    "start_time": "2024-02-14T16:01:27.772Z"
   },
   {
    "duration": 5,
    "start_time": "2024-02-14T16:01:27.786Z"
   },
   {
    "duration": 7,
    "start_time": "2024-02-14T16:01:27.793Z"
   },
   {
    "duration": 5,
    "start_time": "2024-02-14T16:01:27.801Z"
   },
   {
    "duration": 12,
    "start_time": "2024-02-14T16:02:29.452Z"
   },
   {
    "duration": 12,
    "start_time": "2024-02-14T16:02:33.672Z"
   },
   {
    "duration": 12,
    "start_time": "2024-02-14T16:03:20.313Z"
   },
   {
    "duration": 11770,
    "start_time": "2024-02-15T08:44:48.754Z"
   },
   {
    "duration": 2062,
    "start_time": "2024-02-15T08:45:00.527Z"
   },
   {
    "duration": 1166,
    "start_time": "2024-02-15T08:45:02.591Z"
   },
   {
    "duration": 16,
    "start_time": "2024-02-15T08:45:03.759Z"
   },
   {
    "duration": 28,
    "start_time": "2024-02-15T08:45:03.776Z"
   },
   {
    "duration": 60,
    "start_time": "2024-02-15T08:45:03.806Z"
   },
   {
    "duration": 1318,
    "start_time": "2024-02-15T08:45:03.868Z"
   },
   {
    "duration": 5,
    "start_time": "2024-02-15T08:45:05.187Z"
   },
   {
    "duration": 33,
    "start_time": "2024-02-15T08:45:05.194Z"
   },
   {
    "duration": 29,
    "start_time": "2024-02-15T08:45:05.229Z"
   },
   {
    "duration": 226,
    "start_time": "2024-02-15T08:45:05.260Z"
   },
   {
    "duration": 7520,
    "start_time": "2024-02-15T09:26:09.984Z"
   },
   {
    "duration": 6,
    "start_time": "2024-02-15T09:26:17.506Z"
   },
   {
    "duration": 832,
    "start_time": "2024-02-15T09:26:17.514Z"
   },
   {
    "duration": 19,
    "start_time": "2024-02-15T09:26:18.348Z"
   },
   {
    "duration": 17,
    "start_time": "2024-02-15T09:26:18.368Z"
   },
   {
    "duration": 23,
    "start_time": "2024-02-15T09:26:18.386Z"
   },
   {
    "duration": 1204,
    "start_time": "2024-02-15T09:26:18.410Z"
   },
   {
    "duration": 3,
    "start_time": "2024-02-15T09:26:19.616Z"
   },
   {
    "duration": 28,
    "start_time": "2024-02-15T09:26:19.621Z"
   },
   {
    "duration": 26,
    "start_time": "2024-02-15T09:26:19.651Z"
   },
   {
    "duration": 7923,
    "start_time": "2024-02-15T09:26:24.985Z"
   },
   {
    "duration": 1743,
    "start_time": "2024-02-15T09:26:32.910Z"
   },
   {
    "duration": 875,
    "start_time": "2024-02-15T09:26:34.655Z"
   },
   {
    "duration": 16,
    "start_time": "2024-02-15T09:26:35.532Z"
   },
   {
    "duration": 68,
    "start_time": "2024-02-15T09:26:35.549Z"
   },
   {
    "duration": 84,
    "start_time": "2024-02-15T09:26:35.618Z"
   },
   {
    "duration": 1315,
    "start_time": "2024-02-15T09:26:35.703Z"
   },
   {
    "duration": 5,
    "start_time": "2024-02-15T09:26:37.019Z"
   },
   {
    "duration": 7,
    "start_time": "2024-02-15T09:26:37.025Z"
   },
   {
    "duration": 6,
    "start_time": "2024-02-15T09:26:37.035Z"
   },
   {
    "duration": 214,
    "start_time": "2024-02-15T09:26:37.043Z"
   },
   {
    "duration": 25,
    "start_time": "2024-02-15T09:26:37.259Z"
   },
   {
    "duration": 2167,
    "start_time": "2024-02-15T09:26:37.286Z"
   },
   {
    "duration": 16,
    "start_time": "2024-02-15T09:26:39.455Z"
   },
   {
    "duration": 4621,
    "start_time": "2024-02-15T09:26:39.472Z"
   },
   {
    "duration": 88,
    "start_time": "2024-02-15T09:26:44.095Z"
   },
   {
    "duration": 20,
    "start_time": "2024-02-15T09:26:44.184Z"
   },
   {
    "duration": 17,
    "start_time": "2024-02-15T09:26:44.206Z"
   },
   {
    "duration": 46,
    "start_time": "2024-02-15T09:26:44.225Z"
   },
   {
    "duration": 55,
    "start_time": "2024-02-15T09:26:44.273Z"
   },
   {
    "duration": 218,
    "start_time": "2024-02-15T09:26:44.329Z"
   },
   {
    "duration": 20161,
    "start_time": "2024-02-15T09:26:44.548Z"
   },
   {
    "duration": 22,
    "start_time": "2024-02-15T09:27:04.711Z"
   },
   {
    "duration": 20056,
    "start_time": "2024-02-15T09:27:04.735Z"
   },
   {
    "duration": 17,
    "start_time": "2024-02-15T09:27:24.793Z"
   },
   {
    "duration": 155,
    "start_time": "2024-02-15T09:27:24.812Z"
   },
   {
    "duration": 31,
    "start_time": "2024-02-15T09:27:24.969Z"
   },
   {
    "duration": 111,
    "start_time": "2024-02-15T09:27:25.004Z"
   },
   {
    "duration": 5,
    "start_time": "2024-02-15T09:27:25.116Z"
   },
   {
    "duration": 7,
    "start_time": "2024-02-15T09:27:25.122Z"
   },
   {
    "duration": 18,
    "start_time": "2024-02-15T09:27:25.131Z"
   },
   {
    "duration": 15,
    "start_time": "2024-02-15T09:27:25.150Z"
   },
   {
    "duration": 2503,
    "start_time": "2024-02-15T09:27:25.167Z"
   },
   {
    "duration": 205,
    "start_time": "2024-02-15T09:27:27.671Z"
   },
   {
    "duration": 199,
    "start_time": "2024-02-15T09:27:27.878Z"
   },
   {
    "duration": 221,
    "start_time": "2024-02-15T09:27:28.079Z"
   },
   {
    "duration": 74,
    "start_time": "2024-02-15T09:27:28.301Z"
   },
   {
    "duration": 9,
    "start_time": "2024-02-15T09:27:28.376Z"
   },
   {
    "duration": 43,
    "start_time": "2024-02-15T09:27:28.387Z"
   },
   {
    "duration": 4,
    "start_time": "2024-02-15T09:27:28.432Z"
   },
   {
    "duration": 73,
    "start_time": "2024-02-15T09:27:28.437Z"
   },
   {
    "duration": 6,
    "start_time": "2024-02-15T09:27:28.512Z"
   },
   {
    "duration": 21,
    "start_time": "2024-02-15T09:27:28.519Z"
   },
   {
    "duration": 47,
    "start_time": "2024-02-15T09:27:28.541Z"
   },
   {
    "duration": 13,
    "start_time": "2024-02-15T09:27:28.590Z"
   },
   {
    "duration": 11475,
    "start_time": "2024-02-15T09:27:28.604Z"
   },
   {
    "duration": 7,
    "start_time": "2024-02-15T09:27:40.080Z"
   },
   {
    "duration": 34,
    "start_time": "2024-02-15T09:27:40.088Z"
   },
   {
    "duration": 26,
    "start_time": "2024-02-15T09:27:40.124Z"
   },
   {
    "duration": 42,
    "start_time": "2024-02-15T09:27:40.151Z"
   },
   {
    "duration": 8,
    "start_time": "2024-02-15T09:27:40.194Z"
   },
   {
    "duration": 18,
    "start_time": "2024-02-15T09:27:40.204Z"
   },
   {
    "duration": 43,
    "start_time": "2024-02-15T09:27:40.223Z"
   },
   {
    "duration": 14,
    "start_time": "2024-02-15T09:27:40.268Z"
   },
   {
    "duration": 32,
    "start_time": "2024-02-15T09:27:40.284Z"
   },
   {
    "duration": 8,
    "start_time": "2024-02-15T09:27:40.318Z"
   },
   {
    "duration": 60,
    "start_time": "2024-02-15T09:27:40.329Z"
   },
   {
    "duration": 5,
    "start_time": "2024-02-15T09:27:40.391Z"
   },
   {
    "duration": 80,
    "start_time": "2024-02-15T09:27:40.398Z"
   },
   {
    "duration": 22,
    "start_time": "2024-02-15T09:27:40.480Z"
   },
   {
    "duration": 11,
    "start_time": "2024-02-15T09:27:40.504Z"
   },
   {
    "duration": 90,
    "start_time": "2024-02-15T09:27:40.517Z"
   },
   {
    "duration": 179,
    "start_time": "2024-02-15T09:27:40.608Z"
   },
   {
    "duration": 4,
    "start_time": "2024-02-15T09:27:40.789Z"
   },
   {
    "duration": 210,
    "start_time": "2024-02-15T09:27:40.795Z"
   },
   {
    "duration": 6,
    "start_time": "2024-02-15T09:27:41.007Z"
   },
   {
    "duration": 28470,
    "start_time": "2024-02-15T09:27:41.015Z"
   },
   {
    "duration": 3,
    "start_time": "2024-02-15T09:28:09.487Z"
   },
   {
    "duration": 20312,
    "start_time": "2024-02-15T09:28:09.491Z"
   },
   {
    "duration": 19492,
    "start_time": "2024-02-15T09:28:29.804Z"
   },
   {
    "duration": 96,
    "start_time": "2024-02-15T09:29:51.546Z"
   },
   {
    "duration": 74,
    "start_time": "2024-02-15T09:30:10.010Z"
   },
   {
    "duration": 10,
    "start_time": "2024-02-15T09:30:37.966Z"
   },
   {
    "duration": 54,
    "start_time": "2024-02-15T09:30:52.478Z"
   },
   {
    "duration": 209,
    "start_time": "2024-02-15T09:31:08.582Z"
   },
   {
    "duration": 4,
    "start_time": "2024-02-15T09:41:11.923Z"
   },
   {
    "duration": 3,
    "start_time": "2024-02-15T09:41:13.777Z"
   },
   {
    "duration": 109623,
    "start_time": "2024-02-15T09:41:23.929Z"
   },
   {
    "duration": 4,
    "start_time": "2024-02-15T09:48:18.095Z"
   },
   {
    "duration": 4,
    "start_time": "2024-02-15T09:51:55.893Z"
   },
   {
    "duration": 137596,
    "start_time": "2024-02-15T09:52:01.470Z"
   },
   {
    "duration": 4,
    "start_time": "2024-02-15T09:57:35.600Z"
   },
   {
    "duration": 4,
    "start_time": "2024-02-15T09:57:36.930Z"
   },
   {
    "duration": 4,
    "start_time": "2024-02-15T09:57:51.674Z"
   },
   {
    "duration": 178,
    "start_time": "2024-02-15T09:58:01.008Z"
   }
  ],
  "kernelspec": {
   "display_name": "Python 3 (ipykernel)",
   "language": "python",
   "name": "python3"
  },
  "language_info": {
   "codemirror_mode": {
    "name": "ipython",
    "version": 3
   },
   "file_extension": ".py",
   "mimetype": "text/x-python",
   "name": "python",
   "nbconvert_exporter": "python",
   "pygments_lexer": "ipython3",
   "version": "3.9.5"
  },
  "toc": {
   "base_numbering": 1,
   "nav_menu": {},
   "number_sections": true,
   "sideBar": true,
   "skip_h1_title": true,
   "title_cell": "Table of Contents",
   "title_sidebar": "Contents",
   "toc_cell": false,
   "toc_position": {},
   "toc_section_display": true,
   "toc_window_display": true
  }
 },
 "nbformat": 4,
 "nbformat_minor": 4
}
