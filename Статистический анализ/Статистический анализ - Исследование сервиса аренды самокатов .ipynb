{
 "cells": [
  {
   "cell_type": "markdown",
   "id": "a03b4f4a",
   "metadata": {},
   "source": [
    "# Исследование сервиса аренды самокатов GoFast"
   ]
  },
  {
   "cell_type": "markdown",
   "id": "1df5bcbe",
   "metadata": {},
   "source": [
    "## Цель проекта:\n",
    "Проверить гипотезы, влияющие на увеличение выручки:\n",
    "1. Установить, тратят ли пользователи с подпиской больше времени на поездки;\n",
    "2. Проанализировать, превышает ли среднее расстояние, которое проезжают пользователи за одну поездку, оптимальное расстояние с точки зрения износа;\n",
    "3. Выявить, будет ли помесячная выручка от пользователей с подпиской по месяцам выше, чем выручка от пользователей без подписки;\n",
    "4. Выяснить, какое минимальное количество промокодов нужно разослать, чтобы вероятность не выполнить план была примерно 10%;\n",
    "5. Оценить вероятность того, что уведомление от отдела маркетинга откроют не более 399,5 тыс. пользователей.\n",
    "\n",
    "    \n",
    "<b>Этапы выполнения:</b> \n",
    "1. Загрузка данных, анализ общей информации;\n",
    "2. Предобработка данных: удаление и замена пропусков и дубликатов, преобразование типов данных;\n",
    "3. Исследовательский анализ данных: описание и визуализация общей информацим о пользователях и поездках:\n",
    "* частота встречаемости городов;\n",
    "* соотношение пользователей с подпиской и без подписки;\n",
    "* возраст пользователей;\n",
    "* расстояние, которое пользователь преодолел за одну поездку;\n",
    "* продолжительность поездок.\n",
    "4. Объединение данных из нескольких таблиц;\n",
    "5. Подсчёт выручки;\n",
    "6. Проверка гипотез;\n",
    "4. Формирование общего вывода.\n",
    "    \n",
    "<b>Описание данных:</b> \n",
    "\n",
    "Информация о пользователях (users_go.csv):\n",
    "* user_id - уникальный идентификатор пользователя;\n",
    "* name - имя пользователя;\n",
    "* age - возраст;\n",
    "* city - город;\n",
    "* subscription_type - тип подписки (free, ultra).\n",
    "\n",
    "Информация о поездках (rides_go.csv):\n",
    "* user_id - уникальный идентификатор пользователя;\n",
    "* distance - расстояние, которое пользователь проехал в текущей сессии (в метрах);\n",
    "* duration - продолжительность сессии (в минутах) — время с того момента, как пользователь нажал кнопку «Начать поездку» до момента, как он нажал кнопку «Завершить поездку»;\n",
    "* date - дата совершения поездки.\n",
    "\n",
    "Информация о подписках (subscriptions_go.csv):\n",
    "* subscription_type - тип подписки;\n",
    "* minute_price - стоимость одной минуты поездки по данной подписке;\n",
    "* start_ride_price - стоимость начала поездки;\n",
    "* subscription_fee - стоимость ежемесячного платежа.\n"
   ]
  },
  {
   "cell_type": "markdown",
   "id": "c42cbe00",
   "metadata": {},
   "source": [
    "#### Шаг 1. Загрузка данных"
   ]
  },
  {
   "cell_type": "code",
   "execution_count": 1,
   "id": "08d0b5ae",
   "metadata": {},
   "outputs": [],
   "source": [
    "import pandas as pd\n",
    "import seaborn as sns\n",
    "import matplotlib.pyplot as plt\n",
    "import numpy as np\n",
    "from math import factorial\n",
    "from scipy import stats as st\n",
    "import warnings\n",
    "warnings.simplefilter(\"ignore\")"
   ]
  },
  {
   "cell_type": "code",
   "execution_count": 2,
   "id": "5f553f8d",
   "metadata": {},
   "outputs": [],
   "source": [
    "#загружаем данные о пользователях\n"
   ]
  },
  {
   "cell_type": "code",
   "execution_count": 3,
   "id": "2dfb60cd",
   "metadata": {},
   "outputs": [],
   "source": [
    "#загружаем данные о поездках\n"
   ]
  },
  {
   "cell_type": "code",
   "execution_count": 4,
   "id": "a435ec9e",
   "metadata": {},
   "outputs": [],
   "source": [
    "#загружаем данные о подписках\n"
   ]
  },
  {
   "cell_type": "code",
   "execution_count": 5,
   "id": "80c9ef9a",
   "metadata": {
    "scrolled": true
   },
   "outputs": [
    {
     "data": {
      "text/html": [
       "<div>\n",
       "<style scoped>\n",
       "    .dataframe tbody tr th:only-of-type {\n",
       "        vertical-align: middle;\n",
       "    }\n",
       "\n",
       "    .dataframe tbody tr th {\n",
       "        vertical-align: top;\n",
       "    }\n",
       "\n",
       "    .dataframe thead th {\n",
       "        text-align: right;\n",
       "    }\n",
       "</style>\n",
       "<table border=\"1\" class=\"dataframe\">\n",
       "  <thead>\n",
       "    <tr style=\"text-align: right;\">\n",
       "      <th></th>\n",
       "      <th>user_id</th>\n",
       "      <th>name</th>\n",
       "      <th>age</th>\n",
       "      <th>city</th>\n",
       "      <th>subscription_type</th>\n",
       "    </tr>\n",
       "  </thead>\n",
       "  <tbody>\n",
       "    <tr>\n",
       "      <th>0</th>\n",
       "      <td>1</td>\n",
       "      <td>Кира</td>\n",
       "      <td>22</td>\n",
       "      <td>Тюмень</td>\n",
       "      <td>ultra</td>\n",
       "    </tr>\n",
       "    <tr>\n",
       "      <th>1</th>\n",
       "      <td>2</td>\n",
       "      <td>Станислав</td>\n",
       "      <td>31</td>\n",
       "      <td>Омск</td>\n",
       "      <td>ultra</td>\n",
       "    </tr>\n",
       "    <tr>\n",
       "      <th>2</th>\n",
       "      <td>3</td>\n",
       "      <td>Алексей</td>\n",
       "      <td>20</td>\n",
       "      <td>Москва</td>\n",
       "      <td>ultra</td>\n",
       "    </tr>\n",
       "    <tr>\n",
       "      <th>3</th>\n",
       "      <td>4</td>\n",
       "      <td>Константин</td>\n",
       "      <td>26</td>\n",
       "      <td>Ростов-на-Дону</td>\n",
       "      <td>ultra</td>\n",
       "    </tr>\n",
       "    <tr>\n",
       "      <th>4</th>\n",
       "      <td>5</td>\n",
       "      <td>Адель</td>\n",
       "      <td>28</td>\n",
       "      <td>Омск</td>\n",
       "      <td>ultra</td>\n",
       "    </tr>\n",
       "    <tr>\n",
       "      <th>5</th>\n",
       "      <td>6</td>\n",
       "      <td>Регина</td>\n",
       "      <td>25</td>\n",
       "      <td>Краснодар</td>\n",
       "      <td>ultra</td>\n",
       "    </tr>\n",
       "    <tr>\n",
       "      <th>6</th>\n",
       "      <td>7</td>\n",
       "      <td>Игорь</td>\n",
       "      <td>23</td>\n",
       "      <td>Омск</td>\n",
       "      <td>ultra</td>\n",
       "    </tr>\n",
       "    <tr>\n",
       "      <th>7</th>\n",
       "      <td>8</td>\n",
       "      <td>Юрий</td>\n",
       "      <td>23</td>\n",
       "      <td>Краснодар</td>\n",
       "      <td>ultra</td>\n",
       "    </tr>\n",
       "    <tr>\n",
       "      <th>8</th>\n",
       "      <td>9</td>\n",
       "      <td>Ян</td>\n",
       "      <td>21</td>\n",
       "      <td>Пятигорск</td>\n",
       "      <td>ultra</td>\n",
       "    </tr>\n",
       "    <tr>\n",
       "      <th>9</th>\n",
       "      <td>10</td>\n",
       "      <td>Валерий</td>\n",
       "      <td>18</td>\n",
       "      <td>Екатеринбург</td>\n",
       "      <td>ultra</td>\n",
       "    </tr>\n",
       "  </tbody>\n",
       "</table>\n",
       "</div>"
      ],
      "text/plain": [
       "   user_id        name  age            city subscription_type\n",
       "0        1        Кира   22          Тюмень             ultra\n",
       "1        2   Станислав   31            Омск             ultra\n",
       "2        3     Алексей   20          Москва             ultra\n",
       "3        4  Константин   26  Ростов-на-Дону             ultra\n",
       "4        5       Адель   28            Омск             ultra\n",
       "5        6      Регина   25       Краснодар             ultra\n",
       "6        7       Игорь   23            Омск             ultra\n",
       "7        8        Юрий   23       Краснодар             ultra\n",
       "8        9          Ян   21       Пятигорск             ultra\n",
       "9       10     Валерий   18    Екатеринбург             ultra"
      ]
     },
     "execution_count": 5,
     "metadata": {},
     "output_type": "execute_result"
    }
   ],
   "source": [
    "#смотрим первые 10 строк в таблие с пользователями\n",
    "users.head(10)"
   ]
  },
  {
   "cell_type": "code",
   "execution_count": 6,
   "id": "afafa5e1",
   "metadata": {
    "scrolled": true
   },
   "outputs": [
    {
     "name": "stdout",
     "output_type": "stream",
     "text": [
      "<class 'pandas.core.frame.DataFrame'>\n",
      "RangeIndex: 1565 entries, 0 to 1564\n",
      "Data columns (total 5 columns):\n",
      " #   Column             Non-Null Count  Dtype \n",
      "---  ------             --------------  ----- \n",
      " 0   user_id            1565 non-null   int64 \n",
      " 1   name               1565 non-null   object\n",
      " 2   age                1565 non-null   int64 \n",
      " 3   city               1565 non-null   object\n",
      " 4   subscription_type  1565 non-null   object\n",
      "dtypes: int64(2), object(3)\n",
      "memory usage: 61.3+ KB\n"
     ]
    }
   ],
   "source": [
    "#смотрим общую информацию о данных в таблице с пользователями \n",
    "users.info()"
   ]
  },
  {
   "cell_type": "markdown",
   "id": "20886aad",
   "metadata": {},
   "source": [
    "В таблице с пользователями содержится информация о 1565 пользователях, на первый взгляд пропусков в таблице нет, подробнее проверим дальше. Типы данных соответствуют ожиданиям. "
   ]
  },
  {
   "cell_type": "code",
   "execution_count": 7,
   "id": "0426cc98",
   "metadata": {
    "scrolled": true
   },
   "outputs": [
    {
     "data": {
      "text/html": [
       "<div>\n",
       "<style scoped>\n",
       "    .dataframe tbody tr th:only-of-type {\n",
       "        vertical-align: middle;\n",
       "    }\n",
       "\n",
       "    .dataframe tbody tr th {\n",
       "        vertical-align: top;\n",
       "    }\n",
       "\n",
       "    .dataframe thead th {\n",
       "        text-align: right;\n",
       "    }\n",
       "</style>\n",
       "<table border=\"1\" class=\"dataframe\">\n",
       "  <thead>\n",
       "    <tr style=\"text-align: right;\">\n",
       "      <th></th>\n",
       "      <th>user_id</th>\n",
       "      <th>distance</th>\n",
       "      <th>duration</th>\n",
       "      <th>date</th>\n",
       "    </tr>\n",
       "  </thead>\n",
       "  <tbody>\n",
       "    <tr>\n",
       "      <th>0</th>\n",
       "      <td>1</td>\n",
       "      <td>4409.919140</td>\n",
       "      <td>25.599769</td>\n",
       "      <td>2021-01-01</td>\n",
       "    </tr>\n",
       "    <tr>\n",
       "      <th>1</th>\n",
       "      <td>1</td>\n",
       "      <td>2617.592153</td>\n",
       "      <td>15.816871</td>\n",
       "      <td>2021-01-18</td>\n",
       "    </tr>\n",
       "    <tr>\n",
       "      <th>2</th>\n",
       "      <td>1</td>\n",
       "      <td>754.159807</td>\n",
       "      <td>6.232113</td>\n",
       "      <td>2021-04-20</td>\n",
       "    </tr>\n",
       "    <tr>\n",
       "      <th>3</th>\n",
       "      <td>1</td>\n",
       "      <td>2694.783254</td>\n",
       "      <td>18.511000</td>\n",
       "      <td>2021-08-11</td>\n",
       "    </tr>\n",
       "    <tr>\n",
       "      <th>4</th>\n",
       "      <td>1</td>\n",
       "      <td>4028.687306</td>\n",
       "      <td>26.265803</td>\n",
       "      <td>2021-08-28</td>\n",
       "    </tr>\n",
       "    <tr>\n",
       "      <th>5</th>\n",
       "      <td>1</td>\n",
       "      <td>2770.890808</td>\n",
       "      <td>16.650138</td>\n",
       "      <td>2021-10-09</td>\n",
       "    </tr>\n",
       "    <tr>\n",
       "      <th>6</th>\n",
       "      <td>1</td>\n",
       "      <td>3039.020292</td>\n",
       "      <td>14.927879</td>\n",
       "      <td>2021-10-19</td>\n",
       "    </tr>\n",
       "    <tr>\n",
       "      <th>7</th>\n",
       "      <td>1</td>\n",
       "      <td>2842.118050</td>\n",
       "      <td>23.117468</td>\n",
       "      <td>2021-11-06</td>\n",
       "    </tr>\n",
       "    <tr>\n",
       "      <th>8</th>\n",
       "      <td>1</td>\n",
       "      <td>3412.690668</td>\n",
       "      <td>15.238072</td>\n",
       "      <td>2021-11-14</td>\n",
       "    </tr>\n",
       "    <tr>\n",
       "      <th>9</th>\n",
       "      <td>1</td>\n",
       "      <td>748.690645</td>\n",
       "      <td>15.041884</td>\n",
       "      <td>2021-11-22</td>\n",
       "    </tr>\n",
       "  </tbody>\n",
       "</table>\n",
       "</div>"
      ],
      "text/plain": [
       "   user_id     distance   duration       date\n",
       "0        1  4409.919140  25.599769 2021-01-01\n",
       "1        1  2617.592153  15.816871 2021-01-18\n",
       "2        1   754.159807   6.232113 2021-04-20\n",
       "3        1  2694.783254  18.511000 2021-08-11\n",
       "4        1  4028.687306  26.265803 2021-08-28\n",
       "5        1  2770.890808  16.650138 2021-10-09\n",
       "6        1  3039.020292  14.927879 2021-10-19\n",
       "7        1  2842.118050  23.117468 2021-11-06\n",
       "8        1  3412.690668  15.238072 2021-11-14\n",
       "9        1   748.690645  15.041884 2021-11-22"
      ]
     },
     "execution_count": 7,
     "metadata": {},
     "output_type": "execute_result"
    }
   ],
   "source": [
    "#смотрим первые 10 строк в таблие с поездками\n",
    "rides.head(10)"
   ]
  },
  {
   "cell_type": "code",
   "execution_count": 8,
   "id": "c4950687",
   "metadata": {
    "scrolled": true
   },
   "outputs": [
    {
     "name": "stdout",
     "output_type": "stream",
     "text": [
      "<class 'pandas.core.frame.DataFrame'>\n",
      "RangeIndex: 18068 entries, 0 to 18067\n",
      "Data columns (total 4 columns):\n",
      " #   Column    Non-Null Count  Dtype         \n",
      "---  ------    --------------  -----         \n",
      " 0   user_id   18068 non-null  int64         \n",
      " 1   distance  18068 non-null  float64       \n",
      " 2   duration  18068 non-null  float64       \n",
      " 3   date      18068 non-null  datetime64[ns]\n",
      "dtypes: datetime64[ns](1), float64(2), int64(1)\n",
      "memory usage: 564.8 KB\n"
     ]
    }
   ],
   "source": [
    "#смотрим общую информацию о данных в таблице с поездками \n",
    "rides.info()"
   ]
  },
  {
   "cell_type": "markdown",
   "id": "1102832e",
   "metadata": {},
   "source": [
    "В таблице с поездками содержится информация о 18068 поездок, на первый взгляд пропусков в таблице нет, подробнее проверим дальше. Тип данных для столцба с датой поменяли при загрузке данных. "
   ]
  },
  {
   "cell_type": "code",
   "execution_count": 9,
   "id": "af6d202c",
   "metadata": {},
   "outputs": [
    {
     "data": {
      "text/html": [
       "<div>\n",
       "<style scoped>\n",
       "    .dataframe tbody tr th:only-of-type {\n",
       "        vertical-align: middle;\n",
       "    }\n",
       "\n",
       "    .dataframe tbody tr th {\n",
       "        vertical-align: top;\n",
       "    }\n",
       "\n",
       "    .dataframe thead th {\n",
       "        text-align: right;\n",
       "    }\n",
       "</style>\n",
       "<table border=\"1\" class=\"dataframe\">\n",
       "  <thead>\n",
       "    <tr style=\"text-align: right;\">\n",
       "      <th></th>\n",
       "      <th>subscription_type</th>\n",
       "      <th>minute_price</th>\n",
       "      <th>start_ride_price</th>\n",
       "      <th>subscription_fee</th>\n",
       "    </tr>\n",
       "  </thead>\n",
       "  <tbody>\n",
       "    <tr>\n",
       "      <th>0</th>\n",
       "      <td>free</td>\n",
       "      <td>8</td>\n",
       "      <td>50</td>\n",
       "      <td>0</td>\n",
       "    </tr>\n",
       "    <tr>\n",
       "      <th>1</th>\n",
       "      <td>ultra</td>\n",
       "      <td>6</td>\n",
       "      <td>0</td>\n",
       "      <td>199</td>\n",
       "    </tr>\n",
       "  </tbody>\n",
       "</table>\n",
       "</div>"
      ],
      "text/plain": [
       "  subscription_type  minute_price  start_ride_price  subscription_fee\n",
       "0              free             8                50                 0\n",
       "1             ultra             6                 0               199"
      ]
     },
     "execution_count": 9,
     "metadata": {},
     "output_type": "execute_result"
    }
   ],
   "source": [
    "#смотрим таблицу с подписками\n",
    "subscriptions"
   ]
  },
  {
   "cell_type": "markdown",
   "id": "374df17d",
   "metadata": {},
   "source": [
    "Мы загрузили информацию о пользователях (1565), поездках (18068) и подписках (2). \n",
    "Проведем предобработку данных в следующем шаге. "
   ]
  },
  {
   "cell_type": "markdown",
   "id": "e95ebca7",
   "metadata": {},
   "source": [
    "#### Шаг 2. Предобработка данных"
   ]
  },
  {
   "cell_type": "code",
   "execution_count": 10,
   "id": "64f0d7a6",
   "metadata": {},
   "outputs": [],
   "source": [
    "# поскольку данные о поездках у нас только за 2021 год, то добавим в таблицу только номер месяца, без указания года \n",
    "rides['month'] = pd.DatetimeIndex(rides['date']).month"
   ]
  },
  {
   "cell_type": "code",
   "execution_count": 11,
   "id": "3f4f0482",
   "metadata": {},
   "outputs": [
    {
     "data": {
      "text/html": [
       "<div>\n",
       "<style scoped>\n",
       "    .dataframe tbody tr th:only-of-type {\n",
       "        vertical-align: middle;\n",
       "    }\n",
       "\n",
       "    .dataframe tbody tr th {\n",
       "        vertical-align: top;\n",
       "    }\n",
       "\n",
       "    .dataframe thead th {\n",
       "        text-align: right;\n",
       "    }\n",
       "</style>\n",
       "<table border=\"1\" class=\"dataframe\">\n",
       "  <thead>\n",
       "    <tr style=\"text-align: right;\">\n",
       "      <th></th>\n",
       "      <th>user_id</th>\n",
       "      <th>distance</th>\n",
       "      <th>duration</th>\n",
       "      <th>date</th>\n",
       "      <th>month</th>\n",
       "    </tr>\n",
       "  </thead>\n",
       "  <tbody>\n",
       "    <tr>\n",
       "      <th>0</th>\n",
       "      <td>1</td>\n",
       "      <td>4409.919140</td>\n",
       "      <td>25.599769</td>\n",
       "      <td>2021-01-01</td>\n",
       "      <td>1</td>\n",
       "    </tr>\n",
       "    <tr>\n",
       "      <th>1</th>\n",
       "      <td>1</td>\n",
       "      <td>2617.592153</td>\n",
       "      <td>15.816871</td>\n",
       "      <td>2021-01-18</td>\n",
       "      <td>1</td>\n",
       "    </tr>\n",
       "    <tr>\n",
       "      <th>2</th>\n",
       "      <td>1</td>\n",
       "      <td>754.159807</td>\n",
       "      <td>6.232113</td>\n",
       "      <td>2021-04-20</td>\n",
       "      <td>4</td>\n",
       "    </tr>\n",
       "    <tr>\n",
       "      <th>3</th>\n",
       "      <td>1</td>\n",
       "      <td>2694.783254</td>\n",
       "      <td>18.511000</td>\n",
       "      <td>2021-08-11</td>\n",
       "      <td>8</td>\n",
       "    </tr>\n",
       "    <tr>\n",
       "      <th>4</th>\n",
       "      <td>1</td>\n",
       "      <td>4028.687306</td>\n",
       "      <td>26.265803</td>\n",
       "      <td>2021-08-28</td>\n",
       "      <td>8</td>\n",
       "    </tr>\n",
       "  </tbody>\n",
       "</table>\n",
       "</div>"
      ],
      "text/plain": [
       "   user_id     distance   duration       date  month\n",
       "0        1  4409.919140  25.599769 2021-01-01      1\n",
       "1        1  2617.592153  15.816871 2021-01-18      1\n",
       "2        1   754.159807   6.232113 2021-04-20      4\n",
       "3        1  2694.783254  18.511000 2021-08-11      8\n",
       "4        1  4028.687306  26.265803 2021-08-28      8"
      ]
     },
     "execution_count": 11,
     "metadata": {},
     "output_type": "execute_result"
    }
   ],
   "source": [
    "# проверяем\n",
    "rides.head()"
   ]
  },
  {
   "cell_type": "markdown",
   "id": "bc98384c",
   "metadata": {},
   "source": [
    "Проверим наличие пропущенных значений и дубликатов в датафреймах. "
   ]
  },
  {
   "cell_type": "code",
   "execution_count": 12,
   "id": "7c87ee32",
   "metadata": {},
   "outputs": [
    {
     "data": {
      "text/plain": [
       "user_id              0\n",
       "name                 0\n",
       "age                  0\n",
       "city                 0\n",
       "subscription_type    0\n",
       "dtype: int64"
      ]
     },
     "execution_count": 12,
     "metadata": {},
     "output_type": "execute_result"
    }
   ],
   "source": [
    "#проверяем пропуски и дубли в данных о пользователях \n",
    "users.isna().sum()"
   ]
  },
  {
   "cell_type": "code",
   "execution_count": 13,
   "id": "cda1bf09",
   "metadata": {},
   "outputs": [
    {
     "data": {
      "text/plain": [
       "31"
      ]
     },
     "execution_count": 13,
     "metadata": {},
     "output_type": "execute_result"
    }
   ],
   "source": [
    "users.duplicated().sum()"
   ]
  },
  {
   "cell_type": "code",
   "execution_count": 14,
   "id": "2b74231a",
   "metadata": {},
   "outputs": [],
   "source": [
    "#удаляем дубликаты \n",
    "users = users.drop_duplicates().reset_index()"
   ]
  },
  {
   "cell_type": "code",
   "execution_count": 15,
   "id": "e2a405be",
   "metadata": {},
   "outputs": [
    {
     "data": {
      "text/plain": [
       "(1534, 6)"
      ]
     },
     "execution_count": 15,
     "metadata": {},
     "output_type": "execute_result"
    }
   ],
   "source": [
    "#проверяем\n",
    "users.shape"
   ]
  },
  {
   "cell_type": "code",
   "execution_count": 16,
   "id": "55c6e413",
   "metadata": {},
   "outputs": [
    {
     "data": {
      "text/plain": [
       "user_id     0\n",
       "distance    0\n",
       "duration    0\n",
       "date        0\n",
       "month       0\n",
       "dtype: int64"
      ]
     },
     "execution_count": 16,
     "metadata": {},
     "output_type": "execute_result"
    }
   ],
   "source": [
    "#проверяем пропуски и дубли в данных о поездках \n",
    "rides.isna().sum()"
   ]
  },
  {
   "cell_type": "code",
   "execution_count": 17,
   "id": "059c24b1",
   "metadata": {
    "scrolled": true
   },
   "outputs": [
    {
     "data": {
      "text/plain": [
       "0"
      ]
     },
     "execution_count": 17,
     "metadata": {},
     "output_type": "execute_result"
    }
   ],
   "source": [
    "rides.duplicated().sum()"
   ]
  },
  {
   "cell_type": "markdown",
   "id": "45b05aba",
   "metadata": {},
   "source": [
    "Мы добавили в таблицу с поездками информацию о месяце, в котором совершена поездка и удалили дубликаты в таблице с пользоватлями. Другмх дублей или пропусков в данных нет. "
   ]
  },
  {
   "cell_type": "markdown",
   "id": "212593c7",
   "metadata": {},
   "source": [
    "#### Шаг 3. Исследовательский анализ данных"
   ]
  },
  {
   "cell_type": "code",
   "execution_count": 18,
   "id": "e3a4274c",
   "metadata": {},
   "outputs": [
    {
     "data": {
      "text/plain": [
       "array(['Тюмень', 'Омск', 'Москва', 'Ростов-на-Дону', 'Краснодар',\n",
       "       'Пятигорск', 'Екатеринбург', 'Сочи'], dtype=object)"
      ]
     },
     "execution_count": 18,
     "metadata": {},
     "output_type": "execute_result"
    }
   ],
   "source": [
    "#посмотрим, пользователи из каких городов встречаются в данных \n",
    "users['city'].unique()"
   ]
  },
  {
   "cell_type": "code",
   "execution_count": 19,
   "id": "c522f273",
   "metadata": {
    "scrolled": true
   },
   "outputs": [
    {
     "data": {
      "text/html": [
       "<div>\n",
       "<style scoped>\n",
       "    .dataframe tbody tr th:only-of-type {\n",
       "        vertical-align: middle;\n",
       "    }\n",
       "\n",
       "    .dataframe tbody tr th {\n",
       "        vertical-align: top;\n",
       "    }\n",
       "\n",
       "    .dataframe thead th {\n",
       "        text-align: right;\n",
       "    }\n",
       "</style>\n",
       "<table border=\"1\" class=\"dataframe\">\n",
       "  <thead>\n",
       "    <tr style=\"text-align: right;\">\n",
       "      <th></th>\n",
       "      <th>count</th>\n",
       "      <th>mean</th>\n",
       "    </tr>\n",
       "    <tr>\n",
       "      <th>city</th>\n",
       "      <th></th>\n",
       "      <th></th>\n",
       "    </tr>\n",
       "  </thead>\n",
       "  <tbody>\n",
       "    <tr>\n",
       "      <th>Пятигорск</th>\n",
       "      <td>219.0</td>\n",
       "      <td>24.716895</td>\n",
       "    </tr>\n",
       "    <tr>\n",
       "      <th>Екатеринбург</th>\n",
       "      <td>204.0</td>\n",
       "      <td>24.955882</td>\n",
       "    </tr>\n",
       "    <tr>\n",
       "      <th>Ростов-на-Дону</th>\n",
       "      <td>198.0</td>\n",
       "      <td>24.545455</td>\n",
       "    </tr>\n",
       "    <tr>\n",
       "      <th>Краснодар</th>\n",
       "      <td>193.0</td>\n",
       "      <td>25.290155</td>\n",
       "    </tr>\n",
       "    <tr>\n",
       "      <th>Сочи</th>\n",
       "      <td>189.0</td>\n",
       "      <td>24.507937</td>\n",
       "    </tr>\n",
       "    <tr>\n",
       "      <th>Омск</th>\n",
       "      <td>183.0</td>\n",
       "      <td>25.382514</td>\n",
       "    </tr>\n",
       "    <tr>\n",
       "      <th>Тюмень</th>\n",
       "      <td>180.0</td>\n",
       "      <td>24.638889</td>\n",
       "    </tr>\n",
       "    <tr>\n",
       "      <th>Москва</th>\n",
       "      <td>168.0</td>\n",
       "      <td>25.267857</td>\n",
       "    </tr>\n",
       "  </tbody>\n",
       "</table>\n",
       "</div>"
      ],
      "text/plain": [
       "                count       mean\n",
       "city                            \n",
       "Пятигорск       219.0  24.716895\n",
       "Екатеринбург    204.0  24.955882\n",
       "Ростов-на-Дону  198.0  24.545455\n",
       "Краснодар       193.0  25.290155\n",
       "Сочи            189.0  24.507937\n",
       "Омск            183.0  25.382514\n",
       "Тюмень          180.0  24.638889\n",
       "Москва          168.0  25.267857"
      ]
     },
     "execution_count": 19,
     "metadata": {},
     "output_type": "execute_result"
    }
   ],
   "source": [
    "#посмотрим, в каком городе самокаты популярнее и здесь же определим средний возраст пользователей\n",
    "users_city_table = users.pivot_table(index='city',  values='age', aggfunc=('count', 'mean'))\n",
    "users_city_table.sort_values(by='count', ascending = False)"
   ]
  },
  {
   "cell_type": "code",
   "execution_count": 20,
   "id": "7e352edf",
   "metadata": {},
   "outputs": [
    {
     "data": {
      "image/png": "[encoded data removed]",
      "text/plain": [
       "<Figure size 432x288 with 1 Axes>"
      ]
     },
     "metadata": {
      "needs_background": "light"
     },
     "output_type": "display_data"
    }
   ],
   "source": [
    "#посмотрим на графике распределение пользователей по городам\n",
    "a = users.groupby(by='city')['user_id'].count().sort_values(ascending=False)\n",
    "a.plot(\n",
    "    kind='bar',\n",
    "    title='Пользователей в городах',\n",
    "    xlabel='Город',\n",
    "    ylabel='Количество пользователей',\n",
    "    color='darkcyan'\n",
    ");"
   ]
  },
  {
   "cell_type": "code",
   "execution_count": 21,
   "id": "48bbfd02",
   "metadata": {},
   "outputs": [
    {
     "data": {
      "image/png": "[encoded data removed]",
      "text/plain": [
       "<Figure size 432x288 with 1 Axes>"
      ]
     },
     "metadata": {
      "needs_background": "light"
     },
     "output_type": "display_data"
    }
   ],
   "source": [
    "#посмотрим на графике средний возраст пользователей\n",
    "users_city_table['mean'].plot(\n",
    "    kind='bar',\n",
    "    title='Средний возраст пользователей',\n",
    "    xlabel='город',\n",
    "    ylim=(23, 26),\n",
    "    color='lightseagreen'\n",
    ");"
   ]
  },
  {
   "cell_type": "code",
   "execution_count": 22,
   "id": "fc05e67a",
   "metadata": {},
   "outputs": [
    {
     "data": {
      "image/png": "[encoded data removed]",
      "text/plain": [
       "<Figure size 432x288 with 1 Axes>"
      ]
     },
     "metadata": {
      "needs_background": "light"
     },
     "output_type": "display_data"
    }
   ],
   "source": [
    "users['age'].plot(\n",
    "    kind='hist',\n",
    "    title='Распределение возрастов пользователей',\n",
    "    color='lightseagreen',\n",
    "    bins=30,\n",
    "    alpha=0.5\n",
    ")\n",
    "plt.xlabel('Возраст, лет')\n",
    "plt.ylabel('Количество пользователей');"
   ]
  },
  {
   "cell_type": "code",
   "execution_count": 23,
   "id": "63233b48",
   "metadata": {},
   "outputs": [
    {
     "data": {
      "text/plain": [
       "24.9"
      ]
     },
     "execution_count": 23,
     "metadata": {},
     "output_type": "execute_result"
    }
   ],
   "source": [
    "#а какой средний возраст вне зависимости от города? \n",
    "round(users['age'].mean(), 1)"
   ]
  },
  {
   "cell_type": "code",
   "execution_count": 24,
   "id": "b5cbbc63",
   "metadata": {},
   "outputs": [
    {
     "data": {
      "text/plain": [
       "0.02216427640156454"
      ]
     },
     "execution_count": 24,
     "metadata": {},
     "output_type": "execute_result"
    }
   ],
   "source": [
    "users[(users['age'] < 15) | (users['age'] > 35)]['age'].count() / users['age'].count()"
   ]
  },
  {
   "cell_type": "markdown",
   "id": "bc054c09",
   "metadata": {},
   "source": [
    "Больше всего в выборке пользоователей в Пятигорске, меньше всего - в Москве. \\\n",
    "Самые молодые пользователи сервиса живут в Ростове-на-Дону, а самые взрослые - в Омске. Хотя разница межу ними незначительна - всего 0,6 лет. \n",
    "\n",
    "Средний возраст пользователей - 24,9 лет. Молодых пользователей (до 15 лет) и взрослых (старше 35) - всего 2%. "
   ]
  },
  {
   "cell_type": "code",
   "execution_count": 25,
   "id": "f7cde426",
   "metadata": {},
   "outputs": [
    {
     "data": {
      "text/html": [
       "<div>\n",
       "<style scoped>\n",
       "    .dataframe tbody tr th:only-of-type {\n",
       "        vertical-align: middle;\n",
       "    }\n",
       "\n",
       "    .dataframe tbody tr th {\n",
       "        vertical-align: top;\n",
       "    }\n",
       "\n",
       "    .dataframe thead th {\n",
       "        text-align: right;\n",
       "    }\n",
       "</style>\n",
       "<table border=\"1\" class=\"dataframe\">\n",
       "  <thead>\n",
       "    <tr style=\"text-align: right;\">\n",
       "      <th>subscription_type</th>\n",
       "      <th>free</th>\n",
       "      <th>ultra</th>\n",
       "      <th>share</th>\n",
       "    </tr>\n",
       "    <tr>\n",
       "      <th>city</th>\n",
       "      <th></th>\n",
       "      <th></th>\n",
       "      <th></th>\n",
       "    </tr>\n",
       "  </thead>\n",
       "  <tbody>\n",
       "    <tr>\n",
       "      <th>Екатеринбург</th>\n",
       "      <td>112</td>\n",
       "      <td>92</td>\n",
       "      <td>45.098039</td>\n",
       "    </tr>\n",
       "    <tr>\n",
       "      <th>Краснодар</th>\n",
       "      <td>112</td>\n",
       "      <td>81</td>\n",
       "      <td>41.968912</td>\n",
       "    </tr>\n",
       "    <tr>\n",
       "      <th>Москва</th>\n",
       "      <td>84</td>\n",
       "      <td>84</td>\n",
       "      <td>50.000000</td>\n",
       "    </tr>\n",
       "    <tr>\n",
       "      <th>Омск</th>\n",
       "      <td>92</td>\n",
       "      <td>91</td>\n",
       "      <td>49.726776</td>\n",
       "    </tr>\n",
       "    <tr>\n",
       "      <th>Пятигорск</th>\n",
       "      <td>125</td>\n",
       "      <td>94</td>\n",
       "      <td>42.922374</td>\n",
       "    </tr>\n",
       "    <tr>\n",
       "      <th>Ростов-на-Дону</th>\n",
       "      <td>109</td>\n",
       "      <td>89</td>\n",
       "      <td>44.949495</td>\n",
       "    </tr>\n",
       "    <tr>\n",
       "      <th>Сочи</th>\n",
       "      <td>103</td>\n",
       "      <td>86</td>\n",
       "      <td>45.502646</td>\n",
       "    </tr>\n",
       "    <tr>\n",
       "      <th>Тюмень</th>\n",
       "      <td>98</td>\n",
       "      <td>82</td>\n",
       "      <td>45.555556</td>\n",
       "    </tr>\n",
       "  </tbody>\n",
       "</table>\n",
       "</div>"
      ],
      "text/plain": [
       "subscription_type  free  ultra      share\n",
       "city                                     \n",
       "Екатеринбург        112     92  45.098039\n",
       "Краснодар           112     81  41.968912\n",
       "Москва               84     84  50.000000\n",
       "Омск                 92     91  49.726776\n",
       "Пятигорск           125     94  42.922374\n",
       "Ростов-на-Дону      109     89  44.949495\n",
       "Сочи                103     86  45.502646\n",
       "Тюмень               98     82  45.555556"
      ]
     },
     "execution_count": 25,
     "metadata": {},
     "output_type": "execute_result"
    }
   ],
   "source": [
    "#Посмотрим, где пользователи чаще используют подписку\n",
    "users_sub_table = users.pivot_table(index='city', columns='subscription_type', values='user_id', aggfunc='count')\n",
    "users_sub_table['share'] = users_sub_table['ultra'] / (users_sub_table['free']+ users_sub_table['ultra'])*100\n",
    "users_sub_table"
   ]
  },
  {
   "cell_type": "code",
   "execution_count": 26,
   "id": "783b0e62",
   "metadata": {},
   "outputs": [
    {
     "data": {
      "text/plain": [
       "0.4556714471968709"
      ]
     },
     "execution_count": 26,
     "metadata": {},
     "output_type": "execute_result"
    }
   ],
   "source": [
    "#а какая общая доля подписок?\n",
    "users_sub_table['ultra'].sum() / users['user_id'].count()"
   ]
  },
  {
   "cell_type": "code",
   "execution_count": 27,
   "id": "d3fcc57c",
   "metadata": {
    "scrolled": true
   },
   "outputs": [
    {
     "data": {
      "image/png": "[encoded data removed]",
      "text/plain": [
       "<Figure size 936x360 with 1 Axes>"
      ]
     },
     "metadata": {
      "needs_background": "light"
     },
     "output_type": "display_data"
    }
   ],
   "source": [
    "#посмотрим на графике распределение пользователей с подпиской и без в каждом городе\n",
    "plt.figure(figsize=(13, 5))\n",
    "ax = sns.countplot(x='city', data=users, hue=\"subscription_type\", color='mediumseagreen')\n",
    "plt.xlabel('Город')\n",
    "plt.ylabel('Количество пользвателей')\n",
    "plt.title('Количество подписок по городам пользователей')\n",
    "plt.show()"
   ]
  },
  {
   "cell_type": "markdown",
   "id": "8604ace1",
   "metadata": {},
   "source": [
    "Чаще всего подпиской пользуются в Москве -  ровно 50% пользователей. Реже всего покупают подписку в Краснодаре - 42% пользователей. "
   ]
  },
  {
   "cell_type": "markdown",
   "id": "3ad803b5",
   "metadata": {},
   "source": [
    "Перейдем к анализу данных о поездках. Проанализируем, на какое расстояние ездят пользователи за одну поездку и ее среднее время. "
   ]
  },
  {
   "cell_type": "code",
   "execution_count": 28,
   "id": "5fb339fa",
   "metadata": {
    "scrolled": true
   },
   "outputs": [
    {
     "name": "stdout",
     "output_type": "stream",
     "text": [
      "Cреднее расстояние, которое проезжают пользователи: 3070.7 метров\n",
      "Cреднее время поездки: 17.8 минут\n"
     ]
    }
   ],
   "source": [
    "#найдем среднее расстояние, которое проезжают пользователи, и среднее врем поездки\n",
    "print('Cреднее расстояние, которое проезжают пользователи:', round(rides['distance'].mean(), 1), 'метров')\n",
    "print('Cреднее время поездки:', round(rides['duration'].mean(), 1), 'минут')"
   ]
  },
  {
   "cell_type": "code",
   "execution_count": 29,
   "id": "b37b0c55",
   "metadata": {},
   "outputs": [
    {
     "name": "stdout",
     "output_type": "stream",
     "text": [
      "Средняя скорость самоката:  10.3 км/ч\n"
     ]
    }
   ],
   "source": [
    "#а с какой средней скоростью ездят самокаты?\n",
    "print('Средняя скорость самоката: ', round((rides['distance'].mean() / rides['duration'].mean()) /16.667, 1), 'км/ч')"
   ]
  },
  {
   "cell_type": "code",
   "execution_count": 30,
   "id": "bec36d61",
   "metadata": {},
   "outputs": [
    {
     "data": {
      "image/png": "[encoded data removed]",
      "text/plain": [
       "<Figure size 432x288 with 1 Axes>"
      ]
     },
     "metadata": {
      "needs_background": "light"
     },
     "output_type": "display_data"
    }
   ],
   "source": [
    "#посмотрим, как распреляются данные по расстоянию\n",
    "rides['distance'].plot(\n",
    "    kind='hist',\n",
    "    title='Расстояние за одну поездку',\n",
    "    color='mediumpurple',\n",
    "    bins=100,\n",
    "    alpha=0.5\n",
    ")\n",
    "plt.xlabel('Расстояние, м')\n",
    "plt.ylabel('Количество поездок');"
   ]
  },
  {
   "cell_type": "markdown",
   "id": "681b2e1c",
   "metadata": {},
   "source": [
    "Распределение было бы похоже на нормальное, если исключить всплеск около 0. \n",
    "Предположительно, поездки с около нулевым временем связаны со знакомством пользователей с самокатом. Посмотрим, сколько поездок  в выборке до 100 метров.\n"
   ]
  },
  {
   "cell_type": "code",
   "execution_count": 31,
   "id": "cb174d1c",
   "metadata": {},
   "outputs": [
    {
     "data": {
      "text/plain": [
       "78"
      ]
     },
     "execution_count": 31,
     "metadata": {},
     "output_type": "execute_result"
    }
   ],
   "source": [
    "rides[rides['distance'] < 100]['distance'].count()"
   ]
  },
  {
   "cell_type": "code",
   "execution_count": 32,
   "id": "02d6cbc7",
   "metadata": {
    "scrolled": true
   },
   "outputs": [
    {
     "data": {
      "text/html": [
       "<div>\n",
       "<style scoped>\n",
       "    .dataframe tbody tr th:only-of-type {\n",
       "        vertical-align: middle;\n",
       "    }\n",
       "\n",
       "    .dataframe tbody tr th {\n",
       "        vertical-align: top;\n",
       "    }\n",
       "\n",
       "    .dataframe thead th {\n",
       "        text-align: right;\n",
       "    }\n",
       "</style>\n",
       "<table border=\"1\" class=\"dataframe\">\n",
       "  <thead>\n",
       "    <tr style=\"text-align: right;\">\n",
       "      <th></th>\n",
       "      <th>user_id</th>\n",
       "      <th>distance</th>\n",
       "      <th>duration</th>\n",
       "      <th>date</th>\n",
       "      <th>month</th>\n",
       "    </tr>\n",
       "  </thead>\n",
       "  <tbody>\n",
       "    <tr>\n",
       "      <th>6611</th>\n",
       "      <td>707</td>\n",
       "      <td>28.793204</td>\n",
       "      <td>14.143966</td>\n",
       "      <td>2021-09-12</td>\n",
       "      <td>9</td>\n",
       "    </tr>\n",
       "    <tr>\n",
       "      <th>6691</th>\n",
       "      <td>712</td>\n",
       "      <td>23.963062</td>\n",
       "      <td>2.053251</td>\n",
       "      <td>2021-11-22</td>\n",
       "      <td>11</td>\n",
       "    </tr>\n",
       "    <tr>\n",
       "      <th>6816</th>\n",
       "      <td>721</td>\n",
       "      <td>62.568138</td>\n",
       "      <td>7.178766</td>\n",
       "      <td>2021-09-25</td>\n",
       "      <td>9</td>\n",
       "    </tr>\n",
       "    <tr>\n",
       "      <th>6850</th>\n",
       "      <td>724</td>\n",
       "      <td>30.473763</td>\n",
       "      <td>3.166221</td>\n",
       "      <td>2021-05-09</td>\n",
       "      <td>5</td>\n",
       "    </tr>\n",
       "    <tr>\n",
       "      <th>7367</th>\n",
       "      <td>760</td>\n",
       "      <td>54.724068</td>\n",
       "      <td>8.164172</td>\n",
       "      <td>2021-10-13</td>\n",
       "      <td>10</td>\n",
       "    </tr>\n",
       "    <tr>\n",
       "      <th>7389</th>\n",
       "      <td>762</td>\n",
       "      <td>35.061903</td>\n",
       "      <td>7.087655</td>\n",
       "      <td>2021-05-27</td>\n",
       "      <td>5</td>\n",
       "    </tr>\n",
       "    <tr>\n",
       "      <th>7595</th>\n",
       "      <td>779</td>\n",
       "      <td>83.977452</td>\n",
       "      <td>3.419887</td>\n",
       "      <td>2021-09-10</td>\n",
       "      <td>9</td>\n",
       "    </tr>\n",
       "    <tr>\n",
       "      <th>7841</th>\n",
       "      <td>796</td>\n",
       "      <td>7.097072</td>\n",
       "      <td>10.026614</td>\n",
       "      <td>2021-11-26</td>\n",
       "      <td>11</td>\n",
       "    </tr>\n",
       "    <tr>\n",
       "      <th>8324</th>\n",
       "      <td>835</td>\n",
       "      <td>12.233115</td>\n",
       "      <td>4.034952</td>\n",
       "      <td>2021-09-19</td>\n",
       "      <td>9</td>\n",
       "    </tr>\n",
       "    <tr>\n",
       "      <th>8658</th>\n",
       "      <td>861</td>\n",
       "      <td>6.784447</td>\n",
       "      <td>6.015656</td>\n",
       "      <td>2021-07-21</td>\n",
       "      <td>7</td>\n",
       "    </tr>\n",
       "    <tr>\n",
       "      <th>8723</th>\n",
       "      <td>867</td>\n",
       "      <td>85.713205</td>\n",
       "      <td>12.205712</td>\n",
       "      <td>2021-04-01</td>\n",
       "      <td>4</td>\n",
       "    </tr>\n",
       "    <tr>\n",
       "      <th>8906</th>\n",
       "      <td>880</td>\n",
       "      <td>11.283615</td>\n",
       "      <td>2.035632</td>\n",
       "      <td>2021-03-28</td>\n",
       "      <td>3</td>\n",
       "    </tr>\n",
       "    <tr>\n",
       "      <th>9044</th>\n",
       "      <td>890</td>\n",
       "      <td>98.121573</td>\n",
       "      <td>10.210261</td>\n",
       "      <td>2021-08-12</td>\n",
       "      <td>8</td>\n",
       "    </tr>\n",
       "    <tr>\n",
       "      <th>9128</th>\n",
       "      <td>896</td>\n",
       "      <td>31.803410</td>\n",
       "      <td>8.079509</td>\n",
       "      <td>2021-03-16</td>\n",
       "      <td>3</td>\n",
       "    </tr>\n",
       "    <tr>\n",
       "      <th>9318</th>\n",
       "      <td>909</td>\n",
       "      <td>69.328135</td>\n",
       "      <td>8.148560</td>\n",
       "      <td>2021-12-14</td>\n",
       "      <td>12</td>\n",
       "    </tr>\n",
       "  </tbody>\n",
       "</table>\n",
       "</div>"
      ],
      "text/plain": [
       "      user_id   distance   duration       date  month\n",
       "6611      707  28.793204  14.143966 2021-09-12      9\n",
       "6691      712  23.963062   2.053251 2021-11-22     11\n",
       "6816      721  62.568138   7.178766 2021-09-25      9\n",
       "6850      724  30.473763   3.166221 2021-05-09      5\n",
       "7367      760  54.724068   8.164172 2021-10-13     10\n",
       "7389      762  35.061903   7.087655 2021-05-27      5\n",
       "7595      779  83.977452   3.419887 2021-09-10      9\n",
       "7841      796   7.097072  10.026614 2021-11-26     11\n",
       "8324      835  12.233115   4.034952 2021-09-19      9\n",
       "8658      861   6.784447   6.015656 2021-07-21      7\n",
       "8723      867  85.713205  12.205712 2021-04-01      4\n",
       "8906      880  11.283615   2.035632 2021-03-28      3\n",
       "9044      890  98.121573  10.210261 2021-08-12      8\n",
       "9128      896  31.803410   8.079509 2021-03-16      3\n",
       "9318      909  69.328135   8.148560 2021-12-14     12"
      ]
     },
     "execution_count": 32,
     "metadata": {},
     "output_type": "execute_result"
    }
   ],
   "source": [
    "#выведем первые 15 строк из этих 78 - что внутри?\n",
    "rides[rides['distance'] < 100].head(15)"
   ]
  },
  {
   "cell_type": "markdown",
   "id": "eae1c75c",
   "metadata": {},
   "source": [
    "Данные похожи на нормальные, без ошибки в сборе статистике. Пользователи разные, как и даты. \\\n",
    "Оставляем гипотезу о том, что это \"знакомство\" с самокатом - короткие поездки с небольшим временем."
   ]
  },
  {
   "cell_type": "code",
   "execution_count": 33,
   "id": "d8009247",
   "metadata": {
    "scrolled": true
   },
   "outputs": [
    {
     "data": {
      "image/png": "[encoded data removed]",
      "text/plain": [
       "<Figure size 432x288 with 1 Axes>"
      ]
     },
     "metadata": {
      "needs_background": "light"
     },
     "output_type": "display_data"
    }
   ],
   "source": [
    "#посмотрим, как распреляются данные по времени поездки\n",
    "rides['duration'].plot(\n",
    "    kind='hist',\n",
    "    title='Время поездки, мин',\n",
    "    color='wheat',\n",
    "    bins=100\n",
    ")\n",
    "plt.xlabel('Время, мин')\n",
    "plt.ylabel('Количество поездок');"
   ]
  },
  {
   "cell_type": "code",
   "execution_count": 34,
   "id": "011ce7cb",
   "metadata": {},
   "outputs": [
    {
     "data": {
      "text/plain": [
       "95"
      ]
     },
     "execution_count": 34,
     "metadata": {},
     "output_type": "execute_result"
    }
   ],
   "source": [
    "#проверим, сколько поездок меньше минуты \n",
    "rides[rides['duration'] < 1]['duration'].count()"
   ]
  },
  {
   "cell_type": "code",
   "execution_count": 35,
   "id": "be058ca7",
   "metadata": {},
   "outputs": [],
   "source": [
    "for t in rides[rides['duration'] == 0.5]:\n",
    "    rides[rides['duration'] == 0.5] = rides['duration'].median()"
   ]
  },
  {
   "cell_type": "markdown",
   "id": "9a6f7395",
   "metadata": {},
   "source": [
    "Вот и причина пика около нуля - 95 поездок заполнены странным временем - 0,5, при разном расстоянии.\n",
    "Такие данные вряд ли могут встретиться в действительности. Проехать 4-5 км за 0,5 мин невозмоно, если на самокате нет кустарной реактивной тяги. При расчете стоимости такие данные будут мешать, приравнивая стоимость поездки в несколько км к стоимости всего одной минуты и занижая общий результат. Доля таких данных составляет 0.5% от всех поездок, заменим эти значения медианой по времени поездки."
   ]
  },
  {
   "cell_type": "markdown",
   "id": "9dde9a03",
   "metadata": {},
   "source": [
    "Выводы:\n",
    "1. Больше всего в выборке пользоователей в Пятигорске, меньше всего - в Москве;\n",
    "2. Самые молодые пользователи сервиса живут в Ростове-на-Дону, а самые взрослые - в Омске;\n",
    "3. Средний возраст пользователей - 24,9 лет;\n",
    "4. В среднем 45,6% пользователей имеют подписку;\n",
    "5. Cреднее расстояние, которое проезжают пользователи: 3 км;\n",
    "6. Cреднее время поездки: 18 минут.\n",
    "\n",
    "В данных мы заменили значения времени поездки 0,5 мин на медиану времени, т.к. предположительно, есть ошибка в сборе данных (расстояние больше 4 км нельзя проехать за 0,5 мин). "
   ]
  },
  {
   "cell_type": "markdown",
   "id": "4ef51331",
   "metadata": {},
   "source": [
    "#### Шаг 4. Объединение данных"
   ]
  },
  {
   "cell_type": "code",
   "execution_count": 36,
   "id": "6bf288b5",
   "metadata": {},
   "outputs": [],
   "source": [
    "#постепенно объединяем таблицы. Начнем с поездок ис пользователей\n",
    "table = rides.merge(users, on='user_id', how='left')"
   ]
  },
  {
   "cell_type": "code",
   "execution_count": 37,
   "id": "43fdff5f",
   "metadata": {},
   "outputs": [],
   "source": [
    "#добавим информацию о стоимости поездок по подписке\n",
    "data = table.merge(subscriptions, on='subscription_type', how='left')"
   ]
  },
  {
   "cell_type": "code",
   "execution_count": 38,
   "id": "d0d5ee27",
   "metadata": {},
   "outputs": [
    {
     "data": {
      "text/plain": [
       "(18068, 13)"
      ]
     },
     "execution_count": 38,
     "metadata": {},
     "output_type": "execute_result"
    }
   ],
   "source": [
    "data.shape"
   ]
  },
  {
   "cell_type": "code",
   "execution_count": 39,
   "id": "c4c659f6",
   "metadata": {},
   "outputs": [
    {
     "data": {
      "text/html": [
       "<div>\n",
       "<style scoped>\n",
       "    .dataframe tbody tr th:only-of-type {\n",
       "        vertical-align: middle;\n",
       "    }\n",
       "\n",
       "    .dataframe tbody tr th {\n",
       "        vertical-align: top;\n",
       "    }\n",
       "\n",
       "    .dataframe thead th {\n",
       "        text-align: right;\n",
       "    }\n",
       "</style>\n",
       "<table border=\"1\" class=\"dataframe\">\n",
       "  <thead>\n",
       "    <tr style=\"text-align: right;\">\n",
       "      <th></th>\n",
       "      <th>user_id</th>\n",
       "      <th>distance</th>\n",
       "      <th>duration</th>\n",
       "      <th>date</th>\n",
       "      <th>month</th>\n",
       "      <th>index</th>\n",
       "      <th>name</th>\n",
       "      <th>age</th>\n",
       "      <th>city</th>\n",
       "      <th>subscription_type</th>\n",
       "      <th>minute_price</th>\n",
       "      <th>start_ride_price</th>\n",
       "      <th>subscription_fee</th>\n",
       "    </tr>\n",
       "  </thead>\n",
       "  <tbody>\n",
       "    <tr>\n",
       "      <th>0</th>\n",
       "      <td>1.0</td>\n",
       "      <td>4409.919140</td>\n",
       "      <td>25.599769</td>\n",
       "      <td>2021-01-01 00:00:00</td>\n",
       "      <td>1.0</td>\n",
       "      <td>0.0</td>\n",
       "      <td>Кира</td>\n",
       "      <td>22.0</td>\n",
       "      <td>Тюмень</td>\n",
       "      <td>ultra</td>\n",
       "      <td>6.0</td>\n",
       "      <td>0.0</td>\n",
       "      <td>199.0</td>\n",
       "    </tr>\n",
       "    <tr>\n",
       "      <th>1</th>\n",
       "      <td>1.0</td>\n",
       "      <td>2617.592153</td>\n",
       "      <td>15.816871</td>\n",
       "      <td>2021-01-18 00:00:00</td>\n",
       "      <td>1.0</td>\n",
       "      <td>0.0</td>\n",
       "      <td>Кира</td>\n",
       "      <td>22.0</td>\n",
       "      <td>Тюмень</td>\n",
       "      <td>ultra</td>\n",
       "      <td>6.0</td>\n",
       "      <td>0.0</td>\n",
       "      <td>199.0</td>\n",
       "    </tr>\n",
       "    <tr>\n",
       "      <th>2</th>\n",
       "      <td>1.0</td>\n",
       "      <td>754.159807</td>\n",
       "      <td>6.232113</td>\n",
       "      <td>2021-04-20 00:00:00</td>\n",
       "      <td>4.0</td>\n",
       "      <td>0.0</td>\n",
       "      <td>Кира</td>\n",
       "      <td>22.0</td>\n",
       "      <td>Тюмень</td>\n",
       "      <td>ultra</td>\n",
       "      <td>6.0</td>\n",
       "      <td>0.0</td>\n",
       "      <td>199.0</td>\n",
       "    </tr>\n",
       "    <tr>\n",
       "      <th>3</th>\n",
       "      <td>1.0</td>\n",
       "      <td>2694.783254</td>\n",
       "      <td>18.511000</td>\n",
       "      <td>2021-08-11 00:00:00</td>\n",
       "      <td>8.0</td>\n",
       "      <td>0.0</td>\n",
       "      <td>Кира</td>\n",
       "      <td>22.0</td>\n",
       "      <td>Тюмень</td>\n",
       "      <td>ultra</td>\n",
       "      <td>6.0</td>\n",
       "      <td>0.0</td>\n",
       "      <td>199.0</td>\n",
       "    </tr>\n",
       "    <tr>\n",
       "      <th>4</th>\n",
       "      <td>1.0</td>\n",
       "      <td>4028.687306</td>\n",
       "      <td>26.265803</td>\n",
       "      <td>2021-08-28 00:00:00</td>\n",
       "      <td>8.0</td>\n",
       "      <td>0.0</td>\n",
       "      <td>Кира</td>\n",
       "      <td>22.0</td>\n",
       "      <td>Тюмень</td>\n",
       "      <td>ultra</td>\n",
       "      <td>6.0</td>\n",
       "      <td>0.0</td>\n",
       "      <td>199.0</td>\n",
       "    </tr>\n",
       "  </tbody>\n",
       "</table>\n",
       "</div>"
      ],
      "text/plain": [
       "   user_id     distance   duration                 date  month  index  name  \\\n",
       "0      1.0  4409.919140  25.599769  2021-01-01 00:00:00    1.0    0.0  Кира   \n",
       "1      1.0  2617.592153  15.816871  2021-01-18 00:00:00    1.0    0.0  Кира   \n",
       "2      1.0   754.159807   6.232113  2021-04-20 00:00:00    4.0    0.0  Кира   \n",
       "3      1.0  2694.783254  18.511000  2021-08-11 00:00:00    8.0    0.0  Кира   \n",
       "4      1.0  4028.687306  26.265803  2021-08-28 00:00:00    8.0    0.0  Кира   \n",
       "\n",
       "    age    city subscription_type  minute_price  start_ride_price  \\\n",
       "0  22.0  Тюмень             ultra           6.0               0.0   \n",
       "1  22.0  Тюмень             ultra           6.0               0.0   \n",
       "2  22.0  Тюмень             ultra           6.0               0.0   \n",
       "3  22.0  Тюмень             ultra           6.0               0.0   \n",
       "4  22.0  Тюмень             ultra           6.0               0.0   \n",
       "\n",
       "   subscription_fee  \n",
       "0             199.0  \n",
       "1             199.0  \n",
       "2             199.0  \n",
       "3             199.0  \n",
       "4             199.0  "
      ]
     },
     "execution_count": 39,
     "metadata": {},
     "output_type": "execute_result"
    }
   ],
   "source": [
    "#Посмотрим, что получилось\n",
    "data.head()"
   ]
  },
  {
   "cell_type": "code",
   "execution_count": 40,
   "id": "388304d4",
   "metadata": {},
   "outputs": [
    {
     "data": {
      "text/plain": [
       "(11473, 13)"
      ]
     },
     "execution_count": 40,
     "metadata": {},
     "output_type": "execute_result"
    }
   ],
   "source": [
    "#создадим датафрейм с данными о пользователях без подписки \n",
    "data_free = data[data['subscription_type'] == 'free']\n",
    "data_free.shape"
   ]
  },
  {
   "cell_type": "code",
   "execution_count": 41,
   "id": "8b6e30e0",
   "metadata": {},
   "outputs": [
    {
     "data": {
      "text/plain": [
       "(6500, 13)"
      ]
     },
     "execution_count": 41,
     "metadata": {},
     "output_type": "execute_result"
    }
   ],
   "source": [
    "#создадим датафрейм с данными о пользователях с подпиской \n",
    "data_ultra = data[data['subscription_type'] == 'ultra']\n",
    "data_ultra.shape"
   ]
  },
  {
   "cell_type": "code",
   "execution_count": 42,
   "id": "b780dfd3",
   "metadata": {},
   "outputs": [
    {
     "data": {
      "image/png": "[encoded data removed]",
      "text/plain": [
       "<Figure size 432x288 with 1 Axes>"
      ]
     },
     "metadata": {
      "needs_background": "light"
     },
     "output_type": "display_data"
    },
    {
     "name": "stdout",
     "output_type": "stream",
     "text": [
      "Cреднее время поездки пользователей без подписки: 17.5 минут\n"
     ]
    },
    {
     "data": {
      "image/png": "[encoded data removed]",
      "text/plain": [
       "<Figure size 432x288 with 1 Axes>"
      ]
     },
     "metadata": {
      "needs_background": "light"
     },
     "output_type": "display_data"
    },
    {
     "name": "stdout",
     "output_type": "stream",
     "text": [
      "Cреднее расстояние, которое проезжают пользователи без подписки: 3028.4 метров\n"
     ]
    }
   ],
   "source": [
    "#посмотрим на время и расстояние поездок для пользователей без подписок \n",
    "\n",
    "#время \n",
    "data_free['duration'].plot(\n",
    "    kind='hist',\n",
    "    title='Время одной поездки пользователей без подписки, мин',\n",
    "    color='wheat',\n",
    "    bins=100\n",
    ")\n",
    "plt.show()\n",
    "\n",
    "print('Cреднее время поездки пользователей без подписки:', round(data_free['duration'].mean(), 1), 'минут')\n",
    "\n",
    "#расстояние\n",
    "data_free['distance'].plot(\n",
    "    kind='hist',\n",
    "    title='Расстояние за одну поездку пользователей без подписки',\n",
    "    color='lightseagreen',\n",
    "    bins=100,\n",
    "    alpha=0.5\n",
    ")\n",
    "plt.show()\n",
    "print('Cреднее расстояние, которое проезжают пользователи без подписки:', round(data_free['distance'].mean(), 1), 'метров')"
   ]
  },
  {
   "cell_type": "code",
   "execution_count": 43,
   "id": "8a8f607a",
   "metadata": {},
   "outputs": [
    {
     "name": "stdout",
     "output_type": "stream",
     "text": [
      "Доля коротких поездок (до 1 км) для пользователей без подписки составляет  9.7 % от всех поездок\n"
     ]
    }
   ],
   "source": [
    "print('Доля коротких поездок (до 1 км) для пользователей без подписки составляет ', \n",
    "      round(data_free[data_free['distance'] < 1000]['distance'].count() / data_free.shape[0] * 100, 1), '% от всех поездок')"
   ]
  },
  {
   "cell_type": "code",
   "execution_count": 44,
   "id": "6ce10927",
   "metadata": {},
   "outputs": [
    {
     "data": {
      "image/png": "[encoded data removed]",
      "text/plain": [
       "<Figure size 432x288 with 1 Axes>"
      ]
     },
     "metadata": {
      "needs_background": "light"
     },
     "output_type": "display_data"
    },
    {
     "name": "stdout",
     "output_type": "stream",
     "text": [
      "Cреднее время поездки пользователей с подпиской: 18.5 минут\n"
     ]
    },
    {
     "data": {
      "image/png": "[encoded data removed]",
      "text/plain": [
       "<Figure size 432x288 with 1 Axes>"
      ]
     },
     "metadata": {
      "needs_background": "light"
     },
     "output_type": "display_data"
    },
    {
     "name": "stdout",
     "output_type": "stream",
     "text": [
      "Cреднее расстояние, которое проезжают пользователи с подпиской: 3115.4 метров\n"
     ]
    }
   ],
   "source": [
    "#посмотрим на время и расстояние поездок для пользователей с подпиской\n",
    "\n",
    "#время \n",
    "data_ultra['duration'].plot(\n",
    "    kind='hist',\n",
    "    title='Время одной поездки пользователей с подпиской, мин',\n",
    "    color='wheat',\n",
    "    bins=100\n",
    ")\n",
    "plt.show()\n",
    "\n",
    "print('Cреднее время поездки пользователей с подпиской:', round(data_ultra['duration'].mean(), 1), 'минут')\n",
    "\n",
    "#расстояние\n",
    "data_ultra['distance'].plot(\n",
    "    kind='hist',\n",
    "    title='Расстояние за одну поездку пользователи с подпиской',\n",
    "    color='lightseagreen',\n",
    "    bins=100,\n",
    "    alpha=0.5\n",
    ")\n",
    "plt.show()\n",
    "print('Cреднее расстояние, которое проезжают пользователи с подпиской:', round(data_ultra['distance'].mean(), 1), 'метров')"
   ]
  },
  {
   "cell_type": "code",
   "execution_count": 45,
   "id": "d97c8378",
   "metadata": {},
   "outputs": [
    {
     "data": {
      "image/png": "[encoded data removed]",
      "text/plain": [
       "<Figure size 432x288 with 1 Axes>"
      ]
     },
     "metadata": {
      "needs_background": "light"
     },
     "output_type": "display_data"
    }
   ],
   "source": [
    "#совместим графики для наглядности \n",
    "#Сначала по времени поездки\n",
    "ax = data_free.plot(\n",
    "    kind='hist',\n",
    "    y='duration',\n",
    "    histtype='step',\n",
    "    bins=50,\n",
    "    linewidth=5,\n",
    "    alpha=0.7,\n",
    "    label='free',\n",
    ")\n",
    "data_ultra.plot(\n",
    "    kind='hist',\n",
    "    y='duration',\n",
    "    histtype='step',\n",
    "    bins=50,\n",
    "    linewidth=5,\n",
    "    alpha=0.7,\n",
    "    label='ultra',\n",
    "    ax=ax,\n",
    "    grid=True,\n",
    "    legend=True,\n",
    ")\n",
    "plt.ylabel('Количество пользователей')\n",
    "plt.xlabel('Время поездки, мин')\n",
    "plt.title('Время одной поездки пользователей с подпиской и без');"
   ]
  },
  {
   "cell_type": "code",
   "execution_count": 46,
   "id": "510484f2",
   "metadata": {},
   "outputs": [
    {
     "data": {
      "image/png": "[encoded data removed]",
      "text/plain": [
       "<Figure size 432x288 with 1 Axes>"
      ]
     },
     "metadata": {
      "needs_background": "light"
     },
     "output_type": "display_data"
    }
   ],
   "source": [
    "#затем по расстоянию\n",
    "ax = data_free.plot(\n",
    "    kind='hist',\n",
    "    y='distance',\n",
    "    histtype='step',\n",
    "    bins=50,\n",
    "    linewidth=5,\n",
    "    alpha=0.7,\n",
    "    label='free',\n",
    ")\n",
    "data_ultra.plot(\n",
    "    kind='hist',\n",
    "    y='distance',\n",
    "    histtype='step',\n",
    "    bins=50,\n",
    "    linewidth=5,\n",
    "    alpha=0.7,\n",
    "    label='ultra',\n",
    "    ax=ax,\n",
    "    grid=True,\n",
    "    legend=True,\n",
    ")\n",
    "plt.ylabel('Количество пользователей')\n",
    "plt.xlabel('Расстояние, м')\n",
    "plt.title('Расстояние одной поездки пользователей с подпиской и без');"
   ]
  },
  {
   "cell_type": "code",
   "execution_count": 47,
   "id": "b8d5aefc",
   "metadata": {},
   "outputs": [
    {
     "name": "stdout",
     "output_type": "stream",
     "text": [
      "Доля коротких поездок (до 1 км) для пользователей с подпиской составляет  4.0 % от всех поездок\n"
     ]
    }
   ],
   "source": [
    "print('Доля коротких поездок (до 1 км) для пользователей с подпиской составляет ', \n",
    "      round(data_ultra[data_ultra['distance'] < 1000]['distance'].count() / data_ultra.shape[0] * 100, 1), '% от всех поездок')"
   ]
  },
  {
   "cell_type": "code",
   "execution_count": 48,
   "id": "11d7d47a",
   "metadata": {},
   "outputs": [
    {
     "name": "stdout",
     "output_type": "stream",
     "text": [
      "Доля долгих поездок (больше 35 миин) для пользователей с подпиской составляет  0.4 % от всех поездок\n"
     ]
    }
   ],
   "source": [
    "print('Доля долгих поездок (больше 35 миин) для пользователей с подпиской составляет ', \n",
    "      round(data_ultra[data_ultra['duration'] > 35]['duration'].count() / data_ultra.shape[0] * 100, 1), '% от всех поездок')"
   ]
  },
  {
   "cell_type": "markdown",
   "id": "7c38dc2e",
   "metadata": {},
   "source": [
    "Вывод: \n",
    "1. Пользователи с подпиской ездят дольше по времени и дальше по расстоянию, чем пользователи без подписки;\n",
    "2. Доля \"коротких\" поездок (до 1 км) у пользователей без подписок больше, чем в два раза, превышает долю коротких поездок пользователей с подпиской;\n",
    "3. Пользователи без подписок не ездят на самокате дольше 35 минут, в отичие от пользователей с подписками (хотя доля таких поездок тоже невелика - всего 0.4%)"
   ]
  },
  {
   "cell_type": "markdown",
   "id": "402d620f",
   "metadata": {},
   "source": [
    "#### Шаг 5. Подсчёт выручки"
   ]
  },
  {
   "cell_type": "markdown",
   "id": "f1be7a61",
   "metadata": {},
   "source": [
    "Найдем для каждого пользователя за каждый месяц\n",
    "* суммарное расстояние;\n",
    "* количество поездок;\n",
    "* суммарное время;\n",
    "* помесячную выручку."
   ]
  },
  {
   "cell_type": "code",
   "execution_count": 49,
   "id": "73e40941",
   "metadata": {},
   "outputs": [],
   "source": [
    "#добавим расчетный столбец для подсчета количества поездок\n",
    "data['for_count'] = 1"
   ]
  },
  {
   "cell_type": "code",
   "execution_count": 50,
   "id": "de9cdde1",
   "metadata": {},
   "outputs": [],
   "source": [
    "#округлим время поездки до целого\n",
    "data['duration'] = np.ceil(data['duration']) "
   ]
  },
  {
   "cell_type": "code",
   "execution_count": 51,
   "id": "53049e0a",
   "metadata": {},
   "outputs": [
    {
     "data": {
      "text/html": [
       "<div>\n",
       "<style scoped>\n",
       "    .dataframe tbody tr th:only-of-type {\n",
       "        vertical-align: middle;\n",
       "    }\n",
       "\n",
       "    .dataframe tbody tr th {\n",
       "        vertical-align: top;\n",
       "    }\n",
       "\n",
       "    .dataframe thead th {\n",
       "        text-align: right;\n",
       "    }\n",
       "</style>\n",
       "<table border=\"1\" class=\"dataframe\">\n",
       "  <thead>\n",
       "    <tr style=\"text-align: right;\">\n",
       "      <th></th>\n",
       "      <th></th>\n",
       "      <th>distance</th>\n",
       "      <th>duration</th>\n",
       "      <th>for_count</th>\n",
       "      <th>minute_price</th>\n",
       "      <th>start_ride_price</th>\n",
       "      <th>subscription_fee</th>\n",
       "      <th>subscription_type</th>\n",
       "      <th>revenue</th>\n",
       "    </tr>\n",
       "    <tr>\n",
       "      <th>user_id</th>\n",
       "      <th>month</th>\n",
       "      <th></th>\n",
       "      <th></th>\n",
       "      <th></th>\n",
       "      <th></th>\n",
       "      <th></th>\n",
       "      <th></th>\n",
       "      <th></th>\n",
       "      <th></th>\n",
       "    </tr>\n",
       "  </thead>\n",
       "  <tbody>\n",
       "    <tr>\n",
       "      <th rowspan=\"6\" valign=\"top\">1.0</th>\n",
       "      <th>1.0</th>\n",
       "      <td>7027.511294</td>\n",
       "      <td>42.0</td>\n",
       "      <td>2</td>\n",
       "      <td>6.0</td>\n",
       "      <td>0.0</td>\n",
       "      <td>199.0</td>\n",
       "      <td>ultra</td>\n",
       "      <td>451.0</td>\n",
       "    </tr>\n",
       "    <tr>\n",
       "      <th>4.0</th>\n",
       "      <td>754.159807</td>\n",
       "      <td>7.0</td>\n",
       "      <td>1</td>\n",
       "      <td>6.0</td>\n",
       "      <td>0.0</td>\n",
       "      <td>199.0</td>\n",
       "      <td>ultra</td>\n",
       "      <td>241.0</td>\n",
       "    </tr>\n",
       "    <tr>\n",
       "      <th>8.0</th>\n",
       "      <td>6723.470560</td>\n",
       "      <td>46.0</td>\n",
       "      <td>2</td>\n",
       "      <td>6.0</td>\n",
       "      <td>0.0</td>\n",
       "      <td>199.0</td>\n",
       "      <td>ultra</td>\n",
       "      <td>475.0</td>\n",
       "    </tr>\n",
       "    <tr>\n",
       "      <th>10.0</th>\n",
       "      <td>5809.911100</td>\n",
       "      <td>32.0</td>\n",
       "      <td>2</td>\n",
       "      <td>6.0</td>\n",
       "      <td>0.0</td>\n",
       "      <td>199.0</td>\n",
       "      <td>ultra</td>\n",
       "      <td>391.0</td>\n",
       "    </tr>\n",
       "    <tr>\n",
       "      <th>11.0</th>\n",
       "      <td>7003.499363</td>\n",
       "      <td>56.0</td>\n",
       "      <td>3</td>\n",
       "      <td>6.0</td>\n",
       "      <td>0.0</td>\n",
       "      <td>199.0</td>\n",
       "      <td>ultra</td>\n",
       "      <td>535.0</td>\n",
       "    </tr>\n",
       "    <tr>\n",
       "      <th>12.0</th>\n",
       "      <td>6751.629942</td>\n",
       "      <td>28.0</td>\n",
       "      <td>2</td>\n",
       "      <td>6.0</td>\n",
       "      <td>0.0</td>\n",
       "      <td>199.0</td>\n",
       "      <td>ultra</td>\n",
       "      <td>367.0</td>\n",
       "    </tr>\n",
       "    <tr>\n",
       "      <th rowspan=\"4\" valign=\"top\">2.0</th>\n",
       "      <th>3.0</th>\n",
       "      <td>10187.723006</td>\n",
       "      <td>63.0</td>\n",
       "      <td>3</td>\n",
       "      <td>6.0</td>\n",
       "      <td>0.0</td>\n",
       "      <td>199.0</td>\n",
       "      <td>ultra</td>\n",
       "      <td>577.0</td>\n",
       "    </tr>\n",
       "    <tr>\n",
       "      <th>4.0</th>\n",
       "      <td>6164.381824</td>\n",
       "      <td>40.0</td>\n",
       "      <td>2</td>\n",
       "      <td>6.0</td>\n",
       "      <td>0.0</td>\n",
       "      <td>199.0</td>\n",
       "      <td>ultra</td>\n",
       "      <td>439.0</td>\n",
       "    </tr>\n",
       "    <tr>\n",
       "      <th>6.0</th>\n",
       "      <td>3255.338202</td>\n",
       "      <td>14.0</td>\n",
       "      <td>1</td>\n",
       "      <td>6.0</td>\n",
       "      <td>0.0</td>\n",
       "      <td>199.0</td>\n",
       "      <td>ultra</td>\n",
       "      <td>283.0</td>\n",
       "    </tr>\n",
       "    <tr>\n",
       "      <th>7.0</th>\n",
       "      <td>6780.722964</td>\n",
       "      <td>48.0</td>\n",
       "      <td>2</td>\n",
       "      <td>6.0</td>\n",
       "      <td>0.0</td>\n",
       "      <td>199.0</td>\n",
       "      <td>ultra</td>\n",
       "      <td>487.0</td>\n",
       "    </tr>\n",
       "  </tbody>\n",
       "</table>\n",
       "</div>"
      ],
      "text/plain": [
       "                   distance  duration  for_count  minute_price  \\\n",
       "user_id month                                                    \n",
       "1.0     1.0     7027.511294      42.0          2           6.0   \n",
       "        4.0      754.159807       7.0          1           6.0   \n",
       "        8.0     6723.470560      46.0          2           6.0   \n",
       "        10.0    5809.911100      32.0          2           6.0   \n",
       "        11.0    7003.499363      56.0          3           6.0   \n",
       "        12.0    6751.629942      28.0          2           6.0   \n",
       "2.0     3.0    10187.723006      63.0          3           6.0   \n",
       "        4.0     6164.381824      40.0          2           6.0   \n",
       "        6.0     3255.338202      14.0          1           6.0   \n",
       "        7.0     6780.722964      48.0          2           6.0   \n",
       "\n",
       "               start_ride_price  subscription_fee subscription_type  revenue  \n",
       "user_id month                                                                 \n",
       "1.0     1.0                 0.0             199.0             ultra    451.0  \n",
       "        4.0                 0.0             199.0             ultra    241.0  \n",
       "        8.0                 0.0             199.0             ultra    475.0  \n",
       "        10.0                0.0             199.0             ultra    391.0  \n",
       "        11.0                0.0             199.0             ultra    535.0  \n",
       "        12.0                0.0             199.0             ultra    367.0  \n",
       "2.0     3.0                 0.0             199.0             ultra    577.0  \n",
       "        4.0                 0.0             199.0             ultra    439.0  \n",
       "        6.0                 0.0             199.0             ultra    283.0  \n",
       "        7.0                 0.0             199.0             ultra    487.0  "
      ]
     },
     "execution_count": 51,
     "metadata": {},
     "output_type": "execute_result"
    }
   ],
   "source": [
    "#создадим сводную таблицу \n",
    "data_gr = data.pivot_table(\n",
    "    index=['user_id', 'month'], \n",
    "    values=['subscription_type', 'distance', 'duration', 'for_count', 'minute_price', 'start_ride_price', 'subscription_fee'], \n",
    "    aggfunc={'subscription_type': 'first', 'distance': sum, 'duration': sum, 'for_count': sum, 'minute_price': 'first', 'start_ride_price': \"first\", 'subscription_fee': \"first\"} \n",
    ")\n",
    "\n",
    "\n",
    "#добавим столбец с расчетной выручкой\n",
    "data_gr['revenue'] = data_gr['duration']*data_gr['minute_price'] + data_gr['for_count']*data_gr['start_ride_price'] + data_gr['subscription_fee']\n",
    "\n",
    "data_gr.head(10)"
   ]
  },
  {
   "cell_type": "code",
   "execution_count": 52,
   "id": "b639369a",
   "metadata": {},
   "outputs": [
    {
     "data": {
      "text/plain": [
       "1444.0"
      ]
     },
     "execution_count": 52,
     "metadata": {},
     "output_type": "execute_result"
    }
   ],
   "source": [
    "#интересно, какую максимальную выручку принес пользователь?\n",
    "data_gr['revenue'].max()"
   ]
  },
  {
   "cell_type": "code",
   "execution_count": 53,
   "id": "f666ff93",
   "metadata": {
    "scrolled": true
   },
   "outputs": [
    {
     "data": {
      "text/html": [
       "<div>\n",
       "<style scoped>\n",
       "    .dataframe tbody tr th:only-of-type {\n",
       "        vertical-align: middle;\n",
       "    }\n",
       "\n",
       "    .dataframe tbody tr th {\n",
       "        vertical-align: top;\n",
       "    }\n",
       "\n",
       "    .dataframe thead th {\n",
       "        text-align: right;\n",
       "    }\n",
       "</style>\n",
       "<table border=\"1\" class=\"dataframe\">\n",
       "  <thead>\n",
       "    <tr style=\"text-align: right;\">\n",
       "      <th></th>\n",
       "      <th></th>\n",
       "      <th>distance</th>\n",
       "      <th>duration</th>\n",
       "      <th>for_count</th>\n",
       "      <th>minute_price</th>\n",
       "      <th>start_ride_price</th>\n",
       "      <th>subscription_fee</th>\n",
       "      <th>subscription_type</th>\n",
       "      <th>revenue</th>\n",
       "    </tr>\n",
       "    <tr>\n",
       "      <th>user_id</th>\n",
       "      <th>month</th>\n",
       "      <th></th>\n",
       "      <th></th>\n",
       "      <th></th>\n",
       "      <th></th>\n",
       "      <th></th>\n",
       "      <th></th>\n",
       "      <th></th>\n",
       "      <th></th>\n",
       "    </tr>\n",
       "  </thead>\n",
       "  <tbody>\n",
       "    <tr>\n",
       "      <th>1471.0</th>\n",
       "      <th>1.0</th>\n",
       "      <td>23098.193122</td>\n",
       "      <td>143.0</td>\n",
       "      <td>6</td>\n",
       "      <td>8.0</td>\n",
       "      <td>50.0</td>\n",
       "      <td>0.0</td>\n",
       "      <td>free</td>\n",
       "      <td>1444.0</td>\n",
       "    </tr>\n",
       "  </tbody>\n",
       "</table>\n",
       "</div>"
      ],
      "text/plain": [
       "                   distance  duration  for_count  minute_price  \\\n",
       "user_id month                                                    \n",
       "1471.0  1.0    23098.193122     143.0          6           8.0   \n",
       "\n",
       "               start_ride_price  subscription_fee subscription_type  revenue  \n",
       "user_id month                                                                 \n",
       "1471.0  1.0                50.0               0.0              free   1444.0  "
      ]
     },
     "execution_count": 53,
     "metadata": {},
     "output_type": "execute_result"
    }
   ],
   "source": [
    "#посмотрим на его поездки\n",
    "data_gr[data_gr['revenue'] == data_gr['revenue'].max()]"
   ]
  },
  {
   "cell_type": "markdown",
   "id": "ac5d0d27",
   "metadata": {},
   "source": [
    "Любопытно, что самую большую выручку принес пользователь без подписки, проехавший более 140 минут и более 23 км.\n",
    "Надо предложить ему подписку -  он бы сэкономил за этот месяц около 387 рублей. "
   ]
  },
  {
   "cell_type": "markdown",
   "id": "c8238c01",
   "metadata": {},
   "source": [
    "Мы посчитали выручку для каждого пользователя в зависимости от наличия подписки, его общее расстояние и время за каждый месяц."
   ]
  },
  {
   "cell_type": "markdown",
   "id": "41545ac0",
   "metadata": {},
   "source": [
    "#### Шаг 6. Проверка гипотез"
   ]
  },
  {
   "cell_type": "markdown",
   "id": "42cdf74f",
   "metadata": {},
   "source": [
    "1. Проверяем, тратят ли пользователи с подпиской больше времени на поездки"
   ]
  },
  {
   "cell_type": "code",
   "execution_count": 54,
   "id": "d9bc3072",
   "metadata": {
    "scrolled": true
   },
   "outputs": [
    {
     "name": "stdout",
     "output_type": "stream",
     "text": [
      "Среднее время одной поездки пользователей с подпиской - 19.0 минут\n",
      "Среднее время одной поездки пользователей без подписки - 18.0 минут\n"
     ]
    }
   ],
   "source": [
    "#найдем среднее время для каждого типа пользователей - с подпиской и без \n",
    "print('Среднее время одной поездки пользователей с подпиской -',\n",
    "    round(data[data['subscription_type'] == 'ultra']['duration'].sum() / data[data['subscription_type'] == 'ultra']['duration']\n",
    "    .count(),1),\n",
    "    'минут'\n",
    ")\n",
    "print('Среднее время одной поездки пользователей без подписки -',\n",
    "    round(data[data['subscription_type'] == 'free']['duration'].sum() / data[data['subscription_type'] == 'free']['duration']\n",
    "    .count(),1),\n",
    "    'минут'\n",
    ")"
   ]
  },
  {
   "cell_type": "code",
   "execution_count": 55,
   "id": "5435a3ce",
   "metadata": {},
   "outputs": [
    {
     "data": {
      "image/png": "[encoded data removed]",
      "text/plain": [
       "<Figure size 432x288 with 1 Axes>"
      ]
     },
     "metadata": {
      "needs_background": "light"
     },
     "output_type": "display_data"
    }
   ],
   "source": [
    "ax = data_ultra.plot(\n",
    "    kind='hist',\n",
    "    y='duration',\n",
    "    histtype='step',\n",
    "    range=(0, 40),\n",
    "    bins=20,\n",
    "    linewidth=5,\n",
    "    alpha=0.7,\n",
    "    label='ultra',\n",
    ")\n",
    "data_free.plot(\n",
    "    kind='hist',\n",
    "    y='duration',\n",
    "    histtype='step',\n",
    "    range=(0, 40),\n",
    "    bins=20,\n",
    "    linewidth=5,\n",
    "    alpha=0.7,\n",
    "    label='free',\n",
    "    ax=ax,\n",
    "    grid=True,\n",
    "    legend=True,\n",
    ")\n",
    "plt.ylabel('Количество пользователей')\n",
    "plt.title('Время одной поездки пользователей с подпиской и без');\n"
   ]
  },
  {
   "cell_type": "markdown",
   "id": "1b9e417e",
   "metadata": {},
   "source": [
    "На гарфике видно, что пользователи с подпиской и без примерно равномерно распределяются по времени поездки. \\\n",
    "При этом среднее время поездки у пользователей с подпиской все же  больше на минуту, чем пользователей без подписки."
   ]
  },
  {
   "cell_type": "markdown",
   "id": "2479f394",
   "metadata": {},
   "source": [
    "Проверим с помощью статистичекого теста эту гипотезу. \\\n",
    "Т.к. данные распределены нормально, судя по графикам, и совлкупности друг от друга не зависят, можем проверить гипотезу о равенстве среднего двух генеральных совокупностей по взятым из них выборкам. \\\n",
    "За нулевую гипотезу примем предположение, что среднее время поездки у пользователей с подпиской и без равны. \\\n",
    "Альтернативная - пользователи с подпиской тратят больше времени на поездки, чем без подписки. "
   ]
  },
  {
   "cell_type": "code",
   "execution_count": 56,
   "id": "4a1d54f2",
   "metadata": {},
   "outputs": [
    {
     "name": "stdout",
     "output_type": "stream",
     "text": [
      "p-значение: 8.577910347796266e-28\n",
      "Отвергаем нулевую гипотезу\n"
     ]
    }
   ],
   "source": [
    "#уровень статистической значимости возьмем за 5%\n",
    "alpha = 0.05 \n",
    "\n",
    "results = st.ttest_ind(data[data['subscription_type'] == 'ultra']['duration'], data[data['subscription_type'] == 'free']['duration'], alternative = 'greater')\n",
    "\n",
    "print('p-значение:', results.pvalue)\n",
    "\n",
    "if results.pvalue < alpha:\n",
    "    print('Отвергаем нулевую гипотезу')\n",
    "else:\n",
    "    print('Не получилось отвергнуть нулевую гипотезу') "
   ]
  },
  {
   "cell_type": "markdown",
   "id": "ce78d7a3",
   "metadata": {},
   "source": [
    "Т.о. делаем вывод: гипотезу о равенстве времени поездок пользователей с подпиской и без можем отвергнуть. "
   ]
  },
  {
   "cell_type": "markdown",
   "id": "62a6c82f",
   "metadata": {},
   "source": [
    "2. Проверяем, превышает ли среднее расстояние, которое проезжают пользователи с подпиской за одну поездку, 3130 метров."
   ]
  },
  {
   "cell_type": "code",
   "execution_count": 57,
   "id": "7ecc576b",
   "metadata": {},
   "outputs": [
    {
     "data": {
      "text/plain": [
       "0.5153846153846153"
      ]
     },
     "execution_count": 57,
     "metadata": {},
     "output_type": "execute_result"
    }
   ],
   "source": [
    "#посчитаем долю поездок дальше 3130 м\n",
    "data_ultra[data_ultra['distance'] > 3130]['distance'].count() / data_ultra['distance'].count()"
   ]
  },
  {
   "cell_type": "code",
   "execution_count": 58,
   "id": "c98cff98",
   "metadata": {},
   "outputs": [
    {
     "data": {
      "text/plain": [
       "0.49080449751590693"
      ]
     },
     "execution_count": 58,
     "metadata": {},
     "output_type": "execute_result"
    }
   ],
   "source": [
    "#посмотрим, как обстоят дела с дальними поездками у пользователей без подписок\n",
    "data_free[data_free['distance'] > 3130]['distance'].count() / data_free['distance'].count() "
   ]
  },
  {
   "cell_type": "code",
   "execution_count": 59,
   "id": "e7f50c95",
   "metadata": {},
   "outputs": [
    {
     "data": {
      "text/plain": [
       "0.49706663714854993"
      ]
     },
     "execution_count": 59,
     "metadata": {},
     "output_type": "execute_result"
    }
   ],
   "source": [
    "#какой средний процент дальних поездок для всех пользователей?\n",
    "data[data['distance'] > 3130]['distance'].count() / data['distance'].count() "
   ]
  },
  {
   "cell_type": "markdown",
   "id": "40ae8ff8",
   "metadata": {},
   "source": [
    "Почти половина поездок на самокатах превышает оптимальное расстояние с точки зрения износа в 3130 м:\n",
    "* пользователи с подписками чуть больше любят дальние поездки - их 51,5%;\n",
    "* пользователи без подписок ездят дальше 3130 м в 49,1% случаев."
   ]
  },
  {
   "cell_type": "markdown",
   "id": "d6137cb9",
   "metadata": {},
   "source": [
    "Эту гипотезу тоже можно проверить с помощью статистического теста. \\\n",
    "Поскольку менеджерам важно получить вероятность превышения среднего расстояния в 3130 метров, используем метод проверки односторонней гипотезы. \n",
    "\n",
    "Нулевая гипотеза будет сформулирована как: среднее расстояние, пройденное пользователем с подпиской, равно 3130 метров. \\\n",
    "Альтернаятивная: среднее расстояние, пройденное пользователем с подпиской, больше 3130 метров."
   ]
  },
  {
   "cell_type": "code",
   "execution_count": 60,
   "id": "64bd4aa1",
   "metadata": {},
   "outputs": [
    {
     "data": {
      "text/plain": [
       "0       4409.919140\n",
       "1       2617.592153\n",
       "2        754.159807\n",
       "3       2694.783254\n",
       "4       4028.687306\n",
       "           ...     \n",
       "6495    3973.046497\n",
       "6496    3288.702563\n",
       "6497    3076.159348\n",
       "6498    4707.845501\n",
       "6499    3202.890770\n",
       "Name: distance, Length: 6500, dtype: float64"
      ]
     },
     "execution_count": 60,
     "metadata": {},
     "output_type": "execute_result"
    }
   ],
   "source": [
    "data_ultra['distance']"
   ]
  },
  {
   "cell_type": "code",
   "execution_count": 61,
   "id": "0e73cb34",
   "metadata": {
    "scrolled": true
   },
   "outputs": [
    {
     "name": "stdout",
     "output_type": "stream",
     "text": [
      "p-значение: 0.9195368847849785\n",
      "Не отвергаем нулевую гипотезу\n"
     ]
    }
   ],
   "source": [
    "wear_dist = 3130\n",
    "\n",
    "alpha = 0.05 # уровень статистической значимости\n",
    "\n",
    "results = st.ttest_1samp(\n",
    "    data_ultra['distance'], \n",
    "    wear_dist,\n",
    "      alternative='greater')\n",
    "\n",
    "print('p-значение:', results.pvalue)\n",
    "\n",
    "if (results.pvalue < alpha):\n",
    "    print('Отвергаем нулевую гипотезу')\n",
    "else:\n",
    "    print('Не отвергаем нулевую гипотезу') "
   ]
  },
  {
   "cell_type": "markdown",
   "id": "b2fd3aef",
   "metadata": {},
   "source": [
    "Получается, что почти 92% поездок лежат в области до 3130 м. Тогда, действительно, гипотеза не может быть отвержена   пользу предыдущих выводов. Получается из теста, что среднее расстояние, пройденное пользователем с подпиской, чаще всего бывает до 3130 м."
   ]
  },
  {
   "cell_type": "markdown",
   "id": "f874ad8d",
   "metadata": {},
   "source": [
    "3. Проверяем, будет ли помесячная выручка от пользователей с подпиской по месяцам выше, чем выручка от пользователей без подписки."
   ]
  },
  {
   "cell_type": "code",
   "execution_count": 62,
   "id": "1a24ecc6",
   "metadata": {},
   "outputs": [
    {
     "data": {
      "text/html": [
       "<div>\n",
       "<style scoped>\n",
       "    .dataframe tbody tr th:only-of-type {\n",
       "        vertical-align: middle;\n",
       "    }\n",
       "\n",
       "    .dataframe tbody tr th {\n",
       "        vertical-align: top;\n",
       "    }\n",
       "\n",
       "    .dataframe thead th {\n",
       "        text-align: right;\n",
       "    }\n",
       "</style>\n",
       "<table border=\"1\" class=\"dataframe\">\n",
       "  <thead>\n",
       "    <tr style=\"text-align: right;\">\n",
       "      <th></th>\n",
       "      <th>free</th>\n",
       "      <th>ultra</th>\n",
       "      <th>difference</th>\n",
       "    </tr>\n",
       "    <tr>\n",
       "      <th>month</th>\n",
       "      <th></th>\n",
       "      <th></th>\n",
       "      <th></th>\n",
       "    </tr>\n",
       "  </thead>\n",
       "  <tbody>\n",
       "    <tr>\n",
       "      <th>1.0</th>\n",
       "      <td>193328.0</td>\n",
       "      <td>144108.0</td>\n",
       "      <td>-49220.0</td>\n",
       "    </tr>\n",
       "    <tr>\n",
       "      <th>2.0</th>\n",
       "      <td>165392.0</td>\n",
       "      <td>124572.0</td>\n",
       "      <td>-40820.0</td>\n",
       "    </tr>\n",
       "    <tr>\n",
       "      <th>3.0</th>\n",
       "      <td>186576.0</td>\n",
       "      <td>142608.0</td>\n",
       "      <td>-43968.0</td>\n",
       "    </tr>\n",
       "    <tr>\n",
       "      <th>4.0</th>\n",
       "      <td>185192.0</td>\n",
       "      <td>137318.0</td>\n",
       "      <td>-47874.0</td>\n",
       "    </tr>\n",
       "    <tr>\n",
       "      <th>5.0</th>\n",
       "      <td>187566.0</td>\n",
       "      <td>149235.0</td>\n",
       "      <td>-38331.0</td>\n",
       "    </tr>\n",
       "    <tr>\n",
       "      <th>6.0</th>\n",
       "      <td>191854.0</td>\n",
       "      <td>143834.0</td>\n",
       "      <td>-48020.0</td>\n",
       "    </tr>\n",
       "    <tr>\n",
       "      <th>7.0</th>\n",
       "      <td>184632.0</td>\n",
       "      <td>143466.0</td>\n",
       "      <td>-41166.0</td>\n",
       "    </tr>\n",
       "    <tr>\n",
       "      <th>8.0</th>\n",
       "      <td>186652.0</td>\n",
       "      <td>138534.0</td>\n",
       "      <td>-48118.0</td>\n",
       "    </tr>\n",
       "    <tr>\n",
       "      <th>9.0</th>\n",
       "      <td>193352.0</td>\n",
       "      <td>129337.0</td>\n",
       "      <td>-64015.0</td>\n",
       "    </tr>\n",
       "    <tr>\n",
       "      <th>10.0</th>\n",
       "      <td>181196.0</td>\n",
       "      <td>133932.0</td>\n",
       "      <td>-47264.0</td>\n",
       "    </tr>\n",
       "    <tr>\n",
       "      <th>11.0</th>\n",
       "      <td>178438.0</td>\n",
       "      <td>126546.0</td>\n",
       "      <td>-51892.0</td>\n",
       "    </tr>\n",
       "    <tr>\n",
       "      <th>12.0</th>\n",
       "      <td>194416.0</td>\n",
       "      <td>131047.0</td>\n",
       "      <td>-63369.0</td>\n",
       "    </tr>\n",
       "  </tbody>\n",
       "</table>\n",
       "</div>"
      ],
      "text/plain": [
       "           free     ultra  difference\n",
       "month                                \n",
       "1.0    193328.0  144108.0    -49220.0\n",
       "2.0    165392.0  124572.0    -40820.0\n",
       "3.0    186576.0  142608.0    -43968.0\n",
       "4.0    185192.0  137318.0    -47874.0\n",
       "5.0    187566.0  149235.0    -38331.0\n",
       "6.0    191854.0  143834.0    -48020.0\n",
       "7.0    184632.0  143466.0    -41166.0\n",
       "8.0    186652.0  138534.0    -48118.0\n",
       "9.0    193352.0  129337.0    -64015.0\n",
       "10.0   181196.0  133932.0    -47264.0\n",
       "11.0   178438.0  126546.0    -51892.0\n",
       "12.0   194416.0  131047.0    -63369.0"
      ]
     },
     "execution_count": 62,
     "metadata": {},
     "output_type": "execute_result"
    }
   ],
   "source": [
    "data_gr_month = data_gr.pivot_table(index='month', columns = 'subscription_type',  aggfunc='sum')['revenue']\n",
    "data_gr_month.columns = ['free', 'ultra'] \n",
    "data_gr_month['difference'] = data_gr_month['ultra'] - data_gr_month['free']\n",
    "data_gr_month"
   ]
  },
  {
   "cell_type": "markdown",
   "id": "36e70401",
   "metadata": {},
   "source": [
    "Общая выручка от пользователей с подпиской меньше, чем от пользователей без подписки. \\\n",
    "Но и самих пользователей без подписки больше, чем пользователей с подпиской. Посчитаем среднемесячную выручку в зависимости от количества пользователей."
   ]
  },
  {
   "cell_type": "code",
   "execution_count": 63,
   "id": "fdbc1d48",
   "metadata": {},
   "outputs": [
    {
     "data": {
      "text/html": [
       "<div>\n",
       "<style scoped>\n",
       "    .dataframe tbody tr th:only-of-type {\n",
       "        vertical-align: middle;\n",
       "    }\n",
       "\n",
       "    .dataframe tbody tr th {\n",
       "        vertical-align: top;\n",
       "    }\n",
       "\n",
       "    .dataframe thead th {\n",
       "        text-align: right;\n",
       "    }\n",
       "</style>\n",
       "<table border=\"1\" class=\"dataframe\">\n",
       "  <thead>\n",
       "    <tr style=\"text-align: right;\">\n",
       "      <th></th>\n",
       "      <th>free_user</th>\n",
       "      <th>ultra_user</th>\n",
       "    </tr>\n",
       "    <tr>\n",
       "      <th>month</th>\n",
       "      <th></th>\n",
       "      <th></th>\n",
       "    </tr>\n",
       "  </thead>\n",
       "  <tbody>\n",
       "    <tr>\n",
       "      <th>1.0</th>\n",
       "      <td>992</td>\n",
       "      <td>584</td>\n",
       "    </tr>\n",
       "    <tr>\n",
       "      <th>2.0</th>\n",
       "      <td>860</td>\n",
       "      <td>468</td>\n",
       "    </tr>\n",
       "    <tr>\n",
       "      <th>3.0</th>\n",
       "      <td>972</td>\n",
       "      <td>561</td>\n",
       "    </tr>\n",
       "    <tr>\n",
       "      <th>4.0</th>\n",
       "      <td>948</td>\n",
       "      <td>551</td>\n",
       "    </tr>\n",
       "    <tr>\n",
       "      <th>5.0</th>\n",
       "      <td>955</td>\n",
       "      <td>597</td>\n",
       "    </tr>\n",
       "    <tr>\n",
       "      <th>6.0</th>\n",
       "      <td>983</td>\n",
       "      <td>565</td>\n",
       "    </tr>\n",
       "    <tr>\n",
       "      <th>7.0</th>\n",
       "      <td>948</td>\n",
       "      <td>574</td>\n",
       "    </tr>\n",
       "    <tr>\n",
       "      <th>8.0</th>\n",
       "      <td>970</td>\n",
       "      <td>540</td>\n",
       "    </tr>\n",
       "    <tr>\n",
       "      <th>9.0</th>\n",
       "      <td>996</td>\n",
       "      <td>515</td>\n",
       "    </tr>\n",
       "    <tr>\n",
       "      <th>10.0</th>\n",
       "      <td>942</td>\n",
       "      <td>529</td>\n",
       "    </tr>\n",
       "    <tr>\n",
       "      <th>11.0</th>\n",
       "      <td>915</td>\n",
       "      <td>492</td>\n",
       "    </tr>\n",
       "    <tr>\n",
       "      <th>12.0</th>\n",
       "      <td>992</td>\n",
       "      <td>524</td>\n",
       "    </tr>\n",
       "  </tbody>\n",
       "</table>\n",
       "</div>"
      ],
      "text/plain": [
       "       free_user  ultra_user\n",
       "month                       \n",
       "1.0          992         584\n",
       "2.0          860         468\n",
       "3.0          972         561\n",
       "4.0          948         551\n",
       "5.0          955         597\n",
       "6.0          983         565\n",
       "7.0          948         574\n",
       "8.0          970         540\n",
       "9.0          996         515\n",
       "10.0         942         529\n",
       "11.0         915         492\n",
       "12.0         992         524"
      ]
     },
     "execution_count": 63,
     "metadata": {},
     "output_type": "execute_result"
    }
   ],
   "source": [
    "#посчитаем количество пользователей с подпиской и без по месяцам\n",
    "data_user = data.pivot_table(index='month', values='user_id', columns='subscription_type', aggfunc='count')\n",
    "data_user.columns = ['free_user', 'ultra_user']\n",
    "data_user"
   ]
  },
  {
   "cell_type": "code",
   "execution_count": 64,
   "id": "916dc7d9",
   "metadata": {},
   "outputs": [],
   "source": [
    "#добавим эти расчеты в табличу с выручкой \n",
    "data_gr_month['free_user'] = data_user['free_user']\n",
    "data_gr_month['ultra_user'] = data_user['ultra_user']"
   ]
  },
  {
   "cell_type": "code",
   "execution_count": 65,
   "id": "9a6ea47b",
   "metadata": {},
   "outputs": [
    {
     "data": {
      "text/html": [
       "<div>\n",
       "<style scoped>\n",
       "    .dataframe tbody tr th:only-of-type {\n",
       "        vertical-align: middle;\n",
       "    }\n",
       "\n",
       "    .dataframe tbody tr th {\n",
       "        vertical-align: top;\n",
       "    }\n",
       "\n",
       "    .dataframe thead th {\n",
       "        text-align: right;\n",
       "    }\n",
       "</style>\n",
       "<table border=\"1\" class=\"dataframe\">\n",
       "  <thead>\n",
       "    <tr style=\"text-align: right;\">\n",
       "      <th></th>\n",
       "      <th>free</th>\n",
       "      <th>ultra</th>\n",
       "      <th>difference</th>\n",
       "      <th>free_user</th>\n",
       "      <th>ultra_user</th>\n",
       "      <th>avg_rev_free</th>\n",
       "      <th>avg_rev_ultra</th>\n",
       "    </tr>\n",
       "    <tr>\n",
       "      <th>month</th>\n",
       "      <th></th>\n",
       "      <th></th>\n",
       "      <th></th>\n",
       "      <th></th>\n",
       "      <th></th>\n",
       "      <th></th>\n",
       "      <th></th>\n",
       "    </tr>\n",
       "  </thead>\n",
       "  <tbody>\n",
       "    <tr>\n",
       "      <th>1.0</th>\n",
       "      <td>193328.0</td>\n",
       "      <td>144108.0</td>\n",
       "      <td>-49220.0</td>\n",
       "      <td>992</td>\n",
       "      <td>584</td>\n",
       "      <td>194.887097</td>\n",
       "      <td>246.760274</td>\n",
       "    </tr>\n",
       "    <tr>\n",
       "      <th>2.0</th>\n",
       "      <td>165392.0</td>\n",
       "      <td>124572.0</td>\n",
       "      <td>-40820.0</td>\n",
       "      <td>860</td>\n",
       "      <td>468</td>\n",
       "      <td>192.316279</td>\n",
       "      <td>266.179487</td>\n",
       "    </tr>\n",
       "    <tr>\n",
       "      <th>3.0</th>\n",
       "      <td>186576.0</td>\n",
       "      <td>142608.0</td>\n",
       "      <td>-43968.0</td>\n",
       "      <td>972</td>\n",
       "      <td>561</td>\n",
       "      <td>191.950617</td>\n",
       "      <td>254.203209</td>\n",
       "    </tr>\n",
       "    <tr>\n",
       "      <th>4.0</th>\n",
       "      <td>185192.0</td>\n",
       "      <td>137318.0</td>\n",
       "      <td>-47874.0</td>\n",
       "      <td>948</td>\n",
       "      <td>551</td>\n",
       "      <td>195.350211</td>\n",
       "      <td>249.215971</td>\n",
       "    </tr>\n",
       "    <tr>\n",
       "      <th>5.0</th>\n",
       "      <td>187566.0</td>\n",
       "      <td>149235.0</td>\n",
       "      <td>-38331.0</td>\n",
       "      <td>955</td>\n",
       "      <td>597</td>\n",
       "      <td>196.404188</td>\n",
       "      <td>249.974874</td>\n",
       "    </tr>\n",
       "    <tr>\n",
       "      <th>6.0</th>\n",
       "      <td>191854.0</td>\n",
       "      <td>143834.0</td>\n",
       "      <td>-48020.0</td>\n",
       "      <td>983</td>\n",
       "      <td>565</td>\n",
       "      <td>195.171923</td>\n",
       "      <td>254.573451</td>\n",
       "    </tr>\n",
       "    <tr>\n",
       "      <th>7.0</th>\n",
       "      <td>184632.0</td>\n",
       "      <td>143466.0</td>\n",
       "      <td>-41166.0</td>\n",
       "      <td>948</td>\n",
       "      <td>574</td>\n",
       "      <td>194.759494</td>\n",
       "      <td>249.940767</td>\n",
       "    </tr>\n",
       "    <tr>\n",
       "      <th>8.0</th>\n",
       "      <td>186652.0</td>\n",
       "      <td>138534.0</td>\n",
       "      <td>-48118.0</td>\n",
       "      <td>970</td>\n",
       "      <td>540</td>\n",
       "      <td>192.424742</td>\n",
       "      <td>256.544444</td>\n",
       "    </tr>\n",
       "    <tr>\n",
       "      <th>9.0</th>\n",
       "      <td>193352.0</td>\n",
       "      <td>129337.0</td>\n",
       "      <td>-64015.0</td>\n",
       "      <td>996</td>\n",
       "      <td>515</td>\n",
       "      <td>194.128514</td>\n",
       "      <td>251.139806</td>\n",
       "    </tr>\n",
       "    <tr>\n",
       "      <th>10.0</th>\n",
       "      <td>181196.0</td>\n",
       "      <td>133932.0</td>\n",
       "      <td>-47264.0</td>\n",
       "      <td>942</td>\n",
       "      <td>529</td>\n",
       "      <td>192.352442</td>\n",
       "      <td>253.179584</td>\n",
       "    </tr>\n",
       "    <tr>\n",
       "      <th>11.0</th>\n",
       "      <td>178438.0</td>\n",
       "      <td>126546.0</td>\n",
       "      <td>-51892.0</td>\n",
       "      <td>915</td>\n",
       "      <td>492</td>\n",
       "      <td>195.014208</td>\n",
       "      <td>257.207317</td>\n",
       "    </tr>\n",
       "    <tr>\n",
       "      <th>12.0</th>\n",
       "      <td>194416.0</td>\n",
       "      <td>131047.0</td>\n",
       "      <td>-63369.0</td>\n",
       "      <td>992</td>\n",
       "      <td>524</td>\n",
       "      <td>195.983871</td>\n",
       "      <td>250.089695</td>\n",
       "    </tr>\n",
       "  </tbody>\n",
       "</table>\n",
       "</div>"
      ],
      "text/plain": [
       "           free     ultra  difference  free_user  ultra_user  avg_rev_free  \\\n",
       "month                                                                        \n",
       "1.0    193328.0  144108.0    -49220.0        992         584    194.887097   \n",
       "2.0    165392.0  124572.0    -40820.0        860         468    192.316279   \n",
       "3.0    186576.0  142608.0    -43968.0        972         561    191.950617   \n",
       "4.0    185192.0  137318.0    -47874.0        948         551    195.350211   \n",
       "5.0    187566.0  149235.0    -38331.0        955         597    196.404188   \n",
       "6.0    191854.0  143834.0    -48020.0        983         565    195.171923   \n",
       "7.0    184632.0  143466.0    -41166.0        948         574    194.759494   \n",
       "8.0    186652.0  138534.0    -48118.0        970         540    192.424742   \n",
       "9.0    193352.0  129337.0    -64015.0        996         515    194.128514   \n",
       "10.0   181196.0  133932.0    -47264.0        942         529    192.352442   \n",
       "11.0   178438.0  126546.0    -51892.0        915         492    195.014208   \n",
       "12.0   194416.0  131047.0    -63369.0        992         524    195.983871   \n",
       "\n",
       "       avg_rev_ultra  \n",
       "month                 \n",
       "1.0       246.760274  \n",
       "2.0       266.179487  \n",
       "3.0       254.203209  \n",
       "4.0       249.215971  \n",
       "5.0       249.974874  \n",
       "6.0       254.573451  \n",
       "7.0       249.940767  \n",
       "8.0       256.544444  \n",
       "9.0       251.139806  \n",
       "10.0      253.179584  \n",
       "11.0      257.207317  \n",
       "12.0      250.089695  "
      ]
     },
     "execution_count": 65,
     "metadata": {},
     "output_type": "execute_result"
    }
   ],
   "source": [
    "#посчитаем среднемесячнцю выручку пользователей с подпиской и без \n",
    "data_gr_month['avg_rev_free'] = data_gr_month['free'] / data_gr_month['free_user']\n",
    "data_gr_month['avg_rev_ultra'] = data_gr_month['ultra'] / data_gr_month['ultra_user']\n",
    "data_gr_month"
   ]
  },
  {
   "cell_type": "code",
   "execution_count": 66,
   "id": "90d5fc66",
   "metadata": {},
   "outputs": [
    {
     "name": "stdout",
     "output_type": "stream",
     "text": [
      "Среднемесячная выручка от пользователей с подпиской: 253.25073992002262\n",
      "Среднемесячная выручка от пользователей без подписки: 194.2286321243719\n"
     ]
    }
   ],
   "source": [
    "print('Среднемесячная выручка от пользователей с подпиской:', data_gr_month['avg_rev_ultra'].mean())\n",
    "print('Среднемесячная выручка от пользователей без подписки:', data_gr_month['avg_rev_free'].mean())"
   ]
  },
  {
   "cell_type": "markdown",
   "id": "81dd142d",
   "metadata": {},
   "source": [
    "Нулевая гипотеза: средняя выручка от пользователей с подпиской равна средней выручке от пользователей без подписок. \\\n",
    "Альтернативная: средняя выручка от пользователей с подпиской больше, чем от пользователей без подписок. "
   ]
  },
  {
   "cell_type": "code",
   "execution_count": 67,
   "id": "4c535108",
   "metadata": {},
   "outputs": [
    {
     "name": "stdout",
     "output_type": "stream",
     "text": [
      "p-значение: 2.0314113674863288e-30\n",
      "Отвергаем нулевую гипотезу\n"
     ]
    }
   ],
   "source": [
    "#проведем t-test для сравнения: равны ли выручки от двух категорий пользователей\n",
    "\n",
    "#уровень значимости выберем 5%\n",
    "alpha = 0.05\n",
    "\n",
    "#в качестве сравниваемого параметра выберем выручку по категориям пользователей\n",
    "results = st.ttest_ind(data_gr[data_gr['subscription_type'] == 'ultra']['revenue'], \n",
    "                       data_gr[data_gr['subscription_type'] == 'free']['revenue'], \n",
    "                       alternative = 'greater')\n",
    "\n",
    "\n",
    "print('p-значение:', results.pvalue)\n",
    "\n",
    "if results.pvalue < alpha:\n",
    "    print('Отвергаем нулевую гипотезу')\n",
    "else:\n",
    "    print('Не получилось отвергнуть нулевую гипотезу') "
   ]
  },
  {
   "cell_type": "markdown",
   "id": "729455fb",
   "metadata": {},
   "source": [
    "Тест показывает, что средние выручки от двух групп пользователей не равны. \\\n",
    "Действительно, пользователи с подпиской в среднем тратят на 23% больше, чем пользователи без подписки. \\\n",
    "При этом за счет количества пользователей с подпиской, которых меньше, чем пользователей без подписки, общая выручка от пользователей с попиской меньше. "
   ]
  },
  {
   "cell_type": "markdown",
   "id": "b7a9ac18",
   "metadata": {},
   "source": [
    "4. Представьте такую ситуацию: техническая команда сервиса обновила сервера, с которыми взаимодействует мобильное приложение. Она надеется, что из-за этого количество обращений в техподдержку значимо снизилось. Некоторый файл содержит для каждого пользователя данные о количестве обращений до обновления и после него. Какой тест вам понадобился бы для проверки этой гипотезы?"
   ]
  },
  {
   "cell_type": "markdown",
   "id": "2301bbb4",
   "metadata": {},
   "source": [
    "Ответ: следовало бы провести ttest_rel, который подходит для проверки гипотез о равенстве среднего генеральных совокупностей до и после изменения."
   ]
  },
  {
   "cell_type": "markdown",
   "id": "e630534a",
   "metadata": {},
   "source": [
    "Вывод: пользователи с подпиской ездят дольше (на 1 мин), дальше (доля поездок на расстояние свыше 3,1 км больше на 3%) и тратят больше (в среднем за одну поездку на 23%), чем пользователи без подписки."
   ]
  },
  {
   "cell_type": "markdown",
   "id": "61213c5e",
   "metadata": {},
   "source": [
    "#### Шаг 7. Распределения"
   ]
  },
  {
   "cell_type": "markdown",
   "id": "c65f234d",
   "metadata": {},
   "source": [
    "Выясним, какое минимальное количество промокодов нужно разослать, чтобы вероятность не выполнить план по продлению 100 подписок была примерно 5 % (вероятность продления по ранее проведенной акции - 10%)."
   ]
  },
  {
   "cell_type": "code",
   "execution_count": 68,
   "id": "f24d577c",
   "metadata": {},
   "outputs": [
    {
     "data": {
      "image/png": "[encoded data removed]",
      "text/plain": [
       "<Figure size 432x288 with 1 Axes>"
      ]
     },
     "metadata": {
      "needs_background": "light"
     },
     "output_type": "display_data"
    }
   ],
   "source": [
    "#начнем с 1000 промокодов\n",
    "n = 1000\n",
    "# вероятность продления подписки по промокоду\n",
    "p = 0.1\n",
    "\n",
    "# создаем список distr, в котором будем хранить значения распределения\n",
    "distr = []\n",
    "\n",
    "for k in range(0, n + 1):\n",
    "    choose = factorial(n) / (factorial(k) * factorial (n -k))\n",
    "    prob = choose * p**k * (1-p)**(n-k)\n",
    "    distr.append(prob)\n",
    "    \n",
    "# построение гистограммы распределения вероятностей\n",
    "plt.bar(range(0, n + 1), distr);\n",
    "plt.title('Распределение вероятностей продлить подписку')\n",
    "plt.xlabel('Кол-во продленных подписок')\n",
    "plt.ylabel('Вероятность');"
   ]
  },
  {
   "cell_type": "code",
   "execution_count": 69,
   "id": "cbee2057",
   "metadata": {},
   "outputs": [
    {
     "name": "stdout",
     "output_type": "stream",
     "text": [
      "0.9512064034722397\n"
     ]
    }
   ],
   "source": [
    "# задаём параметры биномиального распределения\n",
    "n = 1170\n",
    "p = 0.1\n",
    "\n",
    "# задаём параметры нормального распределения равными\n",
    "# мат.ожиданию и дисперсии биномиального распределения\n",
    "mu = n * p\n",
    "sigma = (n * p * (1 - p))**0.5\n",
    "\n",
    "# задаём нормальное распределение\n",
    "distr = st.norm(mu, sigma) \n",
    "\n",
    "# считаем вероятность хвоста справа от 100 \n",
    "result = 1- distr.cdf(100)\n",
    "print(result)"
   ]
  },
  {
   "cell_type": "markdown",
   "id": "45af5d09",
   "metadata": {},
   "source": [
    "Получается, чтобы выполнить план на 95% отделу маркетинга нужно разослать как минимум 1170 промокодов. "
   ]
  },
  {
   "cell_type": "markdown",
   "id": "51eb81a3",
   "metadata": {},
   "source": [
    "Известно, что уведомления открывают около 40 % получивших клиентов. Отдел планирует разослать 1 млн уведомлений. С помощью аппроксимации постройте примерный график распределения и оцените вероятность того, что уведомление откроют не более 399,5 тыс. пользователей."
   ]
  },
  {
   "cell_type": "code",
   "execution_count": 70,
   "id": "2daa33c0",
   "metadata": {},
   "outputs": [
    {
     "data": {
      "image/png": "[encoded data removed]",
      "text/plain": [
       "<Figure size 432x288 with 1 Axes>"
      ]
     },
     "metadata": {
      "needs_background": "light"
     },
     "output_type": "display_data"
    }
   ],
   "source": [
    "#уменьшим кол-во экспертиментов пропорционально искомому значению - в 1000 раз \n",
    "n = 1000\n",
    "# вероятность открыть уведомление \n",
    "p = 0.4\n",
    "\n",
    "distr = []\n",
    "\n",
    "for k in range(0, n + 1):\n",
    "    choose = factorial(n) / (factorial(k) * factorial (n -k))\n",
    "    prob = choose * p**k * (1-p)**(n-k)\n",
    "    distr.append(prob)\n",
    "    \n",
    "# построение гистограммы распределения вероятностей\n",
    "plt.bar(range(0, n + 1), distr);\n",
    "plt.title('Распределение вероятностей открыть уведомление')\n",
    "plt.xlabel('Кол-во открытых уведомлений, тыс.шт.')\n",
    "plt.ylabel('Вероятность');"
   ]
  },
  {
   "cell_type": "code",
   "execution_count": 71,
   "id": "bc0a38b2",
   "metadata": {},
   "outputs": [
    {
     "name": "stdout",
     "output_type": "stream",
     "text": [
      "0.15371708296369768\n"
     ]
    }
   ],
   "source": [
    "#задаем нормальное распределение с этими параметрами\n",
    "mu = 1000000 * p\n",
    "sigma = (1000000 * p * (1 - p))**0.5\n",
    "distr = st.norm(mu, sigma)\n",
    "result = distr.cdf(399500)\n",
    "print(result)"
   ]
  },
  {
   "cell_type": "code",
   "execution_count": 72,
   "id": "05e82472",
   "metadata": {},
   "outputs": [
    {
     "name": "stdout",
     "output_type": "stream",
     "text": [
      "0.15371708296369768\n"
     ]
    }
   ],
   "source": [
    "mu = 1000000 * p\n",
    "sigma = (1000000 * p * (1 - p))**0.5\n",
    "distr = st.norm(mu, sigma)\n",
    "result = distr.cdf(399500)\n",
    "print(result)"
   ]
  },
  {
   "cell_type": "markdown",
   "id": "0cf11b60",
   "metadata": {},
   "source": [
    "Вероятность того, что уведомление откроют не более 399,5 тыс. пользователей = 15,4%."
   ]
  },
  {
   "cell_type": "markdown",
   "id": "71427284",
   "metadata": {},
   "source": [
    "# Вывод:"
   ]
  },
  {
   "cell_type": "markdown",
   "id": "d52aaf1a",
   "metadata": {},
   "source": [
    "Исследовательский анализ данных показал, что:\n",
    "1. Больше всего в выборке пользоователей в Пятигорске, меньше всего - в Москве;\n",
    "2. Самые молодые пользователи сервиса живут в Ростове-на-Дону, а самые взрослые - в Омске;\n",
    "3. Средний возраст пользователей - 25 лет;\n",
    "4. В среднем 45,6% пользователей имеют подписку;\n",
    "5. Cреднее расстояние, которое проезжают пользователи: 3 км;\n",
    "6. Cреднее время поездки: 18 минут.\n",
    "\n",
    "Пользователи с подпиской выгоднее для сервиса, чем пользователи без подписки - такие пользователи:\n",
    "1. Ездят дольше по времени (на 1 мин);\n",
    "2. Тратят больше (в среднем за одну поездку на 23%);\n",
    "3. Самокаты при их поездках меньше подвержены износу (91% поездок до 3130 м).\n",
    "\n",
    "Увеличение продаж: \n",
    "1. Чтобы выполнить план на 95% в рамках акции с раздачей промокодов на один бесплатный месяц подписки отделу маркетинга нужно разослать как минимум 1170 промокодов;\n",
    "2. При рассылке 1 млн уведомлений вероятность того, что уведомление откроют не более 399,5 тыс. пользователей, равна 15,4%."
   ]
  }
 ],
 "metadata": {
  "ExecuteTimeLog": [
   {
    "duration": 1227,
    "start_time": "2023-10-12T08:57:08.787Z"
   },
   {
    "duration": 49,
    "start_time": "2023-10-12T08:58:07.069Z"
   },
   {
    "duration": 16,
    "start_time": "2023-10-12T08:58:16.350Z"
   },
   {
    "duration": 41,
    "start_time": "2023-10-12T08:59:19.016Z"
   },
   {
    "duration": 73,
    "start_time": "2023-10-12T08:59:19.555Z"
   },
   {
    "duration": 42,
    "start_time": "2023-10-12T08:59:20.068Z"
   },
   {
    "duration": 7,
    "start_time": "2023-10-12T08:59:21.275Z"
   },
   {
    "duration": 7,
    "start_time": "2023-10-12T08:59:28.095Z"
   },
   {
    "duration": 6,
    "start_time": "2023-10-12T08:59:35.064Z"
   },
   {
    "duration": 8,
    "start_time": "2023-10-12T09:01:01.451Z"
   },
   {
    "duration": 7,
    "start_time": "2023-10-12T09:01:12.608Z"
   },
   {
    "duration": 6,
    "start_time": "2023-10-12T09:01:29.704Z"
   },
   {
    "duration": 11,
    "start_time": "2023-10-12T09:01:47.312Z"
   },
   {
    "duration": 9,
    "start_time": "2023-10-12T09:02:23.972Z"
   },
   {
    "duration": 13,
    "start_time": "2023-10-12T09:04:02.563Z"
   },
   {
    "duration": 80,
    "start_time": "2023-10-12T09:13:31.075Z"
   },
   {
    "duration": 10,
    "start_time": "2023-10-12T09:13:37.236Z"
   },
   {
    "duration": 10,
    "start_time": "2023-10-12T09:13:39.322Z"
   },
   {
    "duration": 5,
    "start_time": "2023-10-12T09:32:07.431Z"
   },
   {
    "duration": 8,
    "start_time": "2023-10-12T09:32:30.633Z"
   },
   {
    "duration": 6,
    "start_time": "2023-10-12T09:34:00.452Z"
   },
   {
    "duration": 105,
    "start_time": "2023-10-12T09:34:19.566Z"
   },
   {
    "duration": 6,
    "start_time": "2023-10-12T09:34:25.361Z"
   },
   {
    "duration": 5,
    "start_time": "2023-10-12T09:35:55.088Z"
   },
   {
    "duration": 7,
    "start_time": "2023-10-12T09:36:05.690Z"
   },
   {
    "duration": 8,
    "start_time": "2023-10-12T09:36:09.012Z"
   },
   {
    "duration": 4,
    "start_time": "2023-10-12T09:36:12.120Z"
   },
   {
    "duration": 6,
    "start_time": "2023-10-12T09:37:18.988Z"
   },
   {
    "duration": 9,
    "start_time": "2023-10-12T09:37:28.635Z"
   },
   {
    "duration": 5,
    "start_time": "2023-10-12T09:44:31.236Z"
   },
   {
    "duration": 8,
    "start_time": "2023-10-12T09:46:46.433Z"
   },
   {
    "duration": 55,
    "start_time": "2023-10-12T13:36:07.346Z"
   },
   {
    "duration": 7,
    "start_time": "2023-10-12T13:36:30.929Z"
   },
   {
    "duration": 1514,
    "start_time": "2023-10-12T13:36:40.111Z"
   },
   {
    "duration": 72,
    "start_time": "2023-10-12T13:36:41.627Z"
   },
   {
    "duration": 122,
    "start_time": "2023-10-12T13:36:41.701Z"
   },
   {
    "duration": 174,
    "start_time": "2023-10-12T13:36:41.824Z"
   },
   {
    "duration": 13,
    "start_time": "2023-10-12T13:36:42.001Z"
   },
   {
    "duration": 23,
    "start_time": "2023-10-12T13:36:42.015Z"
   },
   {
    "duration": 19,
    "start_time": "2023-10-12T13:36:42.040Z"
   },
   {
    "duration": 21,
    "start_time": "2023-10-12T13:36:42.060Z"
   },
   {
    "duration": 9,
    "start_time": "2023-10-12T13:36:42.084Z"
   },
   {
    "duration": 11,
    "start_time": "2023-10-12T13:36:42.095Z"
   },
   {
    "duration": 22,
    "start_time": "2023-10-12T13:36:42.108Z"
   },
   {
    "duration": 9,
    "start_time": "2023-10-12T13:36:42.131Z"
   },
   {
    "duration": 6,
    "start_time": "2023-10-12T13:36:42.142Z"
   },
   {
    "duration": 5,
    "start_time": "2023-10-12T13:36:42.151Z"
   },
   {
    "duration": 25,
    "start_time": "2023-10-12T13:36:42.158Z"
   },
   {
    "duration": 14,
    "start_time": "2023-10-12T13:36:42.187Z"
   },
   {
    "duration": 20,
    "start_time": "2023-10-12T13:36:42.203Z"
   },
   {
    "duration": 5,
    "start_time": "2023-10-12T13:36:42.224Z"
   },
   {
    "duration": 15,
    "start_time": "2023-10-12T13:36:42.231Z"
   },
   {
    "duration": 12,
    "start_time": "2023-10-12T13:36:50.093Z"
   },
   {
    "duration": 133,
    "start_time": "2023-10-12T13:37:07.276Z"
   },
   {
    "duration": 24,
    "start_time": "2023-10-12T13:37:17.275Z"
   },
   {
    "duration": 14,
    "start_time": "2023-10-12T13:37:27.745Z"
   },
   {
    "duration": 14,
    "start_time": "2023-10-12T13:37:47.309Z"
   },
   {
    "duration": 99,
    "start_time": "2023-10-12T13:39:47.497Z"
   },
   {
    "duration": 140,
    "start_time": "2023-10-12T13:40:10.539Z"
   },
   {
    "duration": 12,
    "start_time": "2023-10-12T13:40:20.919Z"
   },
   {
    "duration": 15,
    "start_time": "2023-10-12T13:40:25.821Z"
   },
   {
    "duration": 18,
    "start_time": "2023-10-12T13:41:47.319Z"
   },
   {
    "duration": 20,
    "start_time": "2023-10-12T13:41:53.694Z"
   },
   {
    "duration": 4,
    "start_time": "2023-10-12T13:43:26.356Z"
   },
   {
    "duration": 21,
    "start_time": "2023-10-12T13:50:28.392Z"
   },
   {
    "duration": 20,
    "start_time": "2023-10-12T13:50:35.051Z"
   },
   {
    "duration": 4,
    "start_time": "2023-10-12T13:50:37.963Z"
   },
   {
    "duration": 5,
    "start_time": "2023-10-12T13:51:22.581Z"
   },
   {
    "duration": 4,
    "start_time": "2023-10-12T13:51:33.881Z"
   },
   {
    "duration": 6,
    "start_time": "2023-10-12T13:51:39.157Z"
   },
   {
    "duration": 4,
    "start_time": "2023-10-12T13:51:43.577Z"
   },
   {
    "duration": 4,
    "start_time": "2023-10-12T13:51:48.744Z"
   },
   {
    "duration": 5,
    "start_time": "2023-10-12T13:51:51.941Z"
   },
   {
    "duration": 221,
    "start_time": "2023-10-12T13:54:32.052Z"
   },
   {
    "duration": 134,
    "start_time": "2023-10-12T13:54:47.800Z"
   },
   {
    "duration": 155,
    "start_time": "2023-10-12T13:55:05.190Z"
   },
   {
    "duration": 223,
    "start_time": "2023-10-12T14:15:25.890Z"
   },
   {
    "duration": 214,
    "start_time": "2023-10-12T14:15:40.886Z"
   },
   {
    "duration": 301,
    "start_time": "2023-10-12T14:20:56.475Z"
   },
   {
    "duration": 314,
    "start_time": "2023-10-12T14:35:03.590Z"
   },
   {
    "duration": 152,
    "start_time": "2023-10-12T14:44:54.113Z"
   },
   {
    "duration": 6,
    "start_time": "2023-10-12T14:58:46.228Z"
   },
   {
    "duration": 5,
    "start_time": "2023-10-12T14:59:08.361Z"
   },
   {
    "duration": 8,
    "start_time": "2023-10-12T14:59:57.021Z"
   },
   {
    "duration": 6,
    "start_time": "2023-10-12T15:00:02.832Z"
   },
   {
    "duration": 5,
    "start_time": "2023-10-12T15:00:12.351Z"
   },
   {
    "duration": 5,
    "start_time": "2023-10-12T15:00:22.260Z"
   },
   {
    "duration": 5,
    "start_time": "2023-10-12T15:00:32.128Z"
   },
   {
    "duration": 6,
    "start_time": "2023-10-12T15:00:36.661Z"
   },
   {
    "duration": 5,
    "start_time": "2023-10-12T15:01:42.823Z"
   },
   {
    "duration": 5,
    "start_time": "2023-10-12T15:01:48.969Z"
   },
   {
    "duration": 5,
    "start_time": "2023-10-12T15:02:07.266Z"
   },
   {
    "duration": 6,
    "start_time": "2023-10-12T15:02:42.790Z"
   },
   {
    "duration": 347,
    "start_time": "2023-10-12T15:08:29.698Z"
   },
   {
    "duration": 275,
    "start_time": "2023-10-12T15:08:49.963Z"
   },
   {
    "duration": 283,
    "start_time": "2023-10-12T15:09:26.610Z"
   },
   {
    "duration": 8,
    "start_time": "2023-10-12T15:09:46.330Z"
   },
   {
    "duration": 12,
    "start_time": "2023-10-12T15:11:51.330Z"
   },
   {
    "duration": 118,
    "start_time": "2023-10-12T15:11:56.507Z"
   },
   {
    "duration": 305,
    "start_time": "2023-10-12T15:13:48.910Z"
   },
   {
    "duration": 275,
    "start_time": "2023-10-12T15:14:12.004Z"
   },
   {
    "duration": 398,
    "start_time": "2023-10-12T15:14:33.756Z"
   },
   {
    "duration": 6,
    "start_time": "2023-10-12T15:15:11.526Z"
   },
   {
    "duration": 9,
    "start_time": "2023-10-12T15:15:14.877Z"
   },
   {
    "duration": 12,
    "start_time": "2023-10-12T15:15:27.858Z"
   },
   {
    "duration": 5,
    "start_time": "2023-10-12T15:16:05.140Z"
   },
   {
    "duration": 11,
    "start_time": "2023-10-12T15:16:19.007Z"
   },
   {
    "duration": 14,
    "start_time": "2023-10-12T15:17:44.149Z"
   },
   {
    "duration": 9,
    "start_time": "2023-10-12T15:17:47.306Z"
   },
   {
    "duration": 15,
    "start_time": "2023-10-12T15:17:53.378Z"
   },
   {
    "duration": 4,
    "start_time": "2023-10-12T15:17:59.037Z"
   },
   {
    "duration": 18,
    "start_time": "2023-10-12T15:19:01.475Z"
   },
   {
    "duration": 6,
    "start_time": "2023-10-12T15:19:19.407Z"
   },
   {
    "duration": 11,
    "start_time": "2023-10-12T15:19:23.851Z"
   },
   {
    "duration": 6,
    "start_time": "2023-10-12T15:19:27.820Z"
   },
   {
    "duration": 5,
    "start_time": "2023-10-12T15:19:33.412Z"
   },
   {
    "duration": 4,
    "start_time": "2023-10-12T15:19:43.923Z"
   },
   {
    "duration": 5,
    "start_time": "2023-10-12T15:20:04.652Z"
   },
   {
    "duration": 8,
    "start_time": "2023-10-12T15:45:22.624Z"
   },
   {
    "duration": 6,
    "start_time": "2023-10-12T15:45:31.375Z"
   },
   {
    "duration": 5,
    "start_time": "2023-10-12T15:45:40.124Z"
   },
   {
    "duration": 240,
    "start_time": "2023-10-12T15:45:50.864Z"
   },
   {
    "duration": 54,
    "start_time": "2023-10-12T15:46:29.398Z"
   },
   {
    "duration": 5,
    "start_time": "2023-10-12T15:46:30.490Z"
   },
   {
    "duration": 244,
    "start_time": "2023-10-12T15:46:31.078Z"
   },
   {
    "duration": 1212,
    "start_time": "2023-10-12T15:46:37.109Z"
   },
   {
    "duration": 98,
    "start_time": "2023-10-12T15:46:38.323Z"
   },
   {
    "duration": 136,
    "start_time": "2023-10-12T15:46:38.423Z"
   },
   {
    "duration": 51,
    "start_time": "2023-10-12T15:46:38.561Z"
   },
   {
    "duration": 13,
    "start_time": "2023-10-12T15:46:38.615Z"
   },
   {
    "duration": 15,
    "start_time": "2023-10-12T15:46:38.629Z"
   },
   {
    "duration": 26,
    "start_time": "2023-10-12T15:46:38.645Z"
   },
   {
    "duration": 18,
    "start_time": "2023-10-12T15:46:38.673Z"
   },
   {
    "duration": 7,
    "start_time": "2023-10-12T15:46:38.693Z"
   },
   {
    "duration": 7,
    "start_time": "2023-10-12T15:46:38.702Z"
   },
   {
    "duration": 10,
    "start_time": "2023-10-12T15:46:38.711Z"
   },
   {
    "duration": 11,
    "start_time": "2023-10-12T15:46:38.723Z"
   },
   {
    "duration": 7,
    "start_time": "2023-10-12T15:46:38.736Z"
   },
   {
    "duration": 37,
    "start_time": "2023-10-12T15:46:38.746Z"
   },
   {
    "duration": 3,
    "start_time": "2023-10-12T15:46:38.786Z"
   },
   {
    "duration": 18,
    "start_time": "2023-10-12T15:46:38.791Z"
   },
   {
    "duration": 8,
    "start_time": "2023-10-12T15:46:38.811Z"
   },
   {
    "duration": 11,
    "start_time": "2023-10-12T15:46:38.821Z"
   },
   {
    "duration": 29,
    "start_time": "2023-10-12T15:46:38.834Z"
   },
   {
    "duration": 337,
    "start_time": "2023-10-12T15:46:38.865Z"
   },
   {
    "duration": 166,
    "start_time": "2023-10-12T15:46:39.203Z"
   },
   {
    "duration": 11,
    "start_time": "2023-10-12T15:46:39.371Z"
   },
   {
    "duration": 26,
    "start_time": "2023-10-12T15:46:39.384Z"
   },
   {
    "duration": 6,
    "start_time": "2023-10-12T15:46:39.412Z"
   },
   {
    "duration": 239,
    "start_time": "2023-10-12T15:46:39.420Z"
   },
   {
    "duration": 5,
    "start_time": "2023-10-12T15:46:39.661Z"
   },
   {
    "duration": 16,
    "start_time": "2023-10-12T15:46:39.668Z"
   },
   {
    "duration": 281,
    "start_time": "2023-10-12T15:46:39.685Z"
   },
   {
    "duration": 14,
    "start_time": "2023-10-12T15:46:39.968Z"
   },
   {
    "duration": 13,
    "start_time": "2023-10-12T15:46:39.984Z"
   },
   {
    "duration": 272,
    "start_time": "2023-10-12T15:46:39.999Z"
   },
   {
    "duration": 13,
    "start_time": "2023-10-12T15:46:40.273Z"
   },
   {
    "duration": 29,
    "start_time": "2023-10-12T15:46:40.287Z"
   },
   {
    "duration": 142,
    "start_time": "2023-10-12T15:46:40.318Z"
   },
   {
    "duration": 6,
    "start_time": "2023-10-12T15:46:40.462Z"
   },
   {
    "duration": 264,
    "start_time": "2023-10-12T15:46:40.469Z"
   },
   {
    "duration": 4,
    "start_time": "2023-10-12T15:51:57.553Z"
   },
   {
    "duration": 14,
    "start_time": "2023-10-12T15:57:27.110Z"
   },
   {
    "duration": 4,
    "start_time": "2023-10-12T15:57:39.239Z"
   },
   {
    "duration": 14,
    "start_time": "2023-10-12T15:57:52.624Z"
   },
   {
    "duration": 4,
    "start_time": "2023-10-12T16:27:30.071Z"
   },
   {
    "duration": 13,
    "start_time": "2023-10-12T16:27:30.454Z"
   },
   {
    "duration": 11,
    "start_time": "2023-10-12T16:27:39.644Z"
   },
   {
    "duration": 22,
    "start_time": "2023-10-12T16:27:44.776Z"
   },
   {
    "duration": 11,
    "start_time": "2023-10-12T16:30:40.811Z"
   },
   {
    "duration": 16,
    "start_time": "2023-10-12T16:30:53.871Z"
   },
   {
    "duration": 15,
    "start_time": "2023-10-12T16:30:59.649Z"
   },
   {
    "duration": 7,
    "start_time": "2023-10-12T16:47:54.826Z"
   },
   {
    "duration": 108,
    "start_time": "2023-10-12T16:50:19.966Z"
   },
   {
    "duration": 5,
    "start_time": "2023-10-12T16:51:01.108Z"
   },
   {
    "duration": 6,
    "start_time": "2023-10-12T16:58:31.227Z"
   },
   {
    "duration": 7,
    "start_time": "2023-10-12T16:58:31.961Z"
   },
   {
    "duration": 248,
    "start_time": "2023-10-12T16:58:40.581Z"
   },
   {
    "duration": 1272,
    "start_time": "2023-10-12T16:58:47.875Z"
   },
   {
    "duration": 84,
    "start_time": "2023-10-12T16:58:49.150Z"
   },
   {
    "duration": 134,
    "start_time": "2023-10-12T16:58:49.236Z"
   },
   {
    "duration": 66,
    "start_time": "2023-10-12T16:58:49.372Z"
   },
   {
    "duration": 13,
    "start_time": "2023-10-12T16:58:49.440Z"
   },
   {
    "duration": 11,
    "start_time": "2023-10-12T16:58:49.455Z"
   },
   {
    "duration": 13,
    "start_time": "2023-10-12T16:58:49.469Z"
   },
   {
    "duration": 12,
    "start_time": "2023-10-12T16:58:49.484Z"
   },
   {
    "duration": 9,
    "start_time": "2023-10-12T16:58:49.498Z"
   },
   {
    "duration": 23,
    "start_time": "2023-10-12T16:58:49.509Z"
   },
   {
    "duration": 16,
    "start_time": "2023-10-12T16:58:49.534Z"
   },
   {
    "duration": 10,
    "start_time": "2023-10-12T16:58:49.552Z"
   },
   {
    "duration": 9,
    "start_time": "2023-10-12T16:58:49.564Z"
   },
   {
    "duration": 6,
    "start_time": "2023-10-12T16:58:49.581Z"
   },
   {
    "duration": 4,
    "start_time": "2023-10-12T16:58:49.589Z"
   },
   {
    "duration": 8,
    "start_time": "2023-10-12T16:58:49.595Z"
   },
   {
    "duration": 8,
    "start_time": "2023-10-12T16:58:49.605Z"
   },
   {
    "duration": 5,
    "start_time": "2023-10-12T16:58:49.614Z"
   },
   {
    "duration": 63,
    "start_time": "2023-10-12T16:58:49.621Z"
   },
   {
    "duration": 322,
    "start_time": "2023-10-12T16:58:49.686Z"
   },
   {
    "duration": 156,
    "start_time": "2023-10-12T16:58:50.009Z"
   },
   {
    "duration": 5,
    "start_time": "2023-10-12T16:58:50.167Z"
   },
   {
    "duration": 19,
    "start_time": "2023-10-12T16:58:50.181Z"
   },
   {
    "duration": 6,
    "start_time": "2023-10-12T16:58:50.202Z"
   },
   {
    "duration": 246,
    "start_time": "2023-10-12T16:58:50.210Z"
   },
   {
    "duration": 5,
    "start_time": "2023-10-12T16:58:50.458Z"
   },
   {
    "duration": 16,
    "start_time": "2023-10-12T16:58:50.465Z"
   },
   {
    "duration": 269,
    "start_time": "2023-10-12T16:58:50.483Z"
   },
   {
    "duration": 6,
    "start_time": "2023-10-12T16:58:50.753Z"
   },
   {
    "duration": 22,
    "start_time": "2023-10-12T16:58:50.760Z"
   },
   {
    "duration": 269,
    "start_time": "2023-10-12T16:58:50.784Z"
   },
   {
    "duration": 5,
    "start_time": "2023-10-12T16:58:51.055Z"
   },
   {
    "duration": 63,
    "start_time": "2023-10-12T16:58:51.062Z"
   },
   {
    "duration": 65,
    "start_time": "2023-10-12T16:58:51.127Z"
   },
   {
    "duration": 473,
    "start_time": "2023-10-12T16:58:51.194Z"
   },
   {
    "duration": 4,
    "start_time": "2023-10-12T16:58:51.669Z"
   },
   {
    "duration": 20,
    "start_time": "2023-10-12T16:58:51.680Z"
   },
   {
    "duration": 31,
    "start_time": "2023-10-12T16:58:51.702Z"
   },
   {
    "duration": 29,
    "start_time": "2023-10-12T16:58:51.734Z"
   },
   {
    "duration": 45,
    "start_time": "2023-10-12T16:58:51.765Z"
   },
   {
    "duration": 27,
    "start_time": "2023-10-12T16:58:51.813Z"
   },
   {
    "duration": 36,
    "start_time": "2023-10-12T16:58:51.841Z"
   },
   {
    "duration": 11,
    "start_time": "2023-10-12T16:59:07.956Z"
   },
   {
    "duration": 4,
    "start_time": "2023-10-12T16:59:08.572Z"
   },
   {
    "duration": 10,
    "start_time": "2023-10-12T16:59:09.872Z"
   },
   {
    "duration": 12,
    "start_time": "2023-10-12T16:59:10.757Z"
   },
   {
    "duration": 5,
    "start_time": "2023-10-12T16:59:16.325Z"
   },
   {
    "duration": 7,
    "start_time": "2023-10-12T17:01:03.673Z"
   },
   {
    "duration": 4,
    "start_time": "2023-10-12T17:01:04.592Z"
   },
   {
    "duration": 6,
    "start_time": "2023-10-12T17:01:04.965Z"
   },
   {
    "duration": 9,
    "start_time": "2023-10-12T17:01:05.161Z"
   },
   {
    "duration": 5,
    "start_time": "2023-10-12T17:01:05.877Z"
   },
   {
    "duration": 30,
    "start_time": "2023-10-12T17:01:05.907Z"
   },
   {
    "duration": 321,
    "start_time": "2023-10-12T17:01:05.941Z"
   },
   {
    "duration": 166,
    "start_time": "2023-10-12T17:01:06.264Z"
   },
   {
    "duration": 5,
    "start_time": "2023-10-12T17:01:06.432Z"
   },
   {
    "duration": 19,
    "start_time": "2023-10-12T17:01:06.440Z"
   },
   {
    "duration": 4,
    "start_time": "2023-10-12T17:01:06.482Z"
   },
   {
    "duration": 244,
    "start_time": "2023-10-12T17:01:06.488Z"
   },
   {
    "duration": 6,
    "start_time": "2023-10-12T17:01:06.734Z"
   },
   {
    "duration": 12,
    "start_time": "2023-10-12T17:01:06.742Z"
   },
   {
    "duration": 269,
    "start_time": "2023-10-12T17:01:06.756Z"
   },
   {
    "duration": 5,
    "start_time": "2023-10-12T17:01:07.029Z"
   },
   {
    "duration": 27,
    "start_time": "2023-10-12T17:01:07.036Z"
   },
   {
    "duration": 273,
    "start_time": "2023-10-12T17:01:07.065Z"
   },
   {
    "duration": 6,
    "start_time": "2023-10-12T17:01:07.340Z"
   },
   {
    "duration": 10,
    "start_time": "2023-10-12T17:01:07.348Z"
   },
   {
    "duration": 21,
    "start_time": "2023-10-12T17:01:07.360Z"
   },
   {
    "duration": 328,
    "start_time": "2023-10-12T17:01:07.404Z"
   },
   {
    "duration": 5,
    "start_time": "2023-10-12T17:01:07.734Z"
   },
   {
    "duration": 9,
    "start_time": "2023-10-12T17:01:09.434Z"
   },
   {
    "duration": 4,
    "start_time": "2023-10-12T17:01:09.701Z"
   },
   {
    "duration": 10,
    "start_time": "2023-10-12T17:01:10.210Z"
   },
   {
    "duration": 12,
    "start_time": "2023-10-12T17:01:10.240Z"
   },
   {
    "duration": 7,
    "start_time": "2023-10-12T17:04:29.095Z"
   },
   {
    "duration": 5,
    "start_time": "2023-10-12T17:04:38.268Z"
   },
   {
    "duration": 102,
    "start_time": "2023-10-12T17:04:56.780Z"
   },
   {
    "duration": 4,
    "start_time": "2023-10-12T17:04:59.355Z"
   },
   {
    "duration": 8,
    "start_time": "2023-10-12T17:05:08.696Z"
   },
   {
    "duration": 9,
    "start_time": "2023-10-12T17:05:17.352Z"
   },
   {
    "duration": 4,
    "start_time": "2023-10-12T17:05:30.761Z"
   },
   {
    "duration": 1210,
    "start_time": "2023-10-12T17:16:24.577Z"
   },
   {
    "duration": 40,
    "start_time": "2023-10-12T17:16:25.788Z"
   },
   {
    "duration": 75,
    "start_time": "2023-10-12T17:16:25.830Z"
   },
   {
    "duration": 37,
    "start_time": "2023-10-12T17:16:25.908Z"
   },
   {
    "duration": 23,
    "start_time": "2023-10-12T17:16:25.947Z"
   },
   {
    "duration": 35,
    "start_time": "2023-10-12T17:16:25.972Z"
   },
   {
    "duration": 46,
    "start_time": "2023-10-12T17:16:26.009Z"
   },
   {
    "duration": 47,
    "start_time": "2023-10-12T17:16:26.057Z"
   },
   {
    "duration": 33,
    "start_time": "2023-10-12T17:16:26.105Z"
   },
   {
    "duration": 32,
    "start_time": "2023-10-12T17:16:26.141Z"
   },
   {
    "duration": 30,
    "start_time": "2023-10-12T17:16:26.174Z"
   },
   {
    "duration": 35,
    "start_time": "2023-10-12T17:16:26.206Z"
   },
   {
    "duration": 21,
    "start_time": "2023-10-12T17:16:26.243Z"
   },
   {
    "duration": 31,
    "start_time": "2023-10-12T17:16:26.266Z"
   },
   {
    "duration": 43,
    "start_time": "2023-10-12T17:16:26.300Z"
   },
   {
    "duration": 22,
    "start_time": "2023-10-12T17:16:26.345Z"
   },
   {
    "duration": 36,
    "start_time": "2023-10-12T17:16:26.369Z"
   },
   {
    "duration": 30,
    "start_time": "2023-10-12T17:16:26.407Z"
   },
   {
    "duration": 40,
    "start_time": "2023-10-12T17:16:26.438Z"
   },
   {
    "duration": 329,
    "start_time": "2023-10-12T17:16:26.480Z"
   },
   {
    "duration": 150,
    "start_time": "2023-10-12T17:16:26.811Z"
   },
   {
    "duration": 5,
    "start_time": "2023-10-12T17:16:26.963Z"
   },
   {
    "duration": 40,
    "start_time": "2023-10-12T17:16:26.981Z"
   },
   {
    "duration": 21,
    "start_time": "2023-10-12T17:16:27.023Z"
   },
   {
    "duration": 239,
    "start_time": "2023-10-12T17:16:27.046Z"
   },
   {
    "duration": 5,
    "start_time": "2023-10-12T17:16:27.287Z"
   },
   {
    "duration": 29,
    "start_time": "2023-10-12T17:16:27.294Z"
   },
   {
    "duration": 262,
    "start_time": "2023-10-12T17:16:27.327Z"
   },
   {
    "duration": 5,
    "start_time": "2023-10-12T17:16:27.591Z"
   },
   {
    "duration": 42,
    "start_time": "2023-10-12T17:16:27.598Z"
   },
   {
    "duration": 269,
    "start_time": "2023-10-12T17:16:27.641Z"
   },
   {
    "duration": 6,
    "start_time": "2023-10-12T17:16:27.911Z"
   },
   {
    "duration": 53,
    "start_time": "2023-10-12T17:16:27.918Z"
   },
   {
    "duration": 24,
    "start_time": "2023-10-12T17:16:27.973Z"
   },
   {
    "duration": 368,
    "start_time": "2023-10-12T17:16:27.999Z"
   },
   {
    "duration": 4,
    "start_time": "2023-10-12T17:16:28.369Z"
   },
   {
    "duration": 38,
    "start_time": "2023-10-12T17:16:28.380Z"
   },
   {
    "duration": 37,
    "start_time": "2023-10-12T17:16:28.420Z"
   },
   {
    "duration": 34,
    "start_time": "2023-10-12T17:16:28.459Z"
   },
   {
    "duration": 57,
    "start_time": "2023-10-12T17:16:28.495Z"
   },
   {
    "duration": 49,
    "start_time": "2023-10-12T17:16:28.554Z"
   },
   {
    "duration": 31,
    "start_time": "2023-10-12T17:16:28.605Z"
   },
   {
    "duration": 509,
    "start_time": "2023-10-12T17:36:22.345Z"
   },
   {
    "duration": 510,
    "start_time": "2023-10-12T17:37:02.091Z"
   },
   {
    "duration": 585,
    "start_time": "2023-10-12T17:37:07.952Z"
   },
   {
    "duration": 488,
    "start_time": "2023-10-12T17:38:41.044Z"
   },
   {
    "duration": 9,
    "start_time": "2023-10-12T17:40:43.253Z"
   },
   {
    "duration": 8,
    "start_time": "2023-10-12T17:40:51.521Z"
   },
   {
    "duration": 7,
    "start_time": "2023-10-12T17:41:12.686Z"
   },
   {
    "duration": 7,
    "start_time": "2023-10-12T17:41:30.229Z"
   },
   {
    "duration": 6,
    "start_time": "2023-10-12T17:42:35.873Z"
   },
   {
    "duration": 7,
    "start_time": "2023-10-12T17:42:46.328Z"
   },
   {
    "duration": 6,
    "start_time": "2023-10-12T17:43:07.379Z"
   },
   {
    "duration": 6,
    "start_time": "2023-10-12T17:43:14.614Z"
   },
   {
    "duration": 5,
    "start_time": "2023-10-12T17:43:21.687Z"
   },
   {
    "duration": 5,
    "start_time": "2023-10-12T17:43:27.830Z"
   },
   {
    "duration": 5,
    "start_time": "2023-10-12T17:46:54.731Z"
   },
   {
    "duration": 5,
    "start_time": "2023-10-12T17:47:08.858Z"
   },
   {
    "duration": 53,
    "start_time": "2023-10-13T07:39:28.970Z"
   },
   {
    "duration": 1424,
    "start_time": "2023-10-13T07:39:55.608Z"
   },
   {
    "duration": 74,
    "start_time": "2023-10-13T07:39:57.034Z"
   },
   {
    "duration": 111,
    "start_time": "2023-10-13T07:39:57.110Z"
   },
   {
    "duration": 64,
    "start_time": "2023-10-13T07:39:57.223Z"
   },
   {
    "duration": 13,
    "start_time": "2023-10-13T07:39:57.290Z"
   },
   {
    "duration": 33,
    "start_time": "2023-10-13T07:39:57.305Z"
   },
   {
    "duration": 56,
    "start_time": "2023-10-13T07:39:57.339Z"
   },
   {
    "duration": 37,
    "start_time": "2023-10-13T07:39:57.397Z"
   },
   {
    "duration": 13,
    "start_time": "2023-10-13T07:39:57.436Z"
   },
   {
    "duration": 93,
    "start_time": "2023-10-13T07:39:57.450Z"
   },
   {
    "duration": 23,
    "start_time": "2023-10-13T07:39:57.545Z"
   },
   {
    "duration": 21,
    "start_time": "2023-10-13T07:39:57.570Z"
   },
   {
    "duration": 15,
    "start_time": "2023-10-13T07:39:57.593Z"
   },
   {
    "duration": 5,
    "start_time": "2023-10-13T07:39:57.611Z"
   },
   {
    "duration": 5,
    "start_time": "2023-10-13T07:39:57.618Z"
   },
   {
    "duration": 11,
    "start_time": "2023-10-13T07:39:57.624Z"
   },
   {
    "duration": 17,
    "start_time": "2023-10-13T07:39:57.637Z"
   },
   {
    "duration": 5,
    "start_time": "2023-10-13T07:39:57.656Z"
   },
   {
    "duration": 48,
    "start_time": "2023-10-13T07:39:57.662Z"
   },
   {
    "duration": 319,
    "start_time": "2023-10-13T07:39:57.711Z"
   },
   {
    "duration": 159,
    "start_time": "2023-10-13T07:39:58.032Z"
   },
   {
    "duration": 4,
    "start_time": "2023-10-13T07:39:58.193Z"
   },
   {
    "duration": 22,
    "start_time": "2023-10-13T07:39:58.207Z"
   },
   {
    "duration": 14,
    "start_time": "2023-10-13T07:39:58.230Z"
   },
   {
    "duration": 207,
    "start_time": "2023-10-13T07:39:58.245Z"
   },
   {
    "duration": 5,
    "start_time": "2023-10-13T07:39:58.453Z"
   },
   {
    "duration": 5,
    "start_time": "2023-10-13T07:39:58.459Z"
   },
   {
    "duration": 270,
    "start_time": "2023-10-13T07:39:58.465Z"
   },
   {
    "duration": 7,
    "start_time": "2023-10-13T07:39:58.737Z"
   },
   {
    "duration": 20,
    "start_time": "2023-10-13T07:39:58.746Z"
   },
   {
    "duration": 259,
    "start_time": "2023-10-13T07:39:58.768Z"
   },
   {
    "duration": 6,
    "start_time": "2023-10-13T07:39:59.028Z"
   },
   {
    "duration": 30,
    "start_time": "2023-10-13T07:39:59.035Z"
   },
   {
    "duration": 16,
    "start_time": "2023-10-13T07:39:59.067Z"
   },
   {
    "duration": 304,
    "start_time": "2023-10-13T07:39:59.084Z"
   },
   {
    "duration": 5,
    "start_time": "2023-10-13T07:39:59.390Z"
   },
   {
    "duration": 19,
    "start_time": "2023-10-13T07:39:59.396Z"
   },
   {
    "duration": 25,
    "start_time": "2023-10-13T07:39:59.417Z"
   },
   {
    "duration": 25,
    "start_time": "2023-10-13T07:39:59.443Z"
   },
   {
    "duration": 55,
    "start_time": "2023-10-13T07:39:59.470Z"
   },
   {
    "duration": 29,
    "start_time": "2023-10-13T07:39:59.528Z"
   },
   {
    "duration": 8,
    "start_time": "2023-10-13T07:39:59.558Z"
   },
   {
    "duration": 495,
    "start_time": "2023-10-13T07:39:59.567Z"
   },
   {
    "duration": 6,
    "start_time": "2023-10-13T07:40:00.063Z"
   },
   {
    "duration": 527,
    "start_time": "2023-10-13T07:40:00.071Z"
   },
   {
    "duration": 10,
    "start_time": "2023-10-13T07:40:00.600Z"
   },
   {
    "duration": 43,
    "start_time": "2023-10-13T07:40:00.612Z"
   },
   {
    "duration": 154,
    "start_time": "2023-10-13T07:40:00.656Z"
   },
   {
    "duration": 5,
    "start_time": "2023-10-13T07:40:18.706Z"
   },
   {
    "duration": 45,
    "start_time": "2023-10-13T07:40:19.112Z"
   },
   {
    "duration": 45,
    "start_time": "2023-10-13T07:42:57.958Z"
   },
   {
    "duration": 66,
    "start_time": "2023-10-13T07:43:18.047Z"
   },
   {
    "duration": 5,
    "start_time": "2023-10-13T07:43:43.190Z"
   },
   {
    "duration": 5,
    "start_time": "2023-10-13T07:44:10.677Z"
   },
   {
    "duration": 10,
    "start_time": "2023-10-13T07:44:45.355Z"
   },
   {
    "duration": 5,
    "start_time": "2023-10-13T07:46:12.025Z"
   },
   {
    "duration": 4,
    "start_time": "2023-10-13T07:46:22.371Z"
   },
   {
    "duration": 4,
    "start_time": "2023-10-13T07:48:02.997Z"
   },
   {
    "duration": 9,
    "start_time": "2023-10-13T07:48:12.434Z"
   },
   {
    "duration": 14,
    "start_time": "2023-10-13T07:48:17.648Z"
   },
   {
    "duration": 4,
    "start_time": "2023-10-13T07:48:46.218Z"
   },
   {
    "duration": 46,
    "start_time": "2023-10-13T07:48:46.842Z"
   },
   {
    "duration": 5,
    "start_time": "2023-10-13T07:48:54.530Z"
   },
   {
    "duration": 12,
    "start_time": "2023-10-13T07:48:56.550Z"
   },
   {
    "duration": 4,
    "start_time": "2023-10-13T07:49:10.311Z"
   },
   {
    "duration": 4,
    "start_time": "2023-10-13T08:16:08.024Z"
   },
   {
    "duration": 4,
    "start_time": "2023-10-13T08:16:17.431Z"
   },
   {
    "duration": 18,
    "start_time": "2023-10-13T08:20:54.754Z"
   },
   {
    "duration": 30,
    "start_time": "2023-10-13T08:24:37.314Z"
   },
   {
    "duration": 14,
    "start_time": "2023-10-13T08:24:53.053Z"
   },
   {
    "duration": 201,
    "start_time": "2023-10-13T08:31:13.225Z"
   },
   {
    "duration": 180,
    "start_time": "2023-10-13T08:31:18.123Z"
   },
   {
    "duration": 19,
    "start_time": "2023-10-13T08:32:42.983Z"
   },
   {
    "duration": 18,
    "start_time": "2023-10-13T08:32:57.576Z"
   },
   {
    "duration": 21,
    "start_time": "2023-10-13T08:33:16.533Z"
   },
   {
    "duration": 19,
    "start_time": "2023-10-13T08:33:26.295Z"
   },
   {
    "duration": 7,
    "start_time": "2023-10-13T08:40:07.757Z"
   },
   {
    "duration": 7,
    "start_time": "2023-10-13T08:40:48.866Z"
   },
   {
    "duration": 7,
    "start_time": "2023-10-13T08:41:40.902Z"
   },
   {
    "duration": 8,
    "start_time": "2023-10-13T08:42:13.340Z"
   },
   {
    "duration": 12,
    "start_time": "2023-10-13T08:49:04.535Z"
   },
   {
    "duration": 25,
    "start_time": "2023-10-13T08:54:46.606Z"
   },
   {
    "duration": 130,
    "start_time": "2023-10-13T09:08:29.680Z"
   },
   {
    "duration": 4,
    "start_time": "2023-10-13T09:08:42.331Z"
   },
   {
    "duration": 11,
    "start_time": "2023-10-13T09:08:48.098Z"
   },
   {
    "duration": 13,
    "start_time": "2023-10-13T09:09:39.321Z"
   },
   {
    "duration": 5,
    "start_time": "2023-10-13T09:13:09.288Z"
   },
   {
    "duration": 4,
    "start_time": "2023-10-13T09:14:13.803Z"
   },
   {
    "duration": 5,
    "start_time": "2023-10-13T09:14:24.125Z"
   },
   {
    "duration": 3,
    "start_time": "2023-10-13T09:14:35.562Z"
   },
   {
    "duration": 4,
    "start_time": "2023-10-13T09:44:30.265Z"
   },
   {
    "duration": 2141,
    "start_time": "2023-10-13T09:51:14.926Z"
   },
   {
    "duration": 1201,
    "start_time": "2023-10-13T09:51:33.072Z"
   },
   {
    "duration": 1088,
    "start_time": "2023-10-13T09:51:34.275Z"
   },
   {
    "duration": 395,
    "start_time": "2023-10-13T09:51:35.364Z"
   },
   {
    "duration": 80,
    "start_time": "2023-10-13T09:51:35.761Z"
   },
   {
    "duration": 16,
    "start_time": "2023-10-13T09:51:35.842Z"
   },
   {
    "duration": 48,
    "start_time": "2023-10-13T09:51:35.860Z"
   },
   {
    "duration": 48,
    "start_time": "2023-10-13T09:51:35.910Z"
   },
   {
    "duration": 57,
    "start_time": "2023-10-13T09:51:35.960Z"
   },
   {
    "duration": 61,
    "start_time": "2023-10-13T09:51:36.019Z"
   },
   {
    "duration": 87,
    "start_time": "2023-10-13T09:51:36.083Z"
   },
   {
    "duration": 89,
    "start_time": "2023-10-13T09:51:36.172Z"
   },
   {
    "duration": 59,
    "start_time": "2023-10-13T09:51:36.263Z"
   },
   {
    "duration": 17,
    "start_time": "2023-10-13T09:51:36.325Z"
   },
   {
    "duration": 19,
    "start_time": "2023-10-13T09:51:36.344Z"
   },
   {
    "duration": 29,
    "start_time": "2023-10-13T09:51:36.365Z"
   },
   {
    "duration": 29,
    "start_time": "2023-10-13T09:51:36.396Z"
   },
   {
    "duration": 15,
    "start_time": "2023-10-13T09:51:36.426Z"
   },
   {
    "duration": 23,
    "start_time": "2023-10-13T09:51:36.443Z"
   },
   {
    "duration": 41,
    "start_time": "2023-10-13T09:51:36.468Z"
   },
   {
    "duration": 335,
    "start_time": "2023-10-13T09:51:36.510Z"
   },
   {
    "duration": 182,
    "start_time": "2023-10-13T09:51:36.847Z"
   },
   {
    "duration": 6,
    "start_time": "2023-10-13T09:51:37.031Z"
   },
   {
    "duration": 30,
    "start_time": "2023-10-13T09:51:37.039Z"
   },
   {
    "duration": 7,
    "start_time": "2023-10-13T09:51:37.072Z"
   },
   {
    "duration": 378,
    "start_time": "2023-10-13T09:51:37.081Z"
   },
   {
    "duration": 6,
    "start_time": "2023-10-13T09:51:37.462Z"
   },
   {
    "duration": 10,
    "start_time": "2023-10-13T09:51:37.469Z"
   },
   {
    "duration": 293,
    "start_time": "2023-10-13T09:51:37.482Z"
   },
   {
    "duration": 7,
    "start_time": "2023-10-13T09:51:37.777Z"
   },
   {
    "duration": 31,
    "start_time": "2023-10-13T09:51:37.785Z"
   },
   {
    "duration": 303,
    "start_time": "2023-10-13T09:51:37.818Z"
   },
   {
    "duration": 6,
    "start_time": "2023-10-13T09:51:38.124Z"
   },
   {
    "duration": 17,
    "start_time": "2023-10-13T09:51:38.132Z"
   },
   {
    "duration": 7,
    "start_time": "2023-10-13T09:51:38.150Z"
   },
   {
    "duration": 340,
    "start_time": "2023-10-13T09:51:38.158Z"
   },
   {
    "duration": 9,
    "start_time": "2023-10-13T09:51:38.500Z"
   },
   {
    "duration": 29,
    "start_time": "2023-10-13T09:51:38.511Z"
   },
   {
    "duration": 13,
    "start_time": "2023-10-13T09:51:38.542Z"
   },
   {
    "duration": 27,
    "start_time": "2023-10-13T09:51:38.557Z"
   },
   {
    "duration": 35,
    "start_time": "2023-10-13T09:51:38.585Z"
   },
   {
    "duration": 23,
    "start_time": "2023-10-13T09:51:38.622Z"
   },
   {
    "duration": 7,
    "start_time": "2023-10-13T09:51:38.647Z"
   },
   {
    "duration": 537,
    "start_time": "2023-10-13T09:51:38.656Z"
   },
   {
    "duration": 13,
    "start_time": "2023-10-13T09:51:39.195Z"
   },
   {
    "duration": 533,
    "start_time": "2023-10-13T09:51:39.209Z"
   },
   {
    "duration": 6,
    "start_time": "2023-10-13T09:51:39.744Z"
   },
   {
    "duration": 12,
    "start_time": "2023-10-13T09:51:39.751Z"
   },
   {
    "duration": 30,
    "start_time": "2023-10-13T09:51:39.764Z"
   },
   {
    "duration": 10,
    "start_time": "2023-10-13T09:51:39.795Z"
   },
   {
    "duration": 95,
    "start_time": "2023-10-13T09:51:39.807Z"
   },
   {
    "duration": 20,
    "start_time": "2023-10-13T09:51:39.904Z"
   },
   {
    "duration": 40,
    "start_time": "2023-10-13T09:51:39.926Z"
   },
   {
    "duration": 32,
    "start_time": "2023-10-13T09:51:39.969Z"
   },
   {
    "duration": 253,
    "start_time": "2023-10-13T09:51:40.003Z"
   },
   {
    "duration": 7,
    "start_time": "2023-10-13T09:51:40.258Z"
   },
   {
    "duration": 55,
    "start_time": "2023-10-13T09:51:40.267Z"
   },
   {
    "duration": 18,
    "start_time": "2023-10-13T09:51:40.323Z"
   },
   {
    "duration": 33,
    "start_time": "2023-10-13T09:51:40.343Z"
   },
   {
    "duration": 20,
    "start_time": "2023-10-13T09:51:40.378Z"
   },
   {
    "duration": 33,
    "start_time": "2023-10-13T09:51:40.400Z"
   },
   {
    "duration": 38,
    "start_time": "2023-10-13T09:51:40.435Z"
   },
   {
    "duration": 51,
    "start_time": "2023-10-13T09:51:40.475Z"
   },
   {
    "duration": 2946,
    "start_time": "2023-10-13T09:51:40.528Z"
   },
   {
    "duration": 3,
    "start_time": "2023-10-13T09:52:09.791Z"
   },
   {
    "duration": 2002,
    "start_time": "2023-10-13T09:52:18.040Z"
   },
   {
    "duration": 1230,
    "start_time": "2023-10-13T09:53:39.593Z"
   },
   {
    "duration": 230,
    "start_time": "2023-10-13T09:53:40.826Z"
   },
   {
    "duration": 207,
    "start_time": "2023-10-13T09:53:41.057Z"
   },
   {
    "duration": 38,
    "start_time": "2023-10-13T09:53:41.266Z"
   },
   {
    "duration": 28,
    "start_time": "2023-10-13T09:53:41.306Z"
   },
   {
    "duration": 36,
    "start_time": "2023-10-13T09:53:41.336Z"
   },
   {
    "duration": 32,
    "start_time": "2023-10-13T09:53:41.373Z"
   },
   {
    "duration": 30,
    "start_time": "2023-10-13T09:53:41.409Z"
   },
   {
    "duration": 25,
    "start_time": "2023-10-13T09:53:41.440Z"
   },
   {
    "duration": 14,
    "start_time": "2023-10-13T09:53:41.467Z"
   },
   {
    "duration": 19,
    "start_time": "2023-10-13T09:53:41.483Z"
   },
   {
    "duration": 36,
    "start_time": "2023-10-13T09:53:41.504Z"
   },
   {
    "duration": 22,
    "start_time": "2023-10-13T09:53:41.542Z"
   },
   {
    "duration": 21,
    "start_time": "2023-10-13T09:53:41.567Z"
   },
   {
    "duration": 5,
    "start_time": "2023-10-13T09:53:41.590Z"
   },
   {
    "duration": 22,
    "start_time": "2023-10-13T09:53:41.597Z"
   },
   {
    "duration": 25,
    "start_time": "2023-10-13T09:53:41.621Z"
   },
   {
    "duration": 6,
    "start_time": "2023-10-13T09:53:41.647Z"
   },
   {
    "duration": 45,
    "start_time": "2023-10-13T09:53:41.655Z"
   },
   {
    "duration": 322,
    "start_time": "2023-10-13T09:53:41.702Z"
   },
   {
    "duration": 158,
    "start_time": "2023-10-13T09:53:42.026Z"
   },
   {
    "duration": 4,
    "start_time": "2023-10-13T09:53:42.186Z"
   },
   {
    "duration": 56,
    "start_time": "2023-10-13T09:53:42.192Z"
   },
   {
    "duration": 10,
    "start_time": "2023-10-13T09:53:42.249Z"
   },
   {
    "duration": 223,
    "start_time": "2023-10-13T09:53:42.261Z"
   },
   {
    "duration": 5,
    "start_time": "2023-10-13T09:53:42.486Z"
   },
   {
    "duration": 44,
    "start_time": "2023-10-13T09:53:42.492Z"
   },
   {
    "duration": 290,
    "start_time": "2023-10-13T09:53:42.538Z"
   },
   {
    "duration": 7,
    "start_time": "2023-10-13T09:53:42.829Z"
   },
   {
    "duration": 18,
    "start_time": "2023-10-13T09:53:42.838Z"
   },
   {
    "duration": 276,
    "start_time": "2023-10-13T09:53:42.857Z"
   },
   {
    "duration": 7,
    "start_time": "2023-10-13T09:53:43.135Z"
   },
   {
    "duration": 33,
    "start_time": "2023-10-13T09:53:43.144Z"
   },
   {
    "duration": 45,
    "start_time": "2023-10-13T09:53:43.179Z"
   },
   {
    "duration": 355,
    "start_time": "2023-10-13T09:53:43.226Z"
   },
   {
    "duration": 4,
    "start_time": "2023-10-13T09:53:43.582Z"
   },
   {
    "duration": 36,
    "start_time": "2023-10-13T09:53:43.587Z"
   },
   {
    "duration": 17,
    "start_time": "2023-10-13T09:53:43.625Z"
   },
   {
    "duration": 15,
    "start_time": "2023-10-13T09:53:43.644Z"
   },
   {
    "duration": 27,
    "start_time": "2023-10-13T09:53:43.661Z"
   },
   {
    "duration": 42,
    "start_time": "2023-10-13T09:53:43.692Z"
   },
   {
    "duration": 21,
    "start_time": "2023-10-13T09:53:43.735Z"
   },
   {
    "duration": 543,
    "start_time": "2023-10-13T09:53:43.757Z"
   },
   {
    "duration": 7,
    "start_time": "2023-10-13T09:53:44.307Z"
   },
   {
    "duration": 547,
    "start_time": "2023-10-13T09:53:44.317Z"
   },
   {
    "duration": 5,
    "start_time": "2023-10-13T09:53:44.866Z"
   },
   {
    "duration": 24,
    "start_time": "2023-10-13T09:53:44.872Z"
   },
   {
    "duration": 20,
    "start_time": "2023-10-13T09:53:44.907Z"
   },
   {
    "duration": 34,
    "start_time": "2023-10-13T09:53:44.928Z"
   },
   {
    "duration": 65,
    "start_time": "2023-10-13T09:53:44.963Z"
   },
   {
    "duration": 15,
    "start_time": "2023-10-13T09:53:45.030Z"
   },
   {
    "duration": 81,
    "start_time": "2023-10-13T09:53:45.047Z"
   },
   {
    "duration": 28,
    "start_time": "2023-10-13T09:53:45.130Z"
   },
   {
    "duration": 209,
    "start_time": "2023-10-13T09:53:45.160Z"
   },
   {
    "duration": 7,
    "start_time": "2023-10-13T09:53:45.371Z"
   },
   {
    "duration": 24,
    "start_time": "2023-10-13T09:53:45.380Z"
   },
   {
    "duration": 27,
    "start_time": "2023-10-13T09:53:45.405Z"
   },
   {
    "duration": 30,
    "start_time": "2023-10-13T09:53:45.434Z"
   },
   {
    "duration": 17,
    "start_time": "2023-10-13T09:53:45.467Z"
   },
   {
    "duration": 8,
    "start_time": "2023-10-13T09:53:45.486Z"
   },
   {
    "duration": 34,
    "start_time": "2023-10-13T09:53:45.496Z"
   },
   {
    "duration": 9,
    "start_time": "2023-10-13T09:53:45.532Z"
   },
   {
    "duration": 12,
    "start_time": "2023-10-13T09:53:45.543Z"
   },
   {
    "duration": 21,
    "start_time": "2023-10-13T09:53:45.556Z"
   },
   {
    "duration": 51,
    "start_time": "2023-10-13T09:54:13.201Z"
   },
   {
    "duration": 37,
    "start_time": "2023-10-13T09:54:21.249Z"
   },
   {
    "duration": 4,
    "start_time": "2023-10-13T09:54:23.871Z"
   },
   {
    "duration": 12,
    "start_time": "2023-10-13T09:54:24.027Z"
   },
   {
    "duration": 20,
    "start_time": "2023-10-13T09:54:24.799Z"
   },
   {
    "duration": 191,
    "start_time": "2023-10-13T09:54:24.985Z"
   },
   {
    "duration": 9,
    "start_time": "2023-10-13T09:54:25.879Z"
   },
   {
    "duration": 7,
    "start_time": "2023-10-13T09:54:26.033Z"
   },
   {
    "duration": 6,
    "start_time": "2023-10-13T09:54:26.188Z"
   },
   {
    "duration": 29,
    "start_time": "2023-10-13T09:54:26.647Z"
   },
   {
    "duration": 18,
    "start_time": "2023-10-13T09:54:26.951Z"
   },
   {
    "duration": 6,
    "start_time": "2023-10-13T09:54:27.119Z"
   },
   {
    "duration": 22,
    "start_time": "2023-10-13T09:54:27.277Z"
   },
   {
    "duration": 5,
    "start_time": "2023-10-13T09:54:27.445Z"
   },
   {
    "duration": 10,
    "start_time": "2023-10-13T09:54:27.617Z"
   },
   {
    "duration": 18,
    "start_time": "2023-10-13T09:54:27.784Z"
   },
   {
    "duration": 102,
    "start_time": "2023-10-13T10:50:39.453Z"
   },
   {
    "duration": 7,
    "start_time": "2023-10-13T10:50:52.868Z"
   },
   {
    "duration": 1638,
    "start_time": "2023-10-13T10:52:51.967Z"
   },
   {
    "duration": 1473,
    "start_time": "2023-10-13T10:52:57.843Z"
   },
   {
    "duration": 1667,
    "start_time": "2023-10-13T10:55:20.717Z"
   },
   {
    "duration": 1555,
    "start_time": "2023-10-13T10:55:28.037Z"
   },
   {
    "duration": 1688,
    "start_time": "2023-10-13T10:55:44.444Z"
   },
   {
    "duration": 7,
    "start_time": "2023-10-13T10:57:32.918Z"
   },
   {
    "duration": 332,
    "start_time": "2023-10-13T10:58:19.194Z"
   },
   {
    "duration": 1820,
    "start_time": "2023-10-13T10:58:31.115Z"
   },
   {
    "duration": 0,
    "start_time": "2023-10-13T11:04:19.664Z"
   },
   {
    "duration": 6,
    "start_time": "2023-10-13T11:04:25.781Z"
   },
   {
    "duration": 1792,
    "start_time": "2023-10-13T11:04:29.786Z"
   },
   {
    "duration": 1867,
    "start_time": "2023-10-13T11:04:34.601Z"
   },
   {
    "duration": 9,
    "start_time": "2023-10-13T11:05:24.243Z"
   },
   {
    "duration": 3,
    "start_time": "2023-10-13T11:05:32.246Z"
   },
   {
    "duration": 4,
    "start_time": "2023-10-13T11:05:37.062Z"
   },
   {
    "duration": 7,
    "start_time": "2023-10-13T11:06:03.510Z"
   },
   {
    "duration": 7,
    "start_time": "2023-10-13T11:08:16.514Z"
   },
   {
    "duration": 1274,
    "start_time": "2023-10-13T11:20:00.265Z"
   },
   {
    "duration": 88,
    "start_time": "2023-10-13T11:20:01.540Z"
   },
   {
    "duration": 274,
    "start_time": "2023-10-13T11:20:01.630Z"
   },
   {
    "duration": 70,
    "start_time": "2023-10-13T11:20:01.906Z"
   },
   {
    "duration": 50,
    "start_time": "2023-10-13T11:20:01.980Z"
   },
   {
    "duration": 71,
    "start_time": "2023-10-13T11:20:02.032Z"
   },
   {
    "duration": 72,
    "start_time": "2023-10-13T11:20:02.105Z"
   },
   {
    "duration": 147,
    "start_time": "2023-10-13T11:20:02.179Z"
   },
   {
    "duration": 98,
    "start_time": "2023-10-13T11:20:02.328Z"
   },
   {
    "duration": 149,
    "start_time": "2023-10-13T11:20:02.428Z"
   },
   {
    "duration": 47,
    "start_time": "2023-10-13T11:20:02.579Z"
   },
   {
    "duration": 31,
    "start_time": "2023-10-13T11:20:02.628Z"
   },
   {
    "duration": 40,
    "start_time": "2023-10-13T11:20:02.661Z"
   },
   {
    "duration": 53,
    "start_time": "2023-10-13T11:20:02.704Z"
   },
   {
    "duration": 57,
    "start_time": "2023-10-13T11:20:02.759Z"
   },
   {
    "duration": 44,
    "start_time": "2023-10-13T11:20:02.820Z"
   },
   {
    "duration": 96,
    "start_time": "2023-10-13T11:20:02.866Z"
   },
   {
    "duration": 87,
    "start_time": "2023-10-13T11:20:02.963Z"
   },
   {
    "duration": 81,
    "start_time": "2023-10-13T11:20:03.052Z"
   },
   {
    "duration": 339,
    "start_time": "2023-10-13T11:20:03.135Z"
   },
   {
    "duration": 163,
    "start_time": "2023-10-13T11:20:03.477Z"
   },
   {
    "duration": 4,
    "start_time": "2023-10-13T11:20:03.642Z"
   },
   {
    "duration": 45,
    "start_time": "2023-10-13T11:20:03.647Z"
   },
   {
    "duration": 6,
    "start_time": "2023-10-13T11:20:03.693Z"
   },
   {
    "duration": 237,
    "start_time": "2023-10-13T11:20:03.701Z"
   },
   {
    "duration": 4,
    "start_time": "2023-10-13T11:20:03.940Z"
   },
   {
    "duration": 11,
    "start_time": "2023-10-13T11:20:03.946Z"
   },
   {
    "duration": 278,
    "start_time": "2023-10-13T11:20:03.958Z"
   },
   {
    "duration": 6,
    "start_time": "2023-10-13T11:20:04.237Z"
   },
   {
    "duration": 50,
    "start_time": "2023-10-13T11:20:04.244Z"
   },
   {
    "duration": 286,
    "start_time": "2023-10-13T11:20:04.296Z"
   },
   {
    "duration": 6,
    "start_time": "2023-10-13T11:20:04.583Z"
   },
   {
    "duration": 31,
    "start_time": "2023-10-13T11:20:04.590Z"
   },
   {
    "duration": 16,
    "start_time": "2023-10-13T11:20:04.622Z"
   },
   {
    "duration": 360,
    "start_time": "2023-10-13T11:20:04.640Z"
   },
   {
    "duration": 9,
    "start_time": "2023-10-13T11:20:05.007Z"
   },
   {
    "duration": 26,
    "start_time": "2023-10-13T11:20:05.021Z"
   },
   {
    "duration": 28,
    "start_time": "2023-10-13T11:20:05.049Z"
   },
   {
    "duration": 5,
    "start_time": "2023-10-13T11:20:05.078Z"
   },
   {
    "duration": 22,
    "start_time": "2023-10-13T11:20:05.084Z"
   },
   {
    "duration": 25,
    "start_time": "2023-10-13T11:20:05.114Z"
   },
   {
    "duration": 9,
    "start_time": "2023-10-13T11:20:05.142Z"
   },
   {
    "duration": 537,
    "start_time": "2023-10-13T11:20:05.153Z"
   },
   {
    "duration": 5,
    "start_time": "2023-10-13T11:20:05.692Z"
   },
   {
    "duration": 616,
    "start_time": "2023-10-13T11:20:05.713Z"
   },
   {
    "duration": 6,
    "start_time": "2023-10-13T11:20:06.331Z"
   },
   {
    "duration": 26,
    "start_time": "2023-10-13T11:20:06.338Z"
   },
   {
    "duration": 34,
    "start_time": "2023-10-13T11:20:06.366Z"
   },
   {
    "duration": 35,
    "start_time": "2023-10-13T11:20:06.402Z"
   },
   {
    "duration": 89,
    "start_time": "2023-10-13T11:20:06.439Z"
   },
   {
    "duration": 5,
    "start_time": "2023-10-13T11:20:06.529Z"
   },
   {
    "duration": 38,
    "start_time": "2023-10-13T11:20:06.536Z"
   },
   {
    "duration": 42,
    "start_time": "2023-10-13T11:20:06.576Z"
   },
   {
    "duration": 212,
    "start_time": "2023-10-13T11:20:06.621Z"
   },
   {
    "duration": 8,
    "start_time": "2023-10-13T11:20:06.835Z"
   },
   {
    "duration": 46,
    "start_time": "2023-10-13T11:20:06.845Z"
   },
   {
    "duration": 27,
    "start_time": "2023-10-13T11:20:06.893Z"
   },
   {
    "duration": 32,
    "start_time": "2023-10-13T11:20:06.922Z"
   },
   {
    "duration": 17,
    "start_time": "2023-10-13T11:20:06.956Z"
   },
   {
    "duration": 16,
    "start_time": "2023-10-13T11:20:06.975Z"
   },
   {
    "duration": 30,
    "start_time": "2023-10-13T11:20:06.993Z"
   },
   {
    "duration": 29,
    "start_time": "2023-10-13T11:20:07.025Z"
   },
   {
    "duration": 26,
    "start_time": "2023-10-13T11:20:07.056Z"
   },
   {
    "duration": 1641,
    "start_time": "2023-10-13T11:20:07.084Z"
   },
   {
    "duration": 6,
    "start_time": "2023-10-13T11:20:08.726Z"
   },
   {
    "duration": 1712,
    "start_time": "2023-10-13T11:20:08.733Z"
   },
   {
    "duration": 4,
    "start_time": "2023-10-13T11:20:10.447Z"
   },
   {
    "duration": 32,
    "start_time": "2023-10-13T11:20:10.453Z"
   },
   {
    "duration": 1117,
    "start_time": "2023-10-13T12:05:47.494Z"
   },
   {
    "duration": 102,
    "start_time": "2023-10-13T12:05:48.613Z"
   },
   {
    "duration": 70,
    "start_time": "2023-10-13T12:05:48.717Z"
   },
   {
    "duration": 87,
    "start_time": "2023-10-13T12:05:48.789Z"
   },
   {
    "duration": 12,
    "start_time": "2023-10-13T12:05:48.878Z"
   },
   {
    "duration": 16,
    "start_time": "2023-10-13T12:05:48.891Z"
   },
   {
    "duration": 15,
    "start_time": "2023-10-13T12:05:48.909Z"
   },
   {
    "duration": 13,
    "start_time": "2023-10-13T12:05:48.926Z"
   },
   {
    "duration": 6,
    "start_time": "2023-10-13T12:05:48.941Z"
   },
   {
    "duration": 7,
    "start_time": "2023-10-13T12:05:48.951Z"
   },
   {
    "duration": 24,
    "start_time": "2023-10-13T12:05:48.959Z"
   },
   {
    "duration": 11,
    "start_time": "2023-10-13T12:05:48.985Z"
   },
   {
    "duration": 27,
    "start_time": "2023-10-13T12:05:48.998Z"
   },
   {
    "duration": 14,
    "start_time": "2023-10-13T12:05:49.026Z"
   },
   {
    "duration": 7,
    "start_time": "2023-10-13T12:05:49.042Z"
   },
   {
    "duration": 15,
    "start_time": "2023-10-13T12:05:49.051Z"
   },
   {
    "duration": 8,
    "start_time": "2023-10-13T12:05:49.067Z"
   },
   {
    "duration": 7,
    "start_time": "2023-10-13T12:05:49.076Z"
   },
   {
    "duration": 45,
    "start_time": "2023-10-13T12:05:49.085Z"
   },
   {
    "duration": 315,
    "start_time": "2023-10-13T12:05:49.132Z"
   },
   {
    "duration": 162,
    "start_time": "2023-10-13T12:05:49.449Z"
   },
   {
    "duration": 5,
    "start_time": "2023-10-13T12:05:49.613Z"
   },
   {
    "duration": 30,
    "start_time": "2023-10-13T12:05:49.620Z"
   },
   {
    "duration": 5,
    "start_time": "2023-10-13T12:05:49.651Z"
   },
   {
    "duration": 229,
    "start_time": "2023-10-13T12:05:49.657Z"
   },
   {
    "duration": 6,
    "start_time": "2023-10-13T12:05:49.888Z"
   },
   {
    "duration": 9,
    "start_time": "2023-10-13T12:05:49.895Z"
   },
   {
    "duration": 287,
    "start_time": "2023-10-13T12:05:49.908Z"
   },
   {
    "duration": 6,
    "start_time": "2023-10-13T12:05:50.197Z"
   },
   {
    "duration": 55,
    "start_time": "2023-10-13T12:05:50.205Z"
   },
   {
    "duration": 269,
    "start_time": "2023-10-13T12:05:50.261Z"
   },
   {
    "duration": 13,
    "start_time": "2023-10-13T12:05:50.532Z"
   },
   {
    "duration": 17,
    "start_time": "2023-10-13T12:05:50.547Z"
   },
   {
    "duration": 20,
    "start_time": "2023-10-13T12:05:50.566Z"
   },
   {
    "duration": 363,
    "start_time": "2023-10-13T12:05:50.588Z"
   },
   {
    "duration": 4,
    "start_time": "2023-10-13T12:05:50.952Z"
   },
   {
    "duration": 27,
    "start_time": "2023-10-13T12:05:50.958Z"
   },
   {
    "duration": 15,
    "start_time": "2023-10-13T12:05:50.986Z"
   },
   {
    "duration": 18,
    "start_time": "2023-10-13T12:05:51.002Z"
   },
   {
    "duration": 40,
    "start_time": "2023-10-13T12:05:51.022Z"
   },
   {
    "duration": 30,
    "start_time": "2023-10-13T12:05:51.064Z"
   },
   {
    "duration": 12,
    "start_time": "2023-10-13T12:05:51.095Z"
   },
   {
    "duration": 530,
    "start_time": "2023-10-13T12:05:51.108Z"
   },
   {
    "duration": 7,
    "start_time": "2023-10-13T12:05:51.643Z"
   },
   {
    "duration": 536,
    "start_time": "2023-10-13T12:05:51.652Z"
   },
   {
    "duration": 6,
    "start_time": "2023-10-13T12:05:52.189Z"
   },
   {
    "duration": 30,
    "start_time": "2023-10-13T12:05:52.197Z"
   },
   {
    "duration": 30,
    "start_time": "2023-10-13T12:05:52.229Z"
   },
   {
    "duration": 21,
    "start_time": "2023-10-13T12:05:52.261Z"
   },
   {
    "duration": 56,
    "start_time": "2023-10-13T12:05:52.283Z"
   },
   {
    "duration": 5,
    "start_time": "2023-10-13T12:05:52.341Z"
   },
   {
    "duration": 29,
    "start_time": "2023-10-13T12:05:52.348Z"
   },
   {
    "duration": 15,
    "start_time": "2023-10-13T12:05:52.380Z"
   },
   {
    "duration": 188,
    "start_time": "2023-10-13T12:05:52.396Z"
   },
   {
    "duration": 6,
    "start_time": "2023-10-13T12:05:52.586Z"
   },
   {
    "duration": 15,
    "start_time": "2023-10-13T12:05:52.594Z"
   },
   {
    "duration": 22,
    "start_time": "2023-10-13T12:05:52.610Z"
   },
   {
    "duration": 36,
    "start_time": "2023-10-13T12:05:52.634Z"
   },
   {
    "duration": 16,
    "start_time": "2023-10-13T12:05:52.672Z"
   },
   {
    "duration": 4,
    "start_time": "2023-10-13T12:05:52.689Z"
   },
   {
    "duration": 28,
    "start_time": "2023-10-13T12:05:52.695Z"
   },
   {
    "duration": 22,
    "start_time": "2023-10-13T12:05:52.725Z"
   },
   {
    "duration": 13,
    "start_time": "2023-10-13T12:05:52.749Z"
   },
   {
    "duration": 1667,
    "start_time": "2023-10-13T12:05:52.764Z"
   },
   {
    "duration": 11,
    "start_time": "2023-10-13T12:05:54.434Z"
   },
   {
    "duration": 1677,
    "start_time": "2023-10-13T12:05:54.447Z"
   },
   {
    "duration": 4,
    "start_time": "2023-10-13T12:05:56.126Z"
   },
   {
    "duration": 17,
    "start_time": "2023-10-13T12:05:56.131Z"
   },
   {
    "duration": 1176,
    "start_time": "2023-10-13T12:19:07.899Z"
   },
   {
    "duration": 62,
    "start_time": "2023-10-13T12:19:09.077Z"
   },
   {
    "duration": 71,
    "start_time": "2023-10-13T12:19:09.141Z"
   },
   {
    "duration": 44,
    "start_time": "2023-10-13T12:19:09.214Z"
   },
   {
    "duration": 13,
    "start_time": "2023-10-13T12:19:09.260Z"
   },
   {
    "duration": 20,
    "start_time": "2023-10-13T12:19:09.275Z"
   },
   {
    "duration": 22,
    "start_time": "2023-10-13T12:19:09.297Z"
   },
   {
    "duration": 25,
    "start_time": "2023-10-13T12:19:09.321Z"
   },
   {
    "duration": 46,
    "start_time": "2023-10-13T12:19:09.348Z"
   },
   {
    "duration": 40,
    "start_time": "2023-10-13T12:19:09.395Z"
   },
   {
    "duration": 32,
    "start_time": "2023-10-13T12:19:09.437Z"
   },
   {
    "duration": 31,
    "start_time": "2023-10-13T12:19:09.470Z"
   },
   {
    "duration": 21,
    "start_time": "2023-10-13T12:19:09.503Z"
   },
   {
    "duration": 9,
    "start_time": "2023-10-13T12:19:09.527Z"
   },
   {
    "duration": 7,
    "start_time": "2023-10-13T12:19:09.538Z"
   },
   {
    "duration": 14,
    "start_time": "2023-10-13T12:19:09.546Z"
   },
   {
    "duration": 17,
    "start_time": "2023-10-13T12:19:09.562Z"
   },
   {
    "duration": 6,
    "start_time": "2023-10-13T12:19:09.581Z"
   },
   {
    "duration": 31,
    "start_time": "2023-10-13T12:19:09.589Z"
   },
   {
    "duration": 322,
    "start_time": "2023-10-13T12:19:09.622Z"
   },
   {
    "duration": 168,
    "start_time": "2023-10-13T12:19:09.946Z"
   },
   {
    "duration": 5,
    "start_time": "2023-10-13T12:19:10.117Z"
   },
   {
    "duration": 36,
    "start_time": "2023-10-13T12:19:10.124Z"
   },
   {
    "duration": 6,
    "start_time": "2023-10-13T12:19:10.161Z"
   },
   {
    "duration": 249,
    "start_time": "2023-10-13T12:19:10.169Z"
   },
   {
    "duration": 5,
    "start_time": "2023-10-13T12:19:10.420Z"
   },
   {
    "duration": 25,
    "start_time": "2023-10-13T12:19:10.427Z"
   },
   {
    "duration": 284,
    "start_time": "2023-10-13T12:19:10.454Z"
   },
   {
    "duration": 10,
    "start_time": "2023-10-13T12:19:10.739Z"
   },
   {
    "duration": 32,
    "start_time": "2023-10-13T12:19:10.751Z"
   },
   {
    "duration": 322,
    "start_time": "2023-10-13T12:19:10.785Z"
   },
   {
    "duration": 6,
    "start_time": "2023-10-13T12:19:11.108Z"
   },
   {
    "duration": 18,
    "start_time": "2023-10-13T12:19:11.116Z"
   },
   {
    "duration": 21,
    "start_time": "2023-10-13T12:19:11.135Z"
   },
   {
    "duration": 365,
    "start_time": "2023-10-13T12:19:11.158Z"
   },
   {
    "duration": 4,
    "start_time": "2023-10-13T12:19:11.525Z"
   },
   {
    "duration": 33,
    "start_time": "2023-10-13T12:19:11.530Z"
   },
   {
    "duration": 14,
    "start_time": "2023-10-13T12:19:11.565Z"
   },
   {
    "duration": 25,
    "start_time": "2023-10-13T12:19:11.580Z"
   },
   {
    "duration": 60,
    "start_time": "2023-10-13T12:19:11.606Z"
   },
   {
    "duration": 43,
    "start_time": "2023-10-13T12:19:11.671Z"
   },
   {
    "duration": 14,
    "start_time": "2023-10-13T12:19:11.715Z"
   },
   {
    "duration": 549,
    "start_time": "2023-10-13T12:19:11.731Z"
   },
   {
    "duration": 6,
    "start_time": "2023-10-13T12:19:12.282Z"
   },
   {
    "duration": 563,
    "start_time": "2023-10-13T12:19:12.290Z"
   },
   {
    "duration": 7,
    "start_time": "2023-10-13T12:19:12.854Z"
   },
   {
    "duration": 39,
    "start_time": "2023-10-13T12:19:12.862Z"
   },
   {
    "duration": 11,
    "start_time": "2023-10-13T12:19:12.903Z"
   },
   {
    "duration": 69,
    "start_time": "2023-10-13T12:19:12.916Z"
   },
   {
    "duration": 77,
    "start_time": "2023-10-13T12:19:12.987Z"
   },
   {
    "duration": 5,
    "start_time": "2023-10-13T12:19:13.066Z"
   },
   {
    "duration": 66,
    "start_time": "2023-10-13T12:19:13.073Z"
   },
   {
    "duration": 72,
    "start_time": "2023-10-13T12:19:13.141Z"
   },
   {
    "duration": 192,
    "start_time": "2023-10-13T12:19:13.215Z"
   },
   {
    "duration": 6,
    "start_time": "2023-10-13T12:19:13.409Z"
   },
   {
    "duration": 36,
    "start_time": "2023-10-13T12:19:13.416Z"
   },
   {
    "duration": 28,
    "start_time": "2023-10-13T12:19:13.454Z"
   },
   {
    "duration": 34,
    "start_time": "2023-10-13T12:19:13.484Z"
   },
   {
    "duration": 28,
    "start_time": "2023-10-13T12:19:13.520Z"
   },
   {
    "duration": 8,
    "start_time": "2023-10-13T12:19:13.550Z"
   },
   {
    "duration": 35,
    "start_time": "2023-10-13T12:19:13.559Z"
   },
   {
    "duration": 23,
    "start_time": "2023-10-13T12:19:13.596Z"
   },
   {
    "duration": 18,
    "start_time": "2023-10-13T12:19:13.621Z"
   },
   {
    "duration": 1254,
    "start_time": "2023-10-13T12:19:17.976Z"
   },
   {
    "duration": 51,
    "start_time": "2023-10-13T12:19:19.232Z"
   },
   {
    "duration": 58,
    "start_time": "2023-10-13T12:19:19.285Z"
   },
   {
    "duration": 84,
    "start_time": "2023-10-13T12:19:19.345Z"
   },
   {
    "duration": 13,
    "start_time": "2023-10-13T12:19:19.431Z"
   },
   {
    "duration": 16,
    "start_time": "2023-10-13T12:19:19.446Z"
   },
   {
    "duration": 30,
    "start_time": "2023-10-13T12:19:19.463Z"
   },
   {
    "duration": 35,
    "start_time": "2023-10-13T12:19:19.495Z"
   },
   {
    "duration": 42,
    "start_time": "2023-10-13T12:19:19.532Z"
   },
   {
    "duration": 23,
    "start_time": "2023-10-13T12:19:19.576Z"
   },
   {
    "duration": 196,
    "start_time": "2023-10-13T12:19:19.601Z"
   },
   {
    "duration": 379,
    "start_time": "2023-10-13T12:19:19.799Z"
   },
   {
    "duration": 20,
    "start_time": "2023-10-13T12:19:20.179Z"
   },
   {
    "duration": 23,
    "start_time": "2023-10-13T12:19:20.202Z"
   },
   {
    "duration": 6,
    "start_time": "2023-10-13T12:19:20.227Z"
   },
   {
    "duration": 35,
    "start_time": "2023-10-13T12:19:20.234Z"
   },
   {
    "duration": 17,
    "start_time": "2023-10-13T12:19:20.271Z"
   },
   {
    "duration": 10,
    "start_time": "2023-10-13T12:19:20.290Z"
   },
   {
    "duration": 24,
    "start_time": "2023-10-13T12:19:20.302Z"
   },
   {
    "duration": 324,
    "start_time": "2023-10-13T12:19:20.329Z"
   },
   {
    "duration": 165,
    "start_time": "2023-10-13T12:19:20.654Z"
   },
   {
    "duration": 4,
    "start_time": "2023-10-13T12:19:20.821Z"
   },
   {
    "duration": 53,
    "start_time": "2023-10-13T12:19:20.827Z"
   },
   {
    "duration": 25,
    "start_time": "2023-10-13T12:19:20.881Z"
   },
   {
    "duration": 258,
    "start_time": "2023-10-13T12:19:20.907Z"
   },
   {
    "duration": 5,
    "start_time": "2023-10-13T12:19:21.166Z"
   },
   {
    "duration": 47,
    "start_time": "2023-10-13T12:19:21.173Z"
   },
   {
    "duration": 308,
    "start_time": "2023-10-13T12:19:21.221Z"
   },
   {
    "duration": 13,
    "start_time": "2023-10-13T12:19:21.531Z"
   },
   {
    "duration": 16,
    "start_time": "2023-10-13T12:19:21.546Z"
   },
   {
    "duration": 280,
    "start_time": "2023-10-13T12:19:21.564Z"
   },
   {
    "duration": 6,
    "start_time": "2023-10-13T12:19:21.846Z"
   },
   {
    "duration": 33,
    "start_time": "2023-10-13T12:19:21.853Z"
   },
   {
    "duration": 11,
    "start_time": "2023-10-13T12:19:21.887Z"
   },
   {
    "duration": 349,
    "start_time": "2023-10-13T12:19:21.900Z"
   },
   {
    "duration": 3,
    "start_time": "2023-10-13T12:19:22.251Z"
   },
   {
    "duration": 33,
    "start_time": "2023-10-13T12:19:22.256Z"
   },
   {
    "duration": 21,
    "start_time": "2023-10-13T12:19:22.291Z"
   },
   {
    "duration": 14,
    "start_time": "2023-10-13T12:19:22.314Z"
   },
   {
    "duration": 25,
    "start_time": "2023-10-13T12:19:22.332Z"
   },
   {
    "duration": 18,
    "start_time": "2023-10-13T12:19:22.362Z"
   },
   {
    "duration": 14,
    "start_time": "2023-10-13T12:19:22.382Z"
   },
   {
    "duration": 531,
    "start_time": "2023-10-13T12:19:22.398Z"
   },
   {
    "duration": 17,
    "start_time": "2023-10-13T12:19:22.930Z"
   },
   {
    "duration": 548,
    "start_time": "2023-10-13T12:19:22.949Z"
   },
   {
    "duration": 6,
    "start_time": "2023-10-13T12:19:23.498Z"
   },
   {
    "duration": 21,
    "start_time": "2023-10-13T12:19:23.505Z"
   },
   {
    "duration": 23,
    "start_time": "2023-10-13T12:19:23.528Z"
   },
   {
    "duration": 7,
    "start_time": "2023-10-13T12:19:23.553Z"
   },
   {
    "duration": 55,
    "start_time": "2023-10-13T12:19:23.562Z"
   },
   {
    "duration": 5,
    "start_time": "2023-10-13T12:19:23.620Z"
   },
   {
    "duration": 30,
    "start_time": "2023-10-13T12:19:23.627Z"
   },
   {
    "duration": 31,
    "start_time": "2023-10-13T12:19:23.659Z"
   },
   {
    "duration": 190,
    "start_time": "2023-10-13T12:19:23.692Z"
   },
   {
    "duration": 7,
    "start_time": "2023-10-13T12:19:23.885Z"
   },
   {
    "duration": 23,
    "start_time": "2023-10-13T12:19:23.894Z"
   },
   {
    "duration": 16,
    "start_time": "2023-10-13T12:19:23.920Z"
   },
   {
    "duration": 35,
    "start_time": "2023-10-13T12:19:23.938Z"
   },
   {
    "duration": 16,
    "start_time": "2023-10-13T12:19:23.976Z"
   },
   {
    "duration": 5,
    "start_time": "2023-10-13T12:19:23.993Z"
   },
   {
    "duration": 44,
    "start_time": "2023-10-13T12:19:23.999Z"
   },
   {
    "duration": 17,
    "start_time": "2023-10-13T12:19:24.045Z"
   },
   {
    "duration": 25,
    "start_time": "2023-10-13T12:19:24.064Z"
   },
   {
    "duration": 1632,
    "start_time": "2023-10-13T12:19:24.091Z"
   },
   {
    "duration": 6,
    "start_time": "2023-10-13T12:19:25.726Z"
   },
   {
    "duration": 1755,
    "start_time": "2023-10-13T12:19:25.745Z"
   },
   {
    "duration": 5,
    "start_time": "2023-10-13T12:19:27.502Z"
   },
   {
    "duration": 121,
    "start_time": "2023-10-13T12:19:27.509Z"
   },
   {
    "duration": 10,
    "start_time": "2023-10-13T12:28:30.688Z"
   },
   {
    "duration": 5,
    "start_time": "2023-10-13T12:31:25.741Z"
   },
   {
    "duration": 12,
    "start_time": "2023-10-13T12:31:38.037Z"
   },
   {
    "duration": 1190,
    "start_time": "2023-10-13T12:35:16.495Z"
   },
   {
    "duration": 63,
    "start_time": "2023-10-13T12:35:17.687Z"
   },
   {
    "duration": 84,
    "start_time": "2023-10-13T12:35:17.752Z"
   },
   {
    "duration": 41,
    "start_time": "2023-10-13T12:35:17.838Z"
   },
   {
    "duration": 13,
    "start_time": "2023-10-13T12:35:17.882Z"
   },
   {
    "duration": 30,
    "start_time": "2023-10-13T12:35:17.896Z"
   },
   {
    "duration": 25,
    "start_time": "2023-10-13T12:35:17.927Z"
   },
   {
    "duration": 36,
    "start_time": "2023-10-13T12:35:17.954Z"
   },
   {
    "duration": 7,
    "start_time": "2023-10-13T12:35:17.992Z"
   },
   {
    "duration": 17,
    "start_time": "2023-10-13T12:35:18.001Z"
   },
   {
    "duration": 42,
    "start_time": "2023-10-13T12:35:18.020Z"
   },
   {
    "duration": 15,
    "start_time": "2023-10-13T12:35:18.064Z"
   },
   {
    "duration": 7,
    "start_time": "2023-10-13T12:35:18.081Z"
   },
   {
    "duration": 15,
    "start_time": "2023-10-13T12:35:18.091Z"
   },
   {
    "duration": 73,
    "start_time": "2023-10-13T12:35:18.107Z"
   },
   {
    "duration": 10,
    "start_time": "2023-10-13T12:35:18.182Z"
   },
   {
    "duration": 14,
    "start_time": "2023-10-13T12:35:18.193Z"
   },
   {
    "duration": 4,
    "start_time": "2023-10-13T12:35:18.208Z"
   },
   {
    "duration": 25,
    "start_time": "2023-10-13T12:35:18.214Z"
   },
   {
    "duration": 316,
    "start_time": "2023-10-13T12:35:18.241Z"
   },
   {
    "duration": 159,
    "start_time": "2023-10-13T12:35:18.559Z"
   },
   {
    "duration": 5,
    "start_time": "2023-10-13T12:35:18.719Z"
   },
   {
    "duration": 33,
    "start_time": "2023-10-13T12:35:18.726Z"
   },
   {
    "duration": 23,
    "start_time": "2023-10-13T12:35:18.761Z"
   },
   {
    "duration": 237,
    "start_time": "2023-10-13T12:35:18.786Z"
   },
   {
    "duration": 5,
    "start_time": "2023-10-13T12:35:19.025Z"
   },
   {
    "duration": 16,
    "start_time": "2023-10-13T12:35:19.031Z"
   },
   {
    "duration": 278,
    "start_time": "2023-10-13T12:35:19.049Z"
   },
   {
    "duration": 7,
    "start_time": "2023-10-13T12:35:19.329Z"
   },
   {
    "duration": 34,
    "start_time": "2023-10-13T12:35:19.344Z"
   },
   {
    "duration": 264,
    "start_time": "2023-10-13T12:35:19.380Z"
   },
   {
    "duration": 6,
    "start_time": "2023-10-13T12:35:19.645Z"
   },
   {
    "duration": 26,
    "start_time": "2023-10-13T12:35:19.653Z"
   },
   {
    "duration": 13,
    "start_time": "2023-10-13T12:35:19.682Z"
   },
   {
    "duration": 372,
    "start_time": "2023-10-13T12:35:19.696Z"
   },
   {
    "duration": 4,
    "start_time": "2023-10-13T12:35:20.071Z"
   },
   {
    "duration": 42,
    "start_time": "2023-10-13T12:35:20.077Z"
   },
   {
    "duration": 31,
    "start_time": "2023-10-13T12:35:20.121Z"
   },
   {
    "duration": 32,
    "start_time": "2023-10-13T12:35:20.154Z"
   },
   {
    "duration": 39,
    "start_time": "2023-10-13T12:35:20.188Z"
   },
   {
    "duration": 21,
    "start_time": "2023-10-13T12:35:20.233Z"
   },
   {
    "duration": 19,
    "start_time": "2023-10-13T12:35:20.255Z"
   },
   {
    "duration": 549,
    "start_time": "2023-10-13T12:35:20.276Z"
   },
   {
    "duration": 19,
    "start_time": "2023-10-13T12:35:20.827Z"
   },
   {
    "duration": 568,
    "start_time": "2023-10-13T12:35:20.847Z"
   },
   {
    "duration": 6,
    "start_time": "2023-10-13T12:35:21.417Z"
   },
   {
    "duration": 6,
    "start_time": "2023-10-13T12:35:21.444Z"
   },
   {
    "duration": 12,
    "start_time": "2023-10-13T12:35:21.451Z"
   },
   {
    "duration": 14,
    "start_time": "2023-10-13T12:35:21.465Z"
   },
   {
    "duration": 43,
    "start_time": "2023-10-13T12:35:21.481Z"
   },
   {
    "duration": 4,
    "start_time": "2023-10-13T12:35:21.526Z"
   },
   {
    "duration": 21,
    "start_time": "2023-10-13T12:35:21.532Z"
   },
   {
    "duration": 16,
    "start_time": "2023-10-13T12:35:21.555Z"
   },
   {
    "duration": 206,
    "start_time": "2023-10-13T12:35:21.573Z"
   },
   {
    "duration": 6,
    "start_time": "2023-10-13T12:35:21.780Z"
   },
   {
    "duration": 18,
    "start_time": "2023-10-13T12:35:21.788Z"
   },
   {
    "duration": 15,
    "start_time": "2023-10-13T12:35:21.808Z"
   },
   {
    "duration": 53,
    "start_time": "2023-10-13T12:35:21.824Z"
   },
   {
    "duration": 25,
    "start_time": "2023-10-13T12:35:21.878Z"
   },
   {
    "duration": 4,
    "start_time": "2023-10-13T12:35:21.905Z"
   },
   {
    "duration": 24,
    "start_time": "2023-10-13T12:35:21.910Z"
   },
   {
    "duration": 11,
    "start_time": "2023-10-13T12:35:21.936Z"
   },
   {
    "duration": 19,
    "start_time": "2023-10-13T12:35:21.949Z"
   },
   {
    "duration": 1526,
    "start_time": "2023-10-13T12:35:21.970Z"
   },
   {
    "duration": 6,
    "start_time": "2023-10-13T12:35:23.498Z"
   },
   {
    "duration": 1768,
    "start_time": "2023-10-13T12:35:23.505Z"
   },
   {
    "duration": 3,
    "start_time": "2023-10-13T12:35:25.275Z"
   },
   {
    "duration": 141,
    "start_time": "2023-10-13T12:35:25.280Z"
   },
   {
    "duration": 0,
    "start_time": "2023-10-13T12:35:25.423Z"
   },
   {
    "duration": 3,
    "start_time": "2023-10-13T12:36:03.218Z"
   },
   {
    "duration": 1648,
    "start_time": "2023-10-13T12:36:05.305Z"
   },
   {
    "duration": 684,
    "start_time": "2023-10-13T12:36:09.834Z"
   },
   {
    "duration": 4,
    "start_time": "2023-10-13T12:36:50.145Z"
   },
   {
    "duration": 4,
    "start_time": "2023-10-13T12:36:54.346Z"
   },
   {
    "duration": 4,
    "start_time": "2023-10-13T12:36:58.174Z"
   },
   {
    "duration": 9,
    "start_time": "2023-10-13T12:37:47.068Z"
   },
   {
    "duration": 5,
    "start_time": "2023-10-13T12:37:57.381Z"
   },
   {
    "duration": 5,
    "start_time": "2023-10-13T12:38:01.223Z"
   },
   {
    "duration": 3,
    "start_time": "2023-10-13T12:38:55.864Z"
   },
   {
    "duration": 4,
    "start_time": "2023-10-13T12:38:56.182Z"
   },
   {
    "duration": 3,
    "start_time": "2023-10-13T12:40:48.245Z"
   },
   {
    "duration": 4,
    "start_time": "2023-10-13T12:40:51.323Z"
   },
   {
    "duration": 5,
    "start_time": "2023-10-13T12:41:11.507Z"
   },
   {
    "duration": 5,
    "start_time": "2023-10-13T12:41:16.151Z"
   },
   {
    "duration": 54,
    "start_time": "2023-10-13T14:01:01.814Z"
   },
   {
    "duration": 1457,
    "start_time": "2023-10-13T14:01:09.797Z"
   },
   {
    "duration": 45,
    "start_time": "2023-10-13T14:01:11.257Z"
   },
   {
    "duration": 124,
    "start_time": "2023-10-13T14:01:11.303Z"
   },
   {
    "duration": 38,
    "start_time": "2023-10-13T14:01:11.430Z"
   },
   {
    "duration": 15,
    "start_time": "2023-10-13T14:01:11.469Z"
   },
   {
    "duration": 14,
    "start_time": "2023-10-13T14:01:11.485Z"
   },
   {
    "duration": 12,
    "start_time": "2023-10-13T14:01:11.501Z"
   },
   {
    "duration": 37,
    "start_time": "2023-10-13T14:01:11.515Z"
   },
   {
    "duration": 41,
    "start_time": "2023-10-13T14:01:11.554Z"
   },
   {
    "duration": 21,
    "start_time": "2023-10-13T14:01:11.599Z"
   },
   {
    "duration": 14,
    "start_time": "2023-10-13T14:01:11.622Z"
   },
   {
    "duration": 16,
    "start_time": "2023-10-13T14:01:11.638Z"
   },
   {
    "duration": 14,
    "start_time": "2023-10-13T14:01:11.656Z"
   },
   {
    "duration": 9,
    "start_time": "2023-10-13T14:01:11.672Z"
   },
   {
    "duration": 10,
    "start_time": "2023-10-13T14:01:11.682Z"
   },
   {
    "duration": 11,
    "start_time": "2023-10-13T14:01:11.693Z"
   },
   {
    "duration": 14,
    "start_time": "2023-10-13T14:01:11.706Z"
   },
   {
    "duration": 6,
    "start_time": "2023-10-13T14:01:11.722Z"
   },
   {
    "duration": 43,
    "start_time": "2023-10-13T14:01:11.747Z"
   },
   {
    "duration": 400,
    "start_time": "2023-10-13T14:01:11.792Z"
   },
   {
    "duration": 182,
    "start_time": "2023-10-13T14:01:12.194Z"
   },
   {
    "duration": 4,
    "start_time": "2023-10-13T14:01:12.378Z"
   },
   {
    "duration": 20,
    "start_time": "2023-10-13T14:01:12.384Z"
   },
   {
    "duration": 5,
    "start_time": "2023-10-13T14:01:12.406Z"
   },
   {
    "duration": 265,
    "start_time": "2023-10-13T14:01:12.412Z"
   },
   {
    "duration": 6,
    "start_time": "2023-10-13T14:01:12.680Z"
   },
   {
    "duration": 51,
    "start_time": "2023-10-13T14:01:12.687Z"
   },
   {
    "duration": 324,
    "start_time": "2023-10-13T14:01:12.743Z"
   },
   {
    "duration": 7,
    "start_time": "2023-10-13T14:01:13.069Z"
   },
   {
    "duration": 20,
    "start_time": "2023-10-13T14:01:13.078Z"
   },
   {
    "duration": 398,
    "start_time": "2023-10-13T14:01:13.100Z"
   },
   {
    "duration": 6,
    "start_time": "2023-10-13T14:01:13.500Z"
   },
   {
    "duration": 23,
    "start_time": "2023-10-13T14:01:13.508Z"
   },
   {
    "duration": 25,
    "start_time": "2023-10-13T14:01:13.533Z"
   },
   {
    "duration": 278,
    "start_time": "2023-10-13T14:01:13.560Z"
   },
   {
    "duration": 8,
    "start_time": "2023-10-13T14:01:13.840Z"
   },
   {
    "duration": 28,
    "start_time": "2023-10-13T14:01:13.851Z"
   },
   {
    "duration": 14,
    "start_time": "2023-10-13T14:01:13.882Z"
   },
   {
    "duration": 7,
    "start_time": "2023-10-13T14:01:13.899Z"
   },
   {
    "duration": 30,
    "start_time": "2023-10-13T14:01:13.907Z"
   },
   {
    "duration": 17,
    "start_time": "2023-10-13T14:01:13.939Z"
   },
   {
    "duration": 14,
    "start_time": "2023-10-13T14:01:13.958Z"
   },
   {
    "duration": 565,
    "start_time": "2023-10-13T14:01:13.974Z"
   },
   {
    "duration": 7,
    "start_time": "2023-10-13T14:01:14.546Z"
   },
   {
    "duration": 591,
    "start_time": "2023-10-13T14:01:14.555Z"
   },
   {
    "duration": 6,
    "start_time": "2023-10-13T14:01:15.148Z"
   },
   {
    "duration": 31,
    "start_time": "2023-10-13T14:01:15.155Z"
   },
   {
    "duration": 40,
    "start_time": "2023-10-13T14:01:15.188Z"
   },
   {
    "duration": 29,
    "start_time": "2023-10-13T14:01:15.230Z"
   },
   {
    "duration": 209,
    "start_time": "2023-10-13T14:01:15.262Z"
   },
   {
    "duration": 6,
    "start_time": "2023-10-13T14:01:15.473Z"
   },
   {
    "duration": 40,
    "start_time": "2023-10-13T14:01:15.481Z"
   },
   {
    "duration": 41,
    "start_time": "2023-10-13T14:01:15.523Z"
   },
   {
    "duration": 262,
    "start_time": "2023-10-13T14:01:15.567Z"
   },
   {
    "duration": 18,
    "start_time": "2023-10-13T14:01:15.831Z"
   },
   {
    "duration": 24,
    "start_time": "2023-10-13T14:01:15.852Z"
   },
   {
    "duration": 8,
    "start_time": "2023-10-13T14:01:15.878Z"
   },
   {
    "duration": 33,
    "start_time": "2023-10-13T14:01:15.888Z"
   },
   {
    "duration": 37,
    "start_time": "2023-10-13T14:01:15.923Z"
   },
   {
    "duration": 12,
    "start_time": "2023-10-13T14:01:15.962Z"
   },
   {
    "duration": 18,
    "start_time": "2023-10-13T14:01:15.975Z"
   },
   {
    "duration": 16,
    "start_time": "2023-10-13T14:01:15.995Z"
   },
   {
    "duration": 34,
    "start_time": "2023-10-13T14:01:16.013Z"
   },
   {
    "duration": 1723,
    "start_time": "2023-10-13T14:01:16.050Z"
   },
   {
    "duration": 6,
    "start_time": "2023-10-13T14:01:17.775Z"
   },
   {
    "duration": 1741,
    "start_time": "2023-10-13T14:01:17.783Z"
   },
   {
    "duration": 5,
    "start_time": "2023-10-13T14:01:19.526Z"
   },
   {
    "duration": 14,
    "start_time": "2023-10-13T14:01:19.533Z"
   },
   {
    "duration": 281,
    "start_time": "2023-10-13T14:01:37.221Z"
   },
   {
    "duration": 320,
    "start_time": "2023-10-13T14:01:42.131Z"
   },
   {
    "duration": 81,
    "start_time": "2023-10-13T14:04:20.067Z"
   },
   {
    "duration": 309,
    "start_time": "2023-10-13T14:06:05.413Z"
   },
   {
    "duration": 286,
    "start_time": "2023-10-13T14:07:02.473Z"
   },
   {
    "duration": 215,
    "start_time": "2023-10-13T14:13:07.084Z"
   },
   {
    "duration": 388,
    "start_time": "2023-10-13T14:13:34.826Z"
   },
   {
    "duration": 198,
    "start_time": "2023-10-13T14:13:43.638Z"
   },
   {
    "duration": 192,
    "start_time": "2023-10-13T14:14:14.759Z"
   },
   {
    "duration": 225,
    "start_time": "2023-10-13T14:15:35.998Z"
   },
   {
    "duration": 183,
    "start_time": "2023-10-13T14:15:54.194Z"
   },
   {
    "duration": 205,
    "start_time": "2023-10-13T14:16:02.192Z"
   },
   {
    "duration": 205,
    "start_time": "2023-10-13T14:16:17.191Z"
   },
   {
    "duration": 196,
    "start_time": "2023-10-13T14:16:35.336Z"
   },
   {
    "duration": 245,
    "start_time": "2023-10-13T14:17:15.238Z"
   },
   {
    "duration": 12,
    "start_time": "2023-10-13T14:19:15.481Z"
   },
   {
    "duration": 1307,
    "start_time": "2023-10-13T14:22:36.969Z"
   },
   {
    "duration": 67,
    "start_time": "2023-10-13T14:22:38.279Z"
   },
   {
    "duration": 72,
    "start_time": "2023-10-13T14:22:38.347Z"
   },
   {
    "duration": 65,
    "start_time": "2023-10-13T14:22:38.422Z"
   },
   {
    "duration": 16,
    "start_time": "2023-10-13T14:22:38.490Z"
   },
   {
    "duration": 24,
    "start_time": "2023-10-13T14:22:38.508Z"
   },
   {
    "duration": 23,
    "start_time": "2023-10-13T14:22:38.534Z"
   },
   {
    "duration": 28,
    "start_time": "2023-10-13T14:22:38.558Z"
   },
   {
    "duration": 17,
    "start_time": "2023-10-13T14:22:38.588Z"
   },
   {
    "duration": 7,
    "start_time": "2023-10-13T14:22:38.609Z"
   },
   {
    "duration": 60,
    "start_time": "2023-10-13T14:22:38.618Z"
   },
   {
    "duration": 21,
    "start_time": "2023-10-13T14:22:38.681Z"
   },
   {
    "duration": 19,
    "start_time": "2023-10-13T14:22:38.705Z"
   },
   {
    "duration": 11,
    "start_time": "2023-10-13T14:22:38.726Z"
   },
   {
    "duration": 7,
    "start_time": "2023-10-13T14:22:38.740Z"
   },
   {
    "duration": 26,
    "start_time": "2023-10-13T14:22:38.749Z"
   },
   {
    "duration": 34,
    "start_time": "2023-10-13T14:22:38.778Z"
   },
   {
    "duration": 23,
    "start_time": "2023-10-13T14:22:38.814Z"
   },
   {
    "duration": 44,
    "start_time": "2023-10-13T14:22:38.839Z"
   },
   {
    "duration": 377,
    "start_time": "2023-10-13T14:22:38.885Z"
   },
   {
    "duration": 174,
    "start_time": "2023-10-13T14:22:39.264Z"
   },
   {
    "duration": 8,
    "start_time": "2023-10-13T14:22:39.440Z"
   },
   {
    "duration": 46,
    "start_time": "2023-10-13T14:22:39.449Z"
   },
   {
    "duration": 22,
    "start_time": "2023-10-13T14:22:39.496Z"
   },
   {
    "duration": 247,
    "start_time": "2023-10-13T14:22:39.520Z"
   },
   {
    "duration": 8,
    "start_time": "2023-10-13T14:22:39.770Z"
   },
   {
    "duration": 14,
    "start_time": "2023-10-13T14:22:39.780Z"
   },
   {
    "duration": 317,
    "start_time": "2023-10-13T14:22:39.799Z"
   },
   {
    "duration": 9,
    "start_time": "2023-10-13T14:22:40.119Z"
   },
   {
    "duration": 38,
    "start_time": "2023-10-13T14:22:40.130Z"
   },
   {
    "duration": 317,
    "start_time": "2023-10-13T14:22:40.170Z"
   },
   {
    "duration": 7,
    "start_time": "2023-10-13T14:22:40.488Z"
   },
   {
    "duration": 27,
    "start_time": "2023-10-13T14:22:40.497Z"
   },
   {
    "duration": 35,
    "start_time": "2023-10-13T14:22:40.526Z"
   },
   {
    "duration": 21,
    "start_time": "2023-10-13T14:22:40.563Z"
   },
   {
    "duration": 22,
    "start_time": "2023-10-13T14:22:40.586Z"
   },
   {
    "duration": 46,
    "start_time": "2023-10-13T14:22:40.610Z"
   },
   {
    "duration": 29,
    "start_time": "2023-10-13T14:22:40.658Z"
   },
   {
    "duration": 24,
    "start_time": "2023-10-13T14:22:40.690Z"
   },
   {
    "duration": 680,
    "start_time": "2023-10-13T14:22:40.716Z"
   },
   {
    "duration": 7,
    "start_time": "2023-10-13T14:22:41.398Z"
   },
   {
    "duration": 579,
    "start_time": "2023-10-13T14:22:41.406Z"
   },
   {
    "duration": 248,
    "start_time": "2023-10-13T14:22:41.987Z"
   },
   {
    "duration": 216,
    "start_time": "2023-10-13T14:22:42.238Z"
   },
   {
    "duration": 6,
    "start_time": "2023-10-13T14:22:42.457Z"
   },
   {
    "duration": 16,
    "start_time": "2023-10-13T14:22:42.465Z"
   },
   {
    "duration": 22,
    "start_time": "2023-10-13T14:22:42.483Z"
   },
   {
    "duration": 26,
    "start_time": "2023-10-13T14:22:42.506Z"
   },
   {
    "duration": 48,
    "start_time": "2023-10-13T14:22:42.533Z"
   },
   {
    "duration": 5,
    "start_time": "2023-10-13T14:22:42.583Z"
   },
   {
    "duration": 18,
    "start_time": "2023-10-13T14:22:42.589Z"
   },
   {
    "duration": 18,
    "start_time": "2023-10-13T14:22:42.609Z"
   },
   {
    "duration": 209,
    "start_time": "2023-10-13T14:22:42.629Z"
   },
   {
    "duration": 11,
    "start_time": "2023-10-13T14:22:42.840Z"
   },
   {
    "duration": 160,
    "start_time": "2023-10-13T14:22:42.853Z"
   },
   {
    "duration": 12,
    "start_time": "2023-10-13T14:22:43.015Z"
   },
   {
    "duration": 228,
    "start_time": "2023-10-13T14:22:43.029Z"
   },
   {
    "duration": 108,
    "start_time": "2023-10-13T14:22:43.259Z"
   },
   {
    "duration": 25,
    "start_time": "2023-10-13T14:22:43.369Z"
   },
   {
    "duration": 46,
    "start_time": "2023-10-13T14:22:43.396Z"
   },
   {
    "duration": 32,
    "start_time": "2023-10-13T14:22:43.445Z"
   },
   {
    "duration": 31,
    "start_time": "2023-10-13T14:22:43.479Z"
   },
   {
    "duration": 1651,
    "start_time": "2023-10-13T14:22:43.511Z"
   },
   {
    "duration": 6,
    "start_time": "2023-10-13T14:22:45.164Z"
   },
   {
    "duration": 1991,
    "start_time": "2023-10-13T14:22:45.172Z"
   },
   {
    "duration": 4,
    "start_time": "2023-10-13T14:22:47.165Z"
   },
   {
    "duration": 9,
    "start_time": "2023-10-13T14:22:47.172Z"
   },
   {
    "duration": 12,
    "start_time": "2023-10-13T14:27:26.826Z"
   },
   {
    "duration": 12,
    "start_time": "2023-10-13T14:29:26.884Z"
   },
   {
    "duration": 164,
    "start_time": "2023-10-13T14:30:29.603Z"
   },
   {
    "duration": 89,
    "start_time": "2023-10-13T14:30:58.082Z"
   },
   {
    "duration": 7,
    "start_time": "2023-10-13T14:39:12.526Z"
   },
   {
    "duration": 6,
    "start_time": "2023-10-13T14:39:42.577Z"
   },
   {
    "duration": 121,
    "start_time": "2023-10-13T14:43:29.685Z"
   },
   {
    "duration": 197,
    "start_time": "2023-10-13T14:43:51.597Z"
   },
   {
    "duration": 1331,
    "start_time": "2023-10-13T14:46:21.050Z"
   },
   {
    "duration": 64,
    "start_time": "2023-10-13T14:46:22.383Z"
   },
   {
    "duration": 81,
    "start_time": "2023-10-13T14:46:22.449Z"
   },
   {
    "duration": 55,
    "start_time": "2023-10-13T14:46:22.532Z"
   },
   {
    "duration": 17,
    "start_time": "2023-10-13T14:46:22.589Z"
   },
   {
    "duration": 13,
    "start_time": "2023-10-13T14:46:22.609Z"
   },
   {
    "duration": 24,
    "start_time": "2023-10-13T14:46:22.624Z"
   },
   {
    "duration": 28,
    "start_time": "2023-10-13T14:46:22.650Z"
   },
   {
    "duration": 29,
    "start_time": "2023-10-13T14:46:22.680Z"
   },
   {
    "duration": 23,
    "start_time": "2023-10-13T14:46:22.712Z"
   },
   {
    "duration": 19,
    "start_time": "2023-10-13T14:46:22.738Z"
   },
   {
    "duration": 17,
    "start_time": "2023-10-13T14:46:22.758Z"
   },
   {
    "duration": 20,
    "start_time": "2023-10-13T14:46:22.777Z"
   },
   {
    "duration": 6,
    "start_time": "2023-10-13T14:46:22.799Z"
   },
   {
    "duration": 12,
    "start_time": "2023-10-13T14:46:22.807Z"
   },
   {
    "duration": 20,
    "start_time": "2023-10-13T14:46:22.820Z"
   },
   {
    "duration": 20,
    "start_time": "2023-10-13T14:46:22.842Z"
   },
   {
    "duration": 7,
    "start_time": "2023-10-13T14:46:22.864Z"
   },
   {
    "duration": 43,
    "start_time": "2023-10-13T14:46:22.873Z"
   },
   {
    "duration": 369,
    "start_time": "2023-10-13T14:46:22.918Z"
   },
   {
    "duration": 187,
    "start_time": "2023-10-13T14:46:23.289Z"
   },
   {
    "duration": 5,
    "start_time": "2023-10-13T14:46:23.478Z"
   },
   {
    "duration": 39,
    "start_time": "2023-10-13T14:46:23.485Z"
   },
   {
    "duration": 5,
    "start_time": "2023-10-13T14:46:23.526Z"
   },
   {
    "duration": 238,
    "start_time": "2023-10-13T14:46:23.532Z"
   },
   {
    "duration": 7,
    "start_time": "2023-10-13T14:46:23.772Z"
   },
   {
    "duration": 12,
    "start_time": "2023-10-13T14:46:23.780Z"
   },
   {
    "duration": 340,
    "start_time": "2023-10-13T14:46:23.798Z"
   },
   {
    "duration": 11,
    "start_time": "2023-10-13T14:46:24.140Z"
   },
   {
    "duration": 33,
    "start_time": "2023-10-13T14:46:24.153Z"
   },
   {
    "duration": 296,
    "start_time": "2023-10-13T14:46:24.188Z"
   },
   {
    "duration": 8,
    "start_time": "2023-10-13T14:46:24.486Z"
   },
   {
    "duration": 24,
    "start_time": "2023-10-13T14:46:24.496Z"
   },
   {
    "duration": 34,
    "start_time": "2023-10-13T14:46:24.522Z"
   },
   {
    "duration": 22,
    "start_time": "2023-10-13T14:46:24.559Z"
   },
   {
    "duration": 25,
    "start_time": "2023-10-13T14:46:24.584Z"
   },
   {
    "duration": 24,
    "start_time": "2023-10-13T14:46:24.611Z"
   },
   {
    "duration": 18,
    "start_time": "2023-10-13T14:46:24.637Z"
   },
   {
    "duration": 13,
    "start_time": "2023-10-13T14:46:24.657Z"
   },
   {
    "duration": 719,
    "start_time": "2023-10-13T14:46:24.672Z"
   },
   {
    "duration": 8,
    "start_time": "2023-10-13T14:46:25.394Z"
   },
   {
    "duration": 584,
    "start_time": "2023-10-13T14:46:25.404Z"
   },
   {
    "duration": 222,
    "start_time": "2023-10-13T14:46:25.990Z"
   },
   {
    "duration": 202,
    "start_time": "2023-10-13T14:46:26.215Z"
   },
   {
    "duration": 7,
    "start_time": "2023-10-13T14:46:26.419Z"
   },
   {
    "duration": 37,
    "start_time": "2023-10-13T14:46:26.427Z"
   },
   {
    "duration": 36,
    "start_time": "2023-10-13T14:46:26.466Z"
   },
   {
    "duration": 24,
    "start_time": "2023-10-13T14:46:26.504Z"
   },
   {
    "duration": 68,
    "start_time": "2023-10-13T14:46:26.530Z"
   },
   {
    "duration": 6,
    "start_time": "2023-10-13T14:46:26.600Z"
   },
   {
    "duration": 27,
    "start_time": "2023-10-13T14:46:26.608Z"
   },
   {
    "duration": 50,
    "start_time": "2023-10-13T14:46:26.637Z"
   },
   {
    "duration": 278,
    "start_time": "2023-10-13T14:46:26.689Z"
   },
   {
    "duration": 11,
    "start_time": "2023-10-13T14:46:26.968Z"
   },
   {
    "duration": 18,
    "start_time": "2023-10-13T14:46:26.981Z"
   },
   {
    "duration": 39,
    "start_time": "2023-10-13T14:46:27.000Z"
   },
   {
    "duration": 57,
    "start_time": "2023-10-13T14:46:27.041Z"
   },
   {
    "duration": 58,
    "start_time": "2023-10-13T14:46:27.100Z"
   },
   {
    "duration": 29,
    "start_time": "2023-10-13T14:46:27.160Z"
   },
   {
    "duration": 135,
    "start_time": "2023-10-13T14:46:27.191Z"
   },
   {
    "duration": 73,
    "start_time": "2023-10-13T14:46:27.328Z"
   },
   {
    "duration": 7,
    "start_time": "2023-10-13T14:46:27.403Z"
   },
   {
    "duration": 46,
    "start_time": "2023-10-13T14:46:27.412Z"
   },
   {
    "duration": 24,
    "start_time": "2023-10-13T14:46:27.461Z"
   },
   {
    "duration": 10,
    "start_time": "2023-10-13T14:46:27.488Z"
   },
   {
    "duration": 1695,
    "start_time": "2023-10-13T14:46:27.500Z"
   },
   {
    "duration": 6,
    "start_time": "2023-10-13T14:46:29.197Z"
   },
   {
    "duration": 2022,
    "start_time": "2023-10-13T14:46:29.205Z"
   },
   {
    "duration": 5,
    "start_time": "2023-10-13T14:46:31.228Z"
   },
   {
    "duration": 73,
    "start_time": "2023-10-13T14:46:31.235Z"
   },
   {
    "duration": 11,
    "start_time": "2023-10-13T14:46:49.327Z"
   },
   {
    "duration": 19287,
    "start_time": "2023-10-13T14:48:29.366Z"
   },
   {
    "duration": 1735,
    "start_time": "2023-10-13T14:48:51.535Z"
   },
   {
    "duration": 1473,
    "start_time": "2023-10-13T14:50:15.558Z"
   },
   {
    "duration": 62,
    "start_time": "2023-10-13T14:50:17.033Z"
   },
   {
    "duration": 86,
    "start_time": "2023-10-13T14:50:17.101Z"
   },
   {
    "duration": 33,
    "start_time": "2023-10-13T14:50:17.189Z"
   },
   {
    "duration": 32,
    "start_time": "2023-10-13T14:50:17.225Z"
   },
   {
    "duration": 33,
    "start_time": "2023-10-13T14:50:17.259Z"
   },
   {
    "duration": 72,
    "start_time": "2023-10-13T14:50:17.294Z"
   },
   {
    "duration": 41,
    "start_time": "2023-10-13T14:50:17.369Z"
   },
   {
    "duration": 12,
    "start_time": "2023-10-13T14:50:17.412Z"
   },
   {
    "duration": 39,
    "start_time": "2023-10-13T14:50:17.426Z"
   },
   {
    "duration": 37,
    "start_time": "2023-10-13T14:50:17.467Z"
   },
   {
    "duration": 28,
    "start_time": "2023-10-13T14:50:17.506Z"
   },
   {
    "duration": 36,
    "start_time": "2023-10-13T14:50:17.536Z"
   },
   {
    "duration": 24,
    "start_time": "2023-10-13T14:50:17.575Z"
   },
   {
    "duration": 35,
    "start_time": "2023-10-13T14:50:17.600Z"
   },
   {
    "duration": 24,
    "start_time": "2023-10-13T14:50:17.637Z"
   },
   {
    "duration": 30,
    "start_time": "2023-10-13T14:50:17.663Z"
   },
   {
    "duration": 27,
    "start_time": "2023-10-13T14:50:17.695Z"
   },
   {
    "duration": 46,
    "start_time": "2023-10-13T14:50:17.724Z"
   },
   {
    "duration": 354,
    "start_time": "2023-10-13T14:50:17.772Z"
   },
   {
    "duration": 187,
    "start_time": "2023-10-13T14:50:18.128Z"
   },
   {
    "duration": 5,
    "start_time": "2023-10-13T14:50:18.317Z"
   },
   {
    "duration": 42,
    "start_time": "2023-10-13T14:50:18.324Z"
   },
   {
    "duration": 19,
    "start_time": "2023-10-13T14:50:18.367Z"
   },
   {
    "duration": 254,
    "start_time": "2023-10-13T14:50:18.388Z"
   },
   {
    "duration": 6,
    "start_time": "2023-10-13T14:50:18.644Z"
   },
   {
    "duration": 24,
    "start_time": "2023-10-13T14:50:18.652Z"
   },
   {
    "duration": 306,
    "start_time": "2023-10-13T14:50:18.678Z"
   },
   {
    "duration": 8,
    "start_time": "2023-10-13T14:50:18.986Z"
   },
   {
    "duration": 44,
    "start_time": "2023-10-13T14:50:18.996Z"
   },
   {
    "duration": 320,
    "start_time": "2023-10-13T14:50:19.042Z"
   },
   {
    "duration": 7,
    "start_time": "2023-10-13T14:50:19.364Z"
   },
   {
    "duration": 27,
    "start_time": "2023-10-13T14:50:19.373Z"
   },
   {
    "duration": 14,
    "start_time": "2023-10-13T14:50:19.402Z"
   },
   {
    "duration": 13,
    "start_time": "2023-10-13T14:50:19.418Z"
   },
   {
    "duration": 6,
    "start_time": "2023-10-13T14:50:19.446Z"
   },
   {
    "duration": 29,
    "start_time": "2023-10-13T14:50:19.453Z"
   },
   {
    "duration": 15,
    "start_time": "2023-10-13T14:50:19.484Z"
   },
   {
    "duration": 8,
    "start_time": "2023-10-13T14:50:19.501Z"
   },
   {
    "duration": 682,
    "start_time": "2023-10-13T14:50:19.511Z"
   },
   {
    "duration": 6,
    "start_time": "2023-10-13T14:50:20.197Z"
   },
   {
    "duration": 591,
    "start_time": "2023-10-13T14:50:20.205Z"
   },
   {
    "duration": 221,
    "start_time": "2023-10-13T14:50:20.797Z"
   },
   {
    "duration": 213,
    "start_time": "2023-10-13T14:50:21.020Z"
   },
   {
    "duration": 14,
    "start_time": "2023-10-13T14:50:21.235Z"
   },
   {
    "duration": 52,
    "start_time": "2023-10-13T14:50:21.251Z"
   },
   {
    "duration": 24,
    "start_time": "2023-10-13T14:50:21.305Z"
   },
   {
    "duration": 31,
    "start_time": "2023-10-13T14:50:21.331Z"
   },
   {
    "duration": 63,
    "start_time": "2023-10-13T14:50:21.364Z"
   },
   {
    "duration": 5,
    "start_time": "2023-10-13T14:50:21.429Z"
   },
   {
    "duration": 36,
    "start_time": "2023-10-13T14:50:21.436Z"
   },
   {
    "duration": 16,
    "start_time": "2023-10-13T14:50:21.474Z"
   },
   {
    "duration": 212,
    "start_time": "2023-10-13T14:50:21.492Z"
   },
   {
    "duration": 12,
    "start_time": "2023-10-13T14:50:21.706Z"
   },
   {
    "duration": 29,
    "start_time": "2023-10-13T14:50:21.719Z"
   },
   {
    "duration": 17,
    "start_time": "2023-10-13T14:50:21.750Z"
   },
   {
    "duration": 18,
    "start_time": "2023-10-13T14:50:21.769Z"
   },
   {
    "duration": 16,
    "start_time": "2023-10-13T14:50:21.789Z"
   },
   {
    "duration": 13,
    "start_time": "2023-10-13T14:50:21.807Z"
   },
   {
    "duration": 44,
    "start_time": "2023-10-13T14:50:21.822Z"
   },
   {
    "duration": 20,
    "start_time": "2023-10-13T14:50:21.867Z"
   },
   {
    "duration": 10,
    "start_time": "2023-10-13T14:50:21.889Z"
   },
   {
    "duration": 45,
    "start_time": "2023-10-13T14:50:21.901Z"
   },
   {
    "duration": 15,
    "start_time": "2023-10-13T14:50:21.949Z"
   },
   {
    "duration": 25,
    "start_time": "2023-10-13T14:50:21.966Z"
   },
   {
    "duration": 1629,
    "start_time": "2023-10-13T14:50:21.993Z"
   },
   {
    "duration": 6,
    "start_time": "2023-10-13T14:50:23.624Z"
   },
   {
    "duration": 1890,
    "start_time": "2023-10-13T14:50:23.632Z"
   },
   {
    "duration": 4,
    "start_time": "2023-10-13T14:50:25.524Z"
   },
   {
    "duration": 171,
    "start_time": "2023-10-13T14:50:25.529Z"
   },
   {
    "duration": 1366,
    "start_time": "2023-10-13T18:21:58.350Z"
   },
   {
    "duration": 84,
    "start_time": "2023-10-13T18:21:59.718Z"
   },
   {
    "duration": 135,
    "start_time": "2023-10-13T18:21:59.804Z"
   },
   {
    "duration": 50,
    "start_time": "2023-10-13T18:21:59.941Z"
   },
   {
    "duration": 12,
    "start_time": "2023-10-13T18:21:59.993Z"
   },
   {
    "duration": 38,
    "start_time": "2023-10-13T18:22:00.006Z"
   },
   {
    "duration": 41,
    "start_time": "2023-10-13T18:22:00.046Z"
   },
   {
    "duration": 80,
    "start_time": "2023-10-13T18:22:00.089Z"
   },
   {
    "duration": 27,
    "start_time": "2023-10-13T18:22:00.170Z"
   },
   {
    "duration": 38,
    "start_time": "2023-10-13T18:22:00.199Z"
   },
   {
    "duration": 35,
    "start_time": "2023-10-13T18:22:00.239Z"
   },
   {
    "duration": 41,
    "start_time": "2023-10-13T18:22:00.277Z"
   },
   {
    "duration": 23,
    "start_time": "2023-10-13T18:22:00.322Z"
   },
   {
    "duration": 32,
    "start_time": "2023-10-13T18:22:00.349Z"
   },
   {
    "duration": 38,
    "start_time": "2023-10-13T18:22:00.383Z"
   },
   {
    "duration": 15,
    "start_time": "2023-10-13T18:22:00.424Z"
   },
   {
    "duration": 12,
    "start_time": "2023-10-13T18:22:00.441Z"
   },
   {
    "duration": 21,
    "start_time": "2023-10-13T18:22:00.455Z"
   },
   {
    "duration": 65,
    "start_time": "2023-10-13T18:22:00.478Z"
   },
   {
    "duration": 318,
    "start_time": "2023-10-13T18:22:00.544Z"
   },
   {
    "duration": 167,
    "start_time": "2023-10-13T18:22:00.864Z"
   },
   {
    "duration": 5,
    "start_time": "2023-10-13T18:22:01.033Z"
   },
   {
    "duration": 51,
    "start_time": "2023-10-13T18:22:01.039Z"
   },
   {
    "duration": 33,
    "start_time": "2023-10-13T18:22:01.091Z"
   },
   {
    "duration": 247,
    "start_time": "2023-10-13T18:22:01.126Z"
   },
   {
    "duration": 7,
    "start_time": "2023-10-13T18:22:01.376Z"
   },
   {
    "duration": 45,
    "start_time": "2023-10-13T18:22:01.385Z"
   },
   {
    "duration": 329,
    "start_time": "2023-10-13T18:22:01.432Z"
   },
   {
    "duration": 6,
    "start_time": "2023-10-13T18:22:01.762Z"
   },
   {
    "duration": 166,
    "start_time": "2023-10-13T18:22:01.770Z"
   },
   {
    "duration": 351,
    "start_time": "2023-10-13T18:22:01.937Z"
   },
   {
    "duration": 6,
    "start_time": "2023-10-13T18:22:02.289Z"
   },
   {
    "duration": 65,
    "start_time": "2023-10-13T18:22:02.297Z"
   },
   {
    "duration": 61,
    "start_time": "2023-10-13T18:22:02.363Z"
   },
   {
    "duration": 35,
    "start_time": "2023-10-13T18:22:02.427Z"
   },
   {
    "duration": 22,
    "start_time": "2023-10-13T18:22:02.464Z"
   },
   {
    "duration": 40,
    "start_time": "2023-10-13T18:22:02.488Z"
   },
   {
    "duration": 42,
    "start_time": "2023-10-13T18:22:02.530Z"
   },
   {
    "duration": 50,
    "start_time": "2023-10-13T18:22:02.574Z"
   },
   {
    "duration": 625,
    "start_time": "2023-10-13T18:22:02.626Z"
   },
   {
    "duration": 5,
    "start_time": "2023-10-13T18:22:03.255Z"
   },
   {
    "duration": 564,
    "start_time": "2023-10-13T18:22:03.261Z"
   },
   {
    "duration": 170,
    "start_time": "2023-10-13T18:22:03.828Z"
   },
   {
    "duration": 222,
    "start_time": "2023-10-13T18:22:03.999Z"
   },
   {
    "duration": 8,
    "start_time": "2023-10-13T18:22:04.222Z"
   },
   {
    "duration": 12,
    "start_time": "2023-10-13T18:22:04.232Z"
   },
   {
    "duration": 7,
    "start_time": "2023-10-13T18:22:04.245Z"
   },
   {
    "duration": 4,
    "start_time": "2023-10-13T18:22:04.253Z"
   },
   {
    "duration": 61,
    "start_time": "2023-10-13T18:22:04.258Z"
   },
   {
    "duration": 5,
    "start_time": "2023-10-13T18:22:04.322Z"
   },
   {
    "duration": 17,
    "start_time": "2023-10-13T18:22:04.329Z"
   },
   {
    "duration": 17,
    "start_time": "2023-10-13T18:22:04.347Z"
   },
   {
    "duration": 194,
    "start_time": "2023-10-13T18:22:04.365Z"
   },
   {
    "duration": 12,
    "start_time": "2023-10-13T18:22:04.561Z"
   },
   {
    "duration": 12,
    "start_time": "2023-10-13T18:22:04.574Z"
   },
   {
    "duration": 34,
    "start_time": "2023-10-13T18:22:04.588Z"
   },
   {
    "duration": 21,
    "start_time": "2023-10-13T18:22:04.623Z"
   },
   {
    "duration": 8,
    "start_time": "2023-10-13T18:22:04.645Z"
   },
   {
    "duration": 27,
    "start_time": "2023-10-13T18:22:04.655Z"
   },
   {
    "duration": 51,
    "start_time": "2023-10-13T18:22:04.683Z"
   },
   {
    "duration": 32,
    "start_time": "2023-10-13T18:22:04.736Z"
   },
   {
    "duration": 6,
    "start_time": "2023-10-13T18:22:04.770Z"
   },
   {
    "duration": 38,
    "start_time": "2023-10-13T18:22:04.778Z"
   },
   {
    "duration": 10,
    "start_time": "2023-10-13T18:22:04.817Z"
   },
   {
    "duration": 38,
    "start_time": "2023-10-13T18:22:04.829Z"
   },
   {
    "duration": 1693,
    "start_time": "2023-10-13T18:22:04.869Z"
   },
   {
    "duration": 6,
    "start_time": "2023-10-13T18:22:06.564Z"
   },
   {
    "duration": 1750,
    "start_time": "2023-10-13T18:22:06.571Z"
   },
   {
    "duration": 5,
    "start_time": "2023-10-13T18:22:08.322Z"
   },
   {
    "duration": 26,
    "start_time": "2023-10-13T18:22:08.329Z"
   },
   {
    "duration": 345,
    "start_time": "2023-10-13T18:49:08.947Z"
   },
   {
    "duration": 371,
    "start_time": "2023-10-13T18:49:16.364Z"
   },
   {
    "duration": 13,
    "start_time": "2023-10-13T19:00:24.633Z"
   },
   {
    "duration": 22,
    "start_time": "2023-10-13T19:00:53.303Z"
   },
   {
    "duration": 9,
    "start_time": "2023-10-13T19:01:13.526Z"
   },
   {
    "duration": 5,
    "start_time": "2023-10-13T19:03:49.080Z"
   },
   {
    "duration": 5,
    "start_time": "2023-10-13T19:03:54.452Z"
   },
   {
    "duration": 5,
    "start_time": "2023-10-13T19:03:58.260Z"
   },
   {
    "duration": 7,
    "start_time": "2023-10-13T19:04:02.625Z"
   },
   {
    "duration": 4,
    "start_time": "2023-10-13T19:04:08.246Z"
   },
   {
    "duration": 4,
    "start_time": "2023-10-13T19:04:12.792Z"
   },
   {
    "duration": 1281,
    "start_time": "2023-10-14T10:09:27.988Z"
   },
   {
    "duration": 94,
    "start_time": "2023-10-14T10:09:29.271Z"
   },
   {
    "duration": 92,
    "start_time": "2023-10-14T10:09:29.367Z"
   },
   {
    "duration": 116,
    "start_time": "2023-10-14T10:09:29.461Z"
   },
   {
    "duration": 11,
    "start_time": "2023-10-14T10:09:29.579Z"
   },
   {
    "duration": 12,
    "start_time": "2023-10-14T10:09:29.592Z"
   },
   {
    "duration": 10,
    "start_time": "2023-10-14T10:09:29.605Z"
   },
   {
    "duration": 15,
    "start_time": "2023-10-14T10:09:29.616Z"
   },
   {
    "duration": 6,
    "start_time": "2023-10-14T10:09:29.633Z"
   },
   {
    "duration": 18,
    "start_time": "2023-10-14T10:09:29.642Z"
   },
   {
    "duration": 11,
    "start_time": "2023-10-14T10:09:29.662Z"
   },
   {
    "duration": 10,
    "start_time": "2023-10-14T10:09:29.675Z"
   },
   {
    "duration": 10,
    "start_time": "2023-10-14T10:09:29.686Z"
   },
   {
    "duration": 6,
    "start_time": "2023-10-14T10:09:29.697Z"
   },
   {
    "duration": 4,
    "start_time": "2023-10-14T10:09:29.705Z"
   },
   {
    "duration": 10,
    "start_time": "2023-10-14T10:09:29.711Z"
   },
   {
    "duration": 8,
    "start_time": "2023-10-14T10:09:29.723Z"
   },
   {
    "duration": 12,
    "start_time": "2023-10-14T10:09:29.732Z"
   },
   {
    "duration": 22,
    "start_time": "2023-10-14T10:09:29.746Z"
   },
   {
    "duration": 291,
    "start_time": "2023-10-14T10:09:29.769Z"
   },
   {
    "duration": 2,
    "start_time": "2023-10-14T10:09:30.062Z"
   },
   {
    "duration": 189,
    "start_time": "2023-10-14T10:09:30.066Z"
   },
   {
    "duration": 4,
    "start_time": "2023-10-14T10:09:30.256Z"
   },
   {
    "duration": 48,
    "start_time": "2023-10-14T10:09:30.262Z"
   },
   {
    "duration": 29,
    "start_time": "2023-10-14T10:09:30.312Z"
   },
   {
    "duration": 220,
    "start_time": "2023-10-14T10:09:30.343Z"
   },
   {
    "duration": 5,
    "start_time": "2023-10-14T10:09:30.565Z"
   },
   {
    "duration": 39,
    "start_time": "2023-10-14T10:09:30.575Z"
   },
   {
    "duration": 299,
    "start_time": "2023-10-14T10:09:30.616Z"
   },
   {
    "duration": 5,
    "start_time": "2023-10-14T10:09:30.917Z"
   },
   {
    "duration": 377,
    "start_time": "2023-10-14T10:09:30.924Z"
   },
   {
    "duration": 370,
    "start_time": "2023-10-14T10:09:31.302Z"
   },
   {
    "duration": 5,
    "start_time": "2023-10-14T10:09:31.674Z"
   },
   {
    "duration": 347,
    "start_time": "2023-10-14T10:09:31.680Z"
   },
   {
    "duration": 84,
    "start_time": "2023-10-14T10:09:32.029Z"
   },
   {
    "duration": 56,
    "start_time": "2023-10-14T10:09:32.115Z"
   },
   {
    "duration": 55,
    "start_time": "2023-10-14T10:09:32.172Z"
   },
   {
    "duration": 56,
    "start_time": "2023-10-14T10:09:32.229Z"
   },
   {
    "duration": 34,
    "start_time": "2023-10-14T10:09:32.287Z"
   },
   {
    "duration": 33,
    "start_time": "2023-10-14T10:09:32.323Z"
   },
   {
    "duration": 600,
    "start_time": "2023-10-14T10:09:32.358Z"
   },
   {
    "duration": 6,
    "start_time": "2023-10-14T10:09:32.959Z"
   },
   {
    "duration": 496,
    "start_time": "2023-10-14T10:09:32.966Z"
   },
   {
    "duration": 181,
    "start_time": "2023-10-14T10:09:33.463Z"
   },
   {
    "duration": 185,
    "start_time": "2023-10-14T10:09:33.646Z"
   },
   {
    "duration": 5,
    "start_time": "2023-10-14T10:09:33.833Z"
   },
   {
    "duration": 14,
    "start_time": "2023-10-14T10:09:33.845Z"
   },
   {
    "duration": 23,
    "start_time": "2023-10-14T10:09:33.861Z"
   },
   {
    "duration": 28,
    "start_time": "2023-10-14T10:09:33.885Z"
   },
   {
    "duration": 66,
    "start_time": "2023-10-14T10:09:33.915Z"
   },
   {
    "duration": 4,
    "start_time": "2023-10-14T10:09:33.982Z"
   },
   {
    "duration": 23,
    "start_time": "2023-10-14T10:09:33.987Z"
   },
   {
    "duration": 21,
    "start_time": "2023-10-14T10:09:34.012Z"
   },
   {
    "duration": 213,
    "start_time": "2023-10-14T10:09:34.034Z"
   },
   {
    "duration": 10,
    "start_time": "2023-10-14T10:09:34.248Z"
   },
   {
    "duration": 43,
    "start_time": "2023-10-14T10:09:34.259Z"
   },
   {
    "duration": 18,
    "start_time": "2023-10-14T10:09:34.303Z"
   },
   {
    "duration": 7,
    "start_time": "2023-10-14T10:09:34.322Z"
   },
   {
    "duration": 30,
    "start_time": "2023-10-14T10:09:34.331Z"
   },
   {
    "duration": 5,
    "start_time": "2023-10-14T10:09:34.363Z"
   },
   {
    "duration": 45,
    "start_time": "2023-10-14T10:09:34.370Z"
   },
   {
    "duration": 14,
    "start_time": "2023-10-14T10:09:34.417Z"
   },
   {
    "duration": 22,
    "start_time": "2023-10-14T10:09:34.433Z"
   },
   {
    "duration": 27,
    "start_time": "2023-10-14T10:09:34.457Z"
   },
   {
    "duration": 11,
    "start_time": "2023-10-14T10:09:34.486Z"
   },
   {
    "duration": 15,
    "start_time": "2023-10-14T10:09:34.499Z"
   },
   {
    "duration": 1348,
    "start_time": "2023-10-14T10:09:34.515Z"
   },
   {
    "duration": 5,
    "start_time": "2023-10-14T10:09:35.865Z"
   },
   {
    "duration": 1505,
    "start_time": "2023-10-14T10:09:35.871Z"
   },
   {
    "duration": 4,
    "start_time": "2023-10-14T10:09:37.378Z"
   },
   {
    "duration": 29,
    "start_time": "2023-10-14T10:09:37.383Z"
   },
   {
    "duration": 20,
    "start_time": "2023-10-14T10:09:37.414Z"
   },
   {
    "duration": 99,
    "start_time": "2023-10-14T10:11:12.173Z"
   },
   {
    "duration": 16,
    "start_time": "2023-10-14T10:12:55.271Z"
   },
   {
    "duration": 15,
    "start_time": "2023-10-14T10:13:10.546Z"
   },
   {
    "duration": 19,
    "start_time": "2023-10-14T10:13:14.081Z"
   },
   {
    "duration": 15,
    "start_time": "2023-10-14T10:13:18.466Z"
   },
   {
    "duration": 5,
    "start_time": "2023-10-14T10:14:03.626Z"
   },
   {
    "duration": 4,
    "start_time": "2023-10-14T10:14:13.398Z"
   },
   {
    "duration": 10,
    "start_time": "2023-10-14T10:14:25.359Z"
   },
   {
    "duration": 7,
    "start_time": "2023-10-14T10:14:44.048Z"
   },
   {
    "duration": 21,
    "start_time": "2023-10-14T10:15:04.140Z"
   },
   {
    "duration": 16,
    "start_time": "2023-10-14T10:15:21.748Z"
   },
   {
    "duration": 13,
    "start_time": "2023-10-14T10:15:25.991Z"
   },
   {
    "duration": 7,
    "start_time": "2023-10-14T10:15:32.904Z"
   },
   {
    "duration": 4,
    "start_time": "2023-10-14T10:15:51.360Z"
   },
   {
    "duration": 7,
    "start_time": "2023-10-14T10:15:54.427Z"
   },
   {
    "duration": 8,
    "start_time": "2023-10-14T10:16:00.968Z"
   },
   {
    "duration": 7,
    "start_time": "2023-10-14T10:16:10.092Z"
   },
   {
    "duration": 6,
    "start_time": "2023-10-14T10:16:50.205Z"
   },
   {
    "duration": 116,
    "start_time": "2023-10-14T10:17:13.092Z"
   },
   {
    "duration": 125,
    "start_time": "2023-10-14T10:17:26.537Z"
   },
   {
    "duration": 124,
    "start_time": "2023-10-14T10:17:43.437Z"
   },
   {
    "duration": 117,
    "start_time": "2023-10-14T10:17:54.506Z"
   },
   {
    "duration": 84,
    "start_time": "2023-10-14T10:18:58.747Z"
   },
   {
    "duration": 135,
    "start_time": "2023-10-14T10:19:04.684Z"
   },
   {
    "duration": 132,
    "start_time": "2023-10-14T10:19:08.614Z"
   },
   {
    "duration": 130,
    "start_time": "2023-10-14T10:20:04.199Z"
   },
   {
    "duration": 138,
    "start_time": "2023-10-14T10:20:13.279Z"
   },
   {
    "duration": 65,
    "start_time": "2023-10-14T10:21:29.301Z"
   },
   {
    "duration": 248,
    "start_time": "2023-10-14T10:23:28.524Z"
   },
   {
    "duration": 286,
    "start_time": "2023-10-14T10:23:36.307Z"
   },
   {
    "duration": 193,
    "start_time": "2023-10-14T10:23:50.214Z"
   },
   {
    "duration": 176,
    "start_time": "2023-10-14T10:24:09.959Z"
   },
   {
    "duration": 197,
    "start_time": "2023-10-14T10:24:13.763Z"
   },
   {
    "duration": 195,
    "start_time": "2023-10-14T10:24:46.202Z"
   },
   {
    "duration": 9,
    "start_time": "2023-10-14T10:27:00.344Z"
   },
   {
    "duration": 9,
    "start_time": "2023-10-14T10:27:08.498Z"
   },
   {
    "duration": 5,
    "start_time": "2023-10-14T10:27:20.687Z"
   },
   {
    "duration": 6,
    "start_time": "2023-10-14T10:27:31.842Z"
   },
   {
    "duration": 6,
    "start_time": "2023-10-14T10:28:34.660Z"
   },
   {
    "duration": 55,
    "start_time": "2023-10-14T10:30:38.121Z"
   },
   {
    "duration": 9,
    "start_time": "2023-10-14T10:30:39.877Z"
   },
   {
    "duration": 3,
    "start_time": "2023-10-14T10:31:05.041Z"
   },
   {
    "duration": 1138,
    "start_time": "2023-10-14T10:31:12.503Z"
   },
   {
    "duration": 51,
    "start_time": "2023-10-14T10:31:13.643Z"
   },
   {
    "duration": 64,
    "start_time": "2023-10-14T10:31:13.696Z"
   },
   {
    "duration": 41,
    "start_time": "2023-10-14T10:31:13.761Z"
   },
   {
    "duration": 12,
    "start_time": "2023-10-14T10:31:13.804Z"
   },
   {
    "duration": 44,
    "start_time": "2023-10-14T10:31:13.817Z"
   },
   {
    "duration": 25,
    "start_time": "2023-10-14T10:31:13.863Z"
   },
   {
    "duration": 25,
    "start_time": "2023-10-14T10:31:13.889Z"
   },
   {
    "duration": 16,
    "start_time": "2023-10-14T10:31:13.916Z"
   },
   {
    "duration": 18,
    "start_time": "2023-10-14T10:31:13.934Z"
   },
   {
    "duration": 34,
    "start_time": "2023-10-14T10:31:13.954Z"
   },
   {
    "duration": 10,
    "start_time": "2023-10-14T10:31:13.990Z"
   },
   {
    "duration": 10,
    "start_time": "2023-10-14T10:31:14.002Z"
   },
   {
    "duration": 7,
    "start_time": "2023-10-14T10:31:14.016Z"
   },
   {
    "duration": 16,
    "start_time": "2023-10-14T10:31:14.025Z"
   },
   {
    "duration": 15,
    "start_time": "2023-10-14T10:31:14.044Z"
   },
   {
    "duration": 19,
    "start_time": "2023-10-14T10:31:14.061Z"
   },
   {
    "duration": 5,
    "start_time": "2023-10-14T10:31:14.082Z"
   },
   {
    "duration": 42,
    "start_time": "2023-10-14T10:31:14.089Z"
   },
   {
    "duration": 171,
    "start_time": "2023-10-14T10:31:14.133Z"
   },
   {
    "duration": 160,
    "start_time": "2023-10-14T10:31:14.306Z"
   },
   {
    "duration": 185,
    "start_time": "2023-10-14T10:31:14.467Z"
   },
   {
    "duration": 4,
    "start_time": "2023-10-14T10:31:14.654Z"
   },
   {
    "duration": 14,
    "start_time": "2023-10-14T10:31:14.660Z"
   },
   {
    "duration": 26,
    "start_time": "2023-10-14T10:31:14.676Z"
   },
   {
    "duration": 5,
    "start_time": "2023-10-14T10:31:14.703Z"
   },
   {
    "duration": 202,
    "start_time": "2023-10-14T10:31:14.710Z"
   },
   {
    "duration": 5,
    "start_time": "2023-10-14T10:31:14.914Z"
   },
   {
    "duration": 7,
    "start_time": "2023-10-14T10:31:14.921Z"
   },
   {
    "duration": 277,
    "start_time": "2023-10-14T10:31:14.929Z"
   },
   {
    "duration": 6,
    "start_time": "2023-10-14T10:31:15.208Z"
   },
   {
    "duration": 11,
    "start_time": "2023-10-14T10:31:15.215Z"
   },
   {
    "duration": 262,
    "start_time": "2023-10-14T10:31:15.227Z"
   },
   {
    "duration": 5,
    "start_time": "2023-10-14T10:31:15.491Z"
   },
   {
    "duration": 142,
    "start_time": "2023-10-14T10:31:15.497Z"
   },
   {
    "duration": 13,
    "start_time": "2023-10-14T10:31:15.640Z"
   },
   {
    "duration": 9,
    "start_time": "2023-10-14T10:31:15.655Z"
   },
   {
    "duration": 10,
    "start_time": "2023-10-14T10:31:15.665Z"
   },
   {
    "duration": 17,
    "start_time": "2023-10-14T10:31:15.676Z"
   },
   {
    "duration": 19,
    "start_time": "2023-10-14T10:31:15.694Z"
   },
   {
    "duration": 14,
    "start_time": "2023-10-14T10:31:15.717Z"
   },
   {
    "duration": 487,
    "start_time": "2023-10-14T10:31:15.732Z"
   },
   {
    "duration": 5,
    "start_time": "2023-10-14T10:31:16.221Z"
   },
   {
    "duration": 511,
    "start_time": "2023-10-14T10:31:16.227Z"
   },
   {
    "duration": 175,
    "start_time": "2023-10-14T10:31:16.740Z"
   },
   {
    "duration": 170,
    "start_time": "2023-10-14T10:31:16.917Z"
   },
   {
    "duration": 5,
    "start_time": "2023-10-14T10:31:17.089Z"
   },
   {
    "duration": 8,
    "start_time": "2023-10-14T10:31:17.095Z"
   },
   {
    "duration": 9,
    "start_time": "2023-10-14T10:31:17.104Z"
   },
   {
    "duration": 6,
    "start_time": "2023-10-14T10:31:17.115Z"
   },
   {
    "duration": 137,
    "start_time": "2023-10-14T10:31:17.122Z"
   },
   {
    "duration": 4,
    "start_time": "2023-10-14T10:31:17.261Z"
   },
   {
    "duration": 24,
    "start_time": "2023-10-14T10:31:17.266Z"
   },
   {
    "duration": 15,
    "start_time": "2023-10-14T10:31:17.291Z"
   },
   {
    "duration": 183,
    "start_time": "2023-10-14T10:31:17.308Z"
   },
   {
    "duration": 10,
    "start_time": "2023-10-14T10:31:17.492Z"
   },
   {
    "duration": 22,
    "start_time": "2023-10-14T10:31:17.503Z"
   },
   {
    "duration": 35,
    "start_time": "2023-10-14T10:31:17.526Z"
   },
   {
    "duration": 26,
    "start_time": "2023-10-14T10:31:17.563Z"
   },
   {
    "duration": 18,
    "start_time": "2023-10-14T10:31:17.590Z"
   },
   {
    "duration": 11,
    "start_time": "2023-10-14T10:31:17.610Z"
   },
   {
    "duration": 37,
    "start_time": "2023-10-14T10:31:17.623Z"
   },
   {
    "duration": 19,
    "start_time": "2023-10-14T10:31:17.662Z"
   },
   {
    "duration": 5,
    "start_time": "2023-10-14T10:31:17.683Z"
   },
   {
    "duration": 26,
    "start_time": "2023-10-14T10:31:17.690Z"
   },
   {
    "duration": 25,
    "start_time": "2023-10-14T10:31:17.718Z"
   },
   {
    "duration": 29,
    "start_time": "2023-10-14T10:31:17.745Z"
   },
   {
    "duration": 1397,
    "start_time": "2023-10-14T10:31:17.776Z"
   },
   {
    "duration": 5,
    "start_time": "2023-10-14T10:31:19.175Z"
   },
   {
    "duration": 1392,
    "start_time": "2023-10-14T10:31:19.182Z"
   },
   {
    "duration": 4,
    "start_time": "2023-10-14T10:31:20.576Z"
   },
   {
    "duration": 21,
    "start_time": "2023-10-14T10:31:20.581Z"
   },
   {
    "duration": 19,
    "start_time": "2023-10-14T10:31:20.603Z"
   },
   {
    "duration": 6,
    "start_time": "2023-10-14T10:35:50.849Z"
   },
   {
    "duration": 6,
    "start_time": "2023-10-14T10:35:51.549Z"
   },
   {
    "duration": 7,
    "start_time": "2023-10-14T10:35:52.306Z"
   },
   {
    "duration": 6,
    "start_time": "2023-10-14T10:36:29.489Z"
   },
   {
    "duration": 5,
    "start_time": "2023-10-14T10:36:36.030Z"
   },
   {
    "duration": 1113,
    "start_time": "2023-10-14T10:39:02.359Z"
   },
   {
    "duration": 42,
    "start_time": "2023-10-14T10:39:03.474Z"
   },
   {
    "duration": 80,
    "start_time": "2023-10-14T10:39:03.517Z"
   },
   {
    "duration": 37,
    "start_time": "2023-10-14T10:39:03.598Z"
   },
   {
    "duration": 12,
    "start_time": "2023-10-14T10:39:03.637Z"
   },
   {
    "duration": 10,
    "start_time": "2023-10-14T10:39:03.651Z"
   },
   {
    "duration": 15,
    "start_time": "2023-10-14T10:39:03.663Z"
   },
   {
    "duration": 12,
    "start_time": "2023-10-14T10:39:03.680Z"
   },
   {
    "duration": 13,
    "start_time": "2023-10-14T10:39:03.693Z"
   },
   {
    "duration": 17,
    "start_time": "2023-10-14T10:39:03.708Z"
   },
   {
    "duration": 13,
    "start_time": "2023-10-14T10:39:03.727Z"
   },
   {
    "duration": 16,
    "start_time": "2023-10-14T10:39:03.741Z"
   },
   {
    "duration": 11,
    "start_time": "2023-10-14T10:39:03.758Z"
   },
   {
    "duration": 14,
    "start_time": "2023-10-14T10:39:03.770Z"
   },
   {
    "duration": 3,
    "start_time": "2023-10-14T10:39:03.786Z"
   },
   {
    "duration": 13,
    "start_time": "2023-10-14T10:39:03.790Z"
   },
   {
    "duration": 7,
    "start_time": "2023-10-14T10:39:03.804Z"
   },
   {
    "duration": 9,
    "start_time": "2023-10-14T10:39:03.813Z"
   },
   {
    "duration": 27,
    "start_time": "2023-10-14T10:39:03.824Z"
   },
   {
    "duration": 147,
    "start_time": "2023-10-14T10:39:03.852Z"
   },
   {
    "duration": 184,
    "start_time": "2023-10-14T10:39:04.000Z"
   },
   {
    "duration": 187,
    "start_time": "2023-10-14T10:39:04.186Z"
   },
   {
    "duration": 3,
    "start_time": "2023-10-14T10:39:04.375Z"
   },
   {
    "duration": 7,
    "start_time": "2023-10-14T10:39:04.379Z"
   },
   {
    "duration": 17,
    "start_time": "2023-10-14T10:39:04.387Z"
   },
   {
    "duration": 4,
    "start_time": "2023-10-14T10:39:04.406Z"
   },
   {
    "duration": 210,
    "start_time": "2023-10-14T10:39:04.411Z"
   },
   {
    "duration": 4,
    "start_time": "2023-10-14T10:39:04.625Z"
   },
   {
    "duration": 14,
    "start_time": "2023-10-14T10:39:04.631Z"
   },
   {
    "duration": 254,
    "start_time": "2023-10-14T10:39:04.646Z"
   },
   {
    "duration": 6,
    "start_time": "2023-10-14T10:39:04.901Z"
   },
   {
    "duration": 17,
    "start_time": "2023-10-14T10:39:04.909Z"
   },
   {
    "duration": 264,
    "start_time": "2023-10-14T10:39:04.928Z"
   },
   {
    "duration": 5,
    "start_time": "2023-10-14T10:39:05.194Z"
   },
   {
    "duration": 161,
    "start_time": "2023-10-14T10:39:05.201Z"
   },
   {
    "duration": 12,
    "start_time": "2023-10-14T10:39:05.363Z"
   },
   {
    "duration": 20,
    "start_time": "2023-10-14T10:39:05.376Z"
   },
   {
    "duration": 4,
    "start_time": "2023-10-14T10:39:05.397Z"
   },
   {
    "duration": 37,
    "start_time": "2023-10-14T10:39:05.403Z"
   },
   {
    "duration": 24,
    "start_time": "2023-10-14T10:39:05.441Z"
   },
   {
    "duration": 12,
    "start_time": "2023-10-14T10:39:05.467Z"
   },
   {
    "duration": 479,
    "start_time": "2023-10-14T10:39:05.481Z"
   },
   {
    "duration": 6,
    "start_time": "2023-10-14T10:39:05.962Z"
   },
   {
    "duration": 502,
    "start_time": "2023-10-14T10:39:05.970Z"
   },
   {
    "duration": 161,
    "start_time": "2023-10-14T10:39:06.474Z"
   },
   {
    "duration": 164,
    "start_time": "2023-10-14T10:39:06.643Z"
   },
   {
    "duration": 5,
    "start_time": "2023-10-14T10:39:06.808Z"
   },
   {
    "duration": 61,
    "start_time": "2023-10-14T10:39:06.814Z"
   },
   {
    "duration": 76,
    "start_time": "2023-10-14T10:39:06.877Z"
   },
   {
    "duration": 59,
    "start_time": "2023-10-14T10:39:06.955Z"
   },
   {
    "duration": 160,
    "start_time": "2023-10-14T10:39:07.016Z"
   },
   {
    "duration": 5,
    "start_time": "2023-10-14T10:39:07.178Z"
   },
   {
    "duration": 52,
    "start_time": "2023-10-14T10:39:07.184Z"
   },
   {
    "duration": 30,
    "start_time": "2023-10-14T10:39:07.237Z"
   },
   {
    "duration": 213,
    "start_time": "2023-10-14T10:39:07.269Z"
   },
   {
    "duration": 11,
    "start_time": "2023-10-14T10:39:07.484Z"
   },
   {
    "duration": 28,
    "start_time": "2023-10-14T10:39:07.496Z"
   },
   {
    "duration": 23,
    "start_time": "2023-10-14T10:39:07.526Z"
   },
   {
    "duration": 15,
    "start_time": "2023-10-14T10:39:07.551Z"
   },
   {
    "duration": 24,
    "start_time": "2023-10-14T10:39:07.567Z"
   },
   {
    "duration": 15,
    "start_time": "2023-10-14T10:39:07.593Z"
   },
   {
    "duration": 58,
    "start_time": "2023-10-14T10:39:07.610Z"
   },
   {
    "duration": 24,
    "start_time": "2023-10-14T10:39:07.670Z"
   },
   {
    "duration": 16,
    "start_time": "2023-10-14T10:39:07.696Z"
   },
   {
    "duration": 35,
    "start_time": "2023-10-14T10:39:07.714Z"
   },
   {
    "duration": 41,
    "start_time": "2023-10-14T10:39:07.751Z"
   },
   {
    "duration": 28,
    "start_time": "2023-10-14T10:39:07.794Z"
   },
   {
    "duration": 1503,
    "start_time": "2023-10-14T10:39:07.824Z"
   },
   {
    "duration": 5,
    "start_time": "2023-10-14T10:39:09.330Z"
   },
   {
    "duration": 134093,
    "start_time": "2023-10-14T10:39:09.336Z"
   },
   {
    "duration": 0,
    "start_time": "2023-10-14T10:41:23.431Z"
   },
   {
    "duration": 0,
    "start_time": "2023-10-14T10:41:23.432Z"
   },
   {
    "duration": 0,
    "start_time": "2023-10-14T10:41:23.444Z"
   },
   {
    "duration": 21885,
    "start_time": "2023-10-14T10:41:47.181Z"
   },
   {
    "duration": 1584,
    "start_time": "2023-10-14T10:42:12.715Z"
   },
   {
    "duration": 4,
    "start_time": "2023-10-14T10:42:23.997Z"
   },
   {
    "duration": 597,
    "start_time": "2023-10-14T10:43:31.461Z"
   },
   {
    "duration": 1415,
    "start_time": "2023-10-14T10:43:55.645Z"
   },
   {
    "duration": 242,
    "start_time": "2023-10-14T10:45:00.495Z"
   },
   {
    "duration": 1421,
    "start_time": "2023-10-14T10:45:09.053Z"
   },
   {
    "duration": 1150,
    "start_time": "2023-10-14T10:47:39.442Z"
   },
   {
    "duration": 46,
    "start_time": "2023-10-14T10:47:40.594Z"
   },
   {
    "duration": 57,
    "start_time": "2023-10-14T10:47:40.642Z"
   },
   {
    "duration": 38,
    "start_time": "2023-10-14T10:47:40.701Z"
   },
   {
    "duration": 11,
    "start_time": "2023-10-14T10:47:40.741Z"
   },
   {
    "duration": 17,
    "start_time": "2023-10-14T10:47:40.753Z"
   },
   {
    "duration": 53,
    "start_time": "2023-10-14T10:47:40.771Z"
   },
   {
    "duration": 53,
    "start_time": "2023-10-14T10:47:40.825Z"
   },
   {
    "duration": 18,
    "start_time": "2023-10-14T10:47:40.880Z"
   },
   {
    "duration": 18,
    "start_time": "2023-10-14T10:47:40.900Z"
   },
   {
    "duration": 26,
    "start_time": "2023-10-14T10:47:40.919Z"
   },
   {
    "duration": 9,
    "start_time": "2023-10-14T10:47:40.946Z"
   },
   {
    "duration": 12,
    "start_time": "2023-10-14T10:47:40.956Z"
   },
   {
    "duration": 19,
    "start_time": "2023-10-14T10:47:40.970Z"
   },
   {
    "duration": 19,
    "start_time": "2023-10-14T10:47:40.991Z"
   },
   {
    "duration": 9,
    "start_time": "2023-10-14T10:47:41.011Z"
   },
   {
    "duration": 42,
    "start_time": "2023-10-14T10:47:41.022Z"
   },
   {
    "duration": 14,
    "start_time": "2023-10-14T10:47:41.066Z"
   },
   {
    "duration": 32,
    "start_time": "2023-10-14T10:47:41.082Z"
   },
   {
    "duration": 146,
    "start_time": "2023-10-14T10:47:41.116Z"
   },
   {
    "duration": 145,
    "start_time": "2023-10-14T10:47:41.263Z"
   },
   {
    "duration": 193,
    "start_time": "2023-10-14T10:47:41.410Z"
   },
   {
    "duration": 4,
    "start_time": "2023-10-14T10:47:41.604Z"
   },
   {
    "duration": 11,
    "start_time": "2023-10-14T10:47:41.609Z"
   },
   {
    "duration": 23,
    "start_time": "2023-10-14T10:47:41.622Z"
   },
   {
    "duration": 3,
    "start_time": "2023-10-14T10:47:41.647Z"
   },
   {
    "duration": 226,
    "start_time": "2023-10-14T10:47:41.652Z"
   },
   {
    "duration": 6,
    "start_time": "2023-10-14T10:47:41.882Z"
   },
   {
    "duration": 5,
    "start_time": "2023-10-14T10:47:41.889Z"
   },
   {
    "duration": 270,
    "start_time": "2023-10-14T10:47:41.895Z"
   },
   {
    "duration": 5,
    "start_time": "2023-10-14T10:47:42.167Z"
   },
   {
    "duration": 20,
    "start_time": "2023-10-14T10:47:42.174Z"
   },
   {
    "duration": 265,
    "start_time": "2023-10-14T10:47:42.196Z"
   },
   {
    "duration": 7,
    "start_time": "2023-10-14T10:47:42.462Z"
   },
   {
    "duration": 183,
    "start_time": "2023-10-14T10:47:42.470Z"
   },
   {
    "duration": 12,
    "start_time": "2023-10-14T10:47:42.654Z"
   },
   {
    "duration": 10,
    "start_time": "2023-10-14T10:47:42.667Z"
   },
   {
    "duration": 16,
    "start_time": "2023-10-14T10:47:42.678Z"
   },
   {
    "duration": 38,
    "start_time": "2023-10-14T10:47:42.696Z"
   },
   {
    "duration": 25,
    "start_time": "2023-10-14T10:47:42.736Z"
   },
   {
    "duration": 22,
    "start_time": "2023-10-14T10:47:42.762Z"
   },
   {
    "duration": 480,
    "start_time": "2023-10-14T10:47:42.786Z"
   },
   {
    "duration": 5,
    "start_time": "2023-10-14T10:47:43.268Z"
   },
   {
    "duration": 493,
    "start_time": "2023-10-14T10:47:43.274Z"
   },
   {
    "duration": 178,
    "start_time": "2023-10-14T10:47:43.768Z"
   },
   {
    "duration": 217,
    "start_time": "2023-10-14T10:47:43.948Z"
   },
   {
    "duration": 7,
    "start_time": "2023-10-14T10:47:44.167Z"
   },
   {
    "duration": 13,
    "start_time": "2023-10-14T10:47:44.175Z"
   },
   {
    "duration": 7,
    "start_time": "2023-10-14T10:47:44.190Z"
   },
   {
    "duration": 7,
    "start_time": "2023-10-14T10:47:44.198Z"
   },
   {
    "duration": 146,
    "start_time": "2023-10-14T10:47:44.207Z"
   },
   {
    "duration": 4,
    "start_time": "2023-10-14T10:47:44.354Z"
   },
   {
    "duration": 17,
    "start_time": "2023-10-14T10:47:44.360Z"
   },
   {
    "duration": 15,
    "start_time": "2023-10-14T10:47:44.378Z"
   },
   {
    "duration": 210,
    "start_time": "2023-10-14T10:47:44.395Z"
   },
   {
    "duration": 10,
    "start_time": "2023-10-14T10:47:44.606Z"
   },
   {
    "duration": 5,
    "start_time": "2023-10-14T10:47:44.617Z"
   },
   {
    "duration": 21,
    "start_time": "2023-10-14T10:47:44.623Z"
   },
   {
    "duration": 7,
    "start_time": "2023-10-14T10:47:44.645Z"
   },
   {
    "duration": 5,
    "start_time": "2023-10-14T10:47:44.653Z"
   },
   {
    "duration": 19,
    "start_time": "2023-10-14T10:47:44.659Z"
   },
   {
    "duration": 31,
    "start_time": "2023-10-14T10:47:44.679Z"
   },
   {
    "duration": 17,
    "start_time": "2023-10-14T10:47:44.711Z"
   },
   {
    "duration": 17,
    "start_time": "2023-10-14T10:47:44.729Z"
   },
   {
    "duration": 49,
    "start_time": "2023-10-14T10:47:44.747Z"
   },
   {
    "duration": 7,
    "start_time": "2023-10-14T10:47:44.798Z"
   },
   {
    "duration": 10,
    "start_time": "2023-10-14T10:47:44.806Z"
   },
   {
    "duration": 1359,
    "start_time": "2023-10-14T10:47:44.818Z"
   },
   {
    "duration": 5,
    "start_time": "2023-10-14T10:47:46.180Z"
   },
   {
    "duration": 1407,
    "start_time": "2023-10-14T10:47:46.187Z"
   },
   {
    "duration": 4,
    "start_time": "2023-10-14T10:47:47.596Z"
   },
   {
    "duration": 6,
    "start_time": "2023-10-14T10:47:47.602Z"
   },
   {
    "duration": 157,
    "start_time": "2023-10-14T10:49:13.409Z"
   },
   {
    "duration": 174,
    "start_time": "2023-10-14T10:49:16.614Z"
   },
   {
    "duration": 165,
    "start_time": "2023-10-14T10:49:20.454Z"
   },
   {
    "duration": 159,
    "start_time": "2023-10-14T10:49:23.381Z"
   },
   {
    "duration": 161,
    "start_time": "2023-10-14T10:49:27.139Z"
   },
   {
    "duration": 1192,
    "start_time": "2023-10-14T10:51:03.221Z"
   },
   {
    "duration": 53,
    "start_time": "2023-10-14T10:51:04.415Z"
   },
   {
    "duration": 72,
    "start_time": "2023-10-14T10:51:04.469Z"
   },
   {
    "duration": 34,
    "start_time": "2023-10-14T10:51:04.543Z"
   },
   {
    "duration": 12,
    "start_time": "2023-10-14T10:51:04.578Z"
   },
   {
    "duration": 18,
    "start_time": "2023-10-14T10:51:04.591Z"
   },
   {
    "duration": 13,
    "start_time": "2023-10-14T10:51:04.611Z"
   },
   {
    "duration": 40,
    "start_time": "2023-10-14T10:51:04.625Z"
   },
   {
    "duration": 12,
    "start_time": "2023-10-14T10:51:04.667Z"
   },
   {
    "duration": 13,
    "start_time": "2023-10-14T10:51:04.682Z"
   },
   {
    "duration": 10,
    "start_time": "2023-10-14T10:51:04.697Z"
   },
   {
    "duration": 18,
    "start_time": "2023-10-14T10:51:04.708Z"
   },
   {
    "duration": 18,
    "start_time": "2023-10-14T10:51:04.727Z"
   },
   {
    "duration": 16,
    "start_time": "2023-10-14T10:51:04.746Z"
   },
   {
    "duration": 13,
    "start_time": "2023-10-14T10:51:04.764Z"
   },
   {
    "duration": 9,
    "start_time": "2023-10-14T10:51:04.779Z"
   },
   {
    "duration": 9,
    "start_time": "2023-10-14T10:51:04.790Z"
   },
   {
    "duration": 13,
    "start_time": "2023-10-14T10:51:04.801Z"
   },
   {
    "duration": 20,
    "start_time": "2023-10-14T10:51:04.816Z"
   },
   {
    "duration": 146,
    "start_time": "2023-10-14T10:51:04.838Z"
   },
   {
    "duration": 149,
    "start_time": "2023-10-14T10:51:04.986Z"
   },
   {
    "duration": 168,
    "start_time": "2023-10-14T10:51:05.136Z"
   },
   {
    "duration": 4,
    "start_time": "2023-10-14T10:51:05.306Z"
   },
   {
    "duration": 10,
    "start_time": "2023-10-14T10:51:05.312Z"
   },
   {
    "duration": 31,
    "start_time": "2023-10-14T10:51:05.323Z"
   },
   {
    "duration": 4,
    "start_time": "2023-10-14T10:51:05.356Z"
   },
   {
    "duration": 206,
    "start_time": "2023-10-14T10:51:05.362Z"
   },
   {
    "duration": 5,
    "start_time": "2023-10-14T10:51:05.574Z"
   },
   {
    "duration": 46,
    "start_time": "2023-10-14T10:51:05.581Z"
   },
   {
    "duration": 261,
    "start_time": "2023-10-14T10:51:05.629Z"
   },
   {
    "duration": 7,
    "start_time": "2023-10-14T10:51:05.891Z"
   },
   {
    "duration": 36,
    "start_time": "2023-10-14T10:51:05.900Z"
   },
   {
    "duration": 266,
    "start_time": "2023-10-14T10:51:05.938Z"
   },
   {
    "duration": 6,
    "start_time": "2023-10-14T10:51:06.206Z"
   },
   {
    "duration": 161,
    "start_time": "2023-10-14T10:51:06.214Z"
   },
   {
    "duration": 13,
    "start_time": "2023-10-14T10:51:06.377Z"
   },
   {
    "duration": 27,
    "start_time": "2023-10-14T10:51:06.391Z"
   },
   {
    "duration": 17,
    "start_time": "2023-10-14T10:51:06.419Z"
   },
   {
    "duration": 27,
    "start_time": "2023-10-14T10:51:06.438Z"
   },
   {
    "duration": 26,
    "start_time": "2023-10-14T10:51:06.467Z"
   },
   {
    "duration": 17,
    "start_time": "2023-10-14T10:51:06.495Z"
   },
   {
    "duration": 470,
    "start_time": "2023-10-14T10:51:06.513Z"
   },
   {
    "duration": 5,
    "start_time": "2023-10-14T10:51:06.984Z"
   },
   {
    "duration": 474,
    "start_time": "2023-10-14T10:51:06.991Z"
   },
   {
    "duration": 177,
    "start_time": "2023-10-14T10:51:07.467Z"
   },
   {
    "duration": 170,
    "start_time": "2023-10-14T10:51:07.646Z"
   },
   {
    "duration": 5,
    "start_time": "2023-10-14T10:51:07.818Z"
   },
   {
    "duration": 19,
    "start_time": "2023-10-14T10:51:07.825Z"
   },
   {
    "duration": 9,
    "start_time": "2023-10-14T10:51:07.846Z"
   },
   {
    "duration": 27,
    "start_time": "2023-10-14T10:51:07.856Z"
   },
   {
    "duration": 136,
    "start_time": "2023-10-14T10:51:07.884Z"
   },
   {
    "duration": 4,
    "start_time": "2023-10-14T10:51:08.022Z"
   },
   {
    "duration": 31,
    "start_time": "2023-10-14T10:51:08.028Z"
   },
   {
    "duration": 30,
    "start_time": "2023-10-14T10:51:08.061Z"
   },
   {
    "duration": 181,
    "start_time": "2023-10-14T10:51:08.093Z"
   },
   {
    "duration": 11,
    "start_time": "2023-10-14T10:51:08.276Z"
   },
   {
    "duration": 27,
    "start_time": "2023-10-14T10:51:08.288Z"
   },
   {
    "duration": 30,
    "start_time": "2023-10-14T10:51:08.316Z"
   },
   {
    "duration": 25,
    "start_time": "2023-10-14T10:51:08.348Z"
   },
   {
    "duration": 25,
    "start_time": "2023-10-14T10:51:08.375Z"
   },
   {
    "duration": 30,
    "start_time": "2023-10-14T10:51:08.402Z"
   },
   {
    "duration": 74,
    "start_time": "2023-10-14T10:51:08.433Z"
   },
   {
    "duration": 17,
    "start_time": "2023-10-14T10:51:08.509Z"
   },
   {
    "duration": 18,
    "start_time": "2023-10-14T10:51:08.528Z"
   },
   {
    "duration": 44,
    "start_time": "2023-10-14T10:51:08.548Z"
   },
   {
    "duration": 23,
    "start_time": "2023-10-14T10:51:08.594Z"
   },
   {
    "duration": 44,
    "start_time": "2023-10-14T10:51:08.618Z"
   },
   {
    "duration": 1403,
    "start_time": "2023-10-14T10:51:08.663Z"
   },
   {
    "duration": 5,
    "start_time": "2023-10-14T10:51:10.068Z"
   },
   {
    "duration": 1451,
    "start_time": "2023-10-14T10:51:10.074Z"
   },
   {
    "duration": 4,
    "start_time": "2023-10-14T10:51:11.527Z"
   },
   {
    "duration": 30,
    "start_time": "2023-10-14T10:51:11.544Z"
   },
   {
    "duration": 1874,
    "start_time": "2023-10-14T16:27:24.487Z"
   },
   {
    "duration": 127,
    "start_time": "2023-10-14T16:27:26.364Z"
   },
   {
    "duration": 107,
    "start_time": "2023-10-14T16:27:26.493Z"
   },
   {
    "duration": 55,
    "start_time": "2023-10-14T16:27:26.640Z"
   },
   {
    "duration": 47,
    "start_time": "2023-10-14T16:27:26.698Z"
   },
   {
    "duration": 11,
    "start_time": "2023-10-14T16:27:26.746Z"
   },
   {
    "duration": 11,
    "start_time": "2023-10-14T16:27:26.759Z"
   },
   {
    "duration": 78,
    "start_time": "2023-10-14T16:27:26.772Z"
   },
   {
    "duration": 8,
    "start_time": "2023-10-14T16:27:26.851Z"
   },
   {
    "duration": 11,
    "start_time": "2023-10-14T16:27:26.861Z"
   },
   {
    "duration": 10,
    "start_time": "2023-10-14T16:27:26.873Z"
   },
   {
    "duration": 5,
    "start_time": "2023-10-14T16:27:26.940Z"
   },
   {
    "duration": 18,
    "start_time": "2023-10-14T16:27:26.947Z"
   },
   {
    "duration": 6,
    "start_time": "2023-10-14T16:27:26.969Z"
   },
   {
    "duration": 81,
    "start_time": "2023-10-14T16:27:26.976Z"
   },
   {
    "duration": 7,
    "start_time": "2023-10-14T16:27:27.059Z"
   },
   {
    "duration": 8,
    "start_time": "2023-10-14T16:27:27.068Z"
   },
   {
    "duration": 4,
    "start_time": "2023-10-14T16:27:27.077Z"
   },
   {
    "duration": 24,
    "start_time": "2023-10-14T16:27:27.140Z"
   },
   {
    "duration": 313,
    "start_time": "2023-10-14T16:27:27.166Z"
   },
   {
    "duration": 362,
    "start_time": "2023-10-14T16:27:27.481Z"
   },
   {
    "duration": 326,
    "start_time": "2023-10-14T16:27:27.845Z"
   },
   {
    "duration": 4,
    "start_time": "2023-10-14T16:27:28.173Z"
   },
   {
    "duration": 63,
    "start_time": "2023-10-14T16:27:28.179Z"
   },
   {
    "duration": 16,
    "start_time": "2023-10-14T16:27:28.243Z"
   },
   {
    "duration": 4,
    "start_time": "2023-10-14T16:27:28.260Z"
   },
   {
    "duration": 417,
    "start_time": "2023-10-14T16:27:28.265Z"
   },
   {
    "duration": 6,
    "start_time": "2023-10-14T16:27:28.740Z"
   },
   {
    "duration": 14,
    "start_time": "2023-10-14T16:27:28.747Z"
   },
   {
    "duration": 477,
    "start_time": "2023-10-14T16:27:28.763Z"
   },
   {
    "duration": 6,
    "start_time": "2023-10-14T16:27:29.242Z"
   },
   {
    "duration": 26,
    "start_time": "2023-10-14T16:27:29.250Z"
   },
   {
    "duration": 470,
    "start_time": "2023-10-14T16:27:29.277Z"
   },
   {
    "duration": 6,
    "start_time": "2023-10-14T16:27:29.749Z"
   },
   {
    "duration": 304,
    "start_time": "2023-10-14T16:27:29.757Z"
   },
   {
    "duration": 15,
    "start_time": "2023-10-14T16:27:30.062Z"
   },
   {
    "duration": 65,
    "start_time": "2023-10-14T16:27:30.079Z"
   },
   {
    "duration": 15,
    "start_time": "2023-10-14T16:27:30.146Z"
   },
   {
    "duration": 78,
    "start_time": "2023-10-14T16:27:30.163Z"
   },
   {
    "duration": 24,
    "start_time": "2023-10-14T16:27:30.242Z"
   },
   {
    "duration": 8,
    "start_time": "2023-10-14T16:27:30.272Z"
   },
   {
    "duration": 891,
    "start_time": "2023-10-14T16:27:30.281Z"
   },
   {
    "duration": 6,
    "start_time": "2023-10-14T16:27:31.174Z"
   },
   {
    "duration": 904,
    "start_time": "2023-10-14T16:27:31.239Z"
   },
   {
    "duration": 271,
    "start_time": "2023-10-14T16:27:32.145Z"
   },
   {
    "duration": 199,
    "start_time": "2023-10-14T16:27:32.418Z"
   },
   {
    "duration": 6,
    "start_time": "2023-10-14T16:27:32.619Z"
   },
   {
    "duration": 25,
    "start_time": "2023-10-14T16:27:32.626Z"
   },
   {
    "duration": 8,
    "start_time": "2023-10-14T16:27:32.653Z"
   },
   {
    "duration": 23,
    "start_time": "2023-10-14T16:27:32.663Z"
   },
   {
    "duration": 110,
    "start_time": "2023-10-14T16:27:32.688Z"
   },
   {
    "duration": 5,
    "start_time": "2023-10-14T16:27:32.800Z"
   },
   {
    "duration": 13,
    "start_time": "2023-10-14T16:27:32.806Z"
   },
   {
    "duration": 24,
    "start_time": "2023-10-14T16:27:32.820Z"
   },
   {
    "duration": 156,
    "start_time": "2023-10-14T16:27:32.846Z"
   },
   {
    "duration": 10,
    "start_time": "2023-10-14T16:27:33.004Z"
   },
   {
    "duration": 5,
    "start_time": "2023-10-14T16:27:33.015Z"
   },
   {
    "duration": 21,
    "start_time": "2023-10-14T16:27:33.022Z"
   },
   {
    "duration": 6,
    "start_time": "2023-10-14T16:27:33.044Z"
   },
   {
    "duration": 4,
    "start_time": "2023-10-14T16:27:33.052Z"
   },
   {
    "duration": 6,
    "start_time": "2023-10-14T16:27:33.057Z"
   },
   {
    "duration": 27,
    "start_time": "2023-10-14T16:27:33.064Z"
   },
   {
    "duration": 47,
    "start_time": "2023-10-14T16:27:33.093Z"
   },
   {
    "duration": 4,
    "start_time": "2023-10-14T16:27:33.141Z"
   },
   {
    "duration": 17,
    "start_time": "2023-10-14T16:27:33.146Z"
   },
   {
    "duration": 8,
    "start_time": "2023-10-14T16:27:33.164Z"
   },
   {
    "duration": 14,
    "start_time": "2023-10-14T16:27:33.174Z"
   },
   {
    "duration": 1188,
    "start_time": "2023-10-14T16:27:33.189Z"
   },
   {
    "duration": 5,
    "start_time": "2023-10-14T16:27:34.378Z"
   },
   {
    "duration": 1221,
    "start_time": "2023-10-14T16:27:34.384Z"
   },
   {
    "duration": 6,
    "start_time": "2023-10-14T16:27:35.606Z"
   },
   {
    "duration": 15,
    "start_time": "2023-10-14T16:27:35.614Z"
   }
  ],
  "kernelspec": {
   "display_name": "Python 3 (ipykernel)",
   "language": "python",
   "name": "python3"
  },
  "language_info": {
   "codemirror_mode": {
    "name": "ipython",
    "version": 3
   },
   "file_extension": ".py",
   "mimetype": "text/x-python",
   "name": "python",
   "nbconvert_exporter": "python",
   "pygments_lexer": "ipython3",
   "version": "3.9.5"
  },
  "toc": {
   "base_numbering": 1,
   "nav_menu": {},
   "number_sections": true,
   "sideBar": true,
   "skip_h1_title": true,
   "title_cell": "Table of Contents",
   "title_sidebar": "Contents",
   "toc_cell": false,
   "toc_position": {},
   "toc_section_display": true,
   "toc_window_display": false
  }
 },
 "nbformat": 4,
 "nbformat_minor": 5
}
